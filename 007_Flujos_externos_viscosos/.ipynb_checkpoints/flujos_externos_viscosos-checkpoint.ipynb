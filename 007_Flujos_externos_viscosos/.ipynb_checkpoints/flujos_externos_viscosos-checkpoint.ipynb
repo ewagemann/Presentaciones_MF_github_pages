{
 "cells": [
  {
   "cell_type": "code",
   "execution_count": 1,
   "id": "5687c08e-5eb3-4080-8cb6-83eb076b7278",
   "metadata": {
    "slideshow": {
     "slide_type": "skip"
    },
    "tags": []
   },
   "outputs": [
    {
     "data": {
      "application/javascript": [
       "MathJax.Hub.Queue(\n",
       "  [\"resetEquationNumbers\", MathJax.InputJax.TeX],\n",
       "  [\"PreProcess\", MathJax.Hub],\n",
       "  [\"Reprocess\", MathJax.Hub]\n",
       ");\n",
       "\n",
       "MathJax.Hub.Config({\n",
       "    TeX: { equationNumbers: { autoNumber: \"AMS\" } }\n",
       "});\n"
      ],
      "text/plain": [
       "<IPython.core.display.Javascript object>"
      ]
     },
     "metadata": {},
     "output_type": "display_data"
    }
   ],
   "source": [
    "%%javascript\n",
    "MathJax.Hub.Queue(\n",
    "  [\"resetEquationNumbers\", MathJax.InputJax.TeX],\n",
    "  [\"PreProcess\", MathJax.Hub],\n",
    "  [\"Reprocess\", MathJax.Hub]\n",
    ");\n",
    "\n",
    "MathJax.Hub.Config({\n",
    "    TeX: { equationNumbers: { autoNumber: \"AMS\" } }\n",
    "});"
   ]
  },
  {
   "cell_type": "code",
   "execution_count": 2,
   "id": "a6a04b78-b961-41c3-a1b5-84bf0496abb1",
   "metadata": {
    "slideshow": {
     "slide_type": "skip"
    },
    "tags": []
   },
   "outputs": [],
   "source": [
    "%matplotlib widget\n",
    "import numpy as np\n",
    "import matplotlib.pyplot as plt\n",
    "import ipywidgets as widgets\n",
    "import scipy.optimize\n",
    "from matplotlib.ticker import FormatStrFormatter\n",
    "import pandas as pd"
   ]
  },
  {
   "cell_type": "markdown",
   "id": "5c1a916a-6bc7-466c-9e39-9ebdccf6d0ab",
   "metadata": {
    "slideshow": {
     "slide_type": "skip"
    },
    "tags": []
   },
   "source": [
    "# Diapo base"
   ]
  },
  {
   "cell_type": "raw",
   "id": "e2330466-69cf-4811-b5b5-74c4b7019ed7",
   "metadata": {
    "slideshow": {
     "slide_type": "skip"
    },
    "tags": []
   },
   "source": [
    "<div class='diapo'>\n",
    "    <div class='base'>\n",
    "        <div class='base header'>\n",
    "        \n",
    "        </div>\n",
    "        <div class='base body'>\n",
    "        \n",
    "        </div>\n",
    "    </div>\n",
    "</div>"
   ]
  },
  {
   "cell_type": "markdown",
   "id": "bbff13e0-196c-46c2-bfb9-49228f49ccdb",
   "metadata": {
    "slideshow": {
     "slide_type": "skip"
    },
    "tags": []
   },
   "source": [
    "# Diapo alternativa"
   ]
  },
  {
   "cell_type": "raw",
   "id": "054814c0-46d8-48e4-b1ef-1cbef25214d8",
   "metadata": {
    "slideshow": {
     "slide_type": "skip"
    },
    "tags": []
   },
   "source": [
    "<div class='diapo'>\n",
    "    <div class='base'>\n",
    "        <div class='alternativa_header'>\n",
    "        \n",
    "        </div>\n",
    "        <div class='alternativa_body'>\n",
    "        \n",
    "        </div>\n",
    "    </div>\n",
    "</div>"
   ]
  },
  {
   "cell_type": "markdown",
   "id": "34953df3-f082-4e5e-b79f-38722ed57c37",
   "metadata": {
    "slideshow": {
     "slide_type": "skip"
    },
    "tags": []
   },
   "source": [
    "# Diapo título"
   ]
  },
  {
   "cell_type": "raw",
   "id": "66af4b14-f375-4735-9022-249ab0512fd6",
   "metadata": {
    "slideshow": {
     "slide_type": "skip"
    },
    "tags": []
   },
   "source": [
    "<div class='diapo'>\n",
    "    <div class='titulo'>\n",
    "    </div>\n",
    "</div>"
   ]
  },
  {
   "cell_type": "markdown",
   "id": "a90ac82a-dd69-48a9-900e-454f333a3be5",
   "metadata": {
    "slideshow": {
     "slide_type": "skip"
    },
    "tags": []
   },
   "source": [
    "# Portada"
   ]
  },
  {
   "cell_type": "raw",
   "id": "1031675c-2825-4b29-b289-5ba4a5df96f9",
   "metadata": {
    "slideshow": {
     "slide_type": "slide"
    },
    "tags": []
   },
   "source": [
    "<div class='diapo'>\n",
    "    <div class='base'>\n",
    "    <table class='portada' style='width:100%'>\n",
    "        <tr class='portadatr' style='vertical-align:center'>\n",
    "            <td class='portada1' style='width:25%; border: 0px solid black'>\n",
    "                <center>\n",
    "                    <img src=Figures/udec.jpg height=120px>\n",
    "                </center>\n",
    "            </td>\n",
    "            <td class='portada2' style='width:50%; border: 0px solid black'> \n",
    "                <center> \n",
    "                    <p class='portada institucion'>\n",
    "                        Universidad de Concepción <br>\n",
    "                        Facultad de Ingeniería <br>\n",
    "                        Departamento de Ingeniería Mecánica\n",
    "                    </p>\n",
    "                </center>\n",
    "            </td>\n",
    "            <td class='portada3' style='width:25%; border: 0px solid black'>\n",
    "                <center>\n",
    "                    <img src=Figures/DIM.png height=70px>\n",
    "                </center>\n",
    "            </td>    \n",
    "        </tr>\n",
    "    </table>\n",
    "        <div class='base body'>\n",
    "<center>\n",
    "\n",
    "    <p class='portada asignatura'> \n",
    "        <b>Mecánica de fluidos</b> \n",
    "    </p>\n",
    "    <p style=\"font-size:5px\">\n",
    "    <br>\n",
    "    </p>\n",
    "    <p class='portada capitulo'>\n",
    "        <b> 7- Flujos externos viscosos</b>\n",
    "    </p>\n",
    "</center>\n",
    "</div>\n",
    "</div>\n",
    "</div>"
   ]
  },
  {
   "cell_type": "markdown",
   "id": "e4e93689-0a7e-4cd5-8fcb-788e2278bb65",
   "metadata": {
    "slideshow": {
     "slide_type": "skip"
    },
    "tags": []
   },
   "source": [
    "# Contexto"
   ]
  },
  {
   "cell_type": "raw",
   "id": "f52c39c5-aa97-48c9-869d-d92fa92e7adb",
   "metadata": {
    "raw_mimetype": "text/html",
    "slideshow": {
     "slide_type": "slide"
    },
    "tags": []
   },
   "source": [
    "<div class='diapo'>\n",
    "    <div class='base'>\n",
    "        <div class='base header'>\n",
    "            Contexto\n",
    "        </div>\n",
    "        <div class='base body'>\n",
    "            <p>\n",
    "                Al referirnos a un flujo como externo y viscoso debemos tener en consideración el porqué hacemos esta distinción (externo y viscoso):\n",
    "            </p>\n",
    "            <table style='width:100%;font-size:25px'>\n",
    "                <tr>\n",
    "                    <th style='width:50%;background-color:rgba(255,0,0,0.2)'>\n",
    "                    <center>Externo</center>\n",
    "                    </th>\n",
    "                    <th style='width:50%;background-color:rgba(0,0,255,0.2)'>\n",
    "                      <center> Viscoso</center>\n",
    "                   </th>\n",
    "               </tr>\n",
    "               <tr style='vertical-align:top'>\n",
    "                   <td style='text-align:justify;background-color:rgba(255,0,0,0.2);border:0px'>\n",
    "                        Se refiere a que el flujo no es confinado. Se distinguen de otros flujos como por ejemplo aquellos que ocuren al interior de una tubería. <b>Por lo general, al indicar que un flujo es externo, nos refiriremos a un flujo alrededor de un cuerpo.</b>\n",
    "                    </td>\n",
    "                   <td style='text-align:justify;background-color:rgba(0,0,255,0.2);border:0px'>\n",
    "                     Los efectos viscosos son importantes, en especial en las cercanias de una pared sólida (¡no podremos tratar nuestro flujo como inviscido!).\n",
    "                    </td>\n",
    "               </tr>\n",
    "               <tr>\n",
    "                   <td style='text-align:justify;background-color:rgba(255,0,0,0.2)'>\n",
    "                                           <center>\n",
    "                            <img src='Figures/BabyishDearestCougar-size_restricted.gif' width=60%'  style='margin-top:-10px;margin-bottom:-5px'>\n",
    "                        </center>\n",
    "                    </td>\n",
    "                     <td style='text-align:justify;background-color:rgba(0,0,255,0.2)'>\n",
    "                         <center>\n",
    "                             <img src='Figures/honey-sweet.gif' width=90%' style='margin-top:-10px;margin-bottom:-5px'>\n",
    "                         </center>                    \n",
    "                     </td>\n",
    "                </tr>\n",
    "           </table>\n",
    "       </div>\n",
    "   </div>\n",
    "</div>\n",
    "                        \n",
    "            "
   ]
  },
  {
   "cell_type": "markdown",
   "id": "60a4c330-06fe-4420-be86-67993f4f85f0",
   "metadata": {
    "slideshow": {
     "slide_type": "skip"
    },
    "tags": []
   },
   "source": [
    "## Relevancia"
   ]
  },
  {
   "cell_type": "raw",
   "id": "3f8da1f1-f798-4cb0-ad1d-543736fcc1fa",
   "metadata": {
    "slideshow": {
     "slide_type": "subslide"
    },
    "tags": []
   },
   "source": [
    "<div class='diapo'>\n",
    "    <div class='base'>\n",
    "        <div class='base header'>\n",
    "            Relevancia\n",
    "        </div>\n",
    "        <div class='base body'>\n",
    "            <p style='text-align:justify'>\n",
    "                Existe un <b>sinfín</b> de situaciones y aplicaciones en las cuales un fluido fluye alrededor de un cuerpo sólido. Algunos ejemplos relevantes:\n",
    "            </p>\n",
    "            <table cellspacing=\"0\" style='font-size:25px;\n",
    "                          width:100%;\n",
    "                          padding-bottom:0px;\n",
    "                          padding:0px'>\n",
    "                <tr style='border:0px solid;padding:0px'>\n",
    "                    <td style='border:0px solid;background-color:rgba(255,0,0,0.2)'>\n",
    "                        <b> Medios de transporte </b> <br>\n",
    "                        <center> <img src='Figures/auto.gif' width=65% style='margin-bottom:-1pt;margin-top:-1pt'> </center>\n",
    "                    </td>\n",
    "                    <td style='border:0px solid;background-color:rgba(0,0,255,0.2)'>\n",
    "                        <b> Sistemas biológicos </b> <br>\n",
    "                        <center> <img src='Figures/red-blood-cells-national-geographic.gif' width=65% style='margin-bottom:-1pt;margin-top:-1pt'> </center>\n",
    "                    </td>\n",
    "                <tr style='border:0px solid;padding-bottom:0px'>\n",
    "                    <td style='border:0px solid;\n",
    "                               background-color:rgba(255,0,255,0.2);\n",
    "                               width:50%;\n",
    "                               padding-bottom:0px'>\n",
    "                        <div style='padding-bottom:0px'>\n",
    "                            <b> Estructuras </b> <br>\n",
    "                            <center> <img src='Figures/tacoma.gif' width=55% style='margin-bottom:-1pt;margin-top:-1pt'> </center> \n",
    "                        </div>\n",
    "                    </td>\n",
    "                    <td style='border:0px solid;\n",
    "                               background-color:rgba(0,255,0,0.2);\n",
    "                               padding-bottom:0px;\n",
    "                               margin-top:-51px'>\n",
    "                        <div style='padding-bottom:0px'>\n",
    "                            <b> Muchos más...</b> <br>\n",
    "                            <center> <img src='Figures/hamburger.gif' width=65% style='margin-bottom:-1pt;margin-top:-1pt'> </center>\n",
    "                        </div>\n",
    "                    </td>\n",
    "                </tr>\n",
    "            </table>\n",
    "        </div>\n",
    "    </div>\n",
    "</div>\n"
   ]
  },
  {
   "cell_type": "markdown",
   "id": "afd18d70-6f2e-43a4-a912-b903f12f2ee4",
   "metadata": {
    "slideshow": {
     "slide_type": "skip"
    },
    "tags": []
   },
   "source": [
    "# Arrastre y sustentación"
   ]
  },
  {
   "cell_type": "raw",
   "id": "60da6924-cd7b-41a8-9143-6fa53b8478e8",
   "metadata": {
    "slideshow": {
     "slide_type": "slide"
    },
    "tags": []
   },
   "source": [
    "<div class='diapo'>\n",
    "    <div class='titulo'>\n",
    "        Arrastre y sustentación\n",
    "    </div>\n",
    "</div>"
   ]
  },
  {
   "cell_type": "markdown",
   "id": "7be361d0-7542-440b-ac74-5adc92636005",
   "metadata": {
    "slideshow": {
     "slide_type": "skip"
    },
    "tags": []
   },
   "source": [
    "## Introducción"
   ]
  },
  {
   "cell_type": "raw",
   "id": "e4ef186e-0ec8-4e5d-8305-faaf75461505",
   "metadata": {
    "slideshow": {
     "slide_type": "subslide"
    },
    "tags": []
   },
   "source": [
    "<div class='diapo'>\n",
    "    <div class='base'>\n",
    "        <div class='base header'>\n",
    "            Arrastre y sustentación\n",
    "        </div>\n",
    "        <div class='base body'>\n",
    "            <center>\n",
    "                <img src='Figures/sumergido.png' width=90% >\n",
    "            </center>\n",
    "\n",
    "            <table style='font-size:25px; margin-top:-20px'>\n",
    "                <tr>\n",
    "                    <th style='width: 50%; \n",
    "                                border:0px;\n",
    "                                background-color:rgba(255,0,0,0.1)'>\n",
    "                        <center>Fuerza de Arrastre $F_D$</center>\n",
    "                    </th>\n",
    "                    <th style='width: 50%; \n",
    "                                border:0px;\n",
    "                                background-color:rgba(0,0,255,0.1)'>\n",
    "                        <center>Fuerza de sutentación $F_L$</center>\n",
    "                    </th>\n",
    "                </tr>\n",
    "                <tr style='vertical-align:top'>\n",
    "                    <td style='width: 50%; \n",
    "                                border:0px;\n",
    "                                background-color:rgba(255,0,0,0.1);\n",
    "                                text-align:justify'>\n",
    "                        Componente de la fuerza ejercida por el fluido, <b>paralela a la dirección principal del flujo.</b>\n",
    "                    </td>\n",
    "                    <td style='width: 50%; \n",
    "                                border:0px;\n",
    "                                background-color:rgba(0,0,255,0.1)'>\n",
    "                        Componente de la fuerza ejercida por el fluido, <b>perpendicular a la dirección principal del flujo.</b>\n",
    "                    </td>\n",
    "                </tr>\n",
    "            </table> \n",
    "        </div>\n",
    "    </div>\n",
    "</div>"
   ]
  },
  {
   "cell_type": "markdown",
   "id": "42f7923f-4f95-4a30-9e89-698bf0e2ab9f",
   "metadata": {
    "slideshow": {
     "slide_type": "skip"
    },
    "tags": []
   },
   "source": [
    "## Fuerza de arrastre"
   ]
  },
  {
   "cell_type": "raw",
   "id": "46d27927-adb8-43b5-b2ee-db30c9578ad6",
   "metadata": {
    "slideshow": {
     "slide_type": "subslide"
    },
    "tags": []
   },
   "source": [
    "<div class='diapo'>\n",
    "    <div class='base'>\n",
    "        <div class='base header'>\n",
    "            Fuerza de arrastre: coeficiente de arrastre $C_D$\n",
    "        </div>\n",
    "        <div class='base body'>\n",
    "            <div class='comment_box'>\n",
    "                La fuerza de arrastre es la componente de la fuerza que actúa sobre un cuerpo y es paralela a la dirección relativa del movimiento (o flujo).\n",
    "            </div>\n",
    "            <p>\n",
    "                 La fuerza de arrastre puede ser expresada como una función de:\n",
    "            </p>\n",
    "            <table style='width:100%;\n",
    "                         font-size:25px'>\n",
    "             <tr>\n",
    "                 <td style='width:50%'>\n",
    "                     <ul>\n",
    "                         <li> Longitud característica del cuerpo $L$ </li>\n",
    "                         <li> Área característica del cuerpo $A$ </li>\n",
    "                         <li> Viscosidad del fluido $\\mu$ </li>\n",
    "                         <li> Densidad del fluido $\\rho$ </li>\n",
    "                         <li> Velocidad característica del flujo $U$ </li>\n",
    "                     </ul>\n",
    "                 </td>\n",
    "                 <td> \n",
    "                     $$F_D = f(d,A,\\mu,\\rho,U)$$\n",
    "                 </td>\n",
    "             </tr>\n",
    "            </table>\n",
    "\n",
    "            A partir del teorema Pi de Buckingham, es posible determinar la siguiente relación:\n",
    "\n",
    "            $${\\color{blue}{\\frac{F_D}{\\rho U^2 A}}} = f\\left({\\color{red}{\\frac{\\rho U L}{\\mu}}}\\right)$$"
   ]
  },
  {
   "cell_type": "raw",
   "id": "4188465f-7e41-48d1-84ee-25686acca13e",
   "metadata": {
    "slideshow": {
     "slide_type": "fragment"
    },
    "tags": []
   },
   "source": [
    "    \n",
    "            $${\\color{blue}{C_D}} = f\\left({\\color{red}{\\operatorname{Re}}}\\right)$$\n",
    "                    \n",
    "        </div>\n",
    "    </div>\n",
    "</div>"
   ]
  },
  {
   "cell_type": "markdown",
   "id": "9b568185-861e-46c3-a3ce-23a7c9f6f632",
   "metadata": {
    "slideshow": {
     "slide_type": "skip"
    },
    "tags": []
   },
   "source": [
    "### Coeficiente de arrastre"
   ]
  },
  {
   "cell_type": "raw",
   "id": "9b6f2812-5ce8-4cbc-92ba-44584cdf9192",
   "metadata": {
    "slideshow": {
     "slide_type": "subslide"
    },
    "tags": []
   },
   "source": [
    "<div class='diapo'>\n",
    "    <div class='base'>\n",
    "        <div class='base header'>\n",
    "            Coeficiente de arrastre $C_D$\n",
    "        </div>\n",
    "        <div class='base body'>\n",
    "            <p>\n",
    "                Bajo condiciones y geometrías especiales, el coeficiente de arrastre también puede depender de:\n",
    "            </p>\n",
    "            <table style='width:100%;\n",
    "                         font-size:25px;\n",
    "                         background-color:rgba(255,0,0,0.1)'>\n",
    "                 <tr>\n",
    "                     <td style='width:65%'>\n",
    "                         <ul style='margin-left:-25px'>\n",
    "                             <li> <b>Compresibilidad del flujo</b></li>\n",
    "                                 <ul style='margin-left:-10px'>\n",
    "                                     <li> Caracterizada mediante el número de Mach $\\operatorname{Ma}$\n",
    "                                 </ul>\n",
    "                             </li>\n",
    "                             <li> <b>Efectos de superficie</b></li>\n",
    "                                 <ul style='margin-left:-10px'>\n",
    "                                     <li> Caracterizada mediante el número de Froude $\\operatorname{Fr}$\n",
    "                                 </ul>\n",
    "                             </li>\n",
    "                             <li> <b>Rugosidad de la superficie</b></li>\n",
    "                                 <ul style='margin-left:-10px'>\n",
    "                                     <li> Caracterizada mediante la rugosidad relativa $\\epsilon/L$\n",
    "                                 </ul>\n",
    "                             </li>\n",
    "                         </ul>\n",
    "                     </td>\n",
    "                     <td> \n",
    "                         $$C_D = f(\\operatorname{Re},\\operatorname{Ma},\\operatorname{Fr},\\epsilon/L)$$\n",
    "                     </td>\n",
    "                 </tr>\n",
    "            </table>\n"
   ]
  },
  {
   "cell_type": "raw",
   "id": "232ef11e-c257-4d90-84b9-ef8af0cd13e2",
   "metadata": {
    "slideshow": {
     "slide_type": "fragment"
    },
    "tags": []
   },
   "source": [
    "        <br>\n",
    "        <div class='comment_box'>\n",
    "                El área característica del cuerpo se define normalmente como uno de los siguientes tres tipos:\n",
    "            <ul>\n",
    "                <li> \n",
    "                    <b> Área frontal</b>: área del cuerpo proyectada si este es visto en la dirección de la corriente.\n",
    "                </li>\n",
    "                <li>\n",
    "                    <b> Área de la forma en planta</b>: área proyectada del cuerpo visto desde arriba.\n",
    "                </li>\n",
    "                <li>\n",
    "                    <b> Área mojada </b>: área del cuerpo que se encuentra sumergida en un fluido incompresible\n",
    "                </li>\n",
    "            </ul>\n",
    "        </div>\n",
    "    </div>\n",
    "</div>"
   ]
  },
  {
   "cell_type": "markdown",
   "id": "1dcb5ead-bd88-48b3-a665-fbb3d214bf5d",
   "metadata": {
    "slideshow": {
     "slide_type": "skip"
    },
    "tags": []
   },
   "source": [
    "### Coeficiente de arrastre: cilíndro perpendicular al flujo"
   ]
  },
  {
   "cell_type": "raw",
   "id": "d4d15c33-84bb-4542-92da-f600b3720d60",
   "metadata": {
    "slideshow": {
     "slide_type": "subslide"
    },
    "tags": []
   },
   "source": [
    "<div class='diapo'>\n",
    "    <div class='base'>\n",
    "        <div class='base header' style='font-size:40px'>\n",
    "            Coeficiente de arrastre: cilíndro perpendicular al flujo        \n",
    "        </div>\n",
    "        <div class='base body'>\n",
    "            <center>\n",
    "                <img src='Figures/cilindro.png' width=100%>\n",
    "            </center>\n",
    "        </div>\n",
    "    </div>\n",
    "</div>"
   ]
  },
  {
   "cell_type": "markdown",
   "id": "074e9219-3999-40d0-b4ce-0937d2af07a1",
   "metadata": {
    "slideshow": {
     "slide_type": "skip"
    },
    "tags": []
   },
   "source": [
    "#### Simulación cilindro sumergido"
   ]
  },
  {
   "cell_type": "raw",
   "id": "90392ac4-b616-4094-9902-00ad47e0289c",
   "metadata": {
    "slideshow": {
     "slide_type": "subslide"
    },
    "tags": []
   },
   "source": [
    "\n",
    "<!--\n",
    "Copyright 2022 Matthias Müller - Ten Minute Physics, \n",
    "www.youtube.com/c/TenMinutePhysics\n",
    "www.matthiasMueller.info/tenMinutePhysics\n",
    "\n",
    "MIT License\n",
    "\n",
    "Permission is hereby granted, free of charge, to any person obtaining a copy of this software and associated documentation files (the \"Software\"), to deal in the Software without restriction, including without limitation the rights to use, copy, modify, merge, publish, distribute, sublicense, and/or sell copies of the Software, and to permit persons to whom the Software is furnished to do so, subject to the following conditions:\n",
    "\n",
    "The above copyright notice and this permission notice shall be included in all copies or substantial portions of the Software.\n",
    "\n",
    "THE SOFTWARE IS PROVIDED \"AS IS\", WITHOUT WARRANTY OF ANY KIND, EXPRESS OR IMPLIED, INCLUDING BUT NOT LIMITED TO THE WARRANTIES OF MERCHANTABILITY, FITNESS FOR A PARTICULAR PURPOSE AND NONINFRINGEMENT. IN NO EVENT SHALL THE AUTHORS OR COPYRIGHT HOLDERS BE LIABLE FOR ANY CLAIM, DAMAGES OR OTHER LIABILITY, WHETHER IN AN ACTION OF CONTRACT, TORT OR OTHERWISE, ARISING FROM, OUT OF OR IN CONNECTION WITH THE SOFTWARE OR THE USE OR OTHER DEALINGS IN THE SOFTWARE.\n",
    "-->\n",
    "\n",
    "<!---\n",
    "<meta name=\"viewport\" content=\"width=device-width, initial-scale=1.0\">\n",
    "\n",
    "\t<head>\n",
    "\t\t<title>Euler Fluid</title>\n",
    "\t\t<style>\n",
    "\t\t\tbody {\n",
    "\t\t\t\tfont-family: verdana; \n",
    "\t\t\t\tfont-size: 15px;\n",
    "\t\t\t}\t\t\t\n",
    "\t\t\t.button {\n",
    "\t\t\t\tbackground-color: #606060;\n",
    "\t\t\t\tborder: none;\n",
    "\t\t\t\tcolor: white;\n",
    "\t\t\t\tpadding: 10px 10px;\n",
    "\t\t\t\tfont-size: 16px;\n",
    "\t\t\t\tmargin: 4px 2px;\n",
    "\t\t\t\tcursor: pointer;\n",
    "\t\t\t}\n",
    "\t\t\t.slider {\n",
    "\t\t\t\t-webkit-appearance: none;\n",
    "\t\t\t\twidth: 80px;\n",
    "\t\t\t\theight: 6px;\n",
    "\t\t\t\tborder-radius: 5px;\n",
    "\t\t\t\tbackground: #d3d3d3;\n",
    "\t\t\t\toutline: none;\n",
    "\t\t\t\topacity: 0.7;\n",
    "\t\t\t\t-webkit-transition: .2s;\n",
    "\t\t\t\ttransition: opacity .2s;\n",
    "\t\t\t}\n",
    "\t\t</style>\n",
    "\t</head>\n",
    "\t\n",
    "<body>\n",
    "-->\n",
    "<!---\t<button class=\"button\" onclick=\"setupScene(1)\">Wind Tunnel</button>\n",
    "\t<button class=\"button\" onclick=\"setupScene(3)\">Hires Tunnel</button>\n",
    "\t<button class=\"button\" onclick=\"setupScene(0)\">Tank</button>\n",
    "\t<button class=\"button\" onclick=\"setupScene(2)\">Paint</button> --->\n",
    "    <div style='font-size:30px'>\n",
    "\t<input type = \"checkbox\" id = \"streamButton\" onclick = \"scene.showStreamlines = !scene.showStreamlines\">Streamlines\n",
    "\t<input type = \"checkbox\" id = \"velocityButton\" onclick = \"scene.showVelocities = !scene.showVelocities\">Velocities\n",
    "\t<input type = \"checkbox\" name = \"field\" id = \"pressureButton\" onclick = \"scene.showPressure = !scene.showPressure;\"> Pressure\n",
    "\t<input type = \"checkbox\" name = \"field\" id = \"smokeButton\" onclick = \"scene.showSmoke = !scene.showSmoke;\" checked>Smoke\n",
    "\t<input type = \"checkbox\" id = \"overrelaxButton\" onclick = \"scene.overRelaxation = scene.overRelaxation == 1.0 ? 1.9 : 1.0\" checked style='font-size:10px'>Overrelax\n",
    "    </div>\n",
    "    <center>\n",
    "        <canvas id=\"myCanvas\" style=\"border:0px solid;width:120%\"></canvas>\n",
    "    </center>\n",
    "    <a href=https://matthias-research.github.io/pages/tenMinutePhysics/index.html style='font-size:25px'> Código original por Matthias Müller </a>\n",
    "\t\n",
    "<script>\n",
    "\n",
    "\tvar canvas = document.getElementById(\"myCanvas\");\n",
    "\tvar c = canvas.getContext(\"2d\");\t\n",
    "\tcanvas.width = window.innerWidth - 20;\n",
    "\tcanvas.height = window.innerHeight - 100;\n",
    "\n",
    "\tcanvas.focus();\n",
    "\n",
    "\tvar simHeight = 1.1;\t\n",
    "\tvar cScale = canvas.height / simHeight;\n",
    "\tvar simWidth = canvas.width / cScale;\n",
    "\n",
    "\tvar U_FIELD = 0;\n",
    "\tvar V_FIELD = 1;\n",
    "\tvar S_FIELD = 2;\n",
    "\n",
    "\tvar cnt = 0;\n",
    "\n",
    "\tfunction cX(x) {\n",
    "\t\treturn x * cScale;\n",
    "\t}\n",
    "\n",
    "\tfunction cY(y) {\n",
    "\t\treturn canvas.height - y * cScale;\n",
    "\t}\n",
    "\n",
    "\t// ----------------- start of simulator ------------------------------\n",
    "\n",
    "\tclass Fluid {\n",
    "\t\tconstructor(density, numX, numY, h) {\n",
    "\t\t\tthis.density = density;\n",
    "\t\t\tthis.numX = numX + 2; \n",
    "\t\t\tthis.numY = numY + 2;\n",
    "\t\t\tthis.numCells = this.numX * this.numY;\n",
    "\t\t\tthis.h = h;\n",
    "\t\t\tthis.u = new Float32Array(this.numCells);\n",
    "\t\t\tthis.v = new Float32Array(this.numCells);\n",
    "\t\t\tthis.newU = new Float32Array(this.numCells);\n",
    "\t\t\tthis.newV = new Float32Array(this.numCells);\n",
    "\t\t\tthis.p = new Float32Array(this.numCells);\n",
    "\t\t\tthis.s = new Float32Array(this.numCells);\n",
    "\t\t\tthis.m = new Float32Array(this.numCells);\n",
    "\t\t\tthis.newM = new Float32Array(this.numCells);\n",
    "\t\t\tthis.m.fill(1.0)\n",
    "\t\t\tvar num = numX * numY;\n",
    "\t\t}\n",
    "\n",
    "\t\tintegrate(dt, gravity) {\n",
    "\t\t\tvar n = this.numY;\n",
    "\t\t\tfor (var i = 1; i < this.numX; i++) {\n",
    "\t\t\t\tfor (var j = 1; j < this.numY-1; j++) {\n",
    "\t\t\t\t\tif (this.s[i*n + j] != 0.0 && this.s[i*n + j-1] != 0.0)\n",
    "\t\t\t\t\t\tthis.v[i*n + j] += gravity * dt;\n",
    "\t\t\t\t}\t \n",
    "\t\t\t}\n",
    "\t\t}\n",
    "\n",
    "\t\tsolveIncompressibility(numIters, dt) {\n",
    "\n",
    "\t\t\tvar n = this.numY;\n",
    "\t\t\tvar cp = this.density * this.h / dt;\n",
    "\n",
    "\t\t\tfor (var iter = 0; iter < numIters; iter++) {\n",
    "\n",
    "\t\t\t\tfor (var i = 1; i < this.numX-1; i++) {\n",
    "\t\t\t\t\tfor (var j = 1; j < this.numY-1; j++) {\n",
    "\n",
    "\t\t\t\t\t\tif (this.s[i*n + j] == 0.0)\n",
    "\t\t\t\t\t\t\tcontinue;\n",
    "\n",
    "\t\t\t\t\t\tvar s = this.s[i*n + j];\n",
    "\t\t\t\t\t\tvar sx0 = this.s[(i-1)*n + j];\n",
    "\t\t\t\t\t\tvar sx1 = this.s[(i+1)*n + j];\n",
    "\t\t\t\t\t\tvar sy0 = this.s[i*n + j-1];\n",
    "\t\t\t\t\t\tvar sy1 = this.s[i*n + j+1];\n",
    "\t\t\t\t\t\tvar s = sx0 + sx1 + sy0 + sy1;\n",
    "\t\t\t\t\t\tif (s == 0.0)\n",
    "\t\t\t\t\t\t\tcontinue;\n",
    "\n",
    "\t\t\t\t\t\tvar div = this.u[(i+1)*n + j] - this.u[i*n + j] + \n",
    "\t\t\t\t\t\t\tthis.v[i*n + j+1] - this.v[i*n + j];\n",
    "\n",
    "\t\t\t\t\t\tvar p = -div / s;\n",
    "\t\t\t\t\t\tp *= scene.overRelaxation;\n",
    "\t\t\t\t\t\tthis.p[i*n + j] += cp * p;\n",
    "\n",
    "\t\t\t\t\t\tthis.u[i*n + j] -= sx0 * p;\n",
    "\t\t\t\t\t\tthis.u[(i+1)*n + j] += sx1 * p;\n",
    "\t\t\t\t\t\tthis.v[i*n + j] -= sy0 * p;\n",
    "\t\t\t\t\t\tthis.v[i*n + j+1] += sy1 * p;\n",
    "\t\t\t\t\t}\n",
    "\t\t\t\t}\n",
    "\t\t\t}\n",
    "\t\t}\n",
    "\n",
    "\t\textrapolate() {\n",
    "\t\t\tvar n = this.numY;\n",
    "\t\t\tfor (var i = 0; i < this.numX; i++) {\n",
    "\t\t\t\tthis.u[i*n + 0] = this.u[i*n + 1];\n",
    "\t\t\t\tthis.u[i*n + this.numY-1] = this.u[i*n + this.numY-2]; \n",
    "\t\t\t}\n",
    "\t\t\tfor (var j = 0; j < this.numY; j++) {\n",
    "\t\t\t\tthis.v[0*n + j] = this.v[1*n + j];\n",
    "\t\t\t\tthis.v[(this.numX-1)*n + j] = this.v[(this.numX-2)*n + j] \n",
    "\t\t\t}\n",
    "\t\t}\n",
    "\n",
    "\t\tsampleField(x, y, field) {\n",
    "\t\t\tvar n = this.numY;\n",
    "\t\t\tvar h = this.h;\n",
    "\t\t\tvar h1 = 1.0 / h;\n",
    "\t\t\tvar h2 = 0.5 * h;\n",
    "\n",
    "\t\t\tx = Math.max(Math.min(x, this.numX * h), h);\n",
    "\t\t\ty = Math.max(Math.min(y, this.numY * h), h);\n",
    "\n",
    "\t\t\tvar dx = 0.0;\n",
    "\t\t\tvar dy = 0.0;\n",
    "\n",
    "\t\t\tvar f;\n",
    "\n",
    "\t\t\tswitch (field) {\n",
    "\t\t\t\tcase U_FIELD: f = this.u; dy = h2; break;\n",
    "\t\t\t\tcase V_FIELD: f = this.v; dx = h2; break;\n",
    "\t\t\t\tcase S_FIELD: f = this.m; dx = h2; dy = h2; break\n",
    "\n",
    "\t\t\t}\n",
    "\n",
    "\t\t\tvar x0 = Math.min(Math.floor((x-dx)*h1), this.numX-1);\n",
    "\t\t\tvar tx = ((x-dx) - x0*h) * h1;\n",
    "\t\t\tvar x1 = Math.min(x0 + 1, this.numX-1);\n",
    "\t\t\t\n",
    "\t\t\tvar y0 = Math.min(Math.floor((y-dy)*h1), this.numY-1);\n",
    "\t\t\tvar ty = ((y-dy) - y0*h) * h1;\n",
    "\t\t\tvar y1 = Math.min(y0 + 1, this.numY-1);\n",
    "\n",
    "\t\t\tvar sx = 1.0 - tx;\n",
    "\t\t\tvar sy = 1.0 - ty;\n",
    "\n",
    "\t\t\tvar val = sx*sy * f[x0*n + y0] +\n",
    "\t\t\t\ttx*sy * f[x1*n + y0] +\n",
    "\t\t\t\ttx*ty * f[x1*n + y1] +\n",
    "\t\t\t\tsx*ty * f[x0*n + y1];\n",
    "\t\t\t\n",
    "\t\t\treturn val;\n",
    "\t\t}\n",
    "\n",
    "\t\tavgU(i, j) {\n",
    "\t\t\tvar n = this.numY;\n",
    "\t\t\tvar u = (this.u[i*n + j-1] + this.u[i*n + j] +\n",
    "\t\t\t\tthis.u[(i+1)*n + j-1] + this.u[(i+1)*n + j]) * 0.25;\n",
    "\t\t\treturn u;\n",
    "\t\t\t\t\n",
    "\t\t}\n",
    "\n",
    "\t\tavgV(i, j) {\n",
    "\t\t\tvar n = this.numY;\n",
    "\t\t\tvar v = (this.v[(i-1)*n + j] + this.v[i*n + j] +\n",
    "\t\t\t\tthis.v[(i-1)*n + j+1] + this.v[i*n + j+1]) * 0.25;\n",
    "\t\t\treturn v;\n",
    "\t\t}\n",
    "\n",
    "\t\tadvectVel(dt) {\n",
    "\n",
    "\t\t\tthis.newU.set(this.u);\n",
    "\t\t\tthis.newV.set(this.v);\n",
    "\n",
    "\t\t\tvar n = this.numY;\n",
    "\t\t\tvar h = this.h;\n",
    "\t\t\tvar h2 = 0.5 * h;\n",
    "\n",
    "\t\t\tfor (var i = 1; i < this.numX; i++) {\n",
    "\t\t\t\tfor (var j = 1; j < this.numY; j++) {\n",
    "\n",
    "\t\t\t\t\tcnt++;\n",
    "\n",
    "\t\t\t\t\t// u component\n",
    "\t\t\t\t\tif (this.s[i*n + j] != 0.0 && this.s[(i-1)*n + j] != 0.0 && j < this.numY - 1) {\n",
    "\t\t\t\t\t\tvar x = i*h;\n",
    "\t\t\t\t\t\tvar y = j*h + h2;\n",
    "\t\t\t\t\t\tvar u = this.u[i*n + j];\n",
    "\t\t\t\t\t\tvar v = this.avgV(i, j);\n",
    "//\t\t\t\t\t\tvar v = this.sampleField(x,y, V_FIELD);\n",
    "\t\t\t\t\t\tx = x - dt*u;\n",
    "\t\t\t\t\t\ty = y - dt*v;\n",
    "\t\t\t\t\t\tu = this.sampleField(x,y, U_FIELD);\n",
    "\t\t\t\t\t\tthis.newU[i*n + j] = u;\n",
    "\t\t\t\t\t}\n",
    "\t\t\t\t\t// v component\n",
    "\t\t\t\t\tif (this.s[i*n + j] != 0.0 && this.s[i*n + j-1] != 0.0 && i < this.numX - 1) {\n",
    "\t\t\t\t\t\tvar x = i*h + h2;\n",
    "\t\t\t\t\t\tvar y = j*h;\n",
    "\t\t\t\t\t\tvar u = this.avgU(i, j);\n",
    "//\t\t\t\t\t\tvar u = this.sampleField(x,y, U_FIELD);\n",
    "\t\t\t\t\t\tvar v = this.v[i*n + j];\n",
    "\t\t\t\t\t\tx = x - dt*u;\n",
    "\t\t\t\t\t\ty = y - dt*v;\n",
    "\t\t\t\t\t\tv = this.sampleField(x,y, V_FIELD);\n",
    "\t\t\t\t\t\tthis.newV[i*n + j] = v;\n",
    "\t\t\t\t\t}\n",
    "\t\t\t\t}\t \n",
    "\t\t\t}\n",
    "\n",
    "\t\t\tthis.u.set(this.newU);\n",
    "\t\t\tthis.v.set(this.newV);\n",
    "\t\t}\n",
    "\n",
    "\t\tadvectSmoke(dt) {\n",
    "\n",
    "\t\t\tthis.newM.set(this.m);\n",
    "\n",
    "\t\t\tvar n = this.numY;\n",
    "\t\t\tvar h = this.h;\n",
    "\t\t\tvar h2 = 0.5 * h;\n",
    "\n",
    "\t\t\tfor (var i = 1; i < this.numX-1; i++) {\n",
    "\t\t\t\tfor (var j = 1; j < this.numY-1; j++) {\n",
    "\n",
    "\t\t\t\t\tif (this.s[i*n + j] != 0.0) {\n",
    "\t\t\t\t\t\tvar u = (this.u[i*n + j] + this.u[(i+1)*n + j]) * 0.5;\n",
    "\t\t\t\t\t\tvar v = (this.v[i*n + j] + this.v[i*n + j+1]) * 0.5;\n",
    "\t\t\t\t\t\tvar x = i*h + h2 - dt*u;\n",
    "\t\t\t\t\t\tvar y = j*h + h2 - dt*v;\n",
    "\n",
    "\t\t\t\t\t\tthis.newM[i*n + j] = this.sampleField(x,y, S_FIELD);\n",
    " \t\t\t\t\t}\n",
    "\t\t\t\t}\t \n",
    "\t\t\t}\n",
    "\t\t\tthis.m.set(this.newM);\n",
    "\t\t}\n",
    "\n",
    "\t\t// ----------------- end of simulator ------------------------------\n",
    "\n",
    "\n",
    "\t\tsimulate(dt, gravity, numIters) {\n",
    "\n",
    "\t\t\tthis.integrate(dt, gravity);\n",
    "\n",
    "\t\t\tthis.p.fill(0.0);\n",
    "\t\t\tthis.solveIncompressibility(numIters, dt);\n",
    "\n",
    "\t\t\tthis.extrapolate();\n",
    "\t\t\tthis.advectVel(dt);\n",
    "\t\t\tthis.advectSmoke(dt);\n",
    "\t\t}\n",
    "\t}\n",
    "\n",
    "\tvar scene = \n",
    "\t{\n",
    "\t\tgravity : -9.81,\n",
    "\t\tdt : 1.0 / 120.0,\n",
    "\t\tnumIters : 100,\n",
    "\t\tframeNr : 0,\n",
    "\t\toverRelaxation : 1.9,\n",
    "\t\tobstacleX : 0.0,\n",
    "\t\tobstacleY : 0.0,\n",
    "\t\tobstacleRadius: 0.15,\n",
    "\t\tpaused: false,\n",
    "\t\tsceneNr: 0,\n",
    "\t\tshowObstacle: false,\n",
    "\t\tshowStreamlines: false,\n",
    "\t\tshowVelocities: false,\t\n",
    "\t\tshowPressure: false,\n",
    "\t\tshowSmoke: true,\n",
    "\t\tfluid: null\n",
    "\t};\n",
    "\n",
    "\tfunction setupScene(sceneNr = 0) \n",
    "\t{\n",
    "\t\tscene.sceneNr = sceneNr;\n",
    "\t\tscene.obstacleRadius = 0.15;\n",
    "\t\tscene.overRelaxation = 1.9;\n",
    "\n",
    "\t\tscene.dt = 1.0 / 60.0;\n",
    "\t\tscene.numIters = 40;\n",
    "\n",
    "\t\tvar res = 100;\n",
    "\t\t\n",
    "\t\tif (sceneNr == 0)\n",
    "\t\t\tres = 50;\n",
    "\t\telse if (sceneNr == 3)\n",
    "\t\t\tres = 200;\n",
    "\n",
    "\t\tvar domainHeight = 1.0;\n",
    "\t\tvar domainWidth = domainHeight / simHeight * simWidth;\n",
    "\t\tvar h = domainHeight / res;\n",
    "\n",
    "\t\tvar numX = Math.floor(domainWidth / h);\n",
    "\t\tvar numY = Math.floor(domainHeight / h);\n",
    "\n",
    "\t\tvar density = 1000.0;\n",
    "\n",
    "\t\tf = scene.fluid = new Fluid(density, numX, numY, h);\n",
    "\n",
    "\t\tvar n = f.numY;\n",
    "\n",
    "\t\tif (sceneNr == 0) {   \t\t// tank\n",
    "\n",
    "\t\t\tfor (var i = 0; i < f.numX; i++) {\n",
    "\t\t\t\tfor (var j = 0; j < f.numY; j++) {\n",
    "\t\t\t\t\tvar s = 1.0;\t// fluid\n",
    "\t\t\t\t\tif (i == 0 || i == f.numX-1 || j == 0)\n",
    "\t\t\t\t\t\ts = 0.0;\t// solid\n",
    "\t\t\t\t\tf.s[i*n + j] = s\n",
    "\t\t\t\t}\n",
    "\t\t\t}\n",
    "\t\t\tscene.gravity = -9.81;\n",
    "\t\t\tscene.showPressure = true;\n",
    "\t\t\tscene.showSmoke = false;\n",
    "\t\t\tscene.showStreamlines = false;\n",
    "\t\t\tscene.showVelocities = false;\n",
    "\t\t}\n",
    "\t\telse if (sceneNr == 1 || sceneNr == 3) { // vortex shedding\n",
    "\n",
    "\t\t\tvar inVel = 2.0;\n",
    "\t\t\tfor (var i = 0; i < f.numX; i++) {\n",
    "\t\t\t\tfor (var j = 0; j < f.numY; j++) {\n",
    "\t\t\t\t\tvar s = 1.0;\t// fluid\n",
    "\t\t\t\t\tif (i == 0 || j == 0 || j == f.numY-1)\n",
    "\t\t\t\t\t\ts = 0.0;\t// solid\n",
    "\t\t\t\t\tf.s[i*n + j] = s\n",
    "\n",
    "\t\t\t\t\tif (i == 1) {\n",
    "\t\t\t\t\t\tf.u[i*n + j] = inVel;\n",
    "\t\t\t\t\t}\n",
    "\t\t\t\t}\n",
    "\t\t\t}\n",
    "\n",
    "\t\t\tvar pipeH = 0.1 * f.numY;\n",
    "\t\t\tvar minJ = Math.floor(0.5 * f.numY - 0.5*pipeH);\n",
    "\t\t\tvar maxJ = Math.floor(0.5 * f.numY + 0.5*pipeH);\n",
    "\n",
    "\t\t\tfor (var j = minJ; j < maxJ; j++)\n",
    "\t\t\t\tf.m[j] = 0.0;\n",
    "\n",
    "\t\t\tsetObstacle(0.4, 0.5, true)\n",
    "\n",
    "\t\t\tscene.gravity = 0.0;\n",
    "\t\t\tscene.showPressure = false;\n",
    "\t\t\tscene.showSmoke = true;\n",
    "\t\t\tscene.showStreamlines = false;\n",
    "\t\t\tscene.showVelocities = false;\n",
    "\n",
    "\t\t\tif (sceneNr == 3) {\n",
    "\t\t\t\tscene.dt = 1.0 / 120.0;\n",
    "\t\t\t\tscene.numIters = 100;\n",
    "\t\t\t\tscene.showPressure = true;\n",
    "\t\t\t}\n",
    "\n",
    "\t\t}\n",
    "\t\telse if (sceneNr == 2) { // paint\n",
    "\n",
    "\t\t\tscene.gravity = 0.0;\n",
    "\t\t\tscene.overRelaxation = 1.0;\n",
    "\t\t\tscene.showPressure = false;\n",
    "\t\t\tscene.showSmoke = true;\n",
    "\t\t\tscene.showStreamlines = false;\n",
    "\t\t\tscene.showVelocities = false;\n",
    "\t\t\tscene.obstacleRadius = 0.1;\n",
    "\t\t}\n",
    "\n",
    "\t\tdocument.getElementById(\"streamButton\").checked = scene.showStreamlines;\n",
    "\t\tdocument.getElementById(\"velocityButton\").checked = scene.showVelocities;\n",
    "\t\tdocument.getElementById(\"pressureButton\").checked = scene.showPressure;\n",
    "\t\tdocument.getElementById(\"smokeButton\").checked = scene.showSmoke;\n",
    "\t\tdocument.getElementById(\"overrelaxButton\").checked = scene.overRelaxation > 1.0;\n",
    "\t\t\n",
    "\t}\n",
    "\n",
    "\n",
    "\t// draw -------------------------------------------------------\n",
    "\n",
    "\tfunction setColor(r,g,b) {\n",
    "\t\tc.fillStyle = `rgb(\n",
    "\t\t\t${Math.floor(255*r)},\n",
    "\t\t\t${Math.floor(255*g)},\n",
    "\t\t\t${Math.floor(255*b)})`\n",
    "\t\tc.strokeStyle = `rgb(\n",
    "\t\t\t${Math.floor(255*r)},\n",
    "\t\t\t${Math.floor(255*g)},\n",
    "\t\t\t${Math.floor(255*b)})`\n",
    "\t}\n",
    "\n",
    "\tfunction getSciColor(val, minVal, maxVal) {\n",
    "\t\tval = Math.min(Math.max(val, minVal), maxVal- 0.0001);\n",
    "\t\tvar d = maxVal - minVal;\n",
    "\t\tval = d == 0.0 ? 0.5 : (val - minVal) / d;\n",
    "\t\tvar m = 0.25;\n",
    "\t\tvar num = Math.floor(val / m);\n",
    "\t\tvar s = (val - num * m) / m;\n",
    "\t\tvar r, g, b;\n",
    "\n",
    "\t\tswitch (num) {\n",
    "\t\t\tcase 0 : r = 0.0; g = s; b = 1.0; break;\n",
    "\t\t\tcase 1 : r = 0.0; g = 1.0; b = 1.0-s; break;\n",
    "\t\t\tcase 2 : r = s; g = 1.0; b = 0.0; break;\n",
    "\t\t\tcase 3 : r = 1.0; g = 1.0 - s; b = 0.0; break;\n",
    "\t\t}\n",
    "\n",
    "\t\treturn[255*r,255*g,255*b, 255]\n",
    "\t}\n",
    "\n",
    "\tfunction draw() \n",
    "\t{\n",
    "\t\tc.clearRect(0, 0, canvas.width, canvas.height);\n",
    "\n",
    "\t\tc.fillStyle = \"#FF0000\";\n",
    "\t\tf = scene.fluid;\n",
    "\t\tn = f.numY;\n",
    "\n",
    "\t\tvar cellScale = 1.1;\n",
    "\n",
    "\t\tvar h = f.h;\n",
    "\n",
    "\t\tminP = f.p[0];\n",
    "\t\tmaxP = f.p[0];\n",
    "\n",
    "\t\tfor (var i = 0; i < f.numCells; i++) {\n",
    "\t\t\tminP = Math.min(minP, f.p[i]);\n",
    "\t\t\tmaxP = Math.max(maxP, f.p[i]);\n",
    "\t\t}\n",
    "\n",
    "\t\tid = c.getImageData(0,0, canvas.width, canvas.height)\n",
    "\n",
    "\t\tvar color = [255, 255, 255, 255]\n",
    "\n",
    "\t\tfor (var i = 0; i < f.numX; i++) {\n",
    "\t\t\tfor (var j = 0; j < f.numY; j++) {\n",
    "\n",
    "\t\t\t\tif (scene.showPressure) {\n",
    "\t\t\t\t\tvar p = f.p[i*n + j];\n",
    "\t\t\t\t\tvar s = f.m[i*n + j];\n",
    "\t\t\t\t\tcolor = getSciColor(p, minP, maxP);\n",
    "\t\t\t\t\tif (scene.showSmoke) {\n",
    "\t\t\t\t\t\tcolor[0] = Math.max(0.0, color[0] - 255*s);\n",
    "\t\t\t\t\t\tcolor[1] = Math.max(0.0, color[1] - 255*s);\n",
    "\t\t\t\t\t\tcolor[2] = Math.max(0.0, color[2] - 255*s);\n",
    "\t\t\t\t\t}\n",
    "\t\t\t\t}\n",
    "\t\t\t\telse if (scene.showSmoke) {\n",
    "\t\t\t\t\tvar s = f.m[i*n + j];\n",
    "\t\t\t\t\tcolor[0] = 255*s;\n",
    "\t\t\t\t\tcolor[1] = 255*s;\n",
    "\t\t\t\t\tcolor[2] = 255*s;\n",
    "\t\t\t\t\tif (scene.sceneNr == 2)\n",
    "\t\t\t\t\t\tcolor = getSciColor(s, 0.0, 1.0);\n",
    "\t\t\t\t}\n",
    "\t\t\t\telse if (f.s[i*n + j] == 0.0) {\n",
    "\t\t\t\t\tcolor[0] = 0;\n",
    "\t\t\t\t\tcolor[1] = 0;\n",
    "\t\t\t\t\tcolor[2] = 0;\n",
    "\t\t\t\t}\n",
    "\n",
    "\t\t\t\tvar x = Math.floor(cX(i * h));\n",
    "\t\t\t\tvar y = Math.floor(cY((j+1) * h));\n",
    "\t\t\t\tvar cx = Math.floor(cScale * cellScale * h) + 1;\n",
    "\t\t\t\tvar cy = Math.floor(cScale * cellScale * h) + 1;\n",
    "\n",
    "\t\t\t\tr = color[0];\n",
    "\t\t\t\tg = color[1];\n",
    "\t\t\t\tb = color[2];\n",
    "\n",
    "\t\t\t\tfor (var yi = y; yi < y + cy; yi++) {\n",
    "\t\t\t\t\tvar p = 4 * (yi * canvas.width + x)\n",
    "\n",
    "\t\t\t\t\tfor (var xi = 0; xi < cx; xi++) {\n",
    "\t\t\t\t\t\tid.data[p++] = r;\n",
    "\t\t\t\t\t\tid.data[p++] = g;\n",
    "\t\t\t\t\t\tid.data[p++] = b;\n",
    "\t\t\t\t\t\tid.data[p++] = 255;\n",
    "\t\t\t\t\t}\n",
    "\t\t\t\t}\n",
    "\t\t\t}\n",
    "\t\t}\n",
    "\n",
    "\t\tc.putImageData(id, 0, 0);\n",
    "\n",
    "\t\tif (scene.showVelocities) {\n",
    "\n",
    "\t\t\tc.strokeStyle = \"#000000\";\t\n",
    "\t\t\tscale = 0.02;\t\n",
    "\n",
    "\t\t\tfor (var i = 0; i < f.numX; i++) {\n",
    "\t\t\t\tfor (var j = 0; j < f.numY; j++) {\n",
    "\n",
    "\t\t\t\t\tvar u = f.u[i*n + j];\n",
    "\t\t\t\t\tvar v = f.v[i*n + j];\n",
    "\n",
    "\t\t\t\t\tc.beginPath();\n",
    "\n",
    "\t\t\t\t\tx0 = cX(i * h);\n",
    "\t\t\t\t\tx1 = cX(i * h + u * scale);\n",
    "\t\t\t\t\ty = cY((j + 0.5) * h );\n",
    "\n",
    "\t\t\t\t\tc.moveTo(x0, y);\n",
    "\t\t\t\t\tc.lineTo(x1, y);\n",
    "\t\t\t\t\tc.stroke();\n",
    "\n",
    "\t\t\t\t\tx = cX((i + 0.5) * h);\n",
    "\t\t\t\t\ty0 = cY(j * h );\n",
    "\t\t\t\t\ty1 = cY(j * h + v * scale)\n",
    "\n",
    "\t\t\t\t\tc.beginPath();\n",
    "\t\t\t\t\tc.moveTo(x, y0);\n",
    "\t\t\t\t\tc.lineTo(x, y1);\n",
    "\t\t\t\t\tc.stroke();\n",
    "\n",
    "\t\t\t\t}\n",
    "\t\t\t}\n",
    "\t\t}\n",
    "\n",
    "\t\tif (scene.showStreamlines) {\n",
    "\n",
    "\t\t\tvar segLen = f.h * 0.2;\n",
    "\t\t\tvar numSegs = 15;\n",
    "\n",
    "\t\t\tc.strokeStyle = \"#000000\";\n",
    "\n",
    "\t\t\tfor (var i = 1; i < f.numX - 1; i += 5) {\n",
    "\t\t\t\tfor (var j = 1; j < f.numY - 1; j += 5) {\n",
    "\n",
    "\t\t\t\t\tvar x = (i + 0.5) * f.h;\n",
    "\t\t\t\t\tvar y = (j + 0.5) * f.h;\n",
    "\n",
    "\t\t\t\t\tc.beginPath();\n",
    "\t\t\t\t\tc.moveTo(cX(x), cY(y));\n",
    "\n",
    "\t\t\t\t\tfor (var n = 0; n < numSegs; n++) {\n",
    "\t\t\t\t\t\tvar u = f.sampleField(x, y, U_FIELD);\n",
    "\t\t\t\t\t\tvar v = f.sampleField(x, y, V_FIELD);\n",
    "\t\t\t\t\t\tl = Math.sqrt(u*u + v*v);\n",
    "\t\t\t\t\t\t// x += u/l * segLen;\n",
    "\t\t\t\t\t\t// y += v/l * segLen;\n",
    "\t\t\t\t\t\tx += u * 0.01;\n",
    "\t\t\t\t\t\ty += v * 0.01;\n",
    "\t\t\t\t\t\tif (x > f.numX * f.h)\n",
    "\t\t\t\t\t\t\tbreak;\n",
    "\n",
    "\t\t\t\t\t\tc.lineTo(cX(x), cY(y));\n",
    "\t\t\t\t\t}\n",
    "\t\t\t\t\tc.stroke();\n",
    "\t\t\t\t}\n",
    "\t\t\t}\n",
    "\t\t}\n",
    "\n",
    "\t\tif (scene.showObstacle) {\n",
    "\n",
    "\t\t\tc.strokeW\n",
    "\t\t\tr = scene.obstacleRadius + f.h;\n",
    "\t\t\tif (scene.showPressure)\n",
    "\t\t\t\tc.fillStyle = \"#000000\";\n",
    "\t\t\telse\n",
    "\t\t\t\tc.fillStyle = \"#DDDDDD\";\n",
    "\t\t\tc.beginPath();\t\n",
    "\t\t\tc.arc(\n",
    "\t\t\t\tcX(scene.obstacleX), cY(scene.obstacleY), cScale * r, 0.0, 2.0 * Math.PI); \n",
    "\t\t\tc.closePath();\n",
    "\t\t\tc.fill();\n",
    "\n",
    "\t\t\tc.lineWidth = 3.0;\n",
    "\t\t\tc.strokeStyle = \"#000000\";\n",
    "\t\t\tc.beginPath();\t\n",
    "\t\t\tc.arc(\n",
    "\t\t\t\tcX(scene.obstacleX), cY(scene.obstacleY), cScale * r, 0.0, 2.0 * Math.PI); \n",
    "\t\t\tc.closePath();\n",
    "\t\t\tc.stroke();\n",
    "\t\t\tc.lineWidth = 1.0;\n",
    "\t\t}\n",
    "\n",
    "\t\tif (scene.showPressure) {\n",
    "\t\t\tvar s = \"\"; \n",
    "            <!---\"pressure: \" + minP.toFixed(0) + \" - \" + maxP.toFixed(0) + \" N/m\";--->\n",
    "\t\t\tc.fillStyle =\"#000000\";\n",
    "\t\t\tc.font = \"16px Arial\";\n",
    "\t\t\tc.fillText(s, 10, 35);\n",
    "\t\t}\n",
    "\t}\n",
    "\n",
    "\tfunction setObstacle(x, y, reset) {\n",
    "\n",
    "\t\tvar vx = 0.0;\n",
    "\t\tvar vy = 0.0;\n",
    "\n",
    "\t\tif (!reset) {\n",
    "\t\t\tvx = (x - scene.obstacleX) / scene.dt;\n",
    "\t\t\tvy = (y - scene.obstacleY) / scene.dt;\n",
    "\t\t}\n",
    "\n",
    "\t\tscene.obstacleX = x;\n",
    "\t\tscene.obstacleY = y;\n",
    "\t\tvar r = scene.obstacleRadius;\n",
    "\t\tvar f = scene.fluid;\n",
    "\t\tvar n = f.numY;\n",
    "\t\tvar cd = Math.sqrt(2) * f.h;\n",
    "\n",
    "\t\tfor (var i = 1; i < f.numX-2; i++) {\n",
    "\t\t\tfor (var j = 1; j < f.numY-2; j++) {\n",
    "\n",
    "\t\t\t\tf.s[i*n + j] = 1.0;\n",
    "\n",
    "\t\t\t\tdx = (i + 0.5) * f.h - x;\n",
    "\t\t\t\tdy = (j + 0.5) * f.h - y;\n",
    "\n",
    "\t\t\t\tif (dx * dx + dy * dy < r * r) {\n",
    "\t\t\t\t\tf.s[i*n + j] = 0.0;\n",
    "\t\t\t\t\tif (scene.sceneNr == 2) \n",
    "\t\t\t\t\t\tf.m[i*n + j] = 0.5 + 0.5 * Math.sin(0.1 * scene.frameNr)\n",
    "\t\t\t\t\telse \n",
    "\t\t\t\t\t\tf.m[i*n + j] = 1.0;\n",
    "\t\t\t\t\tf.u[i*n + j] = vx;\n",
    "\t\t\t\t\tf.u[(i+1)*n + j] = vx;\n",
    "\t\t\t\t\tf.v[i*n + j] = vy;\n",
    "\t\t\t\t\tf.v[i*n + j+1] = vy;\n",
    "\t\t\t\t}\n",
    "\t\t\t}\n",
    "\t\t}\n",
    "\t\t\n",
    "\t\tscene.showObstacle = true;\n",
    "\t}\n",
    "\n",
    "\t// interaction -------------------------------------------------------\n",
    "\n",
    "\tvar mouseDown = false;\n",
    "\n",
    "\tfunction startDrag(x, y) {\n",
    "\t\tlet bounds = canvas.getBoundingClientRect();\n",
    "\n",
    "\t\tlet mx = x - bounds.left - canvas.clientLeft;\n",
    "\t\tlet my = y - bounds.top - canvas.clientTop;\n",
    "\t\tmouseDown = true;\n",
    "\n",
    "\t\tx = mx / cScale;\n",
    "\t\ty = (canvas.height - my) / cScale;\n",
    "\n",
    "\t\tsetObstacle(x,y, true);\n",
    "\t}\n",
    "\n",
    "\tfunction drag(x, y) {\n",
    "\t\tif (mouseDown) {\n",
    "\t\t\tlet bounds = canvas.getBoundingClientRect();\n",
    "\t\t\tlet mx = x - bounds.left - canvas.clientLeft;\n",
    "\t\t\tlet my = y - bounds.top - canvas.clientTop;\n",
    "\t\t\tx = mx / cScale;\n",
    "\t\t\ty = (canvas.height - my) / cScale;\n",
    "\t\t\tsetObstacle(x,y, false);\n",
    "\t\t}\n",
    "\t}\n",
    "\n",
    "\tfunction endDrag() {\n",
    "\t\tmouseDown = false;\n",
    "\t}\n",
    "\n",
    "\tcanvas.addEventListener('mousedown', event => {\n",
    "\t\tstartDrag(event.x, event.y);\n",
    "\t});\n",
    "\n",
    "\tcanvas.addEventListener('mouseup', event => {\n",
    "\t\tendDrag();\n",
    "\t});\n",
    "\n",
    "\tcanvas.addEventListener('mousemove', event => {\n",
    "\t\tdrag(event.x, event.y);\n",
    "\t});\n",
    "\n",
    "\tcanvas.addEventListener('touchstart', event => {\n",
    "\t\tstartDrag(event.touches[0].clientX, event.touches[0].clientY)\n",
    "\t});\n",
    "\n",
    "\tcanvas.addEventListener('touchend', event => {\n",
    "\t\tendDrag()\n",
    "\t});\n",
    "\n",
    "\tcanvas.addEventListener('touchmove', event => {\n",
    "\t\tevent.preventDefault();\n",
    "\t\tevent.stopImmediatePropagation();\n",
    "\t\tdrag(event.touches[0].clientX, event.touches[0].clientY)\n",
    "\t}, { passive: false});\n",
    "\n",
    "\n",
    "\tdocument.addEventListener('keydown', event => {\n",
    "\t\tswitch(event.key) {\n",
    "\t\t\tcase 'p': scene.paused = !scene.paused; break;\n",
    "\t\t\tcase 'm': scene.paused = false; simulate(); scene.paused = true; break;\n",
    "\t\t}\n",
    "\t});\n",
    "\n",
    "\tfunction toggleStart()\n",
    "\t{\n",
    "\t\tvar button = document.getElementById('startButton');\n",
    "\t\tif (scene.paused)\n",
    "\t\t\tbutton.innerHTML = \"Stop\";\n",
    "\t\telse\n",
    "\t\t\tbutton.innerHTML = \"Start\";\n",
    "\t\tscene.paused = !scene.paused;\n",
    "\t}\n",
    "\n",
    "\t// main -------------------------------------------------------\n",
    "\n",
    "\tfunction simulate() \n",
    "\t{\n",
    "\t\tif (!scene.paused)\n",
    "\t\t\tscene.fluid.simulate(scene.dt, scene.gravity, scene.numIters)\n",
    "\t\t\tscene.frameNr++;\n",
    "\t}\n",
    "\n",
    "\tfunction update() {\n",
    "\t\tsimulate();\n",
    "\t\tdraw();\n",
    "\t\trequestAnimationFrame(update);\n",
    "\t}\n",
    "\t\n",
    "\tsetupScene(1);\n",
    "\tupdate();\n",
    "\t\n",
    "</script> "
   ]
  },
  {
   "cell_type": "markdown",
   "id": "cb80e254-f609-4c2a-a355-5cf22d0c39b8",
   "metadata": {
    "slideshow": {
     "slide_type": "skip"
    },
    "tags": []
   },
   "source": [
    "### Coeficiente de arrastre: Esfera sumergida"
   ]
  },
  {
   "cell_type": "raw",
   "id": "18ed4cd5-32a3-4912-b772-59fdd00d37d3",
   "metadata": {
    "slideshow": {
     "slide_type": "subslide"
    },
    "tags": []
   },
   "source": [
    "<div class='diapo'>\n",
    "    <div class='base'>\n",
    "        <div class='base header'>\n",
    "            Coeficiente de arrastre: Esfera sumergida        \n",
    "        </div>\n",
    "        <div class='base body'>\n",
    "            <center>\n",
    "                <img src='Figures/sphere.png' width=100%>\n",
    "            </center>\n",
    "        </div>\n",
    "    </div>\n",
    "</div>"
   ]
  },
  {
   "cell_type": "markdown",
   "id": "b4f4c256-73fb-4b85-8e11-e6e260c480fc",
   "metadata": {
    "slideshow": {
     "slide_type": "skip"
    },
    "tags": []
   },
   "source": [
    "# Introducción a la teoría de capa límite"
   ]
  },
  {
   "cell_type": "raw",
   "id": "b365a79f-972a-47ef-bc28-13a36c641a87",
   "metadata": {
    "slideshow": {
     "slide_type": "slide"
    },
    "tags": []
   },
   "source": [
    "<div class='diapo'>\n",
    "    <div class='titulo'>\n",
    "        Introducción a la teoría de capa límite\n",
    "    </div>\n",
    "</div>"
   ]
  },
  {
   "cell_type": "raw",
   "id": "5d1999a8-80ad-4873-a0c4-2f82b00542f4",
   "metadata": {
    "slideshow": {
     "slide_type": "subslide"
    },
    "tags": []
   },
   "source": [
    "<div class='diapo'>\n",
    "    <div class='base'>\n",
    "        <div class='base header'>\n",
    "            Capa límite\n",
    "        </div>\n",
    "        <div class='base body'>\n",
    "            <table style='font-size:25px;width:100%'>\n",
    "                <tr>\n",
    "                    <td style='width:25%'>\n",
    "                        <center>\n",
    "                            <img src=Figures/prandtl.jpg width=100%>\n",
    "                            <b>Ludwig Prandtl </b> (1875-1953) <br>  \n",
    "                            Fluido dinamicista, físico y científico aeroespacial \n",
    "                        </center>\n",
    "                    </td>\n",
    "                    <td>\n",
    "                        En 1904, Prandtl propuso la teoría de capa límite, que establece:\n",
    "                        <ul style='text-align:justify'>\n",
    "                            <li style='color:red'>\n",
    "                                Solo en la región adyacente a una frontera sólida la\n",
    "viscosidad posee un efecto importante <b>(capa límite)</b>.\n",
    "                            </li>\n",
    "                            <li style='color:blue'>\n",
    "                                En la región fuera de la capa límite, el efecto de la\n",
    "viscosidad es despreciable y el fluido puede ser tratado como inviscido.\n",
    "                            </li>\n",
    "                            \n",
    "                            <center>\n",
    "                                <img src=Figures/regiones_flujo.png width=90%>\n",
    "                            </center>\n",
    "                            \n",
    "                        </ul>\n",
    "                    </td>\n",
    "                </tr>\n",
    "            </table>\n",
    "        </div>\n",
    "    </div>\n",
    "</div>"
   ]
  },
  {
   "cell_type": "markdown",
   "id": "000a7139-ea3d-441d-bcc0-353245278c54",
   "metadata": {
    "slideshow": {
     "slide_type": "skip"
    },
    "tags": []
   },
   "source": [
    "## Componentes de la fuerza de arrastre"
   ]
  },
  {
   "cell_type": "raw",
   "id": "ea44b885-fb3c-4f03-9ed8-104c96202892",
   "metadata": {
    "slideshow": {
     "slide_type": "subslide"
    },
    "tags": []
   },
   "source": [
    "<div class='diapo'>\n",
    "    <div class='base'>\n",
    "        <div class='base header'>\n",
    "            Componentes de la fuerza de arrastre\n",
    "        </div>\n",
    "        <div class='base body'>\n",
    "            <p>\n",
    "                La fuerza de arrastre puede ser dividida en dos componentes:\n",
    "            </p>\n",
    "\n",
    "            <table style='font-size:25px'>\n",
    "                <tr>\n",
    "                    <th style='background-color:rgba(255,0,0,0.1)'>\n",
    "                        <center> Fuerzas viscosas </center>\n",
    "                    </th>\n",
    "                    <th style='background-color:rgba(0,0,255,0.1)'>\n",
    "                        <center> Fuerzas de presión </center>\n",
    "                    </th>\n",
    "                </tr>\n",
    "                <tr>\n",
    "                    <td style='background-color:rgba(255,0,0,0.1); border:0px'>\n",
    "                        <center>Asociadas a <b>gradientes de velocidad</b> en la cercanía de la pared.</center>\n",
    "                    </td>\n",
    "                    <td style='background-color:rgba(0,0,255,0.1); border:0px'>\n",
    "                        <center> Asociadas a distribuciones de presión no uniformes. </center>\n",
    "                    </td>\n",
    "                </tr>\n",
    "                <tr>\n",
    "                    <td style='background-color:rgba(255,0,0,0.1);border:0px'>\n",
    "                        <center><b>Efectos viscosos</b></center>\n",
    "                    </td>\n",
    "                    <td style='background-color:rgba(0,0,255,0.1);border:0px'>\n",
    "                        <center><b>Geometrías no planas y separación de la capa límite. </b> </center>\n",
    "                    </td>\n",
    "                </tr>\n",
    "                <tr>\n",
    "                    <td style='background-color:rgba(255,0,0,0.1);border:0px'>\n",
    "                        $$F_{D,v} = \\int_{S}-\\textbf{n}\\cdot\\boldsymbol{\\tau}\\,dA$$\n",
    "                    </td>\n",
    "                    <td style='background-color:rgba(0,0,255,0.1);border:0px'>\n",
    "                        $$F_{D,p} = \\int_{S}p(-\\textbf{n})\\,dA$$\n",
    "                    </td>\n",
    "                </tr>\n",
    "            </table>\n",
    "            <br>\n",
    "            <div class='comment_box'>\n",
    "                Si logramos caracterizar el tensor de esfuerzos de corte $\\boldsymbol{\\tau}$ y la presión $p$ en <b>cada punto</b> de la superficie, además del vector unitario normal $\\textbf{n}$, podemos determinar la fuerza de arrastre neta que se ejerce sobre el cuerpo sumergido en el flujo.\n",
    "            </div>\n",
    "        </div>\n",
    "    </div>\n",
    "</div>"
   ]
  },
  {
   "cell_type": "markdown",
   "id": "e75d8d33-8c3d-4696-b21b-5a384b91377a",
   "metadata": {
    "slideshow": {
     "slide_type": "skip"
    },
    "tags": []
   },
   "source": [
    "## Conservación de masa y de momentum lineal: ecuaciones diferenciales"
   ]
  },
  {
   "cell_type": "raw",
   "id": "e66134ea-e6cf-4570-be65-d870633aa523",
   "metadata": {
    "slideshow": {
     "slide_type": "subslide"
    },
    "tags": []
   },
   "source": [
    "<div class='diapo'>\n",
    "    <div class='base'>\n",
    "        <div class='base header' style='font-size:40px'>\n",
    "            Conservación de masa y de momentum lineal: ecuaciones diferenciales\n",
    "        </div>\n",
    "        <div class='base body'>\n",
    "            <table style='font-size:25px;width:100%'>\n",
    "                <tr>\n",
    "                    <td style='width:50%;text-align:justify'>\n",
    "                        Las características de un flujo newtoniano e incompresible pueden ser descritas mediante la <b>ecuación de continuidad</b> (en su forma diferencial):\n",
    "                        $$\\nabla\\cdot\\textbf{v} = 0$$\n",
    "                        y la ecuación de <b>Navier-Stokes</b>:\n",
    "                        $$\\rho \\frac{d \\mathbf{v}}{d t}=-\\nabla p+\\mu \\nabla^2 \\mathbf{v}+\\rho \\mathbf{g}$$\n",
    "                    <td>\n",
    "                    <td>\n",
    "                        <center>\n",
    "                            <img src='Figures/ns_wanted.png' width=90%'>\n",
    "                        </center>\n",
    "                    </td>\n",
    "                </tr>\n",
    "            </table>        \n",
    "        </div>\n",
    "    </div>\n",
    "</div>"
   ]
  },
  {
   "cell_type": "markdown",
   "id": "1f268e3f-5813-4113-ba9d-6e7c08cb0e87",
   "metadata": {
    "slideshow": {
     "slide_type": "skip"
    },
    "tags": []
   },
   "source": [
    "## Caso particular: Placa plana paralela al flujo"
   ]
  },
  {
   "cell_type": "raw",
   "id": "981949a3-9261-4892-88c1-b6e31e2a2544",
   "metadata": {
    "slideshow": {
     "slide_type": "subslide"
    },
    "tags": []
   },
   "source": [
    "<div class='diapo'>\n",
    "    <div class='base'>\n",
    "        <div class='base header' style='font-size:40px'>\n",
    "            Caso particular: Placa plana paralela al flujo\n",
    "        </div>\n",
    "        <div class='base body'>\n",
    "            <center>\n",
    "                <img src='Figures/capalimite.png' width=100%>\n",
    "            </center>\n",
    "            $$\\operatorname{Re}_x = \\frac{\\rho U x}{\\mu}$$\n",
    "            De manera general, para             $\\operatorname{Re}_x>5\\times 10^5\\Rightarrow$ flujo turbulento\n",
    "        </div>\n",
    "    </div>\n",
    "</div>"
   ]
  },
  {
   "cell_type": "markdown",
   "id": "159ecd8b-a100-40d1-82eb-57b94298b255",
   "metadata": {
    "slideshow": {
     "slide_type": "skip"
    },
    "tags": []
   },
   "source": [
    "### Espesor de la capa límite $\\delta$"
   ]
  },
  {
   "cell_type": "raw",
   "id": "0d1c0a46-f0f4-4b00-abe4-6112792e6f88",
   "metadata": {
    "slideshow": {
     "slide_type": "subslide"
    },
    "tags": []
   },
   "source": [
    "<div class='diapo'>\n",
    "    <div class='base'>\n",
    "        <div class='alternativa_header'>\n",
    "            Espesor de la capa límite\n",
    "        </div>\n",
    "        <div class='alternativa_body'>\n",
    "            <table style='font-size:25px'>\n",
    "                <tr>\n",
    "                    <td style='width870%'>\n",
    "                        <p>\n",
    "                            El espesor de la capa límite puede ser definido de tres formas:\n",
    "                        </p>\n",
    "\n",
    "                        <ul style='text-align:justify'>\n",
    "                            <li> <b>Espesor de la capa límite</b> $\\delta$, distancia a la que $v_x\\approx U$</b>\n",
    "                            </li> \n",
    "                            <li>\n",
    "                                <b>Espesor de desplazamiento</b>, distancia que la placa debiera moverse verticalmente para compensar las pérdidas de flujo másico provocadas por la capa límite\n",
    "                                <span style='font-size:20px'>\n",
    "                                $$\\delta^*=\\int_0^{\\infty}\\left(1-\\frac{v_x}{U}\\right) \\approx \\int_0^\\delta\\left(1-\\frac{v_x}{U}\\right)$$</span>\n",
    "                            </li>\n",
    "                            <li>\n",
    "                                 <b>Espesor de momentum $\\theta$</b>, distancia que la placa debiera moverse verticalmente para compensar las pérdidas de flujo de momentum provocadas por la capa límite\n",
    "                                 <span style='font-size:20px'>\n",
    "                                     $$\\theta=\\int_0^{\\infty} \\frac{v_x}{U}\\left(1-\\frac{v_x}{U}\\right) d y \\approx \\int_0^\\delta \\frac{v_x}{U}\\left(1-\\frac{v_x}{U}\\right) d y$$\n",
    "                                 </span>\n",
    "                            </li>\n",
    "                        </ul>\n",
    "                    </td>\n",
    "                    <td>\n",
    "                        <center>\n",
    "                            <img src='Figures/espesor.png' width=80%>\n",
    "                            <img src='Figures/desplazamiento.png' width=80%>\n",
    "                        </center>\n",
    "                    </td>\n",
    "                </tr>\n",
    "            </table>\n",
    "        </div>\n",
    "    </div>\n",
    "</div>"
   ]
  },
  {
   "cell_type": "markdown",
   "id": "b82deead-87d1-441b-8ed6-aff2fd647a14",
   "metadata": {
    "slideshow": {
     "slide_type": "skip"
    },
    "tags": []
   },
   "source": [
    "### Ecuaciones diferenciales placa plana"
   ]
  },
  {
   "cell_type": "raw",
   "id": "a32d3ca5-feb7-4fab-8632-eea53bbfca43",
   "metadata": {
    "slideshow": {
     "slide_type": "subslide"
    },
    "tags": []
   },
   "source": [
    "<div class='diapo'>\n",
    "    <div class='base'>\n",
    "        <div class='alternativa_body'>\n",
    "            <div style='font-size:24px'>\n",
    "                <b>Ecuación de continuidad</b> (flujo 2D)\n",
    "                $$\\frac{\\partial v_x}{\\partial x}+\\frac{\\partial v_y}{\\partial y}=0 $$\n",
    "                <b>Ecuación de Navier-Stokes</b> (flujo 2D, efecto de la gravedad despreciable)\n",
    "                $$\\begin{aligned}\n",
    "    & \\rho\\left(v_x \\frac{\\partial v_x}{\\partial x}+v_y \\frac{\\partial v_x}{\\partial y}\\right)=-\\frac{\\partial p}{\\partial x}+\\mu\\left(\\frac{\\partial^2 v_x}{\\partial x^2}+\\frac{\\partial^2 v_x}{\\partial y^2}\\right) \\\\\n",
    "    & \\rho\\left(v_x \\frac{\\partial v_y}{\\partial x}+v_y \\frac{\\partial v_y}{\\partial y}\\right)=-\\frac{\\partial p}{\\partial y}+\\mu\\left(\\frac{\\partial^2 v_y}{\\partial x^2}+\\frac{\\partial^2 v_y}{\\partial y^2}\\right)\n",
    "    \\end{aligned}$$                  \n",
    "            </div>"
   ]
  },
  {
   "cell_type": "raw",
   "id": "963e0c5d-2ad6-4885-9f13-0fd465ed66b2",
   "metadata": {
    "slideshow": {
     "slide_type": "fragment"
    },
    "tags": []
   },
   "source": [
    "           <center>\n",
    "               <div class='equation_box' style='text-align:left'>\n",
    "                   Simplificación para placa plana paralela al flujo:\n",
    "                    $$v_x \\frac{\\partial v_x}{\\partial x}+v_y \\frac{\\partial v_x}{\\partial y} \\approx U \\frac{d U}{d x}+\\frac{\\mu}{\\rho} \\frac{\\partial^2 V_x}{\\partial y^2}$$\n",
    "\n",
    "                <div>con condiciones de contorno:</div>\n",
    "                    <ul>\n",
    "                        <li> \n",
    "                            En $y=0$ (pared): $v_x=v_y=0$ (condición de no deslizamiento) \n",
    "                        </li>\n",
    "                        <li>\n",
    "                            En $y=\\delta$ (capa límite), $v_x = U(x)$ \n",
    "                        </li>\n",
    "                    </ul>\n",
    "                </div>\n",
    "            </center>\n",
    "        </div>\n",
    "    </div>\n",
    "</div>"
   ]
  },
  {
   "cell_type": "markdown",
   "id": "7a223190-1c7c-4811-9db0-aad862a11e0f",
   "metadata": {
    "slideshow": {
     "slide_type": "skip"
    },
    "tags": []
   },
   "source": [
    "### Solución exacta de Blasius (flujo laminar)"
   ]
  },
  {
   "cell_type": "raw",
   "id": "79f75c5e-e272-4fd5-8378-4588c08dd8a8",
   "metadata": {
    "slideshow": {
     "slide_type": "subslide"
    },
    "tags": []
   },
   "source": [
    "<div class='diapo'>\n",
    "    <div class='base'>\n",
    "        <div class='base header'>\n",
    "            Solución exacta de Blasius (flujo laminar)\n",
    "        </div>\n",
    "        <div class='base body'>\n",
    "            <p style='text-align:justify'>\n",
    "                Las ecuaciones anteriores pueden ser resuelta de forma exacta\n",
    "suponiendo que la velocidad de corriente libre $U$ es constante ($dU/dx=0$), lo que es equivalente (en este caso) a decir que no existe gradiente de presión ($dp/dx=0$).\n",
    "            </p>\n"
   ]
  },
  {
   "cell_type": "raw",
   "id": "b60d3ba8-5f38-4f23-b68f-a848ad44363c",
   "metadata": {
    "slideshow": {
     "slide_type": "fragment"
    },
    "tags": []
   },
   "source": [
    "            <div class='comment_box' style='padding-top:0px;padding-bottom:1px'>\n",
    "                <p style='text-align:justify'>\n",
    "                    <b>Blasius</b> (1908) logro esto al al mostrar que el perfil de\n",
    "    velocidad adimensional ($v_x/U$) es una funcion solo de la variable\n",
    "    adimensional $\\eta$:\n",
    "                </p>\n",
    "                $$\n",
    "                \\frac{v_x}{U}=f^{\\prime}(\\eta) \\quad \\operatorname{con} \\eta=y\\left(\\frac{U \\rho}{\\mu x}\\right)^{1 / 2}\n",
    "                $$\n",
    "                <p style='text-align:justify;'>\n",
    "                    Al reemplazar en las expresiones anteriores, se obtiene la ecuación\n",
    "    diferencial no lineal de tercer orden:\n",
    "                </p>\n",
    "                $$\n",
    "    f^{\\prime \\prime \\prime}-\\frac{1}{2} f f^{\\prime \\prime}=0\n",
    "                $$\n",
    "                Con las condiciones de borde:\n",
    "                <center>\n",
    "                <table style='width:80%;font-size:25px'>\n",
    "                    <tr>\n",
    "                        <td>\n",
    "                            En $y=0$, $f=f^\\prime=0$\n",
    "                        </td>\n",
    "                        <td>\n",
    "                            y a medida que $y\\rightarrow\\infty$, $f^\\prime\\rightarrow 1$\n",
    "                        </td>\n",
    "                    </tr>                    \n",
    "                </table>\n",
    "                </center>\n",
    "            </div>\n",
    "        </div>\n",
    "    </div>\n",
    "</div>"
   ]
  },
  {
   "cell_type": "raw",
   "id": "66992065-6439-4bbd-9e9d-08f3164f33fe",
   "metadata": {
    "slideshow": {
     "slide_type": "subslide"
    },
    "tags": []
   },
   "source": [
    "<div class='diapo'>\n",
    "    <div class='base'>\n",
    "        <div class='base header'>\n",
    "        \n",
    "        </div>\n",
    "        <div class='base body'>\n",
    "            De la ecuación de Blasius, podemos estimar el espesor de la capa límite:\n",
    "            $$\n",
    "            \\frac{\\delta}{x}\\approx\\frac{5.0}{Re_x^{1/2}}\n",
    "            $$\n",
    "            De igual forma podemos calcular el espesor de desplazamiento $\\delta^*$:\n",
    "            $$\n",
    "            \\frac{\\delta^*}{x}=\\frac{1.721}{Re_x^{1/2}}\n",
    "            $$\n",
    "            el esfuerzo de corte en la pared:\n",
    "            $$\n",
    "            \\tau_{w}(x)=\\frac{0.332\\rho^{1/2}\\mu^{1/2}U^{3/2}}{x^{1/2}} \n",
    "            $$\n",
    "            y el espesor de momentum $\\theta$:\n",
    "            $$\n",
    "            \\frac{\\theta}{x}=\\frac{0.664}{Re_x^{1/2}}\n",
    "            $$\n",
    "        </div>\n",
    "    </div>\n",
    "</div>"
   ]
  },
  {
   "cell_type": "markdown",
   "id": "e4fb4d1e-dcd7-4c3a-a33b-9d69b3b20089",
   "metadata": {
    "slideshow": {
     "slide_type": "skip"
    },
    "tags": []
   },
   "source": [
    "#### Aproximación integral de von Kármán"
   ]
  },
  {
   "cell_type": "raw",
   "id": "83931da2-472f-49d3-9ee1-03dced07da3b",
   "metadata": {
    "slideshow": {
     "slide_type": "subslide"
    },
    "tags": []
   },
   "source": [
    "<div class='diapo'>\n",
    "    <div class='base'>\n",
    "        <div class='base header'>\n",
    "            Aproximación integral de von Kármán\n",
    "        </div>\n",
    "        <div class='base body'>\n",
    "            <center>\n",
    "                <div class='comment_box' style='padding:1px'>\n",
    "                    Se define el coeficiente de fricción $C_f$ como:\n",
    "                    $$C_f=\\frac{\\tau_w}{\\frac{1}{2} \\rho U^2}$$\n",
    "                </div>\n",
    "            </center>\n",
    "            <p></p>           \n",
    "            <table style='font-size:25px'>\n",
    "                <tr style='vertical-align:top'>\n",
    "                    <td style='width:33%;background-color:rgba(255,0,0,0.1)'>\n",
    "                        <b>Solución exacta de Blasius</b>\n",
    "                        $$C_f = \\frac{0.664}{\\sqrt{\\operatorname{Re}_x}}$$\n",
    "                    </td>\n",
    "                    <td style='width:33%;background-color:rgba(0,255,0,0.1)'>\n",
    "                        <b>Aproximación integral de von Kármán</b> (flujo laminar, suponiendo perfil de velocidad parabólico):\n",
    "                    $$C_f = \\frac{0.730}{\\sqrt{\\operatorname{Re}_x}}$$\n",
    "                    </td>\n",
    "                    <td style='width:33%;background-color:rgba(0,0,255,0.1)'>\n",
    "                        <b>Aproximación integral de von Kármán</b> (flujo turbulento):\n",
    "                        $$C_f=\\frac{0.0594}{R e_x^{1 / 5}}$$\n",
    "                        Además,\n",
    "                        $$\\frac{\\delta}{x}=\\frac{0.382}{R e_x^{1 / 5}}$$\n",
    "                    </td>\n",
    "                </tr>\n",
    "            </table>\n",
    "        </div>\n",
    "    </div>\n",
    "</div>"
   ]
  },
  {
   "cell_type": "markdown",
   "id": "583809fe-0bca-4102-89f9-1aed2d01ee08",
   "metadata": {
    "slideshow": {
     "slide_type": "skip"
    },
    "tags": []
   },
   "source": [
    "### Fuerza de arrastre en una placa paralela al flujo"
   ]
  },
  {
   "cell_type": "raw",
   "id": "edb0ed7e-cc60-41f1-8d44-fff70bf29a66",
   "metadata": {
    "slideshow": {
     "slide_type": "subslide"
    },
    "tags": []
   },
   "source": [
    "<div class='diapo'>\n",
    "    <div class='base'>\n",
    "        <div class='base header'>\n",
    "            Fuerza de arrastre en una placa paralela al flujo\n",
    "        </div>\n",
    "        <div class='base body'>\n",
    "            <p style='text-align:justify'>\n",
    "                Consideremos el caso previamente analizado; una placa plana\n",
    "paralela al flujo <b>sin gradiente de presión</b> ($dp/dx=0$). En este caso, la fuerza de\n",
    "arrastre $F_D$ es un resultado de las fuerzas tangenciales que actúan sobre la placa:\n",
    "            </p>\n",
    "            $$F_D = \\int_{\\text{superficie}} \\tau_{yx}\\,dA$$\n"
   ]
  },
  {
   "cell_type": "raw",
   "id": "3161921f-54d5-46b8-87fb-c6789d59326e",
   "metadata": {
    "slideshow": {
     "slide_type": "fragment"
    },
    "tags": []
   },
   "source": [
    "            De la definción de $C_D$:\n",
    "            \n",
    "            $$C_D=\\frac{F_D}{\\frac{1}{2} \\rho U^2 A}=\\frac{\\int_{\\text {superficie }} \\tau_{yx}\\, d A}{\\frac{1}{2} \\rho U^2 A} = \\frac{\\int_{\\text{superficie}}C_f\\,dA}{A}$$           \n"
   ]
  },
  {
   "cell_type": "raw",
   "id": "cce8259b-070d-4eb4-a5bd-7ed87bf53ddb",
   "metadata": {
    "slideshow": {
     "slide_type": "fragment"
    },
    "tags": []
   },
   "source": [
    "            Para flujo laminar, la solución exacta de Blasius establece $C_f = \\frac{0.664}{\\operatorname{Re}_x^{1/2}}$. Entonces:\n",
    "            $$C_d = \\frac{1.33}{\\operatorname{Re}_L}=\\frac{1.33\\mu}{\\rho UL}$$\n",
    "            \n",
    "\n",
    "        </div>\n",
    "    </div>\n",
    "</div>"
   ]
  },
  {
   "cell_type": "raw",
   "id": "c4dee5ab-c37e-445f-9ac3-8883e1ba99e7",
   "metadata": {
    "slideshow": {
     "slide_type": "subslide"
    },
    "tags": []
   },
   "source": [
    "<div class='diapo'>\n",
    "    <div class='base'>\n",
    "        <div class='base header'>\n",
    "            Otras relaciones útiles\n",
    "        </div>\n",
    "        <div class='base body'>\n",
    "            <table style='width:100%;font-size:25px'>\n",
    "                <tr>\n",
    "                    <td style='width:50%'>\n",
    "                        Flujo turbulento, placa lisa\n",
    "                        $$C_D = \\frac{0.031}{\\operatorname{Re}_L^{1/7}}$$\n",
    "                    </td>\n",
    "                    <td style='width:50%'>\n",
    "                        Flujo completamente turbulento\n",
    "                        $$C_D = \\left(1.89 + 1.62\\ln{\\frac{L}{\\epsilon}}\\right)^{-2.5}$$\n",
    "                    </td>\n",
    "                </tr>\n",
    "                    <td style='width:50%'>\n",
    "                        Flujo de transición ($\\text{Re}_{L,crit}= 5\\times 10^5$)\n",
    "                        $$C_d = \\frac{0.031}{\\operatorname{Re}_L^{1/7}}-\\frac{1440}{\\text{Re}_L}$$\n",
    "                    </td>\n",
    "                    <td style='width:50%'>\n",
    "                        Flujo de transición ($\\text{Re}_{L,crit}= 3\\times 10^6$)\n",
    "                        $$C_d = \\frac{0.031}{\\operatorname{Re}_L^{1/7}}-\\frac{8700}{\\text{Re}_L}$$                    \n",
    "                    </td>\n",
    "                </tr>\n",
    "            </table>\n",
    "        </div>\n",
    "    </div>\n",
    "</div>"
   ]
  },
  {
   "cell_type": "raw",
   "id": "37de0a87-e179-4bd9-a47c-f3685b151fb4",
   "metadata": {
    "slideshow": {
     "slide_type": "subslide"
    },
    "tags": []
   },
   "source": [
    "<div class='diapo'>\n",
    "    <div class='base'>\n",
    "        <div class='base header'>\n",
    "        \n",
    "        </div>\n",
    "        <div class='base body'>\n",
    "            <center>\n",
    "                <img src='Figures/moody_cd.png' width=70%>\n",
    "            </center>\n",
    "        </div>\n",
    "    </div>\n",
    "</div>"
   ]
  },
  {
   "cell_type": "markdown",
   "id": "3e6e2c24-220b-4629-b0e6-40b79a3d1473",
   "metadata": {
    "slideshow": {
     "slide_type": "skip"
    },
    "tags": []
   },
   "source": [
    "## Caso particular: Placa plana perpendicular al flujo"
   ]
  },
  {
   "cell_type": "raw",
   "id": "3ae6e61b-6aa6-4eb5-8c08-57eb8d6cc7ff",
   "metadata": {
    "slideshow": {
     "slide_type": "subslide"
    },
    "tags": []
   },
   "source": [
    "<div class='diapo'>\n",
    "    <div class='base'>\n",
    "        <div class='base header'>\n",
    "            Caso particular: Placa plana perpendicular al flujo\n",
    "        </div>\n",
    "        <div class='base body'>\n",
    "        <p style='text-align:justify'>\n",
    "                            Si la placa plana es perpendicular a la dirección de flujo, la fuerza de arrastre es resultado de la presión que ejerce el fluido sobre la placa:\n",
    "                    $$F_D =\\int_\\text{superficie}p\\,dA$$\n",
    "                    La distribución de presión debe determinarse experimentalmente\n",
    "                </p>\n",
    "            <table style='width:100%;font-size:25px'>\n",
    "                <tr>\n",
    "                    <td style='width:55%;text-align:justify'>\n",
    "            <center>\n",
    "                <img src=Figures/planap.png width=100% style='margin-top:0px'>\n",
    "            </center>\n",
    "\n",
    "                    </td>\n",
    "                    <td>\n",
    "                        <img src='Figures/placa_perpendicular.png' width=100%>\n",
    "                    </td>\n",
    "                </tr>\n",
    "            </table>\n",
    "\n",
    "        </div>\n",
    "    </div>\n",
    "</div>"
   ]
  }
 ],
 "metadata": {
  "kernelspec": {
   "display_name": "Python 3 (ipykernel)",
   "language": "python",
   "name": "python3"
  },
  "language_info": {
   "codemirror_mode": {
    "name": "ipython",
    "version": 3
   },
   "file_extension": ".py",
   "mimetype": "text/x-python",
   "name": "python",
   "nbconvert_exporter": "python",
   "pygments_lexer": "ipython3",
   "version": "3.9.13"
  },
  "widgets": {
   "application/vnd.jupyter.widget-state+json": {
    "state": {},
    "version_major": 2,
    "version_minor": 0
   }
  }
 },
 "nbformat": 4,
 "nbformat_minor": 5
}
