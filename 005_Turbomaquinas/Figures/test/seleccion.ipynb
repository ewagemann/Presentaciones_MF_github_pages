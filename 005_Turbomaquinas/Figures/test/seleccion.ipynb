{
 "cells": [
  {
   "cell_type": "code",
   "execution_count": 1,
   "metadata": {},
   "outputs": [],
   "source": [
    "import numpy as np\n",
    "import scipy.optimize"
   ]
  },
  {
   "cell_type": "code",
   "execution_count": 2,
   "metadata": {},
   "outputs": [],
   "source": [
    "def cole_turb(e_d):\n",
    "    return (-2*np.log10(e_d/3.7))**-2\n",
    "\n",
    "def coleb(Re,e_d):\n",
    "    eqf = lambda f : f**-0.5+2*np.log10(e_d/3.7+2.51/Re/f**0.5)\n",
    "    ffact = scipy.optimize.newton(eqf,cole_turb(e_d))\n",
    "    return ffact"
   ]
  },
  {
   "cell_type": "code",
   "execution_count": 3,
   "metadata": {},
   "outputs": [],
   "source": [
    "Ds = 102.3 *10**-3 # m\n",
    "Ats = Ds**2*np.pi/4\n",
    "Dd = 102.3 *10**-3 # m\n",
    "Atd = Dd**2*np.pi/4\n",
    "\n",
    "Ls = 2 # m\n",
    "Ld = 400 # m\n",
    "\n",
    "e = 4.6*10**-5 #m\n",
    "e_dd = e/Dd # rugosidad relativa linea de descarga\n",
    "e_ds = e/Ds # rugosidad relativa linea de succion\n",
    "\n",
    "g=9.81 # m/s2\n",
    "mu = 10**-3 # Pa.s\n",
    "rho = 10**3 # kg/m3\n",
    "Q = 800*10**-3/60 # m3/s\n",
    "za = 0\n",
    "zb = 80 # m\n",
    "\n",
    "def ha_func(q):\n",
    "    \n",
    "    vd = q/Atd\n",
    "    vs = q/Ats\n",
    "    # perdidas menores\n",
    "    # succion\n",
    "    fts = cole_turb(e_ds)\n",
    "    k1 = 75*fts\n",
    "    k2 = 30*fts\n",
    "    \n",
    "    hlms = vs**2/2/g*(k1+k2)\n",
    "    \n",
    "    # descarga\n",
    "    ftd = cole_turb(e_dd)\n",
    "    k3 = 30*ftd\n",
    "    k4=100*ftd\n",
    "    k5 = 8*ftd\n",
    "    k6=30*ftd\n",
    "    k7 = 1\n",
    "\n",
    "    hlmd = vd**2/2/g*(k3+k4+k5+k6+k7)\n",
    "    \n",
    "    #total\n",
    "    hlm = hlms+hlmd\n",
    "\n",
    "    # perdidas mayores\n",
    "    # succion\n",
    "    Res = rho*vs*Ds/mu\n",
    "    fs = coleb(Res,e_ds)\n",
    "    hls = vs**2/2/g*fs/Ls/Ds\n",
    "\n",
    "    # descarga\n",
    "    \n",
    "    Red = rho*vd*Dd/mu\n",
    "    fd = coleb(Red,e_dd)\n",
    "    hld = vd**2/2/g*fd/Ld/Dd\n",
    "    \n",
    "    #total\n",
    "    hl = hld+hls\n",
    "    \n",
    "\n",
    "    ha = zb-za+hl+hlm\n",
    "    return ha\n",
    "\n",
    "ha_req = ha_func(Q)"
   ]
  },
  {
   "cell_type": "code",
   "execution_count": 4,
   "metadata": {},
   "outputs": [
    {
     "name": "stdout",
     "output_type": "stream",
     "text": [
      "80.7437064735291\n"
     ]
    }
   ],
   "source": [
    "print(ha_req)"
   ]
  },
  {
   "cell_type": "code",
   "execution_count": 7,
   "metadata": {},
   "outputs": [
    {
     "name": "stdout",
     "output_type": "stream",
     "text": [
      "84.98916817580397\n"
     ]
    }
   ],
   "source": [
    "#bomba: N 40-250\n",
    "\n",
    "Ds = 62.7 *10**-3 # m\n",
    "Ats = Ds**2*np.pi/4\n",
    "Dd1 = 40.9 * 10**-3 # Diametro de la descarga de la bomba: se requiere \n",
    "Atd1 = Dd1**2*np.pi/4\n",
    "\n",
    "Dd = 102.3 *10**-3 # m\n",
    "Atd = Dd**2*np.pi/4\n",
    "\n",
    "Ls = 2 # m\n",
    "Ld = 400 # m\n",
    "\n",
    "e = 4.6*10**-5 #m\n",
    "e_dd = e/Dd # rugosidad relativa linea de descarga\n",
    "e_ds = e/Ds # rugosidad relativa linea de succion\n",
    "\n",
    "g=9.81 # m/s2\n",
    "mu = 10**-3 # Pa.s\n",
    "rho = 10**3 # kg/m3\n",
    "Q = 800*10**-3/60 # m3/s\n",
    "za = 0\n",
    "zb = 80 # m\n",
    "\n",
    "def ha_func(q):\n",
    "    \n",
    "    vd1 = q /Atd1\n",
    "    vd = q/Atd\n",
    "    vs = q/Ats\n",
    "\n",
    "\n",
    "    # perdidas mayores\n",
    "    # succion\n",
    "    Res = rho*vs*Ds/mu\n",
    "    fs = coleb(Res,e_ds)\n",
    "    hls = vs**2/2/g*fs/Ls/Ds\n",
    "\n",
    "    # descarga\n",
    "    \n",
    "    Red = rho*vd*Dd/mu\n",
    "    fd = coleb(Red,e_dd)\n",
    "    hld = vd**2/2/g*fd/Ld/Dd\n",
    "    \n",
    "    #total\n",
    "    hl = hld+hls\n",
    "    \n",
    "    # perdidas menores\n",
    "    # succion\n",
    "    fts = cole_turb(e_ds)\n",
    "    k1 = 75*fts\n",
    "    k2 = 30*fts\n",
    "    \n",
    "    hlms = vs**2/2/g*(k1+k2)\n",
    "    \n",
    "    # descarga\n",
    "    ftd = cole_turb(e_dd)\n",
    "    k3 = 30*ftd\n",
    "    k4=100*ftd\n",
    "    k5 = 8*ftd\n",
    "    k6=30*ftd\n",
    "    k7 = 1\n",
    "    k8 = 0.48\n",
    "    \n",
    "    hlmd = vd**2/2/g*(k3+k4+k5+k6+k7)+vd1**2/2/g*k8\n",
    "    \n",
    "    #total\n",
    "    hlm = hlms+hlmd\n",
    "\n",
    "    \n",
    "    ha = zb-za+hl+hlm\n",
    "    return ha\n",
    "\n",
    "ha_req = ha_func(Q)\n",
    "print(ha_req)"
   ]
  },
  {
   "cell_type": "code",
   "execution_count": null,
   "metadata": {},
   "outputs": [],
   "source": []
  }
 ],
 "metadata": {
  "kernelspec": {
   "display_name": "Python 3",
   "language": "python",
   "name": "python3"
  },
  "language_info": {
   "codemirror_mode": {
    "name": "ipython",
    "version": 3
   },
   "file_extension": ".py",
   "mimetype": "text/x-python",
   "name": "python",
   "nbconvert_exporter": "python",
   "pygments_lexer": "ipython3",
   "version": "3.7.6"
  }
 },
 "nbformat": 4,
 "nbformat_minor": 4
}
