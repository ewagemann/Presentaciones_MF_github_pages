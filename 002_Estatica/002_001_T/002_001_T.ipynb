{
 "cells": [
  {
   "cell_type": "markdown",
   "id": "b42282a2-747d-4f62-9307-d871309e16cc",
   "metadata": {
    "slideshow": {
     "slide_type": "skip"
    },
    "tags": []
   },
   "source": [
    "# Prelude & templates"
   ]
  },
  {
   "cell_type": "markdown",
   "id": "f24f90df-bf5f-442f-b690-7b961f1f41d0",
   "metadata": {
    "slideshow": {
     "slide_type": "skip"
    },
    "tags": []
   },
   "source": [
    "## Diapo Base"
   ]
  },
  {
   "cell_type": "raw",
   "id": "62142287-85ae-442f-8ae0-b1265906bce0",
   "metadata": {
    "slideshow": {
     "slide_type": "skip"
    },
    "tags": []
   },
   "source": [
    "<div class='diapo'>\n",
    "    <div class='base'>\n",
    "        <div class='base header'>\n",
    "        \n",
    "        </div>\n",
    "        <div class='base body'>\n",
    "        \n",
    "        </div>\n",
    "    </div>\n",
    "</div>"
   ]
  },
  {
   "cell_type": "markdown",
   "id": "d9a0bf21-0c25-47bf-8d5b-bb4987d8a026",
   "metadata": {
    "slideshow": {
     "slide_type": "skip"
    },
    "tags": []
   },
   "source": [
    "## Diapo Alternativa"
   ]
  },
  {
   "cell_type": "raw",
   "id": "f1ea9dd5-7832-4e5d-8bdb-5a5bcf16e66d",
   "metadata": {
    "slideshow": {
     "slide_type": "skip"
    },
    "tags": []
   },
   "source": [
    "<div class='diapo'>\n",
    "    <div class='alternativa'>\n",
    "        <div class='alternativa_header'>\n",
    "        \n",
    "        </div>\n",
    "        <div class='alternativa_body'>\n",
    "        \n",
    "        </div>\n",
    "    </div>\n",
    "</div>"
   ]
  },
  {
   "cell_type": "markdown",
   "id": "736810d7-6b3f-48ad-acd7-86401debcdea",
   "metadata": {
    "slideshow": {
     "slide_type": "skip"
    },
    "tags": []
   },
   "source": [
    "## Diapo título"
   ]
  },
  {
   "cell_type": "raw",
   "id": "b7545158-03cc-4616-bb13-7d751527feb7",
   "metadata": {
    "slideshow": {
     "slide_type": "skip"
    },
    "tags": []
   },
   "source": [
    "<div class='diapo'>\n",
    "    <div class='titulo'>\n",
    "    </div>\n",
    "</div>"
   ]
  },
  {
   "cell_type": "code",
   "execution_count": 1,
   "id": "bd3641cb-01c4-481e-8a25-e23371e8ea8c",
   "metadata": {
    "slideshow": {
     "slide_type": "skip"
    },
    "tags": []
   },
   "outputs": [
    {
     "data": {
      "application/javascript": [
       "MathJax.Hub.Queue(\n",
       "  [\"resetEquationNumbers\", MathJax.InputJax.TeX],\n",
       "  [\"PreProcess\", MathJax.Hub],\n",
       "  [\"Reprocess\", MathJax.Hub]\n",
       ");\n",
       "\n",
       "MathJax.Hub.Config({\n",
       "    TeX: { equationNumbers: { autoNumber: \"AMS\" } }\n",
       "});\n"
      ],
      "text/plain": [
       "<IPython.core.display.Javascript object>"
      ]
     },
     "metadata": {},
     "output_type": "display_data"
    }
   ],
   "source": [
    "%%javascript\n",
    "MathJax.Hub.Queue(\n",
    "  [\"resetEquationNumbers\", MathJax.InputJax.TeX],\n",
    "  [\"PreProcess\", MathJax.Hub],\n",
    "  [\"Reprocess\", MathJax.Hub]\n",
    ");\n",
    "\n",
    "MathJax.Hub.Config({\n",
    "    TeX: { equationNumbers: { autoNumber: \"AMS\" } }\n",
    "});"
   ]
  },
  {
   "cell_type": "code",
   "execution_count": 2,
   "id": "6f310c3c-aaf4-4040-a76b-ca5edc967425",
   "metadata": {
    "slideshow": {
     "slide_type": "skip"
    },
    "tags": []
   },
   "outputs": [],
   "source": [
    "%matplotlib widget\n",
    "import numpy as np\n",
    "import matplotlib.pyplot as plt\n",
    "import ipywidgets as widgets\n",
    "import scipy.optimize\n",
    "from matplotlib.ticker import FormatStrFormatter\n",
    "import pandas as pd"
   ]
  },
  {
   "cell_type": "markdown",
   "id": "de4b3b35-f6d4-4731-94fa-8222c5935106",
   "metadata": {
    "slideshow": {
     "slide_type": "skip"
    },
    "tags": []
   },
   "source": [
    "# Portada"
   ]
  },
  {
   "cell_type": "raw",
   "id": "0a562e58-65ac-43bc-89d6-350c7f029b09",
   "metadata": {
    "slideshow": {
     "slide_type": "slide"
    },
    "tags": []
   },
   "source": [
    "<div class='diapo'>\n",
    "    <div class='base'>\n",
    "    <table class='portada' style='width:100%'>\n",
    "        <tr class='portadatr' style='vertical-align:center'>\n",
    "            <td class='portada1' style='width:25%; border: 0px solid black'>\n",
    "                <center>\n",
    "                    <img src=../Figures/udec.jpg height=120px>\n",
    "                </center>\n",
    "            </td>\n",
    "            <td class='portada2' style='width:50%; border: 0px solid black'> \n",
    "                <center> \n",
    "                    <p class='portada institucion'>\n",
    "                        Universidad de Concepción <br>\n",
    "                        Facultad de Ingeniería <br>\n",
    "                        Departamento de Ingeniería Mecánica\n",
    "                    </p>\n",
    "                </center>\n",
    "            </td>\n",
    "            <td class='portada3' style='width:25%; border: 0px solid black'>\n",
    "                <center>\n",
    "                    <img src=../Figures/DIM.png height=70px>\n",
    "                </center>\n",
    "            </td>    \n",
    "        </tr>\n",
    "    </table>\n",
    "        <div class='base body'>\n",
    "<center>\n",
    "\n",
    "    <p class='portada asignatura'> \n",
    "        <b>Mecánica de fluidos</b> \n",
    "    </p>\n",
    "    <p style=\"font-size:5px\">\n",
    "    <br>\n",
    "    </p>\n",
    "    <p class='portada capitulo'>\n",
    "        <b> Estática de fluidos </b>\n",
    "    </p>\n",
    "    <p class='portada capitulo'>\n",
    "        001-002-T\n",
    "    </p>\n",
    "</center>\n",
    "</div>\n",
    "</div>\n",
    "</div>"
   ]
  },
  {
   "cell_type": "markdown",
   "id": "cf5410b4-1fe2-496d-b4a6-bc86108482ff",
   "metadata": {
    "slideshow": {
     "slide_type": "skip"
    },
    "tags": []
   },
   "source": [
    "# Densidad, peso específico, gravedad específica"
   ]
  },
  {
   "cell_type": "raw",
   "id": "2ed9480b-b516-4e3e-a952-b97bb46c74a4",
   "metadata": {
    "slideshow": {
     "slide_type": "slide"
    },
    "tags": []
   },
   "source": [
    "<div class='diapo'>\n",
    "    <div class='titulo'>\n",
    "        Densidad, peso específico, gravedad específica\n",
    "    </div>\n",
    "</div>"
   ]
  },
  {
   "cell_type": "markdown",
   "id": "95713d30-5435-4f12-8388-b49798747b91",
   "metadata": {
    "slideshow": {
     "slide_type": "skip"
    },
    "tags": []
   },
   "source": [
    "## Densidad"
   ]
  },
  {
   "cell_type": "raw",
   "id": "4f294e5f-f9a1-4a86-a085-77efe9d0e187",
   "metadata": {
    "slideshow": {
     "slide_type": "subslide"
    },
    "tags": []
   },
   "source": [
    "<div class='diapo'>\n",
    "    <div class='base'>\n",
    "        <div class='base header'>\n",
    "            Densidad ($\\rho$)\n",
    "        </div>\n",
    "        <div class='base body'>\n",
    "        \n",
    "            La densidad corresponde a una propiedad intensiva, la cual nos indica la cantidad de masa por unidad de volumen de alguna sustancia:\n",
    "\n",
    "        $$\\rho=\\frac{\\text { masa }}{\\text { volumen }}=\\frac{m}{\\mathcal{V}}$$\n",
    "        \n",
    "        \n",
    "           <table style='width:100%;font-size:25px'>\n",
    "                <tr style='vertical-align:top; width:100%'>\n",
    "                    <td style='width:50%'>     \n",
    "                        <p>\n",
    "                            La densidad tiene unidades de medida:\n",
    "                        </p>\n",
    "\n",
    "                        <ul style=\"font-size:25px; text-align:justify\">\n",
    "                            <li> SI:\n",
    "                                <ul><li>$\\text{kg}/\\text{m}^3$</li></ul>\n",
    "                                <li> BG:\n",
    "                                    <ul style=\"font-size:22px; text-align:justify\">\n",
    "                                        <li> \n",
    "                                           $\\text{slugs}/\\text{ft}^3$\n",
    "                                        </li>\n",
    "                                        <li> \n",
    "                                           $\\text{lbm}/\\text{ft}^3$\n",
    "                                        </li>\n",
    "                                    </ul>\n",
    "                        </ul>\n",
    "                    </td>\n",
    "                    <td width=5%></td>\n",
    "                    <td width=50%>\n",
    "                        <div class='units_box' > \n",
    "                            <p>\n",
    "                                <b> Densidad de agua líquida (a $4^\\circ\\text{C}$):</b>\n",
    "                            </p>\n",
    "                            <p>\n",
    "                                $$\n",
    "                                \\begin{aligned}\n",
    "                                \\rho_{\\text {agua liquida } @ 4^{\\circ} \\mathrm{C}}&= 1000\\,\\mathrm{kg/m}^3\\\\\n",
    "                                                 &=1 \\,\\mathrm{g/cm}^3 \\\\\n",
    "                                                 & = 16.0185 \\,\\mathrm{lb/ft}^3 \\\\\n",
    "                                                 & = 1.94032 \\,\\mathrm{slug/ft}^3 \\\\\n",
    "                                \\end{aligned}\n",
    "                                $$\n",
    "                                \n",
    "                            </p>\n",
    "\n",
    "                        </div>\n",
    "                    </td>\n",
    "                </tr>\n",
    "            </table>\n",
    "\n",
    "        </div>\n",
    "    </div>\n",
    "</div>"
   ]
  },
  {
   "cell_type": "markdown",
   "id": "00721a88-3d2c-4ac3-8a76-85c564fe1089",
   "metadata": {
    "slideshow": {
     "slide_type": "skip"
    },
    "tags": []
   },
   "source": [
    "## Peso específico"
   ]
  },
  {
   "cell_type": "raw",
   "id": "7df0507e-b527-4c7e-9803-7d462e970bf2",
   "metadata": {
    "slideshow": {
     "slide_type": "subslide"
    },
    "tags": []
   },
   "source": [
    "<div class='diapo'>\n",
    "    <div class='base'>\n",
    "        <div class='base header'>\n",
    "             Peso específico ($\\gamma$)\n",
    "        </div>\n",
    "        \n",
    "        <div class='base body'>\n",
    "        \n",
    "            <table style='width:100%; font-size:25px;text-align:justify'>\n",
    "                <tr>\n",
    "                    <td style='width:50%'>\n",
    "                    \n",
    "                        <p style='text-align:justify'>\n",
    "                            El peso específico corresponde a una propiedad intensiva que nos entrega el peso de un fluido por unidad de volumen:\n",
    "                        </p>\n",
    "                        <center>\n",
    "                            <div class='equation_box'>\n",
    "                                $$\\gamma=\\rho \\cdot g$$\n",
    "                            </div>\n",
    "                        </center>\n",
    "                        <p style='text-align:justify'>\n",
    "                        Esta propiedad posee unidades de medida (SI): $1 \\frac{\\text{Pa}}{\\text{m}}=1 \\frac{\\text{N}}{\\text{m}^3}$\n",
    "                        </p>\n",
    "                    </td>\n",
    "                    <td style='width:50%'>\n",
    "                        <div class='units_box' style='padding-top:10px; padding-bottom:10px'>\n",
    "                            Para agua líquida a $4^\\circ\\text{C}$: \n",
    "                            $$\n",
    "                            \\begin{aligned} \n",
    "                                \\gamma_{\\text {agua liquida } @ 4^{\\circ} \\mathrm{C}}&=\\rho_{\\text {agua líquida } @ 4^{\\circ} \\mathrm{C}} \\times g\\\\\n",
    "                                &=1000 \\frac{\\mathrm{kg}}{\\mathrm{m}^{3}} \\times 9.81 \\frac{\\mathrm{m}}{\\mathrm{s}^{2}}  \\\\\n",
    "                                &=9.81 \\times 10^{3} \\frac{\\text{Pa}}{\\text{m}} \\\\\n",
    "                                &=9.81 \\frac{\\text{kPa}}{\\text{m}}  \\\\\n",
    "                                &= 9.81 \\frac{\\text{kN}}{\\text{m}^3} \n",
    "                            \\end{aligned}\n",
    "                            $$\n",
    "                        </div>\n",
    "                    </td>\n",
    "                </tr>\n",
    "            </table>\n",
    "\n",
    "        </div>\n",
    "\n",
    "    </div>\n",
    "</div>"
   ]
  },
  {
   "cell_type": "markdown",
   "id": "3762cf6c-856f-4f69-aa5e-63e9eec86812",
   "metadata": {
    "slideshow": {
     "slide_type": "skip"
    },
    "tags": []
   },
   "source": [
    "## Gravedad específica"
   ]
  },
  {
   "cell_type": "raw",
   "id": "e25c30fc-2077-4f74-9bed-a1a2601e81a4",
   "metadata": {
    "slideshow": {
     "slide_type": "subslide"
    },
    "tags": []
   },
   "source": [
    "<div class='diapo'>\n",
    "    <div class='base'>\n",
    "        <div class='base header'>\n",
    "             Gravedad específica ($\\text{SG}$)\n",
    "        </div>\n",
    "\n",
    "        <div class='base body'>\n",
    "            <p>\n",
    "                La gravedad específica corresponde a la razón entre la densidad de una sustancia y la densidad de una sustancia de referencia (generalmente agua a $4^\\circ\\text C$):\n",
    "            </p>\n",
    "            <center>\n",
    "                <div class='equation_box'>\n",
    "                    $$\\text{SG}=\\frac{\\rho}{\\rho_{r e f}}$$\n",
    "                </div>\n",
    "            </center>\n",
    "            <p></p>\n",
    "            <center>\n",
    "                <div class='units_box' style='padding-top:10px; padding-bottom:10px; width:90%'>\n",
    "                    En el caso de que la sustancia de referencia corresponde a agua a $4^\\circ\\text C$:\n",
    "\n",
    "                    $$\\text{SG}=\\frac{\\rho}{\\rho_{\\text {agua liquida } @ 4^{\\circ} \\mathrm{C}}}=\\frac{\\rho_{\\text {liq }}}{1000 \\frac{\\mathrm{kg}}{\\mathrm{m}^{3}}}$$\n",
    "                </div>\n",
    "            </center>\n",
    "        </div>\n",
    "    </div>\n",
    "</div>"
   ]
  },
  {
   "cell_type": "raw",
   "id": "1cc3d360-b797-4131-be1d-1b916659af07",
   "metadata": {
    "slideshow": {
     "slide_type": "subslide"
    },
    "tags": []
   },
   "source": [
    "<div style=\"height:600px; border: 0px solid black\">\n",
    "    \n",
    "    \n",
    "    <div style=\"margin: 0;\n",
    "                position: absolute;\n",
    "                top: 50%;\n",
    "                -ms-transform: translateY(-50%);\n",
    "                transform: translateY(-50%) translateY(0px);\n",
    "                width:100%;\n",
    "                font-size:25px;\n",
    "                \">\n",
    "    <!--- header -->\n",
    "\n",
    "        <p style=\"font-size:55px; \n",
    "                    \">\n",
    "\n",
    "        </p>\n",
    "\n",
    "    <!--- content -->\n",
    "    <center><div>\n",
    "         <div style=\"background-color:rgba(210,210,210,0.1);padding:20px\">\n",
    "            <p style='text-align:justify;\n",
    "                          font-size:22px'>\n",
    "                Por ejemplo, la gravedad específica de mercurio ($\\text{Hg}$) es:\n",
    "\n",
    "                $$\\text{SG}_{\\text{Hg}}=\\frac{\\rho_{\\text{Hg}}}{\\rho_{\\text {agua liquida } @4^{\\circ} \\mathrm{C}}}=\\frac{13.5 \\times 10^{3} \\frac{\\mathrm{kg}}{\\mathrm{m}^{3}}}{1000 \\frac{\\mathrm{kg}}{\\mathrm{m}^{3}}}=13.5$$\n",
    "            </p>\n",
    "        </div>\n",
    "        \n"
   ]
  },
  {
   "cell_type": "raw",
   "id": "8666ddb5-f752-44fe-b170-812964eab466",
   "metadata": {
    "slideshow": {
     "slide_type": "fragment"
    },
    "tags": []
   },
   "source": [
    "        <div style=\"background-color:rgba(210,210,210,0.4);padding:20px\">\n",
    "            <p style='text-align:justify;\n",
    "                              font-size:22px'>\n",
    "                La gravedad específica del agua líquida a $4^\\circ\\text{C}$ es:\n",
    "\n",
    "                $$\\text{SG}_{\\text{w}}=\\frac{\\rho_{\\text {agua liquida } @4^{\\circ} \\mathrm{C}}}{\\rho_{\\text {agua liquida } @4^{\\circ} \\mathrm{C}}}=\\frac{1000 \\frac{\\mathrm{kg}}{\\mathrm{m}^{3}}}{1000 \\frac{\\mathrm{kg}}{\\mathrm{m}^{3}}}=1$$    \n",
    "            </p>\n",
    "        </div>"
   ]
  },
  {
   "cell_type": "raw",
   "id": "64834093-8d1e-4222-a13f-3dc569b59421",
   "metadata": {
    "slideshow": {
     "slide_type": "fragment"
    },
    "tags": []
   },
   "source": [
    "         <div style=\"background-color:rgba(210,210,210,0.6);padding:20px\">\n",
    "            <p style='text-align:justify;\n",
    "                      font-size:22px'>\n",
    "                Notar que es posible relacionar la gravedad específica al peso específico de un fluido:\n",
    "\n",
    "                $$\\text{SG}=\\frac{\\rho}{\\rho_{\\text {agua liquida } @ 4^{\\circ} \\mathrm{C}}}=\\frac{\\rho  g}{\\rho_{\\text {agua liquida } @ 4^{\\circ} \\mathrm{C}}  g}=\\frac{\\gamma}{\\gamma_{\\text {agua liquida } @ 4^{\\circ} \\mathrm{C}}}=\\frac{\\gamma}{9.81 \\frac{\\mathrm{kPa}}{\\mathrm{m}}}$$\n",
    "            </p>\n",
    "        </div>\n",
    "        </div>\n",
    "    </div></center>\n",
    "</div>"
   ]
  },
  {
   "cell_type": "markdown",
   "id": "0df8e633-66a4-417f-bb85-7d32060a9331",
   "metadata": {
    "slideshow": {
     "slide_type": "skip"
    },
    "tags": []
   },
   "source": [
    "# Fuerzas sobre cuerpos sumergidos"
   ]
  },
  {
   "cell_type": "raw",
   "id": "aa3058cc-f4a8-4cfb-a413-f66fd882e78d",
   "metadata": {
    "slideshow": {
     "slide_type": "slide"
    },
    "tags": []
   },
   "source": [
    "<div class='diapo'>\n",
    "    <div class='titulo'>\n",
    "        Fuerzas sobre cuerpos sumergidos\n",
    "    </div>\n",
    "</div>"
   ]
  },
  {
   "cell_type": "markdown",
   "id": "15739eb0-e479-4f51-9167-fac66f9e45e1",
   "metadata": {
    "slideshow": {
     "slide_type": "skip"
    },
    "tags": []
   },
   "source": [
    "## Principio de Arquímedes"
   ]
  },
  {
   "cell_type": "raw",
   "id": "e121c54e-7a8b-452a-9ed3-3b1cbae022d6",
   "metadata": {
    "slideshow": {
     "slide_type": "slide"
    },
    "tags": []
   },
   "source": [
    "<div class='diapo'>\n",
    "    <div class='base'>\n",
    "        <div class='base header'>\n",
    "            Principio de Arquímedes\n",
    "        </div>\n",
    "        <div class='base body'>\n",
    "            <table style=\"width:100%; font-size:25px\">\n",
    "                <tr>\n",
    "                    <td style=\"width:50%\">\n",
    "                        <center>\n",
    "                            <img src=../Figures/arquimedes4b.png id=\"fig_arq\" onclick=\"change_arquimedes()\" height=400px>\n",
    "                        </center>\n",
    "                    </td>\n",
    "                    <td>\n",
    "                        <p style=\"text-align:justify\">\n",
    "                        Se define la <b>fuerza de boyamiento</b> o flotación ($F_{b}$) como la fuerza neta <span style=\"color:red\"> vertical hacia arriba</span> ejercida por un fluido sobre un cuerpo sumergido en él.\n",
    "                        </p>\n",
    "                        <p style=\"text-align:justify\">\n",
    "                         La magnitud de $\\mathrm{F_{b}}$ es equivalente al <b>peso del fluido desplazado por el cuerpo</b>:\n",
    "\n",
    "                        $$F_b=\\gamma_f \\, V_d$$\n",
    "\n",
    "                        con $\\gamma_f$ peso específico del fluido y $V_d$ el fluido desplazado por el cuerpo, que equivale a la porción del volumen del cuerpo que se encuentra sumergida.\n",
    "                        </p>\n",
    "                    </td\n",
    "                </tr>\n",
    "            </table>\n",
    "            <center>\n",
    "                <div class=comment_box>\n",
    "                    El principio de Arquímedes es válido incluso para cuerpos parcialmente sumergidos\n",
    "                </div>\n",
    "            </center>\n",
    "        </div>\n",
    "    </div>\n",
    "</div>\n",
    "\n",
    "<script>\n",
    "    var counter_arq = 0;\n",
    "    const figs_arquimedes = ['../Figures/arquimedes0.png','../Figures/arquimedes2.png','../Figures/arquimedes3.png','../Figures/arquimedes4b.png']\n",
    "    var Arqim = document.getElementById(\"fig_arq\");\n",
    "\n",
    "    function change_arquimedes() {\n",
    "        let arq = figs_arquimedes[counter_arq%4]\n",
    "        Arqim.src = arq\n",
    "        counter_arq++;\n",
    "        }\n",
    "    \n",
    "</script>"
   ]
  },
  {
   "cell_type": "markdown",
   "id": "7bcfbdb2-51d6-40c7-b35c-bd1609700f68",
   "metadata": {
    "slideshow": {
     "slide_type": "skip"
    },
    "tags": []
   },
   "source": [
    "## Flotabilidad"
   ]
  },
  {
   "cell_type": "raw",
   "id": "4d6d198b-bdf6-494a-8774-c77b17fb01d1",
   "metadata": {
    "slideshow": {
     "slide_type": "subslide"
    },
    "tags": []
   },
   "source": [
    "<div class='diapo'>\n",
    "    <div class='base'>\n",
    "        <div class='base header'>\n",
    "            Flotabilidad\n",
    "        </div>\n",
    "        <div class='base body'>\n",
    "        <table style=\"width:100%\">\n",
    "            <tr>\n",
    "                <td style=\"width:40%\">\n",
    "                    <center>\n",
    "                        <img src=../Figures/flotabilidad1.png height=400px>\n",
    "                    </center>\n",
    "                </td>\n",
    "            <td>\n",
    "                <table style=\"width:100%\">\n",
    "                    <tr>\n",
    "                        <td style=\"font-size:20px;\n",
    "                                   text-align:justify;\n",
    "                                   background-color:rgba(0,255,255,0.1\n",
    "                                   \">\n",
    "                           <p style=\"font-size:20px;\n",
    "                                   text-align:justify\n",
    "                                   \">\n",
    "                               Un cuerpo <b>flota</b> en un fluido, cuando la fuerza de boyamiento $F_b$ para el cuerpo completamente sumergido es mayor que el peso del fluido desplazado. Esto ocurrirá si:\n",
    "                               $$\\rho < \\rho_f$$\n",
    "                           </p>\n",
    "                        </td>\n",
    "                    </tr>\n",
    "                    <tr>\n",
    "                        <td style=\"font-size:20px;\n",
    "                                   text-align:justify;\n",
    "                                   background-color:rgba(0,255,255,0.25);\n",
    "                                   \">\n",
    "                           <p style=\"font-size:20px;\n",
    "                                   text-align:justify\n",
    "                                   \">\n",
    "                              Un cuerpo quedará <b>suspendido</b> en un fluido, cuando la fuerza de boyamiento $F_b$ tiene igual magnitud que el peso del fluido desplazado. Esto ocurrirá si:\n",
    "                               $$\\rho = \\rho_f$$\n",
    "                           </p>\n",
    "                        </td>\n",
    "                    </tr>\n",
    "                    <tr>\n",
    "                        <td style=\"font-size:20px;\n",
    "                                   text-align:justify;\n",
    "                                   background-color:rgba(0,255,255,0.4);\n",
    "                                   \">\n",
    "                           <p style=\"font-size:20px;\n",
    "                                   text-align:justify\n",
    "                                   \">\n",
    "                              Un cuerpo se <b>hundirá</b>, cuando la fuerza de boyamiento $F_b$ tiene una magnitud menor que el peso del fluido desplazado. Esto ocurrirá si:\n",
    "                               $$\\rho > \\rho_f$$\n",
    "                           </p>\n",
    "                        </td>\n",
    "                    </tr>\n",
    "                </table>\n",
    "            </td>\n",
    "            </tr>\n",
    "        </table>\n",
    "        </div>\n",
    "    </div>\n",
    "</div>"
   ]
  },
  {
   "cell_type": "raw",
   "id": "d081d92d-abeb-48f7-aa6e-9e9f50b794b8",
   "metadata": {
    "slideshow": {
     "slide_type": "subslide"
    },
    "tags": []
   },
   "source": [
    "<div class='diapo'>\n",
    "    <div class='base'>\n",
    "        <div class='base header'>\n",
    "            Cuerpo de densidad menor a la del fluido\n",
    "        </div>\n",
    "        <div class='base body'>\n",
    "            <center>\n",
    "                <img src=../Figures/hundir_full_SGs_0_0.5.png width=100% id=\"hundir_0.5\" onclick=\"changeImage_hundir05()\"> \n",
    "            </center>\n",
    "        </div>\n",
    "    </div>\n",
    "</div>\n",
    "\n",
    "<script>\n",
    "    \n",
    "    var counter05 = 0;\n",
    "    var yourImg05 = document.getElementById(\"hundir_0.5\");\n",
    "    function changeImage_hundir05() {\n",
    "        if (counter05 % 3 == 0){\n",
    "            yourImg05.src = \"../Figures/hundir_full_SGs_0.5.gif\";\n",
    "            counter05++;\n",
    "        } else if ((counter05-1) % 3 ==0) {\n",
    "            yourImg05.src = \"../Figures/hundir_full_SGs_final_0.5.png\";\n",
    "            counter05++;\n",
    "        } else {\n",
    "            yourImg05.src = \"../Figures/hundir_full_SGs_0_0.5.png\";\n",
    "            counter05++;\n",
    "           }\n",
    "        }\n",
    "</script>"
   ]
  },
  {
   "cell_type": "raw",
   "id": "ef061247-d4f3-4f4b-8b5a-89db7a51fc41",
   "metadata": {
    "slideshow": {
     "slide_type": "subslide"
    },
    "tags": []
   },
   "source": [
    "<div class='diapo'>\n",
    "    <div class='base'>\n",
    "        <div class='base header'>\n",
    "            Cuerpo de densidad idéntica a la del fluido\n",
    "        </div>\n",
    "        <div class='base body'>\n",
    "            <center>\n",
    "                <img src=../Figures/hundir_full_SGs_0_1.png width=100% id=\"hundir_1\" onclick=\"changeImage_hundir1()\"> \n",
    "            </center>\n",
    "        </div>\n",
    "    </div>\n",
    "</div>\n",
    "\n",
    "<script>\n",
    "    \n",
    "    var counter1 = 0;\n",
    "    var yourImg1 = document.getElementById(\"hundir_1\");\n",
    "    function changeImage_hundir1() {\n",
    "        if (counter1 % 3 == 0){\n",
    "            yourImg1.src = \"../Figures/hundir_full_SGs_1.gif\";\n",
    "            counter1++;\n",
    "        } else if ((counter1-1) % 3 ==0) {\n",
    "            yourImg1.src = \"../Figures/hundir_full_SGs_final_1.png\";\n",
    "            counter1++;\n",
    "        } else {\n",
    "            yourImg1.src = \"../Figures/hundir_full_SGs_0_1.png\";\n",
    "            counter1++;\n",
    "           }\n",
    "        }\n",
    "</script>"
   ]
  },
  {
   "cell_type": "raw",
   "id": "32c82767-3673-4c3b-a2be-a293bef46179",
   "metadata": {
    "slideshow": {
     "slide_type": "subslide"
    },
    "tags": []
   },
   "source": [
    "<div class='diapo'>\n",
    "    <div class='base'>\n",
    "        <div class='base header'>\n",
    "            Cuerpo de densidad mayor a la del fluido\n",
    "        </div>\n",
    "        <div class='base body'>\n",
    "            <center>\n",
    "                <img src=../Figures/hundir_full_SGs_0_1.2.png width=100% id=\"hundir_1.2\" onclick=\"changeImage_hundir12()\"> \n",
    "            </center>\n",
    "        </div>\n",
    "    </div>\n",
    "</div>\n",
    "\n",
    "<script>\n",
    "    \n",
    "    var counter12 = 0;\n",
    "    var yourImg12 = document.getElementById(\"hundir_1.2\");\n",
    "    function changeImage_hundir12() {\n",
    "        if (counter12 % 3 == 0){\n",
    "            yourImg12.src = \"../Figures/hundir_full_SGs_1.2.gif\";\n",
    "            counter12++;\n",
    "        } else if ((counter12-1) % 3 ==0) {\n",
    "            yourImg12.src = \"../Figures/hundir_full_SGs_final_1.2.png\";\n",
    "            counter12++;\n",
    "        } else {\n",
    "            yourImg12.src = \"../Figures/hundir_full_SGs_0_1.2.png\";\n",
    "            counter12++;\n",
    "           }\n",
    "        }\n",
    "</script>"
   ]
  },
  {
   "cell_type": "markdown",
   "id": "e44326c8-ef3f-4f56-8caf-3b1007b7b052",
   "metadata": {
    "slideshow": {
     "slide_type": "skip"
    },
    "tags": []
   },
   "source": [
    "# ¿Cómo resolver un problema en ingeniería?"
   ]
  },
  {
   "cell_type": "raw",
   "id": "8937e9c8-9aa8-4535-ae85-0f79f7fbc9ed",
   "metadata": {
    "slideshow": {
     "slide_type": "slide"
    },
    "tags": []
   },
   "source": [
    "<div class='diapo'>\n",
    "    <div class='titulo'>\n",
    "        ¿Cómo resolver un problema en ingeniería?\n",
    "    </div>\n",
    "</div>"
   ]
  },
  {
   "cell_type": "raw",
   "id": "d8f15951-163c-425a-91ea-97dc4d87b9ab",
   "metadata": {
    "slideshow": {
     "slide_type": "subslide"
    },
    "tags": []
   },
   "source": [
    "<div class='diapo'>\n",
    "    <div class='alternativa'>\n",
    "        <div class='alternativa_header'>\n",
    "        \n",
    "        </div>\n",
    "        <center><div class='alternativa_body' style='font-size:40px;width:80%'>\n",
    "            <center>\"La práctica hace al maestro\"</center>\n",
    "            <p style='text-align:right;font-style:italic;font-size:30px'>viejo adagio </p>\n",
    "        </div>\n",
    "        </center>\n",
    "    </div>\n",
    "</div>"
   ]
  },
  {
   "cell_type": "raw",
   "id": "b57495e4-3db3-462d-af91-f45eab8a4f57",
   "metadata": {
    "slideshow": {
     "slide_type": "subslide"
    },
    "tags": []
   },
   "source": [
    "<div class='diapo'>\n",
    "    <div class='alternativa'>\n",
    "        <div class='alternativa_header'>\n",
    "        \n",
    "        </div>\n",
    "        <center><div class='alternativa_body' style='font-size:40px;width:80%;font-align:left'>\n",
    "            \"Método, método <br>\n",
    "Si quieres hacer algo bien necesitas mucho<br>\n",
    "método método método método método.\"\n",
    "            <p style='text-align:right;font-style:italic;font-size:30px'>Pin Pon </p>\n",
    "        </div>\n",
    "        </center>\n",
    "    </div>\n",
    "</div>"
   ]
  },
  {
   "cell_type": "markdown",
   "id": "4fdbad7c-c15e-49a1-9f54-75cc22dc22dd",
   "metadata": {
    "slideshow": {
     "slide_type": "skip"
    },
    "tags": []
   },
   "source": [
    "## Esquema general"
   ]
  },
  {
   "cell_type": "raw",
   "id": "9fe94534-3740-48ae-97c0-acf5e3c2939d",
   "metadata": {
    "slideshow": {
     "slide_type": "subslide"
    },
    "tags": []
   },
   "source": [
    "<div class='diapo'>\n",
    "    <div class='base'>\n",
    "        <div class='base header'>\n",
    "            Métodología para la resolución de problemas\n",
    "        </div>\n",
    "        <div class='base body'>\n",
    "            <center>\n",
    "                <img src=../Figures/resolucion_de_problemas.png width=100%>\n",
    "            </center>            \n",
    "        </div>\n",
    "    </div>\n",
    "</div>"
   ]
  },
  {
   "cell_type": "markdown",
   "id": "1d481114-cd8f-4def-8832-f05c3edd57b4",
   "metadata": {
    "slideshow": {
     "slide_type": "skip"
    },
    "tags": []
   },
   "source": [
    "## Análisis del problema"
   ]
  },
  {
   "cell_type": "raw",
   "id": "a8ab7a5a-4584-44c8-8475-b1af4e1ba5b9",
   "metadata": {
    "slideshow": {
     "slide_type": "subslide"
    },
    "tags": []
   },
   "source": [
    "<div class='diapo'>\n",
    "    <div class='alternativa'>\n",
    "        <div class='alternativa_header'>\n",
    "        \n",
    "        </div>\n",
    "        <div class='alternativa_body'>\n",
    "            <table style='width:100%;font-size:25px'>\n",
    "                <tr>\n",
    "                    <td style='width:30%;font-size:30px;font-weight:bold;background-color:rgba(255,170,170,1)'>\n",
    "                        Análisis del problema\n",
    "                    </td>\n",
    "                    <td>\n",
    "                        <ul style='text-align:justify'>\n",
    "                            <li>\n",
    "                                Lectura completa del problema // Recopilación de toda la información asociada a la problemática\n",
    "                            </li>\n",
    "                            <li>\n",
    "                                Instrospección y análisis\n",
    "                                <ul>\n",
    "                                    <li>\n",
    "                                        Previo a resolver, detenerse a pensar\n",
    "                                    </li>\n",
    "                                </ul>\n",
    "                            </li>\n",
    "                            <li>\n",
    "                                (Escribir) traducción de la problemática a palabras simples o punteo\n",
    "                                <ul  style='text-align:justify'>\n",
    "                                    <li>\n",
    "                                        Identificar marco de referencia (¿Bajo que condiciones se desarrolla la problemática? ¿Qué información relevante conozco?)\n",
    "                                    </li>\n",
    "                                    <li> \n",
    "                                        Identificar requisito (¿Qué se debe determinar?) </li>\n",
    "                                    </li>\n",
    "                                    <li>\n",
    "                                        Identificar información faltante (¿Qué falta para resolver este problema?)\n",
    "                                    </li>\n",
    "                                </ul>\n",
    "                            </li>\n",
    "                            <li>\n",
    "                                Planificar\n",
    "                            </li>\n",
    "                        </ul>\n",
    "                    </td>\n",
    "                </tr>\n",
    "            </table>\n",
    "        </div>\n",
    "    </div>\n",
    "</div>"
   ]
  },
  {
   "cell_type": "markdown",
   "id": "8aa751f2-14ac-4fb7-9a54-bad0c02a0adb",
   "metadata": {
    "slideshow": {
     "slide_type": "skip"
    },
    "tags": []
   },
   "source": [
    "## Esquema"
   ]
  },
  {
   "cell_type": "raw",
   "id": "f74a96ec-7f33-41ac-9776-c7d05cdbf604",
   "metadata": {
    "slideshow": {
     "slide_type": "subslide"
    },
    "tags": []
   },
   "source": [
    "<div class='diapo'>\n",
    "    <div class='alternativa'>\n",
    "        <div class='alternativa_header'>\n",
    "        \n",
    "        </div>\n",
    "        <div class='alternativa_body'>\n",
    "            <table style='width:100%;font-size:25px'>\n",
    "                <tr>\n",
    "                    <td style='width:30%;font-size:30px;font-weight:bold;background-color:rgba(195,221,206,1)'>\n",
    "                        Esquema\n",
    "                    </td>\n",
    "                    <td>\n",
    "                        <ul style='text-align:justify'>\n",
    "                            <li>\n",
    "                                Dibujar un esquema lo más realista y preciso posible del sistema\n",
    "                            </li>\n",
    "                                <ul>\n",
    "                                    <li>\n",
    "                                        No debe demostrar sus capacidades artísticas, pero si ser lo suficientemente preciso como para facilitar el entendimiento del problema\n",
    "                                    </li>\n",
    "                                </ul>\n",
    "                            <li>\n",
    "                                Identificar toda la información relevante en la figura. Según corresponda:\n",
    "                            </li>\n",
    "                                <ul>\n",
    "                                    <li>\n",
    "                                        Incluir un marco de referencia (eje de coordenadas)\n",
    "                                    </li>\n",
    "                                    <li>\n",
    "                                        Dimensiones del sistema\n",
    "                                    </li>\n",
    "                                    <li>\n",
    "                                        Flujos de energía y masa\n",
    "                                    </li>\n",
    "                                    <li>\n",
    "                                        Velocidades\n",
    "                                    </li>\n",
    "                                    <li>\n",
    "                                        Fuerzas\n",
    "                                    </li>\n",
    "                                    <li>\n",
    "                                        Propiedades que se mantengan constantes (por ejemplo, temperatura, densidad\n",
    "                                    </li>\n",
    "                                </ul>\n",
    "                        </ul>\n",
    "                    </td>\n",
    "                </tr>\n",
    "            </table>\n",
    "        </div>\n",
    "    </div>\n",
    "</div>"
   ]
  },
  {
   "cell_type": "markdown",
   "id": "5302d189-5e1a-41e6-9358-44a4927f51a2",
   "metadata": {
    "slideshow": {
     "slide_type": "skip"
    },
    "tags": []
   },
   "source": [
    "## Supuestos y aproximaciones"
   ]
  },
  {
   "cell_type": "raw",
   "id": "2461e977-ce2f-4ee3-af8a-645c6fbe7ce7",
   "metadata": {
    "slideshow": {
     "slide_type": "subslide"
    },
    "tags": []
   },
   "source": [
    "<div class='diapo'>\n",
    "    <div class='alternativa'>\n",
    "        <div class='alternativa_header'>\n",
    "        \n",
    "        </div>\n",
    "        <div class='alternativa_body'>\n",
    "            <table style='width:100%;font-size:25px'>\n",
    "                <tr>\n",
    "                    <td style='width:30%;font-size:30px;font-weight:bold;background-color:rgba(215,215,244,1)'>\n",
    "                        Supuestos y aproximaciones\n",
    "                    </td>\n",
    "                    <td>\n",
    "                        <ul style='text-align:justify'>\n",
    "                            <li>\n",
    "                                Listar todas las hipótesis y/o aproximaciones relevantes y que permitan simplificar la resolución del problema\n",
    "                            </li>\n",
    "                            <ul style='text-align:justify'>\n",
    "                                <li>\n",
    "                                    ¿El sistema está en estado estacionario o transiente?\n",
    "                                </li>\n",
    "                                    <ul>\n",
    "                                        <li>\n",
    "                                            Si existe variación temporal, ¿se puede aproxima de todas formas el sistema a uno estacionario?\n",
    "                                        </li>\n",
    "                                    </ul>\n",
    "                                <li>\n",
    "                                    ¿El proceso analizado es isotérmico, adiabático u otro tipo?\n",
    "                                </li>\n",
    "                                <li>\n",
    "                                    ¿Qué propiedades pueden ser consideradas como uniformes a lo largo del sistema o en secciones de este? \n",
    "                                </li>\n",
    "                                <li>\n",
    "                                    ¿Existen fenómenos físicos que predominan sobre otros?\n",
    "                                    <ul>\n",
    "                                        <li>\n",
    "                                            ¿Es posible despreciar algunos efectos?\n",
    "                                        </li>\n",
    "                                    </ul>\n",
    "                                </li>\n",
    "                            </ul>\n",
    "                        </ul>\n",
    "                    </td>\n",
    "                </tr>\n",
    "            </table>\n",
    "        </div>\n",
    "    </div>\n",
    "</div>"
   ]
  },
  {
   "cell_type": "markdown",
   "id": "f845ada9-f5cf-4158-b6e1-a16322b70b7e",
   "metadata": {
    "slideshow": {
     "slide_type": "skip"
    },
    "tags": []
   },
   "source": [
    "## Leyes físicas"
   ]
  },
  {
   "cell_type": "raw",
   "id": "6fcccc37-6205-4564-afc8-f71384de0ee8",
   "metadata": {
    "slideshow": {
     "slide_type": "subslide"
    },
    "tags": []
   },
   "source": [
    "<div class='diapo'>\n",
    "    <div class='alternativa'>\n",
    "        <div class='alternativa_header'>\n",
    "        \n",
    "        </div>\n",
    "        <div class='alternativa_body'>\n",
    "            <table style='width:100%;font-size:25px'>\n",
    "                <tr>\n",
    "                    <td style='width:30%;font-size:30px;font-weight:bold;background-color:rgba(244,215,227,1)'>\n",
    "                        Leyes físicas\n",
    "                    </td>\n",
    "                    <td>\n",
    "                        <ul style='text-align:justify'>\n",
    "                            <li>\n",
    "                                Identificar y plantear todas las leyes físicas relevantes a la problemática analizada\n",
    "                            </li>\n",
    "                            <ul style='text-align:justify'>\n",
    "                                <li>\n",
    "                                    Determinar si las leyes físicas planteadas son aplicables a los supuestos y aproximaciones planteados. En caso contrario, revisar supuestos y/o leyes físicas planteadas.\n",
    "                                </li>\n",
    "                                <li>\n",
    "                                    Reducir leyes físicas relevantes a su forma más sencilla posible mediante:\n",
    "                                </li>\n",
    "                                    <ul>\n",
    "                                        <li>\n",
    "                                            Aplicación de supuestos y aproximaciones\n",
    "                                        </li>\n",
    "                                        <li>\n",
    "                                            Manipulación algebraica\n",
    "                                        </li>\n",
    "                                    </ul>\n",
    "                                </li>\n",
    "                            </ul>\n",
    "                        </ul>\n",
    "                    </td>\n",
    "                </tr>\n",
    "            </table>\n",
    "        </div>\n",
    "    </div>\n",
    "</div>"
   ]
  },
  {
   "cell_type": "markdown",
   "id": "9f114a30-47f3-4a92-8fe0-9bd133e3a381",
   "metadata": {
    "slideshow": {
     "slide_type": "skip"
    },
    "tags": []
   },
   "source": [
    "## Propiedades"
   ]
  },
  {
   "cell_type": "raw",
   "id": "75cdae99-d808-45e0-9cfc-eaa2ec6e58f2",
   "metadata": {
    "slideshow": {
     "slide_type": "subslide"
    },
    "tags": []
   },
   "source": [
    "<div class='diapo'>\n",
    "    <div class='alternativa'>\n",
    "        <div class='alternativa_header'>\n",
    "        \n",
    "        </div>\n",
    "        <div class='alternativa_body'>\n",
    "            <table style='width:100%;font-size:25px'>\n",
    "                <tr>\n",
    "                    <td style='width:30%;font-size:30px;font-weight:bold;background-color:rgba(227,222,229,1)'>\n",
    "                        Propiedades\n",
    "                    </td>\n",
    "                    <td>\n",
    "                        <ul style='text-align:justify'>\n",
    "                            <li>\n",
    "                                Determinar y listar todas las propiedades físicas relevantes a partir de:\n",
    "                            </li>\n",
    "                                <ul style='text-align:justify'>\n",
    "                                    <li>\n",
    "                                       Tablas de propiedades\n",
    "                                    </li>\n",
    "                                    <li>\n",
    "                                        Relaciones termodinámicas\n",
    "                                    </li>\n",
    "                                    <li>\n",
    "                                        Fuentes bibliográficas\n",
    "                                    </li>\n",
    "                                </ul>\n",
    "                            <li>\n",
    "                                Indicar en la lista la fuente de la información, de ser conocida.\n",
    "                                <ul>\n",
    "                                    Si la fuente no es conocida, se debe buscar una (fiable) y/o justificar el supuesto/aproximación empleado para determinar la propiedad física.\n",
    "                                </ul>\n",
    "                            </li>\n",
    "                            <li>\n",
    "                                Asegurarse de que todas las propieades son expresadas en un único sistema de unidades. En caso contrario, realizar transformaciones correspondientes.\n",
    "                            </li>\n",
    "                        </ul>\n",
    "                    </td>\n",
    "                </tr>\n",
    "            </table>\n",
    "        </div>\n",
    "    </div>\n",
    "</div>"
   ]
  },
  {
   "cell_type": "markdown",
   "id": "6b9d06ae-33d7-44e3-bca2-578194b66146",
   "metadata": {
    "slideshow": {
     "slide_type": "skip"
    },
    "tags": []
   },
   "source": [
    "## Cálculos"
   ]
  },
  {
   "cell_type": "raw",
   "id": "9bf0368b-f4da-4a02-8e64-4a46724d5a69",
   "metadata": {
    "slideshow": {
     "slide_type": "subslide"
    },
    "tags": []
   },
   "source": [
    "<div class='diapo'>\n",
    "    <div class='alternativa'>\n",
    "        <div class='alternativa_header'>\n",
    "        \n",
    "        </div>\n",
    "        <div class='alternativa_body'>\n",
    "            <table style='width:100%;font-size:25px'>\n",
    "                <tr>\n",
    "                    <td style='width:30%;font-size:30px;font-weight:bold;background-color:rgba(246,255,213,1)'>\n",
    "                        Cálculos\n",
    "                    </td>\n",
    "                    <td>\n",
    "                        <ul style='text-align:justify'>\n",
    "                            <li>\n",
    "                                Sustituir propiedades conocidas en relaciones planteadas y determinar incógnitas\n",
    "                            </li>\n",
    "                                <ul style='text-align:justify'>\n",
    "                                    <li>\n",
    "                                        Realizar cálculos de manera ordenada y secuencial. Es importante mantener el orden para facilitar la (auto)revisión.\n",
    "                                    </li>\n",
    "                                    <li>\n",
    "                                        Si el cálculo se realiza manualmente, es posible simplificar este procedimiento y reducir fuentes de error mediante el cálculo independiente y progresivo de términos aditivos.\n",
    "                                    </li>\n",
    "                                    <li>\n",
    "                                        Si el cálculo se realiza mediante software, hacer uso de rutinas ya establecidas para simplificar este procedimiento.\n",
    "                                </ul>\n",
    "                            </li>\n",
    "                        </ul>\n",
    "                    </td>\n",
    "                </tr>\n",
    "            </table>\n",
    "        </div>\n",
    "    </div>\n",
    "</div>"
   ]
  },
  {
   "cell_type": "markdown",
   "id": "8534183c-4cb3-43aa-912a-6bd8e27c7d62",
   "metadata": {
    "slideshow": {
     "slide_type": "skip"
    },
    "tags": []
   },
   "source": [
    "## Análisis de resultados"
   ]
  },
  {
   "cell_type": "raw",
   "id": "21269779-4664-42de-bb40-6f0f53e06259",
   "metadata": {
    "slideshow": {
     "slide_type": "subslide"
    },
    "tags": []
   },
   "source": [
    "<div class='diapo'>\n",
    "    <div class='alternativa'>\n",
    "        <div class='alternativa_header'>\n",
    "        \n",
    "        </div>\n",
    "        <div class='alternativa_body'>\n",
    "            <table style='width:100%;font-size:25px'>\n",
    "                <tr>\n",
    "                    <td style='width:30%;font-size:30px;font-weight:bold;background-color:rgba(255,204,170,1)'>\n",
    "                        Análisis de resultados\n",
    "                    </td>\n",
    "                    <td>\n",
    "                        <ul style='text-align:justify'>\n",
    "                            <li>\n",
    "                                Presentar resultados de manera ordenada.\n",
    "                                <ul style='text-align:justify'>\n",
    "                                    <li>\n",
    "                                        Redondear resultados hasta un número apropiado de cifras significativas\n",
    "                                    </li>\n",
    "                                    <li>\n",
    "                                        La presentación ordenada facilita comunicación y revisión\n",
    "                                    </li>\n",
    "                                </ul>\n",
    "                            </li>\n",
    "                            <li>\n",
    "                                Determinar intuitivamente si los resultados obtenidos son correctos\n",
    "                            </li>\n",
    "                                <ul style='text-align:justify'>\n",
    "                                    <li>\n",
    "                                        ¿Se encuentran las magnitudas obtenidas dentro de rangos razonables?\n",
    "                                    </li>\n",
    "                                    <li>\n",
    "                                        Si los resultados obtenidos no parecen ser intuitivamente correctos, ¿Se empleó supuestos y/o aproximaciones válidos?\n",
    "                                    </li>\n",
    "                                </ul>\n",
    "                            <li>\n",
    "                                Realizar una revisión exhaustiva de las metodologías empleadas\n",
    "                                <ul style='text-align:justify'>\n",
    "                                    <li>\n",
    "                                        ¿Se realizaron bien los cálculos? ¿Poseen los resultados unidades de medidas correctas? ¿también las propiedades físicas empleadas?\n",
    "                                    </li>\n",
    "                                </ul>\n",
    "                            <li>\n",
    "                                Analizar y discutir resultados\n",
    "                            </li>\n",
    "                                <ul>\n",
    "                                    ¿Qué significado tienen los resultados obtenidos? ¿Qué implicacias?\n",
    "                                </ul>\n",
    "                            </li>\n",
    "                        </ul>\n",
    "                    </td>\n",
    "                </tr>\n",
    "            </table>\n",
    "        </div>\n",
    "    </div>\n",
    "</div>"
   ]
  },
  {
   "cell_type": "markdown",
   "id": "7cf210fa-f3c5-4c54-9749-5d156522d602",
   "metadata": {
    "slideshow": {
     "slide_type": "skip"
    },
    "tags": []
   },
   "source": [
    "## Aplicación"
   ]
  },
  {
   "cell_type": "raw",
   "id": "2fee5349-5a0e-451c-bcdb-ab15c5a029cc",
   "metadata": {
    "slideshow": {
     "slide_type": "subslide"
    },
    "tags": []
   },
   "source": [
    "<div class='diapo'>\n",
    "    <div class='alternativa'>\n",
    "        <div class='alternativa_header'>\n",
    "            Ejemplo\n",
    "        </div>\n",
    "        <div class='alternativa_body'>\n",
    "            Determine la masa y densidad de la esfera\n",
    "        </div>\n",
    "    </div>\n",
    "</div>"
   ]
  }
 ],
 "metadata": {
  "kernelspec": {
   "display_name": "Python 3 (ipykernel)",
   "language": "python",
   "name": "python3"
  },
  "language_info": {
   "codemirror_mode": {
    "name": "ipython",
    "version": 3
   },
   "file_extension": ".py",
   "mimetype": "text/x-python",
   "name": "python",
   "nbconvert_exporter": "python",
   "pygments_lexer": "ipython3",
   "version": "3.9.13"
  },
  "widgets": {
   "application/vnd.jupyter.widget-state+json": {
    "state": {},
    "version_major": 2,
    "version_minor": 0
   }
  }
 },
 "nbformat": 4,
 "nbformat_minor": 5
}
