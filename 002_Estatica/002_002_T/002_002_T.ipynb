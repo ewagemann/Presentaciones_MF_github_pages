{
 "cells": [
  {
   "cell_type": "markdown",
   "id": "b42282a2-747d-4f62-9307-d871309e16cc",
   "metadata": {
    "slideshow": {
     "slide_type": "skip"
    },
    "tags": []
   },
   "source": [
    "# Prelude & templates"
   ]
  },
  {
   "cell_type": "markdown",
   "id": "f24f90df-bf5f-442f-b690-7b961f1f41d0",
   "metadata": {
    "slideshow": {
     "slide_type": "skip"
    },
    "tags": []
   },
   "source": [
    "## Diapo Base"
   ]
  },
  {
   "cell_type": "raw",
   "id": "62142287-85ae-442f-8ae0-b1265906bce0",
   "metadata": {
    "slideshow": {
     "slide_type": "skip"
    },
    "tags": []
   },
   "source": [
    "<div class='diapo'>\n",
    "    <div class='base'>\n",
    "        <div class='base header'>\n",
    "        \n",
    "        </div>\n",
    "        <div class='base body'>\n",
    "        \n",
    "        </div>\n",
    "    </div>\n",
    "</div>"
   ]
  },
  {
   "cell_type": "markdown",
   "id": "d9a0bf21-0c25-47bf-8d5b-bb4987d8a026",
   "metadata": {
    "slideshow": {
     "slide_type": "skip"
    },
    "tags": []
   },
   "source": [
    "## Diapo Alternativa"
   ]
  },
  {
   "cell_type": "raw",
   "id": "f1ea9dd5-7832-4e5d-8bdb-5a5bcf16e66d",
   "metadata": {
    "slideshow": {
     "slide_type": "skip"
    },
    "tags": []
   },
   "source": [
    "<div class='diapo'>\n",
    "    <div class='alternativa'>\n",
    "        <div class='alternativa_header'>\n",
    "        \n",
    "        </div>\n",
    "        <div class='alternativa_body'>\n",
    "        \n",
    "        </div>\n",
    "    </div>\n",
    "</div>"
   ]
  },
  {
   "cell_type": "markdown",
   "id": "736810d7-6b3f-48ad-acd7-86401debcdea",
   "metadata": {
    "slideshow": {
     "slide_type": "skip"
    },
    "tags": []
   },
   "source": [
    "## Diapo título"
   ]
  },
  {
   "cell_type": "raw",
   "id": "b7545158-03cc-4616-bb13-7d751527feb7",
   "metadata": {
    "slideshow": {
     "slide_type": "skip"
    },
    "tags": []
   },
   "source": [
    "<div class='diapo'>\n",
    "    <div class='titulo'>\n",
    "    </div>\n",
    "</div>"
   ]
  },
  {
   "cell_type": "code",
   "execution_count": null,
   "id": "bd3641cb-01c4-481e-8a25-e23371e8ea8c",
   "metadata": {
    "slideshow": {
     "slide_type": "skip"
    },
    "tags": []
   },
   "outputs": [
    {
     "data": {
      "application/javascript": "MathJax.Hub.Queue(\n  [\"resetEquationNumbers\", MathJax.InputJax.TeX],\n  [\"PreProcess\", MathJax.Hub],\n  [\"Reprocess\", MathJax.Hub]\n);\n\nMathJax.Hub.Config({\n    TeX: { equationNumbers: { autoNumber: \"AMS\" } }\n});\n",
      "text/plain": [
       "<IPython.core.display.Javascript object>"
      ]
     },
     "metadata": {},
     "output_type": "display_data"
    }
   ],
   "source": [
    "%%javascript\n",
    "MathJax.Hub.Queue(\n",
    "  [\"resetEquationNumbers\", MathJax.InputJax.TeX],\n",
    "  [\"PreProcess\", MathJax.Hub],\n",
    "  [\"Reprocess\", MathJax.Hub]\n",
    ");\n",
    "\n",
    "MathJax.Hub.Config({\n",
    "    TeX: { equationNumbers: { autoNumber: \"AMS\" } }\n",
    "});"
   ]
  },
  {
   "cell_type": "code",
   "execution_count": null,
   "id": "6f310c3c-aaf4-4040-a76b-ca5edc967425",
   "metadata": {
    "slideshow": {
     "slide_type": "skip"
    },
    "tags": []
   },
   "outputs": [],
   "source": [
    "%matplotlib widget\n",
    "import numpy as np\n",
    "import matplotlib.pyplot as plt\n",
    "import ipywidgets as widgets\n",
    "import scipy.optimize\n",
    "from matplotlib.ticker import FormatStrFormatter\n",
    "import pandas as pd"
   ]
  },
  {
   "cell_type": "markdown",
   "id": "de4b3b35-f6d4-4731-94fa-8222c5935106",
   "metadata": {
    "slideshow": {
     "slide_type": "skip"
    },
    "tags": []
   },
   "source": [
    "# Portada"
   ]
  },
  {
   "cell_type": "raw",
   "id": "0a562e58-65ac-43bc-89d6-350c7f029b09",
   "metadata": {
    "slideshow": {
     "slide_type": "slide"
    },
    "tags": []
   },
   "source": [
    "<div class='diapo'>\n",
    "    <div class='base'>\n",
    "    <table class='portada' style='width:100%'>\n",
    "        <tr class='portadatr' style='vertical-align:center'>\n",
    "            <td class='portada1' style='width:25%; border: 0px solid black'>\n",
    "                <center>\n",
    "                    <img src=../Figures/udec.jpg height=120px>\n",
    "                </center>\n",
    "            </td>\n",
    "            <td class='portada2' style='width:50%; border: 0px solid black'> \n",
    "                <center> \n",
    "                    <p class='portada institucion'>\n",
    "                        Universidad de Concepción <br>\n",
    "                        Facultad de Ingeniería <br>\n",
    "                        Departamento de Ingeniería Mecánica\n",
    "                    </p>\n",
    "                </center>\n",
    "            </td>\n",
    "            <td class='portada3' style='width:25%; border: 0px solid black'>\n",
    "                <center>\n",
    "                    <img src=../Figures/DIM.png height=70px>\n",
    "                </center>\n",
    "            </td>    \n",
    "        </tr>\n",
    "    </table>\n",
    "        <div class='base body'>\n",
    "<center>\n",
    "\n",
    "    <p class='portada asignatura'> \n",
    "        <b>Mecánica de fluidos</b> \n",
    "    </p>\n",
    "    <p style=\"font-size:5px\">\n",
    "    <br>\n",
    "    </p>\n",
    "    <p class='portada capitulo'>\n",
    "        <b> Estática de fluidos </b>\n",
    "    </p>\n",
    "    <p class='portada capitulo'>\n",
    "        002-002-T\n",
    "    </p>\n",
    "\n",
    "</center>\n",
    "</div>\n",
    "</div>\n",
    "</div>"
   ]
  },
  {
   "cell_type": "markdown",
   "id": "c4db4bd3-7d9f-4154-bcf4-7bed48676395",
   "metadata": {
    "slideshow": {
     "slide_type": "skip"
    },
    "tags": []
   },
   "source": [
    "## Fuerza esfuerzo y presión"
   ]
  },
  {
   "cell_type": "raw",
   "id": "dff9fa6f-1bca-4dfa-9a3a-d3e4951496f0",
   "metadata": {
    "slideshow": {
     "slide_type": "slide"
    },
    "tags": []
   },
   "source": [
    "<div class='diapo'>\n",
    "    <div class='alternativa'>\n",
    "        <div class='alternativa_header'>\n",
    "            Fuerza, esfuerzo y presión\n",
    "        </div>\n",
    "        <div class='alternativa_body'>\n",
    "            <p style='text-align:justify'>\n",
    "                Las fuerzas que actúan sobre un fluido juegan un rol fundamental en la determinación de sus propiedades estáticas y dinámicas.\n",
    "            </p>\n",
    "        </div>\n",
    "    </div>\n",
    "</div>"
   ]
  },
  {
   "cell_type": "markdown",
   "id": "20936b80-4c09-419c-9081-3a9cf4305ec6",
   "metadata": {
    "slideshow": {
     "slide_type": "skip"
    },
    "tags": []
   },
   "source": [
    "### Fuerza"
   ]
  },
  {
   "cell_type": "raw",
   "id": "5d0ced38-beac-48c0-9d76-015b7efb353a",
   "metadata": {
    "slideshow": {
     "slide_type": "subslide"
    },
    "tags": []
   },
   "source": [
    "<div class='diapo'>\n",
    "    <div class='base'>\n",
    "        <div class='base header'>\n",
    "            Fuerza\n",
    "        </div>\n",
    "       <div class='base body'>\n",
    "           <p style='font-size:25px'>\n",
    "               Las fuerzas que actúan sobre un cuerpo (o fluido) pueden ser divididas en dos tipos:\n",
    "           </p>\n",
    "\n",
    "            <table style=\"font-size:25px\">\n",
    "                <tr style=\"vertical-align:top; border: 0px solid black\">\n",
    "                    <td style=\"width:50%;\n",
    "                               background-color:rgba(256,0,0,0.2);\n",
    "                               text-align:justify;\n",
    "                               border: 0px solid black\">\n",
    "\n",
    "                        <p style=\"text-align:justify\">\n",
    "                            <b>Fuerzas de cuerpo o volúmen</b>\n",
    "                        </p> \n",
    "                    </td>\n",
    "                    <td style=\"width:50%;\n",
    "                               background-color:rgba(0,0,256,0.2);\n",
    "                               text-align:justify;\n",
    "                               border: 0px solid black\">\n",
    "\n",
    "                        <p style=\"text-align:justify\">\n",
    "                            <b>Fuerzas de superficie</b>: \n",
    "                        </p> \n",
    "                    </td>\n",
    "                </tr>\n",
    "                <tr style=\"vertical-align:top\">\n",
    "                    <td style=\"width:50%;\n",
    "                               background-color:rgba(256,0,0,0.2);\n",
    "                               padding-left:20px;\n",
    "                               padding-right:20px;\n",
    "                               padding-bottom:20px\">\n",
    "                        <p style=\"text-align:justify\">\n",
    "                            corresponden a fuerzas que <b>actúan a distancia sobre todo el volúmen</b> del cuerpo o fluido. Ejemplos de estas fuerzas son:\n",
    "                        </p>\n",
    "\n",
    "                        <ul>\n",
    "                            <li>\n",
    "\n",
    "                            <b> Fuerza de gravedad</b>\n",
    "\n",
    "                                $$\n",
    "                                \\textbf{F}_{g}=m \\textbf{g} =  \\rho \\mathcal{V} \\textbf{g}\n",
    "                                $$\n",
    "                            </li>\n",
    "                            <li> \n",
    "                                Fuerzas electrostáticas\n",
    "                            </li>\n",
    "                        </ul>            \n",
    "                    </td>\n",
    "                <td style=\"width:50%;\n",
    "                           background-color:rgba(0,0,256,0.2);\n",
    "                           padding-left:20px;\n",
    "                           padding-right:20px;\n",
    "                           padding-bottom:20px\">\n",
    "                    <p style=\"text-align:justify\">\n",
    "\n",
    "                        Corresponden a fuerzas que actúan mediante <b>contacto sobre la superficie</b> de un cuerpo o fluido. Dependiendo de la dirección (con respecto a la superficie) en la que se ejercen pueden ser divididas en:\n",
    "                    </p>\n",
    "                    <ul>\n",
    "                        <li> <b> Fuerzas normales</b> </li>\n",
    "                        <li> <b> Fuerzas tangenciales </b> </li>\n",
    "                    </ul>\n",
    "                </td>\n",
    "\n",
    "            </tr>\n",
    "        </table>\n",
    "    </div>\n",
    "</div>"
   ]
  },
  {
   "cell_type": "markdown",
   "id": "30e9f918-cb5e-40ef-80fa-f8944f7abde3",
   "metadata": {
    "slideshow": {
     "slide_type": "skip"
    },
    "tags": []
   },
   "source": [
    "### Fuerzas de superficie"
   ]
  },
  {
   "cell_type": "raw",
   "id": "48635062-5715-42d8-9fd3-cd69349ede13",
   "metadata": {
    "slideshow": {
     "slide_type": "subslide"
    },
    "tags": []
   },
   "source": [
    "<div class='diapo'>\n",
    "    <div class='base'>\n",
    "        <div class='base header'>\n",
    "            Fuerzas de superficie\n",
    "        </div>\n",
    "        <div class='base body'>\n",
    "            <table style=\"border: 0px solid black; font-size:25px\">\n",
    "                 <td>\n",
    "                    <div class='comment_box'>\n",
    "                    La fuerza de superficie $\\textbf{F}$ es dividida en:\n",
    "                    <ul style='text-align:justfiy'>\n",
    "                        <li>una <b>componente normal</b> a la superficie  (${F}_n$). </li>\n",
    "                        <li>dos <b>componentes tangenciales</b> a la superficie (${F}_1$ y ${F}_2$).</li>\n",
    "                    </ul>\n",
    "                    <p style='font-style:italic'>\n",
    "                        Notar que las tres componentes ${F}_n$, ${F}_1$ y ${F}_2$ son normales entre sí\n",
    "                    </p>\n",
    "                </td>\n",
    "                <td style=\"width:50%\">\n",
    "                    <center>\n",
    "                        <img src=../Figures/elemento_F.png width=100%> \n",
    "                    </center>\n",
    "                 </td>\n",
    "            </table>\n",
    "                    <div class='equation_box' style='margin-top:-10px'>\n",
    "            La magnitud y dirección de las componentes normales y tangenciales de la fuerza estarán determinadas por la superficie sobre la cual esta actúa.\n",
    "        </div>\n",
    "\n",
    "        </div>\n",
    "    </div>\n",
    "</div>"
   ]
  },
  {
   "cell_type": "markdown",
   "id": "59f0d0dd-1f8a-4889-b80e-719bcf7cabc2",
   "metadata": {
    "slideshow": {
     "slide_type": "skip"
    },
    "tags": []
   },
   "source": [
    "### Esfuerzo"
   ]
  },
  {
   "cell_type": "raw",
   "id": "74b5517a-1a53-4da4-8612-6a3a76da59e4",
   "metadata": {
    "slideshow": {
     "slide_type": "subslide"
    },
    "tags": []
   },
   "source": [
    "<div class='diapo'>\n",
    "    <div class='base'>\n",
    "        <div class='base header'>\n",
    "            Esfuerzo\n",
    "        </div>\n",
    "        <div class='base body'>\n",
    "            <p style='text-align:justify'>\n",
    "                Las fuerzas de superficie son comúnmente expresadas mediante su <b>magnitud intensiva</b> relacionada; el <b>esfuerzo</b>\n",
    "            </p>\n",
    "            <p style=\"text-align:justify;margin-top:-5px\">\n",
    "                De manera similar que para las fuerzas de superficie, los esfuerzos son comúnmente divididos en dos tipos: <b> esfuerzos normales y esfuerzos tangenciales (o de corte).</b>   \n",
    "            </p>\n",
    "\n",
    "            <table style='vertical-align:top;width:100%;font-size:25px;margin-top:-15px'>\n",
    "                <tr style='vertical-align:middle'>\n",
    "                    <td width=50%>\n",
    "                        <center>\n",
    "                            <img src=../Figures/elemento_F_esf.png width=100% id=\"imgClickAndChange\" onclick=\"changeImage()\"> \n",
    "                        </center>\n",
    "                    </td>\n",
    "                    <td width=50%>\n",
    "                        <table style='width:100%; font-size:25px'>\n",
    "                            <tr>\n",
    "                                <td style='width:30%'>\n",
    "                                    <b> Esfuerzos normales </b>\n",
    "                                </td>\n",
    "                                <td style='background-color:rgba(0,255,0,0.2)'>\n",
    "                                    $$\\sigma_{n}=\\frac{d F_{n}}{d A}$$\n",
    "                                </td>\n",
    "                            </tr>\n",
    "                            <tr>\n",
    "                                <td style='width:30%'>\n",
    "                                    <b> Esfuerzos tangenciales </b>\n",
    "                                </td>\n",
    "                                <td style='background-color:rgba(255,0,255,0.2)'>\n",
    "                                   $$ \\sigma_{1}=\\frac{d F_{1}}{d A} $$\n",
    "                                </td>\n",
    "                                <td style='background-color:rgba(0,0,255,0.2)'>\n",
    "                                    $$ \\sigma_{2}=\\frac{d F_{2}}{d A} $$\n",
    "                                </td>\n",
    "                            </tr>\n",
    "                            <tr>\n",
    "                                <td style='font-style:italic;margin-right:0px;text-align:justify' colspan=\"3\">\n",
    "                                    Notar que los esfuerzos $\\color{green}{\\sigma_n}$, $\\color{magenta}{\\sigma_1}$ y $\\color{blue}{\\sigma_2}$ son normales entre sí. <br> En este ejemplo $dA= dx\\,dy$.\n",
    "                                </td>\n",
    "                            </tr>\n",
    "                        </table>\n",
    "                    </td>\n",
    "                </tr>\n",
    "            </table>\n",
    "        </div>\n",
    "    </div>\n",
    "</div>\n",
    "\n",
    "<script>\n",
    "    \n",
    "    var counter = 0;\n",
    "    var yourImg = document.getElementById(\"imgClickAndChange\");\n",
    "    var in_width = yourImg.width;\n",
    "    function changeImage() {\n",
    "        if (counter % 2 == 1){\n",
    "            yourImg.src = \"../Figures/elemento_F_esf.png\";\n",
    "            yourImg.style.width = '100%';\n",
    "            counter++;\n",
    "        } else {\n",
    "            yourImg.src = \"../Figures/elemento_F.png\";\n",
    "            yourImg.style.width = '100%';\n",
    "            counter++;\n",
    "        }\n",
    "    }\n",
    "</script>"
   ]
  },
  {
   "cell_type": "markdown",
   "id": "c76bca97-4eb3-4a9a-87ed-eb53e90d7e1d",
   "metadata": {
    "slideshow": {
     "slide_type": "skip"
    },
    "tags": []
   },
   "source": [
    "#### Tensor de esfuerzos"
   ]
  },
  {
   "cell_type": "raw",
   "id": "91361f2d-e3bd-4ef2-8449-9e86498bb360",
   "metadata": {
    "slideshow": {
     "slide_type": "subslide"
    },
    "tags": []
   },
   "source": [
    "<div class='diapo'>\n",
    "    <div class='base'>\n",
    "        <div class='base header'>\n",
    "            Tensor de esfuerzos\n",
    "        <div>\n",
    "        <div class='base body'>\n",
    "            <p style='text-align:justify'>\n",
    "                Los esfuerzos que actúan sobre un elemento diferencial de volumen son comúnmente expresados matemáticamente mediante el <b>tensor de esfuerzos ($\\boldsymbol\\sigma$) </b> \n",
    "            </p>\n",
    "            <table style=\"font-size:25px;text-align:justify;margin-top:-10px\">\n",
    "                <tr style='width:100%;vertical-align:middle'>\n",
    "                    <td width=50%> \n",
    "                        <div style='display:grid'>\n",
    "                            <div class='equation_box'  id='eq_box_t_esf_all' style=' grid-column:1;grid-row:1;opacity:1'>\n",
    "                                <b> Tensor de esfuerzos $\\boldsymbol{\\sigma}$</b> (coordenadas cartesianas)\n",
    "                                $$\n",
    "                                \\boldsymbol{\\sigma}=\\left[\\begin{array}{lll}\n",
    "                                \\sigma_{x x} & \\sigma_{x y} & \\sigma_{x z} \\\\\n",
    "                                \\sigma_{y x} & \\sigma_{y y} & \\sigma_{y z} \\\\\n",
    "                                \\sigma_{z x} & \\sigma_{z y} & \\sigma_{z z}\n",
    "                                \\end{array}\\right]  \n",
    "                                $$\n",
    "                            </div>\n",
    "                            <div class='equation_box'  id='eq_box_t_esf_norm' style=' grid-column:1;grid-row:1;opacity:0'>\n",
    "                                <b> Tensor de esfuerzos $\\boldsymbol{\\sigma}$</b> (coordenadas cartesianas)\n",
    "                                $$\n",
    "                                \\boldsymbol{\\sigma}=\\left[\\begin{array}{lll}\n",
    "                                \\color{red}{\\sigma_{x x}} & \\sigma_{x y} & \\sigma_{x z} \\\\\n",
    "                                \\sigma_{y x} & \\color{red}{\\sigma_{y y}} & \\sigma_{y z} \\\\\n",
    "                                \\sigma_{z x} & \\sigma_{z y} & \\color{red}{\\sigma_{z z}}\n",
    "                                \\end{array}\\right]  \n",
    "                                $$\n",
    "                            </div>\n",
    "                            <div class='equation_box'  id='eq_box_t_esf_tang' style=' grid-column:1;grid-row:1;opacity:0'>\n",
    "                                <b> Tensor de esfuerzos $\\boldsymbol{\\sigma}$</b> (coordenadas cartesianas)\n",
    "                                $$\n",
    "                                \\boldsymbol{\\sigma}=\\left[\\begin{array}{lll}\n",
    "                                \\sigma_{x x} & \\color{red}{\\sigma_{x y}} & \\color{red}{\\sigma_{x z}} \\\\\n",
    "                                \\color{red}{\\sigma_{y x}} & \\sigma_{y y} & \\color{red}{\\sigma_{y z}} \\\\\n",
    "                                \\color{red}{\\sigma_{z x}} & \\color{red}{\\sigma_{z y}} & \\sigma_{z z}\n",
    "                                \\end{array}\\right]  \n",
    "                                $$\n",
    "                            </div>\n",
    "                            <div class='equation_box'  id='eq_box_t_esf_xi' style=' grid-column:1;grid-row:1;opacity:0'>\n",
    "                                <b> Tensor de esfuerzos $\\boldsymbol{\\sigma}$</b> (coordenadas cartesianas)\n",
    "                                $$\n",
    "                                \\boldsymbol{\\sigma}=\\left[\\begin{array}{lll}\n",
    "                                \\color{red}{\\sigma_{x x}} & \\color{red}{\\sigma_{x y}} & \\color{red}{\\sigma_{x z}} \\\\\n",
    "                                \\sigma_{y x} & \\sigma_{y y} & \\sigma_{y z} \\\\\n",
    "                                \\sigma_{z x} & \\sigma_{z y} & \\sigma_{z z}\n",
    "                                \\end{array}\\right]  \n",
    "                                $$\n",
    "                            </div>\n",
    "                            <div class='equation_box'  id='eq_box_t_esf_yi' style='grid-column:1;grid-row:1;opacity:0'>\n",
    "                                <b> Tensor de esfuerzos $\\boldsymbol{\\sigma}$</b> (coordenadas cartesianas)\n",
    "                                $$\n",
    "                                \\boldsymbol{\\sigma}=\\left[\\begin{array}{lll}\n",
    "                                \\sigma_{x x} & \\sigma_{x y} & \\sigma_{x z} \\\\\n",
    "                                \\color{red}{\\sigma_{y x}} & \\color{red}{\\sigma_{y y}} & \\color{red}{\\sigma_{y z}} \\\\\n",
    "                                \\sigma_{z x} & \\sigma_{z y} & \\sigma_{z z}\n",
    "                                \\end{array}\\right]  \n",
    "                                $$\n",
    "                            </div>\n",
    "                            <div class='equation_box'  id='eq_box_t_esf_zi' style='grid-column:1;grid-row:1;opacity:0'>\n",
    "                                <b> Tensor de esfuerzos $\\boldsymbol{\\sigma}$</b> (coordenadas cartesianas)\n",
    "                                $$\n",
    "                                \\boldsymbol{\\sigma}=\\left[\\begin{array}{lll}\n",
    "                                \\sigma_{x x} & \\sigma_{x y} & \\sigma_{x z} \\\\\n",
    "                                \\sigma_{y x} & \\sigma_{y y} & \\sigma_{y z} \\\\\n",
    "                                \\color{red}{\\sigma_{z x}} & \\color{red}{\\sigma_{z y}} & \\color{red}{\\sigma_{z z}}\n",
    "                                \\end{array}\\right]  \n",
    "                                $$\n",
    "                            </div>\n",
    "                            <div class='equation_box'  id='eq_box_t_esf_ix' style='grid-column:1;grid-row:1;opacity:0'>\n",
    "                                <b> Tensor de esfuerzos $\\boldsymbol{\\sigma}$</b> (coordenadas cartesianas)\n",
    "                                $$\n",
    "                                \\boldsymbol{\\sigma}=\\left[\\begin{array}{lll}\n",
    "                                \\color{red}{\\sigma_{x x}} & \\sigma_{x y} & \\sigma_{x z} \\\\\n",
    "                                \\color{red}{\\sigma_{y x}} & \\sigma_{y y} & \\sigma_{y z} \\\\\n",
    "                                \\color{red}{\\sigma_{z x}} & \\sigma_{z y} & \\sigma_{z z}\n",
    "                                \\end{array}\\right]  \n",
    "                                $$\n",
    "                            </div>\n",
    "                            <div class='equation_box'  id='eq_box_t_esf_iy' style='grid-column:1;grid-row:1;opacity:0'>\n",
    "                                <b> Tensor de esfuerzos $\\boldsymbol{\\sigma}$</b> (coordenadas cartesianas)\n",
    "                                $$\n",
    "                                \\boldsymbol{\\sigma}=\\left[\\begin{array}{lll}\n",
    "                                \\sigma_{x x} & \\color{red}{\\sigma_{x y}} & \\sigma_{x z} \\\\\n",
    "                                \\sigma_{y x} & \\color{red}{\\sigma_{y y}} & \\sigma_{y z} \\\\\n",
    "                                \\sigma_{z x} & \\color{red}{\\sigma_{z y}} & \\sigma_{z z}\n",
    "                                \\end{array}\\right]  \n",
    "                                $$\n",
    "                            </div>\n",
    "                            <div class='equation_box'  id='eq_box_t_esf_iz' style='grid-column:1;grid-row:1;opacity:0'>\n",
    "                                <b> Tensor de esfuerzos $\\boldsymbol{\\sigma}$</b> (coordenadas cartesianas)\n",
    "                                $$\n",
    "                                \\boldsymbol{\\sigma}=\\left[\\begin{array}{lll}\n",
    "                                \\sigma_{x x} & \\sigma_{x y} & \\color{red}{\\sigma_{x z}} \\\\\n",
    "                                \\sigma_{y x} & \\sigma_{y y} & \\color{red}{\\sigma_{y z}} \\\\\n",
    "                                \\sigma_{z x} & \\sigma_{z y} & \\color{red}{\\sigma_{z z}}\n",
    "                                \\end{array}\\right]  \n",
    "                                $$\n",
    "                            </div>\n",
    "                        </div>\n",
    "                        <p style='font-style:italic;text-align:justify'>\n",
    "                            El sufijo $ij$ indica que el esfuerzo actúa en la cara normal a la dirección $i$ y posee dirección $j$\n",
    "                        </p>\n",
    "                    </td>\n",
    "                    <td width=50%>\n",
    "                        <center>\n",
    "                            <img src=../Figures/elemento_t_esf.png id='img_t_esf' width=100%>\n",
    "                        </center>\n",
    "                    </td>\n",
    "                </tr>\n",
    "                <center>\n",
    "            </table>\n",
    "            <div style='font-size:20px;margin-top:-10px'>\n",
    "                <table style='font-size:20px;border: 0px solid black'>\n",
    "                    <tr style='border: 0px solid black'>\n",
    "                        <td style='padding:2px;border: 0px solid black'>\n",
    "                            <b>Mostrar</b>: \n",
    "                            <button onclick=\"all_t_esf()\">Todos</button>\n",
    "                            <button onclick=\"norm_t_esf()\">Esfuerzos normales</button>\n",
    "                            <button onclick=\"tang_t_esf()\">Esfuerzos tangenciales</button>\n",
    "                        </td>\n",
    "                    </tr>\n",
    "                    <tr style='border: 0px solid black'>\n",
    "                        <td style='padding:2px;border: 0px solid black'>\n",
    "                            Esfuerzos que actúan en la cara normal a: \n",
    "                            <button onclick=\"xi_t_esf()\">$x$</button>\n",
    "                            <button onclick=\"yi_t_esf()\">$y$</button>\n",
    "                            <button onclick=\"zi_t_esf()\">$z$</button>\n",
    "                        </td>\n",
    "                        <td style='padding:2px;border: 0px solid black'>\n",
    "                            Esfuerzos con dirección en: \n",
    "                            <button onclick=\"ix_t_esf()\"> $x$</button>\n",
    "                            <button onclick=\"iy_t_esf()\"> $y$</button>\n",
    "                            <button onclick=\"iz_t_esf()\"> $z$</button>\n",
    "                        </td>\n",
    "                    </tr>\n",
    "                </table>\n",
    "                </center>\n",
    "            </div>\n",
    "        </div>\n",
    "    </div>\n",
    "</div>\n",
    "\n",
    "<script>\n",
    "\n",
    "    var current_div_tesf = document.getElementById(\"eq_box_t_esf_all\");\n",
    "    var img_tesf =  document.getElementById(\"img_t_esf\");\n",
    "    var div_tesf =  document.getElementById(\"eq_box_t_esf\");\n",
    "\n",
    "    function all_t_esf() {\n",
    "        img_tesf.src = \"../Figures/elemento_t_esf.png\";\n",
    "        current_div_tesf.style.opacity=0;\n",
    "        current_div_tesf = document.getElementById(\"eq_box_t_esf_all\");\n",
    "        current_div_tesf.style.opacity=1\n",
    "    }\n",
    "\n",
    "    function norm_t_esf() {\n",
    "        img_tesf.src = \"../Figures/elemento_t_esf_norm.png\";\n",
    "        current_div_tesf.style.opacity=0;\n",
    "        current_div_tesf = document.getElementById(\"eq_box_t_esf_norm\");\n",
    "        current_div_tesf.style.opacity=1\n",
    "    }\n",
    "\n",
    "    function tang_t_esf() {\n",
    "        img_tesf.src = \"../Figures/elemento_t_esf_tang.png\";\n",
    "        current_div_tesf.style.opacity=0;\n",
    "        current_div_tesf = document.getElementById(\"eq_box_t_esf_tang\");\n",
    "        current_div_tesf.style.opacity=1\n",
    "    }\n",
    "\n",
    "    function ix_t_esf() {\n",
    "        img_tesf.src = \"../Figures/elemento_t_esf_ix.png\"\n",
    "        current_div_tesf.style.opacity=0;\n",
    "        current_div_tesf = document.getElementById(\"eq_box_t_esf_ix\");\n",
    "        current_div_tesf.style.opacity=1\n",
    "    }\n",
    "\n",
    "\n",
    "    function iy_t_esf() {\n",
    "        img_tesf.src = \"../Figures/elemento_t_esf_iy.png\"\n",
    "        current_div_tesf.style.opacity=0;\n",
    "        current_div_tesf = document.getElementById(\"eq_box_t_esf_iy\");\n",
    "        current_div_tesf.style.opacity=1\n",
    "    }\n",
    "\n",
    "\n",
    "\n",
    "    function iz_t_esf() {\n",
    "        img_tesf.src = \"../Figures/elemento_t_esf_iz.png\"\n",
    "        current_div_tesf.style.opacity=0;\n",
    "        current_div_tesf = document.getElementById(\"eq_box_t_esf_iz\");\n",
    "        current_div_tesf.style.opacity=1\n",
    "    }\n",
    "\n",
    "\n",
    "    function xi_t_esf() {\n",
    "        img_tesf.src = \"../Figures/elemento_t_esf_xi.png\"\n",
    "        current_div_tesf.style.opacity=0;\n",
    "        current_div_tesf = document.getElementById(\"eq_box_t_esf_xi\");\n",
    "        current_div_tesf.style.opacity=1\n",
    "    }\n",
    "\n",
    "    function yi_t_esf() {\n",
    "        img_tesf.src = \"../Figures/elemento_t_esf_yi.png\"\n",
    "        current_div_tesf.style.opacity=0;\n",
    "        current_div_tesf = document.getElementById(\"eq_box_t_esf_yi\");\n",
    "        current_div_tesf.style.opacity=1\n",
    "    }\n",
    "\n",
    "    function zi_t_esf() {\n",
    "        img_tesf.src = \"../Figures/elemento_t_esf_zi.png\"\n",
    "        current_div_tesf.style.opacity=0;\n",
    "        current_div_tesf = document.getElementById(\"eq_box_t_esf_zi\");\n",
    "        current_div_tesf.style.opacity=1\n",
    "    }\n",
    "\n",
    "\n",
    "</script>\n",
    "            "
   ]
  },
  {
   "cell_type": "markdown",
   "id": "58f89641-c45f-4871-96f3-017e05ce3dca",
   "metadata": {
    "slideshow": {
     "slide_type": "skip"
    },
    "tags": []
   },
   "source": [
    "#### Esfuerzos de corte y esfuerzos viscosos"
   ]
  },
  {
   "cell_type": "raw",
   "id": "5886a05f-73af-4e18-a1c6-044955f2c227",
   "metadata": {
    "slideshow": {
     "slide_type": "subslide"
    },
    "tags": []
   },
   "source": [
    "<div class='diapo'>\n",
    "    <div class='base'>\n",
    "        <div class='base header'>\n",
    "            Esfuerzos de corte y esfuerzos viscosos\n",
    "        </div>\n",
    "        <div class='base body'>\n",
    "            <p style='text-align:justify;'>\n",
    "                En un fluido, los esfuerzos de corte (tangenciales) producen a deformaciones viscosas. Los esfuerzos que producen este tipo de deformaciones son denominados <span style=\"font-style:italic\">esfuerzos viscosos</span>. \n",
    "            </p>\n",
    "            <p style='text-align:justify;'>\n",
    "                En un <b>fluido newtoniano</b>, los esfuerzos de viscosos se relacionan con la <b>velocidad de deformación</b>, que estos producen, mediante la <b>ley de viscosidad de Newton</b>.\n",
    "            </p>           \n",
    "            <center>\n",
    "                <div class='equation_box' onclick=\"show_tau_newt()\">\n",
    "                    <b> Ley de viscosidad de Newton</b> (en su forma 3D)\n",
    "                        <span id='eq_box_newt'>\n",
    "                        \\begin{equation*}\n",
    "                            \\boldsymbol{\\tau}=\n",
    "                            \\begin{bmatrix} \\tau_{xx} & \\tau_{xy} & \\tau_{xz} \\\\ \\tau_{yx} & \\tau_{yy} & \\tau_{yz} \\\\ \\tau_{zx} & \\tau_{zy} & \\tau_{zz}   \\end{bmatrix}\n",
    "                            =-\\mu\\begin{bmatrix}\n",
    "                            2 \\frac{\\partial v_x}{\\partial x} & \\frac{\\partial v_x}{\\partial y}+\\frac{\\partial v_y}{\\partial x} & \\frac{\\partial v_x}{\\partial z}+\\frac{\\partial v_z}{\\partial x} \\\\\n",
    "                            \\frac{\\partial v_y}{\\partial x}+\\frac{\\partial v_x}{\\partial y} & 2 \\frac{\\partial v_y}{\\partial y} & \\frac{\\partial v_y}{\\partial z}+\\frac{\\partial v_z}{\\partial y} \\\\\n",
    "                            \\frac{\\partial v_z}{\\partial x}+\\frac{\\partial v_x}{\\partial z} & \\frac{\\partial v_z}{\\partial y}+\\frac{\\partial v_y}{\\partial z} & 2 \\frac{\\partial v_z}{\\partial z}\n",
    "                            \\end{bmatrix}\n",
    "                        \\end{equation*}     \n",
    "                        </span>                       \n",
    "                </div>\n",
    "            </center>\n",
    "            <p style='text-align:justify;'>\n",
    "                <span style='color:red'><b>En un fluido en reposo, los esfuerzos de corte (y viscosos) deberán tener magnitud nula.</b></span> En caso contrario, y basandonos en la definición de fluido, existiría movimiento (deformación). Es decir, no se encontraría en reposo.\n",
    "            </p>\n",
    "\n",
    "        </div>\n",
    "    </div>\n",
    "</div>\n",
    "\n",
    "\n",
    "        "
   ]
  },
  {
   "cell_type": "markdown",
   "id": "57280c48-e22b-4498-b644-0149a712b222",
   "metadata": {
    "slideshow": {
     "slide_type": "skip"
    },
    "tags": []
   },
   "source": [
    "#### Esfuerzos normales"
   ]
  },
  {
   "cell_type": "raw",
   "id": "517b4a0d-ad2e-4315-88eb-e59d220682fe",
   "metadata": {
    "slideshow": {
     "slide_type": "subslide"
    },
    "tags": []
   },
   "source": [
    "<div class='diapo'>\n",
    "    <div class='base'>\n",
    "        <div class='base header'>\n",
    "            Esfuerzos normales\n",
    "        </div>\n",
    "        <div class='base body'>\n",
    "            \n",
    "            <p style=\"text-align:justify\">\n",
    "                Al definir los esfuerzos normales consideraremos que la dirección positiva de estos corresponderá <b>\"hacia afuera\" del elemento diferencial de volumen.</b>\n",
    "            </p>\n",
    "            <p style=\"text-align:justify\">\n",
    "    En un fluido, los esfuerzos normales ($\\sigma_{ii}$) pueden ser divididos en dos contribuciones: \n",
    "            </p>\n",
    "            <ul style=\"text-align:justify\">\n",
    "                <li>\n",
    "                    <b>Presión ($p$)</b>\n",
    "                </li> \n",
    "                <li> <b>Efuerzos viscosos normales ($\\tau_{ii}$)</b>, <em>asociados a la deformación de un fluido en la dirección $i$, normal a superficie sobre la cual actúan.</em>\n",
    "                </li>\n",
    "            </ul>\n",
    "            <table style='width:100%; font-size:25px;margin-top:10px''>\n",
    "                <tr>\n",
    "                    <td style='width:30%'>\n",
    "                        De esta forma:\n",
    "                    </td>\n",
    "                    <td style='width:40%'>\n",
    "                        <center> \n",
    "                            <div class='equation_box'>\n",
    "                                $$\\sigma_{ii} = p + \\tau_{ii} $$\n",
    "                            </div>\n",
    "                        </center> \n",
    "                    </td>\n",
    "                    <td style='width:30%'>\n",
    "                    </td>\n",
    "                </tr>\n",
    "            </table>\n",
    "            <p></p>\n",
    "            <div class='comment_box'>\n",
    "                En esta definición, los esfuerzos son considerados como positivos cuando la fuerza <span style='font-style:italic'>es ejercida por una región de \"menor $i$\" sobre una de \"mayor $i$\" ($i=x,y,z$, en coordenadas cartesianas).</i> <b> Esta distinción será importante cuando querramos determinar una fuerza a partir de un tensor de esfuerzo.</b>\n",
    "\n",
    "            </div>\n",
    "        </div>\n",
    "    </div>\n",
    "</div>\n",
    "            "
   ]
  },
  {
   "cell_type": "markdown",
   "id": "2cd0b4a5-ce69-43d5-b973-d36ea68c8f50",
   "metadata": {
    "slideshow": {
     "slide_type": "skip"
    },
    "tags": []
   },
   "source": [
    "### Presión"
   ]
  },
  {
   "cell_type": "raw",
   "id": "8a560908-2ee4-4b02-8111-4be9000df0ac",
   "metadata": {
    "slideshow": {
     "slide_type": "subslide"
    },
    "tags": []
   },
   "source": [
    "<div class='diapo'>\n",
    "    <div class='alternativa'>\n",
    "        <div class='alternativa_header'>\n",
    "           Presión\n",
    "        </div>\n",
    "        \n",
    "        <div class='alternativa_body'>\n",
    "                La presión ($p$) se define como una <b>fuerza compresiva normal por unidad de área</b>. Como ya adelantamos, está estrechamente ligada al concepto de esfuerzo normal. Sin embargo, la presión corresponde a una <b>entidad escalar</b>. Es decir, la dirección solo posee magnitud (y no posee dirección). Dicho de otra forma, la presión en <u>un punto</u> será igual en todas direcciones. Notar que la dirección con la que actúa la fuerza asociada a la presión estará dictada por el <b>vector unitario normal</b> a la superficie. \n",
    "        </div>\n",
    "    </div>\n",
    "</div>\n",
    "\n",
    "\n",
    "\n"
   ]
  },
  {
   "cell_type": "markdown",
   "id": "a362c7eb-2939-48ef-b320-aca9943b1b88",
   "metadata": {
    "slideshow": {
     "slide_type": "skip"
    },
    "tags": []
   },
   "source": [
    "#### Presión en un punto"
   ]
  },
  {
   "cell_type": "raw",
   "id": "05b6cbaa-42da-4768-916b-cd17d2657a50",
   "metadata": {
    "slideshow": {
     "slide_type": "subslide"
    },
    "tags": []
   },
   "source": [
    "<div class='diapo'>\n",
    "    <div class='base'>\n",
    "        <div class='base header'>\n",
    "            Presión en un punto\n",
    "        </div>\n",
    "\n",
    "        <div class='base body'>\n",
    "            A continuación se demuestra que la presión es una magnitud escalar. Para esto consideraremos un elemento diferencial de volumen con forma de cuña, de ancho unitario $(\\delta z = 1)$. Notar que el fluido se encuentra en reposo\n",
    "            <br>\n",
    "            <br>\n",
    "            <table style=\"font-size:22px\">\n",
    "                <tr>\n",
    "                    <td style='width:40%'>\n",
    "                        <center><img src=../Figures/cuna.png width=100%></center>\n",
    "                    </td>\n",
    "                    <td>\n",
    "                        <table style=\"font-size:22px\">\n",
    "                            <tr>\n",
    "                            <td colspan=2 style='background-color:rgba(224,224,224,.9)'>\n",
    "                                   <center>Balance de fuerzas <br></center></td>\n",
    "                                   </tr>\n",
    "                            <tr style='background-color:rgba(240,240,240,.9)'>\n",
    "                                <td>\n",
    "                                    Componente $x$ \n",
    "                                </td>\n",
    "                                <td>\n",
    "                                    $$\n",
    "                                    \\sum F_{x}=0\n",
    "                                    $$\n",
    "                                    $$\n",
    "                                    \\sum F_{x}=p_{x} \\delta y-p_{s} \\delta s \\sin \\theta\n",
    "                                    $$           \n",
    "                                </td>\n",
    "                            </tr>\n",
    "                            <tr style='background-color:rgba(240,240,240,.5)'>\n",
    "                                <td>\n",
    "                                    Componente $y$\n",
    "                                </td>\n",
    "                                    <td>\n",
    "                                        $$\n",
    "                                        \\sum F_{y}=0\n",
    "                                        $$\n",
    "                                        $$\n",
    "                                        \\sum F_{y}=p_{y} \\delta x-p_{s} \\delta s \\cos \\theta-\\frac{\\delta x \\delta y}{2} \\gamma\n",
    "                                        $$\n",
    "                                </td>\n",
    "                            </tr>\n",
    "                        </table>\n",
    "                    </td>\n",
    "                </tr>\n",
    "            </table>\n",
    "        </div>\n",
    "    </div>\n",
    "</div>"
   ]
  },
  {
   "cell_type": "raw",
   "id": "13ab4207-36b6-436b-a217-f76c17046085",
   "metadata": {
    "slideshow": {
     "slide_type": "subslide"
    },
    "tags": []
   },
   "source": [
    "<div class='diapo'>\n",
    "    <div class='base'>\n",
    "        <div class='base body'>\n",
    "            <table>\n",
    "                <tr>\n",
    "                    <td  style='width: 40% ; font-size:25px;'>\n",
    "                        <table style=\"font-size:18px\">\n",
    "                            <tr>\n",
    "                            <td colspan=2 style='background-color:rgba(224,224,224,.9)'>\n",
    "                                   <center>Balance de fuerzas <br></center></td>\n",
    "                                   </tr>\n",
    "                            <tr style='background-color:rgba(240,240,240,.9)'>\n",
    "                                <td>\n",
    "                                    Componente $x$ \n",
    "                                </td>\n",
    "                                <td>\n",
    "                                    $$\n",
    "                                    \\sum F_{x}=0\n",
    "                                    $$\n",
    "                                    $$\n",
    "                                    \\sum F_{x}=p_{x} \\delta y-p_{s} \\delta s \\sin \\theta\n",
    "                                    $$           \n",
    "                                </td>\n",
    "                            </tr>\n",
    "                            <tr style='background-color:rgba(240,240,240,.5)'>\n",
    "                                <td>\n",
    "                                    Componente $y$\n",
    "                                </td>\n",
    "                                    <td>\n",
    "                                        $$\n",
    "                                        \\sum F_{y}=0\n",
    "                                        $$\n",
    "                                        $$\n",
    "                                        \\sum F_{y}=p_{y} \\delta x-p_{s} \\delta s \\cos \\theta-\\frac{\\delta x \\delta y}{2} \\gamma\n",
    "                                        $$\n",
    "                                </td>\n",
    "                            </tr>\n",
    "                        </table>\n",
    "                    </td>\n",
    "                    <td  style='width: 40% ; font-size:22px;'>\n",
    "                        con: <br>\n",
    "                        $$\\delta s \\sin \\theta=\\delta y$$ \n",
    "                        $$\\delta s \\cos \\theta=\\delta x$$ <br>\n",
    "\n",
    "                        Entonces: <br>\n",
    "                        $$\n",
    "            p_{x} \\delta y-p_{s} \\delta y=0 \\rightarrow \\color{red}{p_{x}=p_{s}}\n",
    "            $$\n",
    "\n",
    "            $$\n",
    "            p_{y} \\delta x-p_{s} \\delta x=0 \\rightarrow \\color{red}{p_{y}=p_{s}}\n",
    "            $$\n",
    "                    </td>\n",
    "                </tr>\n",
    "            </table>\n",
    "\n",
    "            <br>\n",
    "            <center><div style=\"background-color:rgba(0,0,240,0.1);width:300px;height:70px;display:table;border:2px solid black; font-size:25px\">\n",
    "            $$\n",
    "            \\therefore\\,\\, p_{x}=p_{y}=p_{s}\n",
    "            $$\n",
    "            </div>\n",
    "            </center>\n",
    "            <p style='font-size:22px'>\n",
    "            Es decir, la presión en un punto es <b>independiente de la dirección</b>. En otras palabras, la presión es una <b>magnitud escalar</b>. <!-- direccion de la fuerza de presion --></p>\n",
    "        </div>\n",
    "    </div>\n",
    "</div>"
   ]
  },
  {
   "cell_type": "markdown",
   "id": "f56843de-6f76-44ee-b8ed-ca81d3e63063",
   "metadata": {
    "slideshow": {
     "slide_type": "skip"
    },
    "tags": []
   },
   "source": [
    "## Distribución de presión en fluidos en reposo"
   ]
  },
  {
   "cell_type": "raw",
   "id": "70a9d6e4-9bd3-4144-8056-b471a63d3e2a",
   "metadata": {
    "slideshow": {
     "slide_type": "slide"
    },
    "tags": []
   },
   "source": [
    "<div class='diapo'>\n",
    "    <div class='alternativa'>\n",
    "        <div class='alternativa_header'>\n",
    "            Distribución de presión en fluidos en reposo\n",
    "        </div>\n",
    "        <div class='alternativa_body'>\n",
    "            A continuación analizaremos como se distribuye la presión en un <b>fluido en reposo</b>. De este análisis obtendremos la siguiente conclusión: <b><span style=\"color:red\">La presión en un fluido en reposo solo varía con la altura (o profundidad).</span>\n",
    "        </div>\n",
    "   </div>\n",
    "</div>"
   ]
  },
  {
   "cell_type": "markdown",
   "id": "7f18c418-4a11-4a5e-aa17-dfe37c8da28d",
   "metadata": {
    "slideshow": {
     "slide_type": "skip"
    },
    "tags": []
   },
   "source": [
    "### Conceptos matemáticos previos"
   ]
  },
  {
   "cell_type": "raw",
   "id": "888c5ffe-9ece-42e7-b539-3bf82bd4a48e",
   "metadata": {
    "slideshow": {
     "slide_type": "subslide"
    },
    "tags": []
   },
   "source": [
    "<div class='diapo'>\n",
    "    <div class='base'>\n",
    "        <div class='base header'>\n",
    "        Conceptos matemáticos previos   \n",
    "    </div>\n",
    "\n",
    "    <!--- content -->\n",
    "\n",
    "        <div class='base body'>\n",
    "                \n",
    "            <table width=100% style='font-size:25px' >\n",
    "                <tr style=\"vertical-align:middle\">\n",
    "                    <td  style=\"width:50%;\n",
    "                                font-size:25px;\n",
    "                                padding:0px; \n",
    "                                \">\n",
    "                        <table style='font-size:25px;width:100%'>\n",
    "                            <tr style='width:100%'>\n",
    "                                <td style='width:100%;background-color:rgba(256,0,0,0.2);'>\n",
    "\n",
    "                                    <p>\n",
    "                                        <b>Operador nabla ($\\nabla$)</b>\n",
    "                                    </p>\n",
    "                                    <p> en coordenadas cartesianas:\n",
    "                                    </p>\n",
    "                                    $$\\nabla=\\frac{\\partial}{\\partial x} \\textbf{i}+\\frac{\\partial}{\\partial y} \\textbf{j}+\\frac{\\partial}{\\partial z} \\textbf{k}  $$\n",
    "                                </td>\n",
    "                            </tr>\n",
    "                             <tr style='width:100%'>\n",
    "                                <td  style=\"width:50%;\n",
    "                                            font-size:25px;\n",
    "                                            background-color:rgba(0,0,256,0.2)\">\n",
    "                                    <p>\n",
    "                                        <b>Gradiente de un escalar ($\\nabla s$)</b>\n",
    "                                    </p>\n",
    "                                    <p>\n",
    "                                        en coordenadas cartesianas:\n",
    "                                    </p>\n",
    "                                    $$\\nabla s = \\left(\\frac{\\partial s}{\\partial x} \\textbf{i}+\\frac{\\partial s}{\\partial y} \\textbf{j}+\\frac{\\partial s}{\\partial z} \\textbf{k}\\right)  $$\n",
    "\n",
    "                                    <p>\n",
    "                                </td>\n",
    "                            </tr>\n",
    "                        </table>\n",
    "                        <td>\n",
    "                                    <div class='comment_box' style='font-size:25px'>\n",
    "                <p>\n",
    "                    <b> Ejemplo:</b> Supongamos que la presión en un fluido (en movimiento) está definida por la expresión:\n",
    "                    \n",
    "                    $$p(x,y,z) = 5xy+y^2-z+2$$\n",
    "                    \n",
    "                    Entonces, el <b>gradiente de presión</b> estará definido por la expresión:\n",
    "                    \n",
    "                    $$\n",
    "                    \\begin{aligned}\n",
    "                        \\nabla p &=\\left(\\frac{\\partial p}{\\partial x} \\textbf{i}+\\frac{\\partial p}{\\partial y} \\textbf{j}+\\frac{\\partial p}{\\partial z} \\textbf{k}\\right) \\\\[6pt]\n",
    "                        &= 5y\\,\\textbf{i}+(5x+2y)\\,\\textbf{j}-1\\,\\textbf{k}\n",
    "                    \\end{aligned}\n",
    "                    $$\n",
    "                    \n",
    "                </p>\n",
    "            </div>\n",
    "                        </td>\n",
    "                </tr>\n",
    "            </table>\n",
    "            <p style=\"font-size:20px;font-style: italic;margin-top:-10px\">\n",
    "            $\\textbf{i}$, $\\textbf{j}$, $\\textbf{k}$: vectores unitarios \n",
    "            </p>\n",
    "\n",
    "        </div>\n",
    "        \n",
    "\n",
    "    </div>\n",
    "</div>"
   ]
  },
  {
   "cell_type": "markdown",
   "id": "34d0eee5-f1f6-44e1-a0e6-a0fd25935a2a",
   "metadata": {
    "slideshow": {
     "slide_type": "skip"
    },
    "tags": []
   },
   "source": [
    "### Ecuación básica: distribución de presión en un fluido en reposo"
   ]
  },
  {
   "cell_type": "raw",
   "id": "a15cd279-8259-4a4e-a203-a5c15d65f22f",
   "metadata": {
    "slideshow": {
     "slide_type": "subslide"
    },
    "tags": []
   },
   "source": [
    "<div style=\"height:600px; border: 0px solid black\">\n",
    "    <!--- header -->\n",
    "\n",
    "    <div style=\"height:66px;\n",
    "                border: 0px solid black; \n",
    "                font-size:55px; \n",
    "                \">\n",
    "        Ecuación básica: distribución de presión en un fluido en reposo\n",
    "    </div>\n",
    "\n",
    "    <!--- content -->\n",
    "    \n",
    "    <div style=\"margin: 0;\n",
    "                position: absolute;\n",
    "                top: 50%;\n",
    "                -ms-transform: translateY(-50%);\n",
    "                transform: translateY(-50%) translateY(66px);\n",
    "                width:100%;\n",
    "                font-size:25px;\n",
    "                \">\n",
    "\n",
    "        <table style=\"width:100%\">\n",
    "            <tr style=\"vertical-align:top\">\n",
    "                <td style=\"width:60%;font-size:22px;text-align:justify\"> \n",
    "                    <p>\n",
    "                    La siguiente ecuación diferencial se deriva a partir de un balance de fuerzas aplicado a un elemento diferencial de volumen de fluido en reposo<p>\n",
    "\n",
    "                    <center>\n",
    "                        <details> \n",
    "                            <summary style=\"background-color:rgba(0,0,240,0.1);width:300px;height:70px;display:table;border:2px solid black; font-size:25px;\">\n",
    "                                $$\\nabla p=\\rho \\mathbf{g}  $$\n",
    "                            </summary>\n",
    "                            <center> \n",
    "                                <p style='font-size:22px'>\n",
    "                                    $$ \\frac{\\partial p}{\\partial x}\\textbf{i} + \\frac{\\partial p}{\\partial y}\\textbf{j} + \\frac{\\partial p}{\\partial k}\\textbf{k}  = \\rho \\left(g_x\\textbf{i}+g_y\\textbf{j}+g_z\\textbf{k}\\right)$$\n",
    "                                </p>\n",
    "                            </center>\n",
    "                        </details>\n",
    "                        <p style=\"text-align:justify\">\n",
    "        Esta ecuación establece que cualquier variación de presión en un <b>fluido en reposo</b> será consecuencia de y solo de la acción del <b>campo gravitacional</b>.</p>\n",
    "\n",
    "                    </center>\n",
    "                </td>\n",
    "                <td>\n",
    "                <center> <img src=../Figures/elemento2.png style=\"width:100%\"></center>\n",
    "                </td>\n",
    "            </tr>\n",
    "        </table>\n",
    "    </div>\n",
    "</div>"
   ]
  },
  {
   "cell_type": "markdown",
   "id": "f37873cc-37ff-4121-b482-ca3750ae6f2c",
   "metadata": {
    "slideshow": {
     "slide_type": "skip"
    },
    "tags": []
   },
   "source": [
    "####  Distribución de presión en un fluido incompresible en reposo"
   ]
  },
  {
   "cell_type": "raw",
   "id": "d7f444fc-21c8-4608-987d-b24c2dce9714",
   "metadata": {
    "slideshow": {
     "slide_type": "subslide"
    },
    "tags": []
   },
   "source": [
    "<div class='diapo'>\n",
    "    <div class='base'>\n",
    "        <div class='base header'>\n",
    "            Distribución de presión en un fluido incompresible en reposo\n",
    "        </div>\n",
    "        <div class='base body'>\n",
    "            <table style='width:100%; font-size:25px'>\n",
    "                <tr>\n",
    "                    <td style='width:50%'>\n",
    "                        <div class='equation_box'>\n",
    "                            $$\\rho = \\text{uniforme}$$\n",
    "                            \n",
    "                            $$\\frac{dp}{dy} = -\\rho g$$\n",
    "                            \n",
    "                            $$\\Delta p = -\\rho g \\Delta y = -\\gamma \\Delta y$$\n",
    "                        </div>\n",
    "                    </td>\n",
    "                    <td>\n",
    "                        <ul style='text-align:justify'>\n",
    "                            <li>\n",
    "                                La presión varía linealmente en la dirección horizontal en un fluido incompresible en reposo.\n",
    "                            </li>\n",
    "                            <li>\n",
    "                                La presión <b>aumenta con la <span style='color:red'>profundidad</span></b>\n",
    "                            </li>\n",
    "                        </ul>\n",
    "                    </td>\n",
    "                </tr>\n",
    "            </table>\n",
    "        \n",
    "        </div>\n",
    "    </div>\n",
    "</div>"
   ]
  }
 ],
 "metadata": {
  "kernelspec": {
   "display_name": "Python 3 (ipykernel)",
   "language": "python",
   "name": "python3"
  },
  "language_info": {
   "codemirror_mode": {
    "name": "ipython",
    "version": 3
   },
   "file_extension": ".py",
   "mimetype": "text/x-python",
   "name": "python",
   "nbconvert_exporter": "python",
   "pygments_lexer": "ipython3",
   "version": "3.9.13"
  },
  "widgets": {
   "application/vnd.jupyter.widget-state+json": {
    "state": {},
    "version_major": 2,
    "version_minor": 0
   }
  }
 },
 "nbformat": 4,
 "nbformat_minor": 5
}
