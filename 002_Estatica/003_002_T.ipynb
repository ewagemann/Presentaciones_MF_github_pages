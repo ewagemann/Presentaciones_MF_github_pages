{
 "cells": [
  {
   "cell_type": "markdown",
   "id": "b42282a2-747d-4f62-9307-d871309e16cc",
   "metadata": {
    "slideshow": {
     "slide_type": "skip"
    },
    "tags": []
   },
   "source": [
    "# Prelude & templates"
   ]
  },
  {
   "cell_type": "markdown",
   "id": "f24f90df-bf5f-442f-b690-7b961f1f41d0",
   "metadata": {
    "slideshow": {
     "slide_type": "skip"
    },
    "tags": []
   },
   "source": [
    "## Diapo Base"
   ]
  },
  {
   "cell_type": "raw",
   "id": "62142287-85ae-442f-8ae0-b1265906bce0",
   "metadata": {
    "slideshow": {
     "slide_type": "skip"
    },
    "tags": []
   },
   "source": [
    "<div class='diapo'>\n",
    "    <div class='base'>\n",
    "        <div class='base header'>\n",
    "        \n",
    "        </div>\n",
    "        <div class='base body'>\n",
    "        \n",
    "        </div>\n",
    "    </div>\n",
    "</div>"
   ]
  },
  {
   "cell_type": "markdown",
   "id": "d9a0bf21-0c25-47bf-8d5b-bb4987d8a026",
   "metadata": {
    "slideshow": {
     "slide_type": "skip"
    },
    "tags": []
   },
   "source": [
    "## Diapo Alternativa"
   ]
  },
  {
   "cell_type": "raw",
   "id": "f1ea9dd5-7832-4e5d-8bdb-5a5bcf16e66d",
   "metadata": {
    "slideshow": {
     "slide_type": "skip"
    },
    "tags": []
   },
   "source": [
    "<div class='diapo'>\n",
    "    <div class='alternativa'>\n",
    "        <div class='alternativa_header'>\n",
    "        \n",
    "        </div>\n",
    "        <div class='alternativa_body'>\n",
    "        \n",
    "        </div>\n",
    "    </div>\n",
    "</div>"
   ]
  },
  {
   "cell_type": "markdown",
   "id": "736810d7-6b3f-48ad-acd7-86401debcdea",
   "metadata": {
    "slideshow": {
     "slide_type": "skip"
    },
    "tags": []
   },
   "source": [
    "## Diapo título"
   ]
  },
  {
   "cell_type": "raw",
   "id": "b7545158-03cc-4616-bb13-7d751527feb7",
   "metadata": {
    "slideshow": {
     "slide_type": "skip"
    },
    "tags": []
   },
   "source": [
    "<div class='diapo'>\n",
    "    <div class='titulo'>\n",
    "    </div>\n",
    "</div>"
   ]
  },
  {
   "cell_type": "code",
   "execution_count": null,
   "id": "bd3641cb-01c4-481e-8a25-e23371e8ea8c",
   "metadata": {
    "slideshow": {
     "slide_type": "skip"
    },
    "tags": []
   },
   "outputs": [
    {
     "data": {
      "application/javascript": [
       "MathJax.Hub.Queue(\n",
       "  [\"resetEquationNumbers\", MathJax.InputJax.TeX],\n",
       "  [\"PreProcess\", MathJax.Hub],\n",
       "  [\"Reprocess\", MathJax.Hub]\n",
       ");\n",
       "\n",
       "MathJax.Hub.Config({\n",
       "    TeX: { equationNumbers: { autoNumber: \"AMS\" } }\n",
       "});\n"
      ],
      "text/plain": [
       "<IPython.core.display.Javascript object>"
      ]
     },
     "metadata": {},
     "output_type": "display_data"
    }
   ],
   "source": [
    "%%javascript\n",
    "MathJax.Hub.Queue(\n",
    "  [\"resetEquationNumbers\", MathJax.InputJax.TeX],\n",
    "  [\"PreProcess\", MathJax.Hub],\n",
    "  [\"Reprocess\", MathJax.Hub]\n",
    ");\n",
    "\n",
    "MathJax.Hub.Config({\n",
    "    TeX: { equationNumbers: { autoNumber: \"AMS\" } }\n",
    "});"
   ]
  },
  {
   "cell_type": "code",
   "execution_count": null,
   "id": "6f310c3c-aaf4-4040-a76b-ca5edc967425",
   "metadata": {
    "slideshow": {
     "slide_type": "skip"
    },
    "tags": []
   },
   "outputs": [],
   "source": [
    "%matplotlib widget\n",
    "import numpy as np\n",
    "import matplotlib.pyplot as plt\n",
    "import ipywidgets as widgets\n",
    "import scipy.optimize\n",
    "from matplotlib.ticker import FormatStrFormatter\n",
    "import pandas as pd"
   ]
  },
  {
   "cell_type": "markdown",
   "id": "de4b3b35-f6d4-4731-94fa-8222c5935106",
   "metadata": {
    "slideshow": {
     "slide_type": "skip"
    },
    "tags": []
   },
   "source": [
    "# Portada"
   ]
  },
  {
   "cell_type": "raw",
   "id": "0a562e58-65ac-43bc-89d6-350c7f029b09",
   "metadata": {
    "slideshow": {
     "slide_type": "slide"
    },
    "tags": []
   },
   "source": [
    "<div class='diapo'>\n",
    "    <div class='base'>\n",
    "    <table class='portada' style='width:100%'>\n",
    "        <tr class='portadatr' style='vertical-align:center'>\n",
    "            <td class='portada1' style='width:25%; border: 0px solid black'>\n",
    "                <center>\n",
    "                    <img src=Figures/udec.jpg height=120px>\n",
    "                </center>\n",
    "            </td>\n",
    "            <td class='portada2' style='width:50%; border: 0px solid black'> \n",
    "                <center> \n",
    "                    <p class='portada institucion'>\n",
    "                        Universidad de Concepción <br>\n",
    "                        Facultad de Ingeniería <br>\n",
    "                        Departamento de Ingeniería Mecánica\n",
    "                    </p>\n",
    "                </center>\n",
    "            </td>\n",
    "            <td class='portada3' style='width:25%; border: 0px solid black'>\n",
    "                <center>\n",
    "                    <img src=Figures/DIM.png height=70px>\n",
    "                </center>\n",
    "            </td>    \n",
    "        </tr>\n",
    "    </table>\n",
    "        <div class='base body'>\n",
    "<center>\n",
    "\n",
    "    <p class='portada asignatura'> \n",
    "        <b>Mecánica de fluidos</b> \n",
    "    </p>\n",
    "    <p style=\"font-size:5px\">\n",
    "    <br>\n",
    "    </p>\n",
    "    <p class='portada capitulo'>\n",
    "        <b> Estática de fluidos </b>\n",
    "    </p>\n",
    "    <p class='portada capitulo'>\n",
    "        003-002-T\n",
    "    </p>\n",
    "\n",
    "</center>\n",
    "</div>\n",
    "</div>\n",
    "</div>"
   ]
  },
  {
   "cell_type": "markdown",
   "id": "82ba6929-8678-4c81-b0d8-dcb0031e1134",
   "metadata": {
    "slideshow": {
     "slide_type": "skip"
    },
    "tags": []
   },
   "source": [
    "# Fuerzas hidrostáticas sobre superficies planas"
   ]
  },
  {
   "cell_type": "raw",
   "id": "7a5f26d5-f333-4b3d-a106-380762007fc2",
   "metadata": {
    "slideshow": {
     "slide_type": "slide"
    },
    "tags": []
   },
   "source": [
    "<div style=\"height:600px; border: 0px solid black\">\n",
    "    <!--- header -->\n",
    "    <div style=\"height:0px; border: 0px solid black\">\n",
    "\n",
    "    </div>\n",
    "    <!--- content -->\n",
    "    \n",
    "    <div style=\"margin: 0;\n",
    "                position: absolute;\n",
    "                top: 50%;\n",
    "                -ms-transform: translateY(-50%);\n",
    "                transform: translateY(-50%);\n",
    "                width:100%;\n",
    "                \">\n",
    "        <div style=\"font-size:60px;border: 0px solid black\">\n",
    "\n",
    "\n",
    " Fuerzas hidrostáticas sobre superficies planas\n",
    "\n",
    "        </div>\n",
    "\n",
    "    </div>\n",
    "</div>"
   ]
  },
  {
   "cell_type": "raw",
   "id": "478501fb-6e21-4dfa-b126-3952f72e2051",
   "metadata": {
    "slideshow": {
     "slide_type": "subslide"
    },
    "tags": []
   },
   "source": [
    "<div style=\"height:600px; border: 0px solid black\">\n",
    "    <!--- header -->\n",
    "\n",
    "    <div style=\"height:66px;\n",
    "                border: 0px solid black; \n",
    "                font-size:55px; \n",
    "                \">\n",
    "        \n",
    "    </div>\n",
    "\n",
    "    <!--- content -->\n",
    "    \n",
    "    <div style=\"margin: 0;\n",
    "                position: absolute;\n",
    "                top: 50%;\n",
    "                -ms-transform: translateY(-50%);\n",
    "                transform: translateY(-50%) translateY(0px);\n",
    "                width:100%;\n",
    "                font-size:25px;\n",
    "                \">\n",
    "                \n",
    "                \n",
    "        <table width=100%>\n",
    "            <td width=70%>\n",
    "                <center> \n",
    "                    <img src=Figures/superficie_plana_sumergida.png width=100%>\n",
    "                </center>\n",
    "            </td>\n",
    "            <td style=\"margin:57%\">\n",
    "                <p style=\"font-size:22px;text-align:justify\">\n",
    "                Superficie sumergida de área $A$, con un ángulo de inclinación $\\theta$ con respecto a la superficie libre horizontal.\n",
    "                <br>\n",
    "                <br>\n",
    "                    $\\xi$:  coordenada auxiliar \n",
    "                </p>\n",
    "            </td>   \n",
    "        </table>\n",
    "                \n",
    "\n",
    "    </div>\n",
    "</div>"
   ]
  },
  {
   "cell_type": "raw",
   "id": "5d273051-2e7a-4a4a-a5f4-da7e911b927f",
   "metadata": {
    "slideshow": {
     "slide_type": "subslide"
    },
    "tags": []
   },
   "source": [
    "<div style=\"height:600px; border: 0px solid black\">\n",
    "    <!--- header -->\n",
    "\n",
    "    <div style=\"height:66px;\n",
    "                border: 0px solid black; \n",
    "                font-size:55px; \n",
    "                \">\n",
    "        \n",
    "    </div>\n",
    "\n",
    "    <!--- content -->\n",
    "    \n",
    "    <div style=\"margin: 0;\n",
    "                position: absolute;\n",
    "                top: 50%;\n",
    "                -ms-transform: translateY(-50%);\n",
    "                transform: translateY(-50%) translateY(0px);\n",
    "                width:100%;\n",
    "                font-size:25px;\n",
    "                \">\n",
    "                \n",
    "        <table>\n",
    "            <tr>\n",
    "                <td width=50%>\n",
    "                    <center> \n",
    "                        <img src=Figures/superficie_plana_sumergida.png width=100%>\n",
    "                    </center>\n",
    "                </td>\n",
    "                <td style=\"font-size:22px\">\n",
    "                    <ul>\n",
    "                        <li> El fluido ejerce una fuerza sobre la superficie.\n",
    "                        <ul>\n",
    "                            <li> Fuerzas viscosas $=0$ (en reposo)\n",
    "                            <li> <b>Fuerza de presión $\\neq 0$</b>\n",
    "                        </ul>\n",
    "                        <li> <b>La dirección de la fuerza depende del ángulo de inclinación</b>. (Para superficies horizontales, la fuerza es normal a la superficie libre horizontal).\n",
    "        <li> Fluido incompresible $\\rightarrow$  <b>La presión aumenta linealmente con la profundidad</b>\n",
    "\n",
    "        $$p=p_{a}+\\gamma h$$\n",
    "\n",
    "                        <li> Para fluidos compresibles (gases) supondremos que la presión es independiente de la altura    \n",
    "\n",
    "                    </ul>    \n",
    "                </td>\n",
    "            </tr>\n",
    "        </table>\n",
    "\n",
    "    </div>\n",
    "</div>"
   ]
  },
  {
   "cell_type": "raw",
   "id": "6bbfa88e-3750-46b0-9b5a-8f1c1c7cc566",
   "metadata": {
    "slideshow": {
     "slide_type": "subslide"
    },
    "tags": []
   },
   "source": [
    "<div style=\"height:600px; border: 0px solid black\">\n",
    "    <!--- header -->\n",
    "\n",
    "    <div style=\"height:66px;\n",
    "                border: 0px solid black; \n",
    "                font-size:55px; \n",
    "                \">\n",
    "        \n",
    "    </div>\n",
    "\n",
    "    <!--- content -->\n",
    "    \n",
    "    <div style=\"margin: 0;\n",
    "                position: absolute;\n",
    "                top: 50%;\n",
    "                -ms-transform: translateY(-50%);\n",
    "                transform: translateY(-50%) translateY(0px);\n",
    "                width:100%;\n",
    "                font-size:25px;\n",
    "                \">\n",
    "                \n",
    "                \n",
    "        <table style=\"font-size:22px\">\n",
    "        <tr style='vertical-align:top'>\n",
    "            <td width=50% style=\"background-color:rgba(244,244,244,0.7)\">\n",
    "                Magnitud de la fuerza ejercida <b>localmente</b> por fluido sobre la superficie sólida:\n",
    "\n",
    "        $$\\sigma_{n}=\\frac{d F_{n}}{d A}$$\n",
    "\n",
    "        $$d F_{n}=\\sigma_{n} d A$$\n",
    "\n",
    "        $$d F_{n}=d F_{p}=p d A$$\n",
    "            </td>\n",
    "            <td width=50% style=\"background-color:rgba(210,210,210,0.7)\">\n",
    "        Magnitud <b>total</b> de la fuerza ejercida por el fluido sobre la superficie sólida\n",
    "\n",
    "        $$F=\\int p\\, d A$$\n",
    "\n",
    "        $$F=\\int\\left(p_{a}+\\gamma h\\right)\\,d A$$\n",
    "\n",
    "        $$F=p_{a} A+\\gamma \\int h \\,d A$$\n",
    "            </td>\n",
    "            </tr>\n",
    "            </table>\n",
    "\n",
    "\n",
    "\n",
    "            <br>\n",
    "        <table>\n",
    "            <td width=40%>   \n",
    "                <center>\n",
    "                    <div style=\"background-color:rgba(0,0,240,0.1);display:table;border:2px solid black;padding:10px;font-size:30px;width:240px\">\n",
    "                        $$F=p_{C G} A$$\n",
    "                    </div>\n",
    "                </center>\n",
    "                </td>\n",
    "                <td style=\"font-size:22px\">\n",
    "                    <span style=\"color:red\">La <b>magnitud</b> de la fuerza resultante que ejerce un fluido en reposo sobre una superficie plana sumergida equivale al producto del área de dicha superficie y la presión en su centro de gravedad </span>\n",
    "                </td>\n",
    "        </table>\n",
    "\n",
    "        <p style='font-size: 15px'> Notar que para fluidos compresibles (gases):\n",
    "        $\\displaystyle\n",
    "        F=\\int p \\,dA \\approx p \\int \\,dA=p A$\n",
    "            </p>\n",
    "\n",
    "    </div>\n",
    "</div>"
   ]
  },
  {
   "cell_type": "markdown",
   "id": "32e809a0-cd57-4a21-ab32-f36a9095dc01",
   "metadata": {
    "slideshow": {
     "slide_type": "skip"
    },
    "tags": []
   },
   "source": [
    "## Centro de presión: punto de aplicación de la fuerza resultante"
   ]
  },
  {
   "cell_type": "raw",
   "id": "3706faf8-02c7-4a27-b9b7-c78dafd50473",
   "metadata": {
    "slideshow": {
     "slide_type": "subslide"
    },
    "tags": []
   },
   "source": [
    "<div style=\"height:600px; border: 0px solid black\">\n",
    "    <!--- header -->\n",
    "\n",
    "    <div style=\"height:66px;\n",
    "                border: 0px solid black; \n",
    "                font-size:35px; \n",
    "                \">\n",
    "        Centro de presión: punto de aplicación de la fuerza resultante\n",
    "    </div>\n",
    "\n",
    "    <!--- content -->\n",
    "    \n",
    "    <div style=\"margin: 0;\n",
    "                position: absolute;\n",
    "                top: 50%;\n",
    "                -ms-transform: translateY(-50%);\n",
    "                transform: translateY(-50%) translateY(66px);\n",
    "                width:100%;\n",
    "                font-size:25px;\n",
    "                \">\n",
    "\n",
    "        <center>\n",
    "        <p style=\"font-size:20px; text-align:justify;width:100%\">\n",
    "        Para balancear la porción de momento de inercia rotacional del esfuerzo, la fuerza $F$ no actuará efectivamente en el centroide, si no que en una posición más abajo (apuntando hacia la zona de mayor presión) denominada centro de presión (CP).\n",
    "        </p>\n",
    "        </center>\n",
    "\n",
    "        <table style=\"width:100%\">\n",
    "            <tr style=\"vertical-align:top;font-size:20px\">\n",
    "                <td style=\"width:50%; text-align:justify;background-color:rgba(244,244,244,0.7);padding:20px\"> \n",
    "                    Las coordenadas del CP en $y$ ($y_{CP}$) se determinan igualando el <b><span style=\"color:red\">momento de la fuerza resultante con respecto al eje $x$</span></b> con la <b><span style=\"color:blue\">suma de momento de las fuerzas distribuidas con respecto al mismo eje</span></b>:\n",
    "                    $$\\begin{aligned}  \\color{red}{F y_{C P}}&=\\color{blue}{\\int y p \\,d A}\\\\\n",
    "        &=\\color{blue}{\\int y\\left(p_{a}+\\gamma \\xi \\sin \\theta\\right) \\,d A} \\end{aligned}$$\n",
    "                </td>\n",
    "                <td style=\"width:50%; text-align:justify;background-color:rgba(210,210,210,0.7);padding:20px\"> \n",
    "                        Las coordenadas del CP en $x$ ($x_{CP}$) se determinan igualando el <b><span style=\"color:red\">momento de la fuerza resultante con respecto al eje $y$</span></b> con la <b><span style=\"color:blue\">suma de momento de las fuerzas distribuidas con respecto al mismo eje</span></b>:\n",
    "                    $$\\begin{aligned}  \\color{red}{F x_{C P}}&=\\color{blue}{\\int x p \\,d A}\\\\\n",
    "        &=\\color{blue}{\\int x\\left(p_{a}+\\gamma \\xi \\sin \\theta\\right)  \\,d A} \\end{aligned}$$\n",
    "                </td>\n",
    "            </tr>\n",
    "        </table>\n",
    "\n",
    "\n",
    "    </div>\n",
    "</div>"
   ]
  },
  {
   "cell_type": "markdown",
   "id": "4c26d9c2-8a6b-4cb5-a17f-ac4a766d3e3e",
   "metadata": {
    "slideshow": {
     "slide_type": "skip"
    },
    "tags": []
   },
   "source": [
    "## Coordenadas del centro de presión"
   ]
  },
  {
   "cell_type": "raw",
   "id": "e3357bf4-1bca-4745-b35c-a1d5b336c1cf",
   "metadata": {
    "slideshow": {
     "slide_type": "subslide"
    },
    "tags": []
   },
   "source": [
    "<div style=\"height:600px; border: 0px solid black\">\n",
    "    <!--- header -->\n",
    "\n",
    "    <div style=\"height:66px;\n",
    "                border: 0px solid black; \n",
    "                font-size:55px; \n",
    "                \">\n",
    "        Coordenadas del centro de presión\n",
    "    </div>\n",
    "\n",
    "    <!--- content -->\n",
    "    \n",
    "    <div style=\"margin: 0;\n",
    "                position: absolute;\n",
    "                top: 50%;\n",
    "                -ms-transform: translateY(-50%);\n",
    "                transform: translateY(-50%) translateY(66px);\n",
    "                width:100%;\n",
    "                font-size:25px;\n",
    "                \">\n",
    "        <table style=\"width:100%\">\n",
    "            <tr style=\"vertical-align:top;font-size:20px\">\n",
    "                <td style=\"width:50%; text-align:justify;background-color:rgba(244,244,244,0.7);padding:20px\"> \n",
    "                    Coordenada $y_{CP}$\n",
    "\n",
    "                    $$y_{C P}=-\\gamma \\sin \\theta \\frac{I_{x x}}{p_{C G} A}$$\n",
    "\n",
    "                </td>\n",
    "\n",
    "                <td style=\"width:50%; text-align:justify;background-color:rgba(210,210,210,0.7);padding:20px\">\n",
    "\n",
    "                    Coordenada $x_{CP}$\n",
    "\n",
    "                    $$x_{C P}=-\\gamma \\sin \\theta \\frac{I_{x y}}{p_{C G} A}$$\n",
    "\n",
    "                </td>\n",
    "\n",
    "            </tr>\n",
    "        </table>\n",
    "        \n",
    "        <p style='font-size:22px'>\n",
    "            <ul><li>$I_{xx}$ y $I_{xy}$: momentos de inercia de área axial. Dependen de la geometría de la superficie\n",
    "        <li> $\\gamma$: peso específico del fluido en el cual la superficie se encuentra sumergida\n",
    "        <li> $p_{CG}$: presión en el centroide de la superficie\n",
    "        <li> $\\theta$: ángulo de la superficie, medido con respecto al plano horizontal (normal al campo gravitacional)\n",
    "        <li> $A$: área de la superficie\n",
    "    </ul>\n",
    "</p>\n",
    "<p style=\"font-size:18px;font-weight:bold\">\n",
    "    Notar que para superficies en las que al menos uno de sus ejes de simetría coincida con un eje centroidal, $I_{x y}=0$\n",
    "</p>\n",
    "    </div>\n",
    "</div>"
   ]
  },
  {
   "cell_type": "markdown",
   "id": "e5312493-269f-40cf-8e02-de927647c621",
   "metadata": {
    "slideshow": {
     "slide_type": "skip"
    },
    "tags": []
   },
   "source": [
    "### Momentos de inercia para geometrías comúnes"
   ]
  },
  {
   "cell_type": "raw",
   "id": "53dcb610-6eb9-4c41-be05-96eb66fdc54d",
   "metadata": {
    "slideshow": {
     "slide_type": "subslide"
    },
    "tags": []
   },
   "source": [
    "<div style=\"height:600px; border: 0px solid black\">\n",
    "    <!--- header -->\n",
    "\n",
    "    <div style=\"height:66px;\n",
    "                border: 0px solid black; \n",
    "                font-size:35px; \n",
    "                \">\n",
    "        \n",
    "         Momentos de inercia para geometrías comúnes\n",
    "    </div>\n",
    "\n",
    "    <!--- content -->\n",
    "    \n",
    "    <div style=\"margin: 0;\n",
    "                position: absolute;\n",
    "                top: 50%;\n",
    "                -ms-transform: translateY(-50%);\n",
    "                transform: translateY(-50%) translateY(66px);\n",
    "                width:100%;\n",
    "                font-size:25px;\n",
    "                \">\n",
    "                \n",
    "    <center><img src=Figures/momentos_inercia.png width=55%></center>\n",
    "\n",
    "    </div>\n",
    "</div>"
   ]
  },
  {
   "cell_type": "markdown",
   "id": "69665f35-7273-42c8-be1a-65e716031cb0",
   "metadata": {
    "slideshow": {
     "slide_type": "skip"
    },
    "tags": []
   },
   "source": [
    "## Caso especial: superficie sobre el fluido"
   ]
  },
  {
   "cell_type": "raw",
   "id": "8d949224-8912-45e7-b5ed-00ff394e1197",
   "metadata": {
    "slideshow": {
     "slide_type": "subslide"
    },
    "tags": []
   },
   "source": [
    "<div style=\"height:600px; border: 0px solid black\">\n",
    "    <!--- header -->\n",
    "\n",
    "    <div style=\"height:66px;\n",
    "                border: 0px solid black; \n",
    "                font-size:35px; \n",
    "                \">\n",
    "        Caso especial: superficie sobre el fluido\n",
    "    </div>\n",
    "\n",
    "    <!--- content -->\n",
    "    \n",
    "    <div style=\"margin: 0;\n",
    "                position: absolute;\n",
    "                top: 50%;\n",
    "                -ms-transform: translateY(-50%);\n",
    "                transform: translateY(-50%) translateY(66px);\n",
    "                width:100%;\n",
    "                font-size:25px;\n",
    "                \">\n",
    "                \n",
    "                \n",
    "\n",
    "        <table>\n",
    "            <tr>\n",
    "                <td style=\"width:50%\">\n",
    "                    <center>\n",
    "                        <img src=Figures/columna_abajo.png width=100%>\n",
    "                    </center>\n",
    "                </td>\n",
    "                <td style=\"font-size:22px\">\n",
    "                    En el caso de que la superficie se encuentre sobre el fluido, las expresiones anteriormente derivadas siguen siendo válidas.\n",
    "                    <br>\n",
    "                    <br>\n",
    "                    Para estos casos, el fluido ejerce una fuerza hacia arriba (contrario a aquellos casos en los que el fluido se encuentra sobre la superficie, donde la fuerza tiene una dirección hacia abajo).\n",
    "                </td>\n",
    "            </tr>\n",
    "        </table>\n",
    "\n",
    "\n",
    "\n",
    "    </div>\n",
    "</div>"
   ]
  },
  {
   "cell_type": "markdown",
   "id": "87af8c67-d229-47bd-8dd7-8ac477ebb289",
   "metadata": {
    "slideshow": {
     "slide_type": "skip"
    },
    "tags": []
   },
   "source": [
    "### Caso especial: superficie plana sumergida en multiples fluidos"
   ]
  },
  {
   "cell_type": "raw",
   "id": "b50f9790-a107-4e35-bf7a-fce25446e391",
   "metadata": {
    "slideshow": {
     "slide_type": "subslide"
    },
    "tags": []
   },
   "source": [
    "<div style=\"height:600px; border: 0px solid black\">\n",
    "    <!--- header -->\n",
    "\n",
    "    <div style=\"height:66px;\n",
    "                border: 0px solid black; \n",
    "                font-size:35px; \n",
    "                \">\n",
    "        Caso especial: superficie plana sumergida en multiples fluidos\n",
    "    </div>\n",
    "\n",
    "    <!--- content -->\n",
    "    \n",
    "    <div style=\"margin: 0;\n",
    "                position: absolute;\n",
    "                top: 50%;\n",
    "                -ms-transform: translateY(-50%);\n",
    "                transform: translateY(-50%) translateY(66px);\n",
    "                width:100%;\n",
    "                font-size:25px;\n",
    "                \">\n",
    "                \n",
    "                \n",
    "        <table>\n",
    "            <tr>\n",
    "                <td style=\"width:40%\">\n",
    "                    <center>\n",
    "                        <img src=Figures/superficie_plana_sumergida_multi.png width=80%>\n",
    "                    </center>\n",
    "                </td>\n",
    "                <td style=\"font-size:20px\">\n",
    "                    Considerando las diferentes partes de la superficies, que se encuentran en contacto con los diferentes fluidos, como superficies distintas:\n",
    "                    $$\n",
    "                    F_{R}=\\sum F_{R, i}=\\sum p_{C G, i} A_{i}\n",
    "                    $$\n",
    "\n",
    "                    La posición del centro de presión en cada superficie se calcula utilizando las metodologías ya descritas:\n",
    "                    $$\n",
    "                    \\begin{aligned}\n",
    "                    &y_{C P_{i}}=-\\gamma_{i} \\sin \\theta_{i} \\frac{I_{x x_{i}}}{p_{C G_{i}} A_{i}} \\\\\n",
    "                    &x_{C P_{i}}=-\\gamma_{i} \\sin \\theta_{i} \\frac{I_{x y_{i}}}{p_{C G_{i}} A_{i}}\n",
    "                    \\end{aligned}\n",
    "                    $$\n",
    "                    La posición del centro de presión de la fuerza total se calcula sumando los momentos resultantes de las fuerzas en cada superficie:\n",
    "                    $$\n",
    "                    \\sum F_{i} y_{C P_{i}}=F_{y C P}\n",
    "                    $$\n",
    "                </td>\n",
    "            </tr>\n",
    "        </table>\n",
    "\n",
    "\n",
    "    </div>\n",
    "</div>"
   ]
  },
  {
   "cell_type": "markdown",
   "id": "732a5711-feab-4513-b0c6-adfb0532f4ef",
   "metadata": {
    "slideshow": {
     "slide_type": "skip"
    },
    "tags": []
   },
   "source": [
    "# Fuerzas hidrostáticas sobre superficies curvas"
   ]
  },
  {
   "cell_type": "raw",
   "id": "8f3b06f3-56a0-428b-976c-f3a4aaeebbef",
   "metadata": {
    "slideshow": {
     "slide_type": "slide"
    },
    "tags": []
   },
   "source": [
    "<div style=\"height:600px; border: 0px solid black\">\n",
    "    <!--- header -->\n",
    "    <div style=\"height:0px; border: 0px solid black\">\n",
    "\n",
    "    </div>\n",
    "    <!--- content -->\n",
    "    \n",
    "    <div style=\"margin: 0;\n",
    "                position: absolute;\n",
    "                top: 50%;\n",
    "                -ms-transform: translateY(-50%);\n",
    "                transform: translateY(-50%);\n",
    "                width:100%;\n",
    "                \">\n",
    "        <div style=\"font-size:60px;border: 0px solid black\">\n",
    "\n",
    "            Fuerzas hidrostáticas sobre superficies curvas\n",
    "\n",
    "\n",
    "        </div>\n",
    "\n",
    "    </div>\n",
    "</div>"
   ]
  },
  {
   "cell_type": "markdown",
   "id": "9165d1e7-107f-49a7-8398-1fbc6b2852e1",
   "metadata": {
    "slideshow": {
     "slide_type": "skip"
    },
    "tags": []
   },
   "source": [
    "## Esquema "
   ]
  },
  {
   "cell_type": "raw",
   "id": "c98de910-6c9b-4f3d-8a64-b2ab780617cb",
   "metadata": {
    "slideshow": {
     "slide_type": "subslide"
    },
    "tags": []
   },
   "source": [
    "<div style=\"height:600px; border: 0px solid black\">\n",
    "    <!--- header -->\n",
    "\n",
    "    <div style=\"height:66px;\n",
    "                border: 0px solid black; \n",
    "                font-size:55px; \n",
    "                \">\n",
    "        \n",
    "    </div>\n",
    "\n",
    "    <!--- content -->\n",
    "    \n",
    "    <div style=\"margin: 0;\n",
    "                position: absolute;\n",
    "                top: 50%;\n",
    "                -ms-transform: translateY(-50%);\n",
    "                transform: translateY(-50%) translateY(0px);\n",
    "                width:100%;\n",
    "                font-size:25px;\n",
    "                \">\n",
    "                \n",
    "\n",
    "        <table width=100%>\n",
    "            <tr style='vertical-align:center'>\n",
    "                <td width=65%>\n",
    "                    <center> \n",
    "                        <img src=Figures/superficie_curva_sumergida1.png width=100%>\n",
    "                    </center>\n",
    "                </td>\n",
    "                <td style='width:35%'>\n",
    "                    <div style='background-color:rgba(220,220,220,0.7);padding:20px'>\n",
    "                        <p style=\"font-size:22px;align:justify\">\n",
    "                            <b>Superficie curva sumergida </b> de área superficial $A$\n",
    "                        </p>\n",
    "                        <p style=\"font-size:22px;text-align:justify\">\n",
    "                            Dividiremos la fuerza resultante en dos componentes:\n",
    "                        </p>\n",
    "                        <ul style='font-size:22px;font-weight:bold;margin:auto'> \n",
    "                           <li> Componente vertical $F_V$</li>\n",
    "                           <li> Componente horizontal $F_H$</li>\n",
    "                       </ul>\n",
    "                   </div>\n",
    "                </td>   \n",
    "            </tr>\n",
    "        </table>\n",
    "        \n",
    "        <center>\n",
    "            <div style=\"background-color:rgba(255,255,0,0.1); \n",
    "                        border: 2px solid black;\n",
    "                        width:80%;\n",
    "                        padding:20px\">\n",
    "                <b> La magnitud de ambas componentes puede ser determinada a partir de un balance de fuerzas </b>\n",
    "            </div>\n",
    "        </center>\n",
    "                \n",
    "\n",
    "    </div>\n",
    "</div>"
   ]
  },
  {
   "cell_type": "markdown",
   "id": "dfcf1e2d-b56d-4b0a-9605-23eb0bbbc452",
   "metadata": {
    "slideshow": {
     "slide_type": "skip"
    },
    "tags": []
   },
   "source": [
    "## Componente Horizontal"
   ]
  },
  {
   "cell_type": "raw",
   "id": "f402abd6-37d6-41d4-ba1a-53ed55f33d56",
   "metadata": {
    "slideshow": {
     "slide_type": "subslide"
    },
    "tags": []
   },
   "source": [
    "<div style=\"height:600px; border: 0px solid black\">\n",
    "    <!--- header -->\n",
    "\n",
    "    <div style=\"height:66px;\n",
    "                border: 0px solid black; \n",
    "                font-size:35px; \n",
    "                \">\n",
    "            Componente horizontal\n",
    "    </div>\n",
    "\n",
    "    <!--- content -->\n",
    "    \n",
    "    <div style=\"margin: 0;\n",
    "                position: absolute;\n",
    "                top: 50%;\n",
    "                -ms-transform: translateY(-50%);\n",
    "                transform: translateY(-50%) translateY(66px);\n",
    "                width:100%;\n",
    "                font-size:25px;\n",
    "                \">\n",
    "\n",
    "        <table>\n",
    "            <tr style='vertical-align:middle'>\n",
    "                <td style='width:50%'>\n",
    "                    <center><img src=Figures/superficie_curva_sumergida2.png></center>\n",
    "                </td>\n",
    "                <td style='vertical-align:middle;font-size:22px;text-align:justify'>\n",
    "\n",
    "                    <p>\n",
    "                        <b>La componente horizontal de la fuerza ($F_{H}$) tiene una magnitud igual a $F_x$</b>\n",
    "                    </p>\n",
    "                    \n",
    "                    <p style=\"font-style:italic\">\n",
    "                        La <b>componente horizontal</b> de la fuerza resultante que actúa sobre una superficie curva posee  magnitud equivalente al de la fuerza sobre la superficie plana formada por la <span style=\"font-weight:bold; color:red\"> proyección de la superficie curva en el plano vertical </span>\n",
    "                    </p>\n",
    "                    \n",
    "                </td>\n",
    "            </tr>    \n",
    "        </table>\n",
    "\n",
    "    </div>\n",
    "</div>"
   ]
  },
  {
   "cell_type": "markdown",
   "id": "946b5e40-6575-4f93-946c-99cb92a16a5a",
   "metadata": {
    "slideshow": {
     "slide_type": "skip"
    },
    "tags": []
   },
   "source": [
    "## Componente vertical"
   ]
  },
  {
   "cell_type": "raw",
   "id": "01e53efa-d5b5-4658-8287-d5c875c8153e",
   "metadata": {
    "slideshow": {
     "slide_type": "subslide"
    },
    "tags": []
   },
   "source": [
    "<div style=\"height:600px; border: 0px solid black\">\n",
    "    <!--- header -->\n",
    "\n",
    "    <div style=\"height:66px;\n",
    "                border: 0px solid black; \n",
    "                font-size:35px; \n",
    "                \">\n",
    "            Componente vertical\n",
    "    </div>\n",
    "\n",
    "    <!--- content -->\n",
    "    \n",
    "    <div style=\"margin: 0;\n",
    "                position: absolute;\n",
    "                top: 50%;\n",
    "                -ms-transform: translateY(-50%);\n",
    "                transform: translateY(-50%) translateY(66px);\n",
    "                width:100%;\n",
    "                font-size:25px;\n",
    "                \">\n",
    "\n",
    "        <table>\n",
    "            <tr style='vertical-align:middle'>\n",
    "                <td style='width:50%'>\n",
    "                    <center><img src=Figures/superficie_curva_sumergida2.png></center>\n",
    "                </td>\n",
    "                <td style='vertical-align:middle;font-size:22px;text-align:justify'>\n",
    "\n",
    "                    <p style='vertical-align:middle;font-size:22px;text-align:justify'>\n",
    "                        <b> La componente vertical de la fuerza ($F_{V}$) posee magnitud igual a la suma del peso de los fluidos sobre ella ($W_{aire} + W_1 + W_2$)</b>\n",
    "                    </p>\n",
    "                    \n",
    "                    <p style='vertical-align:middle;font-size:22px;text-align:justify;font-style:italic'>\n",
    "                        La <b>componente vertical</b> de la fuerza resultante que actúa sobre una superficie curva posee igual magnitud y dirección que el peso total de la columna de fluidos <span style=\"font-weight:bold; color:red\"> (tanto líquidos como atmósfera) </span>\n",
    "                    </p>\n",
    "                    \n",
    "                </td>\n",
    "            </tr>    \n",
    "        </table>\n",
    "\n",
    "    </div>\n",
    "</div>"
   ]
  },
  {
   "cell_type": "markdown",
   "id": "b9d3724b-2219-4545-be20-12d8bf62a075",
   "metadata": {
    "slideshow": {
     "slide_type": "skip"
    },
    "tags": []
   },
   "source": [
    "## Magnitud total"
   ]
  },
  {
   "cell_type": "raw",
   "id": "3e1a57d0-96df-4874-99bf-df7eaf8a7f4a",
   "metadata": {
    "slideshow": {
     "slide_type": "subslide"
    },
    "tags": []
   },
   "source": [
    "<div style=\"height:600px; border: 0px solid black\">\n",
    "    <!--- header -->\n",
    "\n",
    "    <div style=\"height:66px;\n",
    "                border: 0px solid black; \n",
    "                font-size:35px; \n",
    "                \">\n",
    "            Fuerza resultante\n",
    "    </div>\n",
    "\n",
    "    <!--- content -->\n",
    "    \n",
    "    <div style=\"margin: 0;\n",
    "                position: absolute;\n",
    "                top: 50%;\n",
    "                -ms-transform: translateY(-50%);\n",
    "                transform: translateY(-50%) translateY(66px);\n",
    "                width:100%;\n",
    "                font-size:25px;\n",
    "                \">\n",
    "\n",
    "        <table>\n",
    "            <tr style='vertical-align:middle'>\n",
    "                <td style='width:50%'>\n",
    "                    <center><img src=Figures/superficie_curva_sumergida2.png></center>\n",
    "                </td>\n",
    "                <td style='vertical-align:middle;font-size:22px;text-align:justify'>\n",
    "\n",
    "                    <p>\n",
    "                       <b>Magnitud</b> de la Fuerza resultante ($F_R$):\n",
    "                       $$F_R = \\sqrt{F_H^2+F_V^2}$$\n",
    "                   </p>\n",
    "                   <p>\n",
    "                      <b> Dirección de la fuerza resultante </b>: La fuerza resultante actúa con un ángulo $\\theta$ con respecto al <b>plano horizontal</b>\n",
    "                       \n",
    "                        $$\\theta = \\tan^{-1}\\left({\\frac{F_V}{F_H}}\\right)$$\n",
    "\n",
    "                   </p>\n",
    "                   \n",
    "                </td>\n",
    "            </tr>    \n",
    "        </table>\n",
    "\n",
    "    </div>\n",
    "</div>"
   ]
  }
 ],
 "metadata": {
  "kernelspec": {
   "display_name": "Python 3 (ipykernel)",
   "language": "python",
   "name": "python3"
  },
  "language_info": {
   "codemirror_mode": {
    "name": "ipython",
    "version": 3
   },
   "file_extension": ".py",
   "mimetype": "text/x-python",
   "name": "python",
   "nbconvert_exporter": "python",
   "pygments_lexer": "ipython3",
   "version": "3.9.13"
  },
  "toc-autonumbering": false,
  "widgets": {
   "application/vnd.jupyter.widget-state+json": {
    "state": {},
    "version_major": 2,
    "version_minor": 0
   }
  }
 },
 "nbformat": 4,
 "nbformat_minor": 5
}
