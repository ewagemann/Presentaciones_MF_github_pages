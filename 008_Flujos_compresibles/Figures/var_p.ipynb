{
 "cells": [
  {
   "cell_type": "code",
   "execution_count": 1,
   "metadata": {},
   "outputs": [],
   "source": [
    "import numpy as np\n",
    "import matplotlib.pyplot as plt\n",
    "import scipy.optimize"
   ]
  },
  {
   "cell_type": "code",
   "execution_count": 4,
   "metadata": {},
   "outputs": [],
   "source": [
    "a=30\n",
    "b=5\n",
    "spacing=10**3\n",
    "x1=np.linspace(0,a,spacing)\n",
    "y=b*np.power(1-np.power(x1,2)/a**2,0.5)\n",
    "\n",
    "xall=np.linspace(0,a,spacing)\n",
    "yall=list(y[::-1])\n",
    "#for i in y:\n",
    "#    yall.append(i)\n",
    "Ae=1\n",
    "A=np.divide(np.subtract((b+Ae),yall),Ae)\n",
    "\n",
    "def ma_solv(Ai):\n",
    "    At=Ai\n",
    "    def ma_solv(Ma):\n",
    "        eo = At-1/Ma*(1+0.2*Ma**2)**3/1.728\n",
    "        return eo\n",
    "    man=scipy.optimize.newton(ma_solv,0.01)\n",
    "    return man\n",
    "Ma_mat=[]\n",
    "for i in A:\n",
    "    ma_n=ma_solv(i)\n",
    "    Ma_mat.append(ma_n)\n",
    "\n",
    "p="
   ]
  },
  {
   "cell_type": "code",
   "execution_count": 5,
   "metadata": {},
   "outputs": [
    {
     "data": {
      "text/plain": [
       "[<matplotlib.lines.Line2D at 0x7fea68588790>]"
      ]
     },
     "execution_count": 5,
     "metadata": {},
     "output_type": "execute_result"
    },
    {
     "data": {
      "image/png": "[encoded data removed]",
      "text/plain": [
       "<Figure size 432x288 with 1 Axes>"
      ]
     },
     "metadata": {
      "needs_background": "light"
     },
     "output_type": "display_data"
    }
   ],
   "source": [
    "\n",
    "fig=plt.figure()\n",
    "ax=fig.add_subplot(111)\n",
    "#ax.plot(xall,yall)\n",
    "ax.plot(xall,Ma_mat)\n",
    "#ax.set_xlim(0,2*a)\n"
   ]
  },
  {
   "cell_type": "code",
   "execution_count": null,
   "metadata": {},
   "outputs": [],
   "source": []
  }
 ],
 "metadata": {
  "kernelspec": {
   "display_name": "Python 3",
   "language": "python",
   "name": "python3"
  },
  "language_info": {
   "codemirror_mode": {
    "name": "ipython",
    "version": 3
   },
   "file_extension": ".py",
   "mimetype": "text/x-python",
   "name": "python",
   "nbconvert_exporter": "python",
   "pygments_lexer": "ipython3",
   "version": "3.7.6"
  }
 },
 "nbformat": 4,
 "nbformat_minor": 4
}
