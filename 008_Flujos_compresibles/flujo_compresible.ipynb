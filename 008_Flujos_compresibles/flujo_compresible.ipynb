{
 "cells": [
  {
   "cell_type": "markdown",
   "id": "f913da06-1249-470d-b6ad-eb953ddd23b7",
   "metadata": {
    "slideshow": {
     "slide_type": "skip"
    },
    "tags": []
   },
   "source": [
    "# Preamble & templates"
   ]
  },
  {
   "cell_type": "code",
   "execution_count": 1,
   "id": "5687c08e-5eb3-4080-8cb6-83eb076b7278",
   "metadata": {
    "slideshow": {
     "slide_type": "skip"
    },
    "tags": []
   },
   "outputs": [
    {
     "data": {
      "application/javascript": "MathJax.Hub.Queue(\n  [\"resetEquationNumbers\", MathJax.InputJax.TeX],\n  [\"PreProcess\", MathJax.Hub],\n  [\"Reprocess\", MathJax.Hub]\n);\n\nMathJax.Hub.Config({\n    TeX: { equationNumbers: { autoNumber: \"AMS\" } }\n});\n",
      "text/plain": [
       "<IPython.core.display.Javascript object>"
      ]
     },
     "metadata": {},
     "output_type": "display_data"
    }
   ],
   "source": [
    "%%javascript\n",
    "MathJax.Hub.Queue(\n",
    "  [\"resetEquationNumbers\", MathJax.InputJax.TeX],\n",
    "  [\"PreProcess\", MathJax.Hub],\n",
    "  [\"Reprocess\", MathJax.Hub]\n",
    ");\n",
    "\n",
    "MathJax.Hub.Config({\n",
    "    TeX: { equationNumbers: { autoNumber: \"AMS\" } }\n",
    "});"
   ]
  },
  {
   "cell_type": "code",
   "execution_count": 2,
   "id": "a6a04b78-b961-41c3-a1b5-84bf0496abb1",
   "metadata": {
    "slideshow": {
     "slide_type": "skip"
    },
    "tags": []
   },
   "outputs": [],
   "source": [
    "%matplotlib widget\n",
    "import numpy as np\n",
    "import matplotlib.pyplot as plt\n",
    "import ipywidgets as widgets\n",
    "import scipy.optimize\n",
    "from matplotlib.ticker import FormatStrFormatter\n",
    "import pandas as pd"
   ]
  },
  {
   "cell_type": "markdown",
   "id": "5c1a916a-6bc7-466c-9e39-9ebdccf6d0ab",
   "metadata": {
    "slideshow": {
     "slide_type": "skip"
    },
    "tags": []
   },
   "source": [
    "## Diapo base"
   ]
  },
  {
   "cell_type": "raw",
   "id": "e2330466-69cf-4811-b5b5-74c4b7019ed7",
   "metadata": {
    "slideshow": {
     "slide_type": "skip"
    },
    "tags": []
   },
   "source": [
    "<div class='diapo'>\n",
    "    <div class='base'>\n",
    "        <div class='base header'>\n",
    "        \n",
    "        </div>\n",
    "        <div class='base body'>\n",
    "        \n",
    "        </div>\n",
    "    </div>\n",
    "</div>"
   ]
  },
  {
   "cell_type": "markdown",
   "id": "bbff13e0-196c-46c2-bfb9-49228f49ccdb",
   "metadata": {
    "slideshow": {
     "slide_type": "skip"
    },
    "tags": []
   },
   "source": [
    "## Diapo alternativa"
   ]
  },
  {
   "cell_type": "raw",
   "id": "054814c0-46d8-48e4-b1ef-1cbef25214d8",
   "metadata": {
    "slideshow": {
     "slide_type": "skip"
    },
    "tags": []
   },
   "source": [
    "<div class='diapo'>\n",
    "    <div class='base'>\n",
    "        <div class='alternativa_header'>\n",
    "        \n",
    "        </div>\n",
    "        <div class='alternativa_body'>\n",
    "        \n",
    "        </div>\n",
    "    </div>\n",
    "</div>"
   ]
  },
  {
   "cell_type": "markdown",
   "id": "34953df3-f082-4e5e-b79f-38722ed57c37",
   "metadata": {
    "slideshow": {
     "slide_type": "skip"
    },
    "tags": []
   },
   "source": [
    "## Diapo título"
   ]
  },
  {
   "cell_type": "raw",
   "id": "66af4b14-f375-4735-9022-249ab0512fd6",
   "metadata": {
    "slideshow": {
     "slide_type": "skip"
    },
    "tags": []
   },
   "source": [
    "<div class='diapo'>\n",
    "    <div class='titulo'>\n",
    "    </div>\n",
    "</div>"
   ]
  },
  {
   "cell_type": "markdown",
   "id": "a90ac82a-dd69-48a9-900e-454f333a3be5",
   "metadata": {
    "slideshow": {
     "slide_type": "skip"
    },
    "tags": []
   },
   "source": [
    "# Portada"
   ]
  },
  {
   "cell_type": "raw",
   "id": "1031675c-2825-4b29-b289-5ba4a5df96f9",
   "metadata": {
    "slideshow": {
     "slide_type": "slide"
    },
    "tags": []
   },
   "source": [
    "<div class='diapo'>\n",
    "    <div class='base'>\n",
    "    <table class='portada' style='width:100%'>\n",
    "        <tr class='portadatr' style='vertical-align:center'>\n",
    "            <td class='portada1' style='width:25%; border: 0px solid black'>\n",
    "                <center>\n",
    "                    <img src=Figures/udec.jpg height=120px>\n",
    "                </center>\n",
    "            </td>\n",
    "            <td class='portada2' style='width:50%; border: 0px solid black'> \n",
    "                <center> \n",
    "                    <p class='portada institucion'>\n",
    "                        Universidad de Concepción <br>\n",
    "                        Facultad de Ingeniería <br>\n",
    "                        Departamento de Ingeniería Mecánica\n",
    "                    </p>\n",
    "                </center>\n",
    "            </td>\n",
    "            <td class='portada3' style='width:25%; border: 0px solid black'>\n",
    "                <center>\n",
    "                    <img src=Figures/DIM.png height=70px>\n",
    "                </center>\n",
    "            </td>    \n",
    "        </tr>\n",
    "    </table>\n",
    "        <div class='base body'>\n",
    "<center>\n",
    "\n",
    "    <p class='portada asignatura'> \n",
    "        <b>Mecánica de fluidos</b> \n",
    "    </p>\n",
    "    <p style=\"font-size:5px\">\n",
    "    <br>\n",
    "    </p>\n",
    "    <p class='portada capitulo'>\n",
    "        <b> 8- Flujos compresibles</b>\n",
    "    </p>\n",
    "</center>\n",
    "</div>\n",
    "</div>\n",
    "</div>"
   ]
  },
  {
   "cell_type": "markdown",
   "id": "e4e93689-0a7e-4cd5-8fcb-788e2278bb65",
   "metadata": {
    "slideshow": {
     "slide_type": "skip"
    },
    "tags": []
   },
   "source": [
    "# Contexto"
   ]
  },
  {
   "cell_type": "markdown",
   "id": "b402cb75-0798-402d-a125-90b6452a2b19",
   "metadata": {
    "slideshow": {
     "slide_type": "skip"
    },
    "tags": []
   },
   "source": [
    "# Compresibilidad y número de Mach"
   ]
  },
  {
   "cell_type": "raw",
   "id": "bef187b9-70b5-4b94-8064-9852b129a521",
   "metadata": {
    "slideshow": {
     "slide_type": "slide"
    },
    "tags": []
   },
   "source": [
    "<div class='diapo'>\n",
    "    <div class='titulo'>\n",
    "        Compresibilidad y número de Mach\n",
    "    </div>\n",
    "</div>"
   ]
  },
  {
   "cell_type": "markdown",
   "id": "328de09b-92dc-4934-bc7d-d08a124e7cc3",
   "metadata": {
    "slideshow": {
     "slide_type": "skip"
    },
    "tags": []
   },
   "source": [
    "## Número de Mach"
   ]
  },
  {
   "cell_type": "raw",
   "id": "06066d07-a59b-4736-bacf-ed1ff96960f5",
   "metadata": {
    "slideshow": {
     "slide_type": "subslide"
    },
    "tags": []
   },
   "source": [
    "<div class='diapo'>\n",
    "    <div class='base'>\n",
    "        <div class='base header'>\n",
    "            Número de Mach ($\\operatorname{Ma}$)\n",
    "        </div>\n",
    "        <div class='base body'>\n",
    "            <center>\n",
    "                <div class='equation_box'>\n",
    "                    <table style='font-size:25px'>\n",
    "                        <tr>\n",
    "                            <td>\n",
    "                                $$\n",
    "                                \\operatorname{Ma}=\\frac{V}{c} \n",
    "                                $$\n",
    "                            </td>\n",
    "                            <td>\n",
    "                                <ul>\n",
    "                                    <li>\n",
    "                                        $V$: velocidad característica del flujo\n",
    "                                    </li>\n",
    "                                    <li>\n",
    "                                        $c$: velocidad del sonido en el fluido\n",
    "                                    </li>\n",
    "                                </ul>\n",
    "                            </td>\n",
    "                        </tr>\n",
    "                    </table>\n",
    "                </div>\n",
    "            </center>\n",
    "            \n",
    "\n",
    "            <table style='border:0px; font-size:25px'>\n",
    "                <tr>\n",
    "                    <td>\n",
    "                        $$\\phantom{0.3<}\\,\\operatorname{Ma}<0.3$$\n",
    "                    </td>\n",
    "                    <td>\n",
    "                        <b>Flujo incompresible</b>\n",
    "                    </td>\n",
    "                    <td>\n",
    "                        Las variaciones en la densidad del fluido son despreciables.\n",
    "                    </td>\n",
    "                </tr>\n",
    "                <tr>\n",
    "                    <td>\n",
    "                        $$0.3<\\operatorname{Ma}<0.8$$ \n",
    "                    </td>\n",
    "                    <td> \n",
    "                        <b>Flujo subsónico</b>\n",
    "                    </td>\n",
    "                    <td>\n",
    "                        Las variaciones de densidad son importantes, pero no existen ondas de choque.\n",
    "                    </td>\n",
    "                </tr>\n",
    "                <tr>\n",
    "                    <td>\n",
    "                        $$0.8<\\operatorname{Ma}<1.2$$\n",
    "                    </td>\n",
    "                    <td>\n",
    "                        <b>Flujo transónico</b>\n",
    "                    </td>\n",
    "                    <td>\n",
    "                        Aparecen ondas de choque, las cuales dividen regiones de flujo subsónicas y supersónicas.\n",
    "                    </td>\n",
    "                </tr>\n",
    "                <tr>\n",
    "                    <td>\n",
    "                        $$1.2<\\operatorname{Ma}<3.0$$ \n",
    "                    </td>\n",
    "                    <td>\n",
    "                        <b>Flujo supersónico</b>\n",
    "                    </td>\n",
    "                    <td> \n",
    "                        Ondas de choque presentes, pero sin regiones subsónicas.\n",
    "                    </td>\n",
    "                </tr>\n",
    "                <tr>\n",
    "                    <td>\n",
    "                        $$3.0<\\operatorname{Ma}\\phantom{>3.0}\\,\\,$$ \n",
    "                    </td>\n",
    "                    <td>\n",
    "                        <b>Flujo supersónico</b>\n",
    "                    </td>\n",
    "                    <td>\n",
    "                        Ondas de choque y cambios en el flujo son especialmente fuertes.\n",
    "                    </td>\n",
    "                </tr>\n",
    "            </table>\n",
    "                    \n",
    "\n",
    "        </div>\n",
    "    </div>\n",
    "</div>"
   ]
  },
  {
   "cell_type": "markdown",
   "id": "17904018-206c-4209-a3ba-ff001ad6e1ad",
   "metadata": {
    "slideshow": {
     "slide_type": "skip"
    },
    "tags": []
   },
   "source": [
    "## Propagación de una onda sonora"
   ]
  },
  {
   "cell_type": "raw",
   "id": "539de17e-06d0-4d0c-9661-669daffe7ba4",
   "metadata": {
    "slideshow": {
     "slide_type": "subslide"
    },
    "tags": []
   },
   "source": [
    "<div class='diapo'>\n",
    "    <div class='base'>\n",
    "        <div class='base header'>\n",
    "            Propagación de una onda sonora\n",
    "        </div>\n",
    "        <div class='base body'>\n",
    "            <table style='font-size:25px;width:100%'>\n",
    "                <tr>\n",
    "                    <td style='width:60%'>\n",
    "                        <ul style='text-align:justify;margin-left:-10px'>\n",
    "                            <li> \n",
    "                                El sonido corresponde a un fenómeno físico en el que <b>ondas mecánicas se propagan a través de un medio</b>.\n",
    "                            </li>\n",
    "                            <li> \n",
    "                                <b>Las ondas sonoras corresponden a ondas de presión</b>, cuya magnitud de presión es muy baja (aprox $10^{-3}$ Pa).\n",
    "                            </li>\n",
    "                            <li> \n",
    "                                A medida que estas ondas se propaga a través de un medio, estas provocarán que las partículas a las cuales afecta se <b>compriman</b>. \n",
    "                            </li>\n",
    "                            <li>\n",
    "                                Estas ondas representan la <b>velocidad a la que una \"señal\" puede viajar a través del medio.</b>\n",
    "                            </li>\n",
    "                        </ul>\n",
    "                    </td>\n",
    "                    <td>\n",
    "                        <center><img src=Figures/Onde_compression_impulsion_1d_30_petit.gif width=110%></center>\n",
    "                        <center>Representación de la propagación de una onda sonora</center>\n",
    "                    </td>\n",
    "                </tr>\n",
    "            </table> \n",
    "            <br>\n",
    "            <center>\n",
    "                <div class='equation_box'>\n",
    "                Velocidad del sonido en un gas ideal:\n",
    "                    $$\n",
    "                        c=\\sqrt{kRT} \n",
    "                    $$\n",
    "                </div>\n",
    "            </center>\n",
    "        </div>\n",
    "    </div>\n",
    "</div>"
   ]
  },
  {
   "cell_type": "markdown",
   "id": "aedaffad-2c10-4e66-a120-d238952ae8b9",
   "metadata": {
    "slideshow": {
     "slide_type": "skip"
    },
    "tags": []
   },
   "source": [
    "###  Regimenes de flujo y propagación de ondas sonoras"
   ]
  },
  {
   "cell_type": "raw",
   "id": "57668d03-08a5-45b2-a1f1-26481a435945",
   "metadata": {
    "slideshow": {
     "slide_type": "subslide"
    },
    "tags": []
   },
   "source": [
    "<div class='diapo'>\n",
    "    <div class='base'>\n",
    "        <div class='base header'>\n",
    "            Regimenes de flujo y propagación de ondas sonoras\n",
    "        </div>\n",
    "        <div class='base body'>\n",
    "            <p style='text-align:justify'> \n",
    "                Para comprender la relación entre regimenes de flujo y velocidad del sonido, consideremos el siguiente ejemplo, en el que una fuenta sonora emite periodicamente pulsos sonoros.\n",
    "            </p>\n",
    "            <table style='font-size:25px; width:100%'>\n",
    "                <tr>\n",
    "                    <td style='width:60%'>\n",
    "                        <ul style='text-align:justify;margin-left:-10px'>\n",
    "                            <li> \n",
    "                                Cada pulso se emite cada $\\Delta t$ periodos de tiempo.\n",
    "                            </li>\n",
    "                            <li>\n",
    "                                La onda sonora asociada a cada pulso se expandirá, de manera que se aleja de la fuente con una velocidad $c$.\n",
    "                            </li>\n",
    "                            <li>\n",
    "                                En cualquier instante $t$, la onda sonorá generará una esfera de radio $ct$, centrada en el punto de origén del pulso.\n",
    "                            </li>\n",
    "                        </ul>                                \n",
    "                    </td>\n",
    "                    <td>\n",
    "                        <center>\n",
    "                            <img src=Figures/pulso_estacionario.gif width=100%>\n",
    "                            Fuente estacionaria $V=0$\n",
    "                        </center>\n",
    "                        \n",
    "                    </td>\n",
    "                </tr>\n",
    "           </table>\n",
    "        </div>\n",
    "    </div>\n",
    "</div>"
   ]
  },
  {
   "cell_type": "markdown",
   "id": "fd5e54af-5f5c-44fb-b641-1c73d4fa5878",
   "metadata": {
    "slideshow": {
     "slide_type": "skip"
    },
    "tags": []
   },
   "source": [
    "#### Subsónico"
   ]
  },
  {
   "cell_type": "raw",
   "id": "08187a5b-f6c3-4aa4-bb68-0950cfaac2cd",
   "metadata": {
    "slideshow": {
     "slide_type": "subslide"
    },
    "tags": []
   },
   "source": [
    "<div class='diapo'>\n",
    "    <div class='base'>\n",
    "        <div class='base body'>\n",
    "            <p>\n",
    "            Ahora, <b>movamos la fuente</b>, con velocidad $0 < V < c$.\n",
    "            </p>\n",
    "            <ul style='text-align:justify'>\n",
    "                <li>\n",
    "                    Los pulsos constituyen un grupo de esferas <b>no concentricas</b> en expansión.\n",
    "                </li>\n",
    "                <li>\n",
    "                    Un observador hacia el cual se mueve el punto de origen escuchará los pulsos con mayor frecuencia que un observador del cual se aleja el punto de origen (efecto Doppler)\n",
    "                </li>\n",
    "                <li>\n",
    "                    Un observador hacia el cual se mueve el punto de origen escuchará la fuente antes que la fuente lo alcance.\n",
    "                </li>\n",
    "            </ul>\n",
    "            <center>\n",
    "                <img src='Figures/pulso_subsonico.gif' width=80%>           \n",
    "            </center>\n",
    "        \n",
    "        </div>\n",
    "    </div>\n",
    "</div>"
   ]
  },
  {
   "cell_type": "markdown",
   "id": "2e15ceab-7840-437b-b5ba-138d2be9c3f7",
   "metadata": {
    "slideshow": {
     "slide_type": "skip"
    },
    "tags": []
   },
   "source": [
    "#### sónico"
   ]
  },
  {
   "cell_type": "raw",
   "id": "7da32b46-c216-49f9-a27c-d4c6e098d31e",
   "metadata": {
    "slideshow": {
     "slide_type": "subslide"
    },
    "tags": []
   },
   "source": [
    "<div class='diapo'>\n",
    "    <div class='base'>\n",
    "        <div class='base body'>\n",
    "            <p>\n",
    "            Esta vez, <b>moveremos la fuente con velocidad del sonido</b> $V = c$.\n",
    "            </p>\n",
    "            <ul style='text-align:justify'>\n",
    "                <li>\n",
    "                   Los pulsos constituyen un grupo de esferas no concentricas en expansión, tangentes entre ellas a la derecha.\n",
    "                </li>\n",
    "                <li>\n",
    "                    El punto de origen y los pulsos se mueven juntos hacia la derecha\n",
    "                </li>\n",
    "                <li>\n",
    "                   Un observador hacia el cual se mueve el punto de origen no escuchará los pulsos hasta que la fuente lo alcance\n",
    "                </li>\n",
    "                <li>\n",
    "                    En teoría, a lo largo del tiempo un número ilimitado de pulsos se acumularán al frente de la fuente, produciendo una onda de sonido de amplitud ilimitada.\n",
    "                </li>\n",
    "            </ul>\n",
    "            <center>\n",
    "                <img src='Figures/pulso_sonico.gif' width=80%>           \n",
    "            </center>\n",
    "        \n",
    "        </div>\n",
    "    </div>\n",
    "</div>"
   ]
  },
  {
   "cell_type": "markdown",
   "id": "cc7923f2-5bdd-4df6-a376-5775db407b91",
   "metadata": {
    "slideshow": {
     "slide_type": "skip"
    },
    "tags": []
   },
   "source": [
    "#### supersónico"
   ]
  },
  {
   "cell_type": "raw",
   "id": "0a4d8ef7-204e-4a8d-9937-0f4678d1fec8",
   "metadata": {
    "slideshow": {
     "slide_type": "subslide"
    },
    "tags": []
   },
   "source": [
    "<div class='diapo'>\n",
    "    <div class='base'>\n",
    "        <div class='base body'>\n",
    "            <p>\n",
    "                movamos ahora la fuente con <b>velocidad mayor a la del sonido</b> $V > c$.\n",
    "            </p>\n",
    "            <ul style='text-align:justify'>\n",
    "                <li>\n",
    "                   El punto de origen se mueve más rápido que la expansión de los pulsos que genera.\n",
    "                </li>\n",
    "                <li>\n",
    "                    Los pulsos constituyen un grupo de esferas no concentricas en expansión, las cuales forman el <b>cono de Mach</b>.\n",
    "                </li>\n",
    "                    <ul>\n",
    "                        <li>\n",
    "                            La zona dentro del cono se denomina como zona de acción\n",
    "                        </li>\n",
    "                        <li>\n",
    "                            La zona fuera del cono se denomina como zona de silencio\n",
    "                        </li>\n",
    "                        <!---\n",
    "                        <li>\n",
    "                            El ángulo $\\alpha$ puede estimarse a partir de la siguiente expresión:\n",
    "                            $$\\alpha=\\sin^{-1}{\\left(\\frac{1}{\\operatorname{Ma}}\\right)}$$\n",
    "                        </li>\n",
    "                        -->\n",
    "                    </ul>\n",
    "            </ul>\n",
    "            <center>\n",
    "                <img src='Figures/pulso_supersonico.gif' width=80%>           \n",
    "            </center>\n",
    "        \n",
    "        </div>\n",
    "    </div>\n",
    "</div>"
   ]
  },
  {
   "cell_type": "markdown",
   "id": "0322a794-a09c-44c9-ad8a-9019579546aa",
   "metadata": {
    "slideshow": {
     "slide_type": "skip"
    },
    "tags": []
   },
   "source": [
    "# Flujo isentrópico"
   ]
  },
  {
   "cell_type": "raw",
   "id": "7f8f2a47-151c-4132-ac3a-85ed3c74395c",
   "metadata": {
    "slideshow": {
     "slide_type": "slide"
    },
    "tags": []
   },
   "source": [
    "<div class='diapo'>\n",
    "    <div class='titulo'>\n",
    "        Flujo isentrópico\n",
    "    </div>\n",
    "</div>"
   ]
  },
  {
   "cell_type": "markdown",
   "id": "e1273170-8916-48e7-8775-0e2c934a0385",
   "metadata": {
    "slideshow": {
     "slide_type": "skip"
    },
    "tags": []
   },
   "source": [
    "## Propiedades de estancamiento"
   ]
  },
  {
   "cell_type": "raw",
   "id": "38eddcf1-8911-4bb0-b8af-a01e105870c5",
   "metadata": {
    "slideshow": {
     "slide_type": "subslide"
    },
    "tags": []
   },
   "source": [
    "<div class='diapo'>\n",
    "    <div class='base'>\n",
    "        <div class='base header'>\n",
    "            Propiedades de estancamiento\n",
    "        </div>\n",
    "        <div class='base body'>\n",
    "            <center>\n",
    "                <div class=comment_box style='font-size:25px'>\n",
    "                    Las propiedades de estancamiento $(p_0,T_0,\\rho_0,\\tilde{U}_0,\\tilde{H}_0, \\tilde{S}_0)$ corresponden a las propiedades de un fluido en un punto específico si la <b>velocidad en este punto es llevada a la condición de estancamiento ($V=0$)</b> <span style='color:red'><b>mediante un proceso isentrópico virtual</b><span>.  \n",
    "                </div>\n",
    "            </center>\n",
    "            <br>\n",
    "            <table style='width:100%; font-size:25px'>\n",
    "                <tr>\n",
    "                    <td>\n",
    "                        <ul>\n",
    "                            <li>\n",
    "                                <b>Son propiedades locales:</b> dos puntos pertenecientes a un campo de flujo pueden poseer distintas propiedades de estancamiento.\n",
    "                            </li>\n",
    "                            <li>\n",
    "                                <b>Pueden ser definidas para cualquier flujo</b>, independientemente si el flujo es isentrópico o no.\n",
    "                            </li>\n",
    "                        </ul>\n",
    "                    </td>\n",
    "                    <td>\n",
    "                        <div class='equation_box'>\n",
    "                            <b>Entalpía de estancamiento</b>\n",
    "                            $$\\tilde{H}_0 = \\tilde{H} + \\frac{V^2}{2}$$\n",
    "                        </div>\n",
    "                    </td>\n",
    "                </tr>\n",
    "            </table>\n",
    "        </div>\n",
    "    </div>\n",
    "</div>"
   ]
  },
  {
   "cell_type": "raw",
   "id": "4c518724-a244-42ef-b454-5b484b0a3b94",
   "metadata": {
    "slideshow": {
     "slide_type": "subslide"
    },
    "tags": []
   },
   "source": [
    "<div class='diapo'>\n",
    "    <div class='base'>\n",
    "        <div class='base header'>\n",
    "       \n",
    "        </div>\n",
    "        <div class='base body'>\n",
    "            <center>\n",
    "                <img src=Figures/estancamiento.png width=80% style='margin-top:-50px'>\n",
    "            </center>        \n",
    "            <center>\n",
    "                <div class='equation_box' style='margin-top:-20px;width:100%'>\n",
    "                    <table style='font-size:25px;width:100%'>\n",
    "                        <tr>\n",
    "                            <td style='width:20%'>\n",
    "                                <b> Propiedades de estancamiento para gases ideales </b>\n",
    "                            </td>\n",
    "                            <td style='font-size:22px'>\n",
    "                                $$\\frac{p_0}{p}=\\left(1+\\frac{k-1}{2}\\operatorname{Ma}^2\\right)^{k/(k-1)}$$\n",
    "\n",
    "                                $$\\frac{T_0}{T}=1+\\frac{k-1}{2}\\operatorname{Ma}^2$$\n",
    "\n",
    "                                $$\\frac{\\rho_0}{\\rho}=\\left(1+\\frac{k-1}{2}\\operatorname{Ma}^2\\right)^{1/(k-1)}$$\n",
    "                                                            <td>\n",
    "                            $$k=\\frac{c_p}{c_v}$$\n",
    "                            $$k_\\text{aire}=1.4$$\n",
    "                            </td>\n",
    "                            </tr>\n",
    "\n",
    "                        </tr>\n",
    "                    </table>\n",
    "                </div>\n",
    "            </center>\n",
    "                    \n",
    "        </div>\n",
    "    </div>\n",
    "</div>"
   ]
  },
  {
   "cell_type": "markdown",
   "id": "81cd66a3-0976-4147-9fc1-d450aa4a88d7",
   "metadata": {
    "slideshow": {
     "slide_type": "skip"
    },
    "tags": []
   },
   "source": [
    "##  Condición crítica"
   ]
  },
  {
   "cell_type": "raw",
   "id": "ea0f0d63-4596-4f0f-999b-8ff5521308ee",
   "metadata": {
    "slideshow": {
     "slide_type": "subslide"
    },
    "tags": []
   },
   "source": [
    "<div class='diapo'>\n",
    "    <div class='base'>\n",
    "        <div class='base header'>\n",
    "            Condición crítica\n",
    "        </div>\n",
    "        <div class='base body'>\n",
    "            <center>\n",
    "                <div class='comment_box'>\n",
    "                    <b>Se define la velocidad crítica $V^*$, como la velocidad obtenida mediante la aceleración o desaceleración del flujo de forma de alcanzar $\\operatorname{Ma}=1$.</b> De esta forma:\n",
    "                \n",
    "                    $$ V^*=c^* $$\n",
    "                </div>\n",
    "                <br>\n",
    "            <center>\n",
    "                <div class='equation_box' style='width:70%;margin-top:10px'>\n",
    "                    <table style='font-size:25px;width:100%'>\n",
    "                        <tr>\n",
    "                            <td style='width:40%'>\n",
    "                                <b> Propiedades de críticas para gases ideales </b>\n",
    "                            </td>\n",
    "                            <td style='font-size:22px'>\n",
    "                                $$ \\frac{p_0}{p^*}=\\left(\\frac{k+1}{2}\\right)^{k/(k-1)}$$\n",
    "                                $$ \\frac{T_0}{T^*}=\\frac{k+1}{2}$$\n",
    "                                $$ \\frac{\\rho_0}{\\rho^*}=\\left(\\frac{k+1}{2}\\right)^{1/(k-1)}$$\n",
    "                                $$V^*=c^*=\\sqrt{kRT^*}= \\sqrt{\\frac{2k}{k+1}RT_0}$$\n",
    "                            </tr>\n",
    "                        </tr>\n",
    "                    </table>\n",
    "                </div>\n",
    "            </center>\n",
    "                \n",
    "        </div>\n",
    "    </div>\n",
    "</div>"
   ]
  },
  {
   "cell_type": "raw",
   "id": "d6a71246-f651-4d5c-b88e-8d7f9c18b551",
   "metadata": {
    "slideshow": {
     "slide_type": "subslide"
    },
    "tags": []
   },
   "source": [
    "<div class='diapo'>\n",
    "    <div class='base'>\n",
    "        <div class='alternativa_header'>\n",
    "        \n",
    "        </div>\n",
    "        <div class='alternativa_body'>\n",
    "            <center>\n",
    "                <img src=Figures/isentropico.png width=80%>\n",
    "            </center>\n",
    "        </div>\n",
    "    </div>\n",
    "</div>"
   ]
  },
  {
   "cell_type": "markdown",
   "id": "5505694d-98b2-4e92-970e-8be9570dc46e",
   "metadata": {
    "slideshow": {
     "slide_type": "skip"
    },
    "tags": []
   },
   "source": [
    "## Flujo isentrópico con cambio de área transversal"
   ]
  },
  {
   "cell_type": "raw",
   "id": "4c9be501-20bb-4a73-b5af-38267896cf4f",
   "metadata": {
    "slideshow": {
     "slide_type": "subslide"
    },
    "tags": []
   },
   "source": [
    "<div class='diapo'>\n",
    "    <div class='base'>\n",
    "        <div class='base header'>\n",
    "            Flujo isentrópico con cambio de área transversal\n",
    "        </div>\n",
    "        <div class='base body'>\n",
    "            <div class='equation_box'>\n",
    "                <b>Ecuación básica para flujo isentrópico en conductos con cambio de área transversal</b> (suponiendo flujo 1D)\n",
    "                $$\\frac{d V}{V}=\\frac{d A}{A} \\frac{1}{M a^2-1}=-\\frac{d p}{\\rho V^2}$$\n",
    "            </div>\n",
    "            <br>\n",
    "            <table style='width:100%;font-size:25px'>\n",
    "                <tr>\n",
    "                    <td style='width:25%'>\n",
    "                        <b>Flujo en toberas convergentes</b>\n",
    "                        $$dA<0$$\n",
    "                    </td>\n",
    "                    <td style='width:35%'>\n",
    "                        <center>\n",
    "                        <img src=Figures/ducto_convergente.png width=100%>\n",
    "                        </center>\n",
    "                    </td>\n",
    "                    <td>\n",
    "                        <b> Flujo subsónico </b>\n",
    "                        \\begin{align*}\n",
    "                        & dV>0\\\\\n",
    "                        & dp<0\n",
    "                        \\end{align*}\n",
    "                        <b> Flujo supersónico ($Ma>1$)</b>\n",
    "                        \\begin{align*}\n",
    "                        & dV<0\\\\\n",
    "                        & dp>0\n",
    "                        \\end{align*}\n",
    "                    </td>\n",
    "                </tr>\n",
    "            </table>\n",
    "        </div>\n",
    "    </div>\n",
    "</div>"
   ]
  },
  {
   "cell_type": "raw",
   "id": "5c04b307-5307-4521-8bf7-0df1c2d907d2",
   "metadata": {
    "slideshow": {
     "slide_type": "subslide"
    },
    "tags": []
   },
   "source": [
    "<div class='diapo'>\n",
    "    <div class='base'>\n",
    "        <div class='base header'>\n",
    "            Flujo isentrópico con cambio de área transversal\n",
    "        </div>\n",
    "        <div class='base body'>\n",
    "            <div class='equation_box'>\n",
    "                <b>Ecuación básica para flujo isentrópico en conductos con cambio de área transversal</b> (suponiendo flujo 1D)\n",
    "                $$\\frac{d V}{V}=\\frac{d A}{A} \\frac{1}{M a^2-1}=-\\frac{d p}{\\rho V^2}$$\n",
    "            </div>\n",
    "            <br>\n",
    "            <table style='width:100%;font-size:25px'>\n",
    "                <tr>\n",
    "                    <td style='width:25%'>\n",
    "                        <b>Flujo en toberas divergentes</b>\n",
    "                        $$dA>0$$\n",
    "                    </td>\n",
    "                    <td style='width:35%'>\n",
    "                        <center>\n",
    "                        <img src=Figures/ducto_divergente.png width=100%>\n",
    "                        </center>\n",
    "                    </td>\n",
    "                    <td>\n",
    "                        <b> Flujo subsónico </b>\n",
    "                        \\begin{align*}\n",
    "                        & dV<0\\\\\n",
    "                        & dp>0\n",
    "                        \\end{align*}\n",
    "                        <b> Flujo supersónico ($Ma>1$)</b>\n",
    "                        \\begin{align*}\n",
    "                        & dV>0\\\\\n",
    "                        & dp<0\n",
    "                        \\end{align*}\n",
    "                    </td>\n",
    "                </tr>\n",
    "            </table>\n",
    "        </div>\n",
    "    </div>\n",
    "</div>"
   ]
  },
  {
   "cell_type": "raw",
   "id": "5302841c-c5f5-462e-99a7-02438a5288ec",
   "metadata": {
    "slideshow": {
     "slide_type": "subslide"
    },
    "tags": []
   },
   "source": [
    "<div class='diapo'>\n",
    "    <div class='base'>\n",
    "        <div class='base header'>\n",
    "        </div>\n",
    "        <div class='base body'>\n",
    "            <table style='width:100%;font-size:25px'>\n",
    "                <tr>\n",
    "                    <th style='width:50%;border:0px'>\n",
    "                        <center>Toberas divergentes-convergentes</center>\n",
    "                    </td>\n",
    "                    <th style='width:50%;border:0px'>\n",
    "                        <center>Toberas convergentes-divergentes</center>\n",
    "                    </td>\n",
    "                </tr>\n",
    "                <tr>\n",
    "                    <td style='width:50%;border:0px'>\n",
    "                        <center>\n",
    "                            <img src='Figures/div_conv.png' width=100%>\n",
    "                        </center>                   \n",
    "                    </td>\n",
    "                    <td style='width:50%;border:0px'>\n",
    "                        <center>\n",
    "                            <img src='Figures/conv_div.png' width=100%>\n",
    "                        </center>                   \n",
    "                    </td>\n",
    "                </tr>\n",
    "                <tr style='vertical-align:top'>\n",
    "                    <td style='width:50%;border:0px'>\n",
    "                        <ul>\n",
    "                            <li>\n",
    "                                No se logra transición de regimen de flujo\n",
    "                            </li>                       \n",
    "                        </ul>\n",
    "                    </td>\n",
    "                    <td style='width:50%;border:0px'>\n",
    "                        <ul>\n",
    "                            <li>\n",
    "                                Se logra transición de regimen de flujo en el punto de menor área (garganta)\n",
    "                            </li>                       \n",
    "                        </ul>\n",
    "                    \n",
    "                    </td>\n",
    "                </tr>\n",
    "            </table>\n",
    "        </div>\n",
    "    </div>\n",
    "</div>"
   ]
  },
  {
   "cell_type": "markdown",
   "id": "8c2a55d2-cfb6-4e4e-a490-6c0263d3f05d",
   "metadata": {
    "slideshow": {
     "slide_type": "skip"
    },
    "tags": []
   },
   "source": [
    "## Flujo isentrópico en toberas convergentes"
   ]
  },
  {
   "cell_type": "raw",
   "id": "cd31abf3-4369-42ab-b6fa-1d07f57ceba3",
   "metadata": {
    "slideshow": {
     "slide_type": "subslide"
    },
    "tags": []
   },
   "source": [
    "<div class='diapo'>\n",
    "    <div class='base'>\n",
    "        <div class='base header'>\n",
    "            Flujo isentrópico en toberas convergentes\n",
    "        </div>\n",
    "        <div class='base body'>\n",
    "            <p style='text-algin:justify'>\n",
    "                Consideremos el flujo de un fluido compresible a través de una tobera que separa dos reservorios\n",
    "            </p>\n",
    "            <table style='width:100%;font-size:25px'>\n",
    "                <tr>\n",
    "                    <td style='width:50%'>\n",
    "                        <center>\n",
    "                            <img src='Figures/tobera_conv.png' width=100%>\n",
    "                        </center>\n",
    "                        <ul>\n",
    "                            <li>\n",
    "                                $p_e$: presión en la garganta (exit plane pressure) \n",
    "                            </li>\n",
    "                            <li>\n",
    "                                $p_b$: presión en el reservorio de la derecha (back pressure)\n",
    "                            </li>\n",
    "                        </ul>\n",
    "                    </td>\n",
    "                    <td>\n",
    "                        <ul style='text-align:justify'>\n",
    "                            <li>\n",
    "                                Se utiliza una válvula en el reservorio de la derecha para controlar la presión en esta sección\n",
    "                            </li>\n",
    "                            <li>\n",
    "                                Posterior a la válvula existe una bomba de vacio, utilizada para mantener una pesión baja en el reservorio de la derecha\n",
    "                            </li>\n",
    "                            <li>\n",
    "                                Podemos considerar que la velocidad en el reservorio de la izquierda es aproximadamente cero\n",
    "                            </li>\n",
    "                        </ul>\n",
    "                    </td>\n",
    "                </tr>\n",
    "            </table>\n",
    "        \n",
    "        </div>\n",
    "    </div>\n",
    "</div>"
   ]
  },
  {
   "cell_type": "raw",
   "id": "bcc5700e-bf64-4155-8094-c162e1821f59",
   "metadata": {
    "slideshow": {
     "slide_type": "subslide"
    },
    "tags": []
   },
   "source": [
    "<div class='diapo'>\n",
    "    <div class='base'>\n",
    "        <div class='base header'>\n",
    "            Flujo isentrópico en toberas convergentes\n",
    "        </div>\n",
    "        <div class='base body'>\n",
    "            <table style='width:100%;font-size:25px'>\n",
    "                <tr>\n",
    "                    <td style='width:50%'>\n",
    "                        <center>\n",
    "                            <img src='Figures/tobera_conv.png' width=100%>\n",
    "                        </center>\n",
    "                    </td>\n",
    "                    <td>\n",
    "                        <ul style='text-align:justify;margin-left:-35px'>\n",
    "                            <li>\n",
    "                               Cuando la válvula está cerrada, no existe flujo por lo que $p_0=p_e=p_b$\n",
    "                            </li>\n",
    "                            <li>\n",
    "                                Si abrimos la válvula ligeramente, el fluido comenzará a fluir debido a la diferencia de presión $p_0-p_b$. \n",
    "                                <ul style='text-align:justify;margin-left:-15px'>\n",
    "                                    <li> $p_b$ estará determinado por el grado de apertura de la válvula\n",
    "                                    </li>\n",
    "                                    <li>\n",
    "                                        La velocidad de flujo estará determinada por la diferencia de presión $p_b-p_0$ (hasta un punto crítico)\n",
    "                                    </li>\n",
    "                                </li>\n",
    "                                </ul>\n",
    "                            </li>\n",
    "                            <li>\n",
    "                                Si la válvula se abre poco, $\\operatorname{Ma}<0.3$ y el flujo se aproxima a uno incompresible\n",
    "                            </li>\n",
    "                            <li>\n",
    "                                Si $\\operatorname{Ma}>0.3$, el flujo se debe tratar como compresible\n",
    "                            </li>\n",
    "                            <li>\n",
    "                                El número de Mach máximo alcanzable es $\\operatorname{Ma}=1$\n",
    "                            </li>\n",
    "                        </ul>\n",
    "                    </td>\n",
    "                </tr>\n",
    "            </table>\n",
    "        </div>\n",
    "    </div>\n",
    "</div>"
   ]
  },
  {
   "cell_type": "raw",
   "id": "4dd1d376-8785-4bea-858a-ac457dca8708",
   "metadata": {
    "slideshow": {
     "slide_type": "subslide"
    },
    "tags": []
   },
   "source": [
    "<div class='diapo'>\n",
    "    <div class='base'>\n",
    "        <div class='base header'>\n",
    "        </div>\n",
    "        <div class='base body'>\n",
    "            <table style='width:100%;font-size:25px'>\n",
    "                <tr>\n",
    "                    <td style='width:50%;border:0px' colspan=3>\n",
    "                        <center>\n",
    "                            Variación de la presión a lo largo de la tobera\n",
    "                            <br>\n",
    "                            <img src='Figures/conv.png' width=70%>\n",
    "                        </center>\n",
    "                    </td>\n",
    "                </tr>\n",
    "                <tr style='vertical-align:top'>\n",
    "                    <td style='width:50%'>\n",
    "                        <center>\n",
    "                            Flujo másico <br>\n",
    "                            <img src=Figures/masico.png width=66%>\n",
    "                        </center>\n",
    "                    </td>\n",
    "                    <td style='width:50%'>\n",
    "                        <center>\n",
    "                            Presión en el plano de salida<br>\n",
    "                            <img src=Figures/presiones.png width=74%>\n",
    "                        </center>\n",
    "                    </td>\n",
    "                </tr>\n",
    "            </table>\n",
    "            <br>\n",
    "        </div>\n",
    "    </div>\n",
    "</div>"
   ]
  },
  {
   "cell_type": "markdown",
   "id": "05bdeb2c-69a3-4af6-974c-d45aa985cd20",
   "metadata": {
    "slideshow": {
     "slide_type": "skip"
    },
    "tags": []
   },
   "source": [
    "## Flujo isentrópico en toberas convergentes-divergentes"
   ]
  },
  {
   "cell_type": "raw",
   "id": "1867669f-612e-4bfc-96ca-ab3eed415905",
   "metadata": {
    "slideshow": {
     "slide_type": "subslide"
    },
    "tags": []
   },
   "source": [
    "<div class='diapo'>\n",
    "    <div class='base'>\n",
    "        <div class='base header'>\n",
    "            Flujo isentrópico en toberas convergente-divergentes\n",
    "        </div>\n",
    "        <div class='base body'>\n",
    "            <table style='width:100%;font-size:25px'>\n",
    "                <tr>\n",
    "                    <td style='width:50%'>\n",
    "                        <center>\n",
    "                            <img src='Figures/tobera_conv.png' width=100%>\n",
    "                        </center>\n",
    "                    </td>\n",
    "                    <td>\n",
    "                        <b>A medida que abrimos la válvula:</b>\n",
    "                        <ul style='text-align:justify;margin-left:-35px'>\n",
    "                            <li>\n",
    "                               Inicialmente no hay flujo $p_0=p_e=p_b$\n",
    "                            </li>\n",
    "                            <li>\n",
    "                                Observaremos un primer régimen de flujo incompresible ($\\operatorname{Ma}$)\n",
    "                            </li>\n",
    "                            <li>\n",
    "                                Existirá un segundo régimen de flujo subsónico ($0.3<\\operatorname{Ma}<1$)\n",
    "                            </li>\n",
    "                            <li>\n",
    "                                Se Logra el punto crítico ($\\operatorname{Ma}=1$)\n",
    "                            </li>\n",
    "                            <li>\n",
    "                                Se genera flujo supersónico en la zona divergente de la tobera.                                      \n",
    "                            </li>\n",
    "                        </ul>\n",
    "                    </td>\n",
    "                </tr>\n",
    "            </table>\n",
    "            <br>\n",
    "            <center>\n",
    "                <div class='equation_box'>\n",
    "                    $$\\dot{m}_{\\max }=0.6847 A^* \\rho_0\\left(R T_0\\right)^{1 / 2}=\\frac{0.6847 p_0 A^*}{\\left(R T_0\\right)^{1 / 2}}$$\n",
    "                </div>\n",
    "            </center>\n",
    "        </div>\n",
    "    </div>\n",
    "</div>"
   ]
  },
  {
   "cell_type": "raw",
   "id": "8b5c9b3b-e1a8-4e25-9a3a-c9a4597e9782",
   "metadata": {
    "slideshow": {
     "slide_type": "subslide"
    },
    "tags": []
   },
   "source": [
    "<div class='diapo'>\n",
    "    <div class='base'>\n",
    "        <div class='base header'>\n",
    "        \n",
    "        </div>\n",
    "        <div class='base body'>\n",
    "            <center>\n",
    "                Variación de la presión a lo largo de la tobera\n",
    "                <img src=Figures/convdiv.png width=90%>\n",
    "            </center>\n",
    "        </div>\n",
    "    </div>\n",
    "</div>"
   ]
  },
  {
   "cell_type": "markdown",
   "id": "378c066a-50e6-495c-86bd-deb6adbb728d",
   "metadata": {
    "slideshow": {
     "slide_type": "skip"
    },
    "tags": []
   },
   "source": [
    "# Flujo anisentrópico"
   ]
  },
  {
   "cell_type": "raw",
   "id": "94356781-d6ad-40df-a6da-e641471683ee",
   "metadata": {
    "slideshow": {
     "slide_type": "slide"
    },
    "tags": []
   },
   "source": [
    "<div class='diapo'>\n",
    "    <div class='titulo'>\n",
    "        Flujo anisentrópico\n",
    "    </div>\n",
    "</div>"
   ]
  },
  {
   "cell_type": "markdown",
   "id": "a71d8dce-f10a-478e-85e5-37846d8355f7",
   "metadata": {
    "slideshow": {
     "slide_type": "skip"
    },
    "tags": []
   },
   "source": [
    "## Ondas de choque"
   ]
  },
  {
   "cell_type": "raw",
   "id": "afb04165-04fa-41fe-9117-cb28b62cdb0b",
   "metadata": {
    "slideshow": {
     "slide_type": "subslide"
    },
    "tags": []
   },
   "source": [
    "<div class='diapo'>\n",
    "    <div class='base'>\n",
    "        <div class='base header'>\n",
    "            Ondas de choque\n",
    "        </div>\n",
    "        <div class='base body'>\n",
    "            <table style=font-size:25px;width:100%'>\n",
    "                <tr>\n",
    "                    <td style='width:50%'>\n",
    "                        <center>\n",
    "                            <img src=Figures/shockwave.gif width=1000%>\n",
    "                        </center>                       \n",
    "                    </td>\n",
    "                    <td>\n",
    "                                            <center>\n",
    "                            <img src=Figures/shockwave_plane.jpg width=90%>\n",
    "                        </center>\n",
    "                    </td>\n",
    "                </tr>\n",
    "            </table>\n",
    "                            \n",
    "            <div>\n",
    "            <p>\n",
    "                Las ondas de choque son discontinuidades irreversibles que pueden ocurrir en un flujo <b>supersónico</b>, ya sea interno o externo. \n",
    "                </p>\n",
    "                        <ul>\n",
    "                            <li> \n",
    "                                Pueden ser estacionarias o no-estacionarias (en movimiento).\n",
    "                            </li>\n",
    "                            <li>\n",
    "                                Poseen un grosor del orden de $0.2\\mu$m \n",
    "                            </li>\n",
    "                            <li>\n",
    "                                A través de ellas, ocurren cambios importantes en las propiedades del flujo\n",
    "                            </li>\n",
    "                        </ul>\n",
    "            </div>\n",
    "        </div>\n",
    "    </div>\n",
    "</div>"
   ]
  },
  {
   "cell_type": "markdown",
   "id": "8f4c8869-dc1e-4921-930b-14ec168f58b9",
   "metadata": {
    "slideshow": {
     "slide_type": "skip"
    },
    "tags": []
   },
   "source": [
    "## Ecuaciones básicas para ondas de choque normales"
   ]
  },
  {
   "cell_type": "raw",
   "id": "62291bc0-ca46-4361-92b9-5946dbdc1456",
   "metadata": {
    "slideshow": {
     "slide_type": "subslide"
    },
    "tags": []
   },
   "source": [
    "<div class='diapo'>\n",
    "    <div class='base'>\n",
    "        <div class='base header'>\n",
    "            Ecuaciones básicas para ondas de choque normales\n",
    "        </div>\n",
    "        <div class='base body'>\n",
    "            <table style='font-size:25px;width:100%'>\n",
    "                <tr>\n",
    "                    <td style='width:50%'>\n",
    "                        <center>\n",
    "                            <img src=Figures/CV_shock.png width=100%>\n",
    "                        </center>\n",
    "                    </td>\n",
    "                    <td>\n",
    "                        \\begin{align*}\n",
    "& \\rho_1V_1=\\rho_2V_2=\\frac{\\dot{m}}{A}=\\text{constante} \\\\\n",
    "& p_1+\\rho_1V_1^2=p_2+\\rho_2V_2^2 \\\\\n",
    "& \\hat{H}_{0_1}=\\hat{H}_{0_2}=\\hat{H}_1+\\frac{V_1^2}{2}=\\hat{H}_2+\\frac{V_2^2}{2} \\\\\n",
    "& \\hat{S_2}>\\hat{S_1} \\\\\n",
    "& p=\\rho R T \\\\\n",
    "& \\hat{H}_2-\\hat{H}_1=c_p(T_2-T_1) \\\\\n",
    "&\\hat{S}_2-\\hat{S}_1=c_p\\ln{\\frac{T_2}{T_1}}-R\\ln{\\frac{p_2}{p_1}}\n",
    "\\end{align*}\n",
    "                    </td>\n",
    "                </tr>\n",
    "            </table>\n",
    "        </div>\n",
    "    </div>\n",
    "</div>"
   ]
  },
  {
   "cell_type": "raw",
   "id": "8a97b8c9-a7a8-4c75-a47c-fef8ee0ccd54",
   "metadata": {
    "slideshow": {
     "slide_type": "notes"
    },
    "tags": []
   },
   "source": [
    "Las ecuaciones básicas son derivadas a partir de:\n",
    "\n",
    "<ul>\n",
    "    <li>\n",
    "        Ecuación de continuidad\n",
    "    </li>\n",
    "    <li> \n",
    "        Ecuación de movimiento\n",
    "    </li>\n",
    "    <li>\n",
    "        Ecuación de la energía\n",
    "    </li>\n",
    "    <li>\n",
    "        Segunda ley de la termodinámica\n",
    "    </li>\n",
    "    <li> \n",
    "        Relaciones termodinámicas para gases ideales\n",
    "    </li>\n",
    "</ul>\n",
    "    "
   ]
  },
  {
   "cell_type": "markdown",
   "id": "b96c7cdc-3a08-4a08-bf78-80803b099487",
   "metadata": {
    "slideshow": {
     "slide_type": "skip"
    },
    "tags": []
   },
   "source": [
    "### Relaciones de número de Mach"
   ]
  },
  {
   "cell_type": "raw",
   "id": "d0010b37-2308-462c-b74b-27dd3d12e1b1",
   "metadata": {
    "slideshow": {
     "slide_type": "subslide"
    },
    "tags": []
   },
   "source": [
    "<div class='diapo'>\n",
    "    <div class='base'>\n",
    "        <div class='base header' style='font-size:35px'>\n",
    "            Efecto de una onda de choque sobre las propiedades del fluido\n",
    "        </div>\n",
    "        <div class='base body'>\n",
    "            <center>\n",
    "                <table style='font-size:25px;width:80%;text-align:center'>\n",
    "                    <tr>\n",
    "                        <th>\n",
    "                            Propiedad \n",
    "                        </th>\n",
    "                        <th>\n",
    "                            Efecto\n",
    "                        </th>\n",
    "                    </tr>\n",
    "                    <tr>\n",
    "                        <td>\n",
    "                            Temperatura de estancamiento $T_0$                   \n",
    "                        </td>\n",
    "                        <td style='background-color:rgba(0,0,0,0.1)'>\n",
    "                            $T_{0_1}=T_{0_2}=$ constante \n",
    "                        </td>\n",
    "                    </tr>\n",
    "                    <tr>\n",
    "                        <td>\n",
    "                            Entropía $\\hat{S}$ \n",
    "                        </td>\n",
    "                        <td style='background-color:rgba(0,0,255,0.1)'> \n",
    "                            $\\hat{S}_2 > \\hat{S}_1$ (aumenta)\n",
    "                        </td>\n",
    "                    </tr>\n",
    "                    <tr>\n",
    "                        <td>\n",
    "                            Presión de estancamiento $p_0$\n",
    "                        </td>\n",
    "                        <td style='background-color:rgba(255,0,0,0.1)'> \n",
    "                            $p_{0_1} < p_{0_2}$ (disminuye)\n",
    "                        </td>\n",
    "                    </tr>\n",
    "                    <tr>\n",
    "                        <td>\n",
    "                            Temperatura $T$ \n",
    "                        </td>\n",
    "                        <td style='background-color:rgba(0,0,255,0.1)'> \n",
    "                            $T_1 < T_2$ (aumenta)\n",
    "                        </td>\n",
    "                    </tr>\n",
    "                    <tr>\n",
    "                        <td>\n",
    "                            Velocidad $V$ \n",
    "                        </td>\n",
    "                        <td style='background-color:rgba(255,0,0,0.1)'> \n",
    "                            $V_1 > V_2$ (disminuye)\n",
    "                        </td>\n",
    "                    </tr>\n",
    "                    <tr>\n",
    "                        <td>\n",
    "                            Densidad $\\rho$ \n",
    "                        </td>\n",
    "                        <td style='background-color:rgba(0,0,255,0.1)'> \n",
    "                            $\\rho_1 < \\rho_2$ (aumenta)\n",
    "                        </td>\n",
    "                    </tr>\n",
    "                    <tr>\n",
    "                        <td>\n",
    "                            Presión $p$ \n",
    "                        </td>\n",
    "                        <td style='background-color:rgba(0,0,255,0.1)'>  \n",
    "                            $p_1 < p_2$ (aumenta)\n",
    "                        </td>\n",
    "                    </tr>\n",
    "                    <tr>\n",
    "                        <td>\n",
    "                            Número de Mach $\\operatorname{Ma}$ \n",
    "                        </td>\n",
    "                        <td style='background-color:rgba(255,0,0,0.1)'> \n",
    "                            $\\operatorname{Ma}_1>\\operatorname{Ma}_2$ (disminuye)\n",
    "                        </td>\n",
    "                    </tr>\n",
    "                </table>\n",
    "            </center>\n",
    "        </div>\n",
    "    </div>\n",
    "</div>"
   ]
  },
  {
   "cell_type": "raw",
   "id": "b6d2d387-29c5-4a23-8af9-fa250dacaa4c",
   "metadata": {
    "slideshow": {
     "slide_type": "subslide"
    },
    "tags": []
   },
   "source": [
    "<div class='diapo'>\n",
    "    <div class='base'>\n",
    "        <div class='base header'>\n",
    "            Relaciones de número de Mach\n",
    "        </div>\n",
    "        <div class='base body'>\n",
    "            \\begin{align*}\n",
    "                & \\operatorname{Ma}_2^2=\\frac{(k-1)\\operatorname{Ma}_1^2+2}{2k\\operatorname{Ma}_1^2-(k-1)} \\\\\n",
    "                & \\frac{p_2}{p_1}=\\frac{1}{k+1}\\left[2k\\operatorname{Ma}_1^2-(k-1)\\right]  \\\\\n",
    "                & \\frac{\\rho_2}{\\rho_1}=\\frac{V_1}{V_2} = \\frac{(k+1)\\operatorname{Ma}_1^2}{(k-1)\\operatorname{Ma}_1^2+2} \\\\\n",
    "                & \\frac{T_2}{T_1}=\\left[2+(k-1)\\operatorname{Ma}_1^2\\right]\\frac{2k\\operatorname{Ma}_1^2-(k-1)}{(k+1)^2\\operatorname{Ma}_1^2} \\\\\n",
    "                & \\frac{p_{0_2}}{p_{0_1}}=\\frac{\\rho_{0_2}}{\\rho_{0_1}}=\\left[\\frac{(k+1)\\operatorname{Ma}_1^2}{2+(k-1)\\operatorname{Ma}_1^2}\\right]^{k/(k-1)}\\left[\\frac{k+1}{2k\\operatorname{Ma}_1^2-(k-1)}\\right]^{1/(k-1)}\\\\\n",
    "                & \\frac{A_2^*}{A_1^*}=\\frac{\\operatorname{Ma}_2}{\\operatorname{Ma}_1}\\left[\\frac{2+(k-1)\\operatorname{Ma}_1^2}{2+(k-1)\\operatorname{Ma}_2^2}\\right]^{(1/2)(k+1)/(k-1)}\n",
    "                \\end{align*}\n",
    "        </div>\n",
    "    </div>\n",
    "</div>"
   ]
  },
  {
   "cell_type": "raw",
   "id": "4e671cfd-9c28-434f-8251-d164198a82f8",
   "metadata": {
    "slideshow": {
     "slide_type": "subslide"
    },
    "tags": []
   },
   "source": [
    "<div class='diapo'>\n",
    "    <div class='base'>\n",
    "        <div class='base header'>\n",
    "            Relaciones de número de Mach\n",
    "        </div>\n",
    "        <div class='alternativa_body'>\n",
    "            <center>\n",
    "                <img src='Figures/shock.png' width=75%>\n",
    "            </center>\n",
    "        </div>\n",
    "    </div>\n",
    "</div>"
   ]
  },
  {
   "cell_type": "markdown",
   "id": "d34096f5-2300-40e7-b7af-2bc6f8cec2a0",
   "metadata": {
    "slideshow": {
     "slide_type": "skip"
    },
    "tags": []
   },
   "source": [
    "## Flujo con onda de choque normal en toberas convergente-divergentes"
   ]
  },
  {
   "cell_type": "raw",
   "id": "e747ede6-5def-4eb4-967b-d696a906346b",
   "metadata": {
    "slideshow": {
     "slide_type": "subslide"
    },
    "tags": []
   },
   "source": [
    "<div class='diapo'>\n",
    "    <div class='base'>\n",
    "        <div class='base header'>\n",
    "            Flujo con onda de choque normal en toberas convergente-divergentes\n",
    "        </div>\n",
    "        <div class='base body'>\n",
    "            <br>\n",
    "            <center>\n",
    "                <img src=Figures/tobera_condiv.png width=100%>\n",
    "            </center>\n",
    "        </div>\n",
    "    </div>\n",
    "</div>"
   ]
  }
 ],
 "metadata": {
  "kernelspec": {
   "display_name": "Python 3 (ipykernel)",
   "language": "python",
   "name": "python3"
  },
  "language_info": {
   "codemirror_mode": {
    "name": "ipython",
    "version": 3
   },
   "file_extension": ".py",
   "mimetype": "text/x-python",
   "name": "python",
   "nbconvert_exporter": "python",
   "pygments_lexer": "ipython3",
   "version": "3.9.13"
  },
  "widgets": {
   "application/vnd.jupyter.widget-state+json": {
    "state": {},
    "version_major": 2,
    "version_minor": 0
   }
  }
 },
 "nbformat": 4,
 "nbformat_minor": 5
}
