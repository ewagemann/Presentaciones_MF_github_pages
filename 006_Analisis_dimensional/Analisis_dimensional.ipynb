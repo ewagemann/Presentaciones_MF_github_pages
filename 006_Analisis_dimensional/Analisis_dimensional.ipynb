{
 "cells": [
  {
   "cell_type": "code",
   "execution_count": 1,
   "id": "b1393603-fbad-49e7-8643-968e82529a8b",
   "metadata": {
    "jupyter": {
     "source_hidden": true
    },
    "slideshow": {
     "slide_type": "skip"
    },
    "tags": []
   },
   "outputs": [
    {
     "data": {
      "application/javascript": [
       "MathJax.Hub.Queue(\n",
       "  [\"resetEquationNumbers\", MathJax.InputJax.TeX],\n",
       "  [\"PreProcess\", MathJax.Hub],\n",
       "  [\"Reprocess\", MathJax.Hub]\n",
       ");\n",
       "\n",
       "MathJax.Hub.Config({\n",
       "    TeX: { equationNumbers: { autoNumber: \"AMS\" } }\n",
       "});\n"
      ],
      "text/plain": [
       "<IPython.core.display.Javascript object>"
      ]
     },
     "metadata": {},
     "output_type": "display_data"
    }
   ],
   "source": [
    "%%javascript\n",
    "MathJax.Hub.Queue(\n",
    "  [\"resetEquationNumbers\", MathJax.InputJax.TeX],\n",
    "  [\"PreProcess\", MathJax.Hub],\n",
    "  [\"Reprocess\", MathJax.Hub]\n",
    ");\n",
    "\n",
    "MathJax.Hub.Config({\n",
    "    TeX: { equationNumbers: { autoNumber: \"AMS\" } }\n",
    "});"
   ]
  },
  {
   "cell_type": "markdown",
   "id": "8e165fd6-4509-4edd-a9e9-0fe9a61fdae9",
   "metadata": {
    "slideshow": {
     "slide_type": "skip"
    },
    "tags": []
   },
   "source": [
    "# Templates"
   ]
  },
  {
   "cell_type": "markdown",
   "id": "075d9de2-91ea-418c-9be9-e82131f1682c",
   "metadata": {
    "slideshow": {
     "slide_type": "skip"
    },
    "tags": []
   },
   "source": [
    "## Diapo base"
   ]
  },
  {
   "cell_type": "raw",
   "id": "437b5722-d64c-4a4e-92d7-39c8838ba09d",
   "metadata": {
    "slideshow": {
     "slide_type": "skip"
    },
    "tags": []
   },
   "source": [
    "<div class='diapo'>\n",
    "    <div class='base'>\n",
    "        <div class='base header'>\n",
    "        \n",
    "        </div>\n",
    "        <div class='base body'>\n",
    "        \n",
    "        </div>\n",
    "    </div>\n",
    "</div>"
   ]
  },
  {
   "cell_type": "markdown",
   "id": "09480a02-08a1-4b80-8596-ca0796abef1a",
   "metadata": {
    "slideshow": {
     "slide_type": "skip"
    },
    "tags": []
   },
   "source": [
    "## Diapo alternativa"
   ]
  },
  {
   "cell_type": "raw",
   "id": "724ff8b8-a318-4a51-aa2a-f89038d4f2c6",
   "metadata": {
    "slideshow": {
     "slide_type": "skip"
    },
    "tags": []
   },
   "source": [
    "<div class='diapo'>\n",
    "    <div class='base'>\n",
    "        <div class='alternativa_header'>\n",
    "        \n",
    "        </div>\n",
    "        <div class='alternativa_body'>\n",
    "        \n",
    "        </div>\n",
    "    </div>\n",
    "</div>"
   ]
  },
  {
   "cell_type": "markdown",
   "id": "723a2ad9-c5e1-4dbc-8bcc-faaf409cd7ea",
   "metadata": {
    "slideshow": {
     "slide_type": "skip"
    },
    "tags": []
   },
   "source": [
    "## Diapo titulo"
   ]
  },
  {
   "cell_type": "raw",
   "id": "6609261b-b048-440f-a28e-352ca887e293",
   "metadata": {
    "slideshow": {
     "slide_type": "skip"
    },
    "tags": []
   },
   "source": [
    "<div class='diapo'>\n",
    "    <div class='titulo'>\n",
    "    </div>\n",
    "</div>"
   ]
  },
  {
   "cell_type": "markdown",
   "id": "61e1bf81-db3b-4081-bcf6-41e35279482a",
   "metadata": {
    "slideshow": {
     "slide_type": "skip"
    },
    "tags": []
   },
   "source": [
    "# Portada"
   ]
  },
  {
   "cell_type": "raw",
   "id": "047f4c46-ce94-416e-8a48-8a46253ead08",
   "metadata": {
    "slideshow": {
     "slide_type": "slide"
    },
    "tags": []
   },
   "source": [
    "<div class='diapo'>\n",
    "    <div class='base'>\n",
    "    <table class='portada' style='width:100%'>\n",
    "        <tr class='portadatr' style='vertical-align:center'>\n",
    "            <td class='portada1' style='width:25%; border: 0px solid black'>\n",
    "                <center>\n",
    "                    <img src=Figures/udec.jpg height=120px>\n",
    "                </center>\n",
    "            </td>\n",
    "            <td class='portada2' style='width:50%; border: 0px solid black'> \n",
    "                <center> \n",
    "                    <p class='portada institucion'>\n",
    "                        Universidad de Concepción <br>\n",
    "                        Facultad de Ingeniería <br>\n",
    "                        Departamento de Ingeniería Mecánica\n",
    "                    </p>\n",
    "                </center>\n",
    "            </td>\n",
    "            <td class='portada3' style='width:25%; border: 0px solid black'>\n",
    "                <center>\n",
    "                    <img src=Figures/DIM.png height=70px>\n",
    "                </center>\n",
    "            </td>    \n",
    "        </tr>\n",
    "    </table>\n",
    "        <div class='base body'>\n",
    "<center>\n",
    "\n",
    "    <p class='portada asignatura'> \n",
    "        <b>Mecánica de fluidos</b> \n",
    "    </p>\n",
    "    <p style=\"font-size:5px\">\n",
    "    <br>\n",
    "    </p>\n",
    "    <p class='portada capitulo'>\n",
    "        <b> 6- Análisis dimensional</b>\n",
    "    </p>\n",
    "</center>\n",
    "</div>\n",
    "</div>\n",
    "</div>"
   ]
  },
  {
   "cell_type": "markdown",
   "id": "d846f57c-64d8-4494-8ade-7e557b5a7ba3",
   "metadata": {
    "slideshow": {
     "slide_type": "skip"
    },
    "tags": []
   },
   "source": [
    "# Introducción"
   ]
  },
  {
   "cell_type": "raw",
   "id": "9f59d013-0cb5-4068-8a35-2016225c1f7c",
   "metadata": {
    "slideshow": {
     "slide_type": "slide"
    },
    "tags": []
   },
   "source": [
    "<div class='diapo'>\n",
    "    <div class='titulo'>\n",
    "        Introducción\n",
    "    </div>\n",
    "</div>"
   ]
  },
  {
   "cell_type": "raw",
   "id": "d82ddcdc-362e-41c5-8e5b-224071e5f4b0",
   "metadata": {
    "slideshow": {
     "slide_type": "subslide"
    },
    "tags": []
   },
   "source": [
    "<div class='diapo'>\n",
    "    <div class='alternativa'>\n",
    "        <div class='alternativa_body'>\n",
    "            En este capítulo exploraremos la técnica de <b>análisis dimensional</b>, la cual (a grosso modo) consiste en el uso de parámetros adimensionales para la descripción de procesos físicos. Esta técnica <b>permitirá analizar problemas que pudieran ser muy complejos para las técnicas de análisis integral o diferencial</b> y se basa en la agrupación de las variables (o parámetros), mediante su multiplicación o cociente, en grupos que se caracterizan por carecer de dimensiones (dicho de otra forma, por ser adimensionales). Esta agrupación resulta en una disminución efectiva de la cantidad de parámetros requeridos para modelar el fenómeno en cuestión y, por ende, simplificando el problema a estudiar. Además, si se realiza de manera correcta, permitirá <b>plantear, interpretar, presentar y extrapolar resultados experimentales.</b>\n",
    "        </div>\n",
    "   </div>\n",
    "</div>"
   ]
  },
  {
   "cell_type": "markdown",
   "id": "e65ebff3-718f-4f7c-8532-988677d0a0a9",
   "metadata": {
    "slideshow": {
     "slide_type": "skip"
    },
    "tags": []
   },
   "source": [
    "## Principios del análisis dimensional"
   ]
  },
  {
   "cell_type": "markdown",
   "id": "0962ea94-5046-4b58-84a3-c48b33524ae5",
   "metadata": {
    "slideshow": {
     "slide_type": "skip"
    },
    "tags": []
   },
   "source": [
    "### Problema"
   ]
  },
  {
   "cell_type": "raw",
   "id": "b49dd7df-c863-485c-8448-575537f72290",
   "metadata": {
    "slideshow": {
     "slide_type": "subslide"
    },
    "tags": []
   },
   "source": [
    "<div class='diapo'>\n",
    "    <div class='base'>\n",
    "        <div class='base header'>\n",
    "            Principios del análisis dimensional       \n",
    "        </div>\n",
    "        <div class='base body'>\n",
    "            <p style='text-align:justify'>\n",
    "                Analicemos los principios del análisis dimensional y su importancia mediante el siguiente ejemplo: <b>Deseamos determinar la fuerza que se ejerce sobre una esfera sumergida en un campo de flujo. </b>\n",
    "            </p>\n",
    "            <table style='width:100%; font-size:25px'>\n",
    "                <tr>\n",
    "                    <td style='width:50%'>\n",
    "                        <p style='text-align:justify'>\n",
    "                            Analíticamente, podemos determinar esta fuerza para flujos\n",
    "con velocidades muy pequeñas (flujos reptante):\n",
    "                        </p>\n",
    "                        $$F_D=3 \\pi \\mu U D$$\n",
    "                        <p style='text-align:justify'>\n",
    "                            <b>Sin embargo, a medida que la velocidad aumenta, este análisis se vuelve muy complejo <span style='color:red'>(¡incluso imposible!)</span> </b>\n",
    "                        </p>\n",
    "                    </td>\n",
    "                    <td> \n",
    "                        <center> \n",
    "                            <img src='Figures/Stokes_sphere.png' width=100%>\n",
    "                        </center>\n",
    "                    </td>\n",
    "                </tr>\n",
    "            </table>\n",
    "        \n",
    "        </div>\n",
    "    </div>\n",
    "</div>"
   ]
  },
  {
   "cell_type": "markdown",
   "id": "4e783195-13bc-4c4c-bcd4-66d6eac98c20",
   "metadata": {
    "slideshow": {
     "slide_type": "skip"
    },
    "tags": []
   },
   "source": [
    "#### Propuesta 1"
   ]
  },
  {
   "cell_type": "raw",
   "id": "19ae9b6b-35e0-4df6-b5b7-59e5c06580c2",
   "metadata": {
    "slideshow": {
     "slide_type": "subslide"
    },
    "tags": []
   },
   "source": [
    "<div class='diapo'>\n",
    "    <div class='base'>\n",
    "        <div class='base body'>\n",
    "            <p style='text-align:justify'>\n",
    "                <b> Propuesta </b>: Ya que un análisis teórico no será posible, <b><span style='color:red'>investiguemos experimentalmente el flujo alrededor de la esfera</span> (pero antes, ¡debemos planificar nuestros experimentos!)</b>\n",
    "            </p>\n",
    "            <p style='text-align:justify'>\n",
    "                Previo a diseñar nuestros experimentos, consideremos los parámetros que supondremos tendrán un efecto importante sobre la <b>fuerza de arrastre</b>:\n",
    "            </p>\n",
    "            <ul>\n",
    "                <li> Velocidad de corriente libre del flujo ($U$) </li>\n",
    "                <li> Diámetro de las esfera ($D$) </li>\n",
    "                <li> Propiedades del fluido:\n",
    "                    <ul>\n",
    "                        <li> Viscosidad ($\\mu$) </li>\n",
    "                        <li> Densidad ($\\rho$) </li>\n",
    "                    </ul>\n",
    "                </li>\n",
    "            </ul>\n",
    "            <p style='text-align:justify'>\n",
    "               De esta forma, podremos inicialmente suponer que la fuerza de arrastre $F_D$ será una función de $U$, $D$, $\\mu$ y $\\rho$:\n",
    "           </p>\n",
    "               $$F_D = f(U,D,\\rho,\\mu)$$\n",
    "           <p><b> Ahora, ¡solo nos falta determinar esta funcionalidad! </b></p>\n",
    "\n",
    "        </div>\n",
    "    </div>\n",
    "</div>"
   ]
  },
  {
   "cell_type": "markdown",
   "id": "0ea36033-db1a-4ebd-94fa-81178bf3e255",
   "metadata": {
    "slideshow": {
     "slide_type": "skip"
    },
    "tags": []
   },
   "source": [
    "##### Experimentos"
   ]
  },
  {
   "cell_type": "raw",
   "id": "52042302-e78f-4b44-aeff-e7381fbf884c",
   "metadata": {
    "slideshow": {
     "slide_type": "subslide"
    },
    "tags": []
   },
   "source": [
    "<div class='diapo'>\n",
    "    <div class='base'>\n",
    "        <div class='alternativa_body'>\n",
    "            <p>\n",
    "            Determinaremos la funcionalidad anterior mediante <b>experimentos</b>\n",
    "            </p>\n",
    "            <center>\n",
    "                <div class='units_box'>\n",
    "                    $$F_D = f(U,D,\\rho,\\mu)$$\n",
    "                </div>\n",
    "            </center>\n",
    "            <table style='width:100%;font-size:25px;margin-top:10px'>\n",
    "                <tr>\n",
    "                    <td style='width:50%'>\n",
    "                        <ol style='text-align:justify;margin-left:-10px'>\n",
    "                            <li> \n",
    "                                Iniciemos con <b>$10$ mediciones</b> independientes sobre una esfera de diámetro fijo en un tunel de viento, en las que variamos la <b>velocidad</b> $U$ del flujo. \n",
    "                            </li>\n",
    "                            <li>\n",
    "                                Analicemos ahora el efecto del diámetro de la esferza (supongamos que <b>mediciones sobre esferas de 10 diámetros distintos bastan</b>)\n",
    "                            </li>\n",
    "                        </ol>\n",
    "                    </td>\n",
    "                    <td>\n",
    "                    <div style='background-color:rgba(0,0,255,0.2);padding-left:5px;padding-right:5px;padding-bottom:5px'>\n",
    "                        <p style='color:red;text-align:justify'> \n",
    "                            <b>¿Existe un efecto cruzado entre diámetro y velocidad? </b> \n",
    "                        </p>\n",
    "                        <ul style='text-align:justify;margin-top:-15px;margin-left:-5px'>\n",
    "                            <li> Deberemos realizar las $10$ mediciones de velocidad sobre cada una de las 10 esferas. <b>En total, deberemos realizar $100$ experimentos para caracterizar la relación entre $F_D$, $U$ y $D$ para <u>un fluido en particular.</u></b>\n",
    "                            </li>\n",
    "                        </ul>\n",
    "                    </div>\n",
    "                    </td>\n",
    "                </tr>\n",
    "            </table>\n",
    "            <p style='text-align:justifyu'> \n",
    "                Sumemos ahora el posible efecto de la <b>viscosidad</b> y <b>densidad</b> (que podremos caracterizar con 10 corridas experimentales para cada propiedad).\n",
    "            </p>\n",
    "            <div class='comment_box' style='text-align:justify'>\n",
    "                <b> ¡Deberemos realizar 10000 corridas experimentales para\n",
    "caracterizar nuestro flujo! </b>\n",
    "            </div>\n",
    "\n",
    "            \n",
    "            \n",
    "        </div>\n",
    "    </div>\n",
    "</div>"
   ]
  },
  {
   "cell_type": "markdown",
   "id": "e10d6c6a-4325-4e5e-9afb-12e3a0f43ed4",
   "metadata": {
    "slideshow": {
     "slide_type": "skip"
    },
    "tags": []
   },
   "source": [
    "#### Propuesta alternativa"
   ]
  },
  {
   "cell_type": "raw",
   "id": "ebdb2e03-72e0-4442-b0bd-21b2d394e8c7",
   "metadata": {
    "slideshow": {
     "slide_type": "subslide"
    },
    "tags": []
   },
   "source": [
    "<div class='diapo'>\n",
    "    <div class='base'>\n",
    "        <div class='alternativa_header'>\n",
    "        \n",
    "        </div>\n",
    "        <div class='alternativa_body'>\n",
    "            <p style='text-align:justify'>\n",
    "               <b>Propuesta alternativa:</b> Al realizar un análisis dimensional descubriremos que los parámetros que caracterizan nuestro flujo $\\left(F_D, U, \\rho, \\mu, D\\right)$ se relacionan mediante la siguiente expresión:\n",
    "            \n",
    "                $${\\color{red}{\\frac{F_D}{\\rho U^2 D^2}}} = f\\,^\\prime\\,\\left({\\color{blue}{\\frac{\\rho U D}{\\mu}}}\\right)$$\n",
    "            <table style='font-size:25px'>\n",
    "                <tr style='vertical-align:top'>\n",
    "                    <td style='width:60%;background-color:rgba(255,0,0,0.05);border:0px'>\n",
    "                        <p style='color:red;text-align:justify'> Si multiplicamos el término en rojo por $8\\pi$ obtendremos el coeficiente de arrastre $C_D$ (que corresponde a un grupo adimensional):</p>\n",
    "\n",
    "                    </td>\n",
    "                    <td style='background-color:rgba(0,0,255,0.05);border:0px'>\n",
    "                        <p style='color:blue;text-align:justify'>El término en azul corresponde al número de Reynolds:</p>\n",
    "                    </td>\n",
    "                </tr>\n",
    "                <tr>\n",
    "                    <td style='background-color:rgba(255,0,0,0.05);border:0px'>\n",
    "                        $$\n",
    "\\color{red}{C_{D}=\\frac{F}{\\frac{1}{2} \\rho U^{2} \\frac{\\pi}{4} D^{2}}}\n",
    "                        $$\n",
    "                    </td>\n",
    "                    <td style='background-color:rgba(0,0,255,0.05);border:0px'>\n",
    "                        $$\\color{blue}{\\operatorname{Re}= \\frac{\\rho U D}{\\mu}}$$         \n",
    "                    </td>\n",
    "                </tr>\n",
    "            </table>\n",
    "            \n",
    "            <p style='text-align:justify'>\n",
    "                De esta forma, <b>¡hemos reducido nuestro problema a solo dos parámetros!</b> (y de paso, la cantidad de corridas experimentales requeridas). \n",
    "             \n",
    "            </p>\n",
    "        </div>\n",
    "    </div>\n",
    "</div>"
   ]
  },
  {
   "cell_type": "markdown",
   "id": "e90352ef-1f95-4e75-9837-49abd2bc800a",
   "metadata": {
    "slideshow": {
     "slide_type": "skip"
    },
    "tags": []
   },
   "source": [
    "# Conceptos previos"
   ]
  },
  {
   "cell_type": "raw",
   "id": "6de0c25f-7afd-474f-9728-cd605150cc4d",
   "metadata": {
    "slideshow": {
     "slide_type": "slide"
    },
    "tags": []
   },
   "source": [
    "<div class='diapo'>\n",
    "    <div class='titulo'>\n",
    "        Conceptos previos\n",
    "    </div>\n",
    "</div>"
   ]
  },
  {
   "cell_type": "markdown",
   "id": "883e907b-f046-4f41-9b27-c054e7e7a290",
   "metadata": {
    "slideshow": {
     "slide_type": "skip"
    },
    "tags": []
   },
   "source": [
    "## Dimensiones"
   ]
  },
  {
   "cell_type": "raw",
   "id": "16f87c7a-5ee0-48db-a38d-a738f4f0c703",
   "metadata": {
    "slideshow": {
     "slide_type": "subslide"
    },
    "tags": []
   },
   "source": [
    "<div class='diapo'>\n",
    "    <div class='base'>\n",
    "        <div class='base header'>\n",
    "            Dimensiones\n",
    "        </div>\n",
    "        <div class='base body'>\n",
    "            <center>\n",
    "                <div class='comment_box'>\n",
    "                    <b>Dimensión: medida con la que una magnitud física es expresada cuantitativamente.</b>\n",
    "                </div>\n",
    "            </center>\n",
    "            \n",
    "            <p style='text-align:justify'>\n",
    "                En este curso utilizaremos el sistema ${\\color{red}{MLtT}}$, consistente de $4$ dimensiones básicas:\n",
    "                <div style=width:100%>\n",
    "                <center>\n",
    "                    <ul style='column-count:4'>\n",
    "                    <li> Masa ($M$) </li>\n",
    "                        <li> Longitud ($L$) </li>\n",
    "                        <li> Tiempo ($t$)</li>\n",
    "                        <li> Temperatura ($T$)</li>\n",
    "                    </ul>\n",
    "                </center>\n",
    "                </div>\n",
    "                \n",
    "            <div class='units_box' style='font-size:25px;margin-top:15pt'>\n",
    "                <p> Las dimensiones básicas permiten expresar todo tipo de magnitudes en base a su combinación. Algunos ejemplos son: </p>\n",
    "                <div>\n",
    "                    <center>\n",
    "                    <ul style='column-count:3'>\n",
    "                        <li> Fuerza </li> $$[F]= MLt^{-2}$$\n",
    "                        <li> Velocidad</li> $$[V]= Vt^{-1}$$\n",
    "                        <li> Viscocidad</li> $$[\\nu]= ML^{-1}t^{-1}$$      \n",
    "                        <li> Flujo másico</li> $$[\\dot{m}]= Mt^{-1}$$      \n",
    "                        <li> Flujo volumétrico</li> $$[Q]= L^{3}t^{-1}$$      \n",
    "                        <li> Viscosidad cinemática</li> $$[\\nu]= L^{2}t^{-1}$$      \n",
    "                    </ul>\n",
    "                    </center>\n",
    "                </div>\n",
    "            </div>\n",
    "        </div>\n",
    "    </div>\n",
    "</div>    \n"
   ]
  },
  {
   "cell_type": "markdown",
   "id": "7737f2cb-d366-44b3-ac6c-4d66d25a9758",
   "metadata": {
    "slideshow": {
     "slide_type": "skip"
    },
    "tags": []
   },
   "source": [
    "## Principio de homogeneidad dimensional "
   ]
  },
  {
   "cell_type": "raw",
   "id": "da41f0f4-454b-4503-9264-1186530e4017",
   "metadata": {
    "slideshow": {
     "slide_type": "subslide"
    },
    "tags": []
   },
   "source": [
    "<div class='diapo'>\n",
    "    <div class='base'>\n",
    "        <div class='base header'>\n",
    "            Principio de homogeneidad dimensional \n",
    "        </div>\n",
    "        <div class='base body'>\n",
    "            <ul style='text-align:justify'>\n",
    "                <li>\n",
    "                    Una ecuación deducida analíticamente que representa un fenómeno físico debe ser válida para todos los sistemas de unidades. \n",
    "                </li>\n",
    "                <li>\n",
    "                    Cada término aditivo en la ecuación debe tener las mismas dimensiones.\n",
    "                </li>\n",
    "                <li> \n",
    "                    La integración o diferenciación de la ecuación cambiara su dimensionalidad, mas no su homogeneidad.\n",
    "                </li>\n",
    "            </ul>\n",
    "            <div class='units_box' style='font-size:25px;padding-bottom:10px;margin-top:10px;width:100%'>\n",
    "                <p style='text-align:justify'>\n",
    "                    <b>Ejemplo:</b> La ecuación que describe la posición de un cuerpo en caida libre es <b>dimensionalmente homogenea.</b>\n",
    "                </p>\n",
    "            \n",
    "                $$y=y_0+v_0t+\\frac{1}{2}gt^2$$\n",
    "            \n",
    "                <table style='font-size:25px;width:100%;margin-top:-35px'>\n",
    "                    <tr style='vertical-align:top'>\n",
    "                        <td style='margin:right:5px;width:40%'>\n",
    "                            <p style='text-align:justify'>\n",
    "                                Las dimensiones de cada término son:\n",
    "                            </p>\n",
    "                            <ul style='column-count:1'>\n",
    "                                <li> $[y] = [y_0] = L$ </li>\n",
    "                                <li> $[v_0] = Lt^{-1}$ </li>\n",
    "                                <li> $[t] = t$ </li>\n",
    "                            </ul>\n",
    "                        </td>\n",
    "                        <td width=10%'>\n",
    "                        </td>\n",
    "                        <td style='margin-left:5px'>\n",
    "                            <p>\n",
    "                            Las dimensiones de cada término aditivo son:\n",
    "                            </p>\n",
    "                            $$[y]=\\left[y_0\\right]=\\left[v_0 t\\right]=\\left[\\frac{1}{2} g t^2\\right]=L$$\n",
    "                        </td>\n",
    "                    </tr>\n",
    "                </table>\n",
    "\n",
    "                    \n",
    "            </div>\n",
    "       \n",
    "        </div>\n",
    "    </div>\n",
    "</div>"
   ]
  },
  {
   "cell_type": "markdown",
   "id": "6fe91e8d-bd7c-4f41-9e45-2427d5a7faea",
   "metadata": {
    "slideshow": {
     "slide_type": "skip"
    },
    "tags": []
   },
   "source": [
    "## Grupos adimensionales"
   ]
  },
  {
   "cell_type": "raw",
   "id": "fe5f1816-a855-4f81-88ca-2f5e4ff0e2cb",
   "metadata": {
    "slideshow": {
     "slide_type": "subslide"
    },
    "tags": []
   },
   "source": [
    "<div class='diapo'>\n",
    "    <div class='base'>\n",
    "        <div class='base header'>\n",
    "            Grupos adimensionales\n",
    "        </div>\n",
    "        <div class='base body'>\n",
    "            <p style='text-align:justify'>\n",
    "                Los <b>grupos adimensionales</b> corresponden a grupos de cantidades\n",
    "<b>cuyo cociente o producto carece de dimensiones</b>.\n",
    "            </p>\n",
    "            <div class='comment_box'>\n",
    "                <p> \n",
    "                    <b>Ejemplo:</b> Número de Reynolds ($\\operatorname{Re}$)\n",
    "                </p>\n",
    "                    $$\n",
    "                        \\operatorname{Re} = \\frac{\\rho V L}{\\mu}\n",
    "                    $$\n",
    "                <p style='text-align:justify'>\n",
    "                    Podemos comprobar fácilmente que es efectivamente adimensional,\n",
    "    al analizar las dimensiones de cada uno de sus términos:\n",
    "                </p>        \n",
    "                $$\n",
    "                    \\displaystyle[\\operatorname{Re}]=\\frac{\\color{red}{[\\rho]}\\color{blue}{[V]}\\color{green}{[L]}}{\\color{magenta}{[\\mu]}}=\\mathrm{\\frac{\\color{red}{\\frac{M}{L^{3}}}\\color{blue}{\\frac{L}{t}}\\color{green}{L}}{\\color{magenta}{\\frac{M}{L t}}}}=[1]\n",
    "                $$\n",
    "            </div>\n",
    "        </div>\n",
    "    </div>\n",
    "</div>"
   ]
  },
  {
   "cell_type": "markdown",
   "id": "fbbcd676-5e0b-4324-ac6e-c9b00b136304",
   "metadata": {
    "slideshow": {
     "slide_type": "skip"
    },
    "tags": []
   },
   "source": [
    "# Teorema Pi de Buckingham"
   ]
  },
  {
   "cell_type": "raw",
   "id": "874eb303-c160-415e-a599-fba69d84ee2c",
   "metadata": {
    "slideshow": {
     "slide_type": "slide"
    },
    "tags": []
   },
   "source": [
    "<div class='diapo'>\n",
    "    <div class='titulo'>\n",
    "        Teorema Pi de Buckingham\n",
    "    </div>\n",
    "</div>"
   ]
  },
  {
   "cell_type": "raw",
   "id": "a03a2688-38fb-4fc9-a995-34cd6b11a3cf",
   "metadata": {
    "slideshow": {
     "slide_type": "subslide"
    },
    "tags": []
   },
   "source": [
    "<div class='diapo'>\n",
    "    <div class='base'>\n",
    "        <div class='base header'>\n",
    "            Teorema Pi de Buckingham\n",
    "        </div>\n",
    "        <div class='base body'>\n",
    "            <p style='text-align:justify'>\n",
    "                El <b>teorema Pi de Buckingham</b> permite determinar una relación entre grupos adimensionales, <b>reduciendo efectivamente el número de variables involucradas</b> y simplificando el problema a estudiar.\n",
    "                <br>\n",
    "                <table style='font-size:25px;\n",
    "                                width:100%'>\n",
    "                    <tr>\n",
    "                        <td style='width:70%'>\n",
    "                            Este teorema se basa en el siguiente principio:\n",
    "                        </p>       \n",
    "                        <div class='comment_box'>\n",
    "                            <div>\n",
    "                            Si un proceso físico satisface el <b>principio de homogeneidad dimensional e involucra $n$ variables</b>, entonces <b>puede ser reducido a una relación entre solo $k$ grupos adimensionales ($\\Pi$s)</b>. \n",
    "                            </div>\n",
    "                            <ul>\n",
    "                                <li> La reducción $j=n-k$ será igual al máximo número de variables que no forman un pi entre ellas y siempre es menor o igual que el número de dimensiones que describen las variables\n",
    "                                </li>\n",
    "                            </ul>\n",
    "                        </div>\n",
    "                        </td>\n",
    "                        <td>\n",
    "                            <center>\n",
    "                                <img src=Figures/Buckingham.jpg width=80%>\n",
    "                                    <b>Edgard Buckingham (1867-1940)</b>\n",
    "                            </center>\n",
    "                        </td>\n",
    "                    </tr>\n",
    "                </table>\n",
    "         \n",
    "        </div>\n",
    "    </div>\n",
    "</div>         "
   ]
  },
  {
   "cell_type": "markdown",
   "id": "376a1b0f-2c57-4bce-a488-5324fdc32621",
   "metadata": {
    "slideshow": {
     "slide_type": "skip"
    },
    "tags": []
   },
   "source": [
    "## Aplicación del teorema Pi de Buckingham"
   ]
  },
  {
   "cell_type": "raw",
   "id": "3d54abca-12bb-451d-a8b7-03b655c4ac2b",
   "metadata": {
    "slideshow": {
     "slide_type": "subslide"
    },
    "tags": []
   },
   "source": [
    "<div class='diapo'>\n",
    "    <div class='base'>\n",
    "        <div class='base header'>\n",
    "            Aplicación del teorema Pi de Buckingham\n",
    "        </div>\n",
    "        <div class='base body'>\n",
    "            <p style='text-align:justify'>\n",
    "            El teorema Pi de Buckingham consiste de una serie de pasos, que inician con la determinación de las variables relevantes y finalizan con la generación de grupos adimencionales ($\\Pi$s) que describen el proceso en cuestión.\n",
    "            </p>\n",
    "            <div class='equation_box'>\n",
    "            <ol style='font-weigth:bold;text-align:justify'>\n",
    "                <li> <b>Contar y hacer una lista con las $n$ variables involucradas en el problema.</b>\n",
    "                </li>\n",
    "                <li>\n",
    "                    <b>Seleccionar un conjunto de dimensiones primarias.</b>\n",
    "                </li>\n",
    "                <li>\n",
    "                    <b>Hacer una lista con las dimensiones de cada variable.</b>\n",
    "                </li>\n",
    "                <li>\n",
    "                    <b>Encontrar la reducción $j=n-k$</b>\n",
    "                </li>\n",
    "                <li>\n",
    "                    <b>Seleccionar un grupo de $j$ variables</b>, las cuales (en conjunto) contengan todas las dimensiones primarias.\n",
    "                    <ul>\n",
    "                        <li> Estas variables serán denominadas <b>\"variables de repeticion\"</b></li>\n",
    "                        <li> Las variables seleccionadas no pueden formar un grupo adimensional entre ellas </li>\n",
    "                    </ul>\n",
    "                </li>\n",
    "                <li> <b>Armar ecuaciones dimensionales</b>, combinando los parámetros seleccionados en el paso anterior con el resto de los parámetros. <b>Resolver las ecuaciones dimensionales</b> para obtener los $k$ grupos adimensionales.</li>\n",
    "                <li> <b>Verificar</b> que todos $\\Pi$s obtenidos sean adimensionales. <b>Escribir la relación entre los grupos adimensionales obtenidos.</b> </li>\n",
    "            </ol>\n",
    "            </div>\n",
    "        </div>\n",
    "    </div>\n",
    "</div>           "
   ]
  },
  {
   "cell_type": "markdown",
   "id": "1e5b2283-ce72-45c1-b5a4-115b1c2b5b97",
   "metadata": {
    "slideshow": {
     "slide_type": "skip"
    },
    "tags": []
   },
   "source": [
    "### Caso de estudio: bombas centrífugas"
   ]
  },
  {
   "cell_type": "raw",
   "id": "8d182cef-7df2-4fd5-93fa-16738074eb3b",
   "metadata": {
    "slideshow": {
     "slide_type": "subslide"
    },
    "tags": []
   },
   "source": [
    "<div class='diapo'>\n",
    "    <div class='base'>\n",
    "        <div class='base header' style='font-size:40px'>\n",
    "            Aplicación: Leyes de semejanza para bombas centrífugas\n",
    "        </div>\n",
    "        <div class='base body'>\n",
    "            <table style='width:100%;\n",
    "                            font-size:25px'>\n",
    "                <tr style='vertical-align:top'>\n",
    "                    <td style='width:50%;\n",
    "                                background-color:rgba(255,0,255,0.1)'>\n",
    "                        <p style='text-align:justify'> El funcionamiento de una bomba centrífuga puede ser simplificado al siguiente proceso:</p>\n",
    "                        <ul style='text-align:justify'>\n",
    "                            <li> <b>El fluido ingresa a la bomba a través de la línea de descarga</b>, en el centro del impulsor, con velocidad paralela al eje de este último</li>\n",
    "                            <li> <b>El fluido es expulsado radialmente</b>, debido al giro del impulsor </li>\n",
    "                            <li> <b>La dirección del flujo es rectificada por la carcasa</b> y el fluido es expulsado a través de la línea de descarga </li>\n",
    "                        </ul>\n",
    "                    </td>\n",
    "                    <td style='background-color:rgba(0,255,0,0.2)'>\n",
    "                            <p style='text-align:justify'>En el proceso anteriormente descrito, la bomba entrega energía al fluido, la cual es normalmente caracterizada mediante la <b>carga que eleva la bomba $h_A$</b>:</p>\n",
    "                        <span style='font-size:22px'>\n",
    "                        \\begin{equation*}\n",
    "                        h_A = \\frac{p_D-p_{S}}{\\gamma}+\\frac{V_D^2-V_S^2}{2g}+(z_D-z_S)\n",
    "                       \\end{equation*}</span>\n",
    "    <p style='text-align:justify;font-size:20px;font-style:italic'>donde los sufijos $D$ y $S$ indican descarga y succión, respectivamente</p>\n",
    "                            <center> <img src=Figures/centrifuga_func.gif width=55% style='margin-bottom:0px;margin-top:0px'></center>\n",
    "                    </td>\n",
    "                </tr>\n",
    "            </table>\n",
    "                \n",
    "        </div>\n",
    "    </div>\n",
    "</div>"
   ]
  },
  {
   "cell_type": "markdown",
   "id": "3d9ace7e-8b6f-45f4-9fd5-9e41cb5d68ea",
   "metadata": {
    "slideshow": {
     "slide_type": "skip"
    },
    "tags": []
   },
   "source": [
    "#### curvas de rendimiento"
   ]
  },
  {
   "cell_type": "raw",
   "id": "f08ef6ab-70f8-4c4d-ac28-3de9a71a9df1",
   "metadata": {
    "slideshow": {
     "slide_type": "subslide"
    },
    "tags": []
   },
   "source": [
    "<div class='diapo'>\n",
    "    <div class='base'>\n",
    "        <div class='base header'>\n",
    "            Curvas de rendimiento\n",
    "        </div>\n",
    "        <div class='base body'>\n",
    "            <table style='font-size:25px;width:100%'>\n",
    "                <tr style='vertical-align:middle'>\n",
    "                    <td style='width:45%'>\n",
    "                        <p style='text-align:justify'>La operación de una bomba centrífuga se ve afectada por los siguientes parámetros:</p>\n",
    "                            <ul>\n",
    "                                <li>Velocidad angular (nominal) del impulsor ($\\omega$)</li>\n",
    "                                <li>Diametro del impulsor ($D$)</li>\n",
    "                                <li>Carga total ($h$)</li>\n",
    "                                <li>Capacidad ($Q$)</li>\n",
    "                                <li>Dimensiones de la carcasa</li>\n",
    "                            </ul>\n",
    "                        </p>\n",
    "                        <p style='text-align:justify'>\n",
    "                            La relación entre estos parámetros, <b>para cada bomba en particular</b>, es expresada mediante <b>curvas de rendimiento</b>. \n",
    "                    </td>\n",
    "                    <td style='width:55%'>\n",
    "                        <center> <img src=Figures/rendimientos2.png width=100%> </center>\n",
    "                        <center> <div class='comment_box' style='padding:2px;width:80%'> Estas curvas son determinadas experimentalmente.</div> </center>\n",
    "                    </td>\n",
    "                </tr>\n",
    "            </table>\n",
    "        </div>\n",
    "    </div>\n",
    "</div>"
   ]
  },
  {
   "cell_type": "markdown",
   "id": "4fa4df43-ff6c-4d72-9fdd-1c552ec896bb",
   "metadata": {
    "slideshow": {
     "slide_type": "skip"
    },
    "tags": []
   },
   "source": [
    "#### Justificación"
   ]
  },
  {
   "cell_type": "raw",
   "id": "3ec802af-633b-463a-8781-1d55f1ed8a35",
   "metadata": {
    "slideshow": {
     "slide_type": "subslide"
    },
    "tags": []
   },
   "source": [
    "<div class='diapo'>\n",
    "    <div class='base'>\n",
    "        <div class='base body'>\n",
    "            <p style='text-align:justify'>\n",
    "                Las curvas de rendimiento son desarrolladas para un modelo en específico de bomba, por lo que son válidas para:\n",
    "            </p>\n",
    "            <ul>\n",
    "                <li> Un <b>tamaño determinado</b> de la bomba, incluyendo el <b>diámetro del impulsor $D$</b> y carcasa.\n",
    "                </li>\n",
    "                <li>\n",
    "                    Una <b>velocidad del impulsor $\\omega$</b> específica.\n",
    "                </li>\n",
    "                <li>\n",
    "                    Un <b>fluido</b> en particular.\n",
    "                </li>\n",
    "            </ul>\n",
    "\n",
    "            <div class='comment_box' style='text-align:justify;\n",
    "                                            margin-top:10pt'>\n",
    "                Si deseamos determinar las curvas de rendimiento para otras condiciones de operación, deberemos realizar experimentos adicionales para determinar estas nuevas curvas de rendimiento <b>(¡o hacer uso del análisis dimensional!)</b>. \n",
    "            </div>\n",
    "        </div>\n",
    "    </div>\n",
    "</div>\n",
    "            \n",
    "            "
   ]
  },
  {
   "cell_type": "markdown",
   "id": "ce2ade95-528c-4494-944d-3f50c2d9accc",
   "metadata": {
    "slideshow": {
     "slide_type": "skip"
    },
    "tags": []
   },
   "source": [
    "##### notas"
   ]
  },
  {
   "cell_type": "raw",
   "id": "87ed5e0f-f6ff-487a-83e5-9f7599d1a32b",
   "metadata": {
    "slideshow": {
     "slide_type": "notes"
    },
    "tags": []
   },
   "source": [
    "<p style='text-align:justify'>Ejemplos de situaciones en las cuales deseamos extrapolar estas curvas son:</p>\n",
    "<ul style='text-align:justify'>\n",
    "    <li> <b>Cambio de la velocidad del impulsor </b>: la velocidad del impulsor es determinada por el motor de la bomba. Si es motor eléctrico, dependerá de la frecuencia de la corriente eléctrica que es alimentada a este. En Chile, $\\omega=900$, $1450$, o $2900$ $\\text{rpm}$ para motores de $6$, $4$ y $2$ polos, respectivamente. \n",
    "        <ul style='text-align:justify'>\n",
    "            <li>Si disponemos de la curva de rendimiento para una velocidad, podemos estimar la curva que se obtendría si se cambia el motor (notar que a medida que aumenta $\\omega$, también lo hará $h_A$ y $Q$).\n",
    "            </li>\n",
    "            <li> Si empleamos variadores de frecuencia, es posible cambiar $\\omega$. Esta estrategia es empleada para controlar el flujo.\n",
    "            </li>\n",
    "        </ul>\n",
    "    <li> <b> Escalamiento de la bomba </b>: si el fabricante desea diseñar una bomba de mayor capacidad, puede realizar estimaciones iniciales del tamaño requerido de la bomba a partir de las curvas de rendimiento de una bomba conocida. <b>Esto suponiendo que existirá similitud geométrica entre ambas bombas</b>\n",
    "    </li>\n",
    "    <li> <b>Cambiar el fludio</b>: Se requiere bombar un fluido distinto al original (por ejemplo, un aceite). Podemos hacer estimaciones iniciales de las curvas de rendimiento para el nuevo fluido\n",
    "    </li>\n",
    "</ul>"
   ]
  },
  {
   "cell_type": "markdown",
   "id": "87f0c62f-7937-4286-b6e6-564fb9af7b72",
   "metadata": {
    "slideshow": {
     "slide_type": "skip"
    },
    "tags": []
   },
   "source": [
    "#### Aplicación"
   ]
  },
  {
   "cell_type": "markdown",
   "id": "5f3623c0-cdd6-4a03-910c-a18e96b9ad57",
   "metadata": {
    "slideshow": {
     "slide_type": "skip"
    },
    "tags": []
   },
   "source": [
    "##### 1 - Listado"
   ]
  },
  {
   "cell_type": "raw",
   "id": "95aa5d88-7672-44c6-9af8-8286dec9cba3",
   "metadata": {
    "jp-MarkdownHeadingCollapsed": true,
    "slideshow": {
     "slide_type": "subslide"
    },
    "tags": []
   },
   "source": [
    "<div class='diapo'>\n",
    "    <div class='base'>\n",
    "        <div class='base header'>\n",
    "        </div>\n",
    "        <div class='base body'>\n",
    "            <p style='font-size:30px'>\n",
    "                <b>1 - Listado de parámetros relevantes </b>\n",
    "            </p>\n",
    "            <p style='text-align:justify'>\n",
    "                La experiencia ha demostrado que la carga elevada por una bomba, expresada como energía por unidad de masa ($gh_A$), depende de:\n",
    "            </p>\n",
    "            <ul>\n",
    "                <li> El caudal $Q$</li>\n",
    "                <li> La densidad del fluido $\\rho$</li>\n",
    "                <li> La velocidad del impulsor $\\omega$ (expresada por lo general en $\\text{rpm}$)</li>\n",
    "                <li> El diámetro del impulsor $D$</li>\n",
    "                <li> La viscosidad del fluido $\\mu$</li>\n",
    "                <li> La rugosidad del material que compone la bomba $\\epsilon$</li>\n",
    "            </ul>\n"
   ]
  },
  {
   "cell_type": "raw",
   "id": "eca9e69b-3b94-45de-bde2-98a474f4f508",
   "metadata": {
    "slideshow": {
     "slide_type": "fragment"
    },
    "tags": []
   },
   "source": [
    "            <p>\n",
    "            De esta forma:\n",
    "            </p>\n",
    "\n",
    "            <center>\n",
    "                <div class='equation_box' style=';width:40%'>\n",
    "                    \\begin{equation*}\n",
    "                    gh_A = f\\left(Q, \\rho, \\omega, D, \\mu, \\epsilon\\right)\n",
    "                    \\end{equation*}\n",
    "                </div>\n",
    "            </center>\n",
    "\n",
    "            <p style='text-align:justify'>\n",
    "                <b> Notar que el producto $gh_A$ será considerado como una única variable compuesta a partir de este punto</b>\n",
    "            </p>\n",
    "        </div>\n",
    "    </div>\n",
    "</div>"
   ]
  },
  {
   "cell_type": "markdown",
   "id": "b62ae994-6685-43fe-b9f4-6c816ede4e04",
   "metadata": {
    "slideshow": {
     "slide_type": "skip"
    },
    "tags": []
   },
   "source": [
    "##### 2- Dimensiones primarias "
   ]
  },
  {
   "cell_type": "raw",
   "id": "f11716f6-ac55-4a98-9f49-e2f9cc4d1527",
   "metadata": {
    "slideshow": {
     "slide_type": "subslide"
    },
    "tags": []
   },
   "source": [
    "<div class='diapo'>\n",
    "    <div class='base'>\n",
    "        <div class='base body'>\n",
    "            <p style='font-size:30px'>\n",
    "                <b> 2- Dimensiones primarias </b> \n",
    "            </p>\n",
    "            <p>\n",
    "                Consideraremos como dimensiones primarias $M$, $L$ y $t$\n",
    "            </p>\n"
   ]
  },
  {
   "cell_type": "markdown",
   "id": "fa9f2700-32a4-49e5-b68e-dc124f08d139",
   "metadata": {
    "slideshow": {
     "slide_type": "skip"
    },
    "tags": []
   },
   "source": [
    "#####  3- Matriz dimensional"
   ]
  },
  {
   "cell_type": "raw",
   "id": "d222a29e-b890-49a7-a17f-83ae8756bfc9",
   "metadata": {
    "slideshow": {
     "slide_type": "fragment"
    },
    "tags": []
   },
   "source": [
    "            <p style='font-size:30px'>\n",
    "                <b> 3- Matriz dimensional </b> \n",
    "            </p>\n",
    "            <p>\n",
    "                Las dimensiones de los parámetros involucrados son:\n",
    "            </p>\n",
    "                \\begin{equation*}\n",
    "                    \\begin{array}{c|ccccccc} \n",
    "                    & g h_A & Q & \\rho & \\omega & D & \\mu & \\varepsilon \\\\\n",
    "                    \\hline M & 0 & 0 & 1 & 0 & 0 & 1 & 0 \\\\\n",
    "                    L & 2 & 3 & -3 & 0 & 1 & -1 & 1 \\\\\n",
    "                    t & -2 & -1 & 0 & -1 & 0 & -1 & 0\n",
    "                    \\end{array}\n",
    "                \\end{equation*}\n"
   ]
  },
  {
   "cell_type": "raw",
   "id": "51af6a4c-ad4a-45a6-b45e-98998bf05917",
   "metadata": {
    "slideshow": {
     "slide_type": "fragment"
    },
    "tags": []
   },
   "source": [
    "            <p>\n",
    "                y la correspondiente matriz dimensional es:\n",
    "            </p>\n",
    "                \\begin{equation*}\n",
    "                    \\textbf{A}_{dim}=\\begin{bmatrix}\n",
    "                     0 & 0 & 1 & 0 & 0 & 1 & 0 \\\\\n",
    "                    2 & 3 & -3 & 0 & 1 & -1 & 1 \\\\\n",
    "                    -2 & -1 & 0 & -1 & 0 & -1 & 0\n",
    "                    \\end{bmatrix}\n",
    "                \\end{equation*}\n",
    "        </div>\n",
    "    </div>\n",
    "</div>"
   ]
  },
  {
   "cell_type": "markdown",
   "id": "42f849d4-36b0-471c-a9a1-4a9089a01364",
   "metadata": {
    "slideshow": {
     "slide_type": "skip"
    },
    "tags": []
   },
   "source": [
    "##### 4- Determinación de la reducción $j$"
   ]
  },
  {
   "cell_type": "raw",
   "id": "bf848de1-0fd2-4e91-9d82-0ebe947bb3fa",
   "metadata": {
    "slideshow": {
     "slide_type": "subslide"
    },
    "tags": []
   },
   "source": [
    "<div class='diapo'>\n",
    "    <div class='base'>\n",
    "        <div class='base body'>\n",
    "            <p style='font-size:30px'>\n",
    "                <b> 4- Determinación de la reducción $j$ </b>\n",
    "            </p>\n",
    "            <p>\n",
    "                El rango de la matríz dimensional es:\n",
    "           </p> \n",
    "                $$ \\text{rank}\\left({\\textbf{A}_{dim}}\\right) = 3 $$\n",
    "            <p>\n",
    "                De esta forma, $j=3$. Ya que el proceso considera $7$ parámetros dimensionales, deberemos:\n",
    "            </p>\n",
    "                <ul>\n",
    "                    <li> Seleccionar $3$ variables de repetición </li>\n",
    "                    <li> Generar $4$ grupos adimensionales </li>\n",
    "                </ul>\n",
    "            </p>\n"
   ]
  },
  {
   "cell_type": "markdown",
   "id": "43a5e6ff-0919-4ca5-b894-f3d08c02e649",
   "metadata": {
    "slideshow": {
     "slide_type": "skip"
    },
    "tags": []
   },
   "source": [
    "##### 5-  Variables de repetición"
   ]
  },
  {
   "cell_type": "raw",
   "id": "fa1f3223-00c7-45bc-8c1d-09c97c4370cc",
   "metadata": {
    "slideshow": {
     "slide_type": "fragment"
    },
    "tags": []
   },
   "source": [
    "            <p style='font-size:30px'>\n",
    "                <b> 5-  Variables de repetición </b>\n",
    "            </p>\n",
    "            <p>\n",
    "                    Consideraremos como variables de repetición: $D$, $\\omega$ y $\\rho$\n",
    "            </p>\n",
    "            </p>\n",
    "        </div>\n",
    "    </div>\n",
    "</div>"
   ]
  },
  {
   "cell_type": "markdown",
   "id": "30ceff99-72fa-4e8a-8d7d-2d9ada4c6158",
   "metadata": {
    "slideshow": {
     "slide_type": "skip"
    },
    "tags": []
   },
   "source": [
    "##### 6- Ecuaciones dimensionales"
   ]
  },
  {
   "cell_type": "markdown",
   "id": "d27bee1f-2378-479b-a1e9-631d127732aa",
   "metadata": {
    "slideshow": {
     "slide_type": "skip"
    },
    "tags": []
   },
   "source": [
    "##### Primer grupo adimensional $\\Pi_1$"
   ]
  },
  {
   "cell_type": "raw",
   "id": "92ebd020-0593-41df-b258-a8f8af53de24",
   "metadata": {
    "slideshow": {
     "slide_type": "subslide"
    },
    "tags": []
   },
   "source": [
    "<div class='diapo'>\n",
    "    <div class='base'>\n",
    "        <div class='base body'>\n",
    "            <p style='font-size:30px'>\n",
    "                <b>  6- Ecuaciones dimensionales </b>\n",
    "            </p>\n",
    "            <p>\n",
    "                <b> Primer grupo adimensional $\\Pi_1$ </b>\n",
    "            </p>\n",
    "            \\begin{equation*}\n",
    "            \\Pi_1 = D^a\\omega^b\\rho^c(gh_A)\\Rightarrow \\left(L\\right)^a\\left(t^{-1}\\right)^{b}\\left(ML^{-3}\\right)^c \\left(L^2t^{-2}\\right)=M^0L^0t^0\n",
    "            \\end{equation*}\n"
   ]
  },
  {
   "cell_type": "raw",
   "id": "429ccf46-0064-4254-a7ec-70b3f93a9a11",
   "metadata": {
    "slideshow": {
     "slide_type": "fragment"
    },
    "tags": []
   },
   "source": [
    "\n",
    "            $$\\begin{array}{rr}\n",
    "            M: & c=0 \\\\\n",
    "            L: & a-3c+2=0 \\\\\n",
    "            t: & -b-2=0\n",
    "            \\end{array}\n",
    "            $$\n"
   ]
  },
  {
   "cell_type": "raw",
   "id": "8c86156a-69b2-40ba-91c5-339652d65f64",
   "metadata": {
    "slideshow": {
     "slide_type": "fragment"
    },
    "tags": []
   },
   "source": [
    "            En forma matricial:\n",
    "            <!--- $$\n",
    "            \\textbf{Ax} = \\textbf{b} \n",
    "            $$ --->\n",
    "\n",
    "            $$\n",
    "            \\begin{bmatrix}\n",
    "            0 & 0 & 1 \\\\\n",
    "            1 & 0 & -3 \\\\\n",
    "            0 & -1 & 0 \n",
    "            \\end{bmatrix}\n",
    "            \\begin{bmatrix}\n",
    "            a \\\\ b \\\\ c\n",
    "            \\end{bmatrix} =\n",
    "            \\begin{bmatrix}\n",
    "            0 \\\\-2 \\\\ 2\n",
    "            \\end{bmatrix}\n",
    "            \\qquad \\Rightarrow  \\qquad \\left[\\begin{array}{l}\n",
    "            a \\\\\n",
    "            b \\\\\n",
    "            c\n",
    "            \\end{array}\\right]=\\left[\\begin{array}{c}\n",
    "            -2.0 \\\\\n",
    "            -2.0 \\\\\n",
    "            0.0\n",
    "            \\end{array}\\right]\n",
    "            $$\n"
   ]
  },
  {
   "cell_type": "raw",
   "id": "3db40a95-d7c8-4c0a-8380-2df2a0c3f969",
   "metadata": {
    "slideshow": {
     "slide_type": "fragment"
    },
    "tags": []
   },
   "source": [
    "\n",
    "            <center>\n",
    "                <div class=comment_box> \n",
    "                    De esta forma: $\\displaystyle \\Pi_1 = \\frac{gh_A}{D^2\\omega^2}$\n",
    "                </div>\n",
    "            </center>\n",
    "        </div>\n",
    "    </div>\n",
    "</div>"
   ]
  },
  {
   "cell_type": "markdown",
   "id": "80fe0058-f76e-4d70-aec2-be82e9722d98",
   "metadata": {
    "slideshow": {
     "slide_type": "skip"
    },
    "tags": []
   },
   "source": [
    "##### Segundo grupo adimensional $\\Pi_2$"
   ]
  },
  {
   "cell_type": "raw",
   "id": "e932ae9d-327c-4518-9290-b910db24897a",
   "metadata": {
    "slideshow": {
     "slide_type": "subslide"
    },
    "tags": []
   },
   "source": [
    "<div class='diapo'>\n",
    "    <div class='base'>\n",
    "        <div class='base header'>\n",
    "        \n",
    "        </div>\n",
    "        <div class='base body'>\n",
    "        \n",
    "            <p>\n",
    "                <b> Segundo grupo adimensional $\\Pi_2$ </b>\n",
    "            </p>\n",
    "\\begin{equation*}\n",
    "\\Pi_2 = D^a\\omega^b\\rho^c\\mu\\Rightarrow \\left(L\\right)^a\\left(t^{-1}\\right)^{b}\\left(ML^{-3}\\right)^c \\left(ML^{-1}t^{-1}\\right)=M^0L^0t^0\n",
    "\\end{equation*}\n",
    "La ecuación dimensional, en forma matricial:\n",
    "\n",
    "$$\\begin{bmatrix}\n",
    "0 & 0 & 1 \\\\\n",
    "1 & 0 & -3 \\\\\n",
    "0 & -1 & 0 \n",
    "\\end{bmatrix}\n",
    "\\begin{bmatrix}\n",
    "a \\\\ b \\\\ c\n",
    "\\end{bmatrix} =\n",
    "\\begin{bmatrix}\n",
    "-1 \\\\ 1 \\\\ 1\n",
    "\\end{bmatrix}\n",
    "\\qquad \\Rightarrow  \\qquad \\left[\\begin{array}{l}\n",
    "            a \\\\\n",
    "            b \\\\\n",
    "            c\n",
    "            \\end{array}\\right]=\\left[\\begin{array}{c}\n",
    "            -2.0 \\\\\n",
    "            -2.0 \\\\\n",
    "            -1.0\n",
    "                        \\end{array}\\right]\n",
    "            $$\n",
    "            \n",
    "                        <center>\n",
    "                <div class=comment_box> \n",
    "                    De esta forma: $\\displaystyle \\Pi_2 = \\frac{\\mu}{\\rho \\omega D^2}$\n",
    "                </div>\n",
    "            </center>\n",
    "                </div>\n",
    "    </div>\n",
    "</div>"
   ]
  },
  {
   "cell_type": "markdown",
   "id": "215d9e54-d919-4851-834d-3571077c3d1a",
   "metadata": {
    "slideshow": {
     "slide_type": "skip"
    },
    "tags": []
   },
   "source": [
    "##### Tercer grupo adimensional $\\Pi_3$"
   ]
  },
  {
   "cell_type": "raw",
   "id": "a4ee9f91-2149-4dcf-a5e8-69eed066c801",
   "metadata": {
    "slideshow": {
     "slide_type": "subslide"
    },
    "tags": []
   },
   "source": [
    "<div class='diapo'>\n",
    "    <div class='base'>\n",
    "        <div class='base header'>\n",
    "        \n",
    "        </div>\n",
    "        <div class='base body'>\n",
    "        \n",
    "            <p>\n",
    "                <b> Tercer grupo adimensional $\\Pi_3$ </b>\n",
    "            </p>\n",
    "\\begin{equation*}\n",
    "\\Pi_3 = D^a\\omega^b\\rho^cQ\\Rightarrow \\left(L\\right)^a\\left(t^{-1}\\right)^{b}\\left(ML^{-3}\\right)^c \\left(L^{3}t^{-1}\\right)=M^0L^0t^0\n",
    "\\end{equation*}\n",
    "La ecuación dimensional, en forma matricial:\n",
    "\n",
    "$$\\begin{bmatrix}\n",
    "0 & 0 & 1 \\\\\n",
    "1 & 0 & -3 \\\\\n",
    "0 & -1 & 0 \n",
    "\\end{bmatrix}\n",
    "\\begin{bmatrix}\n",
    "a \\\\ b \\\\ c\n",
    "\\end{bmatrix} =\n",
    "\\begin{bmatrix}\n",
    "0 \\\\ -3 \\\\ 1\n",
    "\\end{bmatrix}\n",
    "\\qquad \\Rightarrow  \\qquad \\left[\\begin{array}{l}\n",
    "            a \\\\\n",
    "            b \\\\\n",
    "            c\n",
    "            \\end{array}\\right]=\\left[\\begin{array}{c}\n",
    "            -3.0 \\\\\n",
    "            -1.0 \\\\\n",
    "            0.0\n",
    "                        \\end{array}\\right]\n",
    "            $$\n",
    "            \n",
    "                        <center>\n",
    "                <div class=comment_box> \n",
    "                    De esta forma: $\\displaystyle \\Pi_3 = \\frac{Q}{D^3 \\omega}$\n",
    "                </div>\n",
    "            </center>\n",
    "                </div>\n",
    "    </div>\n",
    "</div>"
   ]
  },
  {
   "cell_type": "markdown",
   "id": "90b86115-63cd-41c6-8a96-b7a3e7651707",
   "metadata": {
    "slideshow": {
     "slide_type": "skip"
    },
    "tags": []
   },
   "source": [
    "##### Cuarto grupo adimensional $\\Pi_4$"
   ]
  },
  {
   "cell_type": "raw",
   "id": "406001d2-c86e-4991-be5d-db012e277359",
   "metadata": {
    "slideshow": {
     "slide_type": "subslide"
    },
    "tags": []
   },
   "source": [
    "<div class='diapo'>\n",
    "    <div class='base'>\n",
    "        <div class='base header'>\n",
    "        \n",
    "        </div>\n",
    "        <div class='base body'>\n",
    "        \n",
    "            <p>\n",
    "                <b> Cuarto grupo adimensional $\\Pi_4$ </b>\n",
    "            </p>\n",
    "\\begin{equation*}\n",
    "\\Pi_4 = D^a\\omega^b\\rho^c\\epsilon\\Rightarrow \\left(L\\right)^a\\left(t^{-1}\\right)^{b}\\left(ML^{-3}\\right)^c \\left(L\\right)=M^0L^0t^0\n",
    "\\end{equation*}\n",
    "La ecuación dimensional, en forma matricial:\n",
    "\n",
    "$$\\begin{bmatrix}\n",
    "0 & 0 & 1 \\\\\n",
    "1 & 0 & -3 \\\\\n",
    "0 & -1 & 0 \n",
    "\\end{bmatrix}\n",
    "\\begin{bmatrix}\n",
    "a \\\\ b \\\\ c\n",
    "\\end{bmatrix} =\n",
    "\\begin{bmatrix}\n",
    "0 \\\\ -1 \\\\ 0\n",
    "\\end{bmatrix}\n",
    "\\qquad \\Rightarrow  \\qquad \\left[\\begin{array}{l}\n",
    "            a \\\\\n",
    "            b \\\\\n",
    "            c\n",
    "            \\end{array}\\right]=\\left[\\begin{array}{c}\n",
    "            -1.0 \\\\\n",
    "            0.0 \\\\\n",
    "            0.0\n",
    "                        \\end{array}\\right]\n",
    "            $$\n",
    "            \n",
    "                        <center>\n",
    "                <div class=comment_box> \n",
    "                    De esta forma: $\\displaystyle \\Pi_4 = \\frac{\\epsilon}{D}$\n",
    "                </div>\n",
    "            </center>\n",
    "                </div>\n",
    "    </div>\n",
    "</div>"
   ]
  },
  {
   "cell_type": "markdown",
   "id": "0ea3aec2-9c19-41d5-bf63-f2a0230ec19d",
   "metadata": {
    "jp-MarkdownHeadingCollapsed": true,
    "slideshow": {
     "slide_type": "skip"
    },
    "tags": []
   },
   "source": [
    "##### 7- Verificación y presentación"
   ]
  },
  {
   "cell_type": "raw",
   "id": "f525217e-8641-414a-9e5c-6df97f029504",
   "metadata": {
    "slideshow": {
     "slide_type": "subslide"
    },
    "tags": []
   },
   "source": [
    "<div class='diapo'>\n",
    "    <div class='base'>\n",
    "        <div class='base header'>\n",
    "        \n",
    "        </div>\n",
    "        <div class='base body'>\n",
    "            <p style='font-size:30px'>\n",
    "                <b> 7- Verificación y presentación</b>\n",
    "            </p>\n",
    "                <p>\n",
    "                    La funcionalidad entre los grupos adimensionales determinados es:\n",
    "                </p>\n",
    "                    $$\\Pi_1 = f\\left(\\Pi_2,\\Pi_3,\\Pi_4\\right)$$\n",
    "\n",
    "                \\begin{equation*}\n",
    "                    \\color{blue}{\\frac{gh_A}{D^2\\omega^2}} {= \\color{black}f\\left( {\\color{red}{ \\frac{\\rho (\\omega D) D}{\\mu}}},{\\color{magenta}{\\frac{Q}{D^3 \\omega}}},{\\color{green}{\\frac{\\epsilon}{D}}}\\right)}\n",
    "                \\end{equation*}\n"
   ]
  },
  {
   "cell_type": "raw",
   "id": "3659eb64-8daf-4dab-ac22-3262b2936981",
   "metadata": {
    "slideshow": {
     "slide_type": "fragment"
    },
    "tags": []
   },
   "source": [
    "        <table style='font-size:25px'>\n",
    "            <tr style='vertical-align:top'>\n",
    "                <td style='background-color:rgba(0,0,255,0.1);\n",
    "                            text-align:justify'>\n",
    "                    El término en <span style='color:blue'>azul</span> se denomina <b>coeficiente de carga hidrostática $C_H$</b>\n",
    "                    $$C_H = \\frac{gh_A}{D^2\\omega^2}$$\n",
    "                </td>\n",
    "                <td style='background-color:rgba(255,0,0,0.1);\n",
    "                            text-align:justify'>\n",
    "                    El término en <span style='color:red'>rojo</span> es el <b>número de Reynolds</b> $\\operatorname{Re}$, con velocidad características $\\omega D$:\n",
    "                    $$\\operatorname{Re} = \\frac{\\rho (\\omega D) D}{\\mu}$$\n",
    "                </td>\n",
    "                <td style='background-color:rgba(255,0,255,0.1);\n",
    "                            text-align:justify'>\n",
    "                    El término en <span style='color:magenta'>magenta</span> se denomina <b>coeficiente de capacidad</b> $C_Q$\n",
    "                    $$C_Q = \\frac{Q}{D^3 \\omega}$$\n",
    "                </td>\n",
    "                <td style='background-color:rgba(0,255,0,0.1);\n",
    "                            text-align:justify'>\n",
    "                    El término en <span style='color:green'>verde</span> se denomina <b>rugosidad relativa</b> $\\epsilon/D$\n",
    "                </td>\n",
    "            </tr>\n",
    "        </table>\n",
    "        </div>\n",
    "    </div>\n",
    "</div>"
   ]
  },
  {
   "cell_type": "markdown",
   "id": "31204947-7707-4337-b3cf-bcdd302cba72",
   "metadata": {
    "slideshow": {
     "slide_type": "skip"
    },
    "tags": []
   },
   "source": [
    "# Similitud y modelamiento"
   ]
  },
  {
   "cell_type": "raw",
   "id": "63463cca-3218-4afe-9c8e-483a801728f0",
   "metadata": {
    "slideshow": {
     "slide_type": "slide"
    },
    "tags": []
   },
   "source": [
    "<div class='diapo'>\n",
    "    <div class='titulo'>\n",
    "        Modelamiento y similitud\n",
    "    </div>\n",
    "</div>"
   ]
  },
  {
   "cell_type": "raw",
   "id": "cad1606b-b30b-43ba-b564-1b947eb73db1",
   "metadata": {
    "slideshow": {
     "slide_type": "subslide"
    },
    "tags": []
   },
   "source": [
    "<div class='diapo'>\n",
    "    <div class='alternativa'>\n",
    "        <div class='alternativa_header'>\n",
    "            Modelamiento y similitud\n",
    "        </div>\n",
    "        <div class='alternativa_body'>\n",
    "            <center><iframe width=\"560\" height=\"315\" src=\"https://www.youtube.com/embed/rqcua9T6SqA\" title=\"YouTube video player\" frameborder=\"0\" allow=\"accelerometer; autoplay; clipboard-write; encrypted-media; gyroscope; picture-in-picture\" allowfullscreen></iframe>\n",
    "            </center>\n",
    "        </div>\n",
    "    </div>\n",
    "</div>"
   ]
  },
  {
   "cell_type": "raw",
   "id": "51819d1b-50db-45d0-a092-848482393bc9",
   "metadata": {
    "slideshow": {
     "slide_type": "subslide"
    },
    "tags": []
   },
   "source": [
    "<div class='diapo'>\n",
    "    <div class='alternativa'>\n",
    "        <div class='alternativa body'>\n",
    "            <p style=\"text-align:justify\">\n",
    "        Previo a discutir los conceptos de modelamiento y de similitud, debemos hacer distinción entre dos conceptos:\n",
    "            </p>\n",
    "            <table style=\"font-size:25px;  border: 0px solid black\">\n",
    "                <tr style=\"vertical-align:top\">\n",
    "                    <td style=\"text-align:justify;\n",
    "                               width:50%; \n",
    "                               border: 0px solid black;\n",
    "                               background-color:rgba(256,0,0,0.3)\n",
    "                               \">\n",
    "                        <p style=\"text-align:center;\n",
    "                                  font-size:30px\n",
    "                                  \">\n",
    "                            <b>Prototipo</b>\n",
    "                        </p>\n",
    "                        <p>\n",
    "                            Sistema físico para el cual se realizan las predicciones.\n",
    "                        </p>\n",
    "                    </td>\n",
    "                    <td style=\"text-align:justify;\n",
    "                               width:50%; \n",
    "                               border: 0px solid black;\n",
    "                               background-color:rgba(0,0,256,0.3)\n",
    "                               \">\n",
    "                        <p style=\"text-align:center;\n",
    "                                  font-size:30px\n",
    "                                  \">\n",
    "                            <b>Modelo</b>\n",
    "                        </p>\n",
    "                        <p>\n",
    "                            <b><span style=\"color:red\">Representación</span></b> de un sistema físico que puede ser utilizado para predecir el comportamiento del sistema en algún aspecto deseado.\n",
    "                        </p>\n",
    "                    </td>\n",
    "                </tr>\n",
    "                <tr style=\"vertical-align:middle; \n",
    "                           border: 0px solid black\n",
    "                           \">\n",
    "                    <td style=\"background-color:rgba(256,0,0,0.3)\">\n",
    "                        <center>\n",
    "                            <img src=Figures/Prototipo.jpg height=300px>\n",
    "                        </center>\n",
    "                    </td>\n",
    "                    <td style=\"background-color:rgba(0,0,256,0.3)\">\n",
    "                        <center>\n",
    "                            <img src=Figures/Modelo.jpg height=300px>\n",
    "                        </center>\n",
    "                    </td>                    \n",
    "                </tr>\n",
    "            </table>\n",
    "        </div>\n",
    "    </div>\n",
    "</div>"
   ]
  },
  {
   "cell_type": "markdown",
   "id": "66c13beb-237a-4eb8-bec8-3b597dc1f8b8",
   "metadata": {
    "slideshow": {
     "slide_type": "skip"
    },
    "tags": []
   },
   "source": [
    "## Teoría de modelos"
   ]
  },
  {
   "cell_type": "raw",
   "id": "3e388a46-bd43-42d9-a3e2-dc2b2f2bd1bb",
   "metadata": {
    "slideshow": {
     "slide_type": "subslide"
    },
    "tags": []
   },
   "source": [
    "<div class='diapo'>\n",
    "    <div class='base'>\n",
    "        <div class='base header'>\n",
    "            Teoría de Modelos\n",
    "        </div>\n",
    "        <div class='base body'>\n",
    "            En base a los principios del análisis dimensional, cualquier problema puede ser descrito en base a un conjunto de $\\Pi$s, tal que:\n",
    "\\begin{equation}\n",
    "\\Pi_i=f\\left(\\Pi_2, \\Pi_3, \\ldots, \\Pi_n\\right)\n",
    "\\end{equation}\n",
    "Si la relación anterior describe el comportamiento de un prototipo, una relación similar puede ser desarrollada para un modelo de este prototipo:\n",
    "\\begin{equation}\n",
    "\\Pi_{1 m}=f\\left(\\Pi_{2 m}, \\Pi_{3 m}, \\ldots, \\Pi_{n m}\\right)\n",
    "\\end{equation}\n",
    "donde $f$ tendrá la misma funcionalidad para modelo y prototipo, <b>siempre cuando ambos se vean afectados por el mismo fenómeno físico.</b>\n",
    "       </div>\n",
    "   </div>\n",
    "</div>"
   ]
  },
  {
   "cell_type": "raw",
   "id": "98fa37b8-7a5b-446e-9f6d-8804c1eb27f2",
   "metadata": {
    "slideshow": {
     "slide_type": "subslide"
    },
    "tags": []
   },
   "source": [
    "<div class='diapo'>\n",
    "    <div class='alternativa'>\n",
    "        <div class='alternativa_body'>\n",
    "            <p style=\"text-align:justify\">Si los $\\Pi_s$ son desarrollados de forma que la variable que se desea predecir está contenida en $\\Pi_1$, el modelo se puede <b>diseñar y operar</b> bajo las siguientes condiciones:</p>\n",
    "          <center>\n",
    "          <div class=comment_box style=\"width:70%\">\n",
    "\\begin{equation*}\n",
    "\\begin{gathered}\n",
    "\\Pi_{2 m}=\\Pi_2 \\\\\n",
    "\\Pi_{3 m}=\\Pi_3 \\\\\n",
    "\\cdots \\\\\n",
    "\\Pi_{n m}=\\Pi_n\n",
    "\\end{gathered}\n",
    "\\end{equation*}\n",
    "<center><b>Condiciones necesarias para la similitud</b></center>\n",
    "</div>\n",
    "</center>\n",
    "<p>Entonces, bajo la suposición de que $f$ tiene la misma forma para modelo y prototipo:</p>\n",
    "<center>\n",
    "<div class='equation_box' style=\"width:70%\">\n",
    "\\begin{equation*}\n",
    "\\Pi_1=\\Pi_{1 m}\n",
    "\\end{equation*}\n",
    "<center><b>Ecuación de predicción</b></center>\n",
    "</div>\n",
    "</center>\n",
    "</div>\n",
    "</div>\n",
    "</div>"
   ]
  },
  {
   "cell_type": "markdown",
   "id": "a94ce426-ae27-4a7a-928e-4df712bacb86",
   "metadata": {
    "slideshow": {
     "slide_type": "skip"
    },
    "tags": []
   },
   "source": [
    "### Grados de similitud"
   ]
  },
  {
   "cell_type": "raw",
   "id": "2d3b91d1-7676-4b49-9d71-03d629a62bac",
   "metadata": {
    "slideshow": {
     "slide_type": "subslide"
    },
    "tags": []
   },
   "source": [
    "<div class='diapo'>\n",
    "    <div class='alternativa'>\n",
    "        <div class='alternativa_header'>\n",
    "            Grados de similitud\n",
    "        </div>\n",
    "        <div class='alternativa_body'>\n",
    "        <p style=\"text-align:justify\">Comúnmente, el grado de similitud entre modelo y prototipo se clasifica en tres tipos:</p>\n",
    "        <center>\n",
    "            <table style=\"width:90%;font-size:30px\">\n",
    "                <tr style=\"vertical-align:middle\">\n",
    "                    <td style=\"width:50%\">\n",
    "                        <ul style=\"font-weight:bold;margin-left:0px\">\n",
    "                            <li> Similitud geométrica </li>\n",
    "                            <li> Similitud cinemática </li>\n",
    "                            <li> Similitud dinámica </li>\n",
    "                        </ul>\n",
    "                    </td>\n",
    "                    <td style=\"width:50%\">\n",
    "                        <center>\n",
    "                            <img src=Figures/grados_sim.png width=100%>\n",
    "                        </center>\n",
    "                    </td>\n",
    "                </tr>\n",
    "            </table>\n",
    "        </div>\n",
    "    </div>\n",
    "</div>        "
   ]
  },
  {
   "cell_type": "markdown",
   "id": "a82f2805-1730-4f34-a344-40e9efb0a59c",
   "metadata": {
    "slideshow": {
     "slide_type": "skip"
    },
    "tags": []
   },
   "source": [
    "#### Similitud geométrica"
   ]
  },
  {
   "cell_type": "raw",
   "id": "140bf1cc-eb0d-4bd2-bd76-40298c4415cd",
   "metadata": {
    "slideshow": {
     "slide_type": "subslide"
    },
    "tags": []
   },
   "source": [
    "<div class='diapo'>\n",
    "    <div class='alternativa'>\n",
    "        <div class='alternativa_header'>\n",
    "            Similitud geométrica\n",
    "        </div>\n",
    "        <div class='alternativa_body'>\n",
    "            <div class='comment_box' style=\"font-weight:bold; text-align:justify;font-size:30px\">\n",
    "            <ul style='text-align:justify'>\n",
    "            <li style='text-align:justify'>\n",
    "            El modelo y el prototipo deben poseer la misma forma geométrica.\n",
    "            </li>\n",
    "            <li>\n",
    "            El tamaño del modelo puede ser modificado mediante algún factor de escala.\n",
    "            </li>\n",
    "            </u>\n",
    "            </div>\n",
    "                        \n",
    "            <p>Para cumplir con este tipo de similitud se requiere que:</p>\n",
    "            <ul style=\"text-align:justify\">\n",
    "                <li>Todas las dimensiones del modelo tengan la misma escala lineal con las dimensiones del prototipo.</li>\n",
    "                <li>Todos los ángulos se conserven (los ángulos en modelo y prototipo sean iguales).</li>\n",
    "                <li>Todas las direcciones de flujo se conserven.</li>\n",
    "                <li>La orientación del modelo y del prototipo con respecto a sus alrededores deben ser idénticas.</li>\n",
    "            </ul>\n",
    "        </div>\n",
    "    </div>\n",
    "</div>\n",
    "        "
   ]
  },
  {
   "cell_type": "markdown",
   "id": "b9d6a477-3fa9-4a6b-a651-1280111addf5",
   "metadata": {
    "slideshow": {
     "slide_type": "skip"
    },
    "tags": []
   },
   "source": [
    "#### Similitud cinemática"
   ]
  },
  {
   "cell_type": "raw",
   "id": "2154f4ca-645f-4c98-b6ec-430d75321613",
   "metadata": {
    "slideshow": {
     "slide_type": "subslide"
    },
    "tags": []
   },
   "source": [
    "<div class='diapo'>\n",
    "    <div class='alternativa'>\n",
    "        <div class='alternativa_header'>\n",
    "            Similitud cinemática\n",
    "        </div>\n",
    "        <div class='alternativa_body'>\n",
    "            <div class='comment_box' style=\"font-weight:bold; text-align:justify;font-size:30px\">\n",
    "                <ul style='text-align:justify'>\n",
    "                    <li>\n",
    "                    La velocidad en cualquier punto en el flujo del modelo debe\n",
    "        ser proporcional a la velocidad en el punto correspondiente en\n",
    "        el flujo del prototipo (la escala debe ser la misma para todos\n",
    "        los puntos).\n",
    "                    </li>\n",
    "                </u>\n",
    "            </div>\n",
    "                        \n",
    "            <p>Para cumplir con este tipo de similitud se requiere que:</p>\n",
    "            <ul style=\"text-align:justify\">\n",
    "                <li><b>Exista semejanza geométrica.</b></li>\n",
    "                <li>El escalamiento temporal debe tener la misma escala lineal que el escalamiento geométrico $\\left(L_m / L\\right)$.</li>\n",
    "                <li>Las velocidades que describen el movimiento del fluido en el modelo tienen la misma escala lineal con las velocidades del prototipo $\\left(V_m / V\\right)$</li>\n",
    "            </ul>\n",
    "            \n",
    "            <p style='font-style:italic'>Nota: Existirá semejanza cinemática si partículas homólogas se encuentran en puntos homólogos a tiempos homólogo</p>\n",
    "        </div>\n",
    "    </div>\n",
    "</div>\n",
    "        "
   ]
  },
  {
   "cell_type": "markdown",
   "id": "53dd7981-6970-4f8c-90e6-bc9e7689d2ee",
   "metadata": {
    "slideshow": {
     "slide_type": "skip"
    },
    "tags": []
   },
   "source": [
    "#### Similitud dinámica"
   ]
  },
  {
   "cell_type": "raw",
   "id": "6f25e078-2396-4d29-bb6f-b966e774b3b7",
   "metadata": {
    "slideshow": {
     "slide_type": "subslide"
    },
    "tags": []
   },
   "source": [
    "<div class='diapo'>\n",
    "    <div class='alternativa'>\n",
    "        <div class='alternativa_header'>\n",
    "            Similitud dinámica\n",
    "        </div>\n",
    "        <div class='alternativa_body'>\n",
    "            <div class='comment_box' style=\"font-weight:bold; text-align:justify;font-size:30px\">\n",
    "                <ul style='text-align:justify'>\n",
    "                    <li>\n",
    "                    Todas las fuerzas en el flujo del modelo se escalan por un\n",
    "factor constante a las fuerzas correspondientes el el flujo del\n",
    "prototipo.\n",
    "                    </li>\n",
    "                </u>\n",
    "            </div>\n",
    "                        \n",
    "            <p>Para cumplir con este tipo de similitud se requiere que:</p>\n",
    "            <ul style=\"text-align:justify\">\n",
    "                <li><b>Exista semejanza geométrica</b>. Se debe cumplir con todos los requerimientos para este tipo de similitud.</li>\n",
    "                <li><b>Exista semejanza cinemática</b>. Se debe cumplir con todos los requerimientos para este tipo de similitud.</li>\n",
    "                <li>El escalamiento de las fuerzas debe tener la misma escala lineal que los escalamientos geométrico y cinemático.</li>\n",
    "                <li>Las fuerzas en el modelo tienen la misma escala lineal con las fuerzas del prototipo.</li>\n",
    "            </ul>\n",
    "\n",
    "        </div>\n",
    "    </div>\n",
    "</div>\n",
    "        "
   ]
  },
  {
   "cell_type": "markdown",
   "id": "44c6c6de-5e58-4c19-ba0c-bfec618a051e",
   "metadata": {
    "slideshow": {
     "slide_type": "skip"
    },
    "tags": []
   },
   "source": [
    "#### Similitud dinámica en flujo de fluidos"
   ]
  },
  {
   "cell_type": "raw",
   "id": "c1a8ee28-e0b1-4be9-b704-28b75eb73dfe",
   "metadata": {
    "slideshow": {
     "slide_type": "subslide"
    },
    "tags": []
   },
   "source": [
    "<div class='diapo'>\n",
    "    <div class='alternativa'>\n",
    "        <div class='alternativa_header'>\n",
    "            Similitud dinámica en flujos de fluido\n",
    "        </div>\n",
    "        <div class='alternativa_body'>\n",
    "        <div class=comment_box style=\"text-align:justify;font-size:30px\">\n",
    "        <b>La similitud dinámica corresponde a más restrictivo de los tres\n",
    "tipos, ya que requiere de los otros dos tipos de similitud</b> (de igual forma, la similitud cinemática es más restrictiva que la geométrica). \n",
    "        </div>\n",
    "<p style=\"text-align:justify\">De manera general, dependiendo del tipo de flujo, lograremos la similitud dinámica cuando (suponiendo que se posee similitud geométrica):</p>\n",
    "\n",
    "        <ul style=\"text-align:justify;font-size:28px\"> \n",
    "            <li><b>Flujo compresible</b>: $\\operatorname{Re}$, $\\operatorname{Ma}$ y $k=c_p / c_v$ son iguales para modelo y prototipo.</li>\n",
    "            <li><b>Flujo incompresible sin superficie libre</b>: $\\operatorname{Re}$ es igual para modelo y prototipo.</li>\n",
    "            <li><b>Flujo incompresible con superficie libre</b>: $\\operatorname{Re}$ y $\\operatorname{Fr}$ deben ser iguales para modelo y prototipo. Dependiendo del caso, también $\\operatorname{We}$.</li>\n",
    "        </ul>\n",
    "        </div>\n",
    "    </div>\n",
    "</div>"
   ]
  },
  {
   "cell_type": "markdown",
   "id": "b1ee75d3-2d53-436b-b357-30674d740457",
   "metadata": {
    "slideshow": {
     "slide_type": "skip"
    },
    "tags": []
   },
   "source": [
    "### Similitud incompleta"
   ]
  },
  {
   "cell_type": "raw",
   "id": "ed6ba6f5-6410-47d3-bc24-865ed7a6be3e",
   "metadata": {
    "slideshow": {
     "slide_type": "subslide"
    },
    "tags": []
   },
   "source": [
    "<div class='diapo'>\n",
    "    <div class='base'>\n",
    "        <div class='base header'>\n",
    "            Similitud incompleta\n",
    "        </div>\n",
    "        <div class='base body'>\n",
    "        \n",
    "        <p style='text-align:justify'>\n",
    "        Consideremos el estudio del flujo de un fluido en un canal abierto. Supongamos que  este flujo puede ser caracterizado tan solo mediante el número de Reynolds ($\\operatorname{Re}$) y el número de Froude ($\\operatorname{Fr}$). Para lograr la similitud dinámica se requiere:</p>\n",
    "\n",
    "$$\\color{red}{\\operatorname{Fr}_m = \\operatorname{Fr}} \\qquad\\land\\qquad \\color{blue}{\\operatorname{Re}_m = \\operatorname{Re}}$$\n",
    "\n",
    "            <table style=\"font-size:24px; width:100%\">\n",
    "                <tr style=\"vertical-align:top\">\n",
    "                    <td style=\"width:50%;text-align:justify;background-color:rgba(110,110,110,0.1);padding-right:30px;border:0px solid black\">\n",
    "                         La similitud del <b>número de Froude</b> requiere:\n",
    "\n",
    "                        $${\\color{red}{\\frac{V_m}{\\sqrt{g_m L_m}} = \\frac{V}{\\sqrt{gL}}}}$$\n",
    "\n",
    "                    </td>\n",
    "                    <td style=\"width:50%;background-color:rgba(50,50,50,0.2);padding-left:30px;border:0px solid black\">\n",
    "                        La similitud del <b>número de Reynolds</b> requiere:\n",
    "\n",
    "                        $${\\color{blue}{\\frac{\\rho_m V_m L_m}{\\mu_m} = \\frac{\\rho V L}{\\mu}}}$$\n",
    "                    </td>\n",
    "                </tr>\n",
    "                <tr style=\"vertical-align:top\">\n",
    "                    <td style=\"width:50%;text-align:justify;background-color:rgba(110,110,110,0.1);padding-right:30px;border:0px solid black\">\n",
    "                         Ya que tanto modelo y prototipo son operados en el mismo campo gravitacional, la escala de velocidad es:\n",
    "\n",
    "                    </td>\n",
    "                    <td style=\"width:50%;background-color:rgba(50,50,50,0.2);padding-left:30px ;border:0px solid black\">\n",
    "                         La escala de velocidad en base a este número es:\n",
    "                    </td>\n",
    "                </tr>\n",
    "                <tr style=\"vertical-align:top\">\n",
    "                    <td style=\"width:50%;text-align:justify;background-color:rgba(110,110,110,0.1);padding-right:30px;border:0px solid black\">\n",
    "                        $$\\color{red}{\\frac{V_m}{V} = \\sqrt{\\frac{L_m}{L}}=\\sqrt{\\lambda_L}}$$\n",
    "                    </td>\n",
    "                    <td style=\"width:50%;background-color:rgba(50,50,50,0.2);padding-left:30px;padding-right:0px\">\n",
    "                        $$\\color{blue}{\\frac{V_m}{V} = \\frac{\\mu_m}{\\mu} \\frac{\\rho}{\\rho_m} \\frac{L}{L_m}}$$\n",
    "                    </td>\n",
    "                </tr>\n",
    "            </table>\n",
    "        </div>\n",
    "    </div>\n",
    "</div>"
   ]
  },
  {
   "cell_type": "raw",
   "id": "a01b1ff7-09f4-44fb-a1d3-6089a50c06b6",
   "metadata": {
    "slideshow": {
     "slide_type": "subslide"
    },
    "tags": []
   },
   "source": [
    "<div class='diapo'>\n",
    "    <div class='alternativa'>\n",
    "        <div class='alternativa_body'>\n",
    "            <table style=\"font-size:25px; text-align:justify;width=100%\">\n",
    "                <tr>\n",
    "                    <td style=\"width:55%;text-align:justify\">\n",
    "                        <p>\n",
    "                            Considerando que la escala de velocidad debe ser determinada a partir de la similitud para los números de <b>Froude</b> y de <b>Reynolds</b>:\n",
    "                        </p>\n",
    "                        $$\\color{blue}{\\frac{\\mu_m}{\\mu} \\frac{\\rho}{\\rho_m} \\frac{L}{L_m}}=\\color{red}{\\sqrt{\\frac{L_m}{L}}}=\\color{red}{\\sqrt{\\lambda_m}}$$\n",
    "                        <p> De esta forma:</p>\n",
    "                        $$\\frac{\\mu_m / \\rho_m}{\\mu / \\rho}=\\frac{\\nu_m}{\\nu}=\\left(\\lambda_m\\right)^{3 / 2}$$\n",
    "                        <p>\n",
    "                            La cual establece que para lograr similitud dinámica, se debe utilizar un fluido cuya viscosidad cinemática $\\nu_m$ cumpla:\n",
    "                        </p>\n",
    "                            \\begin{equation*}\n",
    "                            \\nu_m=\\nu\\left(\\lambda_m\\right)^{3 / 2}\n",
    "                            \\end{equation*}\n",
    "                        <p style=\"font-weight:bold; color:red\">\n",
    "                            Lo cual puede ser muy difícil (o imposible!).\n",
    "                        </p>\n",
    "                    </td>\n",
    "                    <td>\n",
    "                    <div class='comment_box'>\n",
    "                    <p style=\"text-align:center; font-weight:bold\"> Ejemplo </p>\n",
    "                    <p style=\"text-align:justify\">\n",
    "                    Supongamos que deseamos estudiar el flujo de agua en un canal abierto. Para esto, decidimos crear un modelo en una escala de $1/8$. La viscosidad cinemática del fluido a utilizar en el modelo debiese ser </p>\n",
    "                    $$\n",
    "                    \\begin{aligned}\n",
    "                    \\nu_m &= \\nu_{\\text{agua}}\\left(1/8\\right)^{3/2} \\\\\n",
    "                          &= 0.0442\\nu_{\\text{agua}}\n",
    "                    \\end{aligned}\n",
    "                    $$ \n",
    "                      \n",
    "                    <p style=\"text-align:justify\">\n",
    "                    Entones, deberemos emplear un líquido que cumpla con este requerimiento (<b>¡pero antes deberemos encontrarlo!</b>).\n",
    "                    </p>\n",
    "                    </td>\n",
    "                </tr>\n",
    "            </table>\n",
    "   \n",
    "        </div>\n",
    "    </div>\n",
    "</div>\n",
    "        "
   ]
  },
  {
   "cell_type": "markdown",
   "id": "07daaa08-a1a3-44a9-9892-a8b915a57e0d",
   "metadata": {
    "slideshow": {
     "slide_type": "skip"
    },
    "tags": []
   },
   "source": [
    "## Aplicación a bombas centrífugas: Leyes de Semejanza"
   ]
  },
  {
   "cell_type": "raw",
   "id": "d96f9ecd-702a-4d65-a208-f3442998ec61",
   "metadata": {
    "slideshow": {
     "slide_type": "subslide"
    },
    "tags": []
   },
   "source": [
    "<div class='diapo'>\n",
    "    <div class='base'>\n",
    "        <div class='base header' style='font-size:42px'>\n",
    "            Aplicación a bombas centrífugas: Leyes de Semejanza\n",
    "        </div>\n",
    "        <div class='base body'>\n",
    "            <table style='width:100%;\n",
    "                            font-size:25px;\n",
    "                            background-color:rgba(0,0,0,0.05);\n",
    "                            border: 0px'>\n",
    "                <tr style='border:0px'>\n",
    "                    <td style='width:55%;\n",
    "                                padding:15px; \n",
    "                                border:0px'>\n",
    "                        <p style='text-align:justify'>\n",
    "                            A partir del <b>teorema Pi de Buckingham</b> obtuvimos la siguiente relación funcional para las variables que rigen el comportamiento de una bomba centrífuga:\n",
    "                        </p>\n",
    "                    </td>\n",
    "                    <td style='border:0px'>\n",
    "                        \\begin{equation*}\n",
    "                            \\color{blue}{\\frac{gh_A}{D^2\\omega^2}} {= \\color{black}f\\left( {\\color{red}{ \\frac{\\rho (\\omega D) D}{\\mu}}},{\\color{magenta}{\\frac{Q}{D^3 \\omega}}},{\\color{green}{\\frac{\\epsilon}{D}}}\\right)}\n",
    "                        \\end{equation*}\n",
    "                    </td>\n",
    "                </tr>\n",
    "            </table>\n",
    "                    <table style='font-size:25px'>\n",
    "            <tr style='vertical-align:top'>\n",
    "                <td style='background-color:rgba(0,0,255,0.1);\n",
    "                            text-align:justify'>\n",
    "                    El término en <span style='color:blue'>azul</span> se denomina <b>coeficiente de carga hidrostática $C_H$</b>\n",
    "                    $$C_H = \\frac{gh_A}{D^2\\omega^2}$$\n",
    "                </td>\n",
    "                <td style='background-color:rgba(255,0,0,0.1);\n",
    "                            text-align:justify'>\n",
    "                    El término en <span style='color:red'>rojo</span> es el <b>número de Reynolds</b> $\\operatorname{Re}$, con velocidad características $\\omega D$:\n",
    "                    $$\\operatorname{Re} = \\frac{\\rho (\\omega D) D}{\\mu}$$\n",
    "                </td>\n",
    "                <td style='background-color:rgba(255,0,255,0.1);\n",
    "                            text-align:justify'>\n",
    "                    El término en <span style='color:magenta'>magenta</span> se denomina <b>coeficiente de capacidad</b> $C_Q$\n",
    "                    $$C_Q = \\frac{Q}{D^3 \\omega}$$\n",
    "                </td>\n",
    "                <td style='background-color:rgba(0,255,0,0.1);\n",
    "                            text-align:justify'>\n",
    "                    El término en <span style='color:green'>verde</span> se denomina <b>rugosidad relativa</b> $\\epsilon/D$\n",
    "                </td>\n",
    "            </tr>\n",
    "        </table>\n",
    "</div>\n",
    "</div>\n",
    "</div>"
   ]
  },
  {
   "cell_type": "raw",
   "id": "8ebace3f-c54f-4245-8dc0-4e7377cdc0d8",
   "metadata": {
    "slideshow": {
     "slide_type": "subslide"
    },
    "tags": []
   },
   "source": [
    "<div class='diapo'>\n",
    "    <div class='base'>\n",
    "        <div class='base header'>\n",
    "        \n",
    "        </div>\n",
    "        <div class='base body'>\n",
    "            \n",
    "            <p style='text-align:justify;margin-left:15px'>\n",
    "                            Bajo el supuesto de que existe similitud entre:\n",
    "                            <ul style='text-align:justify;'> \n",
    "                                <li> <b>modelo (1)</b>: correspondiente a la bomba cuya curva de rendimiento fue caracterizada.\n",
    "                                </li>\n",
    "                                <li> <b>prototipo (2)</b>: la condición de operación o bomba que deseamos predecir.\n",
    "                                </li>\n",
    "                            </ul>\n",
    "                        podemos establecer:\n",
    "                        </p>\n",
    "                        <center>\n",
    "                            <div class='comment_box' style='width:100%'>\n",
    "\n",
    "                                <table style='font-size:25px;width:100%'>\n",
    "                                    <tr style='vertical-align:top'>\n",
    "                                        <td>\n",
    "                                        Si: \n",
    "                                $$\\begin{aligned}\n",
    "                                \\left(\\frac{\\mu}{\\rho \\omega D^2}\\right)_1 &= \\left(\\frac{\\mu}{\\rho \\omega D^2}\\right)_2 \\\\[6pt]\n",
    "                                \\left(\\frac{Q}{D^3 \\omega}\\right)_1 &= \\left(\\frac{Q}{D^3 \\omega}\\right)_2 \\\\[6pt]\n",
    "                                \\left(\\frac{\\epsilon}{D}\\right)_1 &= \\left(\\frac{\\epsilon}{D}\\right)_2\n",
    "                                \\end{aligned}$$\n",
    "                                    </td>\n",
    "                                    <td>\n",
    "                                Entonces:\n",
    "\n",
    "                                $$\\left(\\frac{gh_A}{D^2\\omega^2}\\right)_1 = \\left(\\frac{gh_A}{D^2\\omega^2}\\right)_2$$\n",
    "                                </td>\n",
    "                                </tr>\n",
    "                                </table>\n",
    "                            </div>\n",
    "                        </center>\n",
    "        </div>\n",
    "    </div>\n",
    "</div>"
   ]
  },
  {
   "cell_type": "raw",
   "id": "5c9ff2fe-5f9e-43e2-83cd-af28b473c767",
   "metadata": {
    "slideshow": {
     "slide_type": "subslide"
    },
    "tags": []
   },
   "source": [
    "<div class='diapo'>\n",
    "    <div class='base'>\n",
    "        <div class='base header'>\n",
    "        \n",
    "        </div>\n",
    "        <div class='base body'>\n",
    "            La expresión anterior requiere igualar al menos tres grupos adimensionales, con tal de predecir un cuarto. A pesar de esto, es común hacer las siguientes simplificaciones:\n",
    "                \n",
    "            <ul style='text-align:justify'>\n",
    "                <li> <b>El efecto del número de Reynolds $\\operatorname{Re}$ sobre el coeficiente de carga hidrostática generalmente se considera como constante</b>.</li>\n",
    "                <li> Es efecto de la <b>rugosidad relativa $\\epsilon/D$</b> se supone más o menos constante</b> </li>\n",
    "            </ul>\n",
    "            De esta forma, al analizar la similitud entre modelo y prototipo nos limitamos a establecer:\n",
    "\n",
    "            $$C_H = f(C_Q)$$\n",
    "\n",
    "            <table style='font-size:25px'>\n",
    "                <tr>\n",
    "                    <td>\n",
    "                        <center>\n",
    "                        <div class='comment_box'>\n",
    "                            Si: \n",
    "\n",
    "                        $$\n",
    "                        \\left(\\frac{Q}{D^3 \\omega}\\right)_1 = \\left(\\frac{Q}{D^3 \\omega}\\right)_2 \n",
    "                        $$\n",
    "\n",
    "                        Entonces:\n",
    "\n",
    "                        $$\\left(\\frac{gh_A}{D^2\\omega^2}\\right)_1 = \\left(\\frac{gh_A}{D^2\\omega^2}\\right)_2$$\n",
    "\n",
    "                        </div>\n",
    "                        </center>\n",
    "                    </td>\n",
    "                    <td>\n",
    "                        <center>\n",
    "                            <div class='equation_box'>\n",
    "                                Al reordenar la primera expresión\n",
    "                                \n",
    "                                \\begin{equation*}\n",
    "\\frac{Q_2}{Q_1}=\\frac{\\omega_2}{\\omega_1}\\left(\\frac{D_2}{D_1}\\right)^3\n",
    "\\end{equation*}\n",
    "\n",
    "y al reordenar la segunda expresión (con $g_1=g_2$):\n",
    "\n",
    "\\begin{equation*}\n",
    "\\frac{h_2}{h_1}=\\left(\\frac{\\omega_2}{\\omega_1}\\right)^2\\left(\\frac{D_2}{D_1}\\right)^2\n",
    "\\end{equation*}\n",
    "                                \n",
    "                                \n",
    "                            </div>\n",
    "                        </center>\n",
    "                    </td>\n",
    "                </tr>\n",
    "            </table>\n",
    "        </div>\n",
    "    </div>\n",
    "</div>"
   ]
  },
  {
   "cell_type": "markdown",
   "id": "6a10efcc-527f-4abf-a450-14d13c892a5e",
   "metadata": {
    "slideshow": {
     "slide_type": "skip"
    },
    "tags": []
   },
   "source": [
    "#### Notas"
   ]
  },
  {
   "cell_type": "raw",
   "id": "449f9339-d764-48da-910b-9b45cccd0609",
   "metadata": {
    "slideshow": {
     "slide_type": "notes"
    },
    "tags": []
   },
   "source": [
    "<ul>\n",
    "    <li>\n",
    "        Las bombas, por lo general, trabajan a números de Reynolds elevados (de $0.8$ a $1.5\\times 10^7$), con flujos completamente turbulentos. Ya que un cambio en la condición de operación implicaría un cambio en este parámetro relativamente pequeño (esto en especial considerando la magitud elevada a la cual se trabaja). Es por esto que <b>El efecto del número de Reynolds sobre el coeficiente de carga hidrostática generalmente se considera como constante</b>.\n",
    "    </li>\n",
    "    <li> La rugosidad relativa $\\epsilon/D$ por lo general es desconocida y varía al comparar bombas, pero debido al alto número de Reynolds al cual se trabaja, se espera que su <b>efecto se mantega más o menos constante</b> </li>\n",
    "</ul>"
   ]
  },
  {
   "cell_type": "raw",
   "id": "3218fce5-8a55-4174-ae34-97379d5478f8",
   "metadata": {
    "slideshow": {
     "slide_type": "subslide"
    },
    "tags": []
   },
   "source": [
    "<div class='diapo'>\n",
    "    <div class='base'>\n",
    "        <div class='base header'>\n",
    "            Leyes de semejanza para turbomáquinas\n",
    "        </div>\n",
    "        <div class='base body'>\n",
    "            <table style='font-size:24px;\n",
    "                            width:100%'>\n",
    "                <tr style='vertical-align:top'>\n",
    "                    <td style='width:33%;\n",
    "                                background-color:rgba(255,0,0,0.1);\n",
    "                                border:2px solid black;'>\n",
    "                        \\begin{equation*}\n",
    "                        \\frac{Q_2}{Q_1}=\\frac{\\omega_2}{\\omega_1}\\left(\\frac{D_2}{D_1}\\right)^3\n",
    "                        \\end{equation*}\n",
    "                    </td>\n",
    "                    <td style='width:33%;\n",
    "                                background-color:rgba(0,0,255,0.1);\n",
    "                                border:2px solid black;'>\n",
    "                        \\begin{equation*}\n",
    "                        \\frac{h_2}{h_1}=\\left(\\frac{\\omega_2}{\\omega_1}\\right)^2\\left(\\frac{D_2}{D_1}\\right)^2\n",
    "                        \\end{equation*}\n",
    "                    </td>\n",
    "                    <td style='width:33%;\n",
    "                                background-color:rgba(0,255,0,0.1);\n",
    "                                border:2px solid black;'>\n",
    "                        \\begin{equation*}\n",
    "                        \\frac{P_2}{P_1}=\\frac{\\rho_2}{\\rho_1}\\left(\\frac{\\omega_2}{\\omega_1}\\right)^3\\left(\\frac{D_2}{D_1}\\right)^5\n",
    "                        \\end{equation*}\n",
    "                    </td>\n",
    "                </tr>\n",
    "            </table>\n",
    "            <p style='text-align:justify'>\n",
    "                Estas expresiones permiten relacionar <b>puntos homólogos</b> entre modelo y prototipo (puntos en los que existe similitud).\n",
    "            </p>\n",
    "            <p style='text-align:justify'>\n",
    "                Las dos expresiones anteriores son denominadas <b>Leyes de semejanza o de afinidad </b> y son válidas para bombas y turbinas. \n",
    "            </p>\n",
    "        \n",
    "        </div>\n",
    "    </div>\n",
    "</div>"
   ]
  },
  {
   "cell_type": "markdown",
   "id": "928923ce-fa67-4135-bcae-d4c914c1fcb2",
   "metadata": {
    "slideshow": {
     "slide_type": "skip"
    },
    "tags": []
   },
   "source": [
    "### Aplicación: Efecto del cambio de la velocidad del impulsor sobre la curva de rendimiento de la bomba"
   ]
  },
  {
   "cell_type": "raw",
   "id": "3625182a-70ae-4f64-a7f0-3ae961eab3db",
   "metadata": {
    "slideshow": {
     "slide_type": "subslide"
    },
    "tags": []
   },
   "source": [
    "<div class='diapo'>\n",
    "    <div class='base'>\n",
    "        <div class='base header'>\n",
    "        Aplicación: Efecto del cambio de la velocidad del impulsor sobre la curva de rendimiento de la bomba\n",
    "        </div>\n",
    "        <div class='base body'>\n",
    "            <table style='font-size:25px;\n",
    "                            width:100%'>\n",
    "                <tr style='vertical-align:top'>\n",
    "                    <td style='width:60%'>\n",
    "                        <p style='text-align:justify'>\n",
    "                            En el siguiente ejemplo se escala la curva de rendimiento de una bomba para distintos valores de $\\omega$, a partir de la curva de rendimiento medida para $\\omega=2900\\,\\text{rmpm}$. El diámetro del impulsor (y la geometría) de la bomba se mantienen constantes. De esta forma, las leyes de afinidad se reducen a:\n",
    "                        </p>        \n",
    "                    </td>\n",
    "                    <td>\n",
    "                        <div class='comment_box'>\n",
    "                            <ul> \n",
    "                                <li>\n",
    "                                    <b> Capacidad</b>\n",
    "                                    $$Q_2 = Q_1\\frac{\\omega_2}{\\omega_1}$$\n",
    "                                </li>\n",
    "                                <li>\n",
    "                                    <b> Capacidad de carga </b>\n",
    "                                    $$h_2 = h_1\\left(\\frac{\\omega_2}{\\omega_1}\\right)^2$$\n",
    "                                </li>\n",
    "                            </ul>\n",
    "                        </div>\n",
    "                    </td>\n",
    "                </tr>\n",
    "            </table>\n",
    "        </div>\n",
    "    </div>\n",
    "</div>"
   ]
  },
  {
   "cell_type": "code",
   "execution_count": 2,
   "id": "15ba6d39-6a24-472d-b77d-4cc1f74126e0",
   "metadata": {
    "slideshow": {
     "slide_type": "skip"
    },
    "tags": []
   },
   "outputs": [],
   "source": [
    "%matplotlib widget\n",
    "import pandas as pd\n",
    "import ipywidgets as widgets\n",
    "import matplotlib.pyplot as plt\n",
    "import numpy as np\n",
    "\n",
    "layout_box_base = widgets.Layout(width='100%',justify_content='center',align_items='center')"
   ]
  },
  {
   "cell_type": "code",
   "execution_count": 3,
   "id": "9516fb22-ff9d-457e-b2e5-77ae79073e7a",
   "metadata": {
    "slideshow": {
     "slide_type": "skip"
    },
    "tags": []
   },
   "outputs": [],
   "source": [
    "def extract_data_pump(file_n):\n",
    "    data_pump=pd.read_csv(file_n,sep=',')\n",
    "    \n",
    "    data_plot = {}\n",
    "\n",
    "    for i in range(int(len(data_pump.columns)/2)): \n",
    "        qpump = np.asarray(data_pump[data_pump.columns[2*i]][1:],np.float32) \n",
    "        qpump = qpump[~np.isnan(qpump)]\n",
    "        hpump = np.asarray(data_pump[data_pump.columns[2*i+1]][1:],np.float32)\n",
    "        hpump = hpump[~np.isnan(hpump)]\n",
    "        data_plot[data_pump.columns[2*i]]= [qpump,hpump]\n",
    "                                  \n",
    "    data_fit = {}\n",
    "    for i in data_plot:\n",
    "        zfit = np.polyfit(data_plot[i][0],data_plot[i][1],2)\n",
    "        pfit = np.poly1d(zfit)\n",
    "        data_fit[i] = pfit\n",
    "        \n",
    "    return data_pump, data_plot, data_fit\n",
    "\n",
    "data_pump,data_plot, data_fit = extract_data_pump('./40_200_2900.csv')\n",
    "data_pump1450, data_plot1450, data_fit1450 = extract_data_pump('40_200_1450.csv')"
   ]
  },
  {
   "cell_type": "code",
   "execution_count": 4,
   "id": "da6bd4f5-edd7-4db8-99dd-f0b6de3f6353",
   "metadata": {
    "slideshow": {
     "slide_type": "skip"
    },
    "tags": []
   },
   "outputs": [],
   "source": [
    "def plot_bomba(ar,dp):\n",
    "    \n",
    "    out_p = widgets.Output()\n",
    "    with plt.ioff():\n",
    "        fig = plt.figure(figsize=ar,dpi=dp)\n",
    "        ax= fig.add_subplot(111)\n",
    "        fig.canvas.header_visible = False\n",
    "        fig.canvas.footer_visible = False\n",
    "        fig.canvas.toolbar_visible = False\n",
    "        # fig.canvas.layout.width = '100%'\n",
    "        # fig.canvas.layout.height = '900px'\n",
    "\n",
    "    with out_p:\n",
    "        display(fig.canvas)\n",
    "\n",
    "    qplot = np.linspace(0,max(data_plot['219'][0]),1000)\n",
    "    l1, = ax.plot(qplot,data_fit['219'](qplot),linewidth=2,color='k')\n",
    "    t1 = ax.text(1,66,'219')\n",
    "\n",
    "    qplot = np.linspace(0,max(data_plot['206'][0]),1000)\n",
    "    l2, = ax.plot(qplot,data_fit['206'](qplot),linewidth=2,color='k')\n",
    "    t2 = ax.text(1,57,'206')\n",
    "\n",
    "    qplot = np.linspace(0,max(data_plot['188'][0]),1000)\n",
    "    l3, = ax.plot(qplot,data_fit['188'](qplot),linewidth=2,color='k')\n",
    "    t3 = ax.text(1,46,'188')\n",
    "\n",
    "    qplot = np.linspace(0,max(data_plot['172'][0]),1000)\n",
    "    l4, = ax.plot(qplot,data_fit['172'](qplot),linewidth=2,color='k')\n",
    "    t4 = ax.text(1,38,'172')\n",
    "\n",
    "\n",
    "    ax2=ax.twinx()\n",
    "    ax2.set_ylim(0,18)\n",
    "    ax2.set_yticks(np.arange(0,8,2))\n",
    "\n",
    "    qplot=np.linspace(min(data_plot['NPSH'][0]),max(data_plot['NPSH'][0]),1000)\n",
    "    l5, = ax2.plot(qplot,data_fit['NPSH'](qplot),linewidth=2,color='k')\n",
    "\n",
    "    ax2.set_ylabel('NPSH',fontsize=14)\n",
    "    ax.set_ylabel('H (m)',fontsize=14)\n",
    "    ax.set_xlabel('Q (m$^3$/h)',fontsize=14)\n",
    "\n",
    "    ax.set_xticks(np.arange(-200,200,10))\n",
    "    ax.set_xticks(np.arange(-200,200,5),minor='True')\n",
    "\n",
    "    ax.set_yticks(np.arange(-200,200,10))\n",
    "    ax.set_yticks(np.arange(-200,200,5),minor='True')\n",
    "\n",
    "\n",
    "    ax2.yaxis.set_label_coords(1.08,0.20)\n",
    "    ax.grid(alpha=0.8,which='major')\n",
    "    ax.grid(alpha=0.8,which='minor')\n",
    "    ax.set_xlim(0,70)\n",
    "    ax.set_ylim(0,90)\n",
    "\n",
    "\n",
    "\n",
    "    # ### NPSH_r\n",
    "    # ax2.plot([80,80],[0,NPSH_r],'C0--')\n",
    "    # ax2.plot([80,180],[NPSH_r,NPSH_r],'C0--')\n",
    "\n",
    "    plt.tight_layout()\n",
    "    ax.set_title('N 40-200')\n",
    "    plt.tight_layout()\n",
    "\n",
    "    return out_p,fig, ax, ax2, [l1,l2,l3,l4,l5], [t1,t2,t3,t4]\n",
    "\n",
    "# out1,fig1,ax1, ax12, lines1, text1 = plot_bomba((5,3),150)\n",
    "\n",
    "# box1 = widgets.Box(children=[out1],layout=layout_box_base)\n",
    "# display(box1)"
   ]
  },
  {
   "cell_type": "raw",
   "id": "5ee83b41-3e47-4b5d-86a5-759b7d6833c8",
   "metadata": {
    "slideshow": {
     "slide_type": "subslide"
    },
    "tags": []
   },
   "source": [
    "<div class='diapo'>\n",
    "    <div class='base body'>"
   ]
  },
  {
   "cell_type": "code",
   "execution_count": 5,
   "id": "86e8f956-5b57-4f4d-94d5-66aff3b6e732",
   "metadata": {
    "tags": []
   },
   "outputs": [
    {
     "data": {
      "application/vnd.jupyter.widget-view+json": {
       "model_id": "1a1882593b904792bbbd973c0e326fe0",
       "version_major": 2,
       "version_minor": 0
      },
      "text/plain": [
       "HBox(children=(Output(), VBox(children=(Label(value='$\\\\omega$ (rpm):', layout=Layout(width='100px')), FloatSl…"
      ]
     },
     "metadata": {},
     "output_type": "display_data"
    }
   ],
   "source": [
    "out_cvf, fig_cvf,ax_cvf, ax_cvf2, lines_cvf, text_cvf = plot_bomba((5,4),130)\n",
    "\n",
    "fig_cvf.canvas.header_visible = False\n",
    "fig_cvf.canvas.footer_visible = False\n",
    "fig_cvf.canvas.toolbar_visible = False\n",
    "\n",
    "\n",
    "for i in lines_cvf[1:]:\n",
    "    i.set_alpha(0)\n",
    "for i in text_cvf[1:]:\n",
    "    i.set_text('')\n",
    "text_cvf[0].set_text('2900 RPM')\n",
    "# text_cvf[0].set_color('red')\n",
    "ax_cvf2.set_yticks([])\n",
    "ax_cvf2.set_ylabel('')\n",
    "\n",
    "# h_A_sist = ha(Q_sist,10)[0]\n",
    "# q_op = EO_Q(10,'219')\n",
    "# ha_op = ha(q_op,10)[0]\n",
    "\n",
    "qplot = np.linspace(0,max(data_plot['219'][0]),1000)\n",
    "hplot = data_fit['219'](qplot)\n",
    "ax_cvf.plot(qplot,hplot,color='black',zorder=0,dashes=(2,2))\n",
    "\n",
    "\n",
    "qplot = np.linspace(0,max(data_plot1450['219'][0]),1000)\n",
    "hplot = data_fit1450['219'](qplot)\n",
    "ax_cvf.plot(qplot,hplot,color='black',zorder=0,dashes=(2,2))\n",
    "ax_cvf.text(1,17,'1450 RPM')\n",
    "\n",
    "# ax_cvf.plot(Q_sist,h_A_sist,'C1-',label='Curva de operación')\n",
    "\n",
    "# p_opvf, = ax_cvf.plot(q_op,ha_op,'*',markersize=10,color='C0')\n",
    "# ax_cvf.plot([40,40],[0,90],'-',color='green',dashes=(2,2))\n",
    "\n",
    "\n",
    "\n",
    "def updatecvf(N):\n",
    "    qplot = np.linspace(0,max(data_plot['219'][0]),1000)\n",
    "    hplot = data_fit['219'](qplot)\n",
    "    \n",
    "    qplot=qplot*N/2900\n",
    "    hplot=hplot*(N/2900)**2\n",
    "    \n",
    "    lines_cvf[0].set_data(qplot,hplot)\n",
    "    # try:\n",
    "    #     q_opn =  EO_QN(N,10,'219',qplot,hplot)\n",
    "    #     h_opn =  ha(q_opn,10)[0]\n",
    "    # except:\n",
    "    #     q_opn=10**3\n",
    "    #     h_opn=10**3\n",
    "    # p_opvf.set_data(q_opn,h_opn)\n",
    "    \n",
    "    \n",
    "\n",
    "sli_N = widgets.FloatSlider(\n",
    "    value=2900,\n",
    "    min=900,\n",
    "    max=3600.0,\n",
    "    step=1,\n",
    "    description=' ',\n",
    "    disabled=False,\n",
    "    continuous_update=True,\n",
    "    orientation='horizontal',\n",
    "    readout=True,\n",
    "    readout_format='.0f',\n",
    "    layout=widgets.Layout(width='200px'),\n",
    "    style = {'description_width': '0px'}\n",
    ")\n",
    "\n",
    "updatecvf(2900)\n",
    "widgets.interactive(updatecvf,N=sli_N)\n",
    "\n",
    "boxcf_r =  widgets.VBox(children=[widgets.Label(r'$\\omega$ (rpm):',layout=widgets.Layout(width='100px')),sli_N],layout=widgets.Layout(width='250px',justify_content='flex-start'))\n",
    "boxcvf = widgets.HBox(children = [out_cvf,boxcf_r],\n",
    "                      layout=widgets.Layout(width='95%',justify_content='center',align_items='center'))\n",
    "display(boxcvf)"
   ]
  },
  {
   "cell_type": "raw",
   "id": "28a135dd-e004-40f0-810e-0f0782ee5363",
   "metadata": {},
   "source": [
    "</div>\n",
    "</div>"
   ]
  }
 ],
 "metadata": {
  "kernelspec": {
   "display_name": "Python 3 (ipykernel)",
   "language": "python",
   "name": "python3"
  },
  "language_info": {
   "codemirror_mode": {
    "name": "ipython",
    "version": 3
   },
   "file_extension": ".py",
   "mimetype": "text/x-python",
   "name": "python",
   "nbconvert_exporter": "python",
   "pygments_lexer": "ipython3",
   "version": "3.9.13"
  },
  "widgets": {
   "application/vnd.jupyter.widget-state+json": {
    "state": {},
    "version_major": 2,
    "version_minor": 0
   }
  }
 },
 "nbformat": 4,
 "nbformat_minor": 5
}
