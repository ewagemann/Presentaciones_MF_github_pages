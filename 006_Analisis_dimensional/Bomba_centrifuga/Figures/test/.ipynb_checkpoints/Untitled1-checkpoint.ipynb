{
 "cells": [
  {
   "cell_type": "code",
   "execution_count": 1,
   "metadata": {},
   "outputs": [],
   "source": [
    "import numpy as np\n",
    "import scipy.optimize"
   ]
  },
  {
   "cell_type": "code",
   "execution_count": 2,
   "metadata": {},
   "outputs": [],
   "source": [
    "def cole_turb(e_d):\n",
    "    return (-2*np.log10(e_d/3.7))**-2\n",
    "\n",
    "def coleb(Re,e_d):\n",
    "    eqf = lambda f : f**-0.5+2*np.log10(e_d/3.7+2.51/Re/f**0.5)\n",
    "    ffact = scipy.optimize.newton(eqf,cole_turb(e_d))\n",
    "    return ffact"
   ]
  },
  {
   "cell_type": "code",
   "execution_count": 7,
   "metadata": {},
   "outputs": [
    {
     "name": "stdout",
     "output_type": "stream",
     "text": [
      "44.96568914956012\n"
     ]
    },
    {
     "ename": "RuntimeError",
     "evalue": "Tolerance of 1.216911809076849e+48 reached. Failed to converge after 14 iterations, value is 1.2169118090769538e+48.",
     "output_type": "error",
     "traceback": [
      "\u001b[0;31m---------------------------------------------------------------------------\u001b[0m",
      "\u001b[0;31mRuntimeError\u001b[0m                              Traceback (most recent call last)",
      "\u001b[0;32m<ipython-input-7-26f4a16404cd>\u001b[0m in \u001b[0;36m<module>\u001b[0;34m\u001b[0m\n\u001b[1;32m     63\u001b[0m     \u001b[0;32mreturn\u001b[0m \u001b[0mha\u001b[0m\u001b[0;34m\u001b[0m\u001b[0;34m\u001b[0m\u001b[0m\n\u001b[1;32m     64\u001b[0m \u001b[0;34m\u001b[0m\u001b[0m\n\u001b[0;32m---> 65\u001b[0;31m \u001b[0mha_req\u001b[0m \u001b[0;34m=\u001b[0m \u001b[0mha_func\u001b[0m\u001b[0;34m(\u001b[0m\u001b[0mQ\u001b[0m\u001b[0;34m)\u001b[0m\u001b[0;34m\u001b[0m\u001b[0;34m\u001b[0m\u001b[0m\n\u001b[0m",
      "\u001b[0;32m<ipython-input-7-26f4a16404cd>\u001b[0m in \u001b[0;36mha_func\u001b[0;34m(q)\u001b[0m\n\u001b[1;32m     47\u001b[0m     \u001b[0;31m# succion\u001b[0m\u001b[0;34m\u001b[0m\u001b[0;34m\u001b[0m\u001b[0;34m\u001b[0m\u001b[0m\n\u001b[1;32m     48\u001b[0m     \u001b[0mRes\u001b[0m \u001b[0;34m=\u001b[0m \u001b[0mrho\u001b[0m\u001b[0;34m*\u001b[0m\u001b[0mvs\u001b[0m\u001b[0;34m*\u001b[0m\u001b[0mDs\u001b[0m\u001b[0;34m/\u001b[0m\u001b[0mmu\u001b[0m\u001b[0;34m\u001b[0m\u001b[0;34m\u001b[0m\u001b[0m\n\u001b[0;32m---> 49\u001b[0;31m     \u001b[0mfs\u001b[0m \u001b[0;34m=\u001b[0m \u001b[0mcoleb\u001b[0m\u001b[0;34m(\u001b[0m\u001b[0mRes\u001b[0m\u001b[0;34m,\u001b[0m\u001b[0me_ds\u001b[0m\u001b[0;34m)\u001b[0m\u001b[0;34m\u001b[0m\u001b[0;34m\u001b[0m\u001b[0m\n\u001b[0m\u001b[1;32m     50\u001b[0m     \u001b[0mhls\u001b[0m \u001b[0;34m=\u001b[0m \u001b[0mvs\u001b[0m\u001b[0;34m**\u001b[0m\u001b[0;36m2\u001b[0m\u001b[0;34m/\u001b[0m\u001b[0;36m2\u001b[0m\u001b[0;34m/\u001b[0m\u001b[0mg\u001b[0m\u001b[0;34m*\u001b[0m\u001b[0mfs\u001b[0m\u001b[0;34m/\u001b[0m\u001b[0mLs\u001b[0m\u001b[0;34m/\u001b[0m\u001b[0mDs\u001b[0m\u001b[0;34m\u001b[0m\u001b[0;34m\u001b[0m\u001b[0m\n\u001b[1;32m     51\u001b[0m \u001b[0;34m\u001b[0m\u001b[0m\n",
      "\u001b[0;32m<ipython-input-2-ca8404bf707b>\u001b[0m in \u001b[0;36mcoleb\u001b[0;34m(Re, e_d)\u001b[0m\n\u001b[1;32m      4\u001b[0m \u001b[0;32mdef\u001b[0m \u001b[0mcoleb\u001b[0m\u001b[0;34m(\u001b[0m\u001b[0mRe\u001b[0m\u001b[0;34m,\u001b[0m\u001b[0me_d\u001b[0m\u001b[0;34m)\u001b[0m\u001b[0;34m:\u001b[0m\u001b[0;34m\u001b[0m\u001b[0;34m\u001b[0m\u001b[0m\n\u001b[1;32m      5\u001b[0m     \u001b[0meqf\u001b[0m \u001b[0;34m=\u001b[0m \u001b[0;32mlambda\u001b[0m \u001b[0mf\u001b[0m \u001b[0;34m:\u001b[0m \u001b[0mf\u001b[0m\u001b[0;34m**\u001b[0m\u001b[0;34m-\u001b[0m\u001b[0;36m0.5\u001b[0m\u001b[0;34m+\u001b[0m\u001b[0;36m2\u001b[0m\u001b[0;34m*\u001b[0m\u001b[0mnp\u001b[0m\u001b[0;34m.\u001b[0m\u001b[0mlog10\u001b[0m\u001b[0;34m(\u001b[0m\u001b[0me_d\u001b[0m\u001b[0;34m/\u001b[0m\u001b[0;36m3.7\u001b[0m\u001b[0;34m+\u001b[0m\u001b[0;36m2.51\u001b[0m\u001b[0;34m/\u001b[0m\u001b[0mRe\u001b[0m\u001b[0;34m/\u001b[0m\u001b[0mf\u001b[0m\u001b[0;34m**\u001b[0m\u001b[0;36m0.5\u001b[0m\u001b[0;34m)\u001b[0m\u001b[0;34m\u001b[0m\u001b[0;34m\u001b[0m\u001b[0m\n\u001b[0;32m----> 6\u001b[0;31m     \u001b[0mffact\u001b[0m \u001b[0;34m=\u001b[0m \u001b[0mscipy\u001b[0m\u001b[0;34m.\u001b[0m\u001b[0moptimize\u001b[0m\u001b[0;34m.\u001b[0m\u001b[0mnewton\u001b[0m\u001b[0;34m(\u001b[0m\u001b[0meqf\u001b[0m\u001b[0;34m,\u001b[0m\u001b[0mcole_turb\u001b[0m\u001b[0;34m(\u001b[0m\u001b[0me_d\u001b[0m\u001b[0;34m)\u001b[0m\u001b[0;34m)\u001b[0m\u001b[0;34m\u001b[0m\u001b[0;34m\u001b[0m\u001b[0m\n\u001b[0m\u001b[1;32m      7\u001b[0m     \u001b[0;32mreturn\u001b[0m \u001b[0mffact\u001b[0m\u001b[0;34m\u001b[0m\u001b[0;34m\u001b[0m\u001b[0m\n",
      "\u001b[0;32m~/.local/lib/python3.7/site-packages/scipy/optimize/zeros.py\u001b[0m in \u001b[0;36mnewton\u001b[0;34m(func, x0, fprime, args, tol, maxiter, fprime2, x1, rtol, full_output, disp)\u001b[0m\n\u001b[1;32m    338\u001b[0m                             \u001b[0;34m\" Failed to converge after %d iterations, value is %s.\"\u001b[0m\u001b[0;34m\u001b[0m\u001b[0;34m\u001b[0m\u001b[0m\n\u001b[1;32m    339\u001b[0m                             % (itr + 1, p1))\n\u001b[0;32m--> 340\u001b[0;31m                         \u001b[0;32mraise\u001b[0m \u001b[0mRuntimeError\u001b[0m\u001b[0;34m(\u001b[0m\u001b[0mmsg\u001b[0m\u001b[0;34m)\u001b[0m\u001b[0;34m\u001b[0m\u001b[0;34m\u001b[0m\u001b[0m\n\u001b[0m\u001b[1;32m    341\u001b[0m                     \u001b[0mwarnings\u001b[0m\u001b[0;34m.\u001b[0m\u001b[0mwarn\u001b[0m\u001b[0;34m(\u001b[0m\u001b[0mmsg\u001b[0m\u001b[0;34m,\u001b[0m \u001b[0mRuntimeWarning\u001b[0m\u001b[0;34m)\u001b[0m\u001b[0;34m\u001b[0m\u001b[0;34m\u001b[0m\u001b[0m\n\u001b[1;32m    342\u001b[0m                 \u001b[0mp\u001b[0m \u001b[0;34m=\u001b[0m \u001b[0;34m(\u001b[0m\u001b[0mp1\u001b[0m \u001b[0;34m+\u001b[0m \u001b[0mp0\u001b[0m\u001b[0;34m)\u001b[0m \u001b[0;34m/\u001b[0m \u001b[0;36m2.0\u001b[0m\u001b[0;34m\u001b[0m\u001b[0;34m\u001b[0m\u001b[0m\n",
      "\u001b[0;31mRuntimeError\u001b[0m: Tolerance of 1.216911809076849e+48 reached. Failed to converge after 14 iterations, value is 1.2169118090769538e+48."
     ]
    }
   ],
   "source": [
    "Ds = 102.3 *10**-3 # m\n",
    "Ats = Ds**2*np.pi/4\n",
    "Dd = 102.3 *10**-3 # m\n",
    "Atd = Dd**2*np.pi/4\n",
    "\n",
    "Ls = 2 # m\n",
    "Ld = 400 # m\n",
    "\n",
    "e = 4.6-10**-5 #m\n",
    "e_dd = e/Dd # rugosidad relativa linea de descarga\n",
    "e_ds = e/Ds # rugosidad relativa linea de succion\n",
    "\n",
    "g=9.81 # m/s2\n",
    "mu = 10**-3 # Pa.s\n",
    "rho = 10**3 # kg/m3\n",
    "Q = 800*10**-3/60 # m3/s\n",
    "za = 0\n",
    "zb = 80 # m\n",
    "\n",
    "def ha_func(q):\n",
    "    \n",
    "    vd = q/Atd\n",
    "    vs = q/Ats\n",
    "    # perdidas menores\n",
    "    # succion\n",
    "    fts = cole_turb(e_ds)\n",
    "    k1 = 75*fts\n",
    "    k2 = 30*fts\n",
    "    \n",
    "    hlms = vs**2/2/g*(k1+k2)\n",
    "    \n",
    "    # descarga\n",
    "    ftd = cole_turb(e_dd)\n",
    "    k3 = 30*ftd\n",
    "    k4=100*ftd\n",
    "    k5 = 8*ftd\n",
    "    k6=30*ftd\n",
    "    k7 = 1\n",
    "\n",
    "    hlmd = vd**2/2/g*(k3+k4+k5+k6+k7)\n",
    "    \n",
    "    #total\n",
    "    hlm = hlms+hlmd\n",
    "\n",
    "    # perdidas mayores\n",
    "    # succion\n",
    "    Res = rho*vs*Ds/mu\n",
    "    fs = coleb(Res,e_ds)\n",
    "    hls = vs**2/2/g*fs/Ls/Ds\n",
    "\n",
    "    # descarga\n",
    "    \n",
    "    Red = rho*vd*Dd/mu\n",
    "    fd = coleb(Red,e_dd)\n",
    "    hld = vd**2/2/g*fd/Ld/Dd\n",
    "    \n",
    "    #total\n",
    "    hl = hld+hls\n",
    "    \n",
    "\n",
    "    ha = zb-za+hl+hlm\n",
    "    return ha\n",
    "\n",
    "ha_req = ha_func(Q)"
   ]
  },
  {
   "cell_type": "code",
   "execution_count": null,
   "metadata": {},
   "outputs": [],
   "source": []
  }
 ],
 "metadata": {
  "kernelspec": {
   "display_name": "Python 3",
   "language": "python",
   "name": "python3"
  },
  "language_info": {
   "codemirror_mode": {
    "name": "ipython",
    "version": 3
   },
   "file_extension": ".py",
   "mimetype": "text/x-python",
   "name": "python",
   "nbconvert_exporter": "python",
   "pygments_lexer": "ipython3",
   "version": "3.7.6"
  }
 },
 "nbformat": 4,
 "nbformat_minor": 4
}
