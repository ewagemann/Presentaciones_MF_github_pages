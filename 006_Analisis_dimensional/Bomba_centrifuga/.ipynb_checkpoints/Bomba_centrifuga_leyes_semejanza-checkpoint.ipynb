{
 "cells": [
  {
   "cell_type": "markdown",
   "id": "6d6d0502-a13d-4946-ae1d-69de78789a1d",
   "metadata": {},
   "source": [
    "# Caso de estudio: Leyes de Semejanza para bombas centrífugas"
   ]
  },
  {
   "cell_type": "markdown",
   "id": "370ab9e8-47f1-4a1d-b2b8-e17ebeeaad20",
   "metadata": {},
   "source": [
    "<p style='text-align-justify'>Las bombas son equipos que <b>entregan energía al fluido</b>, permitiendole fluir bajo condiciones en las cuales no lo haría espontaneamente. El tipo de bombas más utilizadas para impulsar fluidos incompresibles corresponden a las <b>bombas centrífugas</b>. </p>"
   ]
  },
  {
   "cell_type": "markdown",
   "id": "b2cbc030-4732-4f9a-abe6-3477b2bcecc7",
   "metadata": {},
   "source": [
    "## Esquema general de una bomba centrífuga"
   ]
  },
  {
   "cell_type": "markdown",
   "id": "94f37479-50b0-49c0-95e7-dca969906377",
   "metadata": {},
   "source": [
    "<center>\n",
    "<table style='background-color:white;width:60%;border: 0px solid white'>\n",
    "    <tr>\n",
    "        <td style='width:50%;background-color:white'>\n",
    "            <center>\n",
    "                <img border=0 src=Figures/horizontal-centrifugal-pump-500x500.jpg width=100%>\n",
    "            </center>\n",
    "        </td>\n",
    "        <td style='width:50%;background-color:white'>\n",
    "            <center>\n",
    "                 <img border=0 src=Figures/centrifuga.png width=100%>\n",
    "            </center>\n",
    "        </td>\n",
    "    </tr>\n",
    "</table>\n",
    "</center>"
   ]
  },
  {
   "cell_type": "markdown",
   "id": "620ab364-15a5-47d6-9e02-2de62a6c4ed6",
   "metadata": {},
   "source": [
    "### Impulsor"
   ]
  },
  {
   "cell_type": "markdown",
   "id": "0572c60e-d943-464f-8948-5e14714fb2b9",
   "metadata": {},
   "source": [
    "<center>\n",
    "<table style='background-color:white;width:60%;border: 0px solid white'>\n",
    "    <tr>\n",
    "        <td style='width:50%;background-color:white'>\n",
    "            <center>\n",
    "                <img src=Figures/impulsor.jpg width=100%>\n",
    "            </center>\n",
    "        </td>\n",
    "        <td style='width:50%;background-color:white'>\n",
    "            <center>\n",
    "                 <img src=Figures/radial.png width=100%>\n",
    "            </center>\n",
    "        </td>\n",
    "    </tr>\n",
    "</table>\n",
    "</center>"
   ]
  },
  {
   "cell_type": "markdown",
   "id": "de409ec6-2734-4d52-a828-5fe48596f0f4",
   "metadata": {},
   "source": [
    "## Funcionamiento de una bomba centrífuga"
   ]
  },
  {
   "cell_type": "markdown",
   "id": "d8e1216e-156d-496e-89f7-87f50f829910",
   "metadata": {},
   "source": [
    "<p style='text-align-justify'> El funcionamiento de una bomba centrífuga puede ser simplificado al siguiente proceso:</p>\n",
    "<ul style='text-align:justify'>\n",
    "    <li> El fluido ingresa a la bomba a través de la línea de descarga, en el centro del impulsor, con velocidad paralela al eje de este último</li>\n",
    "    <li> El fluido es expulsado radialemnte, debido al giro del impulsor </li>\n",
    "    <li> La dirección del flujo es rectificada por la carcasa y el fluido es expulsado a través de la línea de descarga </li>\n",
    "</ul>\n",
    "        "
   ]
  },
  {
   "cell_type": "markdown",
   "id": "b3b09c0c-7ec0-47e6-baef-6ddae0bc0045",
   "metadata": {},
   "source": [
    "<center> <img src=Figures/centrifuga_func.gif width=40%></center>"
   ]
  },
  {
   "cell_type": "markdown",
   "id": "9520ebd8-e83b-430b-b81b-a7e2b5494f56",
   "metadata": {},
   "source": [
    "<p style='text-align:justify'>En el proceso anteriormente descrito, la bomba entrega energía al fluido, la cual es normalmente caracterizada mediante la <b>carga que eleva la bomba $h_A$</b>:</p>\n",
    "\n",
    "\\begin{equation}\n",
    "h_A = \\frac{p_D-p_{S}}{\\gamma}\n",
    "\\end{equation}\n",
    "\n",
    "<p style='text-align:justify'>donde los sufijos $D$ y $S$ indican descarga y succión, respectivamente</p>"
   ]
  },
  {
   "cell_type": "markdown",
   "id": "579930be-012d-494a-accb-b5c93ce7367a",
   "metadata": {},
   "source": [
    "<p style='text-align:justify'>El funcionamiento de una bomba centrífuga variará de modelo en modelo. De esta forma, cada  bomba tendrá asociada <b>una curva de rendimiento</b> en particular.</p>"
   ]
  },
  {
   "cell_type": "markdown",
   "id": "ed0e81ef-62a2-4fc0-b5c2-64b89347a0ff",
   "metadata": {},
   "source": [
    "<center>\n",
    "<img src=Figures/rendimientos.png width=60%>    \n",
    "</center>"
   ]
  },
  {
   "cell_type": "markdown",
   "id": "07570b17-18c9-4d47-ab0d-67b0d963bd0a",
   "metadata": {},
   "source": [
    "<p style=\"text-align:justify\">La carga que eleva la bomba $h_A$, el caudal generado $Q$ (capacidad), la potencia $P$ requerida para su funcionamiento y la eficiencia $\\eta$ con la cual trabaja están relacionados entre ellos. Esta relación (y la relación con otros parámetros adicionales) no puede ser determinada mediante métodos analíticos, <b>por lo que la caracterización de estas curvas debe realizarse experimentalmente</b>. Por lo general, esta caracterización es realizada por el fabricante y es presentada en catálogos a través de gráficos que incluyen estas curvas de rendimiento.</p>"
   ]
  },
  {
   "cell_type": "markdown",
   "id": "2041fd10-a2ba-436c-8d28-7f3bd46dea07",
   "metadata": {},
   "source": [
    "<p style='text-align:justify'>\n",
    "Es importante destacar que las curvas de rendimiento son desarrolladas para un modelo en específico de bomba (con un tamaño determinado, incluyendo el <b>diámetro del impulsor $D$</b>), trabajando a una <b>velocidad del impulsor $\\omega$</b> específica, y con un <b>fluido</b> en particular. De esta forma, si deseamos determinar las curvas de rendimiento para otras condiciones de operación, deberemos realizar experimentos adicionales para determinar estas nuevas curvas de rendimiento <b>(¡o hacer uso del análisis dimensional!)</b>. \n",
    "</p>\n",
    "<p style='text-align:justify'>Ejemplos de situaciones en las cuales deseamos extrapolar estas curvas son:</p>\n",
    "<ul style='text-align:justify'>\n",
    "    <li> <b>Cambio de la velocidad del impulsor </b>: la velocidad del impulsor es determinada por el motor de la bomba. Si es motor eléctrico, dependerá de la frecuencia de la corriente eléctrica que es alimentada a este. En Chile, $\\omega=900$, $1450$, o $2900$ $\\text{rpm}$ para motores de $6$, $4$ y $2$ polos, respectivamente. \n",
    "        <ul style='text-align:justify'>\n",
    "            <li>Si disponemos de la curva de rendimiento para una velocidad, podemos estimar la curva que se obtendría si se cambia el motor (notar que a medida que aumenta $\\omega$, también lo hará $h_A$ y $Q$).\n",
    "            </li>\n",
    "            <li> Si empleamos variadores de frecuencia, es posible cambiar $\\omega$. Esta estrategia es empleada para controlar el flujo.\n",
    "            </li>\n",
    "        </ul>\n",
    "    <li> <b> Escalamiento de la bomba </b>: si el fabricante desea diseñar una bomba de mayor capacidad, puede realizar estimaciones iniciales del tamaño requerido de la bomba a partir de las curvas de rendimiento de una bomba conocida. <b>Esto suponiendo que existirá similitud geométrica entre ambas bombas</b>\n",
    "    </li>\n",
    "</ul>"
   ]
  },
  {
   "cell_type": "markdown",
   "id": "9d67fdb0-9222-446d-adb4-d2ba2b1e7cfd",
   "metadata": {},
   "source": [
    "## A modo de resumen:"
   ]
  },
  {
   "cell_type": "markdown",
   "id": "3aed6e9d-7b8b-4eb6-80c0-b06374b7e41a",
   "metadata": {},
   "source": [
    "<b> Disponemos de: </b>\n",
    "<ul style='text-align:justify'> \n",
    "    <li> \n",
    "        Curva de rendimiento de una bomba, de geometría establecida, trabajando bajo condiciones de operación fijas. \n",
    "    </li>\n",
    "</ul>\n",
    "<b> Deseamos: </b>\n",
    "<ul style='text-align:justify'>\n",
    "    <li>\n",
    "        Determinar expresiones que nos permitan extrapolar la curva de rendimiento a:\n",
    "    <ul style='text-align:justify'>\n",
    "                <li> Condiciones de operación distintas a las cuales la curva de rendimiento fue determinada (<b>cambio de la velocidad del impulsor</b>)</li>\n",
    "        <li>\n",
    "            Bombas de mayor (o menor) tamaño, de <b>geomería similar</b> a la de la bomba de la cual disponemos la curva de rendimiento.\n",
    "        </li>\n",
    "    </ul>\n",
    "    </li>\n",
    "    </ul>\n",
    "        \n",
    "    "
   ]
  },
  {
   "cell_type": "markdown",
   "id": "ac883722-2673-42f8-b1bb-ac562f2e5240",
   "metadata": {},
   "source": [
    "## Análisis dimensional: Aplicación del teorema Pi de Buckingham"
   ]
  },
  {
   "cell_type": "markdown",
   "id": "b41f73ef-2f98-4386-accc-42e47984c797",
   "metadata": {},
   "source": [
    "### 1- Listado de parámetros relevantes"
   ]
  },
  {
   "cell_type": "markdown",
   "id": "25432be7-3b0d-4b96-a161-3788de580ce3",
   "metadata": {},
   "source": [
    "<p style='text-align:justify'>\n",
    "    La experiencia ha demostrado que la carga elevada por una bomba, expresada como energía por unidad de masa ($gh_A$), depende de:\n",
    "<ul>\n",
    "    <li> El caudal $Q$</li>\n",
    "    <li> La densidad del fluido $\\rho$</li>\n",
    "    <li> La velocidad del impulsor $\\omega$ (expresada por lo general en $\\text{rpm}$</li>\n",
    "    <li> El diámetro del impulsor $D$</li>\n",
    "    <li> La viscosidad del fluido $\\mu$</li>\n",
    "    <li> La rugosidad del material que compone la bomba </li>\n",
    "</ul>\n",
    "De esta forma:\n",
    "\n",
    "\\begin{equation}\n",
    "gh_A = f\\left(Q, \\rho, \\omega, D, \\mu, \\epsilon\\right)\n",
    "\\end{equation}\n",
    "\n",
    "<b> Notar que el producto $gh_A$ será considerado como una única variable compuesta a partir de este punto</b>"
   ]
  },
  {
   "cell_type": "markdown",
   "id": "72a7d474-8cd5-4ee5-a138-3355dae27b67",
   "metadata": {},
   "source": [
    "### 2- Dimensiones primarias"
   ]
  },
  {
   "cell_type": "markdown",
   "id": "d5c41b6a-3c49-4bee-9dba-7cc434b2f05a",
   "metadata": {},
   "source": [
    "Consideraremos como dimensiones primarias $M$, $L$ y $t$"
   ]
  },
  {
   "cell_type": "markdown",
   "id": "132e5779-2320-4c11-ac3d-0c72e988c4a0",
   "metadata": {},
   "source": [
    "### 3- Matriz dimensional"
   ]
  },
  {
   "cell_type": "markdown",
   "id": "877ea9a8-f047-46c1-a5ee-0d3a8b0c74c4",
   "metadata": {},
   "source": [
    "Las dimensiones de los parámetros involucrados son:"
   ]
  },
  {
   "cell_type": "markdown",
   "id": "71b247e1-c713-484c-a9f5-d393ca83bad5",
   "metadata": {},
   "source": [
    "\\begin{equation*}\n",
    "\\begin{array}{c|ccccccc} \n",
    "& g h_A & Q & \\rho & \\omega & D & \\mu & \\varepsilon \\\\\n",
    "\\hline M & 0 & 0 & 1 & 0 & 0 & 1 & 0 \\\\\n",
    "L & 2 & 3 & -3 & 0 & 1 & -1 & 1 \\\\\n",
    "t & -2 & -1 & 0 & -1 & 0 & -1 & 0\n",
    "\\end{array}\n",
    "\\end{equation*}"
   ]
  },
  {
   "cell_type": "markdown",
   "id": "df6bb422-5066-4172-8220-bcc1e40778a1",
   "metadata": {},
   "source": [
    "y la correspondiente matriz dimensional es:"
   ]
  },
  {
   "cell_type": "markdown",
   "id": "de03da7d-3b04-4f2a-86ff-81bada1d3e75",
   "metadata": {},
   "source": [
    "\\begin{equation*}\n",
    "\\textbf{A}_{dim}=\\begin{bmatrix}\n",
    " 0 & 0 & 1 & 0 & 0 & 1 & 0 \\\\\n",
    "2 & 3 & -3 & 0 & 1 & -1 & 1 \\\\\n",
    "-2 & -1 & 0 & -1 & 0 & -1 & 0\n",
    "\\end{bmatrix}\n",
    "\\end{equation*}"
   ]
  },
  {
   "cell_type": "markdown",
   "id": "9acf8b8d-f7a8-45e6-9b9e-a78cc9271d88",
   "metadata": {},
   "source": [
    "### 4- Determinación de la reducción $j$"
   ]
  },
  {
   "cell_type": "markdown",
   "id": "d2b0b389-f61a-417e-906f-4e44e2dccd43",
   "metadata": {},
   "source": [
    "El rango de la matríz dimensional es:"
   ]
  },
  {
   "cell_type": "code",
   "execution_count": 1,
   "id": "67f8bb70-fa7a-4c51-bddd-eb2600afa61c",
   "metadata": {
    "tags": []
   },
   "outputs": [],
   "source": [
    "import numpy as np\n",
    "from scipy.linalg import solve\n",
    "from IPython.display import Math, display\n",
    "\n",
    "def p_print(string):\n",
    "    display(Math(string))"
   ]
  },
  {
   "cell_type": "code",
   "execution_count": 2,
   "id": "45675b15-d120-4fee-b41c-3ddc722b163c",
   "metadata": {
    "tags": []
   },
   "outputs": [
    {
     "data": {
      "text/latex": [
       "$\\displaystyle \\text{rank}\\left({\\textbf{A}_{dim}}\\right) = 3$"
      ],
      "text/plain": [
       "<IPython.core.display.Math object>"
      ]
     },
     "metadata": {},
     "output_type": "display_data"
    }
   ],
   "source": [
    "mat_dim = [[0,0,1,0,0,1,0],\n",
    "           [2,3,-3,0,1,-1,1],\n",
    "           [-2,-1,0,-1,0,-1,0]]\n",
    "rank = np.linalg.matrix_rank(mat_dim)\n",
    "p_print(fr'\\text{{rank}}\\left({{\\textbf{{A}}_{{dim}}}}\\right) = {rank}')"
   ]
  },
  {
   "cell_type": "markdown",
   "id": "47fc8d50-bebb-4bea-9476-87fbdbca8d48",
   "metadata": {},
   "source": [
    "De esta forma, $j=3$. Ya que el proceso considera $7$ parámetros dimensionales, deberemos:\n",
    "\n",
    "<ul>\n",
    "    <li> Seleccionar $3$ variables de repetición </li>\n",
    "    <li> Generar $4$ grupos adimensionales </li>\n",
    "</ul>"
   ]
  },
  {
   "cell_type": "markdown",
   "id": "eb5eb5a6-5ec7-4ed1-af9f-bdbe76adba69",
   "metadata": {},
   "source": [
    "### 5- Variables de repetición"
   ]
  },
  {
   "cell_type": "markdown",
   "id": "e2fe5e9c-81e5-4204-b9b6-3493f8720e5a",
   "metadata": {},
   "source": [
    "Consideraremos como variables de repetición: $D$, $\\omega$ y $\\rho$"
   ]
  },
  {
   "cell_type": "markdown",
   "id": "70eba89a-4a6b-44f7-9b26-8873b5140aeb",
   "metadata": {},
   "source": [
    "### 6- Ecuaciones dimensionales"
   ]
  },
  {
   "cell_type": "markdown",
   "id": "8af384b0-9bba-40e1-ba61-bb6b9f5c7cab",
   "metadata": {},
   "source": [
    "#### Primer grupo adimensional $\\Pi_1$"
   ]
  },
  {
   "cell_type": "markdown",
   "id": "190e78af-1490-4deb-99c2-78859abb19d7",
   "metadata": {},
   "source": [
    "\\begin{equation}\n",
    "\\Pi_1 = D^a\\omega^b\\rho^c(gh_A)\\Rightarrow \\left(L\\right)^a\\left(t^{-1}\\right)^{b}\\left(ML^{-3}\\right)^c \\left(L^2t^{-2}\\right)=M^0L^0t^0\n",
    "\\end{equation}"
   ]
  },
  {
   "cell_type": "markdown",
   "id": "86ed0afe-9f14-48ab-adcd-5f49f495dfc3",
   "metadata": {},
   "source": [
    "$$\\begin{array}{rr}\n",
    "M: & c=0 \\\\\n",
    "L: & a-3c+2=0 \\\\\n",
    "t: & -b-2=0\n",
    "\\end{array}\n",
    "$$"
   ]
  },
  {
   "cell_type": "markdown",
   "id": "fa052feb-4846-47a6-aeb5-79c1e993d45a",
   "metadata": {},
   "source": [
    "En forma matricial:\n",
    "$$\\begin{aligned}\n",
    "\\textbf{Ax} &= \\textbf{b} \\\\\n",
    "\\begin{bmatrix}\n",
    "0 & 0 & 1 \\\\\n",
    "1 & 0 & -3 \\\\\n",
    "0 & -1 & 0 \n",
    "\\end{bmatrix}\n",
    "\\begin{bmatrix}\n",
    "a \\\\ b \\\\ c\n",
    "\\end{bmatrix} &=\n",
    "\\begin{bmatrix}\n",
    "0 \\\\-2 \\\\ 2\n",
    "\\end{bmatrix}\n",
    "\\end{aligned}\n",
    "$$"
   ]
  },
  {
   "cell_type": "code",
   "execution_count": 3,
   "id": "8cc7a186-952c-45a2-9413-2d27f22a6774",
   "metadata": {
    "tags": []
   },
   "outputs": [
    {
     "data": {
      "text/latex": [
       "$\\displaystyle \\textbf{x}=\\begin{bmatrix} a \\\\ b \\\\ c \\end{bmatrix} = \\begin{bmatrix} -2.0 \\\\ -2.0 \\\\ 0.0 \\end{bmatrix}$"
      ],
      "text/plain": [
       "<IPython.core.display.Math object>"
      ]
     },
     "metadata": {},
     "output_type": "display_data"
    }
   ],
   "source": [
    "A = [[0,0,1],\n",
    "     [1,0,-3],\n",
    "     [0,-1,0]]\n",
    "b = [0,-2,2]\n",
    "\n",
    "x = solve(A,b)\n",
    "p_print(fr'\\textbf{{x}}=\\begin{{bmatrix}} a \\\\ b \\\\ c \\end{{bmatrix}} = \\begin{{bmatrix}} {x[0]} \\\\ {x[1]} \\\\ {x[2]} \\end{{bmatrix}}')"
   ]
  },
  {
   "cell_type": "markdown",
   "id": "2187ceb6-07cf-4620-be4b-4de3e55ba33c",
   "metadata": {},
   "source": [
    "De esta forma:\n",
    "\n",
    "$$\\Pi_1 = \\frac{gh_A}{D^2\\omega^2}$$"
   ]
  },
  {
   "cell_type": "markdown",
   "id": "0f760b8d-ef1a-4a48-bc78-8da53f1b15c3",
   "metadata": {},
   "source": [
    "#### Segundo grupo adimensional $\\Pi_2$"
   ]
  },
  {
   "cell_type": "markdown",
   "id": "537fdcdf-0252-470f-8db1-4fc54042ad3f",
   "metadata": {},
   "source": [
    "\\begin{equation}\n",
    "\\Pi_2 = D^a\\omega^b\\rho^c\\mu\\Rightarrow \\left(L\\right)^a\\left(t^{-1}\\right)^{b}\\left(ML^{-3}\\right)^c \\left(ML^{-1}t^{-1}\\right)=M^0L^0t^0\n",
    "\\end{equation}"
   ]
  },
  {
   "cell_type": "markdown",
   "id": "905e0d90-a331-4ef0-b0a1-abce27cd47dc",
   "metadata": {},
   "source": [
    "La ecuación dimensional, en forma matricial:\n",
    "$$\\begin{aligned}\n",
    "\\textbf{Ax} &= \\textbf{b} \\\\\n",
    "\\begin{bmatrix}\n",
    "0 & 0 & 1 \\\\\n",
    "1 & 0 & -3 \\\\\n",
    "0 & -1 & 0 \n",
    "\\end{bmatrix}\n",
    "\\begin{bmatrix}\n",
    "a \\\\ b \\\\ c\n",
    "\\end{bmatrix} &=\n",
    "\\begin{bmatrix}\n",
    "-1 \\\\ 1 \\\\ 1\n",
    "\\end{bmatrix}\n",
    "\\end{aligned}\n",
    "$$"
   ]
  },
  {
   "cell_type": "code",
   "execution_count": 4,
   "id": "a4ca55dc-a5e9-475e-9042-4eec542ffe30",
   "metadata": {
    "tags": []
   },
   "outputs": [
    {
     "data": {
      "text/latex": [
       "$\\displaystyle \\textbf{x}=\\begin{bmatrix} a \\\\ b \\\\ c \\end{bmatrix} = \\begin{bmatrix} -2.0 \\\\ -1.0 \\\\ -1.0 \\end{bmatrix}$"
      ],
      "text/plain": [
       "<IPython.core.display.Math object>"
      ]
     },
     "metadata": {},
     "output_type": "display_data"
    }
   ],
   "source": [
    "A = [[0,0,1],\n",
    "     [1,0,-3],\n",
    "     [0,-1,0]]\n",
    "b = [-1,1,1]\n",
    "\n",
    "x = solve(A,b)\n",
    "p_print(fr'\\textbf{{x}}=\\begin{{bmatrix}} a \\\\ b \\\\ c \\end{{bmatrix}} = \\begin{{bmatrix}} {x[0]} \\\\ {x[1]} \\\\ {x[2]} \\end{{bmatrix}}')"
   ]
  },
  {
   "cell_type": "markdown",
   "id": "b9333739-37ec-4ec1-b1f7-22c20abe55c9",
   "metadata": {},
   "source": [
    "De esta forma:\n",
    "\n",
    "$$\\Pi_2 = \\frac{\\mu}{\\rho \\omega D^2}$$"
   ]
  },
  {
   "cell_type": "markdown",
   "id": "dd676986-2619-446d-b14b-72f5e58a878f",
   "metadata": {},
   "source": [
    "#### Tercer grupo adimensional $\\Pi_3$"
   ]
  },
  {
   "cell_type": "markdown",
   "id": "a261039a-75c5-4126-ae76-c6b6e2c5665f",
   "metadata": {},
   "source": [
    "\\begin{equation}\n",
    "\\Pi_2 = D^a\\omega^b\\rho^cQ\\Rightarrow \\left(L\\right)^a\\left(t^{-1}\\right)^{b}\\left(ML^{-3}\\right)^c \\left(L^{3}t^{-1}\\right)=M^0L^0t^0\n",
    "\\end{equation}"
   ]
  },
  {
   "cell_type": "markdown",
   "id": "80b4eea4-8dfb-4b45-8ee5-dc09f58f7171",
   "metadata": {},
   "source": [
    "La ecuación dimensional, en forma matricial:\n",
    "$$\\begin{aligned}\n",
    "\\textbf{Ax} &= \\textbf{b} \\\\\n",
    "\\begin{bmatrix}\n",
    "0 & 0 & 1 \\\\\n",
    "1 & 0 & -3 \\\\\n",
    "0 & -1 & 0 \n",
    "\\end{bmatrix}\n",
    "\\begin{bmatrix}\n",
    "a \\\\ b \\\\ c\n",
    "\\end{bmatrix} &=\n",
    "\\begin{bmatrix}\n",
    "0 \\\\ -3 \\\\ 1\n",
    "\\end{bmatrix}\n",
    "\\end{aligned}\n",
    "$$"
   ]
  },
  {
   "cell_type": "code",
   "execution_count": 5,
   "id": "9c342ec6-f4c8-47e8-a34c-4e033f4acb41",
   "metadata": {
    "tags": []
   },
   "outputs": [
    {
     "data": {
      "text/latex": [
       "$\\displaystyle \\textbf{x}=\\begin{bmatrix} a \\\\ b \\\\ c \\end{bmatrix} = \\begin{bmatrix} -3.0 \\\\ -1.0 \\\\ 0.0 \\end{bmatrix}$"
      ],
      "text/plain": [
       "<IPython.core.display.Math object>"
      ]
     },
     "metadata": {},
     "output_type": "display_data"
    }
   ],
   "source": [
    "A = [[0,0,1],\n",
    "     [1,0,-3],\n",
    "     [0,-1,0]]\n",
    "b = [0,-3,1]\n",
    "\n",
    "x = solve(A,b)\n",
    "p_print(fr'\\textbf{{x}}=\\begin{{bmatrix}} a \\\\ b \\\\ c \\end{{bmatrix}} = \\begin{{bmatrix}} {x[0]} \\\\ {x[1]} \\\\ {x[2]} \\end{{bmatrix}}')"
   ]
  },
  {
   "cell_type": "markdown",
   "id": "9bd3a3b6-bd80-4279-9622-d71bd4871bd8",
   "metadata": {},
   "source": [
    "De esta forma:\n",
    "\n",
    "$$\\Pi_3 = \\frac{Q}{D^3 \\omega}$$"
   ]
  },
  {
   "cell_type": "markdown",
   "id": "5650a850-6221-4d79-9856-913f67a59923",
   "metadata": {},
   "source": [
    "#### Cuarto grupo adimensional $\\Pi_4$"
   ]
  },
  {
   "cell_type": "markdown",
   "id": "e23cd455-0770-4bc1-b6de-799af6d2efcb",
   "metadata": {},
   "source": [
    "\\begin{equation}\n",
    "\\Pi_2 = D^a\\omega^b\\rho^c\\epsilon\\Rightarrow \\left(L\\right)^a\\left(t^{-1}\\right)^{b}\\left(ML^{-3}\\right)^c \\left(L\\right)=M^0L^0t^0\n",
    "\\end{equation}"
   ]
  },
  {
   "cell_type": "markdown",
   "id": "6e38bca7-e73f-4df4-8ea7-6f224634ebeb",
   "metadata": {},
   "source": [
    "La ecuación dimensional, en forma matricial:\n",
    "$$\\begin{aligned}\n",
    "\\textbf{Ax} &= \\textbf{b} \\\\\n",
    "\\begin{bmatrix}\n",
    "0 & 0 & 1 \\\\\n",
    "1 & 0 & -3 \\\\\n",
    "0 & -1 & 0 \n",
    "\\end{bmatrix}\n",
    "\\begin{bmatrix}\n",
    "a \\\\ b \\\\ c\n",
    "\\end{bmatrix} &=\n",
    "\\begin{bmatrix}\n",
    "0 \\\\ -1 \\\\ 0\n",
    "\\end{bmatrix}\n",
    "\\end{aligned}\n",
    "$$"
   ]
  },
  {
   "cell_type": "code",
   "execution_count": 6,
   "id": "6463bf0c-f9ea-4c2d-a9a6-a1bebbf0b58e",
   "metadata": {
    "tags": []
   },
   "outputs": [
    {
     "data": {
      "text/latex": [
       "$\\displaystyle \\textbf{x}=\\begin{bmatrix} a \\\\ b \\\\ c \\end{bmatrix} = \\begin{bmatrix} -1.0 \\\\ -0.0 \\\\ 0.0 \\end{bmatrix}$"
      ],
      "text/plain": [
       "<IPython.core.display.Math object>"
      ]
     },
     "metadata": {},
     "output_type": "display_data"
    }
   ],
   "source": [
    "A = [[0,0,1],\n",
    "     [1,0,-3],\n",
    "     [0,-1,0]]\n",
    "b = [0,-1,0]\n",
    "\n",
    "x = solve(A,b)\n",
    "p_print(fr'\\textbf{{x}}=\\begin{{bmatrix}} a \\\\ b \\\\ c \\end{{bmatrix}} = \\begin{{bmatrix}} {x[0]} \\\\ {x[1]} \\\\ {x[2]} \\end{{bmatrix}}')"
   ]
  },
  {
   "cell_type": "markdown",
   "id": "081fe308-189d-41c1-b293-416dc25f19ef",
   "metadata": {},
   "source": [
    "De esta forma:\n",
    "\n",
    "$$\\Pi_4 = \\frac{\\epsilon}{D}$$"
   ]
  },
  {
   "cell_type": "markdown",
   "id": "3702cfb8-2113-4d65-80ef-c00a367b39a0",
   "metadata": {},
   "source": [
    "### 7- Verificación y presentación"
   ]
  },
  {
   "cell_type": "markdown",
   "id": "50cd8430-890d-4d7b-8af8-60feb0457228",
   "metadata": {},
   "source": [
    "La verificación queda de ejercicio para el(la) lector(a)"
   ]
  },
  {
   "cell_type": "markdown",
   "id": "4539399f-db3a-45fe-9cd2-3c86c6cd1ca2",
   "metadata": {},
   "source": [
    "La funcionalidad entre los grupos adimensionales determinados es:"
   ]
  },
  {
   "cell_type": "markdown",
   "id": "ae582b72-d0fc-4ff6-8a3f-06b506ef4cf0",
   "metadata": {},
   "source": [
    "$$\\Pi_1 = f\\left(\\Pi_2,\\Pi_3,\\Pi_4\\right)$$"
   ]
  },
  {
   "cell_type": "markdown",
   "id": "c2666bd7-1617-4611-b3eb-8a6fa5a75dca",
   "metadata": {},
   "source": [
    "\\begin{equation}\n",
    "\\color{blue}{\\frac{gh_A}{D^2\\omega^2}} = f\\left( \\color{red}{\\frac{\\mu}{\\rho \\omega D^2}},\\color{magenta}{\\frac{Q}{D^3 \\omega}},\\color{green}{\\frac{\\epsilon}{D}}\\right)\n",
    "\\end{equation}"
   ]
  },
  {
   "cell_type": "markdown",
   "id": "384dbeda-cfc2-41ee-b321-147a3520af18",
   "metadata": {},
   "source": [
    "En esta expresión:\n",
    "<ul style='text-align:justify'>\n",
    "    <li>\n",
    "        El término en <span style='color:blue'>azul</span> se denomina <b>coeficiente de carga hidrostática $C_H$</b>\n",
    "<div style='padding:10pt'>\n",
    "$$C_H = \\frac{gh_A}{D^2\\omega^2}$$\n",
    "        </div>\n",
    "    </li>\n",
    "    <li> El término en <span style='color:red'>rojo</span> es el <b>número de Reynolds</b> $\\operatorname{Re}$, con velocidad características $\\omega D$:\n",
    "        <div style='padding:10pt'>\n",
    "$$\\operatorname{Re} = \\frac{\\rho (\\omega D) D}{\\mu}$$\n",
    "        </div>\n",
    "    </li>\n",
    "    <li> El término en <span style='color:magenta'>magenta</span> se denomina <b>coeficiente de capacidad</b> $C_Q$\n",
    "        <div style='padding:10pt'>\n",
    "$$C_Q = \\frac{Q}{D^3 \\omega}$$\n",
    "        </div>\n",
    "    </li>\n",
    "        <li> El término en <span style='color:green'>verde</span> se denomina <b>rugosidad relativa</b> $\\epsilon/D$\n",
    "    </li>\n",
    "</ul>"
   ]
  },
  {
   "cell_type": "markdown",
   "id": "1cad4b13-0dcf-4106-925d-abecb5452798",
   "metadata": {},
   "source": [
    "## Leyes de semejanza "
   ]
  },
  {
   "cell_type": "markdown",
   "id": "6c03a641-27d4-496d-87ca-66e6c2638a14",
   "metadata": {},
   "source": [
    "<p style='text-align:justify'>A partir de la relación entre grupos dimensionales obtenida utilizando el teorema Pi de Buckingham y bajo el supuesto de que existe similitud entre <b>modelo</b> (correspondiente a la bomba cuya curva de rendimiento fue caracterizada) y <b>prototipo</b> (la condición de operación o bomba que deseamos predecir), podemos establecer:</p>"
   ]
  },
  {
   "cell_type": "markdown",
   "id": "e66012db-cd41-4819-b992-5711012c776a",
   "metadata": {},
   "source": [
    "Si: \n",
    "\n",
    "$$\\begin{aligned}\n",
    "\\left(\\frac{\\mu}{\\rho \\omega D^2}\\right)_1 &= \\left(\\frac{\\mu}{\\rho \\omega D^2}\\right)_2 \\\\[6pt]\n",
    "\\left(\\frac{Q}{D^3 \\omega}\\right)_1 &= \\left(\\frac{Q}{D^3 \\omega}\\right)_2 \\\\[6pt]\n",
    "\\left(\\frac{\\epsilon}{D}\\right)_1 &= \\left(\\frac{\\epsilon}{D}\\right)_2\n",
    "\\end{aligned}$$\n",
    "\n",
    "Entonces:\n",
    "\n",
    "$$\\left(\\frac{gh_A}{D^2\\omega^2}\\right)_1 = \\left(\\frac{gh_A}{D^2\\omega^2}\\right)_2$$\n",
    "\n"
   ]
  },
  {
   "cell_type": "markdown",
   "id": "fea19678-b78f-4ce6-bd67-ef0869d48986",
   "metadata": {},
   "source": [
    "Los sufijos $1$ y $2$ indican modelo y prototipo."
   ]
  },
  {
   "cell_type": "markdown",
   "id": "7c1025da-2422-4ca7-bc36-c46afe741c3f",
   "metadata": {},
   "source": [
    "La expresión anterior requiere igualar al menos tres grupos adimensionales, con tal de predecir un cuarto. A pesar de esto, es común hacer las siguientes simplificaciones:\n",
    "\n",
    "<ul style='text-align:justify'>\n",
    "    <li> Las bombas, por lo general, trabajan a números de Reynolds elevados (de $0.8$ a $1.5\\times 10^7$), con flujos completamente turbulentos. Ya que un cambio en la condición de operación implicaría un cambio en este parámetro relativamente pequeño (esto en especial considerando la magitud elevada a la cual se trabaja). Es por esto que <b>el efecto del número de Reynolds sobre el coeficiente de carga hidrostática generalmente se considera como constante</b>.</li>\n",
    "    <li> La rugosidad relativa por lo general es desconocida y varía al comparar bombas, pero debido al alto número de Reynolds al cual se trabaja, se espera que su efecto se mantega más o menos constante </li>\n",
    "</ul>\n",
    "De esta forma, al analizar la similitud entre modelo y prototipo nos limitamos a establecer:\n",
    "\n",
    "$$C_H = f(C_Q)$$\n",
    "\n"
   ]
  },
  {
   "cell_type": "markdown",
   "id": "7ce2e99f-cc9e-48c5-8188-2b6ff3ce3bfe",
   "metadata": {},
   "source": [
    "De esta forma:"
   ]
  },
  {
   "cell_type": "markdown",
   "id": "8844f6a6-ff02-4434-99ae-9c10aa875a38",
   "metadata": {},
   "source": [
    "Si: \n",
    "\n",
    "$$\n",
    "\\left(\\frac{Q}{D^3 \\omega}\\right)_1 = \\left(\\frac{Q}{D^3 \\omega}\\right)_2 \n",
    "$$\n",
    "\n",
    "Entonces:\n",
    "\n",
    "$$\\left(\\frac{gh_A}{D^2\\omega^2}\\right)_1 = \\left(\\frac{gh_A}{D^2\\omega^2}\\right)_2$$\n"
   ]
  },
  {
   "cell_type": "markdown",
   "id": "ff6178c2-6552-4c05-b5a2-3da542f5cd65",
   "metadata": {},
   "source": [
    "Reordenando la primera expresión podemos obtener:"
   ]
  },
  {
   "cell_type": "markdown",
   "id": "c52d3cdd-2790-49cd-bcfd-fb2bcab4c207",
   "metadata": {},
   "source": [
    "\\begin{equation*}\n",
    "\\frac{Q_2}{Q_1}=\\frac{\\omega_2}{\\omega_1}\\left(\\frac{D_2}{D_1}\\right)^3\n",
    "\\end{equation*}\n",
    "\n",
    "y al reordenar la segunda expresión (con $g_1=g_2$, ya que las bombas son operadas en el mismo campo gravitacional):\n",
    "\n",
    "\\begin{equation*}\n",
    "\\frac{h_2}{h_1}=\\left(\\frac{\\omega_2}{\\omega_1}\\right)^2\\left(\\frac{D_2}{D_1}\\right)^2\n",
    "\\end{equation*}"
   ]
  },
  {
   "cell_type": "markdown",
   "id": "01950594-de12-4dc8-b173-de6265a7cac2",
   "metadata": {},
   "source": [
    "<p style='text-align:justify'>Estas expresiones permite relacionar <b>puntos homólogos</b> entre modelo y prototipo (puntos en los que existe similitud). Las dos expresiones anteriores son denominadas <b>Leyes de semejanza o de afinidad </b> y son válidas para bombas y turbinas. </p>\n",
    "\n",
    "<p style='text-align:justify'>En adición a las expresiones anteriores, es posible determinar una expresión que relacione la potencia requerida por modelo y prototipo, si estos se encuentran en un punto homólogo:\n",
    "    </p>\n"
   ]
  },
  {
   "cell_type": "markdown",
   "id": "0624dcf1-bb68-4037-858f-082c17cbf392",
   "metadata": {},
   "source": [
    "\\begin{equation*}\n",
    "\\frac{P_2}{P_1}=\\frac{\\rho_2}{\\rho_1}\\left(\\frac{\\omega_2}{\\omega_1}\\right)^3\\left(\\frac{D_2}{D_1}\\right)^5\n",
    "\\end{equation*}\n",
    "\n",
    "<p style='text-align:justify'>Esta expresión se determina mediante un análisis dimensional, a partir de la funcionalidad $P=f(Q,\\rho, \\omega, D,\\mu)$ y su obtención queda como ejercicio para el(la) lector(a).</p>"
   ]
  },
  {
   "cell_type": "markdown",
   "id": "b4d52aef-63b7-42e9-92a4-90e5b8f42d50",
   "metadata": {
    "tags": []
   },
   "source": [
    "## Aplicación: Efecto del cambio de la velocidad del impulsor sobre la curva de rendimiento de la bomba"
   ]
  },
  {
   "cell_type": "markdown",
   "id": "4a756577-de9b-4827-bece-96a38c1fe942",
   "metadata": {},
   "source": [
    "<p style='text-align:justify'>En el siguiente ejemplo se escala la curva de rendimiento de una bomba para distintos valores de $\\omega$, a partir de la curva de rendimiento medida para $\\omega=2900\\,\\text{rmpm}$. El diámetro del impulsor (y la geometría) de la bomba se mantienen constantes. De esta forma, las leyes de afinada se reducen a:</p>\n",
    "\n",
    "<ul> <li> <b> Capacidad</b>\n",
    "    <div style='padding:10pt'>\n",
    "    $$Q_2 = Q_1\\frac{\\omega_2}{\\omega_1}$$\n",
    "    </div>\n",
    "    </li>\n",
    "    <li> <b> Capacidad de carga </b>\n",
    "        <div style='padding:10pt'>\n",
    "$$h_2 = h_1\\left(\\frac{\\omega_2}{\\omega_1}\\right)^2$$\n",
    "        </div>\n",
    "    </li>\n",
    "    </ul>\n",
    "            "
   ]
  },
  {
   "cell_type": "code",
   "execution_count": 7,
   "id": "91095fab-ebbf-406e-95f7-adf6b3d28f2f",
   "metadata": {
    "jupyter": {
     "source_hidden": true
    },
    "tags": []
   },
   "outputs": [],
   "source": [
    "%matplotlib widget\n",
    "import pandas as pd\n",
    "import ipywidgets as widgets\n",
    "import matplotlib.pyplot as plt\n",
    "\n",
    "layout_box_base = widgets.Layout(width='100%',justify_content='center',align_items='center')"
   ]
  },
  {
   "cell_type": "code",
   "execution_count": 8,
   "id": "1f17af16-a334-4637-be46-32638ec447e9",
   "metadata": {
    "jupyter": {
     "source_hidden": true
    },
    "tags": []
   },
   "outputs": [],
   "source": [
    "def extract_data_pump(file_n):\n",
    "    data_pump=pd.read_csv(file_n,sep=',')\n",
    "    \n",
    "    data_plot = {}\n",
    "\n",
    "    for i in range(int(len(data_pump.columns)/2)): \n",
    "        qpump = np.asarray(data_pump[data_pump.columns[2*i]][1:],np.float32) \n",
    "        qpump = qpump[~np.isnan(qpump)]\n",
    "        hpump = np.asarray(data_pump[data_pump.columns[2*i+1]][1:],np.float32)\n",
    "        hpump = hpump[~np.isnan(hpump)]\n",
    "        data_plot[data_pump.columns[2*i]]= [qpump,hpump]\n",
    "                                  \n",
    "    data_fit = {}\n",
    "    for i in data_plot:\n",
    "        zfit = np.polyfit(data_plot[i][0],data_plot[i][1],2)\n",
    "        pfit = np.poly1d(zfit)\n",
    "        data_fit[i] = pfit\n",
    "        \n",
    "    return data_pump, data_plot, data_fit\n",
    "\n",
    "data_pump,data_plot, data_fit = extract_data_pump('./40_200_2900.csv')\n",
    "data_pump1450, data_plot1450, data_fit1450 = extract_data_pump('40_200_1450.csv')"
   ]
  },
  {
   "cell_type": "code",
   "execution_count": 9,
   "id": "89f804a9-5f6a-4033-8612-111a072c12b7",
   "metadata": {
    "jupyter": {
     "source_hidden": true
    },
    "tags": []
   },
   "outputs": [],
   "source": [
    "def plot_bomba(ar,dp):\n",
    "    \n",
    "    out_p = widgets.Output()\n",
    "    with plt.ioff():\n",
    "        fig = plt.figure(figsize=ar,dpi=dp)\n",
    "        ax= fig.add_subplot(111)\n",
    "        fig.canvas.header_visible = False\n",
    "        fig.canvas.footer_visible = False\n",
    "        fig.canvas.toolbar_visible = False\n",
    "        # fig.canvas.layout.width = '100%'\n",
    "        # fig.canvas.layout.height = '900px'\n",
    "\n",
    "    with out_p:\n",
    "        display(fig.canvas)\n",
    "\n",
    "    qplot = np.linspace(0,max(data_plot['219'][0]),1000)\n",
    "    l1, = ax.plot(qplot,data_fit['219'](qplot),linewidth=2,color='k')\n",
    "    t1 = ax.text(1,66,'219')\n",
    "\n",
    "    qplot = np.linspace(0,max(data_plot['206'][0]),1000)\n",
    "    l2, = ax.plot(qplot,data_fit['206'](qplot),linewidth=2,color='k')\n",
    "    t2 = ax.text(1,57,'206')\n",
    "\n",
    "    qplot = np.linspace(0,max(data_plot['188'][0]),1000)\n",
    "    l3, = ax.plot(qplot,data_fit['188'](qplot),linewidth=2,color='k')\n",
    "    t3 = ax.text(1,46,'188')\n",
    "\n",
    "    qplot = np.linspace(0,max(data_plot['172'][0]),1000)\n",
    "    l4, = ax.plot(qplot,data_fit['172'](qplot),linewidth=2,color='k')\n",
    "    t4 = ax.text(1,38,'172')\n",
    "\n",
    "\n",
    "    ax2=ax.twinx()\n",
    "    ax2.set_ylim(0,18)\n",
    "    ax2.set_yticks(np.arange(0,8,2))\n",
    "\n",
    "    qplot=np.linspace(min(data_plot['NPSH'][0]),max(data_plot['NPSH'][0]),1000)\n",
    "    l5, = ax2.plot(qplot,data_fit['NPSH'](qplot),linewidth=2,color='k')\n",
    "\n",
    "    ax2.set_ylabel('NPSH',fontsize=14)\n",
    "    ax.set_ylabel('H (m)',fontsize=14)\n",
    "    ax.set_xlabel('Q (m$^3$/h)',fontsize=14)\n",
    "\n",
    "    ax.set_xticks(np.arange(-200,200,10))\n",
    "    ax.set_xticks(np.arange(-200,200,5),minor='True')\n",
    "\n",
    "    ax.set_yticks(np.arange(-200,200,10))\n",
    "    ax.set_yticks(np.arange(-200,200,5),minor='True')\n",
    "\n",
    "\n",
    "    ax2.yaxis.set_label_coords(1.08,0.20)\n",
    "    ax.grid(alpha=0.8,which='major')\n",
    "    ax.grid(alpha=0.8,which='minor')\n",
    "    ax.set_xlim(0,70)\n",
    "    ax.set_ylim(0,90)\n",
    "\n",
    "\n",
    "\n",
    "    # ### NPSH_r\n",
    "    # ax2.plot([80,80],[0,NPSH_r],'C0--')\n",
    "    # ax2.plot([80,180],[NPSH_r,NPSH_r],'C0--')\n",
    "\n",
    "    plt.tight_layout()\n",
    "    ax.set_title('40-200 2900 RPM')\n",
    "    plt.tight_layout()\n",
    "\n",
    "    return out_p,fig, ax, ax2, [l1,l2,l3,l4,l5], [t1,t2,t3,t4]\n",
    "\n",
    "# out1,fig1,ax1, ax12, lines1, text1 = plot_bomba((5,3),150)\n",
    "\n",
    "# box1 = widgets.Box(children=[out1],layout=layout_box_base)\n",
    "# display(box1)"
   ]
  },
  {
   "cell_type": "code",
   "execution_count": 10,
   "id": "64eb6fe6-7558-4605-b81c-0be3bcc1c00d",
   "metadata": {
    "jupyter": {
     "source_hidden": true
    },
    "tags": []
   },
   "outputs": [
    {
     "data": {
      "application/vnd.jupyter.widget-view+json": {
       "model_id": "d2489c6aac884ab08d66ba3a603126e2",
       "version_major": 2,
       "version_minor": 0
      },
      "text/plain": [
       "HBox(children=(Output(), VBox(children=(Label(value='$\\\\omega$ (rpm):', layout=Layout(width='100px')), FloatSl…"
      ]
     },
     "metadata": {},
     "output_type": "display_data"
    }
   ],
   "source": [
    "out_cvf, fig_cvf,ax_cvf, ax_cvf2, lines_cvf, text_cvf = plot_bomba((5,4),120)\n",
    "\n",
    "fig_cvf.canvas.header_visible = False\n",
    "fig_cvf.canvas.footer_visible = False\n",
    "fig_cvf.canvas.toolbar_visible = False\n",
    "\n",
    "\n",
    "for i in lines_cvf[1:]:\n",
    "    i.set_alpha(0)\n",
    "for i in text_cvf[1:]:\n",
    "    i.set_text('')\n",
    "text_cvf[0].set_text('2900 RPM')\n",
    "# text_cvf[0].set_color('red')\n",
    "ax_cvf2.set_yticks([])\n",
    "ax_cvf2.set_ylabel('')\n",
    "\n",
    "# h_A_sist = ha(Q_sist,10)[0]\n",
    "# q_op = EO_Q(10,'219')\n",
    "# ha_op = ha(q_op,10)[0]\n",
    "\n",
    "qplot = np.linspace(0,max(data_plot['219'][0]),1000)\n",
    "hplot = data_fit['219'](qplot)\n",
    "ax_cvf.plot(qplot,hplot,color='black',zorder=0,dashes=(2,2))\n",
    "\n",
    "\n",
    "qplot = np.linspace(0,max(data_plot1450['219'][0]),1000)\n",
    "hplot = data_fit1450['219'](qplot)\n",
    "ax_cvf.plot(qplot,hplot,color='black',zorder=0,dashes=(2,2))\n",
    "ax_cvf.text(1,17,'1450 RPM')\n",
    "\n",
    "# ax_cvf.plot(Q_sist,h_A_sist,'C1-',label='Curva de operación')\n",
    "\n",
    "# p_opvf, = ax_cvf.plot(q_op,ha_op,'*',markersize=10,color='C0')\n",
    "# ax_cvf.plot([40,40],[0,90],'-',color='green',dashes=(2,2))\n",
    "\n",
    "\n",
    "\n",
    "def updatecvf(N):\n",
    "    qplot = np.linspace(0,max(data_plot['219'][0]),1000)\n",
    "    hplot = data_fit['219'](qplot)\n",
    "    \n",
    "    qplot=qplot*N/2900\n",
    "    hplot=hplot*(N/2900)**2\n",
    "    \n",
    "    lines_cvf[0].set_data(qplot,hplot)\n",
    "    # try:\n",
    "    #     q_opn =  EO_QN(N,10,'219',qplot,hplot)\n",
    "    #     h_opn =  ha(q_opn,10)[0]\n",
    "    # except:\n",
    "    #     q_opn=10**3\n",
    "    #     h_opn=10**3\n",
    "    # p_opvf.set_data(q_opn,h_opn)\n",
    "    \n",
    "    \n",
    "\n",
    "sli_N = widgets.FloatSlider(\n",
    "    value=2000,\n",
    "    min=900,\n",
    "    max=3600.0,\n",
    "    step=1,\n",
    "    description=' ',\n",
    "    disabled=False,\n",
    "    continuous_update=True,\n",
    "    orientation='horizontal',\n",
    "    readout=True,\n",
    "    readout_format='.0f',\n",
    "    layout=widgets.Layout(width='200px'),\n",
    "    style = {'description_width': '0px'}\n",
    ")\n",
    "\n",
    "updatecvf(2000)\n",
    "widgets.interactive(updatecvf,N=sli_N)\n",
    "\n",
    "boxcf_r =  widgets.VBox(children=[widgets.Label(r'$\\omega$ (rpm):',layout=widgets.Layout(width='100px')),sli_N],layout=widgets.Layout(width='250px',justify_content='flex-start'))\n",
    "boxcvf = widgets.HBox(children = [out_cvf,boxcf_r],\n",
    "                      layout=widgets.Layout(width='100%',justify_content='center',align_items='center'))\n",
    "display(boxcvf)"
   ]
  }
 ],
 "metadata": {
  "kernelspec": {
   "display_name": "Python 3 (ipykernel)",
   "language": "python",
   "name": "python3"
  },
  "language_info": {
   "codemirror_mode": {
    "name": "ipython",
    "version": 3
   },
   "file_extension": ".py",
   "mimetype": "text/x-python",
   "name": "python",
   "nbconvert_exporter": "python",
   "pygments_lexer": "ipython3",
   "version": "3.9.13"
  },
  "toc-autonumbering": false,
  "widgets": {
   "application/vnd.jupyter.widget-state+json": {
    "state": {
     "150b54aa066a40928778451d52bf9955": {
      "model_module": "@jupyter-widgets/controls",
      "model_module_version": "1.5.0",
      "model_name": "VBoxModel",
      "state": {
       "_dom_classes": [
        "widget-interact"
       ],
       "children": [
        "IPY_MODEL_ea7aaf5879e149b0bb50e3eb33c8ed2d",
        "IPY_MODEL_e9ac3d75144b4b85894f1067be9ad9bf"
       ],
       "layout": "IPY_MODEL_f62d077feb0e4962b5709a9f871916d0"
      }
     },
     "2287170ea6ef4edeb9c389320aab2ed9": {
      "model_module": "@jupyter-widgets/controls",
      "model_module_version": "1.5.0",
      "model_name": "VBoxModel",
      "state": {
       "children": [
        "IPY_MODEL_4ec92479a649471da5227bcd1f272397",
        "IPY_MODEL_ea7aaf5879e149b0bb50e3eb33c8ed2d"
       ],
       "layout": "IPY_MODEL_46c101cf6c9a4b1b87d1391cf75f9b2d"
      }
     },
     "36bef96d814c46b4ba1deca680752945": {
      "model_module": "@jupyter-widgets/base",
      "model_module_version": "1.2.0",
      "model_name": "LayoutModel",
      "state": {
       "align_items": "center",
       "justify_content": "center",
       "width": "100%"
      }
     },
     "417617f71317434b8e732a4853c8e5fe": {
      "model_module": "@jupyter-widgets/base",
      "model_module_version": "1.2.0",
      "model_name": "LayoutModel",
      "state": {
       "width": "200px"
      }
     },
     "42680926b8e94899b17ef1c41172b88c": {
      "model_module": "@jupyter-widgets/base",
      "model_module_version": "1.2.0",
      "model_name": "LayoutModel",
      "state": {}
     },
     "46c101cf6c9a4b1b87d1391cf75f9b2d": {
      "model_module": "@jupyter-widgets/base",
      "model_module_version": "1.2.0",
      "model_name": "LayoutModel",
      "state": {
       "justify_content": "flex-start",
       "width": "250px"
      }
     },
     "4b666f19fa0145eb827bd2dbe4ffa869": {
      "model_module": "@jupyter-widgets/controls",
      "model_module_version": "1.5.0",
      "model_name": "SliderStyleModel",
      "state": {
       "description_width": "0px"
      }
     },
     "4ec92479a649471da5227bcd1f272397": {
      "model_module": "@jupyter-widgets/controls",
      "model_module_version": "1.5.0",
      "model_name": "LabelModel",
      "state": {
       "layout": "IPY_MODEL_a4693875af914465a9be98d5110141f0",
       "style": "IPY_MODEL_8b98f22047c84704a9cff04bb16a7059",
       "value": "$\\omega$ (rpm):"
      }
     },
     "53d7c94ae6f44a5b83f20ce0904beaad": {
      "model_module": "@jupyter-widgets/base",
      "model_module_version": "1.2.0",
      "model_name": "LayoutModel",
      "state": {}
     },
     "6239ae8bb9d5411fbf1c08038a3974a6": {
      "model_module": "jupyter-matplotlib",
      "model_module_version": "^0.11",
      "model_name": "ToolbarModel",
      "state": {
       "_model_module_version": "^0.11",
       "_view_module_version": "^0.11",
       "collapsed": true,
       "layout": "IPY_MODEL_42680926b8e94899b17ef1c41172b88c",
       "orientation": "vertical",
       "toolitems": [
        [
         "Home",
         "Reset original view",
         "home",
         "home"
        ],
        [
         "Back",
         "Back to previous view",
         "arrow-left",
         "back"
        ],
        [
         "Forward",
         "Forward to next view",
         "arrow-right",
         "forward"
        ],
        [
         "Pan",
         "Left button pans, Right button zooms\nx/y fixes axis, CTRL fixes aspect",
         "arrows",
         "pan"
        ],
        [
         "Zoom",
         "Zoom to rectangle\nx/y fixes axis",
         "square-o",
         "zoom"
        ],
        [
         "Download",
         "Download plot",
         "floppy-o",
         "save_figure"
        ]
       ]
      }
     },
     "7c20ac88219c405687e8bea4422d1423": {
      "model_module": "jupyter-matplotlib",
      "model_module_version": "^0.11",
      "model_name": "MPLCanvasModel",
      "state": {
       "_cursor": "default",
       "_data_url": "data:image/png;base64,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",
       "_figure_label": "Figure 1",
       "_image_mode": "diff",
       "_model_module_version": "^0.11",
       "_size": [
        600,
        480
       ],
       "_view_module_version": "^0.11",
       "footer_visible": false,
       "header_visible": false,
       "layout": "IPY_MODEL_53d7c94ae6f44a5b83f20ce0904beaad",
       "toolbar": "IPY_MODEL_6239ae8bb9d5411fbf1c08038a3974a6",
       "toolbar_position": "left",
       "toolbar_visible": false
      }
     },
     "8b98f22047c84704a9cff04bb16a7059": {
      "model_module": "@jupyter-widgets/controls",
      "model_module_version": "1.5.0",
      "model_name": "DescriptionStyleModel",
      "state": {
       "description_width": ""
      }
     },
     "a4693875af914465a9be98d5110141f0": {
      "model_module": "@jupyter-widgets/base",
      "model_module_version": "1.2.0",
      "model_name": "LayoutModel",
      "state": {
       "width": "100px"
      }
     },
     "a4bff1f86d1d4761b0b30e0deef3ee53": {
      "model_module": "@jupyter-widgets/base",
      "model_module_version": "1.2.0",
      "model_name": "LayoutModel",
      "state": {}
     },
     "bcdf4b8496ce4512abaddbb91e957add": {
      "model_module": "jupyter-matplotlib",
      "model_module_version": "^0.11",
      "model_name": "ToolbarModel",
      "state": {
       "_model_module_version": "^0.11",
       "_view_module_version": "^0.11",
       "collapsed": true,
       "layout": "IPY_MODEL_cfc1f5decb8d48c18d8fa4f7160a4ed1",
       "orientation": "vertical",
       "toolitems": [
        [
         "Home",
         "Reset original view",
         "home",
         "home"
        ],
        [
         "Back",
         "Back to previous view",
         "arrow-left",
         "back"
        ],
        [
         "Forward",
         "Forward to next view",
         "arrow-right",
         "forward"
        ],
        [
         "Pan",
         "Left button pans, Right button zooms\nx/y fixes axis, CTRL fixes aspect",
         "arrows",
         "pan"
        ],
        [
         "Zoom",
         "Zoom to rectangle\nx/y fixes axis",
         "square-o",
         "zoom"
        ],
        [
         "Download",
         "Download plot",
         "floppy-o",
         "save_figure"
        ]
       ]
      }
     },
     "cfc1f5decb8d48c18d8fa4f7160a4ed1": {
      "model_module": "@jupyter-widgets/base",
      "model_module_version": "1.2.0",
      "model_name": "LayoutModel",
      "state": {}
     },
     "d2489c6aac884ab08d66ba3a603126e2": {
      "model_module": "@jupyter-widgets/controls",
      "model_module_version": "1.5.0",
      "model_name": "HBoxModel",
      "state": {
       "children": [
        "IPY_MODEL_e128af6a0b0e42ed8a347a01c91d466a",
        "IPY_MODEL_2287170ea6ef4edeb9c389320aab2ed9"
       ],
       "layout": "IPY_MODEL_36bef96d814c46b4ba1deca680752945"
      }
     },
     "e128af6a0b0e42ed8a347a01c91d466a": {
      "model_module": "@jupyter-widgets/output",
      "model_module_version": "1.0.0",
      "model_name": "OutputModel",
      "state": {
       "layout": "IPY_MODEL_a4bff1f86d1d4761b0b30e0deef3ee53",
       "outputs": [
        {
         "data": {
          "application/vnd.jupyter.widget-view+json": {
           "model_id": "7c20ac88219c405687e8bea4422d1423",
           "version_major": 2,
           "version_minor": 0
          },
          "image/png": "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",
          "text/html": "\n            <div style=\"display: inline-block;\">\n                <div class=\"jupyter-widgets widget-label\" style=\"text-align: center;\">\n                    Figure\n                </div>\n                <img src='data:image/png;base64,iVBORw0KGgoAAAANSUhEUgAAAlgAAAHgCAYAAAB5FxNZAAAAOXRFWHRTb2Z0d2FyZQBNYXRwbG90bGliIHZlcnNpb24zLjUuMiwgaHR0cHM6Ly9tYXRwbG90bGliLm9yZy8qNh9FAAAACXBIWXMAABJ0AAASdAHeZh94AAAi/ElEQVR4nO3df3DX9X3A8VdIEJScRbChl+LBuByKCTFzZzPudqVM0eLdJtBLEeU2IXoKFcT1pO2wVK61preuVSd0WH/ljISbC0G7gdcAdu1Ni7/mjuCPCSr14ByYjEGsP5rksz8cqSkQkbwTviSPxx1/9P39vsnr+z7q93mf74cveVmWZQEAQDJDTvYAAAADjcACAEhMYAEAJCawAAASE1gAAIkJLACAxAQWAEBiAgsAIDGBBQCQmMACAEhMYAEAJCawAAASE1gAAIkJLACAxAQWAEBiAgsAIDGBBQCQmMACAEhMYAEAJCawAAASE1gAAIkJLACAxAQWAEBiAgsAIDGBBQCQmMACAEhMYAEAJCawAAASE1gAAIkJLACAxAQWAEBiAgsAIDGBBQCQmMACAEhMYAEAJCawAAASE1gAAIkJLACAxAQWAEBiAgsAIDGBBQCQmMACAEhMYAEAJCawAAASE1gAAIkJLACAxAQWAEBiAgsAIDGBBQCQmMACAEhMYAEAJJbTgXXo0KFYtmxZXHrppfHZz3428vLy4rbbbjvu/fv27Ytrrrkmzj777DjjjDNiypQpsWXLlr4bGAAgcjywWlpa4t57740PPvggZs6c+an2fvDBB3HxxRfHli1b4q677orHHnssxowZE1/+8pfj3/7t3/pmYACAiCg42QP0ZNy4cfE///M/kZeXF++8807cd999x733/vvvj+bm5njqqadiypQpERExbdq0uOCCC2LZsmWxbdu2vhobABjkcvoKVl5eXuTl5Z3Q3sbGxjj33HO74ioioqCgIObNmxfPPPNM7NmzJ9WYAADd5HRg9UZzc3OUl5cfsX54bceOHf09EgAwSOT0R4S90dLSEqNGjTpi/fBaS0vLMffu27cv9u/f323t4MGD8V//9V8xefLkGDZsWNphAWAA++CDD+Ktt96KqVOnxsiRI0/2OP1iwAZWRPT48WJPj61evTpWrlzZFyMBwKC1YcOGuOKKK072GP1iwAbW6NGjj3qVqrW1NSLiqFe3Dlu0aFFUVVV1W3vppZfiq1/9amzYsCFKSkrSDgsAA9jOnTtj5syZcc4555zsUfrNgA2syZMnx/bt249YP7xWVlZ2zL1FRUVRVFR01MdKSkqitLQ0zZAAMIgMpltsBuxN7rNmzYpXXnml29cxtLe3R11dXVRWVkZxcfFJnA4AGMhy/grWpk2b4t13341Dhw5FxEcf1f3zP/9zRERcfvnlccYZZ0R1dXXU1tbGrl27Yty4cRERsWDBgli1alVUVVVFTU1NFBUVxerVq+PVV1+NzZs3n7TXAwAMfDkfWAsXLozdu3d3/e9HH300Hn300YiIeOONN2L8+PHR0dERHR0dkWVZ1/OGDRsWW7ZsiWXLlsXixYvjt7/9bVRUVMSmTZti6tSp/f46AIDBI+cD68033/zE5zz00EPx0EMPHbE+ZsyYqK2tTT8UAEAPBuw9WAAAJ4vAAgBITGABACQmsAAAEhNYAACJCSwAgMQEFgBAYgILACAxgQUAkJjAAgBITGABACQmsAAAEhNYAACJCSwAgMQEFgBAYgILACAxgQUAkJjAAgBITGABACQmsAAAEhNYAACJCSwAgMQEFgBAYgILACAxgQUAkJjAAgBITGABACQmsAAAEhNYAACJCSwAgMQEFgBAYgILACAxgQUAkJjAAgBITGABACQmsAAAEhNYAACJCSwAgMQEFgBAYgILACAxgQUAkJjAAgBITGABACQmsAAAEhNYAACJCSwAgMQEFgBAYgILACAxgQUAkJjAAgBITGABACQmsAAAEhNYAACJCSwAgMQEFgBAYgILACAxgQUAkJjAAgBITGABACQmsAAAEhNYAACJ5XRgtbW1xdKlS6O4uDiGDx8eFRUVsW7duuPa++STT8b06dOjqKgoCgsLo7y8PO6+++7o6Ojo46kBgMGu4GQP0JPZs2fHs88+GzU1NTFx4sRYu3ZtzJ07Nzo7O+Oqq6465r7NmzfHZZddFl/84hfjpz/9aYwYMSIef/zxuOmmm2LXrl1x11139eOrAAAGm5wNrI0bN0ZTU1NXVEVETJs2LXbv3h233HJLzJkzJ/Lz84+696GHHoqhQ4fGv/zLv8SIESMiIuKSSy6JV199NR566CGBBQD0qZz9iLCxsTEKCwujqqqq2/r8+fNj7969sW3btmPuHTp0aJx22mlx+umnd1sfOXJkDB8+vE/mBQA4LGcDq7m5OSZNmhQFBd0vspWXl3c9fiw33HBDfPjhh7FkyZLYu3dvHDhwIB5++OFobGyMZcuW9encAAA5+xFhS0tLTJgw4Yj1UaNGdT1+LJWVlbF169aoqqqKVatWRUREfn5+3HHHHfH1r3/9E3/2vn37Yv/+/d3Wdu7c+WnGBwAGsZwNrIiIvLy8E3rs+eefj1mzZkVlZWWsWbMmRowYEVu3bo1bb7013n///fj2t7/d489dvXp1rFy58oTnBgAGt5wNrNGjRx/1KlVra2tE/P5K1tF87WtfizFjxkRjY2PXjfDTpk2LIUOGxG233RZXX331Ua+OHbZo0aIj7v3auXNnzJw58wReCQAw2ORsYE2ePDnq6+ujvb29231Y27dvj4iIsrKyY+598cUXY+7cuUf8LcOLLrooOjs74+WXX+4xsIqKiqKoqKiXrwAAGKxy9ib3WbNmRVtbWzQ0NHRbr62tjeLi4qisrDzm3uLi4njuueeO+FLRp59+OiIixo4dm35gAID/l7NXsGbMmBHTp0+PhQsXxsGDB6OkpCTq6+vjiSeeiLq6uq6rU9XV1VFbWxu7du2KcePGRUTEzTffHEuWLIm/+Iu/iOuvvz7OOOOM2LJlS/z93/99XHLJJXHBBReczJcGAAxwORtYERHr16+P5cuXx4oVK6K1tTXOO++8qK+vjyuvvLLrOR0dHdHR0RFZlnWtLV68OD7/+c/Hj3/847j22mvjvffei/Hjx8d3vvOduPnmm0/GSwEABpG87ONlwjHt2LEjysrKorm5OUpLS0/2OABwyhiM76E5ew8WAMCpSmABACQmsAAAEhNYAACJCSwAgMQEFgBAYgILACAxgQUAkJjAAgBITGABACQmsAAAEhNYAACJCSwAgMQEFgBAYgILACAxgQUAkJjAAgBITGABACQmsAAAEhNYAACJCSwAgMQEFgBAYgILACAxgQUAkJjAAgBITGABACQmsAAAEhNYAACJCSwAgMQEFgBAYgILACAxgQUAkJjAAgBITGABACQmsAAAEhNYAACJCSwAgMQEFgBAYgILACAxgQUAkJjAAgBITGABACQmsAAAEhNYAACJCSwAgMQEFgBAYgILACAxgQUAkJjAAgBITGABACQmsAAAEhNYAACJCSwAgMQEFgBAYgILACAxgQUAkJjAAgBITGABACQmsAAAEhNYAACJ5XRgtbW1xdKlS6O4uDiGDx8eFRUVsW7duuPe/9hjj8XUqVPjzDPPjBEjRkRpaWnce++9fTgxAEBEwckeoCezZ8+OZ599NmpqamLixImxdu3amDt3bnR2dsZVV13V496amppYvnx53HDDDfGtb30rhg4dGq+88kp8+OGH/TQ9ADBY5Wxgbdy4MZqamrqiKiJi2rRpsXv37rjllltizpw5kZ+ff9S9zz//fCxfvjzuuOOOWLZsWdf6xRdf3C+zAwCDW85+RNjY2BiFhYVRVVXVbX3+/Pmxd+/e2LZt2zH33nPPPTFs2LBYvHhxX48JAHCEnA2s5ubmmDRpUhQUdL/IVl5e3vX4sfzyl7+MSZMmRUNDQ5x77rmRn58fY8eOjW9+85s+IgQA+lzOfkTY0tISEyZMOGJ91KhRXY8fy549e2L//v2xZMmS+O53vxvnn39+bNmyJWpqauKtt96KRx55pMefvW/fvti/f3+3tZ07d57AqwAABqOcDayIiLy8vBN6rLOzMw4dOhT19fVx5ZVXRsRH92+9++67ceedd8bKlSujpKTkmPtXr14dK1euPPHBAYBBLWc/Ihw9evRRr1K1trZGxO+vZB1rb0TEZZdd1m19xowZERHxwgsv9PizFy1aFM3Nzd1+bdiw4dOMDwAMYjl7BWvy5MlRX18f7e3t3e7D2r59e0RElJWVHXNveXl5vP3220esZ1kWERFDhvTclUVFRVFUVHQiYwMA5O4VrFmzZkVbW1s0NDR0W6+trY3i4uKorKw85t6vfOUrERGxadOmbusbN26MIUOGxEUXXZR+YACA/5ezV7BmzJgR06dPj4ULF8bBgwejpKQk6uvr44knnoi6urqu78Cqrq6O2tra2LVrV4wbNy4iPvoqhzVr1sSiRYvinXfeifPPPz82b94cq1atikWLFnU9DwCgL+RsYEVErF+/PpYvXx4rVqyI1tbWOO+887rduB4R0dHRER0dHV0f/0VEDB06NJqamuJv//Zv4/vf/360trbGH/3RH0VNTU38zd/8zcl4KQDAIJKXfbxMOKYdO3ZEWVlZNDc3R2lp6ckeBwBOGYPxPTRn78ECADhVCSwAgMQEFgBAYgILACAxgQUAkJjAAgBITGABACQmsAAAEhNYAACJCSwAgMQEFgBAYgILACAxgQUAkJjAAgBITGABACQmsAAAEhNYAACJCSwAgMQEFgBAYgILACAxgQUAkJjAAgBITGABACQmsAAAEhNYAACJCSwAgMQEFgBAYgILACAxgQUAkJjAAgBITGABACQmsAAAEhNYAACJCSwAgMQEFgBAYgILACAxgQUAkJjAAgBITGABACQmsAAAEhNYAACJCSwAgMQEFgBAYgILACAxgQUAkJjAAgBITGABACQmsAAAEhNYAACJCSwAgMQEFgBAYgILACAxgQUAkJjAAgBITGABACQmsAAAEhNYAACJCSwAgMQEFgBAYgILACAxgQUAkFhOB1ZbW1ssXbo0iouLY/jw4VFRURHr1q371L/PrbfeGnl5eVFWVtYHUwIAdFdwsgfoyezZs+PZZ5+NmpqamDhxYqxduzbmzp0bnZ2dcdVVVx3X7/Hiiy/GD3/4wxgzZkwfTwsA8JGcDayNGzdGU1NTV1RFREybNi12794dt9xyS8yZMyfy8/N7/D3a29tj/vz5cf3118d//ud/xjvvvNMfowMAg1zOfkTY2NgYhYWFUVVV1W19/vz5sXfv3ti2bdsn/h41NTXR2toat99+e1+NCQBwhJwNrObm5pg0aVIUFHS/yFZeXt71eE9eeuml+N73vhc/+clPorCwsM/mBAD4Qzn7EWFLS0tMmDDhiPVRo0Z1PX4snZ2dsWDBgpg9e3Zcfvnln/pn79u3L/bv399tbefOnZ/69wEABqecDayIiLy8vBN67Ec/+lG89tpr8fjjj5/Qz129enWsXLnyhPYCAORsYI0ePfqoV6laW1sj4vdXsv7Qb37zm1ixYkXU1NTEaaedFgcOHIiIj2547+zsjAMHDsSwYcPi9NNPP+bPXrRo0RH3fu3cuTNmzpx5Yi8GABhUcjawJk+eHPX19dHe3t7tPqzt27dHRBzzO61ef/31eO+99+Kmm26Km2666YjHzzrrrLjpppvizjvvPObPLioqiqKiot69AABg0MrZwJo1a1b89Kc/jYaGhpgzZ07Xem1tbRQXF0dlZeVR91VUVMSTTz55xPrSpUvjf//3f+PBBx+MsWPH9tncAAA5G1gzZsyI6dOnx8KFC+PgwYNRUlIS9fX18cQTT0RdXV3Xd2BVV1dHbW1t7Nq1K8aNGxcjR46ML33pS0f8fiNHjoz29vajPgYAkFLOBlZExPr162P58uWxYsWKaG1tjfPOOy/q6+vjyiuv7HpOR0dHdHR0RJZlJ3FSAIDfy8uUyXHZsWNHlJWVRXNzc5SWlp7scQDglDEY30Nz9otGAQBOVQILACAxgQUAkJjAAgBITGABACQmsAAAEhNYAACJCSwAgMQEFgBAYgILACAxgQUAkJjAAgBITGABACQmsAAAEhNYAACJCSwAgMQEFgBAYgILACAxgQUAkJjAAgBITGABACQmsAAAEhNYAACJCSwAgMQEFgBAYgILACAxgQUAkJjAAgBITGABACQmsAAAEhNYAACJCSwAgMQEFgBAYgILACAxgQUAkJjAAgBITGABACQmsAAAEhNYAACJCSwAgMQEFgBAYgILACAxgQUAkJjAAgBITGABACQmsAAAEhNYAACJCSwAgMQEFgBAYgILACAxgQUAkJjAAgBITGABACQmsAAAEhNYAACJCSwAgMQEFgBAYgILACAxgQUAkJjAAgBITGABACSW04HV1tYWS5cujeLi4hg+fHhUVFTEunXrPnHf+vXrY+7cuVFSUhKnn356jB8/Pq6++up47bXX+mFqAGCwKzjZA/Rk9uzZ8eyzz0ZNTU1MnDgx1q5dG3Pnzo3Ozs646qqrjrnvBz/4QXzuc5+L5cuXx4QJE+Ktt96K73//+3HhhRfGr3/96ygtLe3HVwEADDY5G1gbN26MpqamrqiKiJg2bVrs3r07brnllpgzZ07k5+cfde/PfvazKCoq6rb253/+5zF+/Pj48Y9/HPfdd1+fzw8ADF45+xFhY2NjFBYWRlVVVbf1+fPnx969e2Pbtm3H3PuHcRURUVxcHGPHjo233nor+awAAB+Xs4HV3NwckyZNioKC7hfZysvLux7/NF5//fXYvXu3jwcBgD6Xsx8RtrS0xIQJE45YHzVqVNfjx6u9vT2qq6ujsLAwbr755k98/r59+2L//v3d1nbu3HncPw8AGNxyNrAiIvLy8k7osY/Lsiyqq6vjV7/6VTQ0NMQ555zziXtWr14dK1euPO45AQA+LmcDa/To0Ue9StXa2hoRv7+S1ZMsy+Laa6+Nurq6qK2tjSuuuOK4fvaiRYuOuPdr586dMXPmzOPaDwAMbjkbWJMnT476+vpob2/vdh/W9u3bIyKirKysx/2H4+rBBx+M+++/P+bNm3fcP7uoqOioN8oDAByPnL3JfdasWdHW1hYNDQ3d1mtra6O4uDgqKyuPuTfLsrjuuuviwQcfjDVr1sT8+fP7elwAgC45ewVrxowZMX369Fi4cGEcPHgwSkpKor6+Pp544omoq6vr+g6s6urqqK2tjV27dsW4ceMiImLJkiVx//33x4IFC2Ly5Mnx61//uuv3HTZsWPzxH//xSXlNAMDgkLOBFfHRP3mzfPnyWLFiRbS2tsZ5550X9fX1ceWVV3Y9p6OjIzo6OiLLsq61n/3sZxER8cADD8QDDzzQ7fccN25cvPnmm/0yPwAwOOVlHy8TjmnHjh1RVlYWzc3NvksLAD6FwfgemrP3YAEAnKoEFgBAYgILACAxgQUAkJjAAgBITGABACQmsAAAEhNYAACJCSwAgMQEFgBAYgILACAxgQUAkJjAAgBITGABACQmsAAAEhNYAACJCSwAgMQEFgBAYgILACAxgQUAkJjAAgBITGABACQmsAAAEhNYAACJCSwAgMQEFgBAYgILACAxgQUAkJjAAgBITGABACQmsAAAEhNYAACJCSwAgMQEFgBAYgILACAxgQUAkJjAAgBITGABACQmsAAAEhNYAACJCSwAgMQEFgBAYgILACAxgQUAkJjAAgBITGABACQmsAAAEhNYAACJCSwAgMQEFgBAYgILACAxgQUAkJjAAgBITGABACQmsAAAEhNYAACJCSwAgMQEFgBAYgILACAxgQUAkJjAAgBILKcDq62tLZYuXRrFxcUxfPjwqKioiHXr1h3X3n379sU111wTZ599dpxxxhkxZcqU2LJlSx9PDAAQUXCyB+jJ7Nmz49lnn42ampqYOHFirF27NubOnRudnZ1x1VVXHXPfBx98EBdffHEcOHAg7rrrrigqKopVq1bFl7/85di8eXNMnTq1H18FADDY5Gxgbdy4MZqamrqiKiJi2rRpsXv37rjllltizpw5kZ+ff9S9999/fzQ3N8dTTz0VU6ZM6dp7wQUXxLJly2Lbtm399joAgMEnZz8ibGxsjMLCwqiqquq2Pn/+/Ni7d2+PkdTY2BjnnntuV1xFRBQUFMS8efPimWeeiT179vTZ3AAAORtYzc3NMWnSpCgo6H6Rrby8vOvxnvYeft7R9u7YsSPhpAAA3eXsR4QtLS0xYcKEI9ZHjRrV9XhPew8/79PujfjoBvn9+/d3W3vppZciImLnzp09Dw4AdHP4vfODDz44yZP0n5wNrIiIvLy8E3qst3tXr14dK1euPOpjM2fO7HEvAHB027dvjwsvvPBkj9EvcjawRo8efdQrTa2trRERR71ClWJvRMSiRYuOuPfrxRdfjHnz5sU//dM/xfnnn/+J89N7O3fujJkzZ8aGDRuipKTkZI8zKDjz/ufM+58z738vvfRSfPWrX42JEyee7FH6Tc4G1uTJk6O+vj7a29u73Ye1ffv2iIgoKyvrce/h533c8eyNiCgqKoqioqKjPnb++edHaWnpJ85POiUlJc68nznz/ufM+58z739nnnnmyR6h3+TsTe6zZs2Ktra2aGho6LZeW1sbxcXFUVlZ2ePeV155pdvfNGxvb4+6urqorKyM4uLiPpsbACBnr2DNmDEjpk+fHgsXLoyDBw9GSUlJ1NfXxxNPPBF1dXVd34FVXV0dtbW1sWvXrhg3blxERCxYsCBWrVoVVVVVUVNTE0VFRbF69ep49dVXY/PmzSfzZQEAg0DOBlZExPr162P58uWxYsWKaG1tjfPOOy/q6+vjyiuv7HpOR0dHdHR0RJZlXWvDhg2LLVu2xLJly2Lx4sXx29/+NioqKmLTpk2+xR0A6HN52cfLhGPat29frF69OhYtWnTM+7NIy5n3P2fe/5x5/3Pm/W8wnrnAAgBILGdvcgcAOFUJLACAxAQWAEBiAgsAILFBH1htbW2xdOnSKC4ujuHDh0dFRUWsW7fuuPbu27cvrrnmmjj77LPjjDPOiClTpsSWLVv6eOJT34me+fr162Pu3LlRUlISp59+eowfPz6uvvrqeO211/ph6lNbb/6cf9ytt94aeXl5n/ivIdD7M3/sscdi6tSpceaZZ8aIESOitLQ07r333j6c+NTXmzN/8sknY/r06VFUVBSFhYVRXl4ed999d3R0dPTx1Ke2Q4cOxbJly+LSSy+Nz372s5GXlxe33Xbbce8f0O+j2SA3ffr0bOTIkdk//uM/Zlu3bs2uvfbaLCKyRx55pMd977//flZWVpaNHTs2q6ury37+859nV1xxRVZQUJD94he/6KfpT00neuZf+MIXsr/8y7/MHnjggewXv/hF9vDDD2eTJk3KCgsLs+bm5n6a/tR0omf+cf/xH/+RDRs2LBszZkxWWlrah9MODL058zvuuCMbMmRItmjRomzTpk3Z5s2bs3vuuSf7h3/4h36Y/NR1omfe1NSUDRkyJPvSl76UbdiwIWtqasoWL16cRUS2ZMmSfpr+1PTGG29kn/nMZ7IvfvGLXef9ne9857j2DvT30UEdWP/6r/+aRUS2du3abuvTp0/PiouLs/b29mPuXbVqVRYR2VNPPdW19rvf/S47//zzsy984Qt9NvOprjdn/t///d9HrO3ZsycbOnRoVl1dnXzWgaI3Z37Y7373u6yioiJbsmRJNnXqVIH1CXpz5s8991w2ZMiQ7Ac/+EFfjzmg9ObMr7766mzYsGFZW1tbt/VLL700O/PMM/tk3oGis7Mz6+zszLIsy/bv3/+pAmugv48O6o8IGxsbo7CwMKqqqrqtz58/P/bu3dvt3zI82t5zzz03pkyZ0rVWUFAQ8+bNi2eeeSb27NnTZ3Ofynpz5kf7crri4uIYO3ZsvPXWW8lnHSh6c+aH1dTURGtra9x+++19NeaA0pszv+eee2LYsGGxePHivh5zQOnNmQ8dOjROO+20OP3007utjxw5MoYPH94n8w4UeXl5kZeXd0J7B/r76KAOrObm5pg0aVIUFHT/F4PKy8u7Hu9p7+HnHW3vjh07Ek46cPTmzI/m9ddfj927d0dpaWmyGQea3p75Sy+9FN/73vfiJz/5SRQWFvbZnANJb878l7/8ZUyaNCkaGhri3HPPjfz8/Bg7dmx885vfjA8//LBP5z6V9ebMb7jhhvjwww9jyZIlsXfv3jhw4EA8/PDD0djYGMuWLevTuQezgf4+OqgDq6WlJUaNGnXE+uG1lpaWPtk7mKU8t/b29qiuro7CwsK4+eabk8040PTmzDs7O2PBggUxe/bsuPzyy/tsxoGmN2e+Z8+eeO2112LJkiWxZMmS2Lx5c1xzzTXxwx/+MObPn99nM5/qenPmlZWVsXXr1mhsbIzPf/7zcdZZZ8X8+fPj9ttvj69//et9NvNgN9DfR3P6H3vuDz1d2vyky5692TuYpTi3LMuiuro6fvWrX0VDQ0Occ845qcYbkE70zH/0ox/Fa6+9Fo8//nhfjDWgneiZd3Z2xqFDh7r9w/bTpk2Ld999N+68885YuXJllJSUJJ93IDjRM3/++edj1qxZUVlZGWvWrIkRI0bE1q1b49Zbb433338/vv3tb/fFuMTAfh8d1IE1evTooxZya2trRMRRyzrF3sEsxbllWRbXXntt1NXVRW1tbVxxxRXJ5xxITvTMf/Ob38SKFSuipqYmTjvttDhw4EBEfHTlsLOzMw4cOBDDhg074r4Vev/flrfffjsuu+yybuszZsyIO++8M1544QWBdRS9OfOvfe1rMWbMmGhsbIz8/PyI+ChqhwwZErfddltcffXVMWHChL4ZfBAb6O+jg/ojwsmTJ8fLL78c7e3t3da3b98eEdHjd/1Mnjy563mfdu9g1pszj/h9XD344INx3333xbx58/ps1oHiRM/89ddfj/feey9uuummOOuss7p+/fu//3u8/PLLcdZZZ8W3vvWtPp//VNSbP+dHuycl4qM/+xERQ4YM6v9sH1NvzvzFF1+MP/mTP+mKq8Muuuii6OzsjJdffjn9wAz499FB/f/UWbNmRVtbWzQ0NHRbr62tjeLi4qisrOxx7yuvvNLtb6a0t7dHXV1dVFZWRnFxcZ/NfSrrzZlnWRbXXXddPPjgg7FmzRr3oxynEz3zioqKePLJJ4/4dcEFF8T48ePjySefjBtvvLE/XsIppzd/zr/yla9ERMSmTZu6rW/cuDGGDBkSF110UfqBB4DenHlxcXE899xzR3yp6NNPPx0REWPHjk0/MAP/ffSkfklEDpg+fXp21llnZffee2+2devW7LrrrssiIqurq+t6zoIFC7L8/PzszTff7Fp7//33s9LS0uycc87JHnnkkaypqSmbNWvWgPmCtL50omd+4403ZhGRLViwIHv66ae7/XrhhRdOxks5ZZzomR+N78E6Pid65h9++GF24YUXZp/5zGeyu+66K2tqasq+8Y1vZPn5+dmNN954Ml7KKeNEz/zuu+/OIiKbMWNGtmHDhuznP/959o1vfCMrKCjILrnkkpPxUk4pGzduzB599NHsgQceyCIiq6qqyh599NHs0Ucfzd59990sywbn++igD6xDhw5lS5YsyT73uc9lp512WlZeXp7V19d3e85f//VfZxGRvfHGG93W33777eyv/uqvslGjRmXDhw/P/vRP/zRramrqx+lPTSd65uPGjcsi4qi/xo0b178v4hTTmz/nf0hgHZ/enHlLS0t2/fXXZ2PGjMmGDh2aTZw4Mfu7v/u7rKOjox9fwamnN2fe0NCQ/dmf/Vl29tlnZyNGjMhKS0uz7373u0d8+ShH6um/zYfPeTC+j+Zl2f9/sA8AQBKD+h4sAIC+ILAAABITWAAAiQksAIDEBBYAQGICCwAgMYEFAJCYwAIASExgAQAkJrAAABITWAAAiQksAIDEBBYAQGICCwAgMYEFAJCYwAIASExgAQAkJrAAABITWAAAiQksAIDEBBYAQGICCwAgMYEFAJCYwAIASExgAQAkJrAAABITWAAAiQksAIDE/g9MspzAQb6sQQAAAABJRU5ErkJggg==' width=600.0/>\n            </div>\n        ",
          "text/plain": "Canvas(footer_visible=False, header_visible=False, toolbar=Toolbar(toolitems=[('Home', 'Reset original view', …"
         },
         "metadata": {},
         "output_type": "display_data"
        }
       ]
      }
     },
     "e9ac3d75144b4b85894f1067be9ad9bf": {
      "model_module": "@jupyter-widgets/output",
      "model_module_version": "1.0.0",
      "model_name": "OutputModel",
      "state": {
       "layout": "IPY_MODEL_eccae8db753b42d7b8dc81e27d27d767"
      }
     },
     "ea7aaf5879e149b0bb50e3eb33c8ed2d": {
      "model_module": "@jupyter-widgets/controls",
      "model_module_version": "1.5.0",
      "model_name": "FloatSliderModel",
      "state": {
       "description": " ",
       "layout": "IPY_MODEL_417617f71317434b8e732a4853c8e5fe",
       "max": 3600,
       "min": 900,
       "readout_format": ".0f",
       "style": "IPY_MODEL_4b666f19fa0145eb827bd2dbe4ffa869",
       "value": 2000
      }
     },
     "ecc400098c54420d90482bd2d18ce74c": {
      "model_module": "@jupyter-widgets/base",
      "model_module_version": "1.2.0",
      "model_name": "LayoutModel",
      "state": {
       "align_items": "center",
       "justify_content": "center",
       "width": "100%"
      }
     },
     "eccae8db753b42d7b8dc81e27d27d767": {
      "model_module": "@jupyter-widgets/base",
      "model_module_version": "1.2.0",
      "model_name": "LayoutModel",
      "state": {}
     },
     "f62d077feb0e4962b5709a9f871916d0": {
      "model_module": "@jupyter-widgets/base",
      "model_module_version": "1.2.0",
      "model_name": "LayoutModel",
      "state": {}
     }
    },
    "version_major": 2,
    "version_minor": 0
   }
  }
 },
 "nbformat": 4,
 "nbformat_minor": 5
}
