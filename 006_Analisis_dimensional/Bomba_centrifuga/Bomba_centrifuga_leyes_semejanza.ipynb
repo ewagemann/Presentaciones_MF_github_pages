{
 "cells": [
  {
   "cell_type": "markdown",
   "id": "6d6d0502-a13d-4946-ae1d-69de78789a1d",
   "metadata": {},
   "source": [
    "# Caso de estudio: Leyes de Semejanza para bombas centrífugas"
   ]
  },
  {
   "cell_type": "markdown",
   "id": "370ab9e8-47f1-4a1d-b2b8-e17ebeeaad20",
   "metadata": {},
   "source": [
    "<p style='text-align-justify'>Las bombas son equipos que <b>entregan energía al fluido</b>, permitiendole fluir bajo condiciones en las cuales no lo haría espontaneamente. El tipo de bombas más utilizadas para impulsar fluidos incompresibles corresponden a las <b>bombas centrífugas</b>. </p>"
   ]
  },
  {
   "cell_type": "markdown",
   "id": "b2cbc030-4732-4f9a-abe6-3477b2bcecc7",
   "metadata": {},
   "source": [
    "## Esquema general de una bomba centrífuga"
   ]
  },
  {
   "cell_type": "markdown",
   "id": "94f37479-50b0-49c0-95e7-dca969906377",
   "metadata": {},
   "source": [
    "<center>\n",
    "<table style='background-color:white;width:60%;border: 0px solid white'>\n",
    "    <tr>\n",
    "        <td style='width:50%;background-color:white'>\n",
    "            <center>\n",
    "                <img border=0 src=Figures/horizontal-centrifugal-pump-500x500.jpg width=100%>\n",
    "            </center>\n",
    "        </td>\n",
    "        <td style='width:50%;background-color:white'>\n",
    "            <center>\n",
    "                 <img border=0 src=Figures/centrifuga.png width=100%>\n",
    "            </center>\n",
    "        </td>\n",
    "    </tr>\n",
    "</table>\n",
    "</center>"
   ]
  },
  {
   "cell_type": "markdown",
   "id": "620ab364-15a5-47d6-9e02-2de62a6c4ed6",
   "metadata": {},
   "source": [
    "### Impulsor"
   ]
  },
  {
   "cell_type": "markdown",
   "id": "0572c60e-d943-464f-8948-5e14714fb2b9",
   "metadata": {},
   "source": [
    "<center>\n",
    "<table style='background-color:white;width:60%;border: 0px solid white'>\n",
    "    <tr>\n",
    "        <td style='width:50%;background-color:white'>\n",
    "            <center>\n",
    "                <img src=Figures/impulsor.jpg width=100%>\n",
    "            </center>\n",
    "        </td>\n",
    "        <td style='width:50%;background-color:white'>\n",
    "            <center>\n",
    "                 <img src=Figures/radial.png width=100%>\n",
    "            </center>\n",
    "        </td>\n",
    "    </tr>\n",
    "</table>\n",
    "</center>"
   ]
  },
  {
   "cell_type": "markdown",
   "id": "de409ec6-2734-4d52-a828-5fe48596f0f4",
   "metadata": {},
   "source": [
    "## Funcionamiento de una bomba centrífuga"
   ]
  },
  {
   "cell_type": "markdown",
   "id": "d8e1216e-156d-496e-89f7-87f50f829910",
   "metadata": {},
   "source": [
    "<p style='text-align-justify'> El funcionamiento de una bomba centrífuga puede ser simplificado al siguiente proceso:</p>\n",
    "<ul style='text-align:justify'>\n",
    "    <li> El fluido ingresa a la bomba a través de la línea de descarga, en el centro del impulsor, con velocidad paralela al eje de este último</li>\n",
    "    <li> El fluido es expulsado radialemnte, debido al giro del impulsor </li>\n",
    "    <li> La dirección del flujo es rectificada por la carcasa y el fluido es expulsado a través de la línea de descarga </li>\n",
    "</ul>\n",
    "        "
   ]
  },
  {
   "cell_type": "markdown",
   "id": "b3b09c0c-7ec0-47e6-baef-6ddae0bc0045",
   "metadata": {},
   "source": [
    "<center> <img src=Figures/centrifuga_func.gif width=40%></center>"
   ]
  },
  {
   "cell_type": "markdown",
   "id": "9520ebd8-e83b-430b-b81b-a7e2b5494f56",
   "metadata": {},
   "source": [
    "<p style='text-align:justify'>En el proceso anteriormente descrito, la bomba entrega energía al fluido, la cual es normalmente caracterizada mediante la <b>carga que eleva la bomba $h_A$</b>:</p>\n",
    "\n",
    "\\begin{equation}\n",
    "h_A = \\frac{p_D-p_{S}}{\\gamma}\n",
    "\\end{equation}\n",
    "\n",
    "<p style='text-align:justify'>donde los sufijos $D$ y $S$ indican descarga y succión, respectivamente</p>"
   ]
  },
  {
   "cell_type": "markdown",
   "id": "579930be-012d-494a-accb-b5c93ce7367a",
   "metadata": {},
   "source": [
    "<p style='text-align:justify'>El funcionamiento de una bomba centrífuga variará de modelo en modelo. De esta forma, cada  bomba tendrá asociada <b>una curva de rendimiento</b> en particular.</p>"
   ]
  },
  {
   "cell_type": "markdown",
   "id": "ed0e81ef-62a2-4fc0-b5c2-64b89347a0ff",
   "metadata": {},
   "source": [
    "<center>\n",
    "<img src=Figures/rendimientos.png width=60%>    \n",
    "</center>"
   ]
  },
  {
   "cell_type": "markdown",
   "id": "07570b17-18c9-4d47-ab0d-67b0d963bd0a",
   "metadata": {},
   "source": [
    "<p style=\"text-align:justify\">La carga que eleva la bomba $h_A$, el caudal generado $Q$ (capacidad), la potencia $P$ requerida para su funcionamiento y la eficiencia $\\eta$ con la cual trabaja están relacionados entre ellos. Esta relación (y la relación con otros parámetros adicionales) no puede ser determinada mediante métodos analíticos, <b>por lo que la caracterización de estas curvas debe realizarse experimentalmente</b>. Por lo general, esta caracterización es realizada por el fabricante y es presentada en catálogos a través de gráficos que incluyen estas curvas de rendimiento.</p>"
   ]
  },
  {
   "cell_type": "markdown",
   "id": "2041fd10-a2ba-436c-8d28-7f3bd46dea07",
   "metadata": {},
   "source": [
    "<p style='text-align:justify'>\n",
    "Es importante destacar que las curvas de rendimiento son desarrolladas para un modelo en específico de bomba (con un tamaño determinado, incluyendo el <b>diámetro del impulsor $D$</b>), trabajando a una <b>velocidad del impulsor $\\omega$</b> específica, y con un <b>fluido</b> en particular. De esta forma, si deseamos determinar las curvas de rendimiento para otras condiciones de operación, deberemos realizar experimentos adicionales para determinar estas nuevas curvas de rendimiento <b>(¡o hacer uso del análisis dimensional!)</b>. \n",
    "</p>\n",
    "<p style='text-align:justify'>Ejemplos de situaciones en las cuales deseamos extrapolar estas curvas son:</p>\n",
    "<ul style='text-align:justify'>\n",
    "    <li> <b>Cambio de la velocidad del impulsor </b>: la velocidad del impulsor es determinada por el motor de la bomba. Si es motor eléctrico, dependerá de la frecuencia de la corriente eléctrica que es alimentada a este. En Chile, $\\omega=900$, $1450$, o $2900$ $\\text{rpm}$ para motores de $6$, $4$ y $2$ polos, respectivamente. \n",
    "        <ul style='text-align:justify'>\n",
    "            <li>Si disponemos de la curva de rendimiento para una velocidad, podemos estimar la curva que se obtendría si se cambia el motor (notar que a medida que aumenta $\\omega$, también lo hará $h_A$ y $Q$).\n",
    "            </li>\n",
    "            <li> Si empleamos variadores de frecuencia, es posible cambiar $\\omega$. Esta estrategia es empleada para controlar el flujo.\n",
    "            </li>\n",
    "        </ul>\n",
    "    <li> <b> Escalamiento de la bomba </b>: si el fabricante desea diseñar una bomba de mayor capacidad, puede realizar estimaciones iniciales del tamaño requerido de la bomba a partir de las curvas de rendimiento de una bomba conocida. <b>Esto suponiendo que existirá similitud geométrica entre ambas bombas</b>\n",
    "    </li>\n",
    "</ul>"
   ]
  },
  {
   "cell_type": "markdown",
   "id": "9d67fdb0-9222-446d-adb4-d2ba2b1e7cfd",
   "metadata": {},
   "source": [
    "## A modo de resumen:"
   ]
  },
  {
   "cell_type": "markdown",
   "id": "3aed6e9d-7b8b-4eb6-80c0-b06374b7e41a",
   "metadata": {},
   "source": [
    "<b> Disponemos de: </b>\n",
    "<ul style='text-align:justify'> \n",
    "    <li> \n",
    "        Curva de rendimiento de una bomba, de geometría establecida, trabajando bajo condiciones de operación fijas. \n",
    "    </li>\n",
    "</ul>\n",
    "<b> Deseamos: </b>\n",
    "<ul style='text-align:justify'>\n",
    "    <li>\n",
    "        Determinar expresiones que nos permitan extrapolar la curva de rendimiento a:\n",
    "    <ul style='text-align:justify'>\n",
    "                <li> Condiciones de operación distintas a las cuales la curva de rendimiento fue determinada (<b>cambio de la velocidad del impulsor</b>)</li>\n",
    "        <li>\n",
    "            Bombas de mayor (o menor) tamaño, de <b>geomería similar</b> a la de la bomba de la cual disponemos la curva de rendimiento.\n",
    "        </li>\n",
    "    </ul>\n",
    "    </li>\n",
    "    </ul>\n",
    "        \n",
    "    "
   ]
  },
  {
   "cell_type": "markdown",
   "id": "ac883722-2673-42f8-b1bb-ac562f2e5240",
   "metadata": {},
   "source": [
    "## Análisis dimensional: Aplicación del teorema Pi de Buckingham"
   ]
  },
  {
   "cell_type": "markdown",
   "id": "b41f73ef-2f98-4386-accc-42e47984c797",
   "metadata": {},
   "source": [
    "### 1- Listado de parámetros relevantes"
   ]
  },
  {
   "cell_type": "markdown",
   "id": "25432be7-3b0d-4b96-a161-3788de580ce3",
   "metadata": {},
   "source": [
    "<p style='text-align:justify'>\n",
    "    La experiencia ha demostrado que la carga elevada por una bomba, expresada como energía por unidad de masa ($gh_A$), depende de:\n",
    "<ul>\n",
    "    <li> El caudal $Q$</li>\n",
    "    <li> La densidad del fluido $\\rho$</li>\n",
    "    <li> La velocidad del impulsor $\\omega$ (expresada por lo general en $\\text{rpm}$</li>\n",
    "    <li> El diámetro del impulsor $D$</li>\n",
    "    <li> La viscosidad del fluido $\\mu$</li>\n",
    "    <li> La rugosidad del material que compone la bomba </li>\n",
    "</ul>\n",
    "De esta forma:\n",
    "\n",
    "\\begin{equation}\n",
    "gh_A = f\\left(Q, \\rho, \\omega, D, \\mu, \\epsilon\\right)\n",
    "\\end{equation}\n",
    "\n",
    "<b> Notar que el producto $gh_A$ será considerado como una única variable compuesta a partir de este punto</b>"
   ]
  },
  {
   "cell_type": "markdown",
   "id": "72a7d474-8cd5-4ee5-a138-3355dae27b67",
   "metadata": {},
   "source": [
    "### 2- Dimensiones primarias"
   ]
  },
  {
   "cell_type": "markdown",
   "id": "d5c41b6a-3c49-4bee-9dba-7cc434b2f05a",
   "metadata": {},
   "source": [
    "Consideraremos como dimensiones primarias $M$, $L$ y $t$"
   ]
  },
  {
   "cell_type": "markdown",
   "id": "132e5779-2320-4c11-ac3d-0c72e988c4a0",
   "metadata": {},
   "source": [
    "### 3- Matriz dimensional"
   ]
  },
  {
   "cell_type": "markdown",
   "id": "877ea9a8-f047-46c1-a5ee-0d3a8b0c74c4",
   "metadata": {},
   "source": [
    "Las dimensiones de los parámetros involucrados son:"
   ]
  },
  {
   "cell_type": "markdown",
   "id": "71b247e1-c713-484c-a9f5-d393ca83bad5",
   "metadata": {},
   "source": [
    "\\begin{equation*}\n",
    "\\begin{array}{c|ccccccc} \n",
    "& g h_A & Q & \\rho & \\omega & D & \\mu & \\varepsilon \\\\\n",
    "\\hline M & 0 & 0 & 1 & 0 & 0 & 1 & 0 \\\\\n",
    "L & 2 & 3 & -3 & 0 & 1 & -1 & 1 \\\\\n",
    "t & -2 & -1 & 0 & -1 & 0 & -1 & 0\n",
    "\\end{array}\n",
    "\\end{equation*}"
   ]
  },
  {
   "cell_type": "markdown",
   "id": "df6bb422-5066-4172-8220-bcc1e40778a1",
   "metadata": {},
   "source": [
    "y la correspondiente matriz dimensional es:"
   ]
  },
  {
   "cell_type": "markdown",
   "id": "de03da7d-3b04-4f2a-86ff-81bada1d3e75",
   "metadata": {},
   "source": [
    "\\begin{equation*}\n",
    "\\textbf{A}_{dim}=\\begin{bmatrix}\n",
    " 0 & 0 & 1 & 0 & 0 & 1 & 0 \\\\\n",
    "2 & 3 & -3 & 0 & 1 & -1 & 1 \\\\\n",
    "-2 & -1 & 0 & -1 & 0 & -1 & 0\n",
    "\\end{bmatrix}\n",
    "\\end{equation*}"
   ]
  },
  {
   "cell_type": "markdown",
   "id": "9acf8b8d-f7a8-45e6-9b9e-a78cc9271d88",
   "metadata": {},
   "source": [
    "### 4- Determinación de la reducción $j$"
   ]
  },
  {
   "cell_type": "markdown",
   "id": "d2b0b389-f61a-417e-906f-4e44e2dccd43",
   "metadata": {},
   "source": [
    "El rango de la matríz dimensional es:"
   ]
  },
  {
   "cell_type": "code",
   "execution_count": 1,
   "id": "67f8bb70-fa7a-4c51-bddd-eb2600afa61c",
   "metadata": {
    "tags": []
   },
   "outputs": [],
   "source": [
    "import numpy as np\n",
    "from scipy.linalg import solve\n",
    "from IPython.display import Math, display\n",
    "\n",
    "def p_print(string):\n",
    "    display(Math(string))"
   ]
  },
  {
   "cell_type": "code",
   "execution_count": 2,
   "id": "45675b15-d120-4fee-b41c-3ddc722b163c",
   "metadata": {
    "tags": []
   },
   "outputs": [
    {
     "data": {
      "text/latex": [
       "$\\displaystyle \\text{rank}\\left({\\textbf{A}_{dim}}\\right) = 3$"
      ],
      "text/plain": [
       "<IPython.core.display.Math object>"
      ]
     },
     "metadata": {},
     "output_type": "display_data"
    }
   ],
   "source": [
    "mat_dim = [[0,0,1,0,0,1,0],\n",
    "           [2,3,-3,0,1,-1,1],\n",
    "           [-2,-1,0,-1,0,-1,0]]\n",
    "rank = np.linalg.matrix_rank(mat_dim)\n",
    "p_print(fr'\\text{{rank}}\\left({{\\textbf{{A}}_{{dim}}}}\\right) = {rank}')"
   ]
  },
  {
   "cell_type": "markdown",
   "id": "47fc8d50-bebb-4bea-9476-87fbdbca8d48",
   "metadata": {},
   "source": [
    "De esta forma, $j=3$. Ya que el proceso considera $7$ parámetros dimensionales, deberemos:\n",
    "\n",
    "<ul>\n",
    "    <li> Seleccionar $3$ variables de repetición </li>\n",
    "    <li> Generar $4$ grupos adimensionales </li>\n",
    "</ul>"
   ]
  },
  {
   "cell_type": "markdown",
   "id": "eb5eb5a6-5ec7-4ed1-af9f-bdbe76adba69",
   "metadata": {},
   "source": [
    "### 5- Variables de repetición"
   ]
  },
  {
   "cell_type": "markdown",
   "id": "e2fe5e9c-81e5-4204-b9b6-3493f8720e5a",
   "metadata": {},
   "source": [
    "Consideraremos como variables de repetición: $D$, $\\omega$ y $\\rho$"
   ]
  },
  {
   "cell_type": "markdown",
   "id": "70eba89a-4a6b-44f7-9b26-8873b5140aeb",
   "metadata": {},
   "source": [
    "### 6- Ecuaciones dimensionales"
   ]
  },
  {
   "cell_type": "markdown",
   "id": "8af384b0-9bba-40e1-ba61-bb6b9f5c7cab",
   "metadata": {},
   "source": [
    "#### Primer grupo adimensional $\\Pi_1$"
   ]
  },
  {
   "cell_type": "markdown",
   "id": "190e78af-1490-4deb-99c2-78859abb19d7",
   "metadata": {},
   "source": [
    "\\begin{equation}\n",
    "\\Pi_1 = D^a\\omega^b\\rho^c(gh_A)\\Rightarrow \\left(L\\right)^a\\left(t^{-1}\\right)^{b}\\left(ML^{-3}\\right)^c \\left(L^2t^{-2}\\right)=M^0L^0t^0\n",
    "\\end{equation}"
   ]
  },
  {
   "cell_type": "markdown",
   "id": "86ed0afe-9f14-48ab-adcd-5f49f495dfc3",
   "metadata": {},
   "source": [
    "$$\\begin{array}{rr}\n",
    "M: & c=0 \\\\\n",
    "L: & a-3c+2=0 \\\\\n",
    "t: & -b-2=0\n",
    "\\end{array}\n",
    "$$"
   ]
  },
  {
   "cell_type": "markdown",
   "id": "fa052feb-4846-47a6-aeb5-79c1e993d45a",
   "metadata": {},
   "source": [
    "En forma matricial:\n",
    "$$\\begin{aligned}\n",
    "\\textbf{Ax} &= \\textbf{b} \\\\\n",
    "\\begin{bmatrix}\n",
    "0 & 0 & 1 \\\\\n",
    "1 & 0 & -3 \\\\\n",
    "0 & -1 & 0 \n",
    "\\end{bmatrix}\n",
    "\\begin{bmatrix}\n",
    "a \\\\ b \\\\ c\n",
    "\\end{bmatrix} &=\n",
    "\\begin{bmatrix}\n",
    "0 \\\\-2 \\\\ 2\n",
    "\\end{bmatrix}\n",
    "\\end{aligned}\n",
    "$$"
   ]
  },
  {
   "cell_type": "code",
   "execution_count": 3,
   "id": "8cc7a186-952c-45a2-9413-2d27f22a6774",
   "metadata": {
    "tags": []
   },
   "outputs": [
    {
     "data": {
      "text/latex": [
       "$\\displaystyle \\textbf{x}=\\begin{bmatrix} a \\\\ b \\\\ c \\end{bmatrix} = \\begin{bmatrix} -2.0 \\\\ -2.0 \\\\ 0.0 \\end{bmatrix}$"
      ],
      "text/plain": [
       "<IPython.core.display.Math object>"
      ]
     },
     "metadata": {},
     "output_type": "display_data"
    }
   ],
   "source": [
    "A = [[0,0,1],\n",
    "     [1,0,-3],\n",
    "     [0,-1,0]]\n",
    "b = [0,-2,2]\n",
    "\n",
    "x = solve(A,b)\n",
    "p_print(fr'\\textbf{{x}}=\\begin{{bmatrix}} a \\\\ b \\\\ c \\end{{bmatrix}} = \\begin{{bmatrix}} {x[0]} \\\\ {x[1]} \\\\ {x[2]} \\end{{bmatrix}}')"
   ]
  },
  {
   "cell_type": "markdown",
   "id": "2187ceb6-07cf-4620-be4b-4de3e55ba33c",
   "metadata": {},
   "source": [
    "De esta forma:\n",
    "\n",
    "$$\\Pi_1 = \\frac{gh_A}{D^2\\omega^2}$$"
   ]
  },
  {
   "cell_type": "markdown",
   "id": "0f760b8d-ef1a-4a48-bc78-8da53f1b15c3",
   "metadata": {},
   "source": [
    "#### Segundo grupo adimensional $\\Pi_2$"
   ]
  },
  {
   "cell_type": "markdown",
   "id": "537fdcdf-0252-470f-8db1-4fc54042ad3f",
   "metadata": {},
   "source": [
    "\\begin{equation}\n",
    "\\Pi_2 = D^a\\omega^b\\rho^c\\mu\\Rightarrow \\left(L\\right)^a\\left(t^{-1}\\right)^{b}\\left(ML^{-3}\\right)^c \\left(ML^{-1}t^{-1}\\right)=M^0L^0t^0\n",
    "\\end{equation}"
   ]
  },
  {
   "cell_type": "markdown",
   "id": "905e0d90-a331-4ef0-b0a1-abce27cd47dc",
   "metadata": {},
   "source": [
    "La ecuación dimensional, en forma matricial:\n",
    "$$\\begin{aligned}\n",
    "\\textbf{Ax} &= \\textbf{b} \\\\\n",
    "\\begin{bmatrix}\n",
    "0 & 0 & 1 \\\\\n",
    "1 & 0 & -3 \\\\\n",
    "0 & -1 & 0 \n",
    "\\end{bmatrix}\n",
    "\\begin{bmatrix}\n",
    "a \\\\ b \\\\ c\n",
    "\\end{bmatrix} &=\n",
    "\\begin{bmatrix}\n",
    "-1 \\\\ 1 \\\\ 1\n",
    "\\end{bmatrix}\n",
    "\\end{aligned}\n",
    "$$"
   ]
  },
  {
   "cell_type": "code",
   "execution_count": 4,
   "id": "a4ca55dc-a5e9-475e-9042-4eec542ffe30",
   "metadata": {
    "tags": []
   },
   "outputs": [
    {
     "data": {
      "text/latex": [
       "$\\displaystyle \\textbf{x}=\\begin{bmatrix} a \\\\ b \\\\ c \\end{bmatrix} = \\begin{bmatrix} -2.0 \\\\ -1.0 \\\\ -1.0 \\end{bmatrix}$"
      ],
      "text/plain": [
       "<IPython.core.display.Math object>"
      ]
     },
     "metadata": {},
     "output_type": "display_data"
    }
   ],
   "source": [
    "A = [[0,0,1],\n",
    "     [1,0,-3],\n",
    "     [0,-1,0]]\n",
    "b = [-1,1,1]\n",
    "\n",
    "x = solve(A,b)\n",
    "p_print(fr'\\textbf{{x}}=\\begin{{bmatrix}} a \\\\ b \\\\ c \\end{{bmatrix}} = \\begin{{bmatrix}} {x[0]} \\\\ {x[1]} \\\\ {x[2]} \\end{{bmatrix}}')"
   ]
  },
  {
   "cell_type": "markdown",
   "id": "b9333739-37ec-4ec1-b1f7-22c20abe55c9",
   "metadata": {},
   "source": [
    "De esta forma:\n",
    "\n",
    "$$\\Pi_2 = \\frac{\\mu}{\\rho \\omega D^2}$$"
   ]
  },
  {
   "cell_type": "markdown",
   "id": "dd676986-2619-446d-b14b-72f5e58a878f",
   "metadata": {},
   "source": [
    "#### Tercer grupo adimensional $\\Pi_3$"
   ]
  },
  {
   "cell_type": "markdown",
   "id": "a261039a-75c5-4126-ae76-c6b6e2c5665f",
   "metadata": {},
   "source": [
    "\\begin{equation}\n",
    "\\Pi_2 = D^a\\omega^b\\rho^cQ\\Rightarrow \\left(L\\right)^a\\left(t^{-1}\\right)^{b}\\left(ML^{-3}\\right)^c \\left(L^{3}t^{-1}\\right)=M^0L^0t^0\n",
    "\\end{equation}"
   ]
  },
  {
   "cell_type": "markdown",
   "id": "80b4eea4-8dfb-4b45-8ee5-dc09f58f7171",
   "metadata": {},
   "source": [
    "La ecuación dimensional, en forma matricial:\n",
    "$$\\begin{aligned}\n",
    "\\textbf{Ax} &= \\textbf{b} \\\\\n",
    "\\begin{bmatrix}\n",
    "0 & 0 & 1 \\\\\n",
    "1 & 0 & -3 \\\\\n",
    "0 & -1 & 0 \n",
    "\\end{bmatrix}\n",
    "\\begin{bmatrix}\n",
    "a \\\\ b \\\\ c\n",
    "\\end{bmatrix} &=\n",
    "\\begin{bmatrix}\n",
    "0 \\\\ -3 \\\\ 1\n",
    "\\end{bmatrix}\n",
    "\\end{aligned}\n",
    "$$"
   ]
  },
  {
   "cell_type": "code",
   "execution_count": 5,
   "id": "9c342ec6-f4c8-47e8-a34c-4e033f4acb41",
   "metadata": {
    "tags": []
   },
   "outputs": [
    {
     "data": {
      "text/latex": [
       "$\\displaystyle \\textbf{x}=\\begin{bmatrix} a \\\\ b \\\\ c \\end{bmatrix} = \\begin{bmatrix} -3.0 \\\\ -1.0 \\\\ 0.0 \\end{bmatrix}$"
      ],
      "text/plain": [
       "<IPython.core.display.Math object>"
      ]
     },
     "metadata": {},
     "output_type": "display_data"
    }
   ],
   "source": [
    "A = [[0,0,1],\n",
    "     [1,0,-3],\n",
    "     [0,-1,0]]\n",
    "b = [0,-3,1]\n",
    "\n",
    "x = solve(A,b)\n",
    "p_print(fr'\\textbf{{x}}=\\begin{{bmatrix}} a \\\\ b \\\\ c \\end{{bmatrix}} = \\begin{{bmatrix}} {x[0]} \\\\ {x[1]} \\\\ {x[2]} \\end{{bmatrix}}')"
   ]
  },
  {
   "cell_type": "markdown",
   "id": "9bd3a3b6-bd80-4279-9622-d71bd4871bd8",
   "metadata": {},
   "source": [
    "De esta forma:\n",
    "\n",
    "$$\\Pi_3 = \\frac{Q}{D^3 \\omega}$$"
   ]
  },
  {
   "cell_type": "markdown",
   "id": "5650a850-6221-4d79-9856-913f67a59923",
   "metadata": {},
   "source": [
    "#### Cuarto grupo adimensional $\\Pi_4$"
   ]
  },
  {
   "cell_type": "markdown",
   "id": "e23cd455-0770-4bc1-b6de-799af6d2efcb",
   "metadata": {},
   "source": [
    "\\begin{equation}\n",
    "\\Pi_2 = D^a\\omega^b\\rho^c\\epsilon\\Rightarrow \\left(L\\right)^a\\left(t^{-1}\\right)^{b}\\left(ML^{-3}\\right)^c \\left(L\\right)=M^0L^0t^0\n",
    "\\end{equation}"
   ]
  },
  {
   "cell_type": "markdown",
   "id": "6e38bca7-e73f-4df4-8ea7-6f224634ebeb",
   "metadata": {},
   "source": [
    "La ecuación dimensional, en forma matricial:\n",
    "$$\\begin{aligned}\n",
    "\\textbf{Ax} &= \\textbf{b} \\\\\n",
    "\\begin{bmatrix}\n",
    "0 & 0 & 1 \\\\\n",
    "1 & 0 & -3 \\\\\n",
    "0 & -1 & 0 \n",
    "\\end{bmatrix}\n",
    "\\begin{bmatrix}\n",
    "a \\\\ b \\\\ c\n",
    "\\end{bmatrix} &=\n",
    "\\begin{bmatrix}\n",
    "0 \\\\ -1 \\\\ 0\n",
    "\\end{bmatrix}\n",
    "\\end{aligned}\n",
    "$$"
   ]
  },
  {
   "cell_type": "code",
   "execution_count": 6,
   "id": "6463bf0c-f9ea-4c2d-a9a6-a1bebbf0b58e",
   "metadata": {
    "tags": []
   },
   "outputs": [
    {
     "data": {
      "text/latex": [
       "$\\displaystyle \\textbf{x}=\\begin{bmatrix} a \\\\ b \\\\ c \\end{bmatrix} = \\begin{bmatrix} -1.0 \\\\ -0.0 \\\\ 0.0 \\end{bmatrix}$"
      ],
      "text/plain": [
       "<IPython.core.display.Math object>"
      ]
     },
     "metadata": {},
     "output_type": "display_data"
    }
   ],
   "source": [
    "A = [[0,0,1],\n",
    "     [1,0,-3],\n",
    "     [0,-1,0]]\n",
    "b = [0,-1,0]\n",
    "\n",
    "x = solve(A,b)\n",
    "p_print(fr'\\textbf{{x}}=\\begin{{bmatrix}} a \\\\ b \\\\ c \\end{{bmatrix}} = \\begin{{bmatrix}} {x[0]} \\\\ {x[1]} \\\\ {x[2]} \\end{{bmatrix}}')"
   ]
  },
  {
   "cell_type": "markdown",
   "id": "081fe308-189d-41c1-b293-416dc25f19ef",
   "metadata": {},
   "source": [
    "De esta forma:\n",
    "\n",
    "$$\\Pi_4 = \\frac{\\epsilon}{D}$$"
   ]
  },
  {
   "cell_type": "markdown",
   "id": "3702cfb8-2113-4d65-80ef-c00a367b39a0",
   "metadata": {},
   "source": [
    "### 7- Verificación y presentación"
   ]
  },
  {
   "cell_type": "markdown",
   "id": "50cd8430-890d-4d7b-8af8-60feb0457228",
   "metadata": {},
   "source": [
    "La verificación queda de ejercicio para el(la) lector(a)"
   ]
  },
  {
   "cell_type": "markdown",
   "id": "4539399f-db3a-45fe-9cd2-3c86c6cd1ca2",
   "metadata": {},
   "source": [
    "La funcionalidad entre los grupos adimensionales determinados es:"
   ]
  },
  {
   "cell_type": "markdown",
   "id": "ae582b72-d0fc-4ff6-8a3f-06b506ef4cf0",
   "metadata": {},
   "source": [
    "$$\\Pi_1 = f\\left(\\Pi_2,\\Pi_3,\\Pi_4\\right)$$"
   ]
  },
  {
   "cell_type": "markdown",
   "id": "c2666bd7-1617-4611-b3eb-8a6fa5a75dca",
   "metadata": {},
   "source": [
    "\\begin{equation}\n",
    "\\color{blue}{\\frac{gh_A}{D^2\\omega^2}} = f\\left( \\color{red}{\\frac{\\mu}{\\rho \\omega D^2}},\\color{magenta}{\\frac{Q}{D^3 \\omega}},\\color{green}{\\frac{\\epsilon}{D}}\\right)\n",
    "\\end{equation}"
   ]
  },
  {
   "cell_type": "markdown",
   "id": "384dbeda-cfc2-41ee-b321-147a3520af18",
   "metadata": {},
   "source": [
    "En esta expresión:\n",
    "<ul style='text-align:justify'>\n",
    "    <li>\n",
    "        El término en <span style='color:blue'>azul</span> se denomina <b>coeficiente de carga hidrostática $C_H$</b>\n",
    "<div style='padding:10pt'>\n",
    "$$C_H = \\frac{gh_A}{D^2\\omega^2}$$\n",
    "        </div>\n",
    "    </li>\n",
    "    <li> El término en <span style='color:red'>rojo</span> es el <b>número de Reynolds</b> $\\operatorname{Re}$, con velocidad características $\\omega D$:\n",
    "        <div style='padding:10pt'>\n",
    "$$\\operatorname{Re} = \\frac{\\rho (\\omega D) D}{\\mu}$$\n",
    "        </div>\n",
    "    </li>\n",
    "    <li> El término en <span style='color:magenta'>magenta</span> se denomina <b>coeficiente de capacidad</b> $C_Q$\n",
    "        <div style='padding:10pt'>\n",
    "$$C_Q = \\frac{Q}{D^3 \\omega}$$\n",
    "        </div>\n",
    "    </li>\n",
    "        <li> El término en <span style='color:green'>verde</span> se denomina <b>rugosidad relativa</b> $\\epsilon/D$\n",
    "    </li>\n",
    "</ul>"
   ]
  },
  {
   "cell_type": "markdown",
   "id": "1cad4b13-0dcf-4106-925d-abecb5452798",
   "metadata": {},
   "source": [
    "## Leyes de semejanza "
   ]
  },
  {
   "cell_type": "markdown",
   "id": "6c03a641-27d4-496d-87ca-66e6c2638a14",
   "metadata": {},
   "source": [
    "<p style='text-align:justify'>A partir de la relación entre grupos dimensionales obtenida utilizando el teorema Pi de Buckingham y bajo el supuesto de que existe similitud entre <b>modelo</b> (correspondiente a la bomba cuya curva de rendimiento fue caracterizada) y <b>prototipo</b> (la condición de operación o bomba que deseamos predecir), podemos establecer:</p>"
   ]
  },
  {
   "cell_type": "markdown",
   "id": "e66012db-cd41-4819-b992-5711012c776a",
   "metadata": {},
   "source": [
    "Si: \n",
    "\n",
    "$$\\begin{aligned}\n",
    "\\left(\\frac{\\mu}{\\rho \\omega D^2}\\right)_1 &= \\left(\\frac{\\mu}{\\rho \\omega D^2}\\right)_2 \\\\[6pt]\n",
    "\\left(\\frac{Q}{D^3 \\omega}\\right)_1 &= \\left(\\frac{Q}{D^3 \\omega}\\right)_2 \\\\[6pt]\n",
    "\\left(\\frac{\\epsilon}{D}\\right)_1 &= \\left(\\frac{\\epsilon}{D}\\right)_2\n",
    "\\end{aligned}$$\n",
    "\n",
    "Entonces:\n",
    "\n",
    "$$\\left(\\frac{gh_A}{D^2\\omega^2}\\right)_1 = \\left(\\frac{gh_A}{D^2\\omega^2}\\right)_2$$\n",
    "\n"
   ]
  },
  {
   "cell_type": "markdown",
   "id": "fea19678-b78f-4ce6-bd67-ef0869d48986",
   "metadata": {},
   "source": [
    "Los sufijos $1$ y $2$ indican modelo y prototipo."
   ]
  },
  {
   "cell_type": "markdown",
   "id": "7c1025da-2422-4ca7-bc36-c46afe741c3f",
   "metadata": {},
   "source": [
    "La expresión anterior requiere igualar al menos tres grupos adimensionales, con tal de predecir un cuarto. A pesar de esto, es común hacer las siguientes simplificaciones:\n",
    "\n",
    "<ul style='text-align:justify'>\n",
    "    <li> Las bombas, por lo general, trabajan a números de Reynolds elevados (de $0.8$ a $1.5\\times 10^7$), con flujos completamente turbulentos. Ya que un cambio en la condición de operación implicaría un cambio en este parámetro relativamente pequeño (esto en especial considerando la magitud elevada a la cual se trabaja). Es por esto que <b>el efecto del número de Reynolds sobre el coeficiente de carga hidrostática generalmente se considera como constante</b>.</li>\n",
    "    <li> La rugosidad relativa por lo general es desconocida y varía al comparar bombas, pero debido al alto número de Reynolds al cual se trabaja, se espera que su efecto se mantega más o menos constante </li>\n",
    "</ul>\n",
    "De esta forma, al analizar la similitud entre modelo y prototipo nos limitamos a establecer:\n",
    "\n",
    "$$C_H = f(C_Q)$$\n",
    "\n"
   ]
  },
  {
   "cell_type": "markdown",
   "id": "7ce2e99f-cc9e-48c5-8188-2b6ff3ce3bfe",
   "metadata": {},
   "source": [
    "De esta forma:"
   ]
  },
  {
   "cell_type": "markdown",
   "id": "8844f6a6-ff02-4434-99ae-9c10aa875a38",
   "metadata": {},
   "source": [
    "Si: \n",
    "\n",
    "$$\n",
    "\\left(\\frac{Q}{D^3 \\omega}\\right)_1 = \\left(\\frac{Q}{D^3 \\omega}\\right)_2 \n",
    "$$\n",
    "\n",
    "Entonces:\n",
    "\n",
    "$$\\left(\\frac{gh_A}{D^2\\omega^2}\\right)_1 = \\left(\\frac{gh_A}{D^2\\omega^2}\\right)_2$$\n"
   ]
  },
  {
   "cell_type": "markdown",
   "id": "ff6178c2-6552-4c05-b5a2-3da542f5cd65",
   "metadata": {},
   "source": [
    "Reordenando la primera expresión podemos obtener:"
   ]
  },
  {
   "cell_type": "markdown",
   "id": "c52d3cdd-2790-49cd-bcfd-fb2bcab4c207",
   "metadata": {},
   "source": [
    "\\begin{equation*}\n",
    "\\frac{Q_2}{Q_1}=\\frac{\\omega_2}{\\omega_1}\\left(\\frac{D_2}{D_1}\\right)^3\n",
    "\\end{equation*}\n",
    "\n",
    "y al reordenar la segunda expresión (con $g_1=g_2$, ya que las bombas son operadas en el mismo campo gravitacional):\n",
    "\n",
    "\\begin{equation*}\n",
    "\\frac{h_2}{h_1}=\\left(\\frac{\\omega_2}{\\omega_1}\\right)^2\\left(\\frac{D_2}{D_1}\\right)^2\n",
    "\\end{equation*}"
   ]
  },
  {
   "cell_type": "markdown",
   "id": "01950594-de12-4dc8-b173-de6265a7cac2",
   "metadata": {},
   "source": [
    "<p style='text-align:justify'>Estas expresiones permite relacionar <b>puntos homólogos</b> entre modelo y prototipo (puntos en los que existe similitud). Las dos expresiones anteriores son denominadas <b>Leyes de semejanza o de afinidad </b> y son válidas para bombas y turbinas. </p>\n",
    "\n",
    "<p style='text-align:justify'>En adición a las expresiones anteriores, es posible determinar una expresión que relacione la potencia requerida por modelo y prototipo, si estos se encuentran en un punto homólogo:\n",
    "    </p>\n"
   ]
  },
  {
   "cell_type": "markdown",
   "id": "0624dcf1-bb68-4037-858f-082c17cbf392",
   "metadata": {},
   "source": [
    "\\begin{equation*}\n",
    "\\frac{P_2}{P_1}=\\frac{\\rho_2}{\\rho_1}\\left(\\frac{\\omega_2}{\\omega_1}\\right)^3\\left(\\frac{D_2}{D_1}\\right)^5\n",
    "\\end{equation*}\n",
    "\n",
    "<p style='text-align:justify'>Esta expresión se determina mediante un análisis dimensional, a partir de la funcionalidad $P=f(Q,\\rho, \\omega, D,\\mu)$ y su obtención queda como ejercicio para el(la) lector(a).</p>"
   ]
  },
  {
   "cell_type": "markdown",
   "id": "b4d52aef-63b7-42e9-92a4-90e5b8f42d50",
   "metadata": {
    "tags": []
   },
   "source": [
    "## Aplicación: Efecto del cambio de la velocidad del impulsor sobre la curva de rendimiento de la bomba"
   ]
  },
  {
   "cell_type": "markdown",
   "id": "4a756577-de9b-4827-bece-96a38c1fe942",
   "metadata": {},
   "source": [
    "<p style='text-align:justify'>En el siguiente ejemplo se escala la curva de rendimiento de una bomba para distintos valores de $\\omega$, a partir de la curva de rendimiento medida para $\\omega=2900\\,\\text{rmpm}$. El diámetro del impulsor (y la geometría) de la bomba se mantienen constantes. De esta forma, las leyes de afinada se reducen a:</p>\n",
    "\n",
    "<ul> <li> <b> Capacidad</b>\n",
    "    <div style='padding:10pt'>\n",
    "    $$Q_2 = Q_1\\frac{\\omega_2}{\\omega_1}$$\n",
    "    </div>\n",
    "    </li>\n",
    "    <li> <b> Capacidad de carga </b>\n",
    "        <div style='padding:10pt'>\n",
    "$$h_2 = h_1\\left(\\frac{\\omega_2}{\\omega_1}\\right)^2$$\n",
    "        </div>\n",
    "    </li>\n",
    "    </ul>\n",
    "            "
   ]
  },
  {
   "cell_type": "code",
   "execution_count": 7,
   "id": "91095fab-ebbf-406e-95f7-adf6b3d28f2f",
   "metadata": {
    "jupyter": {
     "source_hidden": true
    },
    "tags": []
   },
   "outputs": [],
   "source": [
    "%matplotlib widget\n",
    "import pandas as pd\n",
    "import ipywidgets as widgets\n",
    "import matplotlib.pyplot as plt\n",
    "\n",
    "layout_box_base = widgets.Layout(width='100%',justify_content='center',align_items='center')"
   ]
  },
  {
   "cell_type": "code",
   "execution_count": 8,
   "id": "1f17af16-a334-4637-be46-32638ec447e9",
   "metadata": {
    "jupyter": {
     "source_hidden": true
    },
    "tags": []
   },
   "outputs": [],
   "source": [
    "def extract_data_pump(file_n):\n",
    "    data_pump=pd.read_csv(file_n,sep=',')\n",
    "    \n",
    "    data_plot = {}\n",
    "\n",
    "    for i in range(int(len(data_pump.columns)/2)): \n",
    "        qpump = np.asarray(data_pump[data_pump.columns[2*i]][1:],np.float32) \n",
    "        qpump = qpump[~np.isnan(qpump)]\n",
    "        hpump = np.asarray(data_pump[data_pump.columns[2*i+1]][1:],np.float32)\n",
    "        hpump = hpump[~np.isnan(hpump)]\n",
    "        data_plot[data_pump.columns[2*i]]= [qpump,hpump]\n",
    "                                  \n",
    "    data_fit = {}\n",
    "    for i in data_plot:\n",
    "        zfit = np.polyfit(data_plot[i][0],data_plot[i][1],2)\n",
    "        pfit = np.poly1d(zfit)\n",
    "        data_fit[i] = pfit\n",
    "        \n",
    "    return data_pump, data_plot, data_fit\n",
    "\n",
    "data_pump,data_plot, data_fit = extract_data_pump('./40_200_2900.csv')\n",
    "data_pump1450, data_plot1450, data_fit1450 = extract_data_pump('40_200_1450.csv')"
   ]
  },
  {
   "cell_type": "code",
   "execution_count": 9,
   "id": "89f804a9-5f6a-4033-8612-111a072c12b7",
   "metadata": {
    "jupyter": {
     "source_hidden": true
    },
    "tags": []
   },
   "outputs": [],
   "source": [
    "def plot_bomba(ar,dp):\n",
    "    \n",
    "    out_p = widgets.Output()\n",
    "    with plt.ioff():\n",
    "        fig = plt.figure(figsize=ar,dpi=dp)\n",
    "        ax= fig.add_subplot(111)\n",
    "        fig.canvas.header_visible = False\n",
    "        fig.canvas.footer_visible = False\n",
    "        fig.canvas.toolbar_visible = False\n",
    "        # fig.canvas.layout.width = '100%'\n",
    "        # fig.canvas.layout.height = '900px'\n",
    "\n",
    "    with out_p:\n",
    "        display(fig.canvas)\n",
    "\n",
    "    qplot = np.linspace(0,max(data_plot['219'][0]),1000)\n",
    "    l1, = ax.plot(qplot,data_fit['219'](qplot),linewidth=2,color='k')\n",
    "    t1 = ax.text(1,66,'219')\n",
    "\n",
    "    qplot = np.linspace(0,max(data_plot['206'][0]),1000)\n",
    "    l2, = ax.plot(qplot,data_fit['206'](qplot),linewidth=2,color='k')\n",
    "    t2 = ax.text(1,57,'206')\n",
    "\n",
    "    qplot = np.linspace(0,max(data_plot['188'][0]),1000)\n",
    "    l3, = ax.plot(qplot,data_fit['188'](qplot),linewidth=2,color='k')\n",
    "    t3 = ax.text(1,46,'188')\n",
    "\n",
    "    qplot = np.linspace(0,max(data_plot['172'][0]),1000)\n",
    "    l4, = ax.plot(qplot,data_fit['172'](qplot),linewidth=2,color='k')\n",
    "    t4 = ax.text(1,38,'172')\n",
    "\n",
    "\n",
    "    ax2=ax.twinx()\n",
    "    ax2.set_ylim(0,18)\n",
    "    ax2.set_yticks(np.arange(0,8,2))\n",
    "\n",
    "    qplot=np.linspace(min(data_plot['NPSH'][0]),max(data_plot['NPSH'][0]),1000)\n",
    "    l5, = ax2.plot(qplot,data_fit['NPSH'](qplot),linewidth=2,color='k')\n",
    "\n",
    "    ax2.set_ylabel('NPSH',fontsize=14)\n",
    "    ax.set_ylabel('H (m)',fontsize=14)\n",
    "    ax.set_xlabel('Q (m$^3$/h)',fontsize=14)\n",
    "\n",
    "    ax.set_xticks(np.arange(-200,200,10))\n",
    "    ax.set_xticks(np.arange(-200,200,5),minor='True')\n",
    "\n",
    "    ax.set_yticks(np.arange(-200,200,10))\n",
    "    ax.set_yticks(np.arange(-200,200,5),minor='True')\n",
    "\n",
    "\n",
    "    ax2.yaxis.set_label_coords(1.08,0.20)\n",
    "    ax.grid(alpha=0.8,which='major')\n",
    "    ax.grid(alpha=0.8,which='minor')\n",
    "    ax.set_xlim(0,70)\n",
    "    ax.set_ylim(0,90)\n",
    "\n",
    "\n",
    "\n",
    "    # ### NPSH_r\n",
    "    # ax2.plot([80,80],[0,NPSH_r],'C0--')\n",
    "    # ax2.plot([80,180],[NPSH_r,NPSH_r],'C0--')\n",
    "\n",
    "    plt.tight_layout()\n",
    "    ax.set_title('40-200 2900 RPM')\n",
    "    plt.tight_layout()\n",
    "\n",
    "    return out_p,fig, ax, ax2, [l1,l2,l3,l4,l5], [t1,t2,t3,t4]\n",
    "\n",
    "# out1,fig1,ax1, ax12, lines1, text1 = plot_bomba((5,3),150)\n",
    "\n",
    "# box1 = widgets.Box(children=[out1],layout=layout_box_base)\n",
    "# display(box1)"
   ]
  },
  {
   "cell_type": "code",
   "execution_count": 10,
   "id": "64eb6fe6-7558-4605-b81c-0be3bcc1c00d",
   "metadata": {
    "jupyter": {
     "source_hidden": true
    },
    "tags": []
   },
   "outputs": [
    {
     "data": {
      "application/vnd.jupyter.widget-view+json": {
       "model_id": "316fbc73bf5f4f3195bab3481206f91a",
       "version_major": 2,
       "version_minor": 0
      },
      "text/plain": [
       "HBox(children=(Output(), VBox(children=(Label(value='$\\\\omega$ (rpm):', layout=Layout(width='100px')), FloatSl…"
      ]
     },
     "metadata": {},
     "output_type": "display_data"
    }
   ],
   "source": [
    "out_cvf, fig_cvf,ax_cvf, ax_cvf2, lines_cvf, text_cvf = plot_bomba((5,4),120)\n",
    "\n",
    "fig_cvf.canvas.header_visible = False\n",
    "fig_cvf.canvas.footer_visible = False\n",
    "fig_cvf.canvas.toolbar_visible = False\n",
    "\n",
    "\n",
    "for i in lines_cvf[1:]:\n",
    "    i.set_alpha(0)\n",
    "for i in text_cvf[1:]:\n",
    "    i.set_text('')\n",
    "text_cvf[0].set_text('2900 RPM')\n",
    "# text_cvf[0].set_color('red')\n",
    "ax_cvf2.set_yticks([])\n",
    "ax_cvf2.set_ylabel('')\n",
    "\n",
    "# h_A_sist = ha(Q_sist,10)[0]\n",
    "# q_op = EO_Q(10,'219')\n",
    "# ha_op = ha(q_op,10)[0]\n",
    "\n",
    "qplot = np.linspace(0,max(data_plot['219'][0]),1000)\n",
    "hplot = data_fit['219'](qplot)\n",
    "ax_cvf.plot(qplot,hplot,color='black',zorder=0,dashes=(2,2))\n",
    "\n",
    "\n",
    "qplot = np.linspace(0,max(data_plot1450['219'][0]),1000)\n",
    "hplot = data_fit1450['219'](qplot)\n",
    "ax_cvf.plot(qplot,hplot,color='black',zorder=0,dashes=(2,2))\n",
    "ax_cvf.text(1,17,'1450 RPM')\n",
    "\n",
    "# ax_cvf.plot(Q_sist,h_A_sist,'C1-',label='Curva de operación')\n",
    "\n",
    "# p_opvf, = ax_cvf.plot(q_op,ha_op,'*',markersize=10,color='C0')\n",
    "# ax_cvf.plot([40,40],[0,90],'-',color='green',dashes=(2,2))\n",
    "\n",
    "\n",
    "\n",
    "def updatecvf(N):\n",
    "    qplot = np.linspace(0,max(data_plot['219'][0]),1000)\n",
    "    hplot = data_fit['219'](qplot)\n",
    "    \n",
    "    qplot=qplot*N/2900\n",
    "    hplot=hplot*(N/2900)**2\n",
    "    \n",
    "    lines_cvf[0].set_data(qplot,hplot)\n",
    "    # try:\n",
    "    #     q_opn =  EO_QN(N,10,'219',qplot,hplot)\n",
    "    #     h_opn =  ha(q_opn,10)[0]\n",
    "    # except:\n",
    "    #     q_opn=10**3\n",
    "    #     h_opn=10**3\n",
    "    # p_opvf.set_data(q_opn,h_opn)\n",
    "    \n",
    "    \n",
    "\n",
    "sli_N = widgets.FloatSlider(\n",
    "    value=2000,\n",
    "    min=900,\n",
    "    max=3600.0,\n",
    "    step=1,\n",
    "    description=' ',\n",
    "    disabled=False,\n",
    "    continuous_update=True,\n",
    "    orientation='horizontal',\n",
    "    readout=True,\n",
    "    readout_format='.0f',\n",
    "    layout=widgets.Layout(width='200px'),\n",
    "    style = {'description_width': '0px'}\n",
    ")\n",
    "\n",
    "updatecvf(2000)\n",
    "widgets.interactive(updatecvf,N=sli_N)\n",
    "\n",
    "boxcf_r =  widgets.VBox(children=[widgets.Label(r'$\\omega$ (rpm):',layout=widgets.Layout(width='100px')),sli_N],layout=widgets.Layout(width='250px',justify_content='flex-start'))\n",
    "boxcvf = widgets.HBox(children = [out_cvf,boxcf_r],\n",
    "                      layout=widgets.Layout(width='100%',justify_content='center',align_items='center'))\n",
    "display(boxcvf)"
   ]
  }
 ],
 "metadata": {
  "kernelspec": {
   "display_name": "Python 3 (ipykernel)",
   "language": "python",
   "name": "python3"
  },
  "language_info": {
   "codemirror_mode": {
    "name": "ipython",
    "version": 3
   },
   "file_extension": ".py",
   "mimetype": "text/x-python",
   "name": "python",
   "nbconvert_exporter": "python",
   "pygments_lexer": "ipython3",
   "version": "3.9.13"
  },
  "toc-autonumbering": false,
  "widgets": {
   "application/vnd.jupyter.widget-state+json": {
    "state": {
     "1bc45f6706214367a877e76c74dc09b2": {
      "model_module": "@jupyter-widgets/controls",
      "model_module_version": "1.5.0",
      "model_name": "DescriptionStyleModel",
      "state": {
       "description_width": ""
      }
     },
     "20a3a098ef98490a9dfc937a26c50830": {
      "model_module": "@jupyter-widgets/controls",
      "model_module_version": "1.5.0",
      "model_name": "LabelModel",
      "state": {
       "layout": "IPY_MODEL_a277380af37947a3b3e57fa3e001e150",
       "style": "IPY_MODEL_1bc45f6706214367a877e76c74dc09b2",
       "value": "$\\omega$ (rpm):"
      }
     },
     "216be72df2c944f89144426b2f735447": {
      "model_module": "@jupyter-widgets/base",
      "model_module_version": "1.2.0",
      "model_name": "LayoutModel",
      "state": {
       "align_items": "center",
       "justify_content": "center",
       "width": "100%"
      }
     },
     "237322f252424126b6acf3c68ca452e2": {
      "model_module": "@jupyter-widgets/controls",
      "model_module_version": "1.5.0",
      "model_name": "FloatSliderModel",
      "state": {
       "description": " ",
       "layout": "IPY_MODEL_e71c1cd26da14efd828233db001b36ab",
       "max": 3600,
       "min": 900,
       "readout_format": ".0f",
       "style": "IPY_MODEL_a5e16374d5fc45498b7af36727c39ae8",
       "value": 2225
      }
     },
     "297f1319708c4f0d903da2224c9d2ee2": {
      "model_module": "@jupyter-widgets/base",
      "model_module_version": "1.2.0",
      "model_name": "LayoutModel",
      "state": {}
     },
     "316fbc73bf5f4f3195bab3481206f91a": {
      "model_module": "@jupyter-widgets/controls",
      "model_module_version": "1.5.0",
      "model_name": "HBoxModel",
      "state": {
       "children": [
        "IPY_MODEL_b2daba07daed41fb9c94596bdaeecfe4",
        "IPY_MODEL_31ee078d5e044d54b9f8dfe1642b0802"
       ],
       "layout": "IPY_MODEL_844afaf0bc774f46acea7ca0f2dbddfa"
      }
     },
     "31ee078d5e044d54b9f8dfe1642b0802": {
      "model_module": "@jupyter-widgets/controls",
      "model_module_version": "1.5.0",
      "model_name": "VBoxModel",
      "state": {
       "children": [
        "IPY_MODEL_20a3a098ef98490a9dfc937a26c50830",
        "IPY_MODEL_237322f252424126b6acf3c68ca452e2"
       ],
       "layout": "IPY_MODEL_77bb011a4ae3402db59a684b64aa6496"
      }
     },
     "67f53c4b46b940b48beaf8d1d7a87da8": {
      "model_module": "@jupyter-widgets/base",
      "model_module_version": "1.2.0",
      "model_name": "LayoutModel",
      "state": {}
     },
     "77bb011a4ae3402db59a684b64aa6496": {
      "model_module": "@jupyter-widgets/base",
      "model_module_version": "1.2.0",
      "model_name": "LayoutModel",
      "state": {
       "justify_content": "flex-start",
       "width": "250px"
      }
     },
     "7aa81e6b9b964c48a37d577f203f123b": {
      "model_module": "@jupyter-widgets/output",
      "model_module_version": "1.0.0",
      "model_name": "OutputModel",
      "state": {
       "layout": "IPY_MODEL_c1b01f31c144445e9badc8a3df79e6a3"
      }
     },
     "844afaf0bc774f46acea7ca0f2dbddfa": {
      "model_module": "@jupyter-widgets/base",
      "model_module_version": "1.2.0",
      "model_name": "LayoutModel",
      "state": {
       "align_items": "center",
       "justify_content": "center",
       "width": "100%"
      }
     },
     "8601e051a416464ab15f44ab1c63a566": {
      "model_module": "@jupyter-widgets/base",
      "model_module_version": "1.2.0",
      "model_name": "LayoutModel",
      "state": {}
     },
     "9d73b2ddd03c4945b78a304b64abe891": {
      "model_module": "jupyter-matplotlib",
      "model_module_version": "^0.11",
      "model_name": "ToolbarModel",
      "state": {
       "_model_module_version": "^0.11",
       "_view_module_version": "^0.11",
       "collapsed": true,
       "layout": "IPY_MODEL_67f53c4b46b940b48beaf8d1d7a87da8",
       "orientation": "vertical",
       "toolitems": [
        [
         "Home",
         "Reset original view",
         "home",
         "home"
        ],
        [
         "Back",
         "Back to previous view",
         "arrow-left",
         "back"
        ],
        [
         "Forward",
         "Forward to next view",
         "arrow-right",
         "forward"
        ],
        [
         "Pan",
         "Left button pans, Right button zooms\nx/y fixes axis, CTRL fixes aspect",
         "arrows",
         "pan"
        ],
        [
         "Zoom",
         "Zoom to rectangle\nx/y fixes axis",
         "square-o",
         "zoom"
        ],
        [
         "Download",
         "Download plot",
         "floppy-o",
         "save_figure"
        ]
       ]
      }
     },
     "a277380af37947a3b3e57fa3e001e150": {
      "model_module": "@jupyter-widgets/base",
      "model_module_version": "1.2.0",
      "model_name": "LayoutModel",
      "state": {
       "width": "100px"
      }
     },
     "a4df10cdad6747d18e74f4d66c9224b1": {
      "model_module": "@jupyter-widgets/base",
      "model_module_version": "1.2.0",
      "model_name": "LayoutModel",
      "state": {}
     },
     "a5e16374d5fc45498b7af36727c39ae8": {
      "model_module": "@jupyter-widgets/controls",
      "model_module_version": "1.5.0",
      "model_name": "SliderStyleModel",
      "state": {
       "description_width": "0px"
      }
     },
     "a64b8fbca41842c09be58751f3f3db5f": {
      "model_module": "@jupyter-widgets/controls",
      "model_module_version": "1.5.0",
      "model_name": "VBoxModel",
      "state": {
       "_dom_classes": [
        "widget-interact"
       ],
       "children": [
        "IPY_MODEL_237322f252424126b6acf3c68ca452e2",
        "IPY_MODEL_7aa81e6b9b964c48a37d577f203f123b"
       ],
       "layout": "IPY_MODEL_a4df10cdad6747d18e74f4d66c9224b1"
      }
     },
     "b2daba07daed41fb9c94596bdaeecfe4": {
      "model_module": "@jupyter-widgets/output",
      "model_module_version": "1.0.0",
      "model_name": "OutputModel",
      "state": {
       "layout": "IPY_MODEL_d65bd7d3379d4f1abaf14f8b8f25e9f3",
       "outputs": [
        {
         "data": {
          "application/vnd.jupyter.widget-view+json": {
           "model_id": "fc42504d8e6e44b0b281842e53fb7282",
           "version_major": 2,
           "version_minor": 0
          },
          "image/png": "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",
          "text/html": "\n            <div style=\"display: inline-block;\">\n                <div class=\"jupyter-widgets widget-label\" style=\"text-align: center;\">\n                    Figure\n                </div>\n                <img src='data:image/png;base64,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' width=600.0/>\n            </div>\n        ",
          "text/plain": "Canvas(footer_visible=False, header_visible=False, toolbar=Toolbar(toolitems=[('Home', 'Reset original view', …"
         },
         "metadata": {},
         "output_type": "display_data"
        }
       ]
      }
     },
     "bee2961fd1ec4766af6625e05dd3791e": {
      "model_module": "jupyter-matplotlib",
      "model_module_version": "^0.11",
      "model_name": "ToolbarModel",
      "state": {
       "_model_module_version": "^0.11",
       "_view_module_version": "^0.11",
       "collapsed": true,
       "layout": "IPY_MODEL_297f1319708c4f0d903da2224c9d2ee2",
       "orientation": "vertical",
       "toolitems": [
        [
         "Home",
         "Reset original view",
         "home",
         "home"
        ],
        [
         "Back",
         "Back to previous view",
         "arrow-left",
         "back"
        ],
        [
         "Forward",
         "Forward to next view",
         "arrow-right",
         "forward"
        ],
        [
         "Pan",
         "Left button pans, Right button zooms\nx/y fixes axis, CTRL fixes aspect",
         "arrows",
         "pan"
        ],
        [
         "Zoom",
         "Zoom to rectangle\nx/y fixes axis",
         "square-o",
         "zoom"
        ],
        [
         "Download",
         "Download plot",
         "floppy-o",
         "save_figure"
        ]
       ]
      }
     },
     "c1b01f31c144445e9badc8a3df79e6a3": {
      "model_module": "@jupyter-widgets/base",
      "model_module_version": "1.2.0",
      "model_name": "LayoutModel",
      "state": {}
     },
     "d65bd7d3379d4f1abaf14f8b8f25e9f3": {
      "model_module": "@jupyter-widgets/base",
      "model_module_version": "1.2.0",
      "model_name": "LayoutModel",
      "state": {}
     },
     "e71c1cd26da14efd828233db001b36ab": {
      "model_module": "@jupyter-widgets/base",
      "model_module_version": "1.2.0",
      "model_name": "LayoutModel",
      "state": {
       "width": "200px"
      }
     },
     "fc42504d8e6e44b0b281842e53fb7282": {
      "model_module": "jupyter-matplotlib",
      "model_module_version": "^0.11",
      "model_name": "MPLCanvasModel",
      "state": {
       "_cursor": "default",
       "_data_url": "data:image/png;base64,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",
       "_figure_label": "Figure 1",
       "_image_mode": "diff",
       "_message": "x=69.8 y=0.34",
       "_model_module_version": "^0.11",
       "_size": [
        600,
        480
       ],
       "_view_module_version": "^0.11",
       "footer_visible": false,
       "header_visible": false,
       "layout": "IPY_MODEL_8601e051a416464ab15f44ab1c63a566",
       "toolbar": "IPY_MODEL_9d73b2ddd03c4945b78a304b64abe891",
       "toolbar_position": "left",
       "toolbar_visible": false
      }
     }
    },
    "version_major": 2,
    "version_minor": 0
   }
  }
 },
 "nbformat": 4,
 "nbformat_minor": 5
}
