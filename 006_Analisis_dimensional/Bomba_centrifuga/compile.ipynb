{
 "cells": [
  {
   "cell_type": "code",
   "execution_count": 3,
   "id": "1609f763-67c1-401d-a7db-4c936e850fd0",
   "metadata": {},
   "outputs": [
    {
     "name": "stdout",
     "output_type": "stream",
     "text": [
      "Microsoft Windows [Version 10.0.19044.2130]\n",
      "(c) Microsoft Corporation. All rights reserved.\n",
      "\n",
      "(base) C:\\Users\\enriq\\Dropbox\\DIM_UDEC\\Mecanica_de_fluidos\\Material\\presentaciones\\2022-2\\5 - Analisis dimensional\\Semana 1\\Bomba_centrifuga>jupyter nbconvert --to html --no-input Bomba_centrifuga_leyes_semejanza.ipynb\n",
      "\n",
      "(base) C:\\Users\\enriq\\Dropbox\\DIM_UDEC\\Mecanica_de_fluidos\\Material\\presentaciones\\2022-2\\5 - Analisis dimensional\\Semana 1\\Bomba_centrifuga>"
     ]
    },
    {
     "name": "stderr",
     "output_type": "stream",
     "text": [
      "[NbConvertApp] Converting notebook Bomba_centrifuga_leyes_semejanza.ipynb to html\n",
      "[NbConvertApp] Writing 732225 bytes to Bomba_centrifuga_leyes_semejanza.html\n"
     ]
    }
   ],
   "source": [
    "%%cmd\n",
    "jupyter nbconvert --to html --no-input Bomba_centrifuga_leyes_semejanza.ipynb"
   ]
  },
  {
   "cell_type": "code",
   "execution_count": null,
   "id": "a1ee6be0-a285-4a96-80bd-cd5318689c12",
   "metadata": {},
   "outputs": [],
   "source": []
  }
 ],
 "metadata": {
  "kernelspec": {
   "display_name": "Python 3 (ipykernel)",
   "language": "python",
   "name": "python3"
  },
  "language_info": {
   "codemirror_mode": {
    "name": "ipython",
    "version": 3
   },
   "file_extension": ".py",
   "mimetype": "text/x-python",
   "name": "python",
   "nbconvert_exporter": "python",
   "pygments_lexer": "ipython3",
   "version": "3.9.13"
  },
  "toc-autonumbering": true,
  "widgets": {
   "application/vnd.jupyter.widget-state+json": {
    "state": {},
    "version_major": 2,
    "version_minor": 0
   }
  }
 },
 "nbformat": 4,
 "nbformat_minor": 5
}
