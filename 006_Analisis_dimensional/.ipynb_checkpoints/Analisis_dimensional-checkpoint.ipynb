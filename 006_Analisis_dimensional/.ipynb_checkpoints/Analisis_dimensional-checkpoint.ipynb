{
 "cells": [
  {
   "cell_type": "code",
   "execution_count": 1,
   "id": "b1393603-fbad-49e7-8643-968e82529a8b",
   "metadata": {
    "jupyter": {
     "source_hidden": true
    },
    "slideshow": {
     "slide_type": "skip"
    },
    "tags": []
   },
   "outputs": [
    {
     "data": {
      "application/javascript": [
       "MathJax.Hub.Queue(\n",
       "  [\"resetEquationNumbers\", MathJax.InputJax.TeX],\n",
       "  [\"PreProcess\", MathJax.Hub],\n",
       "  [\"Reprocess\", MathJax.Hub]\n",
       ");\n",
       "\n",
       "MathJax.Hub.Config({\n",
       "    TeX: { equationNumbers: { autoNumber: \"AMS\" } }\n",
       "});\n"
      ],
      "text/plain": [
       "<IPython.core.display.Javascript object>"
      ]
     },
     "metadata": {},
     "output_type": "display_data"
    }
   ],
   "source": [
    "%%javascript\n",
    "MathJax.Hub.Queue(\n",
    "  [\"resetEquationNumbers\", MathJax.InputJax.TeX],\n",
    "  [\"PreProcess\", MathJax.Hub],\n",
    "  [\"Reprocess\", MathJax.Hub]\n",
    ");\n",
    "\n",
    "MathJax.Hub.Config({\n",
    "    TeX: { equationNumbers: { autoNumber: \"AMS\" } }\n",
    "});"
   ]
  },
  {
   "cell_type": "markdown",
   "id": "8e165fd6-4509-4edd-a9e9-0fe9a61fdae9",
   "metadata": {
    "slideshow": {
     "slide_type": "skip"
    },
    "tags": []
   },
   "source": [
    "# Templates"
   ]
  },
  {
   "cell_type": "markdown",
   "id": "075d9de2-91ea-418c-9be9-e82131f1682c",
   "metadata": {
    "slideshow": {
     "slide_type": "skip"
    },
    "tags": []
   },
   "source": [
    "## Diapo base"
   ]
  },
  {
   "cell_type": "raw",
   "id": "437b5722-d64c-4a4e-92d7-39c8838ba09d",
   "metadata": {
    "slideshow": {
     "slide_type": "skip"
    },
    "tags": []
   },
   "source": [
    "<div class='diapo'>\n",
    "    <div class='base'>\n",
    "        <div class='base header'>\n",
    "        \n",
    "        </div>\n",
    "        <div class='base body'>\n",
    "        \n",
    "        </div>\n",
    "    </div>\n",
    "</div>"
   ]
  },
  {
   "cell_type": "markdown",
   "id": "09480a02-08a1-4b80-8596-ca0796abef1a",
   "metadata": {
    "slideshow": {
     "slide_type": "skip"
    },
    "tags": []
   },
   "source": [
    "## Diapo alternativa"
   ]
  },
  {
   "cell_type": "raw",
   "id": "724ff8b8-a318-4a51-aa2a-f89038d4f2c6",
   "metadata": {
    "slideshow": {
     "slide_type": "skip"
    },
    "tags": []
   },
   "source": [
    "<div class='diapo'>\n",
    "    <div class='base'>\n",
    "        <div class='alternativa_header'>\n",
    "        \n",
    "        </div>\n",
    "        <div class='alternativa_body'>\n",
    "        \n",
    "        </div>\n",
    "    </div>\n",
    "</div>"
   ]
  },
  {
   "cell_type": "markdown",
   "id": "723a2ad9-c5e1-4dbc-8bcc-faaf409cd7ea",
   "metadata": {
    "slideshow": {
     "slide_type": "skip"
    },
    "tags": []
   },
   "source": [
    "## Diapo titulo"
   ]
  },
  {
   "cell_type": "raw",
   "id": "6609261b-b048-440f-a28e-352ca887e293",
   "metadata": {
    "slideshow": {
     "slide_type": "skip"
    },
    "tags": []
   },
   "source": [
    "<div class='diapo'>\n",
    "    <div class='titulo'>\n",
    "    </div>\n",
    "</div>"
   ]
  },
  {
   "cell_type": "markdown",
   "id": "61e1bf81-db3b-4081-bcf6-41e35279482a",
   "metadata": {
    "slideshow": {
     "slide_type": "skip"
    },
    "tags": []
   },
   "source": [
    "# Portada"
   ]
  },
  {
   "cell_type": "raw",
   "id": "047f4c46-ce94-416e-8a48-8a46253ead08",
   "metadata": {
    "slideshow": {
     "slide_type": "slide"
    },
    "tags": []
   },
   "source": [
    "<div class='diapo'>\n",
    "    <div class='base'>\n",
    "    <table class='portada' style='width:100%'>\n",
    "        <tr class='portadatr' style='vertical-align:center'>\n",
    "            <td class='portada1' style='width:25%; border: 0px solid black'>\n",
    "                <center>\n",
    "                    <img src=Figures/udec.jpg height=120px>\n",
    "                </center>\n",
    "            </td>\n",
    "            <td class='portada2' style='width:50%; border: 0px solid black'> \n",
    "                <center> \n",
    "                    <p class='portada institucion'>\n",
    "                        Universidad de Concepción <br>\n",
    "                        Facultad de Ingeniería <br>\n",
    "                        Departamento de Ingeniería Mecánica\n",
    "                    </p>\n",
    "                </center>\n",
    "            </td>\n",
    "            <td class='portada3' style='width:25%; border: 0px solid black'>\n",
    "                <center>\n",
    "                    <img src=Figures/DIM.png height=70px>\n",
    "                </center>\n",
    "            </td>    \n",
    "        </tr>\n",
    "    </table>\n",
    "        <div class='base body'>\n",
    "<center>\n",
    "\n",
    "    <p class='portada asignatura'> \n",
    "        <b>Mecánica de fluidos</b> \n",
    "    </p>\n",
    "    <p style=\"font-size:5px\">\n",
    "    <br>\n",
    "    </p>\n",
    "    <p class='portada capitulo'>\n",
    "        <b> 6- Análisis dimensional</b>\n",
    "    </p>\n",
    "</center>\n",
    "</div>\n",
    "</div>\n",
    "</div>"
   ]
  },
  {
   "cell_type": "markdown",
   "id": "d846f57c-64d8-4494-8ade-7e557b5a7ba3",
   "metadata": {
    "slideshow": {
     "slide_type": "skip"
    },
    "tags": []
   },
   "source": [
    "# Introducción"
   ]
  },
  {
   "cell_type": "raw",
   "id": "9f59d013-0cb5-4068-8a35-2016225c1f7c",
   "metadata": {
    "slideshow": {
     "slide_type": "slide"
    },
    "tags": []
   },
   "source": [
    "<div class='diapo'>\n",
    "    <div class='titulo'>\n",
    "        Introducción\n",
    "    </div>\n",
    "</div>"
   ]
  },
  {
   "cell_type": "raw",
   "id": "d82ddcdc-362e-41c5-8e5b-224071e5f4b0",
   "metadata": {
    "slideshow": {
     "slide_type": "subslide"
    },
    "tags": []
   },
   "source": [
    "<div class='diapo'>\n",
    "    <div class='alternativa'>\n",
    "        <div class='alternativa_body'>\n",
    "            En este capítulo exploraremos la técnica de <b>análisis dimensional</b>, la cual (a grosso modo) consiste en el uso de parámetros adimensionales para la descripción de procesos físicos. Esta técnica <b>permitirá analizar problemas que pudieran ser muy complejos para las técnicas de análisis integral o diferencial</b> y se basa en la agrupación de las variables (o parámetros), mediante su multiplicación o cociente, en grupos que se caracterizan por carecer de dimensiones (dicho de otra forma, por ser adimensionales). Esta agrupación resulta en una disminución efectiva de la cantidad de parámetros requeridos para modelar el fenómeno en cuestión y, por ende, simplificando el problema a estudiar. Además, si se realiza de manera correcta, permitirá <b>plantear, interpretar, presentar y extrapolar resultados experimentales.</b>\n",
    "        </div>\n",
    "   </div>\n",
    "</div>"
   ]
  },
  {
   "cell_type": "markdown",
   "id": "e65ebff3-718f-4f7c-8532-988677d0a0a9",
   "metadata": {
    "slideshow": {
     "slide_type": "skip"
    },
    "tags": []
   },
   "source": [
    "## Principios del análisis dimensional"
   ]
  },
  {
   "cell_type": "markdown",
   "id": "0962ea94-5046-4b58-84a3-c48b33524ae5",
   "metadata": {
    "slideshow": {
     "slide_type": "skip"
    },
    "tags": []
   },
   "source": [
    "### Problema"
   ]
  },
  {
   "cell_type": "raw",
   "id": "b49dd7df-c863-485c-8448-575537f72290",
   "metadata": {
    "slideshow": {
     "slide_type": "subslide"
    },
    "tags": []
   },
   "source": [
    "<div class='diapo'>\n",
    "    <div class='base'>\n",
    "        <div class='base header'>\n",
    "            Principios del análisis dimensional       \n",
    "        </div>\n",
    "        <div class='base body'>\n",
    "            <p style='text-align:justify'>\n",
    "                Analicemos los principios del análisis dimensional y su importancia mediante el siguiente ejemplo: <b>Deseamos determinar la fuerza que se ejerce sobre una esfera sumergida en un campo de flujo. </b>\n",
    "            </p>\n",
    "            <table style='width:100%; font-size:25px'>\n",
    "                <tr>\n",
    "                    <td style='width:50%'>\n",
    "                        <p style='text-align:justify'>\n",
    "                            Analíticamente, podemos determinar esta fuerza para flujos\n",
    "con velocidades muy pequeñas (flujos reptante):\n",
    "                        </p>\n",
    "                        $$F_D=3 \\pi \\mu U D$$\n",
    "                        <p style='text-align:justify'>\n",
    "                            <b>Sin embargo, a medida que la velocidad aumenta, este análisis se vuelve muy complejo <span style='color:red'>(¡incluso imposible!)</span> </b>\n",
    "                        </p>\n",
    "                    </td>\n",
    "                    <td> \n",
    "                        <center> \n",
    "                            <img src='Figures/Stokes_sphere.png' width=100%>\n",
    "                        </center>\n",
    "                    </td>\n",
    "                </tr>\n",
    "            </table>\n",
    "        \n",
    "        </div>\n",
    "    </div>\n",
    "</div>"
   ]
  },
  {
   "cell_type": "markdown",
   "id": "4e783195-13bc-4c4c-bcd4-66d6eac98c20",
   "metadata": {
    "slideshow": {
     "slide_type": "skip"
    },
    "tags": []
   },
   "source": [
    "#### Propuesta 1"
   ]
  },
  {
   "cell_type": "raw",
   "id": "19ae9b6b-35e0-4df6-b5b7-59e5c06580c2",
   "metadata": {
    "slideshow": {
     "slide_type": "subslide"
    },
    "tags": []
   },
   "source": [
    "<div class='diapo'>\n",
    "    <div class='base'>\n",
    "        <div class='base body'>\n",
    "            <p style='text-align:justify'>\n",
    "                <b> Propuesta </b>: Ya que un análisis teórico no será posible, <b><span style='color:red'>investiguemos experimentalmente el flujo alrededor de la esfera</span> (pero antes, ¡debemos planificar nuestros experimentos!)</b>\n",
    "            </p>\n",
    "            <p style='text-align:justify'>\n",
    "                Previo a diseñar nuestros experimentos, consideremos los parámetros que supondremos tendrán un efecto importante sobre la <b>fuerza de arrastre</b>:\n",
    "            </p>\n",
    "            <ul>\n",
    "                <li> Velocidad de corriente libre del flujo ($U$) </li>\n",
    "                <li> Diámetro de las esfera ($D$) </li>\n",
    "                <li> Propiedades del fluido:\n",
    "                    <ul>\n",
    "                        <li> Viscosidad ($\\mu$) </li>\n",
    "                        <li> Densidad ($\\rho$) </li>\n",
    "                    </ul>\n",
    "                </li>\n",
    "            </ul>\n",
    "            <p style='text-align:justify'>\n",
    "               De esta forma, podremos inicialmente suponer que la fuerza de arrastre $F_D$ será una función de $U$, $D$, $\\mu$ y $\\rho$:\n",
    "           </p>\n",
    "               $$F_D = f(U,D,\\rho,\\mu)$$\n",
    "           <p><b> Ahora, ¡solo nos falta determinar esta funcionalidad! </b></p>\n",
    "\n",
    "        </div>\n",
    "    </div>\n",
    "</div>"
   ]
  },
  {
   "cell_type": "markdown",
   "id": "0ea36033-db1a-4ebd-94fa-81178bf3e255",
   "metadata": {
    "slideshow": {
     "slide_type": "skip"
    },
    "tags": []
   },
   "source": [
    "##### Experimentos"
   ]
  },
  {
   "cell_type": "raw",
   "id": "52042302-e78f-4b44-aeff-e7381fbf884c",
   "metadata": {
    "slideshow": {
     "slide_type": "subslide"
    },
    "tags": []
   },
   "source": [
    "<div class='diapo'>\n",
    "    <div class='base'>\n",
    "        <div class='alternativa_body'>\n",
    "            <p>\n",
    "            Determinaremos la funcionalidad anterior mediante <b>experimentos</b>\n",
    "            </p>\n",
    "            <center>\n",
    "                <div class='units_box'>\n",
    "                    $$F_D = f(U,D,\\rho,\\mu)$$\n",
    "                </div>\n",
    "            </center>\n",
    "            <table style='width:100%;font-size:25px;margin-top:10px'>\n",
    "                <tr>\n",
    "                    <td style='width:50%'>\n",
    "                        <ol style='text-align:justify;margin-left:-10px'>\n",
    "                            <li> \n",
    "                                Iniciemos con <b>$10$ mediciones</b> independientes sobre una esfera de diámetro fijo en un tunel de viento, en las que variamos la <b>velocidad</b> $U$ del flujo. \n",
    "                            </li>\n",
    "                            <li>\n",
    "                                Analicemos ahora el efecto del diámetro de la esferza (supongamos que <b>mediciones sobre esferas de 10 diámetros distintos bastan</b>)\n",
    "                            </li>\n",
    "                        </ol>\n",
    "                    </td>\n",
    "                    <td>\n",
    "                    <div style='background-color:rgba(0,0,255,0.2);padding-left:5px;padding-right:5px;padding-bottom:5px'>\n",
    "                        <p style='color:red;text-align:justify'> \n",
    "                            <b>¿Existe un efecto cruzado entre diámetro y velocidad? </b> \n",
    "                        </p>\n",
    "                        <ul style='text-align:justify;margin-top:-15px;margin-left:-5px'>\n",
    "                            <li> Deberemos realizar las $10$ mediciones de velocidad sobre cada una de las 10 esferas. <b>En total, deberemos realizar $100$ experimentos para caracterizar la relación entre $F_D$, $U$ y $D$ para <u>un fluido en particular.</u></b>\n",
    "                            </li>\n",
    "                        </ul>\n",
    "                    </div>\n",
    "                    </td>\n",
    "                </tr>\n",
    "            </table>\n",
    "            <p style='text-align:justifyu'> \n",
    "                Sumemos ahora el posible efecto de la <b>viscosidad</b> y <b>densidad</b> (que podremos caracterizar con 10 corridas experimentales para cada propiedad).\n",
    "            </p>\n",
    "            <div class='comment_box' style='text-align:justify'>\n",
    "                <b> ¡Deberemos realizar 10000 corridas experimentales para\n",
    "caracterizar nuestro flujo! </b>\n",
    "            </div>\n",
    "\n",
    "            \n",
    "            \n",
    "        </div>\n",
    "    </div>\n",
    "</div>"
   ]
  },
  {
   "cell_type": "markdown",
   "id": "e10d6c6a-4325-4e5e-9afb-12e3a0f43ed4",
   "metadata": {
    "slideshow": {
     "slide_type": "skip"
    },
    "tags": []
   },
   "source": [
    "#### Propuesta alternativa"
   ]
  },
  {
   "cell_type": "raw",
   "id": "ebdb2e03-72e0-4442-b0bd-21b2d394e8c7",
   "metadata": {
    "slideshow": {
     "slide_type": "subslide"
    },
    "tags": []
   },
   "source": [
    "<div class='diapo'>\n",
    "    <div class='base'>\n",
    "        <div class='alternativa_header'>\n",
    "        \n",
    "        </div>\n",
    "        <div class='alternativa_body'>\n",
    "            <p style='text-align:justify'>\n",
    "               <b>Propuesta alternativa:</b> Al realizar un análisis dimensional descubriremos que los parámetros que caracterizan nuestro flujo $\\left(F_D, U, \\rho, \\mu, D\\right)$ se relacionan mediante la siguiente expresión:\n",
    "            \n",
    "                $${\\color{red}{\\frac{F_D}{\\rho U^2 D^2}}} = f\\,^\\prime\\,\\left({\\color{blue}{\\frac{\\rho U D}{\\mu}}}\\right)$$\n",
    "            <table style='font-size:25px'>\n",
    "                <tr style='vertical-align:top'>\n",
    "                    <td style='width:60%;background-color:rgba(255,0,0,0.05);border:0px'>\n",
    "                        <p style='color:red;text-align:justify'> Si multiplicamos el término en rojo por $8\\pi$ obtendremos el coeficiente de arrastre $C_D$ (que corresponde a un grupo adimensional):</p>\n",
    "\n",
    "                    </td>\n",
    "                    <td style='background-color:rgba(0,0,255,0.05);border:0px'>\n",
    "                        <p style='color:blue;text-align:justify'>El término en azul corresponde al número de Reynolds:</p>\n",
    "                    </td>\n",
    "                </tr>\n",
    "                <tr>\n",
    "                    <td style='background-color:rgba(255,0,0,0.05);border:0px'>\n",
    "                        $$\n",
    "\\color{red}{C_{D}=\\frac{F}{\\frac{1}{2} \\rho U^{2} \\frac{\\pi}{4} D^{2}}}\n",
    "                        $$\n",
    "                    </td>\n",
    "                    <td style='background-color:rgba(0,0,255,0.05);border:0px'>\n",
    "                        $$\\color{blue}{\\operatorname{Re}= \\frac{\\rho U D}{\\mu}}$$         \n",
    "                    </td>\n",
    "                </tr>\n",
    "            </table>\n",
    "            \n",
    "            <p style='text-align:justify'>\n",
    "                De esta forma, <b>¡hemos reducido nuestro problema a solo dos parámetros!</b> (y de paso, la cantidad de corridas experimentales requeridas). \n",
    "             \n",
    "            </p>\n",
    "        </div>\n",
    "    </div>\n",
    "</div>"
   ]
  },
  {
   "cell_type": "markdown",
   "id": "e90352ef-1f95-4e75-9837-49abd2bc800a",
   "metadata": {
    "slideshow": {
     "slide_type": "skip"
    },
    "tags": []
   },
   "source": [
    "# Conceptos previos"
   ]
  },
  {
   "cell_type": "raw",
   "id": "6de0c25f-7afd-474f-9728-cd605150cc4d",
   "metadata": {
    "slideshow": {
     "slide_type": "slide"
    },
    "tags": []
   },
   "source": [
    "<div class='diapo'>\n",
    "    <div class='titulo'>\n",
    "        Conceptos previos\n",
    "    </div>\n",
    "</div>"
   ]
  },
  {
   "cell_type": "markdown",
   "id": "883e907b-f046-4f41-9b27-c054e7e7a290",
   "metadata": {
    "slideshow": {
     "slide_type": "skip"
    },
    "tags": []
   },
   "source": [
    "## Dimensiones"
   ]
  },
  {
   "cell_type": "raw",
   "id": "16f87c7a-5ee0-48db-a38d-a738f4f0c703",
   "metadata": {
    "slideshow": {
     "slide_type": "subslide"
    },
    "tags": []
   },
   "source": [
    "<div class='diapo'>\n",
    "    <div class='base'>\n",
    "        <div class='base header'>\n",
    "            Dimensiones\n",
    "        </div>\n",
    "        <div class='base body'>\n",
    "            <center>\n",
    "                <div class='comment_box'>\n",
    "                    <b>Dimensión: medida con la que una magnitud física es expresada cuantitativamente.</b>\n",
    "                </div>\n",
    "            </center>\n",
    "            \n",
    "            <p style='text-align:justify'>\n",
    "                En este curso utilizaremos el sistema ${\\color{red}{MLtT}}$, consistente de $4$ dimensiones básicas:\n",
    "                <div style=width:100%>\n",
    "                <center>\n",
    "                    <ul style='column-count:4'>\n",
    "                    <li> Masa ($M$) </li>\n",
    "                        <li> Longitud ($L$) </li>\n",
    "                        <li> Tiempo ($t$)</li>\n",
    "                        <li> Temperatura ($T$)</li>\n",
    "                    </ul>\n",
    "                </center>\n",
    "                </div>\n",
    "                \n",
    "            <div class='units_box' style='font-size:25px;margin-top:15pt'>\n",
    "                <p> Las dimensiones básicas permiten expresar todo tipo de magnitudes en base a su combinación. Algunos ejemplos son: </p>\n",
    "                <div>\n",
    "                    <center>\n",
    "                    <ul style='column-count:3'>\n",
    "                        <li> Fuerza </li> $$[F]= MLt^{-2}$$\n",
    "                        <li> Velocidad</li> $$[V]= Vt^{-1}$$\n",
    "                        <li> Viscocidad</li> $$[\\nu]= ML^{-1}t^{-1}$$      \n",
    "                        <li> Flujo másico</li> $$[\\dot{m}]= Mt^{-1}$$      \n",
    "                        <li> Flujo volumétrico</li> $$[Q]= L^{3}t^{-1}$$      \n",
    "                        <li> Viscosidad cinemática</li> $$[\\nu]= L^{2}t^{-1}$$      \n",
    "                    </ul>\n",
    "                    </center>\n",
    "                </div>\n",
    "            </div>\n",
    "        </div>\n",
    "    </div>\n",
    "</div>    \n"
   ]
  },
  {
   "cell_type": "markdown",
   "id": "7737f2cb-d366-44b3-ac6c-4d66d25a9758",
   "metadata": {
    "slideshow": {
     "slide_type": "skip"
    },
    "tags": []
   },
   "source": [
    "## Principio de homogeneidad dimensional "
   ]
  },
  {
   "cell_type": "raw",
   "id": "da41f0f4-454b-4503-9264-1186530e4017",
   "metadata": {
    "slideshow": {
     "slide_type": "subslide"
    },
    "tags": []
   },
   "source": [
    "<div class='diapo'>\n",
    "    <div class='base'>\n",
    "        <div class='base header'>\n",
    "            Principio de homogeneidad dimensional \n",
    "        </div>\n",
    "        <div class='base body'>\n",
    "            <ul style='text-align:justify'>\n",
    "                <li>\n",
    "                    Una ecuación deducida analíticamente que representa un fenómeno físico debe ser válida para todos los sistemas de unidades. \n",
    "                </li>\n",
    "                <li>\n",
    "                    Cada término aditivo en la ecuación debe tener las mismas dimensiones.\n",
    "                </li>\n",
    "                <li> \n",
    "                    La integración o diferenciación de la ecuación cambiara su dimensionalidad, mas no su homogeneidad.\n",
    "                </li>\n",
    "            </ul>\n",
    "            <div class='units_box' style='font-size:25px;padding-bottom:10px;margin-top:10px;width:100%'>\n",
    "                <p style='text-align:justify'>\n",
    "                    <b>Ejemplo:</b> La ecuación que describe la posición de un cuerpo en caida libre es <b>dimensionalmente homogenea.</b>\n",
    "                </p>\n",
    "            \n",
    "                $$y=y_0+v_0t+\\frac{1}{2}gt^2$$\n",
    "            \n",
    "                <table style='font-size:25px;width:100%;margin-top:-35px'>\n",
    "                    <tr style='vertical-align:top'>\n",
    "                        <td style='margin:right:5px;width:40%'>\n",
    "                            <p style='text-align:justify'>\n",
    "                                Las dimensiones de cada término son:\n",
    "                            </p>\n",
    "                            <ul style='column-count:1'>\n",
    "                                <li> $[y] = [y_0] = L$ </li>\n",
    "                                <li> $[v_0] = Lt^{-1}$ </li>\n",
    "                                <li> $[t] = t$ </li>\n",
    "                            </ul>\n",
    "                        </td>\n",
    "                        <td width=10%'>\n",
    "                        </td>\n",
    "                        <td style='margin-left:5px'>\n",
    "                            <p>\n",
    "                            Las dimensiones de cada término aditivo son:\n",
    "                            </p>\n",
    "                            $$[y]=\\left[y_0\\right]=\\left[v_0 t\\right]=\\left[\\frac{1}{2} g t^2\\right]=L$$\n",
    "                        </td>\n",
    "                    </tr>\n",
    "                </table>\n",
    "\n",
    "                    \n",
    "            </div>\n",
    "       \n",
    "        </div>\n",
    "    </div>\n",
    "</div>"
   ]
  },
  {
   "cell_type": "markdown",
   "id": "6fe91e8d-bd7c-4f41-9e45-2427d5a7faea",
   "metadata": {
    "slideshow": {
     "slide_type": "skip"
    },
    "tags": []
   },
   "source": [
    "## Grupos adimensionales"
   ]
  },
  {
   "cell_type": "raw",
   "id": "fe5f1816-a855-4f81-88ca-2f5e4ff0e2cb",
   "metadata": {
    "slideshow": {
     "slide_type": "subslide"
    },
    "tags": []
   },
   "source": [
    "<div class='diapo'>\n",
    "    <div class='base'>\n",
    "        <div class='base header'>\n",
    "            Grupos adimensionales\n",
    "        </div>\n",
    "        <div class='base body'>\n",
    "            <p style='text-align:justify'>\n",
    "                Los <b>grupos adimensionales</b> corresponden a grupos de cantidades\n",
    "<b>cuyo cociente o producto carece de dimensiones</b>.\n",
    "            </p>\n",
    "            <div class='comment_box'>\n",
    "                <p> \n",
    "                    <b>Ejemplo:</b> Número de Reynolds ($\\operatorname{Re}$)\n",
    "                </p>\n",
    "                    $$\n",
    "                        \\operatorname{Re} = \\frac{\\rho V L}{\\mu}\n",
    "                    $$\n",
    "                <p style='text-align:justify'>\n",
    "                    Podemos comprobar fácilmente que es efectivamente adimensional,\n",
    "    al analizar las dimensiones de cada uno de sus términos:\n",
    "                </p>        \n",
    "                $$\n",
    "                    \\displaystyle[\\operatorname{Re}]=\\frac{\\color{red}{[\\rho]}\\color{blue}{[V]}\\color{green}{[L]}}{\\color{magenta}{[\\mu]}}=\\mathrm{\\frac{\\color{red}{\\frac{M}{L^{3}}}\\color{blue}{\\frac{L}{t}}\\color{green}{L}}{\\color{magenta}{\\frac{M}{L t}}}}=[1]\n",
    "                $$\n",
    "            </div>\n",
    "        </div>\n",
    "    </div>\n",
    "</div>"
   ]
  },
  {
   "cell_type": "markdown",
   "id": "fbbcd676-5e0b-4324-ac6e-c9b00b136304",
   "metadata": {
    "slideshow": {
     "slide_type": "skip"
    },
    "tags": []
   },
   "source": [
    "# Teorema Pi de Buckingham"
   ]
  },
  {
   "cell_type": "raw",
   "id": "874eb303-c160-415e-a599-fba69d84ee2c",
   "metadata": {
    "slideshow": {
     "slide_type": "slide"
    },
    "tags": []
   },
   "source": [
    "<div class='diapo'>\n",
    "    <div class='titulo'>\n",
    "        Teorema Pi de Buckingham\n",
    "    </div>\n",
    "</div>"
   ]
  },
  {
   "cell_type": "raw",
   "id": "a03a2688-38fb-4fc9-a995-34cd6b11a3cf",
   "metadata": {
    "slideshow": {
     "slide_type": "subslide"
    },
    "tags": []
   },
   "source": [
    "<div class='diapo'>\n",
    "    <div class='base'>\n",
    "        <div class='base header'>\n",
    "            Teorema Pi de Buckingham\n",
    "        </div>\n",
    "        <div class='base body'>\n",
    "            <p style='text-align:justify'>\n",
    "                El <b>teorema Pi de Buckingham</b> permite determinar una relación entre grupos adimensionales, <b>reduciendo efectivamente el número de variables involucradas</b> y simplificando el problema a estudiar.\n",
    "                <br>\n",
    "                <table style='font-size:25px;\n",
    "                                width:100%'>\n",
    "                    <tr>\n",
    "                        <td style='width:70%'>\n",
    "                            Este teorema se basa en el siguiente principio:\n",
    "                        </p>       \n",
    "                        <div class='comment_box'>\n",
    "                            <div>\n",
    "                            Si un proceso físico satisface el <b>principio de homogeneidad dimensional e involucra $n$ variables</b>, entonces <b>puede ser reducido a una relación entre solo $k$ grupos adimensionales ($\\Pi$s)</b>. \n",
    "                            </div>\n",
    "                            <ul>\n",
    "                                <li> La reducción $j=n-k$ será igual al máximo número de variables que no forman un pi entre ellas y siempre es menor o igual que el número de dimensiones que describen las variables\n",
    "                                </li>\n",
    "                            </ul>\n",
    "                        </div>\n",
    "                        </td>\n",
    "                        <td>\n",
    "                            <center>\n",
    "                                <img src=Figures/Buckingham.jpg width=80%>\n",
    "                                    <b>Edgard Buckingham (1867-1940)</b>\n",
    "                            </center>\n",
    "                        </td>\n",
    "                    </tr>\n",
    "                </table>\n",
    "         \n",
    "        </div>\n",
    "    </div>\n",
    "</div>         "
   ]
  },
  {
   "cell_type": "markdown",
   "id": "376a1b0f-2c57-4bce-a488-5324fdc32621",
   "metadata": {
    "slideshow": {
     "slide_type": "skip"
    },
    "tags": []
   },
   "source": [
    "## Aplicación del teorema Pi de Buckingham"
   ]
  },
  {
   "cell_type": "raw",
   "id": "3d54abca-12bb-451d-a8b7-03b655c4ac2b",
   "metadata": {
    "slideshow": {
     "slide_type": "subslide"
    },
    "tags": []
   },
   "source": [
    "<div class='diapo'>\n",
    "    <div class='base'>\n",
    "        <div class='base header'>\n",
    "            Aplicación del teorema Pi de Buckingham\n",
    "        </div>\n",
    "        <div class='base body'>\n",
    "            <p style='text-align:justify'>\n",
    "            El teorema Pi de Buckingham consiste de una serie de pasos, que inician con la determinación de las variables relevantes y finalizan con la generación de grupos adimencionales ($\\Pi$s) que describen el proceso en cuestión.\n",
    "            </p>\n",
    "            <div class='equation_box'>\n",
    "            <ol style='font-weigth:bold;text-align:justify'>\n",
    "                <li> <b>Contar y hacer una lista con las $n$ variables involucradas en el problema.</b>\n",
    "                </li>\n",
    "                <li>\n",
    "                    <b>Seleccionar un conjunto de dimensiones primarias.</b>\n",
    "                </li>\n",
    "                <li>\n",
    "                    <b>Hacer una lista con las dimensiones de cada variable.</b>\n",
    "                </li>\n",
    "                <li>\n",
    "                    <b>Encontrar la reducción $j=n-k$</b>\n",
    "                </li>\n",
    "                <li>\n",
    "                    <b>Seleccionar un grupo de $j$ variables</b>, las cuales (en conjunto) contengan todas las dimensiones primarias.\n",
    "                    <ul>\n",
    "                        <li> Estas variables serán denominadas <b>\"variables de repeticion\"</b></li>\n",
    "                        <li> Las variables seleccionadas no pueden formar un grupo adimensional entre ellas </li>\n",
    "                    </ul>\n",
    "                </li>\n",
    "                <li> <b>Armar ecuaciones dimensionales</b>, combinando los parámetros seleccionados en el paso anterior con el resto de los parámetros. <b>Resolver las ecuaciones dimensionales</b> para obtener los $k$ grupos adimensionales.</li>\n",
    "                <li> <b>Verificar</b> que todos $\\Pi$s obtenidos sean adimensionales. <b>Escribir la relación entre los grupos adimensionales obtenidos.</b> </li>\n",
    "            </ol>\n",
    "            </div>\n",
    "        </div>\n",
    "    </div>\n",
    "</div>           "
   ]
  },
  {
   "cell_type": "markdown",
   "id": "1e5b2283-ce72-45c1-b5a4-115b1c2b5b97",
   "metadata": {
    "slideshow": {
     "slide_type": "skip"
    },
    "tags": []
   },
   "source": [
    "### Caso de estudio: bombas centrífugas"
   ]
  },
  {
   "cell_type": "raw",
   "id": "8d182cef-7df2-4fd5-93fa-16738074eb3b",
   "metadata": {
    "slideshow": {
     "slide_type": "subslide"
    },
    "tags": []
   },
   "source": [
    "<div class='diapo'>\n",
    "    <div class='base'>\n",
    "        <div class='base header' style='font-size:40px'>\n",
    "            Aplicación: Leyes de semejanza para bombas centrífugas\n",
    "        </div>\n",
    "        <div class='base body'>\n",
    "            <table style='width:100%;\n",
    "                            font-size:25px'>\n",
    "                <tr style='vertical-align:top'>\n",
    "                    <td style='width:50%;\n",
    "                                background-color:rgba(255,0,255,0.1)'>\n",
    "                        <p style='text-align:justify'> El funcionamiento de una bomba centrífuga puede ser simplificado al siguiente proceso:</p>\n",
    "                        <ul style='text-align:justify'>\n",
    "                            <li> <b>El fluido ingresa a la bomba a través de la línea de descarga</b>, en el centro del impulsor, con velocidad paralela al eje de este último</li>\n",
    "                            <li> <b>El fluido es expulsado radialmente</b>, debido al giro del impulsor </li>\n",
    "                            <li> <b>La dirección del flujo es rectificada por la carcasa</b> y el fluido es expulsado a través de la línea de descarga </li>\n",
    "                        </ul>\n",
    "                    </td>\n",
    "                    <td style='background-color:rgba(0,255,0,0.2)'>\n",
    "                            <p style='text-align:justify'>En el proceso anteriormente descrito, la bomba entrega energía al fluido, la cual es normalmente caracterizada mediante la <b>carga que eleva la bomba $h_A$</b>:</p>\n",
    "                        <span style='font-size:22px'>\n",
    "                        \\begin{equation*}\n",
    "                        h_A = \\frac{p_D-p_{S}}{\\gamma}+\\frac{V_D^2-V_S^2}{2g}+(z_D-z_S)\n",
    "                       \\end{equation*}</span>\n",
    "    <p style='text-align:justify;font-size:20px;font-style:italic'>donde los sufijos $D$ y $S$ indican descarga y succión, respectivamente</p>\n",
    "                            <center> <img src=Figures/centrifuga_func.gif width=55% style='margin-bottom:0px;margin-top:0px'></center>\n",
    "                    </td>\n",
    "                </tr>\n",
    "            </table>\n",
    "                \n",
    "        </div>\n",
    "    </div>\n",
    "</div>"
   ]
  },
  {
   "cell_type": "markdown",
   "id": "3d9ace7e-8b6f-45f4-9fd5-9e41cb5d68ea",
   "metadata": {
    "slideshow": {
     "slide_type": "skip"
    },
    "tags": []
   },
   "source": [
    "#### curvas de rendimiento"
   ]
  },
  {
   "cell_type": "raw",
   "id": "f08ef6ab-70f8-4c4d-ac28-3de9a71a9df1",
   "metadata": {
    "slideshow": {
     "slide_type": "subslide"
    },
    "tags": []
   },
   "source": [
    "<div class='diapo'>\n",
    "    <div class='base'>\n",
    "        <div class='base header'>\n",
    "            Curvas de rendimiento\n",
    "        </div>\n",
    "        <div class='base body'>\n",
    "            <table style='font-size:25px;width:100%'>\n",
    "                <tr style='vertical-align:middle'>\n",
    "                    <td style='width:45%'>\n",
    "                        <p style='text-align:justify'>La operación de una bomba centrífuga se ve afectada por los siguientes parámetros:</p>\n",
    "                            <ul>\n",
    "                                <li>Velocidad angular (nominal) del impulsor ($\\omega$)</li>\n",
    "                                <li>Diametro del impulsor ($D$)</li>\n",
    "                                <li>Carga total ($h$)</li>\n",
    "                                <li>Capacidad ($Q$)</li>\n",
    "                                <li>Dimensiones de la carcasa</li>\n",
    "                            </ul>\n",
    "                        </p>\n",
    "                        <p style='text-align:justify'>\n",
    "                            La relación entre estos parámetros, <b>para cada bomba en particular</b>, es expresada mediante <b>curvas de rendimiento</b>. \n",
    "                    </td>\n",
    "                    <td style='width:55%'>\n",
    "                        <center> <img src=Figures/rendimientos2.png width=100%> </center>\n",
    "                        <center> <div class='comment_box' style='padding:2px;width:80%'> Estas curvas son determinadas experimentalmente.</div> </center>\n",
    "                    </td>\n",
    "                </tr>\n",
    "            </table>\n",
    "        </div>\n",
    "    </div>\n",
    "</div>"
   ]
  },
  {
   "cell_type": "markdown",
   "id": "4fa4df43-ff6c-4d72-9fdd-1c552ec896bb",
   "metadata": {
    "slideshow": {
     "slide_type": "skip"
    },
    "tags": []
   },
   "source": [
    "#### Justificación"
   ]
  },
  {
   "cell_type": "raw",
   "id": "3ec802af-633b-463a-8781-1d55f1ed8a35",
   "metadata": {
    "slideshow": {
     "slide_type": "subslide"
    },
    "tags": []
   },
   "source": [
    "<div class='diapo'>\n",
    "    <div class='base'>\n",
    "        <div class='base body'>\n",
    "            <p style='text-align:justify'>\n",
    "                Las curvas de rendimiento son desarrolladas para un modelo en específico de bomba, por lo que son válidas para:\n",
    "            </p>\n",
    "            <ul>\n",
    "                <li> Un <b>tamaño determinado</b> de la bomba, incluyendo el <b>diámetro del impulsor $D$</b> y carcasa.\n",
    "                </li>\n",
    "                <li>\n",
    "                    Una <b>velocidad del impulsor $\\omega$</b> específica.\n",
    "                </li>\n",
    "                <li>\n",
    "                    Un <b>fluido</b> en particular.\n",
    "                </li>\n",
    "            </ul>\n",
    "\n",
    "            <div class='comment_box' style='text-align:justify;\n",
    "                                            margin-top:10pt'>\n",
    "                Si deseamos determinar las curvas de rendimiento para otras condiciones de operación, deberemos realizar experimentos adicionales para determinar estas nuevas curvas de rendimiento <b>(¡o hacer uso del análisis dimensional!)</b>. \n",
    "            </div>\n",
    "        </div>\n",
    "    </div>\n",
    "</div>\n",
    "            \n",
    "            "
   ]
  },
  {
   "cell_type": "markdown",
   "id": "ce2ade95-528c-4494-944d-3f50c2d9accc",
   "metadata": {
    "slideshow": {
     "slide_type": "skip"
    },
    "tags": []
   },
   "source": [
    "##### notas"
   ]
  },
  {
   "cell_type": "raw",
   "id": "87ed5e0f-f6ff-487a-83e5-9f7599d1a32b",
   "metadata": {
    "slideshow": {
     "slide_type": "notes"
    },
    "tags": []
   },
   "source": [
    "<p style='text-align:justify'>Ejemplos de situaciones en las cuales deseamos extrapolar estas curvas son:</p>\n",
    "<ul style='text-align:justify'>\n",
    "    <li> <b>Cambio de la velocidad del impulsor </b>: la velocidad del impulsor es determinada por el motor de la bomba. Si es motor eléctrico, dependerá de la frecuencia de la corriente eléctrica que es alimentada a este. En Chile, $\\omega=900$, $1450$, o $2900$ $\\text{rpm}$ para motores de $6$, $4$ y $2$ polos, respectivamente. \n",
    "        <ul style='text-align:justify'>\n",
    "            <li>Si disponemos de la curva de rendimiento para una velocidad, podemos estimar la curva que se obtendría si se cambia el motor (notar que a medida que aumenta $\\omega$, también lo hará $h_A$ y $Q$).\n",
    "            </li>\n",
    "            <li> Si empleamos variadores de frecuencia, es posible cambiar $\\omega$. Esta estrategia es empleada para controlar el flujo.\n",
    "            </li>\n",
    "        </ul>\n",
    "    <li> <b> Escalamiento de la bomba </b>: si el fabricante desea diseñar una bomba de mayor capacidad, puede realizar estimaciones iniciales del tamaño requerido de la bomba a partir de las curvas de rendimiento de una bomba conocida. <b>Esto suponiendo que existirá similitud geométrica entre ambas bombas</b>\n",
    "    </li>\n",
    "    <li> <b>Cambiar el fludio</b>: Se requiere bombar un fluido distinto al original (por ejemplo, un aceite). Podemos hacer estimaciones iniciales de las curvas de rendimiento para el nuevo fluido\n",
    "    </li>\n",
    "</ul>"
   ]
  },
  {
   "cell_type": "markdown",
   "id": "87f0c62f-7937-4286-b6e6-564fb9af7b72",
   "metadata": {
    "slideshow": {
     "slide_type": "skip"
    },
    "tags": []
   },
   "source": [
    "#### Aplicación"
   ]
  },
  {
   "cell_type": "markdown",
   "id": "5f3623c0-cdd6-4a03-910c-a18e96b9ad57",
   "metadata": {
    "slideshow": {
     "slide_type": "skip"
    },
    "tags": []
   },
   "source": [
    "##### 1 - Listado"
   ]
  },
  {
   "cell_type": "raw",
   "id": "95aa5d88-7672-44c6-9af8-8286dec9cba3",
   "metadata": {
    "jp-MarkdownHeadingCollapsed": true,
    "slideshow": {
     "slide_type": "subslide"
    },
    "tags": []
   },
   "source": [
    "<div class='diapo'>\n",
    "    <div class='base'>\n",
    "        <div class='base header'>\n",
    "        </div>\n",
    "        <div class='base body'>\n",
    "            <p style='font-size:30px'>\n",
    "                <b>1 - Listado de parámetros relevantes </b>\n",
    "            </p>\n",
    "            <p style='text-align:justify'>\n",
    "                La experiencia ha demostrado que la carga elevada por una bomba, expresada como energía por unidad de masa ($gh_A$), depende de:\n",
    "            </p>\n",
    "            <ul>\n",
    "                <li> El caudal $Q$</li>\n",
    "                <li> La densidad del fluido $\\rho$</li>\n",
    "                <li> La velocidad del impulsor $\\omega$ (expresada por lo general en $\\text{rpm}$)</li>\n",
    "                <li> El diámetro del impulsor $D$</li>\n",
    "                <li> La viscosidad del fluido $\\mu$</li>\n",
    "                <li> La rugosidad del material que compone la bomba $\\epsilon$</li>\n",
    "            </ul>\n"
   ]
  },
  {
   "cell_type": "raw",
   "id": "eca9e69b-3b94-45de-bde2-98a474f4f508",
   "metadata": {
    "slideshow": {
     "slide_type": "fragment"
    },
    "tags": []
   },
   "source": [
    "            <p>\n",
    "            De esta forma:\n",
    "            </p>\n",
    "\n",
    "            <center>\n",
    "                <div class='equation_box' style=';width:40%'>\n",
    "                    \\begin{equation*}\n",
    "                    gh_A = f\\left(Q, \\rho, \\omega, D, \\mu, \\epsilon\\right)\n",
    "                    \\end{equation*}\n",
    "                </div>\n",
    "            </center>\n",
    "\n",
    "            <p style='text-align:justify'>\n",
    "                <b> Notar que el producto $gh_A$ será considerado como una única variable compuesta a partir de este punto</b>\n",
    "            </p>\n",
    "        </div>\n",
    "    </div>\n",
    "</div>"
   ]
  },
  {
   "cell_type": "markdown",
   "id": "b62ae994-6685-43fe-b9f4-6c816ede4e04",
   "metadata": {
    "slideshow": {
     "slide_type": "skip"
    },
    "tags": []
   },
   "source": [
    "##### 2- Dimensiones primarias "
   ]
  },
  {
   "cell_type": "raw",
   "id": "f11716f6-ac55-4a98-9f49-e2f9cc4d1527",
   "metadata": {
    "slideshow": {
     "slide_type": "subslide"
    },
    "tags": []
   },
   "source": [
    "<div class='diapo'>\n",
    "    <div class='base'>\n",
    "        <div class='base body'>\n",
    "            <p style='font-size:30px'>\n",
    "                <b> 2- Dimensiones primarias </b> \n",
    "            </p>\n",
    "            <p>\n",
    "                Consideraremos como dimensiones primarias $M$, $L$ y $t$\n",
    "            </p>\n"
   ]
  },
  {
   "cell_type": "markdown",
   "id": "fa9f2700-32a4-49e5-b68e-dc124f08d139",
   "metadata": {
    "slideshow": {
     "slide_type": "skip"
    },
    "tags": []
   },
   "source": [
    "#####  3- Matriz dimensional"
   ]
  },
  {
   "cell_type": "raw",
   "id": "d222a29e-b890-49a7-a17f-83ae8756bfc9",
   "metadata": {
    "slideshow": {
     "slide_type": "fragment"
    },
    "tags": []
   },
   "source": [
    "            <p style='font-size:30px'>\n",
    "                <b> 3- Matriz dimensional </b> \n",
    "            </p>\n",
    "            <p>\n",
    "                Las dimensiones de los parámetros involucrados son:\n",
    "            </p>\n",
    "                \\begin{equation*}\n",
    "                    \\begin{array}{c|ccccccc} \n",
    "                    & g h_A & Q & \\rho & \\omega & D & \\mu & \\varepsilon \\\\\n",
    "                    \\hline M & 0 & 0 & 1 & 0 & 0 & 1 & 0 \\\\\n",
    "                    L & 2 & 3 & -3 & 0 & 1 & -1 & 1 \\\\\n",
    "                    t & -2 & -1 & 0 & -1 & 0 & -1 & 0\n",
    "                    \\end{array}\n",
    "                \\end{equation*}\n"
   ]
  },
  {
   "cell_type": "raw",
   "id": "51af6a4c-ad4a-45a6-b45e-98998bf05917",
   "metadata": {
    "slideshow": {
     "slide_type": "fragment"
    },
    "tags": []
   },
   "source": [
    "            <p>\n",
    "                y la correspondiente matriz dimensional es:\n",
    "            </p>\n",
    "                \\begin{equation*}\n",
    "                    \\textbf{A}_{dim}=\\begin{bmatrix}\n",
    "                     0 & 0 & 1 & 0 & 0 & 1 & 0 \\\\\n",
    "                    2 & 3 & -3 & 0 & 1 & -1 & 1 \\\\\n",
    "                    -2 & -1 & 0 & -1 & 0 & -1 & 0\n",
    "                    \\end{bmatrix}\n",
    "                \\end{equation*}\n",
    "        </div>\n",
    "    </div>\n",
    "</div>"
   ]
  },
  {
   "cell_type": "markdown",
   "id": "42f849d4-36b0-471c-a9a1-4a9089a01364",
   "metadata": {
    "slideshow": {
     "slide_type": "skip"
    },
    "tags": []
   },
   "source": [
    "##### 4- Determinación de la reducción $j$"
   ]
  },
  {
   "cell_type": "raw",
   "id": "bf848de1-0fd2-4e91-9d82-0ebe947bb3fa",
   "metadata": {
    "slideshow": {
     "slide_type": "subslide"
    },
    "tags": []
   },
   "source": [
    "<div class='diapo'>\n",
    "    <div class='base'>\n",
    "        <div class='base body'>\n",
    "            <p style='font-size:30px'>\n",
    "                <b> 4- Determinación de la reducción $j$ </b>\n",
    "            </p>\n",
    "            <p>\n",
    "                El rango de la matríz dimensional es:\n",
    "           </p> \n",
    "                $$ \\text{rank}\\left({\\textbf{A}_{dim}}\\right) = 3 $$\n",
    "            <p>\n",
    "                De esta forma, $j=3$. Ya que el proceso considera $7$ parámetros dimensionales, deberemos:\n",
    "            </p>\n",
    "                <ul>\n",
    "                    <li> Seleccionar $3$ variables de repetición </li>\n",
    "                    <li> Generar $4$ grupos adimensionales </li>\n",
    "                </ul>\n",
    "            </p>\n"
   ]
  },
  {
   "cell_type": "markdown",
   "id": "43a5e6ff-0919-4ca5-b894-f3d08c02e649",
   "metadata": {
    "slideshow": {
     "slide_type": "skip"
    },
    "tags": []
   },
   "source": [
    "##### 5-  Variables de repetición"
   ]
  },
  {
   "cell_type": "raw",
   "id": "fa1f3223-00c7-45bc-8c1d-09c97c4370cc",
   "metadata": {
    "slideshow": {
     "slide_type": "fragment"
    },
    "tags": []
   },
   "source": [
    "            <p style='font-size:30px'>\n",
    "                <b> 5-  Variables de repetición </b>\n",
    "            </p>\n",
    "            <p>\n",
    "                    Consideraremos como variables de repetición: $D$, $\\omega$ y $\\rho$\n",
    "            </p>\n",
    "            </p>\n",
    "        </div>\n",
    "    </div>\n",
    "</div>"
   ]
  },
  {
   "cell_type": "markdown",
   "id": "30ceff99-72fa-4e8a-8d7d-2d9ada4c6158",
   "metadata": {
    "slideshow": {
     "slide_type": "skip"
    },
    "tags": []
   },
   "source": [
    "##### 6- Ecuaciones dimensionales"
   ]
  },
  {
   "cell_type": "markdown",
   "id": "d27bee1f-2378-479b-a1e9-631d127732aa",
   "metadata": {
    "slideshow": {
     "slide_type": "skip"
    },
    "tags": []
   },
   "source": [
    "##### Primer grupo adimensional $\\Pi_1$"
   ]
  },
  {
   "cell_type": "raw",
   "id": "92ebd020-0593-41df-b258-a8f8af53de24",
   "metadata": {
    "slideshow": {
     "slide_type": "subslide"
    },
    "tags": []
   },
   "source": [
    "<div class='diapo'>\n",
    "    <div class='base'>\n",
    "        <div class='base body'>\n",
    "            <p style='font-size:30px'>\n",
    "                <b>  6- Ecuaciones dimensionales </b>\n",
    "            </p>\n",
    "            <p>\n",
    "                <b> Primer grupo adimensional $\\Pi_1$ </b>\n",
    "            </p>\n",
    "            \\begin{equation*}\n",
    "            \\Pi_1 = D^a\\omega^b\\rho^c(gh_A)\\Rightarrow \\left(L\\right)^a\\left(t^{-1}\\right)^{b}\\left(ML^{-3}\\right)^c \\left(L^2t^{-2}\\right)=M^0L^0t^0\n",
    "            \\end{equation*}\n"
   ]
  },
  {
   "cell_type": "raw",
   "id": "429ccf46-0064-4254-a7ec-70b3f93a9a11",
   "metadata": {
    "slideshow": {
     "slide_type": "fragment"
    },
    "tags": []
   },
   "source": [
    "\n",
    "            $$\\begin{array}{rr}\n",
    "            M: & c=0 \\\\\n",
    "            L: & a-3c+2=0 \\\\\n",
    "            t: & -b-2=0\n",
    "            \\end{array}\n",
    "            $$\n"
   ]
  },
  {
   "cell_type": "raw",
   "id": "8c86156a-69b2-40ba-91c5-339652d65f64",
   "metadata": {
    "slideshow": {
     "slide_type": "fragment"
    },
    "tags": []
   },
   "source": [
    "            En forma matricial:\n",
    "            <!--- $$\n",
    "            \\textbf{Ax} = \\textbf{b} \n",
    "            $$ --->\n",
    "\n",
    "            $$\n",
    "            \\begin{bmatrix}\n",
    "            0 & 0 & 1 \\\\\n",
    "            1 & 0 & -3 \\\\\n",
    "            0 & -1 & 0 \n",
    "            \\end{bmatrix}\n",
    "            \\begin{bmatrix}\n",
    "            a \\\\ b \\\\ c\n",
    "            \\end{bmatrix} =\n",
    "            \\begin{bmatrix}\n",
    "            0 \\\\-2 \\\\ 2\n",
    "            \\end{bmatrix}\n",
    "            \\qquad \\Rightarrow  \\qquad \\left[\\begin{array}{l}\n",
    "            a \\\\\n",
    "            b \\\\\n",
    "            c\n",
    "            \\end{array}\\right]=\\left[\\begin{array}{c}\n",
    "            -2.0 \\\\\n",
    "            -2.0 \\\\\n",
    "            0.0\n",
    "            \\end{array}\\right]\n",
    "            $$\n"
   ]
  },
  {
   "cell_type": "raw",
   "id": "3db40a95-d7c8-4c0a-8380-2df2a0c3f969",
   "metadata": {
    "slideshow": {
     "slide_type": "fragment"
    },
    "tags": []
   },
   "source": [
    "\n",
    "            <center>\n",
    "                <div class=comment_box> \n",
    "                    De esta forma: $\\displaystyle \\Pi_1 = \\frac{gh_A}{D^2\\omega^2}$\n",
    "                </div>\n",
    "            </center>\n",
    "        </div>\n",
    "    </div>\n",
    "</div>"
   ]
  },
  {
   "cell_type": "markdown",
   "id": "80fe0058-f76e-4d70-aec2-be82e9722d98",
   "metadata": {
    "slideshow": {
     "slide_type": "skip"
    },
    "tags": []
   },
   "source": [
    "##### Segundo grupo adimensional $\\Pi_2$"
   ]
  },
  {
   "cell_type": "raw",
   "id": "e932ae9d-327c-4518-9290-b910db24897a",
   "metadata": {
    "slideshow": {
     "slide_type": "subslide"
    },
    "tags": []
   },
   "source": [
    "<div class='diapo'>\n",
    "    <div class='base'>\n",
    "        <div class='base header'>\n",
    "        \n",
    "        </div>\n",
    "        <div class='base body'>\n",
    "        \n",
    "            <p>\n",
    "                <b> Segundo grupo adimensional $\\Pi_2$ </b>\n",
    "            </p>\n",
    "\\begin{equation*}\n",
    "\\Pi_2 = D^a\\omega^b\\rho^c\\mu\\Rightarrow \\left(L\\right)^a\\left(t^{-1}\\right)^{b}\\left(ML^{-3}\\right)^c \\left(ML^{-1}t^{-1}\\right)=M^0L^0t^0\n",
    "\\end{equation*}\n",
    "La ecuación dimensional, en forma matricial:\n",
    "\n",
    "$$\\begin{bmatrix}\n",
    "0 & 0 & 1 \\\\\n",
    "1 & 0 & -3 \\\\\n",
    "0 & -1 & 0 \n",
    "\\end{bmatrix}\n",
    "\\begin{bmatrix}\n",
    "a \\\\ b \\\\ c\n",
    "\\end{bmatrix} =\n",
    "\\begin{bmatrix}\n",
    "-1 \\\\ 1 \\\\ 1\n",
    "\\end{bmatrix}\n",
    "\\qquad \\Rightarrow  \\qquad \\left[\\begin{array}{l}\n",
    "            a \\\\\n",
    "            b \\\\\n",
    "            c\n",
    "            \\end{array}\\right]=\\left[\\begin{array}{c}\n",
    "            -2.0 \\\\\n",
    "            -2.0 \\\\\n",
    "            -1.0\n",
    "                        \\end{array}\\right]\n",
    "            $$\n",
    "            \n",
    "                        <center>\n",
    "                <div class=comment_box> \n",
    "                    De esta forma: $\\displaystyle \\Pi_2 = \\frac{\\mu}{\\rho \\omega D^2}$\n",
    "                </div>\n",
    "            </center>\n",
    "                </div>\n",
    "    </div>\n",
    "</div>"
   ]
  },
  {
   "cell_type": "markdown",
   "id": "215d9e54-d919-4851-834d-3571077c3d1a",
   "metadata": {
    "slideshow": {
     "slide_type": "skip"
    },
    "tags": []
   },
   "source": [
    "##### Tercer grupo adimensional $\\Pi_3$"
   ]
  },
  {
   "cell_type": "raw",
   "id": "a4ee9f91-2149-4dcf-a5e8-69eed066c801",
   "metadata": {
    "slideshow": {
     "slide_type": "subslide"
    },
    "tags": []
   },
   "source": [
    "<div class='diapo'>\n",
    "    <div class='base'>\n",
    "        <div class='base header'>\n",
    "        \n",
    "        </div>\n",
    "        <div class='base body'>\n",
    "        \n",
    "            <p>\n",
    "                <b> Tercer grupo adimensional $\\Pi_3$ </b>\n",
    "            </p>\n",
    "\\begin{equation*}\n",
    "\\Pi_3 = D^a\\omega^b\\rho^cQ\\Rightarrow \\left(L\\right)^a\\left(t^{-1}\\right)^{b}\\left(ML^{-3}\\right)^c \\left(L^{3}t^{-1}\\right)=M^0L^0t^0\n",
    "\\end{equation*}\n",
    "La ecuación dimensional, en forma matricial:\n",
    "\n",
    "$$\\begin{bmatrix}\n",
    "0 & 0 & 1 \\\\\n",
    "1 & 0 & -3 \\\\\n",
    "0 & -1 & 0 \n",
    "\\end{bmatrix}\n",
    "\\begin{bmatrix}\n",
    "a \\\\ b \\\\ c\n",
    "\\end{bmatrix} =\n",
    "\\begin{bmatrix}\n",
    "0 \\\\ -3 \\\\ 1\n",
    "\\end{bmatrix}\n",
    "\\qquad \\Rightarrow  \\qquad \\left[\\begin{array}{l}\n",
    "            a \\\\\n",
    "            b \\\\\n",
    "            c\n",
    "            \\end{array}\\right]=\\left[\\begin{array}{c}\n",
    "            -3.0 \\\\\n",
    "            -1.0 \\\\\n",
    "            0.0\n",
    "                        \\end{array}\\right]\n",
    "            $$\n",
    "            \n",
    "                        <center>\n",
    "                <div class=comment_box> \n",
    "                    De esta forma: $\\displaystyle \\Pi_3 = \\frac{Q}{D^3 \\omega}$\n",
    "                </div>\n",
    "            </center>\n",
    "                </div>\n",
    "    </div>\n",
    "</div>"
   ]
  },
  {
   "cell_type": "markdown",
   "id": "90b86115-63cd-41c6-8a96-b7a3e7651707",
   "metadata": {
    "slideshow": {
     "slide_type": "skip"
    },
    "tags": []
   },
   "source": [
    "##### Cuarto grupo adimensional $\\Pi_4$"
   ]
  },
  {
   "cell_type": "raw",
   "id": "406001d2-c86e-4991-be5d-db012e277359",
   "metadata": {
    "slideshow": {
     "slide_type": "subslide"
    },
    "tags": []
   },
   "source": [
    "<div class='diapo'>\n",
    "    <div class='base'>\n",
    "        <div class='base header'>\n",
    "        \n",
    "        </div>\n",
    "        <div class='base body'>\n",
    "        \n",
    "            <p>\n",
    "                <b> Cuarto grupo adimensional $\\Pi_4$ </b>\n",
    "            </p>\n",
    "\\begin{equation*}\n",
    "\\Pi_4 = D^a\\omega^b\\rho^c\\epsilon\\Rightarrow \\left(L\\right)^a\\left(t^{-1}\\right)^{b}\\left(ML^{-3}\\right)^c \\left(L\\right)=M^0L^0t^0\n",
    "\\end{equation*}\n",
    "La ecuación dimensional, en forma matricial:\n",
    "\n",
    "$$\\begin{bmatrix}\n",
    "0 & 0 & 1 \\\\\n",
    "1 & 0 & -3 \\\\\n",
    "0 & -1 & 0 \n",
    "\\end{bmatrix}\n",
    "\\begin{bmatrix}\n",
    "a \\\\ b \\\\ c\n",
    "\\end{bmatrix} =\n",
    "\\begin{bmatrix}\n",
    "0 \\\\ -1 \\\\ 0\n",
    "\\end{bmatrix}\n",
    "\\qquad \\Rightarrow  \\qquad \\left[\\begin{array}{l}\n",
    "            a \\\\\n",
    "            b \\\\\n",
    "            c\n",
    "            \\end{array}\\right]=\\left[\\begin{array}{c}\n",
    "            -1.0 \\\\\n",
    "            0.0 \\\\\n",
    "            0.0\n",
    "                        \\end{array}\\right]\n",
    "            $$\n",
    "            \n",
    "                        <center>\n",
    "                <div class=comment_box> \n",
    "                    De esta forma: $\\displaystyle \\Pi_4 = \\frac{\\epsilon}{D}$\n",
    "                </div>\n",
    "            </center>\n",
    "                </div>\n",
    "    </div>\n",
    "</div>"
   ]
  },
  {
   "cell_type": "markdown",
   "id": "0ea3aec2-9c19-41d5-bf63-f2a0230ec19d",
   "metadata": {
    "jp-MarkdownHeadingCollapsed": true,
    "slideshow": {
     "slide_type": "skip"
    },
    "tags": []
   },
   "source": [
    "##### 7- Verificación y presentación"
   ]
  },
  {
   "cell_type": "raw",
   "id": "f525217e-8641-414a-9e5c-6df97f029504",
   "metadata": {
    "slideshow": {
     "slide_type": "subslide"
    },
    "tags": []
   },
   "source": [
    "<div class='diapo'>\n",
    "    <div class='base'>\n",
    "        <div class='base header'>\n",
    "        \n",
    "        </div>\n",
    "        <div class='base body'>\n",
    "            <p style='font-size:30px'>\n",
    "                <b> 7- Verificación y presentación</b>\n",
    "            </p>\n",
    "                <p>\n",
    "                    La funcionalidad entre los grupos adimensionales determinados es:\n",
    "                </p>\n",
    "                    $$\\Pi_1 = f\\left(\\Pi_2,\\Pi_3,\\Pi_4\\right)$$\n",
    "\n",
    "                \\begin{equation*}\n",
    "                    \\color{blue}{\\frac{gh_A}{D^2\\omega^2}} {= \\color{black}f\\left( {\\color{red}{ \\frac{\\rho (\\omega D) D}{\\mu}}},{\\color{magenta}{\\frac{Q}{D^3 \\omega}}},{\\color{green}{\\frac{\\epsilon}{D}}}\\right)}\n",
    "                \\end{equation*}\n"
   ]
  },
  {
   "cell_type": "raw",
   "id": "3659eb64-8daf-4dab-ac22-3262b2936981",
   "metadata": {
    "slideshow": {
     "slide_type": "fragment"
    },
    "tags": []
   },
   "source": [
    "        <table style='font-size:25px'>\n",
    "            <tr style='vertical-align:top'>\n",
    "                <td style='background-color:rgba(0,0,255,0.1);\n",
    "                            text-align:justify'>\n",
    "                    El término en <span style='color:blue'>azul</span> se denomina <b>coeficiente de carga hidrostática $C_H$</b>\n",
    "                    $$C_H = \\frac{gh_A}{D^2\\omega^2}$$\n",
    "                </td>\n",
    "                <td style='background-color:rgba(255,0,0,0.1);\n",
    "                            text-align:justify'>\n",
    "                    El término en <span style='color:red'>rojo</span> es el <b>número de Reynolds</b> $\\operatorname{Re}$, con velocidad características $\\omega D$:\n",
    "                    $$\\operatorname{Re} = \\frac{\\rho (\\omega D) D}{\\mu}$$\n",
    "                </td>\n",
    "                <td style='background-color:rgba(255,0,255,0.1);\n",
    "                            text-align:justify'>\n",
    "                    El término en <span style='color:magenta'>magenta</span> se denomina <b>coeficiente de capacidad</b> $C_Q$\n",
    "                    $$C_Q = \\frac{Q}{D^3 \\omega}$$\n",
    "                </td>\n",
    "                <td style='background-color:rgba(0,255,0,0.1);\n",
    "                            text-align:justify'>\n",
    "                    El término en <span style='color:green'>verde</span> se denomina <b>rugosidad relativa</b> $\\epsilon/D$\n",
    "                </td>\n",
    "            </tr>\n",
    "        </table>\n",
    "        </div>\n",
    "    </div>\n",
    "</div>"
   ]
  },
  {
   "cell_type": "markdown",
   "id": "31204947-7707-4337-b3cf-bcdd302cba72",
   "metadata": {
    "slideshow": {
     "slide_type": "skip"
    },
    "tags": []
   },
   "source": [
    "# Similitud y modelamiento"
   ]
  },
  {
   "cell_type": "raw",
   "id": "63463cca-3218-4afe-9c8e-483a801728f0",
   "metadata": {
    "slideshow": {
     "slide_type": "slide"
    },
    "tags": []
   },
   "source": [
    "<div class='diapo'>\n",
    "    <div class='titulo'>\n",
    "        Modelamiento y similitud\n",
    "    </div>\n",
    "</div>"
   ]
  },
  {
   "cell_type": "raw",
   "id": "cad1606b-b30b-43ba-b564-1b947eb73db1",
   "metadata": {
    "slideshow": {
     "slide_type": "subslide"
    },
    "tags": []
   },
   "source": [
    "<div class='diapo'>\n",
    "    <div class='alternativa'>\n",
    "        <div class='alternativa_header'>\n",
    "            Modelamiento y similitud\n",
    "        </div>\n",
    "        <div class='alternativa_body'>\n",
    "            <center><iframe width=\"560\" height=\"315\" src=\"https://www.youtube.com/embed/rqcua9T6SqA\" title=\"YouTube video player\" frameborder=\"0\" allow=\"accelerometer; autoplay; clipboard-write; encrypted-media; gyroscope; picture-in-picture\" allowfullscreen></iframe>\n",
    "            </center>\n",
    "        </div>\n",
    "    </div>\n",
    "</div>"
   ]
  },
  {
   "cell_type": "raw",
   "id": "51819d1b-50db-45d0-a092-848482393bc9",
   "metadata": {
    "slideshow": {
     "slide_type": "subslide"
    },
    "tags": []
   },
   "source": [
    "<div class='diapo'>\n",
    "    <div class='alternativa'>\n",
    "        <div class='alternativa body'>\n",
    "            <p style=\"text-align:justify\">\n",
    "        Previo a discutir los conceptos de modelamiento y de similitud, debemos hacer distinción entre dos conceptos:\n",
    "            </p>\n",
    "            <table style=\"font-size:25px;  border: 0px solid black\">\n",
    "                <tr style=\"vertical-align:top\">\n",
    "                    <td style=\"text-align:justify;\n",
    "                               width:50%; \n",
    "                               border: 0px solid black;\n",
    "                               background-color:rgba(256,0,0,0.3)\n",
    "                               \">\n",
    "                        <p style=\"text-align:center;\n",
    "                                  font-size:30px\n",
    "                                  \">\n",
    "                            <b>Prototipo</b>\n",
    "                        </p>\n",
    "                        <p>\n",
    "                            Sistema físico para el cual se realizan las predicciones.\n",
    "                        </p>\n",
    "                    </td>\n",
    "                    <td style=\"text-align:justify;\n",
    "                               width:50%; \n",
    "                               border: 0px solid black;\n",
    "                               background-color:rgba(0,0,256,0.3)\n",
    "                               \">\n",
    "                        <p style=\"text-align:center;\n",
    "                                  font-size:30px\n",
    "                                  \">\n",
    "                            <b>Modelo</b>\n",
    "                        </p>\n",
    "                        <p>\n",
    "                            <b><span style=\"color:red\">Representación</span></b> de un sistema físico que puede ser utilizado para predecir el comportamiento del sistema en algún aspecto deseado.\n",
    "                        </p>\n",
    "                    </td>\n",
    "                </tr>\n",
    "                <tr style=\"vertical-align:middle; \n",
    "                           border: 0px solid black\n",
    "                           \">\n",
    "                    <td style=\"background-color:rgba(256,0,0,0.3)\">\n",
    "                        <center>\n",
    "                            <img src=Figures/Prototipo.jpg height=300px>\n",
    "                        </center>\n",
    "                    </td>\n",
    "                    <td style=\"background-color:rgba(0,0,256,0.3)\">\n",
    "                        <center>\n",
    "                            <img src=Figures/Modelo.jpg height=300px>\n",
    "                        </center>\n",
    "                    </td>                    \n",
    "                </tr>\n",
    "            </table>\n",
    "        </div>\n",
    "    </div>\n",
    "</div>"
   ]
  },
  {
   "cell_type": "markdown",
   "id": "66c13beb-237a-4eb8-bec8-3b597dc1f8b8",
   "metadata": {
    "slideshow": {
     "slide_type": "skip"
    },
    "tags": []
   },
   "source": [
    "## Teoría de modelos"
   ]
  },
  {
   "cell_type": "raw",
   "id": "3e388a46-bd43-42d9-a3e2-dc2b2f2bd1bb",
   "metadata": {
    "slideshow": {
     "slide_type": "subslide"
    },
    "tags": []
   },
   "source": [
    "<div class='diapo'>\n",
    "    <div class='base'>\n",
    "        <div class='base header'>\n",
    "            Teoría de Modelos\n",
    "        </div>\n",
    "        <div class='base body'>\n",
    "            En base a los principios del análisis dimensional, cualquier problema puede ser descrito en base a un conjunto de $\\Pi$s, tal que:\n",
    "\\begin{equation}\n",
    "\\Pi_i=f\\left(\\Pi_2, \\Pi_3, \\ldots, \\Pi_n\\right)\n",
    "\\end{equation}\n",
    "Si la relación anterior describe el comportamiento de un prototipo, una relación similar puede ser desarrollada para un modelo de este prototipo:\n",
    "\\begin{equation}\n",
    "\\Pi_{1 m}=f\\left(\\Pi_{2 m}, \\Pi_{3 m}, \\ldots, \\Pi_{n m}\\right)\n",
    "\\end{equation}\n",
    "donde $f$ tendrá la misma funcionalidad para modelo y prototipo, <b>siempre cuando ambos se vean afectados por el mismo fenómeno físico.</b>\n",
    "       </div>\n",
    "   </div>\n",
    "</div>"
   ]
  },
  {
   "cell_type": "raw",
   "id": "98fa37b8-7a5b-446e-9f6d-8804c1eb27f2",
   "metadata": {
    "slideshow": {
     "slide_type": "subslide"
    },
    "tags": []
   },
   "source": [
    "<div class='diapo'>\n",
    "    <div class='alternativa'>\n",
    "        <div class='alternativa_body'>\n",
    "            <p style=\"text-align:justify\">Si los $\\Pi_s$ son desarrollados de forma que la variable que se desea predecir está contenida en $\\Pi_1$, el modelo se puede <b>diseñar y operar</b> bajo las siguientes condiciones:</p>\n",
    "          <center>\n",
    "          <div class=comment_box style=\"width:70%\">\n",
    "\\begin{equation*}\n",
    "\\begin{gathered}\n",
    "\\Pi_{2 m}=\\Pi_2 \\\\\n",
    "\\Pi_{3 m}=\\Pi_3 \\\\\n",
    "\\cdots \\\\\n",
    "\\Pi_{n m}=\\Pi_n\n",
    "\\end{gathered}\n",
    "\\end{equation*}\n",
    "<center><b>Condiciones necesarias para la similitud</b></center>\n",
    "</div>\n",
    "</center>\n",
    "<p>Entonces, bajo la suposición de que $f$ tiene la misma forma para modelo y prototipo:</p>\n",
    "<center>\n",
    "<div class='equation_box' style=\"width:70%\">\n",
    "\\begin{equation*}\n",
    "\\Pi_1=\\Pi_{1 m}\n",
    "\\end{equation*}\n",
    "<center><b>Ecuación de predicción</b></center>\n",
    "</div>\n",
    "</center>\n",
    "</div>\n",
    "</div>\n",
    "</div>"
   ]
  },
  {
   "cell_type": "markdown",
   "id": "a94ce426-ae27-4a7a-928e-4df712bacb86",
   "metadata": {
    "slideshow": {
     "slide_type": "skip"
    },
    "tags": []
   },
   "source": [
    "### Grados de similitud"
   ]
  },
  {
   "cell_type": "raw",
   "id": "2d3b91d1-7676-4b49-9d71-03d629a62bac",
   "metadata": {
    "slideshow": {
     "slide_type": "subslide"
    },
    "tags": []
   },
   "source": [
    "<div class='diapo'>\n",
    "    <div class='alternativa'>\n",
    "        <div class='alternativa_header'>\n",
    "            Grados de similitud\n",
    "        </div>\n",
    "        <div class='alternativa_body'>\n",
    "        <p style=\"text-align:justify\">Comúnmente, el grado de similitud entre modelo y prototipo se clasifica en tres tipos:</p>\n",
    "        <center>\n",
    "            <table style=\"width:90%;font-size:30px\">\n",
    "                <tr style=\"vertical-align:middle\">\n",
    "                    <td style=\"width:50%\">\n",
    "                        <ul style=\"font-weight:bold;margin-left:0px\">\n",
    "                            <li> Similitud geométrica </li>\n",
    "                            <li> Similitud cinemática </li>\n",
    "                            <li> Similitud dinámica </li>\n",
    "                        </ul>\n",
    "                    </td>\n",
    "                    <td style=\"width:50%\">\n",
    "                        <center>\n",
    "                            <img src=Figures/grados_sim.png width=100%>\n",
    "                        </center>\n",
    "                    </td>\n",
    "                </tr>\n",
    "            </table>\n",
    "        </div>\n",
    "    </div>\n",
    "</div>        "
   ]
  },
  {
   "cell_type": "markdown",
   "id": "a82f2805-1730-4f34-a344-40e9efb0a59c",
   "metadata": {
    "slideshow": {
     "slide_type": "skip"
    },
    "tags": []
   },
   "source": [
    "#### Similitud geométrica"
   ]
  },
  {
   "cell_type": "raw",
   "id": "140bf1cc-eb0d-4bd2-bd76-40298c4415cd",
   "metadata": {
    "slideshow": {
     "slide_type": "subslide"
    },
    "tags": []
   },
   "source": [
    "<div class='diapo'>\n",
    "    <div class='alternativa'>\n",
    "        <div class='alternativa_header'>\n",
    "            Similitud geométrica\n",
    "        </div>\n",
    "        <div class='alternativa_body'>\n",
    "            <div class='comment_box' style=\"font-weight:bold; text-align:justify;font-size:30px\">\n",
    "            <ul style='text-align:justify'>\n",
    "            <li style='text-align:justify'>\n",
    "            El modelo y el prototipo deben poseer la misma forma geométrica.\n",
    "            </li>\n",
    "            <li>\n",
    "            El tamaño del modelo puede ser modificado mediante algún factor de escala.\n",
    "            </li>\n",
    "            </u>\n",
    "            </div>\n",
    "                        \n",
    "            <p>Para cumplir con este tipo de similitud se requiere que:</p>\n",
    "            <ul style=\"text-align:justify\">\n",
    "                <li>Todas las dimensiones del modelo tengan la misma escala lineal con las dimensiones del prototipo.</li>\n",
    "                <li>Todos los ángulos se conserven (los ángulos en modelo y prototipo sean iguales).</li>\n",
    "                <li>Todas las direcciones de flujo se conserven.</li>\n",
    "                <li>La orientación del modelo y del prototipo con respecto a sus alrededores deben ser idénticas.</li>\n",
    "            </ul>\n",
    "        </div>\n",
    "    </div>\n",
    "</div>\n",
    "        "
   ]
  },
  {
   "cell_type": "markdown",
   "id": "b9d6a477-3fa9-4a6b-a651-1280111addf5",
   "metadata": {
    "slideshow": {
     "slide_type": "skip"
    },
    "tags": []
   },
   "source": [
    "#### Similitud cinemática"
   ]
  },
  {
   "cell_type": "raw",
   "id": "2154f4ca-645f-4c98-b6ec-430d75321613",
   "metadata": {
    "slideshow": {
     "slide_type": "subslide"
    },
    "tags": []
   },
   "source": [
    "<div class='diapo'>\n",
    "    <div class='alternativa'>\n",
    "        <div class='alternativa_header'>\n",
    "            Similitud cinemática\n",
    "        </div>\n",
    "        <div class='alternativa_body'>\n",
    "            <div class='comment_box' style=\"font-weight:bold; text-align:justify;font-size:30px\">\n",
    "                <ul style='text-align:justify'>\n",
    "                    <li>\n",
    "                    La velocidad en cualquier punto en el flujo del modelo debe\n",
    "        ser proporcional a la velocidad en el punto correspondiente en\n",
    "        el flujo del prototipo (la escala debe ser la misma para todos\n",
    "        los puntos).\n",
    "                    </li>\n",
    "                </u>\n",
    "            </div>\n",
    "                        \n",
    "            <p>Para cumplir con este tipo de similitud se requiere que:</p>\n",
    "            <ul style=\"text-align:justify\">\n",
    "                <li><b>Exista semejanza geométrica.</b></li>\n",
    "                <li>El escalamiento temporal debe tener la misma escala lineal que el escalamiento geométrico $\\left(L_m / L\\right)$.</li>\n",
    "                <li>Las velocidades que describen el movimiento del fluido en el modelo tienen la misma escala lineal con las velocidades del prototipo $\\left(V_m / V\\right)$</li>\n",
    "            </ul>\n",
    "            \n",
    "            <p style='font-style:italic'>Nota: Existirá semejanza cinemática si partículas homólogas se encuentran en puntos homólogos a tiempos homólogo</p>\n",
    "        </div>\n",
    "    </div>\n",
    "</div>\n",
    "        "
   ]
  },
  {
   "cell_type": "markdown",
   "id": "53dd7981-6970-4f8c-90e6-bc9e7689d2ee",
   "metadata": {
    "slideshow": {
     "slide_type": "skip"
    },
    "tags": []
   },
   "source": [
    "#### Similitud dinámica"
   ]
  },
  {
   "cell_type": "raw",
   "id": "6f25e078-2396-4d29-bb6f-b966e774b3b7",
   "metadata": {
    "slideshow": {
     "slide_type": "subslide"
    },
    "tags": []
   },
   "source": [
    "<div class='diapo'>\n",
    "    <div class='alternativa'>\n",
    "        <div class='alternativa_header'>\n",
    "            Similitud dinámica\n",
    "        </div>\n",
    "        <div class='alternativa_body'>\n",
    "            <div class='comment_box' style=\"font-weight:bold; text-align:justify;font-size:30px\">\n",
    "                <ul style='text-align:justify'>\n",
    "                    <li>\n",
    "                    Todas las fuerzas en el flujo del modelo se escalan por un\n",
    "factor constante a las fuerzas correspondientes el el flujo del\n",
    "prototipo.\n",
    "                    </li>\n",
    "                </u>\n",
    "            </div>\n",
    "                        \n",
    "            <p>Para cumplir con este tipo de similitud se requiere que:</p>\n",
    "            <ul style=\"text-align:justify\">\n",
    "                <li><b>Exista semejanza geométrica</b>. Se debe cumplir con todos los requerimientos para este tipo de similitud.</li>\n",
    "                <li><b>Exista semejanza cinemática</b>. Se debe cumplir con todos los requerimientos para este tipo de similitud.</li>\n",
    "                <li>El escalamiento de las fuerzas debe tener la misma escala lineal que los escalamientos geométrico y cinemático.</li>\n",
    "                <li>Las fuerzas en el modelo tienen la misma escala lineal con las fuerzas del prototipo.</li>\n",
    "            </ul>\n",
    "\n",
    "        </div>\n",
    "    </div>\n",
    "</div>\n",
    "        "
   ]
  },
  {
   "cell_type": "markdown",
   "id": "44c6c6de-5e58-4c19-ba0c-bfec618a051e",
   "metadata": {
    "slideshow": {
     "slide_type": "skip"
    },
    "tags": []
   },
   "source": [
    "#### Similitud dinámica en flujo de fluidos"
   ]
  },
  {
   "cell_type": "raw",
   "id": "c1a8ee28-e0b1-4be9-b704-28b75eb73dfe",
   "metadata": {
    "slideshow": {
     "slide_type": "subslide"
    },
    "tags": []
   },
   "source": [
    "<div class='diapo'>\n",
    "    <div class='alternativa'>\n",
    "        <div class='alternativa_header'>\n",
    "            Similitud dinámica en flujos de fluido\n",
    "        </div>\n",
    "        <div class='alternativa_body'>\n",
    "        <div class=comment_box style=\"text-align:justify;font-size:30px\">\n",
    "        <b>La similitud dinámica corresponde a más restrictivo de los tres\n",
    "tipos, ya que requiere de los otros dos tipos de similitud</b> (de igual forma, la similitud cinemática es más restrictiva que la geométrica). \n",
    "        </div>\n",
    "<p style=\"text-align:justify\">De manera general, dependiendo del tipo de flujo, lograremos la similitud dinámica cuando (suponiendo que se posee similitud geométrica):</p>\n",
    "\n",
    "        <ul style=\"text-align:justify;font-size:28px\"> \n",
    "            <li><b>Flujo compresible</b>: $\\operatorname{Re}$, $\\operatorname{Ma}$ y $k=c_p / c_v$ son iguales para modelo y prototipo.</li>\n",
    "            <li><b>Flujo incompresible sin superficie libre</b>: $\\operatorname{Re}$ es igual para modelo y prototipo.</li>\n",
    "            <li><b>Flujo incompresible con superficie libre</b>: $\\operatorname{Re}$ y $\\operatorname{Fr}$ deben ser iguales para modelo y prototipo. Dependiendo del caso, también $\\operatorname{We}$.</li>\n",
    "        </ul>\n",
    "        </div>\n",
    "    </div>\n",
    "</div>"
   ]
  },
  {
   "cell_type": "markdown",
   "id": "b1ee75d3-2d53-436b-b357-30674d740457",
   "metadata": {
    "slideshow": {
     "slide_type": "skip"
    },
    "tags": []
   },
   "source": [
    "### Similitud incompleta"
   ]
  },
  {
   "cell_type": "raw",
   "id": "ed6ba6f5-6410-47d3-bc24-865ed7a6be3e",
   "metadata": {
    "slideshow": {
     "slide_type": "subslide"
    },
    "tags": []
   },
   "source": [
    "<div class='diapo'>\n",
    "    <div class='base'>\n",
    "        <div class='base header'>\n",
    "            Similitud incompleta\n",
    "        </div>\n",
    "        <div class='base body'>\n",
    "        \n",
    "        <p style='text-align:justify'>\n",
    "        Consideremos el estudio del flujo de un fluido en un canal abierto. Supongamos que  este flujo puede ser caracterizado tan solo mediante el número de Reynolds ($\\operatorname{Re}$) y el número de Froude ($\\operatorname{Fr}$). Para lograr la similitud dinámica se requiere:</p>\n",
    "\n",
    "$$\\color{red}{\\operatorname{Fr}_m = \\operatorname{Fr}} \\qquad\\land\\qquad \\color{blue}{\\operatorname{Re}_m = \\operatorname{Re}}$$\n",
    "\n",
    "            <table style=\"font-size:24px; width:100%\">\n",
    "                <tr style=\"vertical-align:top\">\n",
    "                    <td style=\"width:50%;text-align:justify;background-color:rgba(110,110,110,0.1);padding-right:30px;border:0px solid black\">\n",
    "                         La similitud del <b>número de Froude</b> requiere:\n",
    "\n",
    "                        $${\\color{red}{\\frac{V_m}{\\sqrt{g_m L_m}} = \\frac{V}{\\sqrt{gL}}}}$$\n",
    "\n",
    "                    </td>\n",
    "                    <td style=\"width:50%;background-color:rgba(50,50,50,0.2);padding-left:30px;border:0px solid black\">\n",
    "                        La similitud del <b>número de Reynolds</b> requiere:\n",
    "\n",
    "                        $${\\color{blue}{\\frac{\\rho_m V_m L_m}{\\mu_m} = \\frac{\\rho V L}{\\mu}}}$$\n",
    "                    </td>\n",
    "                </tr>\n",
    "                <tr style=\"vertical-align:top\">\n",
    "                    <td style=\"width:50%;text-align:justify;background-color:rgba(110,110,110,0.1);padding-right:30px;border:0px solid black\">\n",
    "                         Ya que tanto modelo y prototipo son operados en el mismo campo gravitacional, la escala de velocidad es:\n",
    "\n",
    "                    </td>\n",
    "                    <td style=\"width:50%;background-color:rgba(50,50,50,0.2);padding-left:30px ;border:0px solid black\">\n",
    "                         La escala de velocidad en base a este número es:\n",
    "                    </td>\n",
    "                </tr>\n",
    "                <tr style=\"vertical-align:top\">\n",
    "                    <td style=\"width:50%;text-align:justify;background-color:rgba(110,110,110,0.1);padding-right:30px;border:0px solid black\">\n",
    "                        $$\\color{red}{\\frac{V_m}{V} = \\sqrt{\\frac{L_m}{L}}=\\sqrt{\\lambda_L}}$$\n",
    "                    </td>\n",
    "                    <td style=\"width:50%;background-color:rgba(50,50,50,0.2);padding-left:30px;padding-right:0px\">\n",
    "                        $$\\color{blue}{\\frac{V_m}{V} = \\frac{\\mu_m}{\\mu} \\frac{\\rho}{\\rho_m} \\frac{L}{L_m}}$$\n",
    "                    </td>\n",
    "                </tr>\n",
    "            </table>\n",
    "        </div>\n",
    "    </div>\n",
    "</div>"
   ]
  },
  {
   "cell_type": "raw",
   "id": "a01b1ff7-09f4-44fb-a1d3-6089a50c06b6",
   "metadata": {
    "slideshow": {
     "slide_type": "subslide"
    },
    "tags": []
   },
   "source": [
    "<div class='diapo'>\n",
    "    <div class='alternativa'>\n",
    "        <div class='alternativa_body'>\n",
    "            <table style=\"font-size:25px; text-align:justify;width=100%\">\n",
    "                <tr>\n",
    "                    <td style=\"width:55%;text-align:justify\">\n",
    "                        <p>\n",
    "                            Considerando que la escala de velocidad debe ser determinada a partir de la similitud para los números de <b>Froude</b> y de <b>Reynolds</b>:\n",
    "                        </p>\n",
    "                        $$\\color{blue}{\\frac{\\mu_m}{\\mu} \\frac{\\rho}{\\rho_m} \\frac{L}{L_m}}=\\color{red}{\\sqrt{\\frac{L_m}{L}}}=\\color{red}{\\sqrt{\\lambda_m}}$$\n",
    "                        <p> De esta forma:</p>\n",
    "                        $$\\frac{\\mu_m / \\rho_m}{\\mu / \\rho}=\\frac{\\nu_m}{\\nu}=\\left(\\lambda_m\\right)^{3 / 2}$$\n",
    "                        <p>\n",
    "                            La cual establece que para lograr similitud dinámica, se debe utilizar un fluido cuya viscosidad cinemática $\\nu_m$ cumpla:\n",
    "                        </p>\n",
    "                            \\begin{equation*}\n",
    "                            \\nu_m=\\nu\\left(\\lambda_m\\right)^{3 / 2}\n",
    "                            \\end{equation*}\n",
    "                        <p style=\"font-weight:bold; color:red\">\n",
    "                            Lo cual puede ser muy difícil (o imposible!).\n",
    "                        </p>\n",
    "                    </td>\n",
    "                    <td>\n",
    "                    <div class='comment_box'>\n",
    "                    <p style=\"text-align:center; font-weight:bold\"> Ejemplo </p>\n",
    "                    <p style=\"text-align:justify\">\n",
    "                    Supongamos que deseamos estudiar el flujo de agua en un canal abierto. Para esto, decidimos crear un modelo en una escala de $1/8$. La viscosidad cinemática del fluido a utilizar en el modelo debiese ser </p>\n",
    "                    $$\n",
    "                    \\begin{aligned}\n",
    "                    \\nu_m &= \\nu_{\\text{agua}}\\left(1/8\\right)^{3/2} \\\\\n",
    "                          &= 0.0442\\nu_{\\text{agua}}\n",
    "                    \\end{aligned}\n",
    "                    $$ \n",
    "                      \n",
    "                    <p style=\"text-align:justify\">\n",
    "                    Entones, deberemos emplear un líquido que cumpla con este requerimiento (<b>¡pero antes deberemos encontrarlo!</b>).\n",
    "                    </p>\n",
    "                    </td>\n",
    "                </tr>\n",
    "            </table>\n",
    "   \n",
    "        </div>\n",
    "    </div>\n",
    "</div>\n",
    "        "
   ]
  },
  {
   "cell_type": "markdown",
   "id": "07daaa08-a1a3-44a9-9892-a8b915a57e0d",
   "metadata": {
    "slideshow": {
     "slide_type": "skip"
    },
    "tags": []
   },
   "source": [
    "## Aplicación a bombas centrífugas: Leyes de Semejanza"
   ]
  },
  {
   "cell_type": "raw",
   "id": "d96f9ecd-702a-4d65-a208-f3442998ec61",
   "metadata": {
    "slideshow": {
     "slide_type": "subslide"
    },
    "tags": []
   },
   "source": [
    "<div class='diapo'>\n",
    "    <div class='base'>\n",
    "        <div class='base header' style='font-size:42px'>\n",
    "            Aplicación a bombas centrífugas: Leyes de Semejanza\n",
    "        </div>\n",
    "        <div class='base body'>\n",
    "            <table style='width:100%;\n",
    "                            font-size:25px;\n",
    "                            background-color:rgba(0,0,0,0.05);\n",
    "                            border: 0px'>\n",
    "                <tr style='border:0px'>\n",
    "                    <td style='width:55%;\n",
    "                                padding:15px; \n",
    "                                border:0px'>\n",
    "                        <p style='text-align:justify'>\n",
    "                            A partir del <b>teorema Pi de Buckingham</b> obtuvimos la siguiente relación funcional para las variables que rigen el comportamiento de una bomba centrífuga:\n",
    "                        </p>\n",
    "                    </td>\n",
    "                    <td style='border:0px'>\n",
    "                        \\begin{equation*}\n",
    "                            \\color{blue}{\\frac{gh_A}{D^2\\omega^2}} {= \\color{black}f\\left( {\\color{red}{ \\frac{\\rho (\\omega D) D}{\\mu}}},{\\color{magenta}{\\frac{Q}{D^3 \\omega}}},{\\color{green}{\\frac{\\epsilon}{D}}}\\right)}\n",
    "                        \\end{equation*}\n",
    "                    </td>\n",
    "                </tr>\n",
    "            </table>\n",
    "                    <table style='font-size:25px'>\n",
    "            <tr style='vertical-align:top'>\n",
    "                <td style='background-color:rgba(0,0,255,0.1);\n",
    "                            text-align:justify'>\n",
    "                    El término en <span style='color:blue'>azul</span> se denomina <b>coeficiente de carga hidrostática $C_H$</b>\n",
    "                    $$C_H = \\frac{gh_A}{D^2\\omega^2}$$\n",
    "                </td>\n",
    "                <td style='background-color:rgba(255,0,0,0.1);\n",
    "                            text-align:justify'>\n",
    "                    El término en <span style='color:red'>rojo</span> es el <b>número de Reynolds</b> $\\operatorname{Re}$, con velocidad características $\\omega D$:\n",
    "                    $$\\operatorname{Re} = \\frac{\\rho (\\omega D) D}{\\mu}$$\n",
    "                </td>\n",
    "                <td style='background-color:rgba(255,0,255,0.1);\n",
    "                            text-align:justify'>\n",
    "                    El término en <span style='color:magenta'>magenta</span> se denomina <b>coeficiente de capacidad</b> $C_Q$\n",
    "                    $$C_Q = \\frac{Q}{D^3 \\omega}$$\n",
    "                </td>\n",
    "                <td style='background-color:rgba(0,255,0,0.1);\n",
    "                            text-align:justify'>\n",
    "                    El término en <span style='color:green'>verde</span> se denomina <b>rugosidad relativa</b> $\\epsilon/D$\n",
    "                </td>\n",
    "            </tr>\n",
    "        </table>\n",
    "</div>\n",
    "</div>\n",
    "</div>"
   ]
  },
  {
   "cell_type": "raw",
   "id": "8ebace3f-c54f-4245-8dc0-4e7377cdc0d8",
   "metadata": {
    "slideshow": {
     "slide_type": "subslide"
    },
    "tags": []
   },
   "source": [
    "<div class='diapo'>\n",
    "    <div class='base'>\n",
    "        <div class='base header'>\n",
    "        \n",
    "        </div>\n",
    "        <div class='base body'>\n",
    "            \n",
    "            <p style='text-align:justify;margin-left:15px'>\n",
    "                            Bajo el supuesto de que existe similitud entre:\n",
    "                            <ul style='text-align:justify;'> \n",
    "                                <li> <b>modelo (1)</b>: correspondiente a la bomba cuya curva de rendimiento fue caracterizada.\n",
    "                                </li>\n",
    "                                <li> <b>prototipo (2)</b>: la condición de operación o bomba que deseamos predecir.\n",
    "                                </li>\n",
    "                            </ul>\n",
    "                        podemos establecer:\n",
    "                        </p>\n",
    "                        <center>\n",
    "                            <div class='comment_box' style='width:100%'>\n",
    "\n",
    "                                <table style='font-size:25px;width:100%'>\n",
    "                                    <tr style='vertical-align:top'>\n",
    "                                        <td>\n",
    "                                        Si: \n",
    "                                $$\\begin{aligned}\n",
    "                                \\left(\\frac{\\mu}{\\rho \\omega D^2}\\right)_1 &= \\left(\\frac{\\mu}{\\rho \\omega D^2}\\right)_2 \\\\[6pt]\n",
    "                                \\left(\\frac{Q}{D^3 \\omega}\\right)_1 &= \\left(\\frac{Q}{D^3 \\omega}\\right)_2 \\\\[6pt]\n",
    "                                \\left(\\frac{\\epsilon}{D}\\right)_1 &= \\left(\\frac{\\epsilon}{D}\\right)_2\n",
    "                                \\end{aligned}$$\n",
    "                                    </td>\n",
    "                                    <td>\n",
    "                                Entonces:\n",
    "\n",
    "                                $$\\left(\\frac{gh_A}{D^2\\omega^2}\\right)_1 = \\left(\\frac{gh_A}{D^2\\omega^2}\\right)_2$$\n",
    "                                </td>\n",
    "                                </tr>\n",
    "                                </table>\n",
    "                            </div>\n",
    "                        </center>\n",
    "        </div>\n",
    "    </div>\n",
    "</div>"
   ]
  },
  {
   "cell_type": "raw",
   "id": "5c9ff2fe-5f9e-43e2-83cd-af28b473c767",
   "metadata": {
    "slideshow": {
     "slide_type": "subslide"
    },
    "tags": []
   },
   "source": [
    "<div class='diapo'>\n",
    "    <div class='base'>\n",
    "        <div class='base header'>\n",
    "        \n",
    "        </div>\n",
    "        <div class='base body'>\n",
    "            La expresión anterior requiere igualar al menos tres grupos adimensionales, con tal de predecir un cuarto. A pesar de esto, es común hacer las siguientes simplificaciones:\n",
    "                \n",
    "            <ul style='text-align:justify'>\n",
    "                <li> <b>El efecto del número de Reynolds $\\operatorname{Re}$ sobre el coeficiente de carga hidrostática generalmente se considera como constante</b>.</li>\n",
    "                <li> Es efecto de la <b>rugosidad relativa $\\epsilon/D$</b> se supone más o menos constante</b> </li>\n",
    "            </ul>\n",
    "            De esta forma, al analizar la similitud entre modelo y prototipo nos limitamos a establecer:\n",
    "\n",
    "            $$C_H = f(C_Q)$$\n",
    "\n",
    "            <table style='font-size:25px'>\n",
    "                <tr>\n",
    "                    <td>\n",
    "                        <center>\n",
    "                        <div class='comment_box'>\n",
    "                            Si: \n",
    "\n",
    "                        $$\n",
    "                        \\left(\\frac{Q}{D^3 \\omega}\\right)_1 = \\left(\\frac{Q}{D^3 \\omega}\\right)_2 \n",
    "                        $$\n",
    "\n",
    "                        Entonces:\n",
    "\n",
    "                        $$\\left(\\frac{gh_A}{D^2\\omega^2}\\right)_1 = \\left(\\frac{gh_A}{D^2\\omega^2}\\right)_2$$\n",
    "\n",
    "                        </div>\n",
    "                        </center>\n",
    "                    </td>\n",
    "                    <td>\n",
    "                        <center>\n",
    "                            <div class='equation_box'>\n",
    "                                Al reordenar la primera expresión\n",
    "                                \n",
    "                                \\begin{equation*}\n",
    "\\frac{Q_2}{Q_1}=\\frac{\\omega_2}{\\omega_1}\\left(\\frac{D_2}{D_1}\\right)^3\n",
    "\\end{equation*}\n",
    "\n",
    "y al reordenar la segunda expresión (con $g_1=g_2$):\n",
    "\n",
    "\\begin{equation*}\n",
    "\\frac{h_2}{h_1}=\\left(\\frac{\\omega_2}{\\omega_1}\\right)^2\\left(\\frac{D_2}{D_1}\\right)^2\n",
    "\\end{equation*}\n",
    "                                \n",
    "                                \n",
    "                            </div>\n",
    "                        </center>\n",
    "                    </td>\n",
    "                </tr>\n",
    "            </table>\n",
    "        </div>\n",
    "    </div>\n",
    "</div>"
   ]
  },
  {
   "cell_type": "markdown",
   "id": "6a10efcc-527f-4abf-a450-14d13c892a5e",
   "metadata": {
    "slideshow": {
     "slide_type": "skip"
    },
    "tags": []
   },
   "source": [
    "#### Notas"
   ]
  },
  {
   "cell_type": "raw",
   "id": "449f9339-d764-48da-910b-9b45cccd0609",
   "metadata": {
    "slideshow": {
     "slide_type": "notes"
    },
    "tags": []
   },
   "source": [
    "<ul>\n",
    "    <li>\n",
    "        Las bombas, por lo general, trabajan a números de Reynolds elevados (de $0.8$ a $1.5\\times 10^7$), con flujos completamente turbulentos. Ya que un cambio en la condición de operación implicaría un cambio en este parámetro relativamente pequeño (esto en especial considerando la magitud elevada a la cual se trabaja). Es por esto que <b>El efecto del número de Reynolds sobre el coeficiente de carga hidrostática generalmente se considera como constante</b>.\n",
    "    </li>\n",
    "    <li> La rugosidad relativa $\\epsilon/D$ por lo general es desconocida y varía al comparar bombas, pero debido al alto número de Reynolds al cual se trabaja, se espera que su <b>efecto se mantega más o menos constante</b> </li>\n",
    "</ul>"
   ]
  },
  {
   "cell_type": "raw",
   "id": "3218fce5-8a55-4174-ae34-97379d5478f8",
   "metadata": {
    "slideshow": {
     "slide_type": "subslide"
    },
    "tags": []
   },
   "source": [
    "<div class='diapo'>\n",
    "    <div class='base'>\n",
    "        <div class='base header'>\n",
    "            Leyes de semejanza para turbomáquinas\n",
    "        </div>\n",
    "        <div class='base body'>\n",
    "            <table style='font-size:24px;\n",
    "                            width:100%'>\n",
    "                <tr style='vertical-align:top'>\n",
    "                    <td style='width:33%;\n",
    "                                background-color:rgba(255,0,0,0.1);\n",
    "                                border:2px solid black;'>\n",
    "                        \\begin{equation*}\n",
    "                        \\frac{Q_2}{Q_1}=\\frac{\\omega_2}{\\omega_1}\\left(\\frac{D_2}{D_1}\\right)^3\n",
    "                        \\end{equation*}\n",
    "                    </td>\n",
    "                    <td style='width:33%;\n",
    "                                background-color:rgba(0,0,255,0.1);\n",
    "                                border:2px solid black;'>\n",
    "                        \\begin{equation*}\n",
    "                        \\frac{h_2}{h_1}=\\left(\\frac{\\omega_2}{\\omega_1}\\right)^2\\left(\\frac{D_2}{D_1}\\right)^2\n",
    "                        \\end{equation*}\n",
    "                    </td>\n",
    "                    <td style='width:33%;\n",
    "                                background-color:rgba(0,255,0,0.1);\n",
    "                                border:2px solid black;'>\n",
    "                        \\begin{equation*}\n",
    "                        \\frac{P_2}{P_1}=\\frac{\\rho_2}{\\rho_1}\\left(\\frac{\\omega_2}{\\omega_1}\\right)^3\\left(\\frac{D_2}{D_1}\\right)^5\n",
    "                        \\end{equation*}\n",
    "                    </td>\n",
    "                </tr>\n",
    "            </table>\n",
    "            <p style='text-align:justify'>\n",
    "                Estas expresiones permiten relacionar <b>puntos homólogos</b> entre modelo y prototipo (puntos en los que existe similitud).\n",
    "            </p>\n",
    "            <p style='text-align:justify'>\n",
    "                Las dos expresiones anteriores son denominadas <b>Leyes de semejanza o de afinidad </b> y son válidas para bombas y turbinas. \n",
    "            </p>\n",
    "        \n",
    "        </div>\n",
    "    </div>\n",
    "</div>"
   ]
  },
  {
   "cell_type": "markdown",
   "id": "928923ce-fa67-4135-bcae-d4c914c1fcb2",
   "metadata": {
    "slideshow": {
     "slide_type": "skip"
    },
    "tags": []
   },
   "source": [
    "### Aplicación: Efecto del cambio de la velocidad del impulsor sobre la curva de rendimiento de la bomba"
   ]
  },
  {
   "cell_type": "raw",
   "id": "3625182a-70ae-4f64-a7f0-3ae961eab3db",
   "metadata": {
    "slideshow": {
     "slide_type": "subslide"
    },
    "tags": []
   },
   "source": [
    "<div class='diapo'>\n",
    "    <div class='base'>\n",
    "        <div class='base header'>\n",
    "        Aplicación: Efecto del cambio de la velocidad del impulsor sobre la curva de rendimiento de la bomba\n",
    "        </div>\n",
    "        <div class='base body'>\n",
    "            <table style='font-size:25px;\n",
    "                            width:100%'>\n",
    "                <tr style='vertical-align:top'>\n",
    "                    <td style='width:60%'>\n",
    "                        <p style='text-align:justify'>\n",
    "                            En el siguiente ejemplo se escala la curva de rendimiento de una bomba para distintos valores de $\\omega$, a partir de la curva de rendimiento medida para $\\omega=2900\\,\\text{rmpm}$. El diámetro del impulsor (y la geometría) de la bomba se mantienen constantes. De esta forma, las leyes de afinidad se reducen a:\n",
    "                        </p>        \n",
    "                    </td>\n",
    "                    <td>\n",
    "                        <div class='comment_box'>\n",
    "                            <ul> \n",
    "                                <li>\n",
    "                                    <b> Capacidad</b>\n",
    "                                    $$Q_2 = Q_1\\frac{\\omega_2}{\\omega_1}$$\n",
    "                                </li>\n",
    "                                <li>\n",
    "                                    <b> Capacidad de carga </b>\n",
    "                                    $$h_2 = h_1\\left(\\frac{\\omega_2}{\\omega_1}\\right)^2$$\n",
    "                                </li>\n",
    "                            </ul>\n",
    "                        </div>\n",
    "                    </td>\n",
    "                </tr>\n",
    "            </table>\n",
    "        </div>\n",
    "    </div>\n",
    "</div>"
   ]
  },
  {
   "cell_type": "code",
   "execution_count": 2,
   "id": "15ba6d39-6a24-472d-b77d-4cc1f74126e0",
   "metadata": {
    "slideshow": {
     "slide_type": "skip"
    },
    "tags": []
   },
   "outputs": [],
   "source": [
    "%matplotlib widget\n",
    "import pandas as pd\n",
    "import ipywidgets as widgets\n",
    "import matplotlib.pyplot as plt\n",
    "import numpy as np\n",
    "\n",
    "layout_box_base = widgets.Layout(width='100%',justify_content='center',align_items='center')"
   ]
  },
  {
   "cell_type": "code",
   "execution_count": 3,
   "id": "9516fb22-ff9d-457e-b2e5-77ae79073e7a",
   "metadata": {
    "slideshow": {
     "slide_type": "skip"
    },
    "tags": []
   },
   "outputs": [],
   "source": [
    "def extract_data_pump(file_n):\n",
    "    data_pump=pd.read_csv(file_n,sep=',')\n",
    "    \n",
    "    data_plot = {}\n",
    "\n",
    "    for i in range(int(len(data_pump.columns)/2)): \n",
    "        qpump = np.asarray(data_pump[data_pump.columns[2*i]][1:],np.float32) \n",
    "        qpump = qpump[~np.isnan(qpump)]\n",
    "        hpump = np.asarray(data_pump[data_pump.columns[2*i+1]][1:],np.float32)\n",
    "        hpump = hpump[~np.isnan(hpump)]\n",
    "        data_plot[data_pump.columns[2*i]]= [qpump,hpump]\n",
    "                                  \n",
    "    data_fit = {}\n",
    "    for i in data_plot:\n",
    "        zfit = np.polyfit(data_plot[i][0],data_plot[i][1],2)\n",
    "        pfit = np.poly1d(zfit)\n",
    "        data_fit[i] = pfit\n",
    "        \n",
    "    return data_pump, data_plot, data_fit\n",
    "\n",
    "data_pump,data_plot, data_fit = extract_data_pump('./40_200_2900.csv')\n",
    "data_pump1450, data_plot1450, data_fit1450 = extract_data_pump('40_200_1450.csv')"
   ]
  },
  {
   "cell_type": "code",
   "execution_count": 4,
   "id": "da6bd4f5-edd7-4db8-99dd-f0b6de3f6353",
   "metadata": {
    "slideshow": {
     "slide_type": "skip"
    },
    "tags": []
   },
   "outputs": [],
   "source": [
    "def plot_bomba(ar,dp):\n",
    "    \n",
    "    out_p = widgets.Output()\n",
    "    with plt.ioff():\n",
    "        fig = plt.figure(figsize=ar,dpi=dp)\n",
    "        ax= fig.add_subplot(111)\n",
    "        fig.canvas.header_visible = False\n",
    "        fig.canvas.footer_visible = False\n",
    "        fig.canvas.toolbar_visible = False\n",
    "        # fig.canvas.layout.width = '100%'\n",
    "        # fig.canvas.layout.height = '900px'\n",
    "\n",
    "    with out_p:\n",
    "        display(fig.canvas)\n",
    "\n",
    "    qplot = np.linspace(0,max(data_plot['219'][0]),1000)\n",
    "    l1, = ax.plot(qplot,data_fit['219'](qplot),linewidth=2,color='k')\n",
    "    t1 = ax.text(1,66,'219')\n",
    "\n",
    "    qplot = np.linspace(0,max(data_plot['206'][0]),1000)\n",
    "    l2, = ax.plot(qplot,data_fit['206'](qplot),linewidth=2,color='k')\n",
    "    t2 = ax.text(1,57,'206')\n",
    "\n",
    "    qplot = np.linspace(0,max(data_plot['188'][0]),1000)\n",
    "    l3, = ax.plot(qplot,data_fit['188'](qplot),linewidth=2,color='k')\n",
    "    t3 = ax.text(1,46,'188')\n",
    "\n",
    "    qplot = np.linspace(0,max(data_plot['172'][0]),1000)\n",
    "    l4, = ax.plot(qplot,data_fit['172'](qplot),linewidth=2,color='k')\n",
    "    t4 = ax.text(1,38,'172')\n",
    "\n",
    "\n",
    "    ax2=ax.twinx()\n",
    "    ax2.set_ylim(0,18)\n",
    "    ax2.set_yticks(np.arange(0,8,2))\n",
    "\n",
    "    qplot=np.linspace(min(data_plot['NPSH'][0]),max(data_plot['NPSH'][0]),1000)\n",
    "    l5, = ax2.plot(qplot,data_fit['NPSH'](qplot),linewidth=2,color='k')\n",
    "\n",
    "    ax2.set_ylabel('NPSH',fontsize=14)\n",
    "    ax.set_ylabel('H (m)',fontsize=14)\n",
    "    ax.set_xlabel('Q (m$^3$/h)',fontsize=14)\n",
    "\n",
    "    ax.set_xticks(np.arange(-200,200,10))\n",
    "    ax.set_xticks(np.arange(-200,200,5),minor='True')\n",
    "\n",
    "    ax.set_yticks(np.arange(-200,200,10))\n",
    "    ax.set_yticks(np.arange(-200,200,5),minor='True')\n",
    "\n",
    "\n",
    "    ax2.yaxis.set_label_coords(1.08,0.20)\n",
    "    ax.grid(alpha=0.8,which='major')\n",
    "    ax.grid(alpha=0.8,which='minor')\n",
    "    ax.set_xlim(0,70)\n",
    "    ax.set_ylim(0,90)\n",
    "\n",
    "\n",
    "\n",
    "    # ### NPSH_r\n",
    "    # ax2.plot([80,80],[0,NPSH_r],'C0--')\n",
    "    # ax2.plot([80,180],[NPSH_r,NPSH_r],'C0--')\n",
    "\n",
    "    plt.tight_layout()\n",
    "    ax.set_title('N 40-200')\n",
    "    plt.tight_layout()\n",
    "\n",
    "    return out_p,fig, ax, ax2, [l1,l2,l3,l4,l5], [t1,t2,t3,t4]\n",
    "\n",
    "# out1,fig1,ax1, ax12, lines1, text1 = plot_bomba((5,3),150)\n",
    "\n",
    "# box1 = widgets.Box(children=[out1],layout=layout_box_base)\n",
    "# display(box1)"
   ]
  },
  {
   "cell_type": "raw",
   "id": "5ee83b41-3e47-4b5d-86a5-759b7d6833c8",
   "metadata": {
    "slideshow": {
     "slide_type": "subslide"
    },
    "tags": []
   },
   "source": [
    "<div class='diapo'>\n",
    "    <div class='base body'>"
   ]
  },
  {
   "cell_type": "code",
   "execution_count": 5,
   "id": "86e8f956-5b57-4f4d-94d5-66aff3b6e732",
   "metadata": {
    "tags": []
   },
   "outputs": [
    {
     "data": {
      "application/vnd.jupyter.widget-view+json": {
       "model_id": "1a1882593b904792bbbd973c0e326fe0",
       "version_major": 2,
       "version_minor": 0
      },
      "text/plain": [
       "HBox(children=(Output(), VBox(children=(Label(value='$\\\\omega$ (rpm):', layout=Layout(width='100px')), FloatSl…"
      ]
     },
     "metadata": {},
     "output_type": "display_data"
    }
   ],
   "source": [
    "out_cvf, fig_cvf,ax_cvf, ax_cvf2, lines_cvf, text_cvf = plot_bomba((5,4),130)\n",
    "\n",
    "fig_cvf.canvas.header_visible = False\n",
    "fig_cvf.canvas.footer_visible = False\n",
    "fig_cvf.canvas.toolbar_visible = False\n",
    "\n",
    "\n",
    "for i in lines_cvf[1:]:\n",
    "    i.set_alpha(0)\n",
    "for i in text_cvf[1:]:\n",
    "    i.set_text('')\n",
    "text_cvf[0].set_text('2900 RPM')\n",
    "# text_cvf[0].set_color('red')\n",
    "ax_cvf2.set_yticks([])\n",
    "ax_cvf2.set_ylabel('')\n",
    "\n",
    "# h_A_sist = ha(Q_sist,10)[0]\n",
    "# q_op = EO_Q(10,'219')\n",
    "# ha_op = ha(q_op,10)[0]\n",
    "\n",
    "qplot = np.linspace(0,max(data_plot['219'][0]),1000)\n",
    "hplot = data_fit['219'](qplot)\n",
    "ax_cvf.plot(qplot,hplot,color='black',zorder=0,dashes=(2,2))\n",
    "\n",
    "\n",
    "qplot = np.linspace(0,max(data_plot1450['219'][0]),1000)\n",
    "hplot = data_fit1450['219'](qplot)\n",
    "ax_cvf.plot(qplot,hplot,color='black',zorder=0,dashes=(2,2))\n",
    "ax_cvf.text(1,17,'1450 RPM')\n",
    "\n",
    "# ax_cvf.plot(Q_sist,h_A_sist,'C1-',label='Curva de operación')\n",
    "\n",
    "# p_opvf, = ax_cvf.plot(q_op,ha_op,'*',markersize=10,color='C0')\n",
    "# ax_cvf.plot([40,40],[0,90],'-',color='green',dashes=(2,2))\n",
    "\n",
    "\n",
    "\n",
    "def updatecvf(N):\n",
    "    qplot = np.linspace(0,max(data_plot['219'][0]),1000)\n",
    "    hplot = data_fit['219'](qplot)\n",
    "    \n",
    "    qplot=qplot*N/2900\n",
    "    hplot=hplot*(N/2900)**2\n",
    "    \n",
    "    lines_cvf[0].set_data(qplot,hplot)\n",
    "    # try:\n",
    "    #     q_opn =  EO_QN(N,10,'219',qplot,hplot)\n",
    "    #     h_opn =  ha(q_opn,10)[0]\n",
    "    # except:\n",
    "    #     q_opn=10**3\n",
    "    #     h_opn=10**3\n",
    "    # p_opvf.set_data(q_opn,h_opn)\n",
    "    \n",
    "    \n",
    "\n",
    "sli_N = widgets.FloatSlider(\n",
    "    value=2900,\n",
    "    min=900,\n",
    "    max=3600.0,\n",
    "    step=1,\n",
    "    description=' ',\n",
    "    disabled=False,\n",
    "    continuous_update=True,\n",
    "    orientation='horizontal',\n",
    "    readout=True,\n",
    "    readout_format='.0f',\n",
    "    layout=widgets.Layout(width='200px'),\n",
    "    style = {'description_width': '0px'}\n",
    ")\n",
    "\n",
    "updatecvf(2900)\n",
    "widgets.interactive(updatecvf,N=sli_N)\n",
    "\n",
    "boxcf_r =  widgets.VBox(children=[widgets.Label(r'$\\omega$ (rpm):',layout=widgets.Layout(width='100px')),sli_N],layout=widgets.Layout(width='250px',justify_content='flex-start'))\n",
    "boxcvf = widgets.HBox(children = [out_cvf,boxcf_r],\n",
    "                      layout=widgets.Layout(width='95%',justify_content='center',align_items='center'))\n",
    "display(boxcvf)"
   ]
  },
  {
   "cell_type": "raw",
   "id": "28a135dd-e004-40f0-810e-0f0782ee5363",
   "metadata": {},
   "source": [
    "</div>\n",
    "</div>"
   ]
  }
 ],
 "metadata": {
  "kernelspec": {
   "display_name": "Python 3 (ipykernel)",
   "language": "python",
   "name": "python3"
  },
  "language_info": {
   "codemirror_mode": {
    "name": "ipython",
    "version": 3
   },
   "file_extension": ".py",
   "mimetype": "text/x-python",
   "name": "python",
   "nbconvert_exporter": "python",
   "pygments_lexer": "ipython3",
   "version": "3.9.13"
  },
  "widgets": {
   "application/vnd.jupyter.widget-state+json": {
    "state": {
     "0454f91959b748f28f6da34b6e044189": {
      "model_module": "@jupyter-widgets/output",
      "model_module_version": "1.0.0",
      "model_name": "OutputModel",
      "state": {
       "layout": "IPY_MODEL_d5f92eb382584636a42ad905a93bb6a6"
      }
     },
     "0ec2d6097e86464fbc633e9d6a8d2912": {
      "model_module": "jupyter-matplotlib",
      "model_module_version": "^0.11",
      "model_name": "ToolbarModel",
      "state": {
       "_model_module_version": "^0.11",
       "_view_module_version": "^0.11",
       "collapsed": true,
       "layout": "IPY_MODEL_b9c797b9d8c348c885282dc79c10e39c",
       "orientation": "vertical",
       "toolitems": [
        [
         "Home",
         "Reset original view",
         "home",
         "home"
        ],
        [
         "Back",
         "Back to previous view",
         "arrow-left",
         "back"
        ],
        [
         "Forward",
         "Forward to next view",
         "arrow-right",
         "forward"
        ],
        [
         "Pan",
         "Left button pans, Right button zooms\nx/y fixes axis, CTRL fixes aspect",
         "arrows",
         "pan"
        ],
        [
         "Zoom",
         "Zoom to rectangle\nx/y fixes axis",
         "square-o",
         "zoom"
        ],
        [
         "Download",
         "Download plot",
         "floppy-o",
         "save_figure"
        ]
       ]
      }
     },
     "18daf7058f2042308561437da7010736": {
      "model_module": "@jupyter-widgets/base",
      "model_module_version": "1.2.0",
      "model_name": "LayoutModel",
      "state": {
       "width": "100px"
      }
     },
     "1a1882593b904792bbbd973c0e326fe0": {
      "model_module": "@jupyter-widgets/controls",
      "model_module_version": "1.5.0",
      "model_name": "HBoxModel",
      "state": {
       "children": [
        "IPY_MODEL_a7bf1712c8294b3aa6d763f1f42a8c19",
        "IPY_MODEL_47ca44151b564d92b7b4715938ccc742"
       ],
       "layout": "IPY_MODEL_dd9dea5f128b4862aead5e513b1845b3"
      }
     },
     "2ad1c6c2ea1949c99da3e6b84f9f904c": {
      "model_module": "@jupyter-widgets/controls",
      "model_module_version": "1.5.0",
      "model_name": "FloatSliderModel",
      "state": {
       "description": " ",
       "layout": "IPY_MODEL_f288d0cf13b441ea9df4e11dbd94bd09",
       "max": 3600,
       "min": 900,
       "readout_format": ".0f",
       "style": "IPY_MODEL_661b545b780d4b7097140dbe59d977ea",
       "value": 2900
      }
     },
     "385a7afc0dff4bc5bf6261919b1ed66e": {
      "model_module": "@jupyter-widgets/base",
      "model_module_version": "1.2.0",
      "model_name": "LayoutModel",
      "state": {
       "align_items": "center",
       "justify_content": "center",
       "width": "100%"
      }
     },
     "47ca44151b564d92b7b4715938ccc742": {
      "model_module": "@jupyter-widgets/controls",
      "model_module_version": "1.5.0",
      "model_name": "VBoxModel",
      "state": {
       "children": [
        "IPY_MODEL_a0742ee20b11414bb3b0fd5dcf8c4270",
        "IPY_MODEL_2ad1c6c2ea1949c99da3e6b84f9f904c"
       ],
       "layout": "IPY_MODEL_69192eabc83a45988238b32529c93354"
      }
     },
     "497bfcff89b448548b950e4ab78b8cc7": {
      "model_module": "@jupyter-widgets/base",
      "model_module_version": "1.2.0",
      "model_name": "LayoutModel",
      "state": {}
     },
     "5c2a3d0137e243878a117345edc91116": {
      "model_module": "@jupyter-widgets/base",
      "model_module_version": "1.2.0",
      "model_name": "LayoutModel",
      "state": {}
     },
     "661b545b780d4b7097140dbe59d977ea": {
      "model_module": "@jupyter-widgets/controls",
      "model_module_version": "1.5.0",
      "model_name": "SliderStyleModel",
      "state": {
       "description_width": "0px"
      }
     },
     "69192eabc83a45988238b32529c93354": {
      "model_module": "@jupyter-widgets/base",
      "model_module_version": "1.2.0",
      "model_name": "LayoutModel",
      "state": {
       "justify_content": "flex-start",
       "width": "250px"
      }
     },
     "6a5ab744ec1b4adf971ef32e8b5196fe": {
      "model_module": "jupyter-matplotlib",
      "model_module_version": "^0.11",
      "model_name": "MPLCanvasModel",
      "state": {
       "_data_url": "data:image/png;base64,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",
       "_figure_label": "Figure 1",
       "_model_module_version": "^0.11",
       "_size": [
        650,
        520
       ],
       "_view_module_version": "^0.11",
       "footer_visible": false,
       "header_visible": false,
       "layout": "IPY_MODEL_497bfcff89b448548b950e4ab78b8cc7",
       "toolbar": "IPY_MODEL_0ec2d6097e86464fbc633e9d6a8d2912",
       "toolbar_position": "left",
       "toolbar_visible": false
      }
     },
     "a0742ee20b11414bb3b0fd5dcf8c4270": {
      "model_module": "@jupyter-widgets/controls",
      "model_module_version": "1.5.0",
      "model_name": "LabelModel",
      "state": {
       "layout": "IPY_MODEL_18daf7058f2042308561437da7010736",
       "style": "IPY_MODEL_ed98ff28ae7d4b08b74a7404fca5e090",
       "value": "$\\omega$ (rpm):"
      }
     },
     "a7bf1712c8294b3aa6d763f1f42a8c19": {
      "model_module": "@jupyter-widgets/output",
      "model_module_version": "1.0.0",
      "model_name": "OutputModel",
      "state": {
       "layout": "IPY_MODEL_cddc1e3237184f90b8270d5eba54e8f8",
       "outputs": [
        {
         "data": {
          "application/vnd.jupyter.widget-view+json": {
           "model_id": "6a5ab744ec1b4adf971ef32e8b5196fe",
           "version_major": 2,
           "version_minor": 0
          },
          "image/png": "iVBORw0KGgoAAAANSUhEUgAAAooAAAIICAYAAADpDM9fAAAAOXRFWHRTb2Z0d2FyZQBNYXRwbG90bGliIHZlcnNpb24zLjUuMiwgaHR0cHM6Ly9tYXRwbG90bGliLm9yZy8qNh9FAAAACXBIWXMAABP+AAAT/gEHlDmEAAAmoklEQVR4nO3de5BW9XnA8WeRgX1XLgobicLiBQlEhYlcFllH3LYgW7VBTYWiMVYx0liFbeOMRSMCIjTp0EUgRqpUqTbMoE6kF0UwAbeZVQEzbUh1HSMFuU1HMUVu4ebpH8zuuO6P6+4CL3w+M8y053fO8Tmc2Xm/ec+7LwVZlmUBAABf0upEDwAAwMlJKAIAkCQUAQBIEooAACQJRQAAkoQiAABJQhEAgCShCABAklAEACBJKAIAkCQUAQBIEooAACQJRQAAkoQiAABJQhEAgCShCABAklAEACBJKAIAkCQUAQBIEooAACQJRQAAkoQiAABJQhEAgCShCABAklAEACBJKAIAkCQUAQBIEooAACQJRQAAkoQiAABJQhEAgCShCABAklAEACBJKAIAkCQUAQBIEooAACQJRQAAkoQiAABJQhEAgCShCABAklAEACBJKAIAkCQUAQBIEooAACQJRQAAkoQiAABJQhEAgCShCABAklAEACBJKAIAkCQUAQBIEooAACQJRQAAkoQiAABJQhEAgKS8CcXp06fHzTffHBdddFEUFBTEBRdccEzneeedd6KioiI6duwY7du3j/Ly8qiurm7eYQEATgEFWZZlJ3qII1FQUBCdOnWKfv36xTvvvBMdOnSItWvXHtU5Vq5cGVdffXWcc845ce+990bbtm3jH/7hH6K2tjZeffXVGDp0aMsMDwCQh/ImFNesWRMXXXRRRERcdtllsX379qMOxcGDB8fq1avj3Xffje7du0dExNatW+PSSy+NoqKieP/996OgoKC5RwcAyEt58+i5LhKP1Zo1a+Ktt96Km2++uT4SIyI6duwYd911V3zwwQfx9ttvN3VMAIBTRt6EYlOtWLEiIiLKysoardVtq9sHAICI1id6gONl48aNERHRrVu3Rmt12zZs2HDIc6xfv77RPh9//HG8++67MWDAgDjzzDObaVoA4ETasWNHrFmzJq6//vo477zzTvQ4J8xpE4o7d+6MiIi2bds2WissLGywz8HMmzcvJk+e3PzDAQAnpblz58bdd999osc4YU6bUCwqKoqIiN27dzda27VrV4N9DmbMmDExfPjwBttWrlwZ48ePj7lz50afPn2aaVoA4ERavXp1jB07tsm/I5HvTptQ7Nq1a0SkHy8f6rH0F5WUlERJSUlyrU+fPjF48OAmTgkAnExO94+VnTa/zDJw4MCIiKipqWm0Vretbh8AAE7RUNy8eXPU1tY2+Mxhjx49orS0NF544YVYv359/fbPPvss5s2bFz169IgrrrjiRIwLAHBSyptHz88991ysW7cuIg78pvGePXti6tSpERFx1llnxb333lu/74QJE2L+/PmxbNmyKC8vr98+a9asKC8vj6uuuirGjRsXbdq0iblz58bmzZvjlVde8WXbAABfkDehOG/evHjjjTcabHv44YcjIuL8889vEIoHM2jQoKiuro6HHnooJk2aFPv3748BAwbE66+/3iAoAQDIo1Bcvnz5Ee/77LPPxrPPPptcGzhwYCxZsqR5hgIAOIWdkp9RBACg6YQiAABJQhEAgCShCABAklAEACBJKAIAkCQUAQBIEooAACQJRQAAkoQiAABJQhEAgCShCABAklAEACBJKAIAkCQUAQBIEooAACQJRQAAkoQiAABJQhEAgCShCABAklAEACBJKAIAkCQUAQBIEooAACQJRQAAkoQiAABJQhEAgCShCABAklAEACBJKAIAkCQUAQBIEooAACQJRQAAkoQiAABJQhEAgCShCABAklAEACBJKAIAkCQUAQBIEooAACQJRQAAkoQiAABJQhEAgCShCABAklAEACBJKAIAkCQUAQBIEooAACQJRQAAkoQiAABJQhEAgCShCABAklAEACBJKAIAkCQUAQBIEooAACQJRQAAkoQiAABJQhEAgCShCABAklAEACBJKAIAkCQUAQBIEooAACQJRQAAkoQiAABJeRWKCxYsiP79+0cul4vi4uIYPXp0rFu37oiOzbIsnnvuuRg8eHB07tw5OnToEH369Ilp06bF9u3bW3hyAID8kzehOGfOnLjlllsil8tFVVVVVFZWxtKlS6OsrCw2bdp02OMffPDB+M53vhNFRUUxefLk+OEPfxg9e/aMhx56KK677rrjcAUAAPml9Yke4Ehs2bIlJkyYEP369Yvly5dH69YHxq6oqIjS0tKYOHFiPP300wc9ft++fTFr1qzo169fLF26NFq1OtDH3/ve9+KGG26IRYsWRW1tbfTu3fu4XA8AQD7Ii3cUFy1aFNu3b49x48bVR2JExIABA2LIkCGxcOHC2LNnz0GP37t3b+zatSu++tWv1kdinfPOOy8iIoqKilpmeACAPJUXobhixYqIiCgrK2u0VlZWFtu2bYva2tqDHp/L5aKsrCwWL14cP/rRj+K3v/1trF27Np566ql45pln4q677oru3bu32PwAAPkoLx49b9y4MSIiunXr1mitbtuGDRuib9++Bz3HT3/607j99tvjgQceiAceeCAiIlq1ahWTJk2Khx9++IjmWL9+fWzYsKHBttWrVx/RsQAA+SYvQnHnzp0REdG2bdtGa4WFhQ32OZiioqLo1atXdO/ePSoqKqJVq1bx8ssvx8SJE2P//v0xadKkw84xb968mDx58tFfAABAHsqLUKz7/ODu3bsjl8s1WNu1a1eDfVJ27twZZWVl0b9//1iwYEH99lGjRkUul4spU6bEDTfcEN/4xjcOOceYMWNi+PDhDbatXr06xo4dezSXAwCQF/IiFLt27RoRBx4v9+zZs8HaoR5L13nxxRfjgw8+iL/9279ttDZq1Kh45pln4o033jhsKJaUlERJSclRTg8AkJ/y4pdZBg4cGBERNTU1jdZqamqiXbt2h/xqm7qY3Lt3b6O1um379u1rjlEBAE4ZeRGKI0aMiKKiopg1a1aDoFu1alVUV1fHyJEjo02bNhERsXnz5qitrW3wmcVLLrkkIiLmz5/f6Nz/+I//GBERpaWlLXkJAAB5Jy8ePRcXF8e0adOisrIyysvL47bbbotPPvkkqqqqokuXLjFlypT6fSdMmBDz58+PZcuWRXl5eUREXH/99VFaWhqvvvpqDBkyJG666aYoKCiIl19+OZYvXx7XX399XHXVVSfo6gAATk55EYoREePHj4/i4uKYMWNGVFZWRlFRUQwbNiymT59e/xnGgznjjDNi2bJlMWfOnFiwYEFMmjQpfv/738fFF18cjz32WNx///3H6SoAAPJHQZZl2YkeIp+9+eabUVZWFjU1NTF48OATPQ4A0Ay8vh+QF59RBADg+BOKAAAkCUUAAJKEIgAASUIRAIAkoQgAQJJQBAAgSSgCAJAkFAEASBKKAAAkCUUAAJKEIgAASUIRAIAkoQgAQJJQBAAgSSgCAJAkFAEASBKKAAAkCUUAAJKEIgAASUIRAIAkoQgAQJJQBAAgSSgCAJAkFAEASBKKAAAkCUUAAJKEIgAASUIRAIAkoQgAQJJQBAAgSSgCAJAkFAEASBKKAAAkCUUAAJKEIgAASUIRAIAkoQgAQJJQBAAgSSgCAJAkFAEASBKKAAAkCUUAAJKEIgAASUIRAIAkoQgAQJJQBAAgSSgCAJAkFAEASBKKAAAkCUUAAJKEIgAASUIRAIAkoQgAQJJQBAAgSSgCAJAkFAEASBKKAAAkCUUAAJKEIgAASUIRAIAkoQgAQJJQBAAgSSgCAJAkFAEASBKKAAAkCUUAAJLyKhQXLFgQ/fv3j1wuF8XFxTF69OhYt27dER+/f//+ePLJJ2PQoEHRvn37aNeuXfTp0yceffTRFpwaACA/tT7RAxypOXPmxH333RdXXnllVFVVxSeffBIzZ86M6urqWLlyZZx33nmHPH7v3r1x0003xeLFi+PP/uzP4o477ohWrVrF2rVr46OPPjpOVwEAkD/yIhS3bNkSEyZMiH79+sXy5cujdesDY1dUVERpaWlMnDgxnn766UOeY+rUqfHKK6/EK6+8EsOHDz8eYwMA5LW8ePS8aNGi2L59e4wbN64+EiMiBgwYEEOGDImFCxfGnj17Dnr8jh07YubMmfEnf/InMXz48MiyLLZt23Y8RgcAyFt5EYorVqyIiIiysrJGa2VlZbFt27aora096PG//OUv47PPPovS0tK4//7746yzzooOHTpEp06d4r777oudO3e22OwAAPkqLx49b9y4MSIiunXr1mitbtuGDRuib9++yePrInLmzJlxxhlnxNSpU+O8886Ll19+OebMmRPvvfdeLF26NAoKCg45x/r162PDhg0Ntq1evfqorwcAIB/kRSjWvePXtm3bRmuFhYUN9kmpe8z86aefxq9//eu45JJLIiLiW9/6VkREPP/887FkyZLDfnZx3rx5MXny5KO/AACAPJQXj56LiooiImL37t2N1nbt2tVgn5RcLhcREYMGDaqPxDp33nlnREQsW7bssHOMGTMmampqGvyZO3fukV0EAECeyYt3FLt27RoRBx4v9+zZs8HaoR5L16lbO/fccxut1W379NNPDztHSUlJlJSUHNnQAAB5Li/eURw4cGBERNTU1DRaq6mpiXbt2kXv3r0PevygQYMi4sBnDL+s7jsUu3Tp0hyjAgCcMvIiFEeMGBFFRUUxa9as2LdvX/32VatWRXV1dYwcOTLatGkTERGbN2+O2traBp9ZvOCCC2LIkCGxcuXKeOutt+q3Z1kWP/7xjyMi4tprrz1OVwMAkB/yIhSLi4tj2rRp8atf/SrKy8tj7ty58dhjj0VFRUV06dIlpkyZUr/vhAkT4utf/3r9V+rUmT17drRr1y6GDx8eP/jBD+LHP/5xVFRUxL/8y7/EnXfeGYMHDz7elwUAcFLLi88oRkSMHz8+iouLY8aMGVFZWRlFRUUxbNiwmD59ev1nGA+lb9++8eabb8bDDz8cTzzxROzYsSMuvvjiqKqqinHjxh2HKwAAyC8FWZZlJ3qIfPbmm29GWVlZ1NTUeFcSAE4RXt8PyItHzwAAHH9CEQCAJKEIAECSUAQAIEkoAgCQJBQBAEgSigAAJAlFAACShCIAAElCEQCAJKEIAECSUAQAIEkoAgCQJBQBAEgSigAAJAlFAACShCIAAElCEQCAJKEIAECSUAQAIEkoAgCQJBQBAEgSigAAJAlFAACShCIAAElCEQCAJKEIAECSUAQAIEkoAgCQJBQBAEgSigAAJAlFAACShCIAAElCEQCAJKEIAECSUAQAIEkoAgCQJBQBAEgSigAAJAlFAACShCIAAElCEQCAJKEIAECSUAQAIEkoAgCQJBQBAEgSigAAJAlFAACShCIAAElCEQCAJKEIAECSUAQAIEkoAgCQJBQBAEgSigAAJAlFAACShCIAAElCEQCAJKEIAECSUAQAIEkoAgCQJBQBAEgSigAAJAlFAACShCIAAElCEQCApLwKxQULFkT//v0jl8tFcXFxjB49OtatW3dM5xo5cmQUFBRE7969m3lKAIBTQ96E4pw5c+KWW26JXC4XVVVVUVlZGUuXLo2ysrLYtGnTUZ3r3//93+Oll16KXC7XQtMCAOS/1id6gCOxZcuWmDBhQvTr1y+WL18erVsfGLuioiJKS0tj4sSJ8fTTTx/RubZv3x733HNP3HPPPfGv//qvLTk2AEBey4t3FBctWhTbt2+PcePG1UdiRMSAAQNiyJAhsXDhwtizZ88RnesHP/hB7N27Nx577LGWGhcA4JSQF6G4YsWKiIgoKytrtFZWVhbbtm2L2traw55n5cqVMXv27KiqqooOHTo0+5wAAKeSvHj0vHHjxoiI6NatW6O1um0bNmyIvn37HvQc+/bti+9+97sxdOjQGDVq1DHNsX79+tiwYUODbatXrz6mcwEAnOzyIhR37twZERFt27ZttFZYWNhgn4OZMWNGvP/++/HSSy8d8xzz5s2LyZMnH/PxAAD5JC9CsaioKCIidu/e3eg3lXft2tVgn5QPP/wwJk+eHA8++GD06NHjmOcYM2ZMDB8+vMG21atXx9ixY4/5nAAAJ6u8CMWuXbtGxIHHyz179mywdqjH0nW+//3vx9lnnx2jRo2KtWvX1m/ft29f7N27N9auXRu5XC66dOlyyDlKSkqipKTkGK8CACC/5MUvswwcODAiImpqahqt1dTURLt27Q75xdlr166NTZs2Ra9eveLCCy+s/7Nx48ZYs2ZNXHjhhXH77be32PwAAPkoL95RHDFiRIwbNy5mzZoVt956a/1X5KxatSqqq6vjjjvuiDZt2kRExObNm2Pr1q3RvXv3+sfRVVVVsXXr1kbnvfvuu6NNmzYxZ86cw76bCABwusmLUCwuLo5p06ZFZWVllJeXx2233RaffPJJVFVVRZcuXWLKlCn1+06YMCHmz58fy5Yti/Ly8oiI+IM/+IPkeSsrK6OwsDBuuOGG43AVAAD5JS9CMSJi/PjxUVxcHDNmzIjKysooKiqKYcOGxfTp0+s/wwgAQPPJm1CMiLj11lvj1ltvPeQ+zz77bDz77LNHdL4v/mILAAAN5cUvswAAcPwJRQAAkoQiAABJQhEAgCShCABAklAEACBJKAIAkCQUAQBIEooAACQJRQAAkoQiAABJQhEAgCShCABAklAEACBJKAIAkCQUAQBIEooAACQJRQAAkoQiAABJQhEAgCShCABAklAEACBJKAIAkCQUAQBIEooAACQJRQAAkoQiAABJQhEAgCShCABAklAEACBJKAIAkCQUAQBIEooAACQJRQAAkoQiAABJQhEAgCShCABAklAEACBJKAIAkCQUAQBIEooAACQJRQAAkoQiAABJQhEAgCShCABAklAEACBJKAIAkCQUAQBIEooAACQJRQAAkoQiAABJQhEAgCShCABAklAEACBJKAIAkCQUAQBIEooAACQJRQAAkoQiAABJQhEAgCShCABAklAEACBJKAIAkCQUAQBIEooAACQJRQAAkvIqFBcsWBD9+/ePXC4XxcXFMXr06Fi3bt1hj/vd734Xjz/+eFxzzTVRUlISuVwuevXqFXfffXesX7/+OEwOAJB/8iYU58yZE7fcckvkcrmoqqqKysrKWLp0aZSVlcWmTZsOeezbb78df/3Xfx1ZlsVf/uVfxuzZs+Paa6+N559/Pvr06RPvvvvucboKAID80fpED3AktmzZEhMmTIh+/frF8uXLo3XrA2NXVFREaWlpTJw4MZ5++umDHt+7d+94//334+KLL26w/brrrothw4bFI488Ei+88EKLXgMAQL7Ji3cUFy1aFNu3b49x48bVR2JExIABA2LIkCGxcOHC2LNnz0GPv+CCCxpFYkTE0KFDo1OnTrF69eoWmRsAIJ/lRSiuWLEiIiLKysoarZWVlcW2bduitrb2qM+7devW2LZtW5xzzjlNnhEA4FSTF4+eN27cGBER3bp1a7RWt23Dhg3Rt2/fozrv1KlTY+/evXH77bcf0f7r16+PDRs2NNjm3UgA4FSVF6G4c+fOiIho27Zto7XCwsIG+xyphQsXxowZM2LYsGFxxx13HNEx8+bNi8mTJx/VfwcAIF/lRSgWFRVFRMTu3bsjl8s1WNu1a1eDfY7EK6+8Erfddltcfvnl8cILL0SrVkf2BH7MmDExfPjwBttWr14dY8eOPeL/NgBAvsiLUOzatWtEHHi83LNnzwZrh3osnbJ48eK46aabonfv3rFkyZLo2LHjEc9RUlISJSUlR7w/AEA+y4tfZhk4cGBERNTU1DRaq6mpiXbt2kXv3r0Pe57XXnstbrzxxvja174WP//5z6Nz587NPisAwKkiL0JxxIgRUVRUFLNmzYp9+/bVb1+1alVUV1fHyJEjo02bNhERsXnz5qitrW30mcUlS5bEDTfcED179oxf/OIXUVxcfFyvAQAg3+TFo+fi4uKYNm1aVFZWRnl5edx2223xySefRFVVVXTp0iWmTJlSv++ECRNi/vz5sWzZsigvL4+IA0E5YsSIyLIs7rzzzli8eHGj/8a3v/3t43U5AAB5IS9CMSJi/PjxUVxcHDNmzIjKysooKiqKYcOGxfTp0+s/w3gwv/nNb+L3v/99RET81V/9VXIfoQgA0FBBlmXZiR4in7355ptRVlYWNTU1MXjw4BM9DgDQDLy+H5AXn1EEAOD4E4oAACQJRQAAkoQiAABJQhEAgCShCABAklAEACBJKAIAkCQUAQBIEooAACQJRQAAkoQiAABJQhEAgCShCABAklAEACBJKAIAkCQUAQBIEooAACQJRQAAkoQiAABJQhEAgCShCABAklAEACBJKAIAkCQUAQBIEooAACQJRQAAkoQiAABJQhEAgCShCABAklAEACBJKAIAkCQUAQBIEooAACQJRQAAkoQiAABJQhEAgCShCABAklAEACBJKAIAkCQUAQBIEooAACQJRQAAkoQiAABJQhEAgCShCABAklAEACBJKAIAkCQUAQBIEooAACQJRQAAkoQiAABJQhEAgCShCABAklAEACBJKAIAkCQUAQBIEooAACQJRQAAkoQiAABJQhEAgCShCABAklAEACBJKAIAkCQUAQBIEooAACTlVSguWLAg+vfvH7lcLoqLi2P06NGxbt26Iz7+nXfeiYqKiujYsWO0b98+ysvLo7q6ugUnBgDIX3kTinPmzIlbbrklcrlcVFVVRWVlZSxdujTKyspi06ZNhz1+5cqVcdVVV0VtbW08/PDDMW3atNiyZUv80R/9Ubz++uvH4QoAAPJL6xM9wJHYsmVLTJgwIfr16xfLly+P1q0PjF1RURGlpaUxceLEePrppw95jnHjxkWrVq2iuro6unfvHhER3/nOd+LSSy+Ne+65J95///0oKCho8WsBAMgXefGO4qJFi2L79u0xbty4+kiMiBgwYEAMGTIkFi5cGHv27Dno8WvWrIm33norbr755vpIjIjo2LFj3HXXXfHBBx/E22+/3aLXAACQb/IiFFesWBEREWVlZY3WysrKYtu2bVFbW3vMx39xHwAADsiLR88bN26MiIhu3bo1WqvbtmHDhujbt2+Tjj+c9evXN9pv5cqVERGxevXqwx4PAOSHutf1HTt2nOBJTqy8CMWdO3dGRETbtm0brRUWFjbYpyWOrzNv3ryYPHlycm3s2LGHPR4AyC+rVq2KoUOHnugxTpi8CMWioqKIiNi9e3fkcrkGa7t27Wqwz+GO/7IjOb7OmDFjYvjw4Q22/cd//Ec88MAD8fjjj8fAgQMPew5a3urVq2Ps2LExd+7c6NOnz4keh3BPTkbuycnF/Tj5rFy5MsaPHx+XXHLJiR7lhMqLUOzatWtEHHg83LNnzwZrh3qsnDr+y47k+DolJSVRUlKSXBs4cGAMHjz4sOfg+OnTp497cpJxT04+7snJxf04+XzlK1850SOcUHnxyyx179TV1NQ0WqupqYl27dpF7969j/n4L+4DAMABeRGKI0aMiKKiopg1a1bs27evfvuqVauiuro6Ro4cGW3atImIiM2bN0dtbW2Dzxz26NEjSktL44UXXoj169fXb//ss89i3rx50aNHj7jiiiuO3wUBAOSBvAjF4uLimDZtWvzqV7+K8vLymDt3bjz22GNRUVERXbp0iSlTptTvO2HChPj617/e6OtuZs2aFfv374+rrroq/v7v/z7mzJkTV155ZWzevDmeeOIJX7YNAPAlefEZxYiI8ePHR3FxccyYMSMqKyujqKgohg0bFtOnT6//DOKhDBo0KKqrq+Ohhx6KSZMmxf79+2PAgAHx+uuvR3l5+THP1a1bt3jkkUeO6DOOHB/uycnHPTn5uCcnF/fj5OOeHFCQZVl2oocAAODkkxePngEAOP6EIgAASUIRAIAkoQgAQJJQBAAgSSgexIIFC6J///6Ry+WiuLg4Ro8eHevWrTvi4995552oqKiIjh07Rvv27aO8vDyqq6tbcOJT37Hek9/97nfx+OOPxzXXXBMlJSWRy+WiV69ecffddzf4AnaOXlN/Tr5o5MiRUVBQcMh/ZYlDa+r92L9/fzz55JMxaNCgaN++fbRr1y769OkTjz76aAtOfWpryj3Jsiyee+65GDx4cHTu3Dk6dOgQffr0iWnTpsX27dtbePJT0/Tp0+Pmm2+Oiy66KAoKCuKCCy44pvOcVq/xGY3Mnj07i4jsyiuvzH7yk59kjz76aNa5c+fsvPPOyzZu3HjY41esWJHlcrns/PPPz/7u7/4umzVrVnbZZZdlrVu3zpYuXXocruDU05R78uqrr2atWrXKhg4dmk2fPj176qmnssrKyiyXy2UdO3bM/vu///s4XcWppak/J1/0b//2b1mrVq2yXC6X9erVq4UmPrU19X7s2bMnu/7667PWrVtn3/72t7Of/OQn2dy5c7MJEyZkd91113G4glNPU+/J3/zN32QRkf3hH/5hNnv27OyJJ57IbrzxxiwisiFDhhyHKzj1RETWqVOnbOjQodnZZ5+dnX/++Ud9jtPtNV4ofsknn3yStWvXLuvXr1+2d+/e+u0rV67MCgoKsjFjxhz2HFdccUV25plnZuvWravf9n//939Z165ds549e2aff/55i8x+qmrqPfmf//mf7IMPPmi0fenSpVlEZH/6p3/a7DOf6prj56TOtm3bsu7du2f33ntvdv755wvFY9Ac92PixIlZq1atssWLF7fkqKeNpt6TvXv3ZkVFRVm/fv2y/fv3N1gbMWJEFhHZe++91yKzn8o+/PDD+v/70ksvPaZQPN1e44Xil8ybNy+LiOzZZ59ttHb11Vdn7du3z3bv3n3Q4z/88MMsIrI///M/b7T2yCOPZBGRvfnmm80686muqffkUDp16iRMjkFz3pPx48dn5557brZ161aheIyaej+2b9+edejQIRsxYkSWZVn2+eefZ5999llLjXtaaOo92blzZ1ZQUJBde+21jda+973vZRHRIFQ4escSiqfja7zPKH5J3b8RXVZW1mitrKwstm3bFrW1tcd8/Bf34cg09Z4czNatW2Pbtm1xzjnnNHnG001z3ZOVK1fG7Nmzo6qqKjp06NDsc54umno/fvnLX8Znn30WpaWlcf/998dZZ50VHTp0iE6dOsV9990XO3fubLHZT1VNvSe5XC7Kyspi8eLF8aMf/Sh++9vfxtq1a+Opp56KZ555Ju66667o3r17i81P2un4Gi8Uv2Tjxo0REcl/27Fu24YNG1rseBprqb/TqVOnxt69e+P2229v2oCnoea4J/v27Yvvfve7MXTo0Bg1alTzD3kaaer9qAuWmTNnxj//8z/H1KlT48UXX4zrrrsu5syZE9/85jcj86+9HpXm+Bn56U9/GkOGDIkHHnggevbsGRdeeGH8xV/8RTz44IPx1FNPNf/QHNbp+Brf+kQPcLKp+1/Obdu2bbRWWFjYYJ+WOJ7GWuLvdOHChTFjxowYNmxY3HHHHU0f8jTTHPdkxowZ8f7778dLL73U/AOeZpp6P7Zt2xYREZ9++mn8+te/jksuuSQiIr71rW9FRMTzzz8fS5YsieHDhzfr3Key5vgZKSoqil69ekX37t2joqIiWrVqFS+//HJMnDgx9u/fH5MmTWr2uTm00/E13juKX1JUVBQREbt37260tmvXrgb7tMTxNNbcf6evvPJK3HbbbXH55ZfHCy+8EK1a+TE4Wk29Jx9++GFMnjw5HnzwwejRo0fLDHkaaer9yOVyERExaNCg+kisc+edd0ZExLJly5pl1tNFU+/Jzp07o6ysLLZu3Rrz58+P0aNHx6hRo2LBggVxxx13xJQpU+I///M/W2R2Du50fI33CvklXbt2jYj0W8eHesu5uY6nseb8O128eHHcdNNN0bt371iyZEl07Nix+QY9jTT1nnz/+9+Ps88+O0aNGhVr166t/7Nv377Yu3dvrF27Nv73f/+3ZYY/BTX1ftStnXvuuY3W6rZ9+umnTZ7zdNLUe/Liiy/GBx98EDfffHOjtVGjRkWWZfHGG28007QcqdPxNV4ofsnAgQMjIqKmpqbRWk1NTbRr1+6QXwh8uOO/uA9Hpqn3pM5rr70WN954Y3zta1+Ln//859G5c+dmn/V00dR7snbt2ti0aVP06tUrLrzwwvo/GzdujDVr1sSFF17os6NHoan3Y9CgQRERyS+g/+ijjyIiokuXLs0x6mmjqfekLjr27t3baK1u2759+5pjVI7Cafkaf6J/7fpk8/HHH9d/d1Xqu6/uvPPO+m2bNm3K3nvvvWzHjh0NzlFaWpqdeeaZ2UcffVS/bevWrVm3bt2yHj16nHLfsdTSmuOevPbaa1lhYWHWp0+f7OOPPz5us5+qmnpPfvGLX2Q/+9nPGv35yle+knXt2jX72c9+ltXU1BzXa8pnzfEzMmTIkKygoKDBV3t8/vnn2Te/+c0sItyPo9TUe/Lyyy9nEZH98R//caNz133pdnV1dctexCnucF+P4zX+AKGYMHPmzPpv03/yySezqVOnZp07d86++tWvZhs2bKjf7/bbb88iIlu2bFmD4996662ssLAwO//887MZM2Zks2fPzi677LLsjDPOyF577bXjfDWnhqbck5UrV2aFhYVZ27Zts6qqquy5555r9Iej19SfkxTfo3jsmno//uu//itr37591qFDh+yhhx7K5syZk11zzTVZRDSIGo5cU+7Jvn37stLS0iwisquuuiqrqqrKZs6cmZWXl2cRkV1//fUn4Iry3z/90z9ljz76aPboo49m55xzTnbWWWfV//+zZ89usK/X+AOE4kE8//zz2eWXX54VFhZmnTp1ykaNGpWtWbOmwT6HegFcsWJFNmzYsKx9+/ZZUVFRNmTIkCN6oeTgjvWePPPMM1lEHPIPx6apPydfJhSbpqn34ze/+U124403ZmeffXbWpk2b7JJLLsmqqqoa/csgHLmm3JMdO3ZkP/zhD7NvfOMbWceOHbO2bdtml156afbYY48d8z8ycLq7+uqrD/o68OV3F73GH1CQZb4cCwCAxvwyCwAASUIRAIAkoQgAQJJQBAAgSSgCAJAkFAEASBKKAAAkCUUAAJKEIgAASUIRAIAkoQgAQJJQBAAgSSgCAJAkFAEASBKKAAAkCUUAAJKEIgAASUIRAIAkoQgAQJJQBAAgSSgCAJAkFAEASBKKAAAkCUUAAJKEIgAASUIRAIAkoQgAQJJQBAAgSSgCAJAkFAEASPp/hGTGsp+LiGsAAAAASUVORK5CYII=",
          "text/html": "\n            <div style=\"display: inline-block;\">\n                <div class=\"jupyter-widgets widget-label\" style=\"text-align: center;\">\n                    Figure\n                </div>\n                <img src='data:image/png;base64,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' width=650.0/>\n            </div>\n        ",
          "text/plain": "Canvas(footer_visible=False, header_visible=False, toolbar=Toolbar(toolitems=[('Home', 'Reset original view', …"
         },
         "metadata": {},
         "output_type": "display_data"
        }
       ]
      }
     },
     "b9a49d70dac046ccb28a60311257444b": {
      "model_module": "@jupyter-widgets/controls",
      "model_module_version": "1.5.0",
      "model_name": "VBoxModel",
      "state": {
       "_dom_classes": [
        "widget-interact"
       ],
       "children": [
        "IPY_MODEL_2ad1c6c2ea1949c99da3e6b84f9f904c",
        "IPY_MODEL_0454f91959b748f28f6da34b6e044189"
       ],
       "layout": "IPY_MODEL_5c2a3d0137e243878a117345edc91116"
      }
     },
     "b9c797b9d8c348c885282dc79c10e39c": {
      "model_module": "@jupyter-widgets/base",
      "model_module_version": "1.2.0",
      "model_name": "LayoutModel",
      "state": {}
     },
     "bcb7ae53f48e4c0680627407ae87ae05": {
      "model_module": "jupyter-matplotlib",
      "model_module_version": "^0.11",
      "model_name": "ToolbarModel",
      "state": {
       "_model_module_version": "^0.11",
       "_view_module_version": "^0.11",
       "collapsed": true,
       "layout": "IPY_MODEL_c7d33b75ceb149e9a3dedf46e8970031",
       "orientation": "vertical",
       "toolitems": [
        [
         "Home",
         "Reset original view",
         "home",
         "home"
        ],
        [
         "Back",
         "Back to previous view",
         "arrow-left",
         "back"
        ],
        [
         "Forward",
         "Forward to next view",
         "arrow-right",
         "forward"
        ],
        [
         "Pan",
         "Left button pans, Right button zooms\nx/y fixes axis, CTRL fixes aspect",
         "arrows",
         "pan"
        ],
        [
         "Zoom",
         "Zoom to rectangle\nx/y fixes axis",
         "square-o",
         "zoom"
        ],
        [
         "Download",
         "Download plot",
         "floppy-o",
         "save_figure"
        ]
       ]
      }
     },
     "c7d33b75ceb149e9a3dedf46e8970031": {
      "model_module": "@jupyter-widgets/base",
      "model_module_version": "1.2.0",
      "model_name": "LayoutModel",
      "state": {}
     },
     "cddc1e3237184f90b8270d5eba54e8f8": {
      "model_module": "@jupyter-widgets/base",
      "model_module_version": "1.2.0",
      "model_name": "LayoutModel",
      "state": {}
     },
     "d5f92eb382584636a42ad905a93bb6a6": {
      "model_module": "@jupyter-widgets/base",
      "model_module_version": "1.2.0",
      "model_name": "LayoutModel",
      "state": {}
     },
     "dd9dea5f128b4862aead5e513b1845b3": {
      "model_module": "@jupyter-widgets/base",
      "model_module_version": "1.2.0",
      "model_name": "LayoutModel",
      "state": {
       "align_items": "center",
       "justify_content": "center",
       "width": "95%"
      }
     },
     "ed98ff28ae7d4b08b74a7404fca5e090": {
      "model_module": "@jupyter-widgets/controls",
      "model_module_version": "1.5.0",
      "model_name": "DescriptionStyleModel",
      "state": {
       "description_width": ""
      }
     },
     "f288d0cf13b441ea9df4e11dbd94bd09": {
      "model_module": "@jupyter-widgets/base",
      "model_module_version": "1.2.0",
      "model_name": "LayoutModel",
      "state": {
       "width": "200px"
      }
     }
    },
    "version_major": 2,
    "version_minor": 0
   }
  }
 },
 "nbformat": 4,
 "nbformat_minor": 5
}
