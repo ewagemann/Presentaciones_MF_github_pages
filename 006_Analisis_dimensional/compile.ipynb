{
 "cells": [
  {
   "cell_type": "code",
   "execution_count": 1,
   "id": "d45b0d82-2a30-479a-be95-10ea15f0a500",
   "metadata": {},
   "outputs": [
    {
     "name": "stdout",
     "output_type": "stream",
     "text": [
      "Microsoft Windows [Version 10.0.19044.2130]\n",
      "(c) Microsoft Corporation. All rights reserved.\n",
      "\n",
      "(base) C:\\Users\\enriq\\Dropbox\\DIM_UDEC\\Mecanica_de_fluidos\\Material\\presentaciones\\2022-2\\5 - Analisis dimensional\\Semana 1>jupyter nbconvert --to html --template=reveal similitud.ipynb\n",
      "\n",
      "(base) C:\\Users\\enriq\\Dropbox\\DIM_UDEC\\Mecanica_de_fluidos\\Material\\presentaciones\\2022-2\\5 - Analisis dimensional\\Semana 1>"
     ]
    },
    {
     "name": "stderr",
     "output_type": "stream",
     "text": [
      "[NbConvertApp] Converting notebook similitud.ipynb to html\n",
      "[NbConvertApp] Writing 596758 bytes to similitud.html\n"
     ]
    }
   ],
   "source": [
    "%%cmd\n",
    "jupyter nbconvert --to html --template=reveal similitud.ipynb"
   ]
  },
  {
   "cell_type": "code",
   "execution_count": null,
   "id": "df8b4deb-2def-4ac6-a146-f2c1d110ce93",
   "metadata": {},
   "outputs": [],
   "source": []
  }
 ],
 "metadata": {
  "kernelspec": {
   "display_name": "Python 3 (ipykernel)",
   "language": "python",
   "name": "python3"
  },
  "language_info": {
   "codemirror_mode": {
    "name": "ipython",
    "version": 3
   },
   "file_extension": ".py",
   "mimetype": "text/x-python",
   "name": "python",
   "nbconvert_exporter": "python",
   "pygments_lexer": "ipython3",
   "version": "3.9.13"
  }
 },
 "nbformat": 4,
 "nbformat_minor": 5
}
