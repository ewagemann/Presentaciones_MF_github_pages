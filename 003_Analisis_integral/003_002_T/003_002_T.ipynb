{
 "cells": [
  {
   "cell_type": "code",
   "execution_count": 1,
   "id": "5687c08e-5eb3-4080-8cb6-83eb076b7278",
   "metadata": {
    "slideshow": {
     "slide_type": "skip"
    },
    "tags": []
   },
   "outputs": [
    {
     "data": {
      "application/javascript": "MathJax.Hub.Queue(\n  [\"resetEquationNumbers\", MathJax.InputJax.TeX],\n  [\"PreProcess\", MathJax.Hub],\n  [\"Reprocess\", MathJax.Hub]\n);\n\nMathJax.Hub.Config({\n    TeX: { equationNumbers: { autoNumber: \"AMS\" } }\n});\n",
      "text/plain": [
       "<IPython.core.display.Javascript object>"
      ]
     },
     "metadata": {},
     "output_type": "display_data"
    }
   ],
   "source": [
    "%%javascript\n",
    "MathJax.Hub.Queue(\n",
    "  [\"resetEquationNumbers\", MathJax.InputJax.TeX],\n",
    "  [\"PreProcess\", MathJax.Hub],\n",
    "  [\"Reprocess\", MathJax.Hub]\n",
    ");\n",
    "\n",
    "MathJax.Hub.Config({\n",
    "    TeX: { equationNumbers: { autoNumber: \"AMS\" } }\n",
    "});"
   ]
  },
  {
   "cell_type": "code",
   "execution_count": 2,
   "id": "a6a04b78-b961-41c3-a1b5-84bf0496abb1",
   "metadata": {
    "slideshow": {
     "slide_type": "skip"
    },
    "tags": []
   },
   "outputs": [],
   "source": [
    "%matplotlib widget\n",
    "import numpy as np\n",
    "import matplotlib.pyplot as plt\n",
    "import ipywidgets as widgets\n",
    "import scipy.optimize\n",
    "from matplotlib.ticker import FormatStrFormatter\n",
    "import pandas as pd"
   ]
  },
  {
   "cell_type": "markdown",
   "id": "d27d55d8-61a1-4bdb-b1c3-07c2b12073e7",
   "metadata": {
    "slideshow": {
     "slide_type": "skip"
    },
    "tags": []
   },
   "source": [
    "# Diapo base"
   ]
  },
  {
   "cell_type": "raw",
   "id": "39a80846-a14e-41bf-9eb6-497a30aa1e41",
   "metadata": {
    "slideshow": {
     "slide_type": "skip"
    },
    "tags": []
   },
   "source": [
    "<div class='diapo'>\n",
    "    <div class='base'>\n",
    "        <div class='base header'>\n",
    "           \n",
    "           \n",
    "           \n",
    "        </div>\n",
    "        <div class='base body'>\n",
    "        \n",
    "        \n",
    "        </div>\n",
    "    </div>\n",
    "</div>"
   ]
  },
  {
   "cell_type": "markdown",
   "id": "a90ac82a-dd69-48a9-900e-454f333a3be5",
   "metadata": {
    "slideshow": {
     "slide_type": "skip"
    },
    "tags": []
   },
   "source": [
    "# Portada"
   ]
  },
  {
   "cell_type": "raw",
   "id": "1031675c-2825-4b29-b289-5ba4a5df96f9",
   "metadata": {
    "slideshow": {
     "slide_type": "slide"
    },
    "tags": []
   },
   "source": [
    "<div class='diapo'>\n",
    "    <div class='base'>\n",
    "    <table class='portada' style='width:100%'>\n",
    "        <tr class='portadatr' style='vertical-align:center'>\n",
    "            <td class='portada1' style='width:25%; border: 0px solid black'>\n",
    "                <center>\n",
    "                    <img src=../Figures/udec.jpg height=120px>\n",
    "                </center>\n",
    "            </td>\n",
    "            <td class='portada2' style='width:50%; border: 0px solid black'> \n",
    "                <center> \n",
    "                    <p class='portada institucion'>\n",
    "                        Universidad de Concepción <br>\n",
    "                        Facultad de Ingeniería <br>\n",
    "                        Departamento de Ingeniería Mecánica\n",
    "                    </p>\n",
    "                </center>\n",
    "            </td>\n",
    "            <td class='portada3' style='width:25%; border: 0px solid black'>\n",
    "                <center>\n",
    "                    <img src=../Figures/DIM.png height=70px>\n",
    "                </center>\n",
    "            </td>    \n",
    "        </tr>\n",
    "    </table>\n",
    "        <div class='base body'>\n",
    "<center>\n",
    "\n",
    "    <p class='portada asignatura'> \n",
    "        <b>Mecánica de fluidos</b> \n",
    "    </p>\n",
    "    <p style=\"font-size:5px\">\n",
    "    <br>\n",
    "    </p>\n",
    "    <p class='portada capitulo'>\n",
    "        <b> Análisis integral</b>\n",
    "    </p>\n",
    "    <p class='portada capitulo'>\n",
    "        <b> 003_002_T </b>\n",
    "    </p>\n",
    "</center>\n",
    "</div>\n",
    "</div>\n",
    "</div>"
   ]
  },
  {
   "cell_type": "markdown",
   "id": "3f32950d-9d54-4ed3-babe-da4c5e562e39",
   "metadata": {
    "slideshow": {
     "slide_type": "skip"
    },
    "tags": []
   },
   "source": [
    "## Conservación de momentum en volúmenes de control: <b> Ecuación de movimiento</b>"
   ]
  },
  {
   "cell_type": "raw",
   "id": "6cb31f4f-f916-49a6-bb14-26236ddf00b1",
   "metadata": {
    "slideshow": {
     "slide_type": "slide"
    },
    "tags": []
   },
   "source": [
    "<div class='diapo'>\n",
    "    <div class='titulo' style='font-size:50px'>\n",
    "        <p style='font-size:40px'>\n",
    "            Conservación de momentum en volúmenes de control:\n",
    "        </p>\n",
    "        <p style='font-size:50px'>\n",
    "             <b> Ecuación de movimiento </b>\n",
    "        </p>\n",
    "    </div>\n",
    "</div>"
   ]
  },
  {
   "cell_type": "raw",
   "id": "33d523d2-3c38-4cac-b13f-1222d5133cc4",
   "metadata": {
    "slideshow": {
     "slide_type": "subslide"
    },
    "tags": []
   },
   "source": [
    "<div class='diapo'>\n",
    "    <div class='base'>\n",
    "        <div class='base header'>\n",
    "           Ecuación de movimiento         \n",
    "        </div>\n",
    "        <div class='base body'>\n",
    "            \n",
    "            <p style=\"text-align:justify\">\n",
    "                Al aplicar el teorema de transporte de Reynolds (RTT) a la ley de conservación de momentum lineal obtendremos:\n",
    "            </p>\n",
    "\n",
    "            $$\n",
    "            \\color{red}{\\frac{d}{d t}\\int_{C V} \\mathbf{v} \\rho \\,d \\mathcal{V}}+\n",
    "            \\color{blue}{\\int_{C S} \\mathbf{v} \\rho\\left(\\mathbf{v}_r \\cdot \\mathbf{n}\\right) \\,d A}\n",
    "            = \\color{green}{\\sum \\mathbf{F}}\n",
    "            $$\n",
    "            \n",
    "            <p>\n",
    "                En esta ecuación se distinguen dos términos:\n",
    "            </p>\n",
    "\n",
    "            <ul style=\"text-align:justify\">\n",
    "                <li>\n",
    "                    <span style=\"color:red\"> El término de la izquierda <span style=\"color:red\">(en rojo)</span> corresponde al término de acumulación (de momentum) en el volumen de control. </span>\n",
    "                </li>\n",
    "                <li>\n",
    "                    <span style=\"color:blue\"> El segundo término de la izquierda <span style=\"color:blue\">(en azul)</span> corresponde al término del flujo neto (de momentum) a través de la superficie de control <b>(salidas - entradas)</b> </span>\n",
    "                </li>\n",
    "               <li>\n",
    "                    <span style=\"color:green\"> El término de la derecha <span style=\"color:green\">(en verde)</span> corresponde a la sumatoria de <b>todas las fuerzas que actúan sobre el volumen de control</b> (incluyendo fuerzas de cuerpo y de superficie)</span>\n",
    "                </li>\n",
    "            </ul>\n",
    "            <p>\n",
    "                Notar que la ecuación de continuidad corresponde a una <b>ecuación vectorial</b>.\n",
    "            </p>\n",
    "        </div>\n",
    "    </div>\n",
    "</div>"
   ]
  },
  {
   "cell_type": "markdown",
   "id": "33ce5258-784c-4119-b3cd-143c248cc676",
   "metadata": {
    "jp-MarkdownHeadingCollapsed": true,
    "slideshow": {
     "slide_type": "skip"
    },
    "tags": []
   },
   "source": [
    "### Fuerzas que actúan sobre un volumen de control"
   ]
  },
  {
   "cell_type": "raw",
   "id": "8e6e9587-0bb2-4d4f-81a2-e76108b68caf",
   "metadata": {
    "slideshow": {
     "slide_type": "subslide"
    },
    "tags": []
   },
   "source": [
    "<div class='diapo'>\n",
    "    <div class='base'>\n",
    "        <div class='base header'>\n",
    "            Fuerzas que actúan sobre un volumen de control\n",
    "        </div>\n",
    "       <div class='base body'>\n",
    "            <table style=\"font-size:25px\">\n",
    "                <tr style=\"vertical-align:top; border: 0px solid black\">\n",
    "                    <th style=\"width:50%;\n",
    "                               background-color:rgba(256,0,0,0.2);\n",
    "                               text-align:justify;\n",
    "                               border: 0px solid black\">\n",
    "                        <b>Fuerzas de cuerpo o volúmen</b>\n",
    "                    </th>\n",
    "                    <th style=\"width:50%;\n",
    "                               background-color:rgba(0,0,256,0.2);\n",
    "                               text-align:justify;\n",
    "                               border: 0px solid black\">\n",
    "                            <b>Fuerzas de superficie</b>: \n",
    "                    </th>\n",
    "                </tr>\n",
    "                <tr style=\"vertical-align:top\">\n",
    "                    <td style=\"width:50%;\n",
    "                               background-color:rgba(256,0,0,0.2);\n",
    "                               padding-left:20px;\n",
    "                               padding-right:20px;\n",
    "                               padding-bottom:20px;\n",
    "                               text-align:justify\">\n",
    "                        <span style=\"text-align:justify\">\n",
    "                            corresponden a fuerzas que <b>actúan a distancia sobre todo el volúmen</b> del cuerpo o fluido. Ejemplos de estas fuerzas son:\n",
    "                        </span>\n",
    "                        <br>\n",
    "                        <ul>\n",
    "                            <li>\n",
    "\n",
    "                            <b> Fuerza de gravedad</b>\n",
    "\n",
    "                                $$\n",
    "                                \\textbf{F}_{g}=m \\textbf{g} =  \\rho \\mathcal{V} \\textbf{g}\n",
    "                                $$\n",
    "                            </li>\n",
    "                            <li> \n",
    "                                Fuerzas electrostáticas\n",
    "                            </li>\n",
    "                        </ul>            \n",
    "                    </td>\n",
    "                <td style=\"width:50%;\n",
    "                           background-color:rgba(0,0,256,0.2);\n",
    "                           padding-left:20px;\n",
    "                           padding-right:20px;\n",
    "                           padding-bottom:20px;\n",
    "                           text-align:justify\">\n",
    "                    <span style=\"text-align:justify\">\n",
    "\n",
    "                        Corresponden a fuerzas que actúan mediante <b>contacto sobre la superficie</b> de un cuerpo o fluido. Dependiendo de la dirección (con respecto a la superficie) en la que se ejercen pueden ser divididas en:\n",
    "                    </span>\n",
    "                    <br>\n",
    "                    <ul>\n",
    "                        <li> <b> Fuerzas normales</b> </li>\n",
    "                        <li> <b> Fuerzas tangenciales </b> </li>\n",
    "                    </ul>\n",
    "                </td>\n",
    "\n",
    "            </tr>\n",
    "        </table>\n",
    "        <div class='comment_box'>\n",
    "        Recordar que los esfuerzos de corte y normales <b>dentro del volumen de control se anulan entre sí.</b> Es decir, solo deberemos considerar fuerzas de superficie que actúan sobre la superficie de control.\n",
    "        <br>\n",
    "        \n",
    "        Además, por lo general seleccionaremos superficies de control normales a la dirección del flujo en entradas y salidas. En estos casos, las fuerzas debido a esfuerzos de corte son despreciables.\n",
    "        </div>\n",
    "    </div>\n",
    "</div>"
   ]
  },
  {
   "cell_type": "markdown",
   "id": "3613f5c9-6bd1-4a4d-9f88-7617170ceb94",
   "metadata": {
    "slideshow": {
     "slide_type": "skip"
    },
    "tags": []
   },
   "source": [
    "### Fuerza de presión"
   ]
  },
  {
   "cell_type": "raw",
   "id": "ccacf612-5ec8-4638-83ca-cc51de24e81d",
   "metadata": {
    "slideshow": {
     "slide_type": "subslide"
    },
    "tags": []
   },
   "source": [
    "<div class='diapo'>\n",
    "    <div class='base'>\n",
    "        <div class='base header'>\n",
    "            Fuerza de presión\n",
    "        </div>\n",
    "        <div class='base body'>\n",
    "            <!---\n",
    "            <p style='text-align:justify'>\n",
    "                El cálculo de la fuerza de presión neta sobre la superficie de control se realiza mediante la siguiente ecuación:\n",
    "            </p>\n",
    "            --->\n",
    "            <div class='comment_box' style='padding:5px'>\n",
    "                <table style='width:100%;font-size:25px'>\n",
    "                    <tr>\n",
    "                        <td style='width:40%'>\n",
    "                            $$\\mathbf{F}_p=\\int_{C S} p(-\\mathbf{n}) d A$$\n",
    "                        </td>\n",
    "                        <td style='font-size:20px'>\n",
    "                            <ul style='text-align:justify'>\n",
    "                                <li> \n",
    "                                $p$: presión absoluta en la superficie (definida localmente)\n",
    "                                </li>\n",
    "                                <li> \n",
    "                                $\\textbf{n}$: vector unitario normal a la superficie (definida localmente y siempre apuntando hacia afuera del CV)\n",
    "                                </li>\n",
    "                            </ul>\n",
    "                        </td>\n",
    "                    </tr>\n",
    "                </table>\n",
    "            </div>\n",
    "            <div style='font-size:22px;margin-top:-15px'>\n",
    "            <p> \n",
    "                Si la presión es <b>uniforme</b> en toda la superficie de control (por ejemplo\n",
    "toda la superficie de control está expuesta a la atmósfera con $p_{atm}$)\n",
    "            </p>\n",
    "            \n",
    "            $$\\mathbf{F}_p=\\int_{C S} p_{a t m}(-\\mathbf{n}) d A=-p_{a t m} \\int_{C S} \\mathbf{n} d A \\equiv 0$$\n",
    "            \n",
    "            \n",
    "            <p> \n",
    "                Lo anterior nos permite simplificar el cálculo de la fuerza de presión neta que actúa sobre <b>toda la superficie de control</b> a:\n",
    "            </p>\n",
    "            </div>\n",
    "            <div class='equation_box' style='width:100%;padding:5px'>\n",
    "                <table style='width:100%;font-size:25px'>\n",
    "                    <tr>\n",
    "                        <td style='width:70%'>\n",
    "                            $$\n",
    "                            \\mathbf{F}_p=\\int_{C S}\\left(p-p_{a t m}\\right)(-\\mathbf{n}) d A=\\int_{C S} p_{\\operatorname{man}}(-\\mathbf{n}) d A\n",
    "                            $$\n",
    "                        </td>\n",
    "                        <td style='font-size:20px;text-align:justify'>\n",
    "                            <b> El valor de la presión de referencia no necesariamente debe corresponder a la presión atmosférica, si no que cualquier valor constante (para toda la superficie).</b6\n",
    "                        </td>\n",
    "                    </tr>\n",
    "                </table>\n",
    "\n",
    "            </div>\n",
    "        </div>\n",
    "    </div>\n",
    "</div>\n",
    "        "
   ]
  },
  {
   "cell_type": "markdown",
   "id": "c8a9a9fc-9f74-492b-b479-6dce69a411bf",
   "metadata": {
    "slideshow": {
     "slide_type": "skip"
    },
    "tags": []
   },
   "source": [
    "### Casos particulares de la ecuación de movimiento"
   ]
  },
  {
   "cell_type": "raw",
   "id": "fee67f41-f7d0-4389-aa83-4b68f6ead731",
   "metadata": {
    "slideshow": {
     "slide_type": "subslide"
    },
    "tags": []
   },
   "source": [
    "<div class='diapo'>\n",
    "    <div class='base'>\n",
    "        <div class='base header'>\n",
    "            Casos particulares de la ecuación de movimiento\n",
    "        </div>\n",
    "        <div class='base body'>\n",
    "            <table style='font-size:25px; width:100%'>\n",
    "                <tr>\n",
    "                    <td style='width:20%;border:0px solid black;background-color:rgba(255,0,0,0.2)'>\n",
    "                        <b><center>Estado estacionario</center></b>\n",
    "                    </td>\n",
    "                    <td style='border:0px solid black;background-color:rgba(255,0,0,0.2)'>\n",
    "                        $$\n",
    "                        \\int_{C S} \\textbf{v}\\rho\\left(\\mathbf{v}_r \\cdot \\mathbf{n}\\right) d A=\\sum\\textbf{F}\n",
    "                        $$\n",
    "                    </td>\n",
    "                </tr>\n",
    "                </tr>\n",
    "                    <td style='border:0px solid black;background-color:rgba(0,0,255,0.2)'>\n",
    "                        <b><center>Fluido incompresible</center></b>\n",
    "                    </td>\n",
    "                    <td style='border:0px solid black;background-color:rgba(0,0,255,0.2)'>\n",
    "                        $$\n",
    "                        \\rho\\frac{d}{d t} \\int_{CV} \\textbf{v}\\, d\\mathcal{V}+\\rho\\int_{C S}\\mathbf{v}\\left(\\mathbf{v}_r \\cdot \\mathbf{n}\\right) d A=\\sum\\textbf{F}\n",
    "                        $$\n",
    "                    </td>\n",
    "                </tr>\n",
    "                <tr>\n",
    "                    <td style='border:0px solid black;background-color:rgba(255,0,255,0.2)'>\n",
    "                        <center><b> Entradas y salidas unidimensionales </b></center>\n",
    "                    </td>\n",
    "                    <td style='border:0px solid black;background-color:rgba(255,0,255,0.2);padding-top:0px'>\n",
    "                        $$\n",
    "                        \\frac{d}{d t} \\int_{C V} \\rho\\textbf{v}\\,d \\mathcal{V} + \\sum_{\\text {salidas }} \\dot{m}_i\\textbf{v}_i-\\sum_{\\text {entradas }} \\dot{m}_i \\textbf{v}_i= \\sum\\textbf{F}\n",
    "                        $$\n",
    "                        $$\n",
    "                        \\dot{m}_i = \\rho_iQ_i = \\rho_iV_iA_i\n",
    "                        $$\n",
    "                    </td>\n",
    "                </tr>\n",
    "                <tr>\n",
    "                    <td style='border:0px solid black;background-color:rgba(0,255,0,0.2)'>\n",
    "                        <center><b> Volumen de control fijo e indeformable</b></center>\n",
    "                    </td>\n",
    "                    <td style='border:0px solid black;background-color:rgba(0,255,0,0.2);padding-top:0px'>\n",
    "                       \n",
    "                        $$\n",
    "                        \\int_{C V} \\frac{\\partial}{\\partial t} \\mathbf{v} \\rho\\, d \\mathcal{V}+\\int_{C S} \\mathbf{v} \\rho\\left(\\mathbf{v}_r \\cdot \\mathbf{n}\\right) \\,d A=\\sum \\mathbf{F}\n",
    "                        $$\n",
    "                </tr>\n",
    "\n",
    "            </table>\n",
    "                        \n",
    "        \n",
    "        </div>\n",
    "    </div>\n",
    "</div>"
   ]
  }
 ],
 "metadata": {
  "kernelspec": {
   "display_name": "Python 3 (ipykernel)",
   "language": "python",
   "name": "python3"
  },
  "language_info": {
   "codemirror_mode": {
    "name": "ipython",
    "version": 3
   },
   "file_extension": ".py",
   "mimetype": "text/x-python",
   "name": "python",
   "nbconvert_exporter": "python",
   "pygments_lexer": "ipython3",
   "version": "3.9.13"
  },
  "vscode": {
   "interpreter": {
    "hash": "7dc5d7343cfded89abdc523a01770a98d5d2ec6c452a7327dfc8e53335df01db"
   }
  },
  "widgets": {
   "application/vnd.jupyter.widget-state+json": {
    "state": {},
    "version_major": 2,
    "version_minor": 0
   }
  }
 },
 "nbformat": 4,
 "nbformat_minor": 5
}
