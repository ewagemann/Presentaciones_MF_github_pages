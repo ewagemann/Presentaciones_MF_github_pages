{
 "cells": [
  {
   "cell_type": "code",
   "execution_count": 1,
   "id": "5687c08e-5eb3-4080-8cb6-83eb076b7278",
   "metadata": {
    "slideshow": {
     "slide_type": "skip"
    },
    "tags": []
   },
   "outputs": [
    {
     "data": {
      "application/javascript": "MathJax.Hub.Queue(\n  [\"resetEquationNumbers\", MathJax.InputJax.TeX],\n  [\"PreProcess\", MathJax.Hub],\n  [\"Reprocess\", MathJax.Hub]\n);\n\nMathJax.Hub.Config({\n    TeX: { equationNumbers: { autoNumber: \"AMS\" } }\n});\n",
      "text/plain": [
       "<IPython.core.display.Javascript object>"
      ]
     },
     "metadata": {},
     "output_type": "display_data"
    }
   ],
   "source": [
    "%%javascript\n",
    "MathJax.Hub.Queue(\n",
    "  [\"resetEquationNumbers\", MathJax.InputJax.TeX],\n",
    "  [\"PreProcess\", MathJax.Hub],\n",
    "  [\"Reprocess\", MathJax.Hub]\n",
    ");\n",
    "\n",
    "MathJax.Hub.Config({\n",
    "    TeX: { equationNumbers: { autoNumber: \"AMS\" } }\n",
    "});"
   ]
  },
  {
   "cell_type": "code",
   "execution_count": 2,
   "id": "a6a04b78-b961-41c3-a1b5-84bf0496abb1",
   "metadata": {
    "slideshow": {
     "slide_type": "skip"
    },
    "tags": []
   },
   "outputs": [],
   "source": [
    "%matplotlib widget\n",
    "import numpy as np\n",
    "import matplotlib.pyplot as plt\n",
    "import ipywidgets as widgets\n",
    "import scipy.optimize\n",
    "from matplotlib.ticker import FormatStrFormatter\n",
    "import pandas as pd"
   ]
  },
  {
   "cell_type": "markdown",
   "id": "a90ac82a-dd69-48a9-900e-454f333a3be5",
   "metadata": {
    "slideshow": {
     "slide_type": "skip"
    },
    "tags": []
   },
   "source": [
    "# Portada"
   ]
  },
  {
   "cell_type": "raw",
   "id": "1031675c-2825-4b29-b289-5ba4a5df96f9",
   "metadata": {
    "slideshow": {
     "slide_type": "slide"
    },
    "tags": []
   },
   "source": [
    "<div class='diapo'>\n",
    "    <div class='base'>\n",
    "    <table class='portada' style='width:100%'>\n",
    "        <tr class='portadatr'>\n",
    "            <td class='portada1' style='width:25%; border: 0px solid black'>\n",
    "                <center>\n",
    "                    <img src=../Figures/udec.jpg height=120px>\n",
    "                </center>\n",
    "            </td>\n",
    "            <td class='portada2' style='width:50%; border: 0px solid black'> \n",
    "                <center> \n",
    "                    <p class='portada institucion'>\n",
    "                        Universidad de Concepción <br>\n",
    "                        Facultad de Ingeniería <br>\n",
    "                        Departamento de Ingeniería Mecánica\n",
    "                    </p>\n",
    "                </center>\n",
    "            </td>\n",
    "            <td class='portada3' style='width:25%; border: 0px solid black'>\n",
    "                <center>\n",
    "                    <img src=../Figures/DIM.png height=70px>\n",
    "                </center>\n",
    "            </td>    \n",
    "        </tr>\n",
    "    </table>\n",
    "        <div class='base body'>\n",
    "<center>\n",
    "\n",
    "    <p class='portada asignatura'> \n",
    "        <b>Mecánica de fluidos</b> \n",
    "    </p>\n",
    "    <p style=\"font-size:5px\">\n",
    "    <br>\n",
    "    </p>\n",
    "    <p class='portada capitulo'>\n",
    "        <b> 1- Introducción</b>\n",
    "    </p>\n",
    "\n",
    "\n",
    "</center>\n",
    "</div>\n",
    "</div>\n",
    "</div>"
   ]
  },
  {
   "cell_type": "markdown",
   "id": "69ac841b-70d6-42e0-bff6-8ae0edcb9c51",
   "metadata": {
    "slideshow": {
     "slide_type": "skip"
    },
    "tags": []
   },
   "source": [
    "## Mecánica de fluidos"
   ]
  },
  {
   "cell_type": "raw",
   "id": "539da4dc-b67c-4305-b1ac-cbd18e3b57d8",
   "metadata": {
    "slideshow": {
     "slide_type": "subslide"
    },
    "tags": []
   },
   "source": [
    "<div class='diapo'>\n",
    "    <div class='alternativa'>\n",
    "        <div class='alternativa_header'>\n",
    "        Mecánica de fluidos\n",
    "        </div>\n",
    "        <div class='alternativa_body'>\n",
    "         La <b>mecánica de fluidos</b> es una rama de la física que estudia el comportamiento de los fluidos en movimiento <b>(dinámica de fluidos)</b> o en reposo <b>(estática\n",
    "de fluidos)</b>.\n",
    "        </div>\n",
    "        \n",
    "        <!--- Agregar imagenes --->\n",
    "    </div>\n",
    "</div>\n",
    "        "
   ]
  },
  {
   "cell_type": "markdown",
   "id": "e79687da-0dad-44c1-a876-7061ee8c1e68",
   "metadata": {
    "slideshow": {
     "slide_type": "skip"
    },
    "tags": []
   },
   "source": [
    "## ¿Por qué estudiar mecánica de fluidos?"
   ]
  },
  {
   "cell_type": "raw",
   "id": "e99d37ec-f0cb-4d13-8bdd-62fc4ae72b2a",
   "metadata": {
    "slideshow": {
     "slide_type": "subslide"
    },
    "tags": []
   },
   "source": [
    "<div class='diapo'>\n",
    "    <div class='alternativa'>\n",
    "        <div class='alternativa_header'>\n",
    "            ¿Por qué estudiar mecánica de fluidos?\n",
    "        </div>\n",
    "</div>"
   ]
  },
  {
   "cell_type": "markdown",
   "id": "0f96963a-eda2-4779-939e-ea0d8a98133e",
   "metadata": {
    "slideshow": {
     "slide_type": "skip"
    },
    "tags": []
   },
   "source": [
    "### Aplicación"
   ]
  },
  {
   "cell_type": "raw",
   "id": "3de8b611-5465-45c2-875a-7a0515d815c6",
   "metadata": {
    "slideshow": {
     "slide_type": "subslide"
    },
    "tags": []
   },
   "source": [
    "<div class='diapo'>\n",
    "    <div class='base'>\n",
    "        <div class='base header'>\n",
    "            Aplicación\n",
    "        </div>\n",
    "        <div class='base body'>\n",
    "                <table style='border:0; pading:0px; font-size:25px ;CELLSPACING:0; width:100%'>\n",
    "            <tr>\n",
    "                <td style=\"text-align: center;width:25%\"> \n",
    "                    Energía <br> \n",
    "                    <center><img src=\"../Figures/Breitenlee-VESTAS-V-52_wind_turbine_looped.gif\" width=100%></center>\n",
    "                </td>\n",
    "                <td width=75%> \n",
    "                    <table style='border:0;font-size:25px'>\n",
    "                        <tr>\n",
    "                            <td> \n",
    "                            <table style='border:0;font-size:25px'>\n",
    "                                <tr>\n",
    "                                    <td style=\"text-align: center;width:50%\">\n",
    "                                         Vehículos <br>\n",
    "                                         <center><img src=\"../Figures/lasrWing.gif\" width=100%></center>\n",
    "                                    </td>\n",
    "                                    <td style=\"text-align: center;width:50%\">\n",
    "                                        Flujos biológicos <br>\n",
    "                                         <center><img src=\"../Figures/red-blood-cells-national-geographic.gif\" width=100%></center>\n",
    "                                    </td>\n",
    "                                </tr>\n",
    "                            </table>\n",
    "                            </td>\n",
    "                        </tr>\n",
    "                        <tr>\n",
    "                            <td>\n",
    "                            <table style='border:0; font-size:25px'>\n",
    "                                <tr>\n",
    "                                    <td style=\"text-align: center;width:50%\">\n",
    "                                         Industria <br>\n",
    "                                         <center><img src=\"../Figures/pipe.gif\" width=100%></center>\n",
    "                                    </td>\n",
    "                                    <td style=\"text-align: center;width:50%\">\n",
    "                                        Medio ambiente <br>\n",
    "                                         <center><img src=\"../Figures/a9a453acc8b47fae484483838330a2d7.gif\" width=100%></center>\n",
    "                                    </td>\n",
    "                                </tr>\n",
    "                            </table>\n",
    "                            </td>\n",
    "                        </tr>\n",
    "                    </table>\n",
    "                </td>\n",
    "            </tr>\n",
    "        </table>\n",
    "    \n",
    "        </div>\n",
    "    </div>\n",
    "</div>\n",
    "       \n",
    "           "
   ]
  },
  {
   "cell_type": "markdown",
   "id": "48a9fcd8-cc78-45dd-a355-6d2fbd2afd6b",
   "metadata": {
    "slideshow": {
     "slide_type": "skip"
    },
    "tags": []
   },
   "source": [
    "### Interés académico"
   ]
  },
  {
   "cell_type": "raw",
   "id": "47ea25f1-937a-428f-af77-7c61df397f05",
   "metadata": {
    "slideshow": {
     "slide_type": "subslide"
    },
    "tags": []
   },
   "source": [
    "<div class='diapo'>\n",
    "    <div class='base'>\n",
    "        <div class='base header'>\n",
    "            Interés académico\n",
    "        </div>\n",
    "        <div class='base body'>\n",
    "            <center>\n",
    "                <iframe width=\"560\" height=\"315\" src=\"https://www.youtube.com/embed/HZ3eWN_4lmA\" title=\"YouTube video player\" frameborder=\"0\" allow=\"accelerometer; autoplay; clipboard-write; encrypted-media; gyroscope; picture-in-picture\" allowfullscreen>\n",
    "                </iframe>\n",
    "            </center>\n",
    "            <p>\n",
    "                <a href=http://courses.washington.edu/me431/handouts/Album-Fluid-Motion-Van-Dyke.pdfT>An album of fluid motion (Milton Van Dyke, 1982)</a>\n",
    "            </p>\n",
    "            <p>\n",
    "                <a href=https://gfm.aps.org/>Gallery of fluid motion (APS-DFD)</a>\n",
    "            </p>\n",
    "        </div>\n",
    "    </div>\n",
    "</div>        "
   ]
  },
  {
   "cell_type": "markdown",
   "id": "77c1c889-e955-43ee-ad17-44eeec1dcd6d",
   "metadata": {
    "slideshow": {
     "slide_type": "skip"
    },
    "tags": []
   },
   "source": [
    "## ¿Qué es un fluido?"
   ]
  },
  {
   "cell_type": "raw",
   "id": "b883b39b-4740-4080-871a-58bd3645283c",
   "metadata": {
    "slideshow": {
     "slide_type": "subslide"
    },
    "tags": []
   },
   "source": [
    "<div class='diapo'>\n",
    "    <div class='alternativa'>\n",
    "        <div class='alternativa_header'>\n",
    "            ¿Qué es un fluido?\n",
    "        </div>\n",
    "        <div class='alternativa_body'>"
   ]
  },
  {
   "cell_type": "raw",
   "id": "1f01daa2-dbe7-4714-9878-ac6ee6b7c459",
   "metadata": {
    "slideshow": {
     "slide_type": "fragment"
    },
    "tags": []
   },
   "source": [
    "            <p style='text-align:justify;\n",
    "                      font-size:25px'>\n",
    "                <b>Definición intuitiva:</b> Un fluido es todo aquello que es capaz de fluir. \n",
    "            </p>"
   ]
  },
  {
   "cell_type": "raw",
   "id": "b2428981-19a2-464c-9254-ea8a723e33fe",
   "metadata": {
    "slideshow": {
     "slide_type": "fragment"
    },
    "tags": []
   },
   "source": [
    "            <p style='text-align:justify;\n",
    "                      font-size:25px'>\n",
    "                <b>Definición técnica:</b> Un fluido corresponde a una sustancia que se deforma <b>continuamente</b> al ser sometida a un <b>esfuerzo cortante</b> (tangencial), <span style='color:red'><b>sin importar la magnitud del esfuerzo.</b></span>\n",
    "                \n",
    "                <!--- Agregar gif esfuerzo de corte --->\n",
    "            </p>\n",
    "        </div>\n",
    "    </div>\n",
    "</div>"
   ]
  },
  {
   "cell_type": "markdown",
   "id": "01673324-b78e-474a-9f2d-de50e09b5b24",
   "metadata": {
    "slideshow": {
     "slide_type": "skip"
    },
    "tags": []
   },
   "source": [
    "## ¿Qué tipos de fluidos existen?"
   ]
  },
  {
   "cell_type": "raw",
   "id": "9500162f-2773-4a56-99e6-a34e61da5119",
   "metadata": {
    "slideshow": {
     "slide_type": "subslide"
    },
    "tags": []
   },
   "source": [
    "<div class='diapo'>\n",
    "    <div class='base'>\n",
    "        <div class='base header'>\n",
    "            ¿Qué tipos de fluidos existen?\n",
    "        </div>\n",
    "        <div class='base body'>\n",
    "        <center>\n",
    "            <table style='width:100%; font-size:25px'>\n",
    "                <tr style='border:0px solid white;padding:20px;font-size:30px'>\n",
    "                    <td style='background-color:rgba(256,0,0,0.2); border:0px solid black; width:50%;padding:20px'>\n",
    "                        <center><b>Líquidos</b></center>\n",
    "                    </td>\n",
    "                    <td style='background-color:rgba(0,0,256,0.2); border:0px solid black; width:50%;padding:20px'>\n",
    "                        <center><b>Gases</b></center>\n",
    "                    </td>\n",
    "                </tr>\n",
    "                <tr style='border:0px solid black'>\n",
    "                    <td style='background-color:rgba(256,0,0,0.2); border:0px solid black; width:50%;padding:20px;padding-bottom:2px;'>\n",
    "                        <ul style=\"font-size:25px;text-align:justify;margin-left:0px\">\n",
    "                            <li>Fuerzas cohesivas fuertes entre partículas</li>\n",
    "                            <li>Volumen definido</li>\n",
    "                            <li>Sin forma fija</li>\n",
    "                            <li>Tiende a formar superficies libres en un campo gravitacional.</li>\n",
    "                        </ul>\n",
    "                    </td>\n",
    "                    <td style='background-color:rgba(0,0,256,0.2); border:0px solid black; width:50%;padding:20px;padding-bottom:2px;'>\n",
    "                        <ul style=\"font-size:25px;text-align:justify;margin-left:0px\">\n",
    "                                    <li>Fuerzas cohesivas débiles entre partículas</li>\n",
    "                                    <li>Tiende a expandir</li>\n",
    "                                <ul>\n",
    "                                    <li> Volumen no definido</li>\n",
    "                                    <li>Sin forma fija</li>\n",
    "                                </ul>\n",
    "                            <li>No forma superficies libres </li>\n",
    "                        </ul>\n",
    "                    </td>\n",
    "                </tr>\n",
    "                <tr style='border:0px solid black;margin-top:-20px'>\n",
    "                    <td style='background-color:rgba(256,0,0,0.2); border:0px solid black; width:50%;padding:20px;padding-bottom:2px;;padding-top:2px;'>\n",
    "                        <center> <img src=\"../Figures/water-flow.gif\" width=100%> </center>\n",
    "                    </td>\n",
    "                    <td style='background-color:rgba(0,0,256,0.2); border:0px solid black; width:50%;padding:20px;padding-bottom:2px;;padding-top:2px;'>\n",
    "                        <center> <img src=\"../Figures/smoke.avif\" width=70%> </center>\n",
    "                    </td>\n",
    "                </tr>\n",
    "            </table>\n",
    "            \n",
    "            \n",
    "            <!--- Agregar imagenes de líquido/gas --->\n",
    "        </div>\n",
    "    </div>        \n",
    "</div>\n",
    "        \n",
    "                \n",
    "        "
   ]
  },
  {
   "cell_type": "markdown",
   "id": "ee93a3a7-d43f-474e-be2f-5d454cb058a1",
   "metadata": {
    "slideshow": {
     "slide_type": "skip"
    },
    "tags": []
   },
   "source": [
    "## ¿Qué es un medio continuo?"
   ]
  },
  {
   "cell_type": "raw",
   "id": "8287c62f-2076-4d9e-8f95-c66444baf155",
   "metadata": {
    "slideshow": {
     "slide_type": "subslide"
    },
    "tags": []
   },
   "source": [
    "<div class='diapo'>\n",
    "    <div class='base'>\n",
    "        <div class='base header'>\n",
    "            ¿Qué es un medio continuo?\n",
    "        </div>\n",
    "        <div class='base body'>\n",
    "        \n",
    "        "
   ]
  },
  {
   "cell_type": "raw",
   "id": "8356a196-0851-4aef-a7de-d4f5a822cf47",
   "metadata": {
    "slideshow": {
     "slide_type": "fragment"
    },
    "tags": []
   },
   "source": [
    "        <p>\n",
    "            <b>Medio continuo:</b> porción de materia formada por un conjunto infinito de partículas <b>$\\Rightarrow$ No existe espacio entre partículas</b>\n",
    "        </p>\n",
    "\n",
    "\n"
   ]
  },
  {
   "cell_type": "raw",
   "id": "07aed7a7-89db-4dd1-ac8a-2006e369fa32",
   "metadata": {
    "slideshow": {
     "slide_type": "fragment"
    },
    "tags": []
   },
   "source": [
    "            <ul style='margin-top:-0px'>\n",
    "                <li>  Al emplear la aproximación de medio continuo, <b>no se considera la naturaleza discreta de la materia</b>.\n",
    "                </li>\n",
    "            </ul>"
   ]
  },
  {
   "cell_type": "raw",
   "id": "472fc0cc-d5c8-4973-b351-c6cb1cdec0ca",
   "metadata": {
    "slideshow": {
     "slide_type": "fragment"
    },
    "tags": []
   },
   "source": [
    "            <ul style='margin-top:-0px'>\n",
    "                <li>\n",
    "                     Las propiedades de un medio continuo <b>varian continuamente en el espacio y el tiempo.</b> \n",
    "                </li>    \n",
    "            </ul>\n",
    "\n"
   ]
  },
  {
   "cell_type": "raw",
   "id": "21616ca3-b507-4575-b2e2-0ab239b7cd16",
   "metadata": {
    "slideshow": {
     "slide_type": "fragment"
    },
    "tags": []
   },
   "source": [
    "             <ul>\n",
    "                <li>\n",
    "                        El concepto de medio continuo es suficientemente preciso para casos en los que la <b>longitud significativa del problema es ordenes de magnitud más grande que la trayectoria libre media de las partículas <span style='color:red'>(lo cual ocurre para la gran mayoria de sistemas a los cuales se enfrenta la ingeniería)</span>.</b>\n",
    "                </li>\n",
    "            </ul>\n",
    "           "
   ]
  },
  {
   "cell_type": "raw",
   "id": "8c4f4c10-e2c6-4384-aed4-7a28a5bfc7ee",
   "metadata": {
    "slideshow": {
     "slide_type": "fragment"
    },
    "tags": []
   },
   "source": [
    "            <div class='comment_box' style='margin-top:15px'>\n",
    "                A lo largo de este curso, <b>modelaremos</b> exclusivamente los fluidos como medios continuos. Esto nos permitirá realizar importantes simplificaciones, que veremos más adelante.\n",
    "            </div>\n",
    "        </div>\n",
    "    </div>\n",
    "</div>"
   ]
  },
  {
   "cell_type": "markdown",
   "id": "b226351e-18ad-4a1b-b0d4-8f1368c4cd86",
   "metadata": {
    "slideshow": {
     "slide_type": "notes"
    },
    "tags": []
   },
   "source": [
    "### Ejemplo de continuos y discontinuos\n",
    " Ejemplos de \"discontinuos\"  Números naturales. Entre 1 y 5 hay tres números: 2,3,4 (contables). En esta definición no existe nada entre dos enteros (entonces al movernos por estos números vamos a observar \"saltos\", es decir, cambios discretos).\n",
    " Ejemplos de continuos: Números reales. Entre 1 y 5 hay infinitos números (1.01,1.5,3.5 ...). A medida que hacemos un zoom entre dos números, nos encontraremos siempre con más números.\n",
    " "
   ]
  },
  {
   "cell_type": "markdown",
   "id": "17291947-7ca6-40db-b30e-cf852dc35013",
   "metadata": {
    "slideshow": {
     "slide_type": "skip"
    },
    "tags": []
   },
   "source": [
    "## (Eliminada) Fluidos a nivel nanoscópico: ¿cuando deja de ser válida la aproximación de medio continuo? "
   ]
  },
  {
   "cell_type": "raw",
   "id": "070e82eb-02df-4687-9427-3a661659ddc0",
   "metadata": {
    "slideshow": {
     "slide_type": "skip"
    },
    "tags": []
   },
   "source": [
    "<div class='diapo'>\n",
    "    <div class='base'>\n",
    "        <div class='base header'>\n",
    "            Fluidos a nivel nanoscópico: ¿cuando deja de ser válida la aproximación de medio continuo?\n",
    "        </div>\n",
    "        <div class='base body'>       \n",
    "            <table style='font-size:25px'>\n",
    "                <tr>\n",
    "                    <td style='width:60%'>\n",
    "                        <center>\n",
    "                            <video width=\"100%\" controls>\n",
    "                                <source src=\"../Figures/water.mov\" type=\"video/mp4\">\n",
    "                            </video>\n",
    "                        </center>\n",
    "                    </td>\n",
    "                    <td style='width:40%;text-align:justify'> \n",
    "                        <b>Simulación de dinámica molecular</b> $\\Leftarrow$ el fluido se modela como un medio discontinuo.\n",
    "                        <ul style='text-align:justify; margin-left:0px;margin-top:5px'>\n",
    "                            <li>Inicialmente a $T=300\\,\\text{K}$ y $p=1\\,\\text{bar}$</li>\n",
    "                            <li>Posteriormente se calienta a $700\\,\\text{K}$ (alrededor del segundo 44) </li>\n",
    "                        </ul>\n",
    "                    </td>\n",
    "                    \n",
    "                </tr>\n",
    "            </table>\n",
    "        </div>\n",
    "    </div>\n",
    "</div>"
   ]
  },
  {
   "cell_type": "markdown",
   "id": "89b40f08-628d-4219-916a-326413721281",
   "metadata": {
    "slideshow": {
     "slide_type": "skip"
    },
    "tags": []
   },
   "source": [
    "# Propiedades de los fluidos\n"
   ]
  },
  {
   "cell_type": "raw",
   "id": "ddceb8d6-059b-4ce7-a9b0-2873179867b3",
   "metadata": {
    "slideshow": {
     "slide_type": "slide"
    },
    "tags": []
   },
   "source": [
    "<div class='diapo'>\n",
    "    <div class='titulo'>\n",
    "             Propiedades de los fluidos\n",
    "    </div>\n",
    "</div>"
   ]
  },
  {
   "cell_type": "markdown",
   "id": "cfadc402-b2dc-402e-ab7b-c42afa2c0d3d",
   "metadata": {
    "slideshow": {
     "slide_type": "skip"
    },
    "tags": []
   },
   "source": [
    "## Propiedades intensivas y extensivas"
   ]
  },
  {
   "cell_type": "raw",
   "id": "fd74028b-b340-4445-aceb-2eaefb40d5c7",
   "metadata": {
    "slideshow": {
     "slide_type": "subslide"
    },
    "tags": []
   },
   "source": [
    "<div class='diapo'>\n",
    "    <div class='alternativa'>\n",
    "        <div class='alternativa_header'>\n",
    "            Propiedades intensivas y extensivas\n",
    "        </div>\n",
    "        <div class='alternativa_body'>\n",
    "\n",
    "            <table style='font-size:25px;text-align:center;border:1;width:100%'>\n",
    "                <tr style='text-align:center'>\n",
    "                    <th style='width:45%;text-align:center;background-color: rgba(256,0,0,0.2)'>\n",
    "                        Intensivas\n",
    "                    </th>\n",
    "                    <th style='width:45%;text-align:center;background-color:rgba(0,0,256,0.2)'>\n",
    "                        Extensivas\n",
    "                    </th>\n",
    "                </tr>\n",
    "                <tr>\n",
    "                    <td style='background-color: rgba(256,0,0,0.2);text-align:center'>\n",
    "                        <b>No</b> dependen de la cantidad de materia\n",
    "                    </td>\n",
    "                    <td style='background-color:rgba(0,0,256,0.2);text-align:center'>\n",
    "                        Dependen de la cantidad de materia\n",
    "                    </td>\n",
    "                <tr>\n",
    "                    <td style='background-color: rgba(256,0,0,0.2)'>\n",
    "                        <ul>\n",
    "                            <li>Temperatura\n",
    "                            <li>Presión\n",
    "                            <li>Calor específico\n",
    "                            <li>Densidad y volumen específico\n",
    "                        </ul>\n",
    "                    </td>\n",
    "                    <td style='background-color:rgba(0,0,256,0.2)'>\n",
    "                        <ul>\n",
    "                            <li>Peso\n",
    "                            <li>Volumen\n",
    "                            <li>Masa\n",
    "                            <li>Fuerza\n",
    "                        </ul>\n",
    "                    </td>\n",
    "                </tr>\n",
    "            </table>\n",
    "            <!--- Agregar algún comentario sobre la importancia de esta distinción --->\n",
    "        </div>\n",
    "    </div>\n",
    "</div>"
   ]
  },
  {
   "cell_type": "markdown",
   "id": "56606320-d094-49a5-8ad1-bdcf2fbb07d7",
   "metadata": {
    "slideshow": {
     "slide_type": "skip"
    },
    "tags": []
   },
   "source": [
    "## Presión"
   ]
  },
  {
   "cell_type": "raw",
   "id": "2b6d7f86-88ff-46c4-997d-dd9858db0cb0",
   "metadata": {
    "slideshow": {
     "slide_type": "slide"
    },
    "tags": []
   },
   "source": [
    "<div class='diapo'>\n",
    "    <div class='alternativa'>\n",
    "        <div class='alternativa_header'>\n",
    "            Presión\n",
    "        </div>\n",
    "        <div class='alternativa_body'>\n",
    "            La presión ($p$) se define como una <b>fuerza compresiva normal por unidad de área</b> que actúa sobre un fluido. Esta corresponde a la propiedad más dinámica (y una de las más importantes) en mecánica de fluidos, por lo que haremos un análisis más detallado de esta propiedad en capítulos futuros.       \n",
    "           <table style='width:100%;font-size:25px'>\n",
    "                <tr>\n",
    "                    <td style='width:60%'>     \n",
    "                        <p>\n",
    "                            La presión tiene unidades de medida:\n",
    "                        </p>\n",
    "\n",
    "                        <ul style=\"font-size:25px; text-align:justify\">\n",
    "                            <li> SI: \n",
    "                                <ul style=\"font-size:22px; text-align:justify\">\n",
    "                                    <li>\n",
    "                                        Pascales (Pa): $1 \\text{Pa} = 1  \\frac{\\text{N}}{m^2}$ \n",
    "                                    </li>\n",
    "                                </ul>\n",
    "                                <li> BG:\n",
    "                                    <ul style=\"font-size:22px; text-align:justify\">\n",
    "                                        <li> \n",
    "                                            pound per square inch (psi): $1\\text{ psi } = 1 \\frac{\\text{lbf}}{\\text{in}^2}$\n",
    "                                        </li>\n",
    "                                        <li> \n",
    "                                            pound per square foot (psf): $1\\text{ psf } = 1 \\frac{\\text{lbf}}{\\text{ft}^2}$ \n",
    "                                        </li>\n",
    "                                    </ul>\n",
    "                                <li>\n",
    "                                    Otras unidades importantes: atm, bar, mmhg\n",
    "                                </li>\n",
    "                        </ul>\n",
    "                    </td>\n",
    "                    <td>\n",
    "                        <div class='units_box' > \n",
    "                            <p>\n",
    "                                <b> Conversión de unidades de medida de la presión:</b>\n",
    "                            </p>\n",
    "                            <p>\n",
    "                                $$\n",
    "                                \\begin{aligned}\n",
    "                                1 \\,\\mathrm{~atm}&=101.325\\, \\mathrm{kPa} \\\\\n",
    "                                                 &=1.01325\\, \\mathrm{bar} \\\\\n",
    "                                                 & =760 \\,\\mathrm{mmHg} \\\\\n",
    "                                                 & =14.6959\\, \\mathrm{psi} \\\\\n",
    "                                                 & =2116.22 \\,\\mathrm{psf}\n",
    "                                \\end{aligned}\n",
    "                                $$\n",
    "                                \n",
    "                            </p>\n",
    "\n",
    "                        </div>\n",
    "                    </td>\n",
    "                </tr>\n",
    "            </table>\n",
    "        </div>\n",
    "    </div>\n",
    "</div>"
   ]
  },
  {
   "cell_type": "markdown",
   "id": "1bc5dec4-75b9-462c-bc13-b288d08516f1",
   "metadata": {
    "slideshow": {
     "slide_type": "skip"
    },
    "tags": []
   },
   "source": [
    "### (Eliminada) Unidades de medida"
   ]
  },
  {
   "cell_type": "raw",
   "id": "a432abb6-9233-41f7-bc76-026159174156",
   "metadata": {
    "slideshow": {
     "slide_type": "skip"
    },
    "tags": []
   },
   "source": [
    "<div class='diapo'>\n",
    "    <div class='base'>\n",
    "        <div class='base header'>\n",
    "            Unidades de medida\n",
    "        </div>\n",
    "        <div class='base body'>\n",
    "            <table style='width:100%;font-size:25px'>\n",
    "                <tr>\n",
    "                    <td style='width:60%;margin-left:0px'>     \n",
    "                        <p style='margin-left:0px'>\n",
    "                            La presión tiene unidades:\n",
    "                        </p>\n",
    "\n",
    "                        <ul style=\"font-size:25px; text-align:justify\">\n",
    "                            <li> SI: \n",
    "                                <ul style=\"font-size:22px; text-align:justify\">\n",
    "                                    <li>\n",
    "                                        Pascales (Pa): $1 \\text{Pa} = 1  \\frac{\\text{N}}{m^2}$ \n",
    "                                    </li>\n",
    "                                </ul>\n",
    "                                <li> BG:\n",
    "                                    <ul style=\"font-size:22px; text-align:justify\">\n",
    "                                        <li> \n",
    "                                            pound per square inch (psi): $1\\text{ psi } = 1 \\frac{\\text{lbf}}{\\text{in}^2}$\n",
    "                                        </li>\n",
    "                                        <li> \n",
    "                                            pound per square foot (psf): $1\\text{ psf } = 1 \\frac{\\text{lbf}}{\\text{ft}^2}$ \n",
    "                                        </li>\n",
    "                                    </ul>\n",
    "                                <li>\n",
    "                                    Otras unidades importantes: atm, bar, mmhg\n",
    "                                </li>\n",
    "                        </ul>\n",
    "                    </td>\n",
    "                    <td>\n",
    "                        <div class='units_box' > \n",
    "                            <p>\n",
    "                                <b> Conversión de unidades de medida de la presión:</b>\n",
    "                            </p>\n",
    "                            <p>\n",
    "                                $$\n",
    "                                \\begin{aligned}\n",
    "                                1 \\,\\mathrm{~atm}&=101.325\\, \\mathrm{kPa} \\\\\n",
    "                                                 &=1.01325\\, \\mathrm{bar} \\\\\n",
    "                                                 & =760 \\,\\mathrm{mmHg} \\\\\n",
    "                                                 & =14.6959\\, \\mathrm{psi} \\\\\n",
    "                                                 & =2116.22 \\,\\mathrm{psf}\n",
    "                                \\end{aligned}\n",
    "                                $$\n",
    "                                \n",
    "                            </p>\n",
    "\n",
    "                        </div>\n",
    "                    </td>\n",
    "                </tr>\n",
    "            </table>\n",
    "        </div>\n",
    "    </div>\n",
    "</div>"
   ]
  },
  {
   "cell_type": "markdown",
   "id": "347430d9-9d77-4c86-bf54-5ca6d3bee228",
   "metadata": {
    "slideshow": {
     "slide_type": "skip"
    },
    "tags": []
   },
   "source": [
    "### Presiones absolutas y relativas"
   ]
  },
  {
   "cell_type": "raw",
   "id": "ff284df7-9bb4-4549-a00a-f2b8bbe97c32",
   "metadata": {
    "slideshow": {
     "slide_type": "subslide"
    },
    "tags": []
   },
   "source": [
    "<div class='diapo'>\n",
    "    <div class='base'>\n",
    "        <div class='base header'>\n",
    "            Presiones absolutas y relativas\n",
    "        </div>\n",
    "        <div class='base body'>\n",
    "            <p>\n",
    "            La magnitud de la presión puede estar definida como una magnitud total <b>(presión absoluta)</b> o como una magnitud relativa <b>(presión relativa)</b>:\n",
    "            </p>\n",
    "            <table style=\"font-size:25px; \n",
    "                          width:100%;\n",
    "                          \">\n",
    "                <tr style=\"border:none\">\n",
    "                    <td style=\"width:50%;\n",
    "                               font-size:30px;\n",
    "                               text-align:justify;\n",
    "                               background-color:rgba(256,0,0,0.2);\n",
    "                               border:none;\">\n",
    "                        <center><b> Presión absoluta </b></center>\n",
    "                    </td>\n",
    "                    <td style=\"width:50%;\n",
    "                               font-size:30px;\n",
    "                               text-align:justify;\n",
    "                               background-color:rgba(0,0,256,0.2);\n",
    "                               border:none;\">\n",
    "                        <center><b> Presión relativa </b></center>\n",
    "                    </td>\n",
    "                </tr>\n",
    "                <tr style=\"border:none;vertical-align:top\" >\n",
    "                    <td style=\"width:50%;\n",
    "                               font-size:25px;\n",
    "                               text-align:justify;\n",
    "                               background-color:rgba(256,0,0,0.2);\n",
    "                               border:none;\">\n",
    "                        <ul style='text-align:justify;margin-left:0px'> \n",
    "                            <li> Magnitud <b>total</b> de la presión\n",
    "                                <ul> \n",
    "                                    <li> Se mide con respecto al vacío absoluto </li>\n",
    "                                </ul>\n",
    "                            </li>\n",
    "                            <li>\n",
    "                                Siempre toma valores mayores o iguales a cero \n",
    "                                <ul> \n",
    "                                    <li> $p_{abs} = 0$ si existe vacío absoluto </li>\n",
    "                                </ul>\n",
    "                            </li>\n",
    "                        </ul>\n",
    "                    </td>\n",
    "                    <td style=\"width:50%;\n",
    "                               font-size:25px;\n",
    "                               text-align:justify;\n",
    "                               background-color:rgba(0,0,256,0.2);\n",
    "                               border:none;\">\n",
    "                        <ul style='text-align:justify;margin-left:0px'> \n",
    "                            <li>\n",
    "                                Se mide con respecto a una presión de referencia (generalmente distinta al vacío absoluto)\n",
    "                            </li>\n",
    "                            <li>\n",
    "                                Puede tomar valores menores a cero \n",
    "                                <ul>\n",
    "                                    <li>\n",
    "                                        El signo dependerá si la presión medida es mayor o menor que la presión de referencia\n",
    "                                    </li>\n",
    "                                </ul>\n",
    "                            </li>\n",
    "                        </ul>\n",
    "                    </td>\n",
    "                </tr>\n",
    "            </table>\n",
    "            <div class='comment_box' style='margin-top:20px'>\n",
    "                <b>Al trabajar con relaciones de estado (relaciones termodinámicas, como por ejemplo la ley de los gases ideales) siempre deberemos utilizar <u>presiones absolutas</u>.\n",
    "                </b>\n",
    "            </div>\n",
    "\n",
    "        </div>\n",
    "    </div>\n",
    "</div>"
   ]
  },
  {
   "cell_type": "markdown",
   "id": "639f44d4-973b-4ae3-988f-69140a73f3ec",
   "metadata": {
    "slideshow": {
     "slide_type": "skip"
    },
    "tags": []
   },
   "source": [
    "### Tipos de presiones relativas"
   ]
  },
  {
   "cell_type": "raw",
   "id": "ba7dc2ff-0a46-4f76-b824-97c31a93415c",
   "metadata": {
    "slideshow": {
     "slide_type": "subslide"
    },
    "tags": []
   },
   "source": [
    "<div class='diapo'>\n",
    "    <div class='base'>\n",
    "        <div class='base header'>\n",
    "            Tipos de presiones relativas\n",
    "        </div>\n",
    "        <div class='base body'>\n",
    "            <table style=\"font-size:25px; \n",
    "                          width:100%;\n",
    "                          \">\n",
    "                <tr style=\"border:none\">\n",
    "                    <td style=\"width:50%;\n",
    "                               font-size:30px;\n",
    "                               text-align:justify;\n",
    "                               background-color:rgba(256,0,0,0.2);\n",
    "                               border:none;\">\n",
    "                        <center> <b>Presión manométrica</b></center>\n",
    "                    </td>\n",
    "                    <td style=\"width:50%;\n",
    "                               font-size:30px;\n",
    "                               text-align:justify;\n",
    "                               background-color:rgba(0,0,256,0.2);\n",
    "                               border:none;\">\n",
    "                        <center><b>Presión de vacío</b></center>\n",
    "                    </td>\n",
    "                </tr>\n",
    "                <tr style=\"border:none;vertical-align:top\" >\n",
    "                    <td style=\"width:50%;\n",
    "                               font-size:25px;\n",
    "                               text-align:justify;\n",
    "                               background-color:rgba(256,0,0,0.2);\n",
    "                               border:none;\">\n",
    "                        <ul style='text-align:justify;margin-left:0px'> \n",
    "                            <li>\n",
    "                                Se utiliza mayormente en los casos en que la presión (absoluta) medida sea <b>mayor</b> que la presión de referencia\n",
    "                            </li>\n",
    "                            <li>\n",
    "                                Se define en base a la siguiente relación:\n",
    "                                $$p_{man}=p-p_{atm}$$\n",
    "                            </li>\n",
    "                        </ul>\n",
    "                    </td>\n",
    "                    <td style=\"width:50%;\n",
    "                               font-size:25px;\n",
    "                               text-align:justify;\n",
    "                               background-color:rgba(0,0,256,0.2);\n",
    "                               border:none;\">\n",
    "                        <ul style='text-align:justify;margin-left:0px'> \n",
    "                            <li>\n",
    "                                Se utiliza mayormente en los casos en que la presión (absoluta) medida sea <b>menor</b> que la presión de referencia\n",
    "                            </li>\n",
    "                            <li>\n",
    "                                Se define en base a la siguiente relación:\n",
    "                                $$p_{vac}=p_{atm}-p$$\n",
    "                            </li>\n",
    "                        </ul>\n",
    "                    </td>\n",
    "                </tr>\n",
    "            </table>\n",
    "            <div class='comment_box'>\n",
    "                $p$ representa la presión absoluta a la cual se encuentra el sistema ($p=0$ si existe vacío absoluto).\n",
    "                <p>\n",
    "                Por lo general, utilizaremos como presión de referencia la presión atmosférica $p_{atm}$ <span style='font-style:italic'>(¡la cual varía constantemente!)</span>. En caso de no conocer el valor exacto de esta presión, podemos utilizar el valor estandar:  $p_{atm}=101.3\\,\\text{kPa}$.\n",
    "                </p>\n",
    "            </div>\n",
    "        </div>\n",
    "    </div>\n",
    "</div>"
   ]
  },
  {
   "cell_type": "markdown",
   "id": "953a548d-7aba-45c5-9c29-7c67fb244aa8",
   "metadata": {
    "slideshow": {
     "slide_type": "skip"
    },
    "tags": []
   },
   "source": [
    "## Presión de vapor"
   ]
  },
  {
   "cell_type": "raw",
   "id": "627b04e1-ae21-44c2-9513-51e73a04c4a7",
   "metadata": {
    "slideshow": {
     "slide_type": "subslide"
    },
    "tags": []
   },
   "source": [
    "<div class='diapo'>\n",
    "    <div class='base'>\n",
    "        <div class='base header'>\n",
    "            Presión de vapor\n",
    "        </div>\n",
    "        <div class='base body'>\n",
    "            <p>\n",
    "                La presión de vapor ($p_v$) corresponde a la <b>presión a la que un líquido ebulle y alcanza el equilibrio con su vapor</b> a una temperatura establecida.   <b><span style='color:red'> Notar que la presión de vapor siempre se define como una presión absoluta. </span> </b>\n",
    "            </p>\n",
    "\n",
    "            <ul style=\"text-align:justify;\n",
    "                      font-size:25px;\n",
    "                      \">\n",
    "                <li>\n",
    "                    Si la presión de un líquido es mayor que la presión de vapor $(p>p_v)$ solo hay intercambio de materia entre líquido y vapor en su interface.\n",
    "                </li> \n",
    "                <li>\n",
    "                    Si $ p < p_v $ se generan burbujas en el seno del líquido. Dicho de otra forma, el líquido cambiaría de fase (ebulle). \n",
    "                </li>\n",
    "            </ul>\n",
    "            <p>\n",
    "              \n",
    "            </p>\n",
    "            <div class='comment_box' style='padding:0px'>\n",
    "               <table style='font-size:25px'>\n",
    "                   <tr>\n",
    "                       <td style=\"width:65;text-align:justify\">\n",
    "                           <b>En régimen de flujo la presión del líquido puede tomar valores menores a la presión de vapor del líquido.</b> Entonces, se generarán burbujas en el líquido, las cuales pueden producir daños en equipos o conductos debido a los fuertes cambios de volumen asociados a su formación y colapso. Este fenómeno se conoce como <b>cavitación</b> y (dentro de lo posible) <span style=\"color:red\"><b>buscaremos evitarlo</b></span>. \n",
    "                       </td>\n",
    "                        <td style=\"width:30%\">\n",
    "                            <center>\n",
    "                                <img src=../Figures/Cavitation_Propeller_Damage.jpg alt=\"https://upload.wikimedia.org/wikipedia/commons/e/e6/Cavitation_Propeller_Damage.JPG\" width=100%>\n",
    "                            </center>\n",
    "                            <center>\n",
    "                                <figcaption style=\"font-size:22px\">\n",
    "                                    Una hélice de embarcación erocionada por cavitación \n",
    "                                </figcaption>\n",
    "                            </center>\n",
    "                        </td> \n",
    "                   </tr>\n",
    "               </table>\n",
    "            </div>\n",
    "        </div>\n",
    "    </div>\n",
    "</div>"
   ]
  },
  {
   "cell_type": "markdown",
   "id": "3fc5be63-7d4d-479b-8664-6ff1d1806cc3",
   "metadata": {
    "slideshow": {
     "slide_type": "skip"
    },
    "tags": []
   },
   "source": [
    "## Densidad, peso específico y gravedad específica"
   ]
  },
  {
   "cell_type": "raw",
   "id": "3771a56f-75a3-45cf-a161-f3597f70346c",
   "metadata": {
    "slideshow": {
     "slide_type": "slide"
    },
    "tags": []
   },
   "source": [
    "<div class='diapo'>\n",
    "    <div class='titulo'>\n",
    "\n",
    "\n",
    "            Densidad, peso específico y gravedad específica\n",
    "\n",
    "    </div>\n",
    "</div>"
   ]
  },
  {
   "cell_type": "markdown",
   "id": "f49107f4-d961-450b-a0c9-7e9ab2f2b1b9",
   "metadata": {
    "slideshow": {
     "slide_type": "skip"
    },
    "tags": []
   },
   "source": [
    "### Densidad ($\\rho$)"
   ]
  },
  {
   "cell_type": "raw",
   "id": "1230e5e2-1090-4b58-b3da-9d130fd50e04",
   "metadata": {
    "slideshow": {
     "slide_type": "subslide"
    },
    "tags": []
   },
   "source": [
    "<div class='diapo'>\n",
    "    <div class='base'>\n",
    "        <div class='base header'>\n",
    "            Densidad ($\\rho$)\n",
    "        </div>\n",
    "        <div class='base body'>\n",
    "        \n",
    "            La densidad corresponde a una propiedad intensiva, la cual nos indica la cantidad de masa por unidad de volumen de alguna sustancia:\n",
    "        \n",
    "\n",
    "\n",
    "        $$\\rho=\\frac{\\text { masa }}{\\text { volumen }}=\\frac{m}{\\mathcal{V}}$$\n",
    "        \n",
    "        \n",
    "           <table style='width:100%;font-size:25px'>\n",
    "                <tr style='vertical-align:top; width:100%'>\n",
    "                    <td style='width:50%'>     \n",
    "                        <p>\n",
    "                            La densidad tiene unidades de medida:\n",
    "                        </p>\n",
    "\n",
    "                        <ul style=\"font-size:25px; text-align:justify\">\n",
    "                            <li> SI:\n",
    "                                <ul><li>$\\text{kg}/\\text{m}^3$</li></ul>\n",
    "                                <li> BG:\n",
    "                                    <ul style=\"font-size:22px; text-align:justify\">\n",
    "                                        <li> \n",
    "                                           $\\text{slugs}/\\text{ft}^3$\n",
    "                                        </li>\n",
    "                                        <li> \n",
    "                                           $\\text{lbm}/\\text{ft}^3$\n",
    "                                        </li>\n",
    "                                    </ul>\n",
    "                        </ul>\n",
    "                    </td>\n",
    "                    <td width=5%></td>\n",
    "                    <td width=50%>\n",
    "                        <div class='units_box' > \n",
    "                            <p>\n",
    "                                <b> Densidad de agua líquida (a $4^\\circ\\text{C}$):</b>\n",
    "                            </p>\n",
    "                            <p>\n",
    "                                $$\n",
    "                                \\begin{aligned}\n",
    "                                \\rho_{\\text {agua liquida } @ 4^{\\circ} \\mathrm{C}}&= 1000\\,\\mathrm{kg/m}^3\\\\\n",
    "                                                 &=1 \\,\\mathrm{g/cm}^3 \\\\\n",
    "                                                 & = 16.0185 \\,\\mathrm{lb/ft}^3 \\\\\n",
    "                                                 & = 1.94032 \\,\\mathrm{slug/ft}^3 \\\\\n",
    "                                \\end{aligned}\n",
    "                                $$\n",
    "                                \n",
    "                            </p>\n",
    "\n",
    "                        </div>\n",
    "                    </td>\n",
    "                </tr>\n",
    "            </table>\n",
    "\n",
    "        </div>\n",
    "    </div>\n",
    "</div>"
   ]
  },
  {
   "cell_type": "markdown",
   "id": "bd40863e-b7a6-427f-863e-2658a402e7f7",
   "metadata": {
    "slideshow": {
     "slide_type": "skip"
    },
    "tags": []
   },
   "source": [
    "### Densidad de líquidos y gases"
   ]
  },
  {
   "cell_type": "raw",
   "id": "b490d3c2-cbe0-4d83-8f89-76ca05dde5ff",
   "metadata": {
    "slideshow": {
     "slide_type": "subslide"
    },
    "tags": []
   },
   "source": [
    "<div class='diapo'>\n",
    "    <div class='base'>\n",
    "        <div class='base header'>\n",
    "            Densidad de líquidos y gases  \n",
    "        </div>\n",
    "        \n",
    "        <div class='base body'>\n",
    "            <table style=\"width:100%;\n",
    "                          border:none;\n",
    "                          font-size:25px;\n",
    "                          \">\n",
    "                <tr style\"border:none\">\n",
    "                    <td colspan=2  style='text-align: justify;\n",
    "                                          font-size:25px;\n",
    "                                          border:none;\n",
    "                                          padding:30px;\n",
    "                                          background-color:rgba(244,244,244,0.4);\n",
    "                                          '>\n",
    "                        <b>La densidad de un líquido <u>por lo general</u> será mayor que la de un gas</b> (en especial si se está comparando un líquido y un gas compuestos por los mismos elementos). \n",
    "                    </td>\n",
    "                </tr>\n",
    "                <tr style\"border:none\">\n",
    "                    <td style=\"width:50%;\n",
    "                               border:none;\n",
    "                               text-align:justify;\n",
    "                               background-color:rgba(0,0,255,0.05);\n",
    "                               padding:20px;\n",
    "                               font-size:25px;\n",
    "                               \">\n",
    "                        <b><span style=\"color:blue\"> La densidad de un gas es sensible a los cambios de presión </span></b>(la densidad aumenta con la presión), por lo que estos denominados como <b><span style=\"color:blue\">compresibles</span></b>.\n",
    "                    </td>\n",
    "                    <td style=\"width:50%;\n",
    "                               border:none;\n",
    "                               text-align:justify;\n",
    "                               background-color:rgba(255,0,0,0.05);\n",
    "                               padding:20px;\n",
    "                               font-size:25px;\n",
    "                               \">\n",
    "                        <b><span style=\"color:red\"> En el caso de los líquidos, la densidad es relativamente independiente de la presión</span> </b>(se requiere aplicar presiones muy altas para producir cambios importantes en al densidad de un líquido). Entonces, estos son generalmente denominados como <b><span style=\"color:red\">incompresibles</span>.</b>\n",
    "\n",
    "                    </td>\n",
    "                </tr>\n",
    "                <tr style\"border:none\">\n",
    "                    <td colspan=2  style=\"text-align: justify;\n",
    "                                      font-size:25px;\n",
    "                                      font-align:justify;\n",
    "                                      border:none;\n",
    "                                      padding:30px;\n",
    "                                      background-color:rgba(210,210,210,0.4);\n",
    "                                      \">\n",
    "                        La densidad tanto de gases como de líquidos tiende a <b>disminuir con aumentos de temperatura.</b>\n",
    "                    </td>\n",
    "                </tr>\n",
    "            </table>\n",
    "        </div>\n",
    "    </div>\n",
    "</div>"
   ]
  },
  {
   "cell_type": "markdown",
   "id": "3ca50873-dacf-45ea-91b9-d46efe287056",
   "metadata": {
    "slideshow": {
     "slide_type": "skip"
    },
    "tags": []
   },
   "source": [
    "### Peso específico ($\\gamma$)"
   ]
  },
  {
   "cell_type": "raw",
   "id": "4bf3ab90-ef82-4ead-bc6d-e5cbc5fe7aaa",
   "metadata": {
    "slideshow": {
     "slide_type": "subslide"
    },
    "tags": []
   },
   "source": [
    "<div class='diapo'>\n",
    "    <div class='base'>\n",
    "        <div class='base header'>\n",
    "             Peso específico ($\\gamma$)\n",
    "        </div>\n",
    "        \n",
    "        <div class='base body'>\n",
    "        \n",
    "            <table style='width:100%; font-size:25px;text-align:justify'>\n",
    "                <tr>\n",
    "                    <td style='width:50%'>\n",
    "                    \n",
    "                        <p style='text-align:justify'>\n",
    "                            El peso específico corresponde a una propiedad intensiva que nos entrega el peso de un fluido por unidad de volumen:\n",
    "                        </p>\n",
    "                        <center>\n",
    "                            <div class='equation_box'>\n",
    "                                $$\\gamma=\\rho \\cdot g$$\n",
    "                            </div>\n",
    "                        </center>\n",
    "                        <p style='text-align:justify'>\n",
    "                        Esta propiedad posee unidades de medida (SI): $1 \\frac{\\text{Pa}}{\\text{m}}=1 \\frac{\\text{N}}{\\text{m}^3}$\n",
    "                        </p>\n",
    "                    </td>\n",
    "                    <td style='width:50%'>\n",
    "                        <div class='units_box' style='padding-top:10px; padding-bottom:10px'>\n",
    "                            Para agua líquida a $4^\\circ\\text{C}$: \n",
    "                            $$\n",
    "                            \\begin{aligned} \n",
    "                                \\gamma_{\\text {agua liquida } @ 4^{\\circ} \\mathrm{C}}&=\\rho_{\\text {agua líquida } @ 4^{\\circ} \\mathrm{C}} \\times g\\\\\n",
    "                                &=1000 \\frac{\\mathrm{kg}}{\\mathrm{m}^{3}} \\times 9.81 \\frac{\\mathrm{m}}{\\mathrm{s}^{2}}  \\\\\n",
    "                                &=9.81 \\times 10^{3} \\frac{\\text{Pa}}{\\text{m}} \\\\\n",
    "                                &=9.81 \\frac{\\text{kPa}}{\\text{m}}  \\\\\n",
    "                                &= 9.81 \\frac{\\text{kN}}{\\text{m}^3} \n",
    "                            \\end{aligned}\n",
    "                            $$\n",
    "                        </div>\n",
    "                    </td>\n",
    "                </tr>\n",
    "            </table>\n",
    "\n",
    "        </div>\n",
    "\n",
    "    </div>\n",
    "</div>"
   ]
  },
  {
   "cell_type": "markdown",
   "id": "0879783e-bb03-4e84-806a-eef84d14f69a",
   "metadata": {
    "slideshow": {
     "slide_type": "skip"
    },
    "tags": []
   },
   "source": [
    "### Gravedad específica ($\\text{SG}$)"
   ]
  },
  {
   "cell_type": "raw",
   "id": "6b5aa1a2-fc17-41db-8d0d-09b5c250d65f",
   "metadata": {
    "slideshow": {
     "slide_type": "subslide"
    },
    "tags": []
   },
   "source": [
    "<div class='diapo'>\n",
    "    <div class='base'>\n",
    "        <div class='base header'>\n",
    "             Gravedad específica ($\\text{SG}$)\n",
    "        </div>\n",
    "\n",
    "        <div class='base body'>\n",
    "            <p>\n",
    "                La gravedad específica corresponde a la razón entre la densidad de una sustancia y la densidad de una sustancia de referencia (generalmente agua a $4^\\circ\\text C$):\n",
    "            </p>\n",
    "            <center>\n",
    "                <div class='equation_box'>\n",
    "                    $$\\text{SG}=\\frac{\\rho}{\\rho_{r e f}}$$\n",
    "                </div>\n",
    "            </center>\n",
    "            <p></p>\n",
    "            <center>\n",
    "                <div class='units_box' style='padding-top:10px; padding-bottom:10px; width:90%'>\n",
    "                    En el caso de que la sustancia de referencia corresponde a agua a $4^\\circ\\text C$:\n",
    "\n",
    "                    $$\\text{SG}=\\frac{\\rho}{\\rho_{\\text {agua liquida } @ 4^{\\circ} \\mathrm{C}}}=\\frac{\\rho_{\\text {liq }}}{1000 \\frac{\\mathrm{kg}}{\\mathrm{m}^{3}}}$$\n",
    "                </div>\n",
    "            </center>\n",
    "        </div>\n",
    "    </div>\n",
    "</div>"
   ]
  },
  {
   "cell_type": "raw",
   "id": "6ebc7773-dbe2-4849-9306-48a5ca0977e4",
   "metadata": {
    "slideshow": {
     "slide_type": "subslide"
    },
    "tags": []
   },
   "source": [
    "<div style=\"height:600px; border: 0px solid black\">\n",
    "    \n",
    "    \n",
    "    <div style=\"margin: 0;\n",
    "                position: absolute;\n",
    "                top: 50%;\n",
    "                -ms-transform: translateY(-50%);\n",
    "                transform: translateY(-50%) translateY(0px);\n",
    "                width:100%;\n",
    "                font-size:25px;\n",
    "                \">\n",
    "    <!--- header -->\n",
    "\n",
    "        <p style=\"font-size:55px; \n",
    "                    \">\n",
    "\n",
    "        </p>\n",
    "\n",
    "    <!--- content -->\n",
    "    <center><div>\n",
    "         <div style=\"background-color:rgba(210,210,210,0.1);padding:20px\">\n",
    "            <p style='text-align:justify;\n",
    "                          font-size:22px'>\n",
    "                Por ejemplo, la gravedad específica de mercurio ($\\text{Hg}$) es:\n",
    "\n",
    "                $$\\text{SG}_{\\text{Hg}}=\\frac{\\rho_{\\text{Hg}}}{\\rho_{\\text {agua liquida } @4^{\\circ} \\mathrm{C}}}=\\frac{13.5 \\times 10^{3} \\frac{\\mathrm{kg}}{\\mathrm{m}^{3}}}{1000 \\frac{\\mathrm{kg}}{\\mathrm{m}^{3}}}=13.5$$\n",
    "            </p>\n",
    "        </div>\n",
    "        \n"
   ]
  },
  {
   "cell_type": "raw",
   "id": "05b07996-8795-4fac-99a8-17c7d00a168d",
   "metadata": {
    "slideshow": {
     "slide_type": "fragment"
    },
    "tags": []
   },
   "source": [
    "        <div style=\"background-color:rgba(210,210,210,0.4);padding:20px\">\n",
    "            <p style='text-align:justify;\n",
    "                              font-size:22px'>\n",
    "                La gravedad específica del agua líquida a $4^\\circ\\text{C}$ es:\n",
    "\n",
    "                $$\\text{SG}_{\\text{w}}=\\frac{\\rho_{\\text {agua liquida } @4^{\\circ} \\mathrm{C}}}{\\rho_{\\text {agua liquida } @4^{\\circ} \\mathrm{C}}}=\\frac{1000 \\frac{\\mathrm{kg}}{\\mathrm{m}^{3}}}{1000 \\frac{\\mathrm{kg}}{\\mathrm{m}^{3}}}=1$$    \n",
    "            </p>\n",
    "        </div>"
   ]
  },
  {
   "cell_type": "raw",
   "id": "ffa01ef3-895c-4209-b25c-d4da205f1ff8",
   "metadata": {
    "slideshow": {
     "slide_type": "fragment"
    },
    "tags": []
   },
   "source": [
    "         <div style=\"background-color:rgba(210,210,210,0.6);padding:20px\">\n",
    "            <p style='text-align:justify;\n",
    "                      font-size:22px'>\n",
    "                Notar que es posible relacionar la gravedad específica al peso específico de un fluido:\n",
    "\n",
    "                $$\\text{SG}=\\frac{\\rho}{\\rho_{\\text {agua liquida } @ 4^{\\circ} \\mathrm{C}}}=\\frac{\\rho  g}{\\rho_{\\text {agua liquida } @ 4^{\\circ} \\mathrm{C}}  g}=\\frac{\\gamma}{\\gamma_{\\text {agua liquida } @ 4^{\\circ} \\mathrm{C}}}=\\frac{\\gamma}{9.81 \\frac{\\mathrm{kPa}}{\\mathrm{m}}}$$\n",
    "            </p>\n",
    "        </div>\n",
    "        </div>\n",
    "    </div></center>\n",
    "</div>"
   ]
  },
  {
   "cell_type": "markdown",
   "id": "f5bb46d6-46c1-430d-a59f-754e13369df8",
   "metadata": {
    "slideshow": {
     "slide_type": "skip"
    },
    "tags": []
   },
   "source": [
    "## Viscosidad"
   ]
  },
  {
   "cell_type": "raw",
   "id": "013040a8-c386-40c8-8bd1-74a1b3e90cd9",
   "metadata": {
    "slideshow": {
     "slide_type": "slide"
    },
    "tags": []
   },
   "source": [
    "<div class='diapo'>\n",
    "    <div class='alternativa'>\n",
    "        <div class='alternativa_header'>\n",
    "            Viscosidad\n",
    "        </div>\n",
    "   \n",
    "        <div class='alternativa_body'>\n",
    "            La viscosidad es una medida cuantitativa de la resistencia que opone un fluido a deformarse.\n",
    "        <center><img src=../Figures/viscositydiff.gif style=\"height:300px\"></center>\n",
    "        </div>\n",
    "    </div>\n",
    "</div>"
   ]
  },
  {
   "cell_type": "markdown",
   "id": "c74c79fc-693b-4328-9ecf-7411d6ab96d5",
   "metadata": {
    "slideshow": {
     "slide_type": "notes"
    },
    "tags": []
   },
   "source": [
    "### Pregunta: \n",
    "\n",
    "Liste pares de fluidos comunes, cuya viscosidad sea qualitativamente diferente"
   ]
  },
  {
   "cell_type": "markdown",
   "id": "b2f5f3e8-be44-4dcd-93e3-ce7e60de3223",
   "metadata": {
    "slideshow": {
     "slide_type": "skip"
    },
    "tags": []
   },
   "source": [
    "## Flujo tipo Couette: <br>Derivación de la <b>Ley de viscosidad de Newton</b>"
   ]
  },
  {
   "cell_type": "raw",
   "id": "e204bf74-a148-4976-b6ad-93d493fa742f",
   "metadata": {
    "slideshow": {
     "slide_type": "subslide"
    },
    "tags": []
   },
   "source": [
    "<div class='diapo'>\n",
    "    <div class='base'>\n",
    "        <div class='base header'>\n",
    "            Flujo tipo Couette: <br>Derivación de la <b>Ley de viscosidad de Newton</b>\n",
    "        </div>\n",
    "\n",
    "        <div class='base body'>\n",
    "\n",
    "            <table style=\"width:100%;font-size:25px\">\n",
    "                <tr>\n",
    "                    <td style=\"width:40%\">\n",
    "                        <center><img src=../Figures/ley_de_newton.png width=100%></center>\n",
    "                    </td>\n",
    "                    <td>\n",
    "                        <ul style=\"text-align: justify; margin:auto; font-size:25px\">\n",
    "                            <li> <span style=\"color:rgba(0, 218, 230,1)\"> <b>Fluido Newtoniano</b></span> confinado entre dos <b><span style=\"color:rgba(230, 46, 0,1)\"> placas paralelas</span></b> <b>muy largas</b>, de <span title='Área de la superficie en contacto con el fluido'>área superficial $A$</span> y separadas por una distancia $Y$ </li>\n",
    "                            <li title='La velocidad del fluido en todo punto es igual a cero'> El fluido se encuentra inicialmente en reposo </li>\n",
    "                            <li> Tras un instante inicial, <span title='consideraremos que la aceleración de 0 a V es instantanea'>la placa superior se mueve con <span style=\"color:rgba(0, 110, 255,1)\"> <b> velocidad constante $V$</b></span></span>, paralela a la dirección $x$ </li>\n",
    "                            <li> Transcurrido suficiente tiempo, el sistema logra el <span title='A partir de este punto, no existe cambio temporal'>estado estacionario </span></li>\n",
    "                        </ul>\n",
    "                    </td>\n",
    "                </tr>\n",
    "            </table>\n",
    "        </div>\n",
    "    </div>\n",
    "</div>"
   ]
  },
  {
   "cell_type": "markdown",
   "id": "53c5eda1-dfd6-4abd-9984-b26f0f6dee01",
   "metadata": {
    "slideshow": {
     "slide_type": "skip"
    },
    "tags": []
   },
   "source": [
    "### Descripción"
   ]
  },
  {
   "cell_type": "raw",
   "id": "73a221db-3f5d-4a0b-8061-ea2cd79ef3ac",
   "metadata": {
    "slideshow": {
     "slide_type": "subslide"
    },
    "tags": []
   },
   "source": [
    "<div class='diapo'>\n",
    "    <div class='alternativa'>\n",
    "        <div class='alternativa_body'>\n",
    "            La evolución temporal del perfil de velocidad en el ejemplo anteriormente descrito se esquematiza en la siguiente animación:\n",
    "        </p>\n",
    "\n",
    "        <table style=\"width:100%\">\n",
    "            <tr>\n",
    "                <td style=\"width:50%\">\n",
    "                    <center>\n",
    "                        <img src=../Figures/Couette_EE.png width=100% id=\"Couette_anim\" onclick=\"Couette_change()\">\n",
    "                    </center>\n",
    "                </td>\n",
    "                <td>\n",
    "                    <ul style=\"text-align: justify; font-size:22px\">\n",
    "                        <li>\n",
    "                            <b> Condición de no deslizamiento</b>: la velocidad del fluido en el contacto con el sólido posee igual dirección y magnitud que la velocidad del sólido en ese punto\n",
    "                        </li>\n",
    "                        <li>\n",
    "                            En <b>estado estacionario</b>, el <b><span style=\"color:red\">perfil de velocidad</span></b> es lineal\n",
    "                        </li>\n",
    "                        <li> En <b>estado estacionario</b>, la fuerza $F$ que se debe ejercer sobre la placa superior para mentener el flujo cumple:\n",
    "                            $$\\color{blue}{\\frac{F}{A}}=\\mu \\color{red}{\\frac{V}{Y}}$$\n",
    "                            donde $\\mu$ corresponde a la <b>viscosidad</b> dinámica del fluido\n",
    "                        </li>\n",
    "                    </ul>\n",
    "                </td>\n",
    "            </tr>\n",
    "    </table>\n",
    "\n",
    "        </div>\n",
    "    </div>\n",
    "</div>\n",
    "\n",
    "<script>\n",
    "    \n",
    "    var counter = 0;\n",
    "    var yourImg = document.getElementById(\"Couette_anim\");\n",
    "    function Couette_change() {\n",
    "        if (counter % 2 == 1){\n",
    "            yourImg.src = \"../Figures/Couette_EE.png\";\n",
    "            counter++;\n",
    "        } else {\n",
    "            yourImg.src = \"../Figures/Couette_inf.gif\";\n",
    "            counter++;\n",
    "        }\n",
    "    }\n",
    "</script>"
   ]
  },
  {
   "cell_type": "markdown",
   "id": "4eaf11c1-058c-4dba-b440-1184b7e27895",
   "metadata": {
    "slideshow": {
     "slide_type": "skip"
    },
    "tags": []
   },
   "source": [
    "## Ley de viscosidad de Newton"
   ]
  },
  {
   "cell_type": "raw",
   "id": "fbec1f12-92cf-4022-a4af-e94c1c488049",
   "metadata": {
    "slideshow": {
     "slide_type": "subslide"
    },
    "tags": []
   },
   "source": [
    "<div class='diapo'>\n",
    "    <div class='base'>\n",
    "        <div class='base header'>\n",
    "            Ley de viscosidad de Newton\n",
    "        </div>\n",
    "\n",
    "        <div class='base body'>\n",
    "            <center>\n",
    "                <div class='equation_box' style='font-size:40px'>\n",
    "                    $$\\tau_{y x}=-\\mu \\frac{d v_{x}}{d y}$$\n",
    "                </div>\n",
    "            </center>\n",
    "    <p></p>\n",
    "    \n",
    "        <center>\n",
    "            <div style=\"width:90%\">\n",
    "                <ul style=\"text-align:justify; margin:auto\">\n",
    "                    <li> Todos los fluidos que cumplen con esta ley se denominan <b>fluidos newtonianos</b> \n",
    "                        <ul style=\"text-align:justify\">\n",
    "                            <li>\n",
    "                                aquellos fluidos para los que esta ley no es válida se denominan <b>fluidos no newtonianos.</b>\n",
    "                            </li>\n",
    "                        </ul>\n",
    "                    </li>\n",
    "                    <li>\n",
    "                        Esta expresión establece que si comparamos dos fluidos (<span style='font-style:italic'>newtonianos</span>) que posean viscosidades distintas y deseamos generar un <span style=\"color:red\"><b>gradiente de velocidad</b> $(d v_{x} / d y)$</span> igual para ambos, se deberá ejercer un mayor <span style=\"color:blue\"><b>esfuerzo de corte</b> $\\tau_{y x}$ </span> sobre el fluido de mayor viscosidad. En otras palabras, <b>el fluido de mayor viscosidad ejerce mayor resistencia a deformarse.</b>\n",
    "                    </li>\n",
    "                </ul>\n",
    "            </div>\n",
    "        </center>\n",
    "        </div>\n",
    "    </div>\n",
    "</div>"
   ]
  },
  {
   "cell_type": "markdown",
   "id": "1abed358-ad1f-4091-a032-6dd04ec01094",
   "metadata": {
    "slideshow": {
     "slide_type": "notes"
    },
    "tags": []
   },
   "source": [
    "#### Aplicación ley de viscosidad de Newton:\n",
    "\n",
    "<ul>\n",
    "    <li>\n",
    "        Determine la velocidad de la placa inferior y el gradiente de velocidad para un flujo tipo <b>Couette</b> (en estado estacionario) entre dos placas largas paralelas si:\n",
    "        <ul>\n",
    "            <li>\n",
    "                La distancia entre ambas placas es de $50$ cm\n",
    "            </li>\n",
    "            <li> \n",
    "                La fuerza que se ejerce sobre la placa inferior es de $10$ N.\n",
    "            </li>\n",
    "            <li>\n",
    "                Las placas tienen largo de $1$ m y ancho $20$ cm.\n",
    "            </li>\n",
    "        </ul>\n",
    "    </li>\n",
    "    <li> \n",
    "        Determine la razón entre la fuerza que se debe ejercer para los siguientes casos:\n",
    "    </li>\n",
    "    <ul>\n",
    "        <li>\n",
    "            Agua vs miel. La velocidad de la placa inferior y la distancia entre placas son idénticas para ambos casos.\n",
    "        </li>\n",
    "        <li>\n",
    "            Agua vs agua. La velocidad de la placa inferior para el primer caso es el doble de la velocidad de la placa inferior para el segundo caso. La distancia entre placas es idéntica.\n",
    "        </li>\n",
    "        <li>\n",
    "            Agua vs agua. La distancia entre placas es el doble para el segundo caso. La velocidad de la placa inferior es idéntica.\n",
    "        </li>\n",
    "    </ul>\n",
    "</ul>"
   ]
  },
  {
   "cell_type": "markdown",
   "id": "b3311722-91d2-4df4-9d40-80d79498ab45",
   "metadata": {
    "slideshow": {
     "slide_type": "skip"
    },
    "tags": []
   },
   "source": [
    "### Viscosidad dinámica - unidades"
   ]
  },
  {
   "cell_type": "raw",
   "id": "6afab798-0acc-4900-a7ac-1abe8181535e",
   "metadata": {
    "slideshow": {
     "slide_type": "subslide"
    },
    "tags": []
   },
   "source": [
    "<div class='diapo'>\n",
    "    <div class='base'>\n",
    "        <div class='base header'>\n",
    "            Viscosidad (dinámica) - unidades\n",
    "        </div>\n",
    "        \n",
    "        <div class='base body'>\n",
    "        \n",
    "                        La viscosidad dinámica μ tiene unidades:\n",
    "                        \n",
    "                        <table style=\"border:1;width:80%; font-size:25px;margin-top:10px\">\n",
    "                            <tr style=\"background-color:#f0f0f0\">\n",
    "                                <th style=\"width:50%;text-align: center;\"> SI </th>\n",
    "                                <th style=\"width:50%;text-align: center;\"> BG </th>\n",
    "                            </tr>\n",
    "                            <tr>\n",
    "                                <td>\n",
    "                                $$\\left[\\frac{\\mathrm{N} \\cdot \\mathrm{s}}{\\mathrm{m}^{2}}\\right]=\\left[\\frac{\\mathrm{kg}}{\\mathrm{m} \\cdot \\mathrm{s}}\\right]=\\left[\\mathrm{Pa} \\cdot \\mathrm{s}\\right]$$\n",
    "                            </td>\n",
    "                            <td>\n",
    "                               $$\\left[\\frac{\\text{lbf} \\cdot \\text{s}}{\\text{ft}^{2}}\\right]$$\n",
    "                                </td>\n",
    "                            </tr>\n",
    "                        </table>\n",
    "                            \n",
    "                    <table style=\"width:100%; font-size:25px;margin-top:10px\">\n",
    "                        <tr>\n",
    "                            <td style='width:40%;text-align:justify'>\n",
    "                                Otra unidad de medida de importancia corresponde al Poise ($\\text{P}$):\n",
    "                            \n",
    "                                    $$\\mu_{\\text{agua @} {20^\\circ}\\text{C}}=0.01 \\text{ P}= 1 \\text{ cP }$$\n",
    "                        </td>\n",
    "                        <td style='margin-left:5px'>\n",
    "                            <div class='equation_box'> \n",
    "                                <p style=\"font-size:22px;\n",
    "                                          text-align:justify;\n",
    "                                          \">\n",
    "                                    <b>Conversión de unidades viscosidad dinámica:</b>\n",
    "                                </p>\n",
    "                                <p style=\"font-size:22px;\n",
    "                                          text-align:justify;\n",
    "                                          \">\n",
    "                                $$ 1 \\mathrm{~Pa} \\cdot \\mathrm{s}=0.020885 \\frac{\\mathrm{lbf} \\cdot \\mathrm{s}}{\\mathrm{ft}^{2}}=10 \\,\\mathrm{P}$$\n",
    "                                </p>\n",
    "                            </div>\n",
    "                        </td>\n",
    "                </tr>\n",
    "            </table>\n",
    "        </div>\n",
    "    </div>\n",
    "</div>"
   ]
  },
  {
   "cell_type": "markdown",
   "id": "0ee8bf03-0659-496c-beec-dd3e5f56e657",
   "metadata": {
    "slideshow": {
     "slide_type": "skip"
    },
    "tags": []
   },
   "source": [
    "### Viscosidad cinemática"
   ]
  },
  {
   "cell_type": "raw",
   "id": "a88edb3c-4c4f-4bf6-9c76-40d848b4e76b",
   "metadata": {
    "slideshow": {
     "slide_type": "subslide"
    },
    "tags": []
   },
   "source": [
    "<div class='diapo'>\n",
    "    <div class='base'>\n",
    "        <div class='base header'>\n",
    "            Viscosidad cinemática ($\\nu$)\n",
    "        </div>\n",
    "        \n",
    "        <div class='base body'>\n",
    "            \n",
    "            <table style='font-size:25px; width:100%'>\n",
    "                <tr>\n",
    "                    <td style='width:70%;text-align:justify'>\n",
    "                        Una conveniente forma de expresar la viscosidad corresponde a la <b>viscosidad cinemática</b> $(\\nu)$. Esta propiedad representa la razón entre viscosidad dinámica y densidad del fluido:\n",
    "                    </td>\n",
    "                    <td></td>\n",
    "                    <td style='width:25%;margin-left:20px'>\n",
    "                        <div class='equation_box' style='padding-top:5px; padding-bottom:5px'>\n",
    "                            $$\\nu=\\frac{\\mu}{\\rho}$$\n",
    "                        </div>\n",
    "                    </td>\n",
    "                </tr>\n",
    "            </table>\n",
    "            \n",
    "            \n",
    "            \n",
    "        <table style=\"width:100%;margin-top:30px\">\n",
    "            <tr style=\"vertical-align:top;font-size:25px\">\n",
    "                <td style=\"width:40%\">\n",
    "                    La viscosidad cinemática $\\nu$ tiene unidades:\n",
    "                    <table style=\"border:1;width:70%; font-size:25px;margin-top:20px\">\n",
    "                        <tr style=\"background-color:#f0f0f0\">\n",
    "                            <th style=\"width:50%;text-align: center;\"> SI </th>\n",
    "                            <th style=\"width:50%;text-align: center;\"> BG </th>\n",
    "                        </tr>\n",
    "                        <tr>\n",
    "                            <td>\n",
    "                                $$\\left[\\frac{\\mathrm{m}^{2}}{\\mathrm{s}}\\right]$$\n",
    "                            </td>\n",
    "                            <td style=\"font-size:25px\">\n",
    "                               $$\\left[\\frac{\\mathrm{ft}^{2}}{\\mathrm{s}}\\right]$$\n",
    "                            </td>\n",
    "                        </tr>\n",
    "                    </table>\n",
    "                </td>\n",
    "                <td style=\"font-size:25px;text-align:justify\">\n",
    "                    \n",
    "                    Otra unidad de medida de importancia corresponde al Stokes ($\\text{St}$):\n",
    "                    \n",
    "                    $$\\nu_{\\text{agua @} {20^\\circ}\\text{C}}=0.01 \\text{ St}= 1 \\text{ cSt  (centi stokes)}$$\n",
    "        \n",
    "        \n",
    "        \n",
    "        <center>\n",
    "            <div class='units_box'> \n",
    "                <p style=\"font-size:22px;\n",
    "                          text-align:justify;\n",
    "                          \">\n",
    "                    <b>Conversión de unidades viscosidad cinemática:</b>\n",
    "                </p>\n",
    "                <p style=\"font-size:22px;\n",
    "                          text-align:justify;\n",
    "                          \">\n",
    "                $$1 \\frac{\\mathrm{m}^{2}}{\\mathrm{~s}}=10.7639 \\frac{\\mathrm{ft}^{2}}{\\mathrm{~s}}=10^{4} \\mathrm{St}$$\n",
    "                </p>\n",
    "\n",
    "            </div>\n",
    "        </center>\n",
    "        \n",
    "                </td>\n",
    "            </tr>\n",
    "        </table>\n",
    "\n",
    "\n",
    "        </div>\n",
    "    </div>\n",
    "</div>"
   ]
  },
  {
   "cell_type": "markdown",
   "id": "1061cb7d-a82b-49d5-890a-faef964a3170",
   "metadata": {
    "slideshow": {
     "slide_type": "skip"
    },
    "tags": []
   },
   "source": [
    "### Viscosidad de líquidos y gases\n"
   ]
  },
  {
   "cell_type": "raw",
   "id": "9951fc17-d0ab-430d-85b6-c61bbdea0ca4",
   "metadata": {
    "slideshow": {
     "slide_type": "subslide"
    },
    "tags": []
   },
   "source": [
    "<div class='diapo'>\n",
    "    <div class='base'>\n",
    "        <div class='base header'>\n",
    "            Viscosidad de líquidos y gases\n",
    "        </div>\n",
    "        \n",
    "        <div class='base body'>\n",
    "\n",
    "            La viscosidad es una propiedad que depende de la naturaleza molecular de un fluido (morfologia de sus partículas y como interactúan entre ellas). Entonces, es de esperar que distintos fluidos posean viscosidades distintas.  En particular, <b>fluidos cuyas moleculas posean fuerzas atractivas fuertes entre ellas tenderán a poseer viscosidades más altas.</b> \n",
    "        </p>\n",
    "        <p>\n",
    "            De manera general:\n",
    "\n",
    "            $$\\mu_\\text{líquido}>\\mu_\\text{gas}$$\n",
    "        </p>\n",
    "        <p>\n",
    "            Además:\n",
    "        </p>\n",
    "        <table style='font-size:25px;width:70%;border:1'>\n",
    "            <tr>\n",
    "                <th style='width:40%'> </th>\n",
    "                <th style='width:30%;text-align:center'>\n",
    "                    Líquido\n",
    "                </th>\n",
    "                <th style='width:30%;text-align:center'>\n",
    "                    Gas\n",
    "                </th>\n",
    "            </tr>\n",
    "            <tr>\n",
    "                <td> Temperatura  <span style='color:blue; font-size:150%'> &#8593; </span></td>\n",
    "                <td style='background-color:rgba(255, 0, 0,.1)'>\n",
    "                        <table style='font-size:25px'>\n",
    "                            <td> \n",
    "                                Viscosidad disminuye\n",
    "                            </td>\n",
    "                            <td>\n",
    "                                <span style='color:red; font-size:150%'> &#8595; </span>\n",
    "                            </td>\n",
    "                        </table>\n",
    "                    </td>       \n",
    "                </td>\n",
    "                <td style='background-color:rgba(0, 0, 255,.1)'>\n",
    "                    <table style='font-size:25px'>\n",
    "                    <td> \n",
    "                    Viscosidad aumenta\n",
    "                    </td>\n",
    "                    <td>\n",
    "                    <span style='color:blue; font-size:150%'> &#8593; </span>\n",
    "                    </td>\n",
    "                    </table>\n",
    "                    </td>\n",
    "            </tr>\n",
    "            <tr>\n",
    "                <td> Presión<span style='color:blue; font-size:150%'> &#8593; </span></td>\n",
    "                <td style='background-color:rgba(240, 240, 240,1)'> \n",
    "                    <table style='font-size:25px'>\n",
    "                        <td>\n",
    "                            Viscosidad relativamente constante \n",
    "                        </td>\n",
    "                    </table>\n",
    "                </td>\n",
    "                <td style='background-color:rgba(0, 0, 255,.1)'>\n",
    "                    <table style='font-size:25px'>\n",
    "                    <td> \n",
    "                    Viscosidad aumenta\n",
    "                    </td>\n",
    "                    <td>\n",
    "                    <span style='color:blue; font-size:150%'> &#8593; </span>\n",
    "                    </td>\n",
    "                    </table>\n",
    "                    </td>\n",
    "            </tr>\n",
    "\n",
    "        </table>\n",
    "       \n",
    "       </div>\n",
    "\n",
    "    </div>\n",
    "</div>"
   ]
  },
  {
   "cell_type": "raw",
   "id": "60337417-2713-46ed-bdf3-cecc189cebab",
   "metadata": {
    "slideshow": {
     "slide_type": "subslide"
    },
    "tags": []
   },
   "source": [
    "<div style=\"height:600px; border: 0px solid black\">\n",
    "    \n",
    "    \n",
    "    <div style=\"margin: 0;\n",
    "                position: absolute;\n",
    "                top: 50%;\n",
    "                -ms-transform: translateY(-50%);\n",
    "                transform: translateY(-50%) translateY(0px);\n",
    "                width:100%;\n",
    "                font-size:25px;\n",
    "                \">\n",
    "\n",
    "    <!--- header -->\n",
    "\n",
    "        <p style=\"font-size:55px; \n",
    "                    \">\n",
    "\n",
    "        </p>\n",
    "\n",
    "    <!--- content -->\n",
    "        <table style=\"width:100%\">\n",
    "            <tr>\n",
    "                <td style=\"width:30%\">\n",
    "                    <p style=\"text-align:justify; font-size:22px\">        \n",
    "                        <b>Variación de la viscosidad con la temperatura para distintos fluidos comunes</b>\n",
    "                    </p>\n",
    "                    <p style=\"text-align:justify; font-size:22px\">\n",
    "                        <cite>\n",
    "                            Figura extraida de: Pritchard, Philip J., and John W. Mitchell. Fox and McDonald's introduction to fluid mechanics. John Wiley & Sons, 2011.\n",
    "                        </cite> \n",
    "                    </p>\n",
    "                </td>\n",
    "                <td>\n",
    "                    <center><img src=../Figures/visc_temp.png width=70%></center>\n",
    "                </td>\n",
    "            </tr>\n",
    "        </table>\n",
    "    </div>\n",
    "</div>"
   ]
  },
  {
   "cell_type": "markdown",
   "id": "e2f1f467-c4d6-4219-95f9-8452c0ec7368",
   "metadata": {
    "slideshow": {
     "slide_type": "skip"
    },
    "tags": []
   },
   "source": [
    "## Fluidos newtonianos vs no-newtonianos (eliminada)\n"
   ]
  },
  {
   "cell_type": "raw",
   "id": "9d03de02-c4c9-471f-bcd2-c0d3b85cf6cf",
   "metadata": {
    "slideshow": {
     "slide_type": "skip"
    },
    "tags": []
   },
   "source": [
    "<div style=\"height:600px; border: 0px solid black\">\n",
    "    \n",
    "    \n",
    "    <div style=\"margin: 0;\n",
    "                position: absolute;\n",
    "                top: 50%;\n",
    "                -ms-transform: translateY(-50%);\n",
    "                transform: translateY(-50%) translateY(0px);\n",
    "                width:100%;\n",
    "                font-size:25px;\n",
    "                \">\n",
    "\n",
    "    <!--- header -->\n",
    "\n",
    "        <p style=\"font-size:35px; \n",
    "                    \">\n",
    "            Fluidos newtonianos vs no-newtonianos\n",
    "\n",
    "        </p>\n",
    "\n",
    "    <!--- content -->\n",
    "        <table style=\"width:100%\">\n",
    "            <tr>\n",
    "                <td style=\"width:30%\">\n",
    "                    <p style=\"text-align:justify; font-size:22px\">        \n",
    "                        <b>Esfuerzo de corte vs tasa de deformación</b>\n",
    "                    </p>\n",
    "                </td>\n",
    "                <td>\n",
    "                    <center><img src=../Figures/newt_v_non.png width=80%></center>\n",
    "                </td>\n",
    "            </tr>\n",
    "        </table>\n",
    "    </div>\n",
    "</div>"
   ]
  },
  {
   "cell_type": "markdown",
   "id": "6729b5ed-ff19-4658-9baf-16d23f871324",
   "metadata": {
    "slideshow": {
     "slide_type": "skip"
    },
    "tags": []
   },
   "source": [
    "## Compresibilidad "
   ]
  },
  {
   "cell_type": "raw",
   "id": "ca88d541-697f-4a18-b58f-2276efa31278",
   "metadata": {
    "slideshow": {
     "slide_type": "slide"
    },
    "tags": []
   },
   "source": [
    "<div style=\"height:600px; border: 0px solid black\">\n",
    "    \n",
    "    \n",
    "    <div style=\"margin: 0;\n",
    "                position: absolute;\n",
    "                top: 50%;\n",
    "                -ms-transform: translateY(-50%);\n",
    "                transform: translateY(-50%) translateY(0px);\n",
    "                width:100%;\n",
    "                font-size:25px;\n",
    "                \">\n",
    "        \n",
    "    <!--- header -->\n",
    "\n",
    "        <p style=\"font-size:55px; \n",
    "                    \">\n",
    "            Compresibilidad \n",
    "        </p>\n",
    "\n",
    "    <!--- content -->\n",
    "\n",
    "        \n"
   ]
  },
  {
   "cell_type": "raw",
   "id": "aa9703a7-fa45-4e62-a98b-19a154500c7a",
   "metadata": {
    "slideshow": {
     "slide_type": "fragment"
    },
    "tags": []
   },
   "source": [
    "        <p style='text-align:justify;\n",
    "                      font-size:22px'>\n",
    "                      \n",
    "            La densidad de un fluido es una función de la temperatura y presión. Sin embargo, <b>la variación de la densidad con respecto a estos parámetros no es igual para distintos fluidos. </b>\n",
    "        </p>"
   ]
  },
  {
   "cell_type": "raw",
   "id": "84f1f96e-8816-479c-a6f2-58e05064abca",
   "metadata": {
    "slideshow": {
     "slide_type": "fragment"
    },
    "tags": []
   },
   "source": [
    "\n",
    "En general:\n",
    "\n",
    "        <ul style='text-align:justify;\n",
    "                      font-size:22px'>\n",
    "            <li>\n",
    "                Un fluido suele <b>expandirse</b> (su densidad aumenta) siguiendo una <b>disminución de presión</b>\n",
    "            </li>\n",
    "            <li> \n",
    "                o <b>contraerse</b> (su densidad aumenta) si la <b>presión aumenta</b>.\n",
    "            </li>\n",
    "        </ul>\n",
    "\n"
   ]
  },
  {
   "cell_type": "raw",
   "id": "9bff1809-b5be-47f4-a4d7-65e7880e84bc",
   "metadata": {},
   "source": [
    "    </div>\n",
    "</div>"
   ]
  },
  {
   "cell_type": "markdown",
   "id": "35f85c0d-c1d9-4d78-8f89-4e0e31844804",
   "metadata": {
    "slideshow": {
     "slide_type": "skip"
    },
    "tags": []
   },
   "source": [
    "###  Coeficiente de compresibilidad ($\\kappa$)\n"
   ]
  },
  {
   "cell_type": "raw",
   "id": "beaf43fc-e761-4ab7-be76-57b2a1f1c5fb",
   "metadata": {
    "slideshow": {
     "slide_type": "subslide"
    },
    "tags": []
   },
   "source": [
    "<div style=\"height:600px; border: 0px solid black\">\n",
    "    \n",
    "    \n",
    "    <div style=\"margin: 0;\n",
    "                position: absolute;\n",
    "                top: 50%;\n",
    "                -ms-transform: translateY(-50%);\n",
    "                transform: translateY(-50%) translateY(0px);\n",
    "                width:100%;\n",
    "                font-size:25px;\n",
    "                \">\n",
    "\n",
    "    <!--- header -->\n",
    "\n",
    "        <p style=\"font-size:55px; \n",
    "                    \">\n",
    "            Coeficiente de compresibilidad ($\\kappa$)\n",
    "        </p>\n",
    "\n",
    "    <!--- content -->\n",
    "        <p style='text-align:justify;\n",
    "                      font-size:22px'>\n",
    "          \n",
    "            La capacidad de un fluido a expandirse (o contraerse) frente a cambios de presión se cuantifica mediante el <b>coeficiente de compresibilidad</b> ($\\kappa$) (también conocido como módulo de compresibilidad o módulo de elasticidad), el cual se define como:\n",
    "\n",
    "             $$\\kappa=-\\mathcal{V}\\left(\\frac{\\partial P}{\\partial \\mathcal{V}}\\right)_{T}=\\rho\\left(\\frac{\\partial P}{\\partial \\rho}\\right)_{T}$$\n",
    "        </p>\n",
    "        <p style='text-align:justify;\n",
    "                      font-size:22px'>\n",
    "          \n",
    "            Donde el sufijo $T$ indica que esta propiedad está definida para temperatura constante. Notar que el coeficiente de compresibilidad tiene unidades de medida iguales a la de la presión.\n",
    "        </p>\n",
    "    </div>\n",
    "</div>"
   ]
  },
  {
   "cell_type": "markdown",
   "id": "df27801d-0cac-4613-b7c3-76bb7bd5044f",
   "metadata": {
    "slideshow": {
     "slide_type": "skip"
    },
    "tags": []
   },
   "source": [
    "### Fluidos compresibles e incompresibles"
   ]
  },
  {
   "cell_type": "raw",
   "id": "9fff01f5-245c-4a27-9608-2ef68ab97fbb",
   "metadata": {
    "slideshow": {
     "slide_type": "subslide"
    },
    "tags": []
   },
   "source": [
    "<div style=\"height:600px; border: 0px solid black\">\n",
    "    \n",
    "    \n",
    "    <div style=\"margin: 0;\n",
    "                position: absolute;\n",
    "                top: 50%;\n",
    "                -ms-transform: translateY(-50%);\n",
    "                transform: translateY(-50%) translateY(0px);\n",
    "                width:100%;\n",
    "                font-size:25px;\n",
    "                \">\n",
    "\n",
    "    <!--- header -->\n",
    "\n",
    "        <p style=\"font-size:55px; \n",
    "                    \">\n",
    "           Fluidos <span style=\"color:blue\">compresibles</span> e <span style=\"color:red\">incompresibles</span>\n",
    "        </p>\n",
    "\n",
    "    <!--- content -->\n",
    "        <p style='text-align:justify;\n",
    "                      font-size:22px'>\n",
    "            <table style=\"width:100%;font-size:25px\">\n",
    "                <tr>\n",
    "                    <td style=\"width:50%;\n",
    "                               border:none;\n",
    "                               background-color:rgba(0,0,255,0.05);\n",
    "                               text-align:justify;\n",
    "                               padding:30px;\n",
    "                               \">\n",
    "                         <span style='color:blue;font-weight:bold'>valores bajos de $\\kappa$</span></b> implican que la densidad del fluido será <b><span style='color:blue'>muy susceptible a cambios de presión</span></b>                       \n",
    "                    </td>\n",
    "                    <td style=\"width:50%;\n",
    "                               border:none;\n",
    "                               background-color:rgba(255,0,0,0.05);\n",
    "                               text-align:justify;\n",
    "                               padding:30px;\n",
    "                               \">\n",
    "                        <b><span style='color:red'>Valores altos de $\\kappa$</span> </b>implican que se <span style='color:red'><b>requiere una alta variación de la presión para producir un cambio importante en la densidad del fluido</b></span>\n",
    "                        \n",
    "                    </td>\n",
    "                <tr>\n",
    "                    <td style=\"width:50%;\n",
    "                               border:none;\n",
    "                               background-color:rgba(0,0,255,0.1);\n",
    "                               text-align:justify;\n",
    "                               padding:30px;\n",
    "                               \">\n",
    "                         Fluidos cuya densidad es sensible a cambios de presión son denominados como <span style='color:blue'><b>compresibles.\n",
    "                    </td>\n",
    "                    <td style=\"width:50%;\n",
    "                               border:none;\n",
    "                               background-color:rgba(255,0,0,0.1);\n",
    "                               text-align:justify;\n",
    "                               padding:30px;\n",
    "                               \">\n",
    "                         Fluidos cuya densidad es relativamente independiente a cambios de presión son denominados como <span style='color:red'><b>incompresibles.\n",
    "                    </td>\n",
    "                </tr>\n",
    "                <tr>\n",
    "                    <td style=\"width:50%;\n",
    "                               border:none;\n",
    "                               background-color:rgba(0,0,255,0.15);\n",
    "                               text-align:justify;\n",
    "                               padding:30px;\n",
    "                               \">\n",
    "                         En general, los <span style='color:blue;font-weight:bold'>gases</span> se comportan como <span style='color:blue;font-weight:bold'>fluidos compresibles</span>\n",
    "                    </td>\n",
    "                    <td style=\"width:50%;\n",
    "                               border:none;\n",
    "                               background-color:rgba(255,0,0,0.15);\n",
    "                               text-align:justify;\n",
    "                               padding:30px;\n",
    "                               \">\n",
    "                        En general, los <span style='color:red;font-weight:bold'>líquidos</span> se comportan como <span style='color:red;font-weight:bold'>fluidos incompresibles</span> para cambios moderados de presión\n",
    "                    </td>\n",
    "                </tr>\n",
    "            </table>\n",
    "    </div>\n",
    "</div>"
   ]
  },
  {
   "cell_type": "markdown",
   "id": "1fbf2110-2ef6-404d-9c17-08bbc8b801f2",
   "metadata": {
    "slideshow": {
     "slide_type": "skip"
    },
    "tags": []
   },
   "source": [
    "### Coeficiente de expansión volumétrica ($\\beta$)  "
   ]
  },
  {
   "cell_type": "raw",
   "id": "b22750f8-72b2-438d-ac5c-8c7cb30b9ce6",
   "metadata": {
    "slideshow": {
     "slide_type": "subslide"
    },
    "tags": []
   },
   "source": [
    "<div style=\"height:600px; border: 0px solid black\">\n",
    "    \n",
    "    \n",
    "    <div style=\"margin: 0;\n",
    "                position: absolute;\n",
    "                top: 50%;\n",
    "                -ms-transform: translateY(-50%);\n",
    "                transform: translateY(-50%) translateY(0px);\n",
    "                width:100%;\n",
    "                font-size:25px;\n",
    "                \">\n",
    "\n",
    "    <!--- header -->\n",
    "\n",
    "        <p style=\"font-size:35px; \n",
    "                    \">\n",
    "            Coeficiente de expansión volumétrica ($\\beta$)  \n",
    "        </p>\n",
    "\n",
    "    <!--- content -->\n",
    "        <p style='text-align:justify;\n",
    "                      font-size:22px'>\n",
    "          \n",
    "            En general, <b>los densidad de los fluidos es más sensible a la temperatura que a la presión.</b> El cambio de la densidad de un fluido con respecto a la temperatura se cuantifica mediante el <b>coeficiente de expansión volumétrica $\\beta$</b>    (también denominado como expansividad volumétrica), el cual esta definido a partir de la siguiente expresión:\n",
    "\n",
    "$$\\beta=\\frac{1}{\\mathcal{V}}\\left(\\frac{\\partial \\mathcal{V}}{\\partial T}\\right)_{p}=-\\frac{1}{\\rho}\\left(\\frac{\\partial \\rho}{\\partial T}\\right)_{p}$$\n",
    "        </p>\n",
    "        <p style='text-align:justify;\n",
    "                      font-size:22px'>\n",
    "          \n",
    "            Donde el sufijo $p$ indica que esta propiedad se define a presión constante. Notar que $\\beta$ tiene unidades de medida (en SI) $\\text{K}^{-1}$.\n",
    "        </p>\n",
    "        <p style='text-align:justify;\n",
    "              font-size:22px'>\n",
    "            Valores altos de $\\beta$ implican que la densidad del fluido es muy sensible a la temperatura, en cambio valores pequeños de este parámetro sugieren que la densidad no cambia mucho con la temperatura.\n",
    "        </p>\n",
    "    </div>\n",
    "</div>"
   ]
  },
  {
   "cell_type": "markdown",
   "id": "5e16dec6-2770-4370-b40a-78bb810ae237",
   "metadata": {
    "slideshow": {
     "slide_type": "skip"
    },
    "tags": []
   },
   "source": [
    "## Dimensiones y unidades"
   ]
  },
  {
   "cell_type": "raw",
   "id": "39ec3ca8-4074-4b4f-b05f-eed040e56b89",
   "metadata": {
    "slideshow": {
     "slide_type": "slide"
    },
    "tags": []
   },
   "source": [
    "<div style=\"height:600px; border: 0px solid black\">\n",
    "    \n",
    "    \n",
    "    <div style=\"margin: 0;\n",
    "                position: absolute;\n",
    "                top: 50%;\n",
    "                -ms-transform: translateY(-50%);\n",
    "                transform: translateY(-50%) translateY(0px);\n",
    "                width:100%;\n",
    "                font-size:25px;\n",
    "                \">\n",
    "\n",
    "    <!--- header -->\n",
    "\n",
    "        <p style=\"font-size:55px; \n",
    "                    \">\n",
    "             Dimensiones y unidades\n",
    "        </p>\n",
    "\n",
    "    <!--- content -->\n",
    "        <p style='text-align:justify;\n",
    "                      font-size:22px'>\n",
    "            <!---  Previo a describir las más relevantes propiedades de los fluidos revisaremos un par de conceptos esenciales para la definición de estas: los conceptos de dimensiones y unidades -->\n",
    "        </p>\n",
    "        \n",
    "    </div>\n",
    "</div>"
   ]
  },
  {
   "cell_type": "markdown",
   "id": "5a8c5944-4ad7-430b-ba0b-da1938723cc7",
   "metadata": {
    "slideshow": {
     "slide_type": "skip"
    },
    "tags": []
   },
   "source": [
    "## Dimensión"
   ]
  },
  {
   "cell_type": "raw",
   "id": "4e98e072-065f-4a17-9c30-240be93f0f1a",
   "metadata": {
    "slideshow": {
     "slide_type": "subslide"
    },
    "tags": []
   },
   "source": [
    "<div style=\"height:600px; border: 0px solid black\">\n",
    "    <!--- header -->\n",
    "\n",
    "    <div style=\"height:66px;\n",
    "                border: 0px solid black; \n",
    "                font-size:55px; \n",
    "                \">\n",
    "        Dimensión\n",
    "    </div>\n",
    "\n",
    "    <!--- content -->\n",
    "    \n",
    "    <div style=\"margin: 0;\n",
    "                position: absolute;\n",
    "                top: 50%;\n",
    "                -ms-transform: translateY(-50%);\n",
    "                transform: translateY(-50%) translateY(40px);\n",
    "                width:100%;\n",
    "                font-size:22px;\n",
    "                \">\n",
    "        <p style=\"font-size:22px; \n",
    "                  text-align:justify\">\n",
    "            \n",
    "            <b>Dimensión</b>: Medida con la que una magnitud física es expresada cuantitativamente. Ejemplos de dimensiones corresponde a:\n",
    "        </p>\n",
    "        \n",
    "        <ul style=\"font-size:22px; \n",
    "                   text-align:justify\">\n",
    "            <li>\n",
    "                Longitud ($L$)\n",
    "            </li>\n",
    "            <li>\n",
    "                Masa ($M$)\n",
    "            </li>\n",
    "            <li>\n",
    "                Tiempo ($t$)\n",
    "            </li>\n",
    "            <li>\n",
    "                Temperatura ($T$) \n",
    "            </li>    \n",
    "        </ul>\n",
    "    \n",
    "        <p stlye=\"font-size:22px\">\n",
    "            Las dimensiones pueden ser divididas en dos tipos:\n",
    "        </p>\n",
    "    \n",
    "        <ul style=\"font-size:22px; \n",
    "                   text-align:justify\">\n",
    "\n",
    "            <li>\n",
    "                <b>Dimensiones básicas o primarias:</b> Grupo de dimensiones a partir de las cuales otras pueden ser formadas.\n",
    "            </li>\n",
    "            <li>\n",
    "                <b>Dimensiones derivadas o secundarias:</b> Definidas a partir de dimensiones básicas.\n",
    "            </li>\n",
    "        </ul>\n",
    "\n",
    "\n",
    "    </div>\n",
    "</div>"
   ]
  },
  {
   "cell_type": "markdown",
   "id": "b984240e-b7e7-478e-90bd-a434b0b40f0a",
   "metadata": {
    "slideshow": {
     "slide_type": "skip"
    },
    "tags": []
   },
   "source": [
    "## Unidad"
   ]
  },
  {
   "cell_type": "raw",
   "id": "c53da5a4-3be8-49e5-819a-077846052b1b",
   "metadata": {
    "slideshow": {
     "slide_type": "subslide"
    },
    "tags": []
   },
   "source": [
    "<div style=\"height:600px; border: 0px solid black\">\n",
    "    \n",
    "    \n",
    "    <div style=\"margin: 0;\n",
    "                position: absolute;\n",
    "                top: 50%;\n",
    "                -ms-transform: translateY(-50%);\n",
    "                transform: translateY(-50%) translateY(0px);\n",
    "                width:100%;\n",
    "                font-size:25px;\n",
    "                \">\n",
    "\n",
    "    <!--- header -->\n",
    "\n",
    "        <p style=\"font-size:55px; \n",
    "                    \">\n",
    "            Unidad\n",
    "        </p>\n",
    "\n",
    "    <!--- content -->\n",
    "        <p style='text-align: justify;\n",
    "                  font-size:22px\n",
    "                  '>\n",
    "            <b>Unidad:</b> Cantidad arbitraria referencial de una dimensión. <b><span style=\"color:blue\">Corresponden a \"valores numéricos\" asignados a una dimensión</span> </b>. Por ejemplo, la longitud puede ser medida en unidades de cm, dm, m, etc.\n",
    "        </p>\n",
    "\n",
    "        <p style='text-align:\n",
    "                  justify;font-size:22px\n",
    "                  '>\n",
    "            Las unidades por lo general son agrupadas en <b>sistemas de unidades</b>, que corresponden a un conjunto de unidades de medida consistente, normalizado y uniforme. Ejemplos de sistemas de unidades corresponden a:\n",
    "        </p>\n",
    "        \n",
    "    </div>\n",
    "</div>"
   ]
  },
  {
   "cell_type": "raw",
   "id": "67b00b33-face-4930-ae14-34b235278d43",
   "metadata": {
    "slideshow": {
     "slide_type": "subslide"
    },
    "tags": []
   },
   "source": [
    "<table style='width:100%; font-size:22px'> \n",
    "    <tr style='font-size:150% ; background-color:#cccccc'>\n",
    "        <th style='width:30%'>\n",
    "            Sistema\n",
    "        </th>\n",
    "        <th style='width:25%'>\n",
    "            Dimensiones básicas $^\\dagger$\n",
    "        </th>\n",
    "        <th style='width:45%'>\n",
    "            Unidades básicas\n",
    "        </th>\n",
    "    </tr>\n",
    "    <tr style=\"background-color:#f0f0f0\">\n",
    "        <td>\n",
    "            Système International d’Unités (SI)\n",
    "        </td>\n",
    "        <td>\n",
    "            $M$, $L$, $t$, $T$\n",
    "        </td>\n",
    "        <td>\n",
    "             <ul style=\"margin:auto\">\n",
    "                <li>masa: kilogramos ($\\text{kg}$)\n",
    "                <li>longitud: metros ($\\text{m}$)\n",
    "                <li>tiempo: segundos ($\\text{s}$)\n",
    "                <li>temperatura: Kelvin ($\\text{K}$)\n",
    "            </ul>\n",
    "        </td>\n",
    "    </tr>\n",
    "    <tr>\n",
    "        <td>\n",
    "            British Gravitational (BG)\n",
    "        </td>\n",
    "        <td>\n",
    "            $F$, $L$, $t$, $T$ \n",
    "        </td>\n",
    "        <td>\n",
    "             <ul style=\"margin:auto\">\n",
    "                <li>fuerza: libra-fuerza ($\\text{lbf}$)\n",
    "                <li>longitud: pie ($\\text{ft}$)\n",
    "                <li>tiempo: segundos ($\\text{s}$)\n",
    "                <li>temperatura: grados Rankine ($^\\circ\\text{R}$)\n",
    "            </ul>\n",
    "        </td>\n",
    "    </tr>\n",
    "    <tr style=\"background-color:#f0f0f0\">\n",
    "        <td>\n",
    "            English Engineering (EE)\n",
    "        </td>\n",
    "        <td>\n",
    "            $F$, $M$, $L$, $t$, $T$ \n",
    "        </td>\n",
    "        <td>\n",
    "             <ul style=\"margin:auto\">\n",
    "                <li>fuerza: libra-fuerza ($\\text{lbf}$) </li>\n",
    "                <li> masa: libra-masa ($\\text{lbm}$) </li>\n",
    "                <li>longitud: pie ($\\text{ft}$) </li>\n",
    "                <li>tiempo: segundos ($\\text{s}$) </li>\n",
    "                <li>temperatura: grados Rankine ($^\\circ\\text{R}$) </li>\n",
    "            </ul>\n",
    "        </td>\n",
    "    </tr>\n",
    "</table>\n",
    "\n",
    "<span style='font-size:22px'>$^\\dagger$: relevantes para la mecánica de fluidos</span>"
   ]
  },
  {
   "cell_type": "markdown",
   "id": "2b06e04e-ae91-4228-8a34-1993f4ef045e",
   "metadata": {
    "slideshow": {
     "slide_type": "skip"
    },
    "tags": []
   },
   "source": [
    "# Tensión superficial"
   ]
  },
  {
   "cell_type": "raw",
   "id": "6d005c1b-15f2-4428-9076-29c22e3b25d9",
   "metadata": {
    "slideshow": {
     "slide_type": "slide"
    },
    "tags": []
   },
   "source": [
    "<div style=\"height:600px; border: 0px solid black\">\n",
    "    \n",
    "    \n",
    "    <div style=\"margin: 0;\n",
    "                position: absolute;\n",
    "                top: 50%;\n",
    "                -ms-transform: translateY(-50%);\n",
    "                transform: translateY(-50%) translateY(0px);\n",
    "                width:100%;\n",
    "                font-size:25px;\n",
    "                \">\n",
    "\n",
    "    <!--- header -->\n",
    "\n",
    "        <p style=\"font-size:55px; \n",
    "                    \">\n",
    "            Tensión superficial\n",
    "        </p>\n",
    "\n",
    "    <!--- content -->\n",
    "        <p style='text-align:justify;\n",
    "                      font-size:22px'>\n",
    "            La tensión superficial es una propiedad asociada a la resistencia de las superficies libres de los líquidos. En el siguiente video se define esta propiedad y se explica fenómenos físicos relacionados:\n",
    "        </p>\n",
    "       <center><iframe width=\"560\" height=\"315\" src=\"https://www.youtube.com/embed/xTwGIOuC7Vw\" title=\"YouTube video player\" frameborder=\"0\" allow=\"accelerometer; autoplay; clipboard-write; encrypted-media; gyroscope; picture-in-picture\" allowfullscreen></iframe></center>\n",
    "    </div>\n",
    "</div>"
   ]
  },
  {
   "cell_type": "markdown",
   "id": "b9879791-36dd-47be-9bd2-84f73fe605cc",
   "metadata": {
    "slideshow": {
     "slide_type": "skip"
    },
    "tags": []
   },
   "source": [
    "# Ley de los gases ideales"
   ]
  },
  {
   "cell_type": "raw",
   "id": "d956d30f-6fec-4118-835b-c71f32cedde2",
   "metadata": {
    "slideshow": {
     "slide_type": "slide"
    },
    "tags": []
   },
   "source": [
    "<div style=\"height:600px; border: 0px solid black\">\n",
    "    <!--- header -->\n",
    "\n",
    "    <div style=\"height:66px;\n",
    "                border: 0px solid black; \n",
    "                font-size:55px; \n",
    "                \">\n",
    "        Ley de los gases ideales\n",
    "    </div>\n",
    "\n",
    "    <!--- content -->\n",
    "    \n",
    "    <div style=\"margin: 0;\n",
    "                position: absolute;\n",
    "                top: 50%;\n",
    "                -ms-transform: translateY(-50%);\n",
    "                transform: translateY(-50%) translateY(40px);\n",
    "                width:100%;\n",
    "                font-size:22px;\n",
    "                \">\n",
    "        <p style=\"text-align:justify\">\n",
    "            La ley de los gases ideales corresponde a uno de los modelos más simples que describen la relación entre las propiedades termodinámicas de un fluido (en particular, un gas). Esta ecuación relaciona la densidad, presión y temperatura de un gas ideal, es decir un gas que: </p>\n",
    "\n",
    "        <ul style=\"text-align:justify\">\n",
    "            <li>\n",
    "                Está compuesto por partículas que no poseen volumen y se encuentran en constante movimiento\n",
    "            </li>\n",
    "            <li>\n",
    "                No posee interacciones intermoleculares y la colisión de partículas ocurre de manera elástica y sin pérdidas de energia.\n",
    "            </li>\n",
    "        </ul>\n",
    "\n",
    "        <p style=\"text-align:justify\">\n",
    "            Estos supuestos son muy restrictivos, por lo que ningún gas real se comporta exactamente como un gas ideal. Sin embargo, si este se encuentra a condiciones moderadas de presión y a altas temperatura, su comportamiento se aproxima al de esta sustancia idealizada (en especial si el gas en cuestión está compuesto por partículas monoatómicas).\n",
    "        </p>\n",
    "    </div>\n",
    "</div>"
   ]
  },
  {
   "cell_type": "raw",
   "id": "537354ee-140b-4a2e-ab0e-606bb569aa04",
   "metadata": {
    "slideshow": {
     "slide_type": "subslide"
    },
    "tags": []
   },
   "source": [
    "<div style=\"height:600px; border: 0px solid black\">\n",
    "    \n",
    "    \n",
    "    <div style=\"margin: 0;\n",
    "                position: absolute;\n",
    "                top: 50%;\n",
    "                -ms-transform: translateY(-50%);\n",
    "                transform: translateY(-50%) translateY(0px);\n",
    "                width:100%;\n",
    "                font-size:25px;\n",
    "                \">\n",
    "\n",
    "    <!--- header -->\n",
    "\n",
    "        <p style=\"font-size:55px; \n",
    "                    \">\n",
    "\n",
    "        </p>\n",
    "\n",
    "    <!--- content -->\n",
    "        <p style='text-align:justify;\n",
    "                      font-size:22px'>\n",
    "              La ley de los gases ideales está definida por la siguiente relación:\n",
    "\n",
    "$$p=\\rho R T$$\n",
    "\n",
    "donde $R$ corresponde a una constante particular a cada gas, la cual puede ser calculada a partir de una constante universal $R_u$ y la masa molar del gas $M_{gas}$:\n",
    "\n",
    "  $$\n",
    "R=\\frac{R_{u}}{M_{g a s}}\n",
    "$$\n",
    "\n",
    "con $R_{u}=8.314 \\frac{\\mathrm{J}}{\\mathrm{mol} \\cdot \\mathrm{K}}$        \n",
    "        </p>\n",
    "        \n",
    "    </div>\n",
    "</div>"
   ]
  }
 ],
 "metadata": {
  "VoilaConfiguration": {
   "file_whitelist": "['.*']"
  },
  "kernelspec": {
   "display_name": "Python 3 (ipykernel)",
   "language": "python",
   "name": "python3"
  },
  "language_info": {
   "codemirror_mode": {
    "name": "ipython",
    "version": 3
   },
   "file_extension": ".py",
   "mimetype": "text/x-python",
   "name": "python",
   "nbconvert_exporter": "python",
   "pygments_lexer": "ipython3",
   "version": "3.9.13"
  },
  "vscode": {
   "interpreter": {
    "hash": "7dc5d7343cfded89abdc523a01770a98d5d2ec6c452a7327dfc8e53335df01db"
   }
  },
  "widgets": {
   "application/vnd.jupyter.widget-state+json": {
    "state": {},
    "version_major": 2,
    "version_minor": 0
   }
  }
 },
 "nbformat": 4,
 "nbformat_minor": 5
}
